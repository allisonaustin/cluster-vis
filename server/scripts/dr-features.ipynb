{
 "cells": [
  {
   "cell_type": "code",
   "execution_count": 2,
   "metadata": {},
   "outputs": [
    {
     "data": {
      "text/html": [
       "<div>\n",
       "<style scoped>\n",
       "    .dataframe tbody tr th:only-of-type {\n",
       "        vertical-align: middle;\n",
       "    }\n",
       "\n",
       "    .dataframe tbody tr th {\n",
       "        vertical-align: top;\n",
       "    }\n",
       "\n",
       "    .dataframe thead th {\n",
       "        text-align: right;\n",
       "    }\n",
       "</style>\n",
       "<table border=\"1\" class=\"dataframe\">\n",
       "  <thead>\n",
       "    <tr style=\"text-align: right;\">\n",
       "      <th></th>\n",
       "      <th>timestamp</th>\n",
       "      <th>cpu_system</th>\n",
       "      <th>boottime</th>\n",
       "      <th>Pool Size Time_P1</th>\n",
       "      <th>mem_free</th>\n",
       "      <th>Missed Buffers_P1</th>\n",
       "      <th>bytes_out</th>\n",
       "      <th>cpu_user</th>\n",
       "      <th>cpu_idle</th>\n",
       "      <th>Pool Size Data_P1</th>\n",
       "      <th>...</th>\n",
       "      <th>RetransSegs_rate</th>\n",
       "      <th>TCPLostRetransmit_rate</th>\n",
       "      <th>TCPForwardRetrans_rate</th>\n",
       "      <th>TotalRetrans</th>\n",
       "      <th>TCPSlowStartRetrans</th>\n",
       "      <th>RPCRetrans</th>\n",
       "      <th>TCPFastRetrans</th>\n",
       "      <th>TCPLostRetransmit</th>\n",
       "      <th>TCPForwardRetrans</th>\n",
       "      <th>RetransSegs</th>\n",
       "    </tr>\n",
       "  </thead>\n",
       "  <tbody>\n",
       "    <tr>\n",
       "      <th>0</th>\n",
       "      <td>2024-02-21 05:36:00</td>\n",
       "      <td>2.100000</td>\n",
       "      <td>0.000000e+00</td>\n",
       "      <td>0.000000</td>\n",
       "      <td>0.0</td>\n",
       "      <td>0.0</td>\n",
       "      <td>0.0</td>\n",
       "      <td>1.006667</td>\n",
       "      <td>0.0</td>\n",
       "      <td>0.000000</td>\n",
       "      <td>...</td>\n",
       "      <td>0.0</td>\n",
       "      <td>0.0</td>\n",
       "      <td>0.0</td>\n",
       "      <td>0.0</td>\n",
       "      <td>0.0</td>\n",
       "      <td>0.0</td>\n",
       "      <td>0.0</td>\n",
       "      <td>0.0</td>\n",
       "      <td>0.0</td>\n",
       "      <td>0.0</td>\n",
       "    </tr>\n",
       "    <tr>\n",
       "      <th>1</th>\n",
       "      <td>2024-02-21 05:36:15</td>\n",
       "      <td>2.100000</td>\n",
       "      <td>0.000000e+00</td>\n",
       "      <td>2038.710000</td>\n",
       "      <td>0.0</td>\n",
       "      <td>0.0</td>\n",
       "      <td>0.0</td>\n",
       "      <td>1.300000</td>\n",
       "      <td>0.0</td>\n",
       "      <td>0.000000</td>\n",
       "      <td>...</td>\n",
       "      <td>0.0</td>\n",
       "      <td>0.0</td>\n",
       "      <td>0.0</td>\n",
       "      <td>0.0</td>\n",
       "      <td>0.0</td>\n",
       "      <td>0.0</td>\n",
       "      <td>0.0</td>\n",
       "      <td>0.0</td>\n",
       "      <td>0.0</td>\n",
       "      <td>0.0</td>\n",
       "    </tr>\n",
       "    <tr>\n",
       "      <th>2</th>\n",
       "      <td>2024-02-21 05:36:30</td>\n",
       "      <td>1.993333</td>\n",
       "      <td>0.000000e+00</td>\n",
       "      <td>2055.490000</td>\n",
       "      <td>0.0</td>\n",
       "      <td>0.0</td>\n",
       "      <td>0.0</td>\n",
       "      <td>1.300000</td>\n",
       "      <td>0.0</td>\n",
       "      <td>11795.033333</td>\n",
       "      <td>...</td>\n",
       "      <td>0.0</td>\n",
       "      <td>0.0</td>\n",
       "      <td>0.0</td>\n",
       "      <td>0.0</td>\n",
       "      <td>0.0</td>\n",
       "      <td>0.0</td>\n",
       "      <td>0.0</td>\n",
       "      <td>0.0</td>\n",
       "      <td>0.0</td>\n",
       "      <td>0.0</td>\n",
       "    </tr>\n",
       "    <tr>\n",
       "      <th>3</th>\n",
       "      <td>2024-02-21 05:36:45</td>\n",
       "      <td>1.806667</td>\n",
       "      <td>0.000000e+00</td>\n",
       "      <td>2049.026000</td>\n",
       "      <td>0.0</td>\n",
       "      <td>0.0</td>\n",
       "      <td>0.0</td>\n",
       "      <td>1.300000</td>\n",
       "      <td>0.0</td>\n",
       "      <td>11892.133333</td>\n",
       "      <td>...</td>\n",
       "      <td>0.0</td>\n",
       "      <td>0.0</td>\n",
       "      <td>0.0</td>\n",
       "      <td>0.0</td>\n",
       "      <td>0.0</td>\n",
       "      <td>0.0</td>\n",
       "      <td>0.0</td>\n",
       "      <td>0.0</td>\n",
       "      <td>0.0</td>\n",
       "      <td>0.0</td>\n",
       "    </tr>\n",
       "    <tr>\n",
       "      <th>4</th>\n",
       "      <td>2024-02-21 05:37:00</td>\n",
       "      <td>2.100000</td>\n",
       "      <td>1.705514e+09</td>\n",
       "      <td>2014.643333</td>\n",
       "      <td>0.0</td>\n",
       "      <td>0.0</td>\n",
       "      <td>0.0</td>\n",
       "      <td>1.110000</td>\n",
       "      <td>0.0</td>\n",
       "      <td>11854.600000</td>\n",
       "      <td>...</td>\n",
       "      <td>0.0</td>\n",
       "      <td>0.0</td>\n",
       "      <td>0.0</td>\n",
       "      <td>0.0</td>\n",
       "      <td>0.0</td>\n",
       "      <td>0.0</td>\n",
       "      <td>0.0</td>\n",
       "      <td>0.0</td>\n",
       "      <td>0.0</td>\n",
       "      <td>0.0</td>\n",
       "    </tr>\n",
       "  </tbody>\n",
       "</table>\n",
       "<p>5 rows × 48 columns</p>\n",
       "</div>"
      ],
      "text/plain": [
       "             timestamp  cpu_system      boottime  Pool Size Time_P1  mem_free  \\\n",
       "0  2024-02-21 05:36:00    2.100000  0.000000e+00           0.000000       0.0   \n",
       "1  2024-02-21 05:36:15    2.100000  0.000000e+00        2038.710000       0.0   \n",
       "2  2024-02-21 05:36:30    1.993333  0.000000e+00        2055.490000       0.0   \n",
       "3  2024-02-21 05:36:45    1.806667  0.000000e+00        2049.026000       0.0   \n",
       "4  2024-02-21 05:37:00    2.100000  1.705514e+09        2014.643333       0.0   \n",
       "\n",
       "   Missed Buffers_P1  bytes_out  cpu_user  cpu_idle  Pool Size Data_P1  ...  \\\n",
       "0                0.0        0.0  1.006667       0.0           0.000000  ...   \n",
       "1                0.0        0.0  1.300000       0.0           0.000000  ...   \n",
       "2                0.0        0.0  1.300000       0.0       11795.033333  ...   \n",
       "3                0.0        0.0  1.300000       0.0       11892.133333  ...   \n",
       "4                0.0        0.0  1.110000       0.0       11854.600000  ...   \n",
       "\n",
       "   RetransSegs_rate  TCPLostRetransmit_rate  TCPForwardRetrans_rate  \\\n",
       "0               0.0                     0.0                     0.0   \n",
       "1               0.0                     0.0                     0.0   \n",
       "2               0.0                     0.0                     0.0   \n",
       "3               0.0                     0.0                     0.0   \n",
       "4               0.0                     0.0                     0.0   \n",
       "\n",
       "   TotalRetrans  TCPSlowStartRetrans  RPCRetrans  TCPFastRetrans  \\\n",
       "0           0.0                  0.0         0.0             0.0   \n",
       "1           0.0                  0.0         0.0             0.0   \n",
       "2           0.0                  0.0         0.0             0.0   \n",
       "3           0.0                  0.0         0.0             0.0   \n",
       "4           0.0                  0.0         0.0             0.0   \n",
       "\n",
       "   TCPLostRetransmit  TCPForwardRetrans  RetransSegs  \n",
       "0                0.0                0.0          0.0  \n",
       "1                0.0                0.0          0.0  \n",
       "2                0.0                0.0          0.0  \n",
       "3                0.0                0.0          0.0  \n",
       "4                0.0                0.0          0.0  \n",
       "\n",
       "[5 rows x 48 columns]"
      ]
     },
     "execution_count": 2,
     "metadata": {},
     "output_type": "execute_result"
    }
   ],
   "source": [
    "import numpy as np\n",
    "import pandas as pd \n",
    "import plotly.express as px\n",
    "import json \n",
    "import os\n",
    "\n",
    "df_f = pd.read_csv('../data/farm/far_data_2024-02-21.csv').fillna(0.0)\n",
    "df_f.head()"
   ]
  },
  {
   "cell_type": "markdown",
   "metadata": {},
   "source": [
    "Dimensionality Reduction (DR) across feature domain, time domain"
   ]
  },
  {
   "cell_type": "code",
   "execution_count": 3,
   "metadata": {},
   "outputs": [],
   "source": [
    "from pygam import GAM, s\n",
    "from scipy.interpolate import BSpline, splrep, splev\n",
    "from sklearn.decomposition import PCA\n",
    "from sklearn.preprocessing import StandardScaler\n",
    "\n",
    "def preprocess(df, timestamp):\n",
    "    return df[df['timestamp']==timestamp].set_index('nodeId').drop(columns='timestamp')\n",
    "    \n",
    "# DR1: Applying PCA to each timestamp across features\n",
    "def apply_pca_to_time(ts, df):\n",
    "    try:\n",
    "        # pivot: rows -> features, columns -> nodeId\n",
    "        X = preprocess(df, ts)\n",
    "\n",
    "        # convert to cupy array\n",
    "        # baseline = cp.array(X.values)\n",
    "        baseline = X.values\n",
    "\n",
    "        # normalizing the data (demean)\n",
    "        mean_hat = baseline.mean(axis=0)\n",
    "        demeaned = baseline - mean_hat\n",
    "\n",
    "        # standardize\n",
    "        scaler = StandardScaler()\n",
    "        X_scaled = scaler.fit_transform(demeaned)\n",
    "\n",
    "        # if (X_scaled.shape[0] < 2 or np.all(np.isnan(X_scaled)) or np.all(X_scaled == 0)):\n",
    "        if X_scaled.shape[0] < 2 or np.all(np.isnan(X_scaled)):\n",
    "            print(f\"Skipping {ts} due to insufficient data variance.\")\n",
    "            return None\n",
    "\n",
    "        # apply PCA\n",
    "        pca = PCA(n_components=1)\n",
    "        scores = pca.fit_transform(X_scaled)\n",
    "\n",
    "        explained_variance_ratio_cumsum = np.cumsum(pca.explained_variance_ratio_)\n",
    "        npc = np.sum(explained_variance_ratio_cumsum < 0.9999) + 1\n",
    "        # print(f\"Number of principal components: {npc}\")\n",
    "        # print(f\"PC1:\",pca.components_[1], len(pca.components_[1]))\n",
    "        abs_comp = np.abs(pca.components_[0])\n",
    "        top_10 = np.argsort(abs_comp)[-10:][::-1]\n",
    "        # top 10 most influential features for this column\n",
    "        fc_f = X.columns[top_10]\n",
    "\n",
    "        P_fin = pd.DataFrame({f\"PC{k+1}\": scores[:, k] if k < npc else np.nan for k in range(1)})\n",
    "        P_fin['Measurement'] = X.index\n",
    "\n",
    "        fc_f_df = pd.DataFrame({'timestamp': ts, 'feature': fc_f})\n",
    "\n",
    "        # print(f\"{col_name} done...\")\n",
    "\n",
    "        return P_fin, fc_f_df\n",
    "\n",
    "    except Exception as e:\n",
    "        print(f\"Error processing PCA across features: {e}\")\n",
    "        return None"
   ]
  },
  {
   "cell_type": "markdown",
   "metadata": {},
   "source": [
    "Some timestamps only return one row (node)"
   ]
  },
  {
   "cell_type": "code",
   "execution_count": 3,
   "metadata": {},
   "outputs": [
    {
     "data": {
      "text/html": [
       "<div>\n",
       "<style scoped>\n",
       "    .dataframe tbody tr th:only-of-type {\n",
       "        vertical-align: middle;\n",
       "    }\n",
       "\n",
       "    .dataframe tbody tr th {\n",
       "        vertical-align: top;\n",
       "    }\n",
       "\n",
       "    .dataframe thead th {\n",
       "        text-align: right;\n",
       "    }\n",
       "</style>\n",
       "<table border=\"1\" class=\"dataframe\">\n",
       "  <thead>\n",
       "    <tr style=\"text-align: right;\">\n",
       "      <th></th>\n",
       "      <th>timestamp</th>\n",
       "      <th>cpu_system</th>\n",
       "      <th>boottime</th>\n",
       "      <th>Pool Size Time_P1</th>\n",
       "      <th>mem_free</th>\n",
       "      <th>Missed Buffers_P1</th>\n",
       "      <th>bytes_out</th>\n",
       "      <th>cpu_user</th>\n",
       "      <th>cpu_idle</th>\n",
       "      <th>Pool Size Data_P1</th>\n",
       "      <th>...</th>\n",
       "      <th>RetransSegs_rate</th>\n",
       "      <th>TCPLostRetransmit_rate</th>\n",
       "      <th>TCPForwardRetrans_rate</th>\n",
       "      <th>TotalRetrans</th>\n",
       "      <th>TCPSlowStartRetrans</th>\n",
       "      <th>RPCRetrans</th>\n",
       "      <th>TCPFastRetrans</th>\n",
       "      <th>TCPLostRetransmit</th>\n",
       "      <th>TCPForwardRetrans</th>\n",
       "      <th>RetransSegs</th>\n",
       "    </tr>\n",
       "  </thead>\n",
       "  <tbody>\n",
       "    <tr>\n",
       "      <th>4</th>\n",
       "      <td>2024-02-21 05:37:00</td>\n",
       "      <td>2.1</td>\n",
       "      <td>1.705514e+09</td>\n",
       "      <td>2014.643333</td>\n",
       "      <td>0.0</td>\n",
       "      <td>0.0</td>\n",
       "      <td>0.0</td>\n",
       "      <td>1.11</td>\n",
       "      <td>0.0</td>\n",
       "      <td>11854.6</td>\n",
       "      <td>...</td>\n",
       "      <td>0.0</td>\n",
       "      <td>0.0</td>\n",
       "      <td>0.0</td>\n",
       "      <td>0.0</td>\n",
       "      <td>0.0</td>\n",
       "      <td>0.0</td>\n",
       "      <td>0.0</td>\n",
       "      <td>0.0</td>\n",
       "      <td>0.0</td>\n",
       "      <td>0.0</td>\n",
       "    </tr>\n",
       "  </tbody>\n",
       "</table>\n",
       "<p>1 rows × 48 columns</p>\n",
       "</div>"
      ],
      "text/plain": [
       "             timestamp  cpu_system      boottime  Pool Size Time_P1  mem_free  \\\n",
       "4  2024-02-21 05:37:00         2.1  1.705514e+09        2014.643333       0.0   \n",
       "\n",
       "   Missed Buffers_P1  bytes_out  cpu_user  cpu_idle  Pool Size Data_P1  ...  \\\n",
       "4                0.0        0.0      1.11       0.0            11854.6  ...   \n",
       "\n",
       "   RetransSegs_rate  TCPLostRetransmit_rate  TCPForwardRetrans_rate  \\\n",
       "4               0.0                     0.0                     0.0   \n",
       "\n",
       "   TotalRetrans  TCPSlowStartRetrans  RPCRetrans  TCPFastRetrans  \\\n",
       "4           0.0                  0.0         0.0             0.0   \n",
       "\n",
       "   TCPLostRetransmit  TCPForwardRetrans  RetransSegs  \n",
       "4                0.0                0.0          0.0  \n",
       "\n",
       "[1 rows x 48 columns]"
      ]
     },
     "execution_count": 3,
     "metadata": {},
     "output_type": "execute_result"
    }
   ],
   "source": [
    "df_f[df_f['timestamp']=='2024-02-21 05:37:00']"
   ]
  },
  {
   "cell_type": "markdown",
   "metadata": {},
   "source": [
    "Only getting timestamps where we have readings from all 195 nodes"
   ]
  },
  {
   "cell_type": "code",
   "execution_count": 4,
   "metadata": {},
   "outputs": [
    {
     "name": "stdout",
     "output_type": "stream",
     "text": [
      "valid timestamps: 1890\n",
      "['2024-02-21 16:07:30' '2024-02-21 16:07:45' '2024-02-21 16:08:00' ...\n",
      " '2024-02-21 23:59:15' '2024-02-21 23:59:30' '2024-02-21 23:59:45']\n"
     ]
    }
   ],
   "source": [
    "num_nodes = 195\n",
    "valid_ts = valid_ts = df_f.groupby('timestamp').filter(lambda x: x['nodeId'].nunique() == num_nodes)['timestamp'].unique()\n",
    "print('valid timestamps:', len(valid_ts))\n",
    "print(valid_ts)"
   ]
  },
  {
   "cell_type": "markdown",
   "metadata": {},
   "source": [
    "DR1: Applying PCA across features for each timestamp"
   ]
  },
  {
   "cell_type": "code",
   "execution_count": 11,
   "metadata": {},
   "outputs": [],
   "source": [
    "from concurrent.futures import ThreadPoolExecutor\n",
    "\n",
    "P_final = []\n",
    "FC_final = []\n",
    "\n",
    "start_idx = int(len(valid_ts) * 0.3)\n",
    "end_idx = int(len(valid_ts) * 0.45)\n",
    "timestamps = valid_ts[start_idx:end_idx]\n",
    "\n",
    "def process_ts(ts):\n",
    "    try:\n",
    "        P_df, fc_f_df = apply_pca_to_time(ts, df_f)\n",
    "        \n",
    "        if P_df is not None:\n",
    "            P_df.insert(0, 'Col', ts) \n",
    "            P_final.append(P_df)\n",
    "\n",
    "        if fc_f_df is not None:\n",
    "            FC_final.append(fc_f_df)  \n",
    "        \n",
    "    except Exception as e:\n",
    "        print(f'Error processing {ts}: {e}')\n",
    "\n",
    "with ThreadPoolExecutor() as executer:\n",
    "    executer.map(process_ts, timestamps)\n",
    "\n",
    "# combining all results\n",
    "P_final = pd.concat(P_final, ignore_index=True) if P_final else pd.DataFrame()\n",
    "FC_final = pd.concat(FC_final, ignore_index=True) if FC_final else pd.DataFrame()"
   ]
  },
  {
   "cell_type": "code",
   "execution_count": 12,
   "metadata": {},
   "outputs": [
    {
     "data": {
      "text/html": [
       "<div>\n",
       "<style scoped>\n",
       "    .dataframe tbody tr th:only-of-type {\n",
       "        vertical-align: middle;\n",
       "    }\n",
       "\n",
       "    .dataframe tbody tr th {\n",
       "        vertical-align: top;\n",
       "    }\n",
       "\n",
       "    .dataframe thead th {\n",
       "        text-align: right;\n",
       "    }\n",
       "</style>\n",
       "<table border=\"1\" class=\"dataframe\">\n",
       "  <thead>\n",
       "    <tr style=\"text-align: right;\">\n",
       "      <th></th>\n",
       "      <th>Col</th>\n",
       "      <th>PC1</th>\n",
       "      <th>Measurement</th>\n",
       "    </tr>\n",
       "  </thead>\n",
       "  <tbody>\n",
       "    <tr>\n",
       "      <th>0</th>\n",
       "      <td>2024-02-21 18:30:15</td>\n",
       "      <td>13.595053</td>\n",
       "      <td>novadaq-far-farm-92</td>\n",
       "    </tr>\n",
       "    <tr>\n",
       "      <th>1</th>\n",
       "      <td>2024-02-21 18:30:15</td>\n",
       "      <td>-2.431512</td>\n",
       "      <td>novadaq-far-farm-184</td>\n",
       "    </tr>\n",
       "    <tr>\n",
       "      <th>2</th>\n",
       "      <td>2024-02-21 18:30:15</td>\n",
       "      <td>0.012991</td>\n",
       "      <td>novadaq-far-farm-160</td>\n",
       "    </tr>\n",
       "    <tr>\n",
       "      <th>3</th>\n",
       "      <td>2024-02-21 18:30:15</td>\n",
       "      <td>-0.329353</td>\n",
       "      <td>novadaq-far-farm-70</td>\n",
       "    </tr>\n",
       "    <tr>\n",
       "      <th>4</th>\n",
       "      <td>2024-02-21 18:30:15</td>\n",
       "      <td>0.391004</td>\n",
       "      <td>novadaq-far-farm-185</td>\n",
       "    </tr>\n",
       "    <tr>\n",
       "      <th>...</th>\n",
       "      <td>...</td>\n",
       "      <td>...</td>\n",
       "      <td>...</td>\n",
       "    </tr>\n",
       "    <tr>\n",
       "      <th>55180</th>\n",
       "      <td>2024-02-21 19:38:45</td>\n",
       "      <td>5.356843</td>\n",
       "      <td>novadaq-far-farm-92</td>\n",
       "    </tr>\n",
       "    <tr>\n",
       "      <th>55181</th>\n",
       "      <td>2024-02-21 19:38:45</td>\n",
       "      <td>-3.186326</td>\n",
       "      <td>novadaq-far-farm-185</td>\n",
       "    </tr>\n",
       "    <tr>\n",
       "      <th>55182</th>\n",
       "      <td>2024-02-21 19:38:45</td>\n",
       "      <td>-1.176038</td>\n",
       "      <td>novadaq-far-farm-193</td>\n",
       "    </tr>\n",
       "    <tr>\n",
       "      <th>55183</th>\n",
       "      <td>2024-02-21 19:38:45</td>\n",
       "      <td>4.609285</td>\n",
       "      <td>novadaq-far-farm-164</td>\n",
       "    </tr>\n",
       "    <tr>\n",
       "      <th>55184</th>\n",
       "      <td>2024-02-21 19:38:45</td>\n",
       "      <td>2.170767</td>\n",
       "      <td>novadaq-far-farm-107</td>\n",
       "    </tr>\n",
       "  </tbody>\n",
       "</table>\n",
       "<p>55185 rows × 3 columns</p>\n",
       "</div>"
      ],
      "text/plain": [
       "                       Col        PC1           Measurement\n",
       "0      2024-02-21 18:30:15  13.595053   novadaq-far-farm-92\n",
       "1      2024-02-21 18:30:15  -2.431512  novadaq-far-farm-184\n",
       "2      2024-02-21 18:30:15   0.012991  novadaq-far-farm-160\n",
       "3      2024-02-21 18:30:15  -0.329353   novadaq-far-farm-70\n",
       "4      2024-02-21 18:30:15   0.391004  novadaq-far-farm-185\n",
       "...                    ...        ...                   ...\n",
       "55180  2024-02-21 19:38:45   5.356843   novadaq-far-farm-92\n",
       "55181  2024-02-21 19:38:45  -3.186326  novadaq-far-farm-185\n",
       "55182  2024-02-21 19:38:45  -1.176038  novadaq-far-farm-193\n",
       "55183  2024-02-21 19:38:45   4.609285  novadaq-far-farm-164\n",
       "55184  2024-02-21 19:38:45   2.170767  novadaq-far-farm-107\n",
       "\n",
       "[55185 rows x 3 columns]"
      ]
     },
     "execution_count": 12,
     "metadata": {},
     "output_type": "execute_result"
    }
   ],
   "source": [
    "P_final"
   ]
  },
  {
   "cell_type": "code",
   "execution_count": 13,
   "metadata": {},
   "outputs": [
    {
     "data": {
      "text/html": [
       "<div>\n",
       "<style scoped>\n",
       "    .dataframe tbody tr th:only-of-type {\n",
       "        vertical-align: middle;\n",
       "    }\n",
       "\n",
       "    .dataframe tbody tr th {\n",
       "        vertical-align: top;\n",
       "    }\n",
       "\n",
       "    .dataframe thead th {\n",
       "        text-align: right;\n",
       "    }\n",
       "</style>\n",
       "<table border=\"1\" class=\"dataframe\">\n",
       "  <thead>\n",
       "    <tr style=\"text-align: right;\">\n",
       "      <th></th>\n",
       "      <th>timestamp</th>\n",
       "      <th>feature</th>\n",
       "    </tr>\n",
       "  </thead>\n",
       "  <tbody>\n",
       "    <tr>\n",
       "      <th>0</th>\n",
       "      <td>2024-02-21 18:30:15</td>\n",
       "      <td>cpu_idle</td>\n",
       "    </tr>\n",
       "    <tr>\n",
       "      <th>1</th>\n",
       "      <td>2024-02-21 18:30:15</td>\n",
       "      <td>boottime</td>\n",
       "    </tr>\n",
       "    <tr>\n",
       "      <th>2</th>\n",
       "      <td>2024-02-21 18:30:15</td>\n",
       "      <td>part_max_used</td>\n",
       "    </tr>\n",
       "    <tr>\n",
       "      <th>3</th>\n",
       "      <td>2024-02-21 18:30:15</td>\n",
       "      <td>cpu_speed</td>\n",
       "    </tr>\n",
       "    <tr>\n",
       "      <th>4</th>\n",
       "      <td>2024-02-21 18:30:15</td>\n",
       "      <td>mem_cached</td>\n",
       "    </tr>\n",
       "    <tr>\n",
       "      <th>5</th>\n",
       "      <td>2024-02-21 18:30:15</td>\n",
       "      <td>proc_total</td>\n",
       "    </tr>\n",
       "    <tr>\n",
       "      <th>6</th>\n",
       "      <td>2024-02-21 18:30:15</td>\n",
       "      <td>mem_total</td>\n",
       "    </tr>\n",
       "    <tr>\n",
       "      <th>7</th>\n",
       "      <td>2024-02-21 18:30:15</td>\n",
       "      <td>mem_free</td>\n",
       "    </tr>\n",
       "    <tr>\n",
       "      <th>8</th>\n",
       "      <td>2024-02-21 18:30:15</td>\n",
       "      <td>disk_total</td>\n",
       "    </tr>\n",
       "    <tr>\n",
       "      <th>9</th>\n",
       "      <td>2024-02-21 18:30:15</td>\n",
       "      <td>cpu_aidle</td>\n",
       "    </tr>\n",
       "    <tr>\n",
       "      <th>10</th>\n",
       "      <td>2024-02-21 18:30:30</td>\n",
       "      <td>cpu_idle</td>\n",
       "    </tr>\n",
       "    <tr>\n",
       "      <th>11</th>\n",
       "      <td>2024-02-21 18:30:30</td>\n",
       "      <td>boottime</td>\n",
       "    </tr>\n",
       "    <tr>\n",
       "      <th>12</th>\n",
       "      <td>2024-02-21 18:30:30</td>\n",
       "      <td>part_max_used</td>\n",
       "    </tr>\n",
       "    <tr>\n",
       "      <th>13</th>\n",
       "      <td>2024-02-21 18:30:30</td>\n",
       "      <td>cpu_speed</td>\n",
       "    </tr>\n",
       "    <tr>\n",
       "      <th>14</th>\n",
       "      <td>2024-02-21 18:30:30</td>\n",
       "      <td>mem_cached</td>\n",
       "    </tr>\n",
       "    <tr>\n",
       "      <th>15</th>\n",
       "      <td>2024-02-21 18:30:30</td>\n",
       "      <td>proc_total</td>\n",
       "    </tr>\n",
       "    <tr>\n",
       "      <th>16</th>\n",
       "      <td>2024-02-21 18:30:30</td>\n",
       "      <td>mem_total</td>\n",
       "    </tr>\n",
       "    <tr>\n",
       "      <th>17</th>\n",
       "      <td>2024-02-21 18:30:30</td>\n",
       "      <td>mem_free</td>\n",
       "    </tr>\n",
       "    <tr>\n",
       "      <th>18</th>\n",
       "      <td>2024-02-21 18:30:30</td>\n",
       "      <td>disk_total</td>\n",
       "    </tr>\n",
       "    <tr>\n",
       "      <th>19</th>\n",
       "      <td>2024-02-21 18:30:30</td>\n",
       "      <td>cpu_aidle</td>\n",
       "    </tr>\n",
       "  </tbody>\n",
       "</table>\n",
       "</div>"
      ],
      "text/plain": [
       "              timestamp        feature\n",
       "0   2024-02-21 18:30:15       cpu_idle\n",
       "1   2024-02-21 18:30:15       boottime\n",
       "2   2024-02-21 18:30:15  part_max_used\n",
       "3   2024-02-21 18:30:15      cpu_speed\n",
       "4   2024-02-21 18:30:15     mem_cached\n",
       "5   2024-02-21 18:30:15     proc_total\n",
       "6   2024-02-21 18:30:15      mem_total\n",
       "7   2024-02-21 18:30:15       mem_free\n",
       "8   2024-02-21 18:30:15     disk_total\n",
       "9   2024-02-21 18:30:15      cpu_aidle\n",
       "10  2024-02-21 18:30:30       cpu_idle\n",
       "11  2024-02-21 18:30:30       boottime\n",
       "12  2024-02-21 18:30:30  part_max_used\n",
       "13  2024-02-21 18:30:30      cpu_speed\n",
       "14  2024-02-21 18:30:30     mem_cached\n",
       "15  2024-02-21 18:30:30     proc_total\n",
       "16  2024-02-21 18:30:30      mem_total\n",
       "17  2024-02-21 18:30:30       mem_free\n",
       "18  2024-02-21 18:30:30     disk_total\n",
       "19  2024-02-21 18:30:30      cpu_aidle"
      ]
     },
     "execution_count": 13,
     "metadata": {},
     "output_type": "execute_result"
    }
   ],
   "source": [
    "FC_final.head(20)"
   ]
  },
  {
   "cell_type": "code",
   "execution_count": 22,
   "metadata": {},
   "outputs": [],
   "source": [
    "FC_final.to_csv('FC_final.csv')"
   ]
  },
  {
   "cell_type": "code",
   "execution_count": 16,
   "metadata": {},
   "outputs": [],
   "source": [
    "P_final.to_csv('P_final2.csv')"
   ]
  },
  {
   "cell_type": "markdown",
   "metadata": {},
   "source": [
    "Second step DR: UMAP"
   ]
  },
  {
   "cell_type": "code",
   "execution_count": 14,
   "metadata": {},
   "outputs": [
    {
     "name": "stderr",
     "output_type": "stream",
     "text": [
      "/Users/allison/anaconda3/envs/myenv/lib/python3.9/site-packages/tqdm/auto.py:21: TqdmWarning: IProgress not found. Please update jupyter and ipywidgets. See https://ipywidgets.readthedocs.io/en/stable/user_install.html\n",
      "  from .autonotebook import tqdm as notebook_tqdm\n",
      "/Users/allison/anaconda3/envs/myenv/lib/python3.9/site-packages/umap/umap_.py:1943: UserWarning: n_jobs value -1 overridden to 1 by setting random_state. Use no seed for parallelism.\n",
      "  warn(f\"n_jobs value {self.n_jobs} overridden to 1 by setting random_state. Use no seed for parallelism.\")\n"
     ]
    },
    {
     "data": {
      "application/vnd.plotly.v1+json": {
       "config": {
        "plotlyServerURL": "https://plot.ly"
       },
       "data": [
        {
         "customdata": [
          [
           "novadaq-far-farm-06"
          ],
          [
           "novadaq-far-farm-07"
          ],
          [
           "novadaq-far-farm-08"
          ],
          [
           "novadaq-far-farm-09"
          ],
          [
           "novadaq-far-farm-10"
          ],
          [
           "novadaq-far-farm-100"
          ],
          [
           "novadaq-far-farm-101"
          ],
          [
           "novadaq-far-farm-102"
          ],
          [
           "novadaq-far-farm-103"
          ],
          [
           "novadaq-far-farm-104"
          ],
          [
           "novadaq-far-farm-105"
          ],
          [
           "novadaq-far-farm-106"
          ],
          [
           "novadaq-far-farm-107"
          ],
          [
           "novadaq-far-farm-108"
          ],
          [
           "novadaq-far-farm-109"
          ],
          [
           "novadaq-far-farm-11"
          ],
          [
           "novadaq-far-farm-110"
          ],
          [
           "novadaq-far-farm-111"
          ],
          [
           "novadaq-far-farm-112"
          ],
          [
           "novadaq-far-farm-113"
          ],
          [
           "novadaq-far-farm-114"
          ],
          [
           "novadaq-far-farm-115"
          ],
          [
           "novadaq-far-farm-116"
          ],
          [
           "novadaq-far-farm-117"
          ],
          [
           "novadaq-far-farm-118"
          ],
          [
           "novadaq-far-farm-119"
          ],
          [
           "novadaq-far-farm-12"
          ],
          [
           "novadaq-far-farm-120"
          ],
          [
           "novadaq-far-farm-121"
          ],
          [
           "novadaq-far-farm-122"
          ],
          [
           "novadaq-far-farm-123"
          ],
          [
           "novadaq-far-farm-124"
          ],
          [
           "novadaq-far-farm-125"
          ],
          [
           "novadaq-far-farm-126"
          ],
          [
           "novadaq-far-farm-127"
          ],
          [
           "novadaq-far-farm-128"
          ],
          [
           "novadaq-far-farm-129"
          ],
          [
           "novadaq-far-farm-13"
          ],
          [
           "novadaq-far-farm-130"
          ],
          [
           "novadaq-far-farm-131"
          ],
          [
           "novadaq-far-farm-132"
          ],
          [
           "novadaq-far-farm-133"
          ],
          [
           "novadaq-far-farm-134"
          ],
          [
           "novadaq-far-farm-135"
          ],
          [
           "novadaq-far-farm-136"
          ],
          [
           "novadaq-far-farm-137"
          ],
          [
           "novadaq-far-farm-138"
          ],
          [
           "novadaq-far-farm-139"
          ],
          [
           "novadaq-far-farm-14"
          ],
          [
           "novadaq-far-farm-140"
          ],
          [
           "novadaq-far-farm-141"
          ],
          [
           "novadaq-far-farm-142"
          ],
          [
           "novadaq-far-farm-143"
          ],
          [
           "novadaq-far-farm-144"
          ],
          [
           "novadaq-far-farm-145"
          ],
          [
           "novadaq-far-farm-146"
          ],
          [
           "novadaq-far-farm-147"
          ],
          [
           "novadaq-far-farm-148"
          ],
          [
           "novadaq-far-farm-149"
          ],
          [
           "novadaq-far-farm-15"
          ],
          [
           "novadaq-far-farm-150"
          ],
          [
           "novadaq-far-farm-151"
          ],
          [
           "novadaq-far-farm-152"
          ],
          [
           "novadaq-far-farm-153"
          ],
          [
           "novadaq-far-farm-154"
          ],
          [
           "novadaq-far-farm-155"
          ],
          [
           "novadaq-far-farm-156"
          ],
          [
           "novadaq-far-farm-157"
          ],
          [
           "novadaq-far-farm-158"
          ],
          [
           "novadaq-far-farm-159"
          ],
          [
           "novadaq-far-farm-16"
          ],
          [
           "novadaq-far-farm-160"
          ],
          [
           "novadaq-far-farm-161"
          ],
          [
           "novadaq-far-farm-162"
          ],
          [
           "novadaq-far-farm-163"
          ],
          [
           "novadaq-far-farm-164"
          ],
          [
           "novadaq-far-farm-165"
          ],
          [
           "novadaq-far-farm-166"
          ],
          [
           "novadaq-far-farm-167"
          ],
          [
           "novadaq-far-farm-168"
          ],
          [
           "novadaq-far-farm-169"
          ],
          [
           "novadaq-far-farm-17"
          ],
          [
           "novadaq-far-farm-170"
          ],
          [
           "novadaq-far-farm-171"
          ],
          [
           "novadaq-far-farm-172"
          ],
          [
           "novadaq-far-farm-173"
          ],
          [
           "novadaq-far-farm-174"
          ],
          [
           "novadaq-far-farm-175"
          ],
          [
           "novadaq-far-farm-176"
          ],
          [
           "novadaq-far-farm-177"
          ],
          [
           "novadaq-far-farm-178"
          ],
          [
           "novadaq-far-farm-179"
          ],
          [
           "novadaq-far-farm-18"
          ],
          [
           "novadaq-far-farm-180"
          ],
          [
           "novadaq-far-farm-181"
          ],
          [
           "novadaq-far-farm-182"
          ],
          [
           "novadaq-far-farm-183"
          ],
          [
           "novadaq-far-farm-184"
          ],
          [
           "novadaq-far-farm-185"
          ],
          [
           "novadaq-far-farm-186"
          ],
          [
           "novadaq-far-farm-187"
          ],
          [
           "novadaq-far-farm-188"
          ],
          [
           "novadaq-far-farm-189"
          ],
          [
           "novadaq-far-farm-19"
          ],
          [
           "novadaq-far-farm-190"
          ],
          [
           "novadaq-far-farm-191"
          ],
          [
           "novadaq-far-farm-192"
          ],
          [
           "novadaq-far-farm-193"
          ],
          [
           "novadaq-far-farm-194"
          ],
          [
           "novadaq-far-farm-195"
          ],
          [
           "novadaq-far-farm-196"
          ],
          [
           "novadaq-far-farm-197"
          ],
          [
           "novadaq-far-farm-198"
          ],
          [
           "novadaq-far-farm-199"
          ],
          [
           "novadaq-far-farm-20"
          ],
          [
           "novadaq-far-farm-200"
          ],
          [
           "novadaq-far-farm-21"
          ],
          [
           "novadaq-far-farm-22"
          ],
          [
           "novadaq-far-farm-23"
          ],
          [
           "novadaq-far-farm-24"
          ],
          [
           "novadaq-far-farm-25"
          ],
          [
           "novadaq-far-farm-26"
          ],
          [
           "novadaq-far-farm-27"
          ],
          [
           "novadaq-far-farm-28"
          ],
          [
           "novadaq-far-farm-29"
          ],
          [
           "novadaq-far-farm-30"
          ],
          [
           "novadaq-far-farm-31"
          ],
          [
           "novadaq-far-farm-32"
          ],
          [
           "novadaq-far-farm-33"
          ],
          [
           "novadaq-far-farm-34"
          ],
          [
           "novadaq-far-farm-35"
          ],
          [
           "novadaq-far-farm-36"
          ],
          [
           "novadaq-far-farm-37"
          ],
          [
           "novadaq-far-farm-38"
          ],
          [
           "novadaq-far-farm-39"
          ],
          [
           "novadaq-far-farm-40"
          ],
          [
           "novadaq-far-farm-41"
          ],
          [
           "novadaq-far-farm-42"
          ],
          [
           "novadaq-far-farm-43"
          ],
          [
           "novadaq-far-farm-44"
          ],
          [
           "novadaq-far-farm-45"
          ],
          [
           "novadaq-far-farm-46"
          ],
          [
           "novadaq-far-farm-47"
          ],
          [
           "novadaq-far-farm-48"
          ],
          [
           "novadaq-far-farm-49"
          ],
          [
           "novadaq-far-farm-50"
          ],
          [
           "novadaq-far-farm-51"
          ],
          [
           "novadaq-far-farm-52"
          ],
          [
           "novadaq-far-farm-53"
          ],
          [
           "novadaq-far-farm-54"
          ],
          [
           "novadaq-far-farm-55"
          ],
          [
           "novadaq-far-farm-56"
          ],
          [
           "novadaq-far-farm-57"
          ],
          [
           "novadaq-far-farm-58"
          ],
          [
           "novadaq-far-farm-59"
          ],
          [
           "novadaq-far-farm-60"
          ],
          [
           "novadaq-far-farm-61"
          ],
          [
           "novadaq-far-farm-62"
          ],
          [
           "novadaq-far-farm-63"
          ],
          [
           "novadaq-far-farm-64"
          ],
          [
           "novadaq-far-farm-65"
          ],
          [
           "novadaq-far-farm-66"
          ],
          [
           "novadaq-far-farm-67"
          ],
          [
           "novadaq-far-farm-68"
          ],
          [
           "novadaq-far-farm-69"
          ],
          [
           "novadaq-far-farm-70"
          ],
          [
           "novadaq-far-farm-71"
          ],
          [
           "novadaq-far-farm-72"
          ],
          [
           "novadaq-far-farm-73"
          ],
          [
           "novadaq-far-farm-74"
          ],
          [
           "novadaq-far-farm-75"
          ],
          [
           "novadaq-far-farm-76"
          ],
          [
           "novadaq-far-farm-77"
          ],
          [
           "novadaq-far-farm-78"
          ],
          [
           "novadaq-far-farm-79"
          ],
          [
           "novadaq-far-farm-80"
          ],
          [
           "novadaq-far-farm-81"
          ],
          [
           "novadaq-far-farm-82"
          ],
          [
           "novadaq-far-farm-83"
          ],
          [
           "novadaq-far-farm-84"
          ],
          [
           "novadaq-far-farm-85"
          ],
          [
           "novadaq-far-farm-86"
          ],
          [
           "novadaq-far-farm-87"
          ],
          [
           "novadaq-far-farm-88"
          ],
          [
           "novadaq-far-farm-89"
          ],
          [
           "novadaq-far-farm-90"
          ],
          [
           "novadaq-far-farm-91"
          ],
          [
           "novadaq-far-farm-92"
          ],
          [
           "novadaq-far-farm-93"
          ],
          [
           "novadaq-far-farm-94"
          ],
          [
           "novadaq-far-farm-95"
          ],
          [
           "novadaq-far-farm-96"
          ],
          [
           "novadaq-far-farm-97"
          ],
          [
           "novadaq-far-farm-98"
          ],
          [
           "novadaq-far-farm-99"
          ]
         ],
         "hovertemplate": "UMAP1=%{x}<br>UMAP2=%{y}<br>nodeId=%{customdata[0]}<extra></extra>",
         "legendgroup": "",
         "marker": {
          "color": "#636efa",
          "symbol": "circle"
         },
         "mode": "markers",
         "name": "",
         "orientation": "v",
         "showlegend": false,
         "type": "scatter",
         "x": [
          14.855692863464355,
          14.707959175109863,
          14.768608093261719,
          14.77260684967041,
          14.594674110412598,
          16.733753204345703,
          15.675145149230957,
          16.832393646240234,
          16.665170669555664,
          15.061861038208008,
          4.2055134773254395,
          3.939310312271118,
          3.9779114723205566,
          3.9703099727630615,
          3.6322181224823,
          12.02217960357666,
          4.163588523864746,
          4.022774696350098,
          3.6852517127990723,
          17.09626579284668,
          15.670149803161621,
          13.314745903015137,
          15.822257995605469,
          17.257740020751953,
          16.68053436279297,
          16.491268157958984,
          -10.42889404296875,
          17.226781845092773,
          15.487404823303223,
          15.131573677062988,
          15.726207733154297,
          15.755257606506348,
          10.680647850036621,
          10.044604301452637,
          10.434804916381836,
          9.111405372619629,
          9.72590446472168,
          13.206686973571777,
          5.5391154289245605,
          5.534003257751465,
          9.559314727783203,
          5.4774885177612305,
          10.885310173034668,
          10.305516242980957,
          10.295638084411621,
          16.604326248168945,
          9.325394630432129,
          10.725080490112305,
          11.863157272338867,
          10.309279441833496,
          10.858443260192871,
          5.475350379943848,
          10.663185119628906,
          10.656187057495117,
          13.268542289733887,
          9.713374137878418,
          11.082417488098145,
          11.034214973449707,
          12.61938190460205,
          12.153822898864746,
          -10.468846321105957,
          10.805335998535156,
          10.883867263793945,
          10.255362510681152,
          9.911110877990723,
          11.048407554626465,
          9.393513679504395,
          9.529290199279785,
          10.344974517822266,
          10.222363471984863,
          -10.489880561828613,
          10.07677936553955,
          9.020710945129395,
          10.13323974609375,
          10.123826026916504,
          -10.389141082763672,
          5.6842756271362305,
          11.136270523071289,
          10.209175109863281,
          12.673361778259277,
          10.524344444274902,
          12.838065147399902,
          -10.362682342529297,
          9.510624885559082,
          11.152274131774902,
          11.19969654083252,
          9.366646766662598,
          10.111400604248047,
          10.075736045837402,
          10.344517707824707,
          10.188806533813477,
          9.10388469696045,
          12.798632621765137,
          -10.298437118530273,
          -10.620665550231934,
          10.135049819946289,
          10.664917945861816,
          -10.212743759155273,
          9.857439041137695,
          9.956131935119629,
          9.557915687561035,
          10.474198341369629,
          -10.482452392578125,
          13.379447937011719,
          12.282410621643066,
          9.966282844543457,
          9.728694915771484,
          9.218842506408691,
          9.7737455368042,
          10.046515464782715,
          9.60339641571045,
          15.579691886901855,
          4.059166431427002,
          15.903973579406738,
          -10.330451965332031,
          16.18528938293457,
          9.001598358154297,
          12.288412094116211,
          13.04645824432373,
          12.629137992858887,
          12.41999626159668,
          15.296022415161133,
          12.403802871704102,
          -10.662205696105957,
          12.873212814331055,
          13.27149772644043,
          12.39536190032959,
          12.434144020080566,
          12.798335075378418,
          16.309633255004883,
          -10.582863807678223,
          12.969636917114258,
          13.170583724975586,
          12.730966567993164,
          12.159385681152344,
          12.88573932647705,
          12.382824897766113,
          13.382275581359863,
          12.150196075439453,
          13.152471542358398,
          12.50273609161377,
          13.13542366027832,
          12.545122146606445,
          12.775163650512695,
          12.846879005432129,
          13.030901908874512,
          15.689391136169434,
          12.79530143737793,
          17.14435386657715,
          15.858223915100098,
          16.308326721191406,
          12.916335105895996,
          16.81671905517578,
          17.399728775024414,
          -10.637848854064941,
          16.324411392211914,
          5.582083702087402,
          15.342833518981934,
          15.697661399841309,
          15.821269989013672,
          4.1807541847229,
          4.191331386566162,
          3.6616220474243164,
          3.7943363189697266,
          4.142955303192139,
          4.1060309410095215,
          3.786533832550049,
          3.854102373123169,
          17.098926544189453,
          13.129657745361328,
          15.650251388549805,
          16.96658706665039,
          15.375840187072754,
          5.588560581207275,
          17.44129753112793,
          16.506101608276367,
          15.943984985351562,
          16.423677444458008,
          15.896647453308105,
          12.707568168640137,
          13.099392890930176,
          16.387531280517578,
          13.076741218566895,
          15.80893611907959,
          16.15148162841797,
          16.92567253112793,
          16.501529693603516,
          5.396900653839111,
          3.8822426795959473,
          3.565256357192993,
          3.7082347869873047,
          3.99442195892334,
          16.728778839111328,
          15.38345718383789,
          16.689186096191406
         ],
         "xaxis": "x",
         "y": [
          7.5942463874816895,
          7.418636322021484,
          7.510266304016113,
          7.504114151000977,
          7.033092498779297,
          7.22335958480835,
          7.565855979919434,
          7.443196773529053,
          7.6866044998168945,
          7.723238945007324,
          19.37181282043457,
          19.0894718170166,
          19.370208740234375,
          19.007179260253906,
          19.192222595214844,
          -2.989900827407837,
          19.425132751464844,
          19.273880004882812,
          19.034791946411133,
          7.831938743591309,
          7.849388599395752,
          -3.0167465209960938,
          8.333374977111816,
          7.665196418762207,
          8.124646186828613,
          8.359489440917969,
          9.307291984558105,
          7.938931941986084,
          7.799241065979004,
          7.958862781524658,
          8.250045776367188,
          7.673040866851807,
          -0.38202226161956787,
          0.6078332662582397,
          -1.3266810178756714,
          -0.02453652210533619,
          -0.028001468628644943,
          -3.1810882091522217,
          4.117733001708984,
          4.122791767120361,
          0.6206352114677429,
          4.179390907287598,
          -0.48334917426109314,
          0.8001453876495361,
          0.35348549485206604,
          7.530577659606934,
          0.23207058012485504,
          -0.9517937302589417,
          -3.3053414821624756,
          -0.23391792178153992,
          -0.15536484122276306,
          4.181463718414307,
          -0.6785565614700317,
          -0.1340048760175705,
          -1.858878254890442,
          -0.7686352133750916,
          0.29020556807518005,
          0.35405993461608887,
          -2.8449995517730713,
          -3.6407833099365234,
          9.409268379211426,
          0.12128759920597076,
          -1.1747925281524658,
          0.7218784093856812,
          -0.2860753834247589,
          0.029939506202936172,
          0.405620813369751,
          0.7598429918289185,
          -0.284319669008255,
          -0.7056432366371155,
          9.51814079284668,
          0.015534382313489914,
          0.21969309449195862,
          -0.8931360840797424,
          -1.0003719329833984,
          9.48127269744873,
          3.969841480255127,
          0.20642036199569702,
          -1.1280487775802612,
          -1.5060075521469116,
          -1.0414373874664307,
          -2.0781774520874023,
          9.164838790893555,
          0.3315884470939636,
          0.27775242924690247,
          -0.22810132801532745,
          0.7257766723632812,
          0.47207656502723694,
          0.8325065970420837,
          0.4371725022792816,
          -0.9958823323249817,
          0.028809886425733566,
          -3.8025386333465576,
          9.320343971252441,
          9.197813034057617,
          0.2937472462654114,
          -0.438942551612854,
          9.562919616699219,
          -0.20599614083766937,
          -0.19529865682125092,
          0.42769452929496765,
          0.2265520840883255,
          9.451526641845703,
          -2.88606858253479,
          -2.640845775604248,
          0.24311257898807526,
          0.4555005729198456,
          0.5794171690940857,
          0.8951871395111084,
          -0.6179700493812561,
          0.34800589084625244,
          7.312409400939941,
          19.54408836364746,
          8.157818794250488,
          9.36986255645752,
          7.461521148681641,
          -0.0767507553100586,
          -3.170325517654419,
          -2.2575645446777344,
          -2.7462079524993896,
          -3.408302068710327,
          7.389088153839111,
          -3.707069158554077,
          9.222765922546387,
          -2.738219976425171,
          -2.7554173469543457,
          -3.190178155899048,
          -3.461181163787842,
          -2.782393455505371,
          7.375765323638916,
          9.263398170471191,
          -2.0229403972625732,
          -3.1739892959594727,
          -3.2612998485565186,
          -2.9849886894226074,
          -2.8982748985290527,
          -2.8445773124694824,
          -2.6904687881469727,
          -3.200857639312744,
          -3.287539005279541,
          -2.9210422039031982,
          -2.1316020488739014,
          -3.410911798477173,
          -2.51931095123291,
          -2.531790256500244,
          -3.6001994609832764,
          7.450457572937012,
          -3.105800151824951,
          7.613547325134277,
          7.649442195892334,
          8.28916072845459,
          -3.3430771827697754,
          7.23178768157959,
          7.803262710571289,
          9.544751167297363,
          7.717862129211426,
          4.074978351593018,
          7.804658889770508,
          7.390284538269043,
          7.252721786499023,
          19.237760543823242,
          18.973604202270508,
          18.76407814025879,
          19.091506958007812,
          19.086824417114258,
          18.866724014282227,
          19.1483097076416,
          18.972885131835938,
          7.425255298614502,
          -1.7377454042434692,
          8.273432731628418,
          7.413480758666992,
          7.663032054901123,
          4.0676774978637695,
          7.467569351196289,
          8.075996398925781,
          8.012930870056152,
          8.435569763183594,
          7.706981658935547,
          -3.9082911014556885,
          -3.769470691680908,
          8.400260925292969,
          -3.7593061923980713,
          8.299848556518555,
          7.512111663818359,
          7.362699508666992,
          7.434514045715332,
          4.25963020324707,
          18.916093826293945,
          18.962512969970703,
          19.32514190673828,
          18.785682678222656,
          7.221317768096924,
          8.083878517150879,
          7.601019859313965
         ],
         "yaxis": "y"
        }
       ],
       "layout": {
        "legend": {
         "tracegroupgap": 0
        },
        "margin": {
         "t": 60
        },
        "template": {
         "data": {
          "bar": [
           {
            "error_x": {
             "color": "#2a3f5f"
            },
            "error_y": {
             "color": "#2a3f5f"
            },
            "marker": {
             "line": {
              "color": "#E5ECF6",
              "width": 0.5
             },
             "pattern": {
              "fillmode": "overlay",
              "size": 10,
              "solidity": 0.2
             }
            },
            "type": "bar"
           }
          ],
          "barpolar": [
           {
            "marker": {
             "line": {
              "color": "#E5ECF6",
              "width": 0.5
             },
             "pattern": {
              "fillmode": "overlay",
              "size": 10,
              "solidity": 0.2
             }
            },
            "type": "barpolar"
           }
          ],
          "carpet": [
           {
            "aaxis": {
             "endlinecolor": "#2a3f5f",
             "gridcolor": "white",
             "linecolor": "white",
             "minorgridcolor": "white",
             "startlinecolor": "#2a3f5f"
            },
            "baxis": {
             "endlinecolor": "#2a3f5f",
             "gridcolor": "white",
             "linecolor": "white",
             "minorgridcolor": "white",
             "startlinecolor": "#2a3f5f"
            },
            "type": "carpet"
           }
          ],
          "choropleth": [
           {
            "colorbar": {
             "outlinewidth": 0,
             "ticks": ""
            },
            "type": "choropleth"
           }
          ],
          "contour": [
           {
            "colorbar": {
             "outlinewidth": 0,
             "ticks": ""
            },
            "colorscale": [
             [
              0,
              "#0d0887"
             ],
             [
              0.1111111111111111,
              "#46039f"
             ],
             [
              0.2222222222222222,
              "#7201a8"
             ],
             [
              0.3333333333333333,
              "#9c179e"
             ],
             [
              0.4444444444444444,
              "#bd3786"
             ],
             [
              0.5555555555555556,
              "#d8576b"
             ],
             [
              0.6666666666666666,
              "#ed7953"
             ],
             [
              0.7777777777777778,
              "#fb9f3a"
             ],
             [
              0.8888888888888888,
              "#fdca26"
             ],
             [
              1,
              "#f0f921"
             ]
            ],
            "type": "contour"
           }
          ],
          "contourcarpet": [
           {
            "colorbar": {
             "outlinewidth": 0,
             "ticks": ""
            },
            "type": "contourcarpet"
           }
          ],
          "heatmap": [
           {
            "colorbar": {
             "outlinewidth": 0,
             "ticks": ""
            },
            "colorscale": [
             [
              0,
              "#0d0887"
             ],
             [
              0.1111111111111111,
              "#46039f"
             ],
             [
              0.2222222222222222,
              "#7201a8"
             ],
             [
              0.3333333333333333,
              "#9c179e"
             ],
             [
              0.4444444444444444,
              "#bd3786"
             ],
             [
              0.5555555555555556,
              "#d8576b"
             ],
             [
              0.6666666666666666,
              "#ed7953"
             ],
             [
              0.7777777777777778,
              "#fb9f3a"
             ],
             [
              0.8888888888888888,
              "#fdca26"
             ],
             [
              1,
              "#f0f921"
             ]
            ],
            "type": "heatmap"
           }
          ],
          "heatmapgl": [
           {
            "colorbar": {
             "outlinewidth": 0,
             "ticks": ""
            },
            "colorscale": [
             [
              0,
              "#0d0887"
             ],
             [
              0.1111111111111111,
              "#46039f"
             ],
             [
              0.2222222222222222,
              "#7201a8"
             ],
             [
              0.3333333333333333,
              "#9c179e"
             ],
             [
              0.4444444444444444,
              "#bd3786"
             ],
             [
              0.5555555555555556,
              "#d8576b"
             ],
             [
              0.6666666666666666,
              "#ed7953"
             ],
             [
              0.7777777777777778,
              "#fb9f3a"
             ],
             [
              0.8888888888888888,
              "#fdca26"
             ],
             [
              1,
              "#f0f921"
             ]
            ],
            "type": "heatmapgl"
           }
          ],
          "histogram": [
           {
            "marker": {
             "pattern": {
              "fillmode": "overlay",
              "size": 10,
              "solidity": 0.2
             }
            },
            "type": "histogram"
           }
          ],
          "histogram2d": [
           {
            "colorbar": {
             "outlinewidth": 0,
             "ticks": ""
            },
            "colorscale": [
             [
              0,
              "#0d0887"
             ],
             [
              0.1111111111111111,
              "#46039f"
             ],
             [
              0.2222222222222222,
              "#7201a8"
             ],
             [
              0.3333333333333333,
              "#9c179e"
             ],
             [
              0.4444444444444444,
              "#bd3786"
             ],
             [
              0.5555555555555556,
              "#d8576b"
             ],
             [
              0.6666666666666666,
              "#ed7953"
             ],
             [
              0.7777777777777778,
              "#fb9f3a"
             ],
             [
              0.8888888888888888,
              "#fdca26"
             ],
             [
              1,
              "#f0f921"
             ]
            ],
            "type": "histogram2d"
           }
          ],
          "histogram2dcontour": [
           {
            "colorbar": {
             "outlinewidth": 0,
             "ticks": ""
            },
            "colorscale": [
             [
              0,
              "#0d0887"
             ],
             [
              0.1111111111111111,
              "#46039f"
             ],
             [
              0.2222222222222222,
              "#7201a8"
             ],
             [
              0.3333333333333333,
              "#9c179e"
             ],
             [
              0.4444444444444444,
              "#bd3786"
             ],
             [
              0.5555555555555556,
              "#d8576b"
             ],
             [
              0.6666666666666666,
              "#ed7953"
             ],
             [
              0.7777777777777778,
              "#fb9f3a"
             ],
             [
              0.8888888888888888,
              "#fdca26"
             ],
             [
              1,
              "#f0f921"
             ]
            ],
            "type": "histogram2dcontour"
           }
          ],
          "mesh3d": [
           {
            "colorbar": {
             "outlinewidth": 0,
             "ticks": ""
            },
            "type": "mesh3d"
           }
          ],
          "parcoords": [
           {
            "line": {
             "colorbar": {
              "outlinewidth": 0,
              "ticks": ""
             }
            },
            "type": "parcoords"
           }
          ],
          "pie": [
           {
            "automargin": true,
            "type": "pie"
           }
          ],
          "scatter": [
           {
            "fillpattern": {
             "fillmode": "overlay",
             "size": 10,
             "solidity": 0.2
            },
            "type": "scatter"
           }
          ],
          "scatter3d": [
           {
            "line": {
             "colorbar": {
              "outlinewidth": 0,
              "ticks": ""
             }
            },
            "marker": {
             "colorbar": {
              "outlinewidth": 0,
              "ticks": ""
             }
            },
            "type": "scatter3d"
           }
          ],
          "scattercarpet": [
           {
            "marker": {
             "colorbar": {
              "outlinewidth": 0,
              "ticks": ""
             }
            },
            "type": "scattercarpet"
           }
          ],
          "scattergeo": [
           {
            "marker": {
             "colorbar": {
              "outlinewidth": 0,
              "ticks": ""
             }
            },
            "type": "scattergeo"
           }
          ],
          "scattergl": [
           {
            "marker": {
             "colorbar": {
              "outlinewidth": 0,
              "ticks": ""
             }
            },
            "type": "scattergl"
           }
          ],
          "scattermapbox": [
           {
            "marker": {
             "colorbar": {
              "outlinewidth": 0,
              "ticks": ""
             }
            },
            "type": "scattermapbox"
           }
          ],
          "scatterpolar": [
           {
            "marker": {
             "colorbar": {
              "outlinewidth": 0,
              "ticks": ""
             }
            },
            "type": "scatterpolar"
           }
          ],
          "scatterpolargl": [
           {
            "marker": {
             "colorbar": {
              "outlinewidth": 0,
              "ticks": ""
             }
            },
            "type": "scatterpolargl"
           }
          ],
          "scatterternary": [
           {
            "marker": {
             "colorbar": {
              "outlinewidth": 0,
              "ticks": ""
             }
            },
            "type": "scatterternary"
           }
          ],
          "surface": [
           {
            "colorbar": {
             "outlinewidth": 0,
             "ticks": ""
            },
            "colorscale": [
             [
              0,
              "#0d0887"
             ],
             [
              0.1111111111111111,
              "#46039f"
             ],
             [
              0.2222222222222222,
              "#7201a8"
             ],
             [
              0.3333333333333333,
              "#9c179e"
             ],
             [
              0.4444444444444444,
              "#bd3786"
             ],
             [
              0.5555555555555556,
              "#d8576b"
             ],
             [
              0.6666666666666666,
              "#ed7953"
             ],
             [
              0.7777777777777778,
              "#fb9f3a"
             ],
             [
              0.8888888888888888,
              "#fdca26"
             ],
             [
              1,
              "#f0f921"
             ]
            ],
            "type": "surface"
           }
          ],
          "table": [
           {
            "cells": {
             "fill": {
              "color": "#EBF0F8"
             },
             "line": {
              "color": "white"
             }
            },
            "header": {
             "fill": {
              "color": "#C8D4E3"
             },
             "line": {
              "color": "white"
             }
            },
            "type": "table"
           }
          ]
         },
         "layout": {
          "annotationdefaults": {
           "arrowcolor": "#2a3f5f",
           "arrowhead": 0,
           "arrowwidth": 1
          },
          "autotypenumbers": "strict",
          "coloraxis": {
           "colorbar": {
            "outlinewidth": 0,
            "ticks": ""
           }
          },
          "colorscale": {
           "diverging": [
            [
             0,
             "#8e0152"
            ],
            [
             0.1,
             "#c51b7d"
            ],
            [
             0.2,
             "#de77ae"
            ],
            [
             0.3,
             "#f1b6da"
            ],
            [
             0.4,
             "#fde0ef"
            ],
            [
             0.5,
             "#f7f7f7"
            ],
            [
             0.6,
             "#e6f5d0"
            ],
            [
             0.7,
             "#b8e186"
            ],
            [
             0.8,
             "#7fbc41"
            ],
            [
             0.9,
             "#4d9221"
            ],
            [
             1,
             "#276419"
            ]
           ],
           "sequential": [
            [
             0,
             "#0d0887"
            ],
            [
             0.1111111111111111,
             "#46039f"
            ],
            [
             0.2222222222222222,
             "#7201a8"
            ],
            [
             0.3333333333333333,
             "#9c179e"
            ],
            [
             0.4444444444444444,
             "#bd3786"
            ],
            [
             0.5555555555555556,
             "#d8576b"
            ],
            [
             0.6666666666666666,
             "#ed7953"
            ],
            [
             0.7777777777777778,
             "#fb9f3a"
            ],
            [
             0.8888888888888888,
             "#fdca26"
            ],
            [
             1,
             "#f0f921"
            ]
           ],
           "sequentialminus": [
            [
             0,
             "#0d0887"
            ],
            [
             0.1111111111111111,
             "#46039f"
            ],
            [
             0.2222222222222222,
             "#7201a8"
            ],
            [
             0.3333333333333333,
             "#9c179e"
            ],
            [
             0.4444444444444444,
             "#bd3786"
            ],
            [
             0.5555555555555556,
             "#d8576b"
            ],
            [
             0.6666666666666666,
             "#ed7953"
            ],
            [
             0.7777777777777778,
             "#fb9f3a"
            ],
            [
             0.8888888888888888,
             "#fdca26"
            ],
            [
             1,
             "#f0f921"
            ]
           ]
          },
          "colorway": [
           "#636efa",
           "#EF553B",
           "#00cc96",
           "#ab63fa",
           "#FFA15A",
           "#19d3f3",
           "#FF6692",
           "#B6E880",
           "#FF97FF",
           "#FECB52"
          ],
          "font": {
           "color": "#2a3f5f"
          },
          "geo": {
           "bgcolor": "white",
           "lakecolor": "white",
           "landcolor": "#E5ECF6",
           "showlakes": true,
           "showland": true,
           "subunitcolor": "white"
          },
          "hoverlabel": {
           "align": "left"
          },
          "hovermode": "closest",
          "mapbox": {
           "style": "light"
          },
          "paper_bgcolor": "white",
          "plot_bgcolor": "#E5ECF6",
          "polar": {
           "angularaxis": {
            "gridcolor": "white",
            "linecolor": "white",
            "ticks": ""
           },
           "bgcolor": "#E5ECF6",
           "radialaxis": {
            "gridcolor": "white",
            "linecolor": "white",
            "ticks": ""
           }
          },
          "scene": {
           "xaxis": {
            "backgroundcolor": "#E5ECF6",
            "gridcolor": "white",
            "gridwidth": 2,
            "linecolor": "white",
            "showbackground": true,
            "ticks": "",
            "zerolinecolor": "white"
           },
           "yaxis": {
            "backgroundcolor": "#E5ECF6",
            "gridcolor": "white",
            "gridwidth": 2,
            "linecolor": "white",
            "showbackground": true,
            "ticks": "",
            "zerolinecolor": "white"
           },
           "zaxis": {
            "backgroundcolor": "#E5ECF6",
            "gridcolor": "white",
            "gridwidth": 2,
            "linecolor": "white",
            "showbackground": true,
            "ticks": "",
            "zerolinecolor": "white"
           }
          },
          "shapedefaults": {
           "line": {
            "color": "#2a3f5f"
           }
          },
          "ternary": {
           "aaxis": {
            "gridcolor": "white",
            "linecolor": "white",
            "ticks": ""
           },
           "baxis": {
            "gridcolor": "white",
            "linecolor": "white",
            "ticks": ""
           },
           "bgcolor": "#E5ECF6",
           "caxis": {
            "gridcolor": "white",
            "linecolor": "white",
            "ticks": ""
           }
          },
          "title": {
           "x": 0.05
          },
          "xaxis": {
           "automargin": true,
           "gridcolor": "white",
           "linecolor": "white",
           "ticks": "",
           "title": {
            "standoff": 15
           },
           "zerolinecolor": "white",
           "zerolinewidth": 2
          },
          "yaxis": {
           "automargin": true,
           "gridcolor": "white",
           "linecolor": "white",
           "ticks": "",
           "title": {
            "standoff": 15
           },
           "zerolinecolor": "white",
           "zerolinewidth": 2
          }
         }
        },
        "title": {
         "text": "UMAP Projection"
        },
        "xaxis": {
         "anchor": "y",
         "domain": [
          0,
          1
         ],
         "title": {
          "text": "UMAP 1"
         }
        },
        "yaxis": {
         "anchor": "x",
         "domain": [
          0,
          1
         ],
         "title": {
          "text": "UMAP 2"
         }
        }
       }
      }
     },
     "metadata": {},
     "output_type": "display_data"
    }
   ],
   "source": [
    "from umap import UMAP\n",
    "import plotly.express as px\n",
    "\n",
    "# two-step DR: PCA+UMAP\n",
    "# applying UMAP to each node in variable domain to get nodes (Measurements) in 2D\n",
    "df_pivot = P_final.pivot(index=\"Measurement\", columns=\"Col\", values=\"PC1\")\n",
    "reducer = UMAP(n_components=2, random_state=42)\n",
    "embedding = reducer.fit_transform(df_pivot)\n",
    "df_pivot['UMAP1'] = embedding[:, 0]\n",
    "df_pivot['UMAP2'] = embedding[:, 1]\n",
    "df_pivot['nodeId'] = df_pivot.index \n",
    "fig = px.scatter(df_pivot, x='UMAP1', y='UMAP2', hover_data={'nodeId': True})\n",
    "\n",
    "fig.update_layout(title=\"UMAP Projection\",\n",
    "                  xaxis_title=\"UMAP 1\",\n",
    "                  yaxis_title=\"UMAP 2\")\n",
    "fig.show()"
   ]
  },
  {
   "cell_type": "markdown",
   "metadata": {},
   "source": [
    "Second step DR: tSNE"
   ]
  },
  {
   "cell_type": "code",
   "execution_count": 15,
   "metadata": {},
   "outputs": [
    {
     "name": "stderr",
     "output_type": "stream",
     "text": [
      "/Users/allison/anaconda3/envs/myenv/lib/python3.9/site-packages/sklearn/manifold/_t_sne.py:780: FutureWarning:\n",
      "\n",
      "The default initialization in TSNE will change from 'random' to 'pca' in 1.2.\n",
      "\n",
      "/Users/allison/anaconda3/envs/myenv/lib/python3.9/site-packages/sklearn/manifold/_t_sne.py:790: FutureWarning:\n",
      "\n",
      "The default learning rate in TSNE will change from 200.0 to 'auto' in 1.2.\n",
      "\n"
     ]
    },
    {
     "data": {
      "application/vnd.plotly.v1+json": {
       "config": {
        "plotlyServerURL": "https://plot.ly"
       },
       "data": [
        {
         "customdata": [
          [
           "novadaq-far-farm-06"
          ],
          [
           "novadaq-far-farm-07"
          ],
          [
           "novadaq-far-farm-08"
          ],
          [
           "novadaq-far-farm-09"
          ],
          [
           "novadaq-far-farm-10"
          ],
          [
           "novadaq-far-farm-100"
          ],
          [
           "novadaq-far-farm-101"
          ],
          [
           "novadaq-far-farm-102"
          ],
          [
           "novadaq-far-farm-103"
          ],
          [
           "novadaq-far-farm-104"
          ],
          [
           "novadaq-far-farm-105"
          ],
          [
           "novadaq-far-farm-106"
          ],
          [
           "novadaq-far-farm-107"
          ],
          [
           "novadaq-far-farm-108"
          ],
          [
           "novadaq-far-farm-109"
          ],
          [
           "novadaq-far-farm-11"
          ],
          [
           "novadaq-far-farm-110"
          ],
          [
           "novadaq-far-farm-111"
          ],
          [
           "novadaq-far-farm-112"
          ],
          [
           "novadaq-far-farm-113"
          ],
          [
           "novadaq-far-farm-114"
          ],
          [
           "novadaq-far-farm-115"
          ],
          [
           "novadaq-far-farm-116"
          ],
          [
           "novadaq-far-farm-117"
          ],
          [
           "novadaq-far-farm-118"
          ],
          [
           "novadaq-far-farm-119"
          ],
          [
           "novadaq-far-farm-12"
          ],
          [
           "novadaq-far-farm-120"
          ],
          [
           "novadaq-far-farm-121"
          ],
          [
           "novadaq-far-farm-122"
          ],
          [
           "novadaq-far-farm-123"
          ],
          [
           "novadaq-far-farm-124"
          ],
          [
           "novadaq-far-farm-125"
          ],
          [
           "novadaq-far-farm-126"
          ],
          [
           "novadaq-far-farm-127"
          ],
          [
           "novadaq-far-farm-128"
          ],
          [
           "novadaq-far-farm-129"
          ],
          [
           "novadaq-far-farm-13"
          ],
          [
           "novadaq-far-farm-130"
          ],
          [
           "novadaq-far-farm-131"
          ],
          [
           "novadaq-far-farm-132"
          ],
          [
           "novadaq-far-farm-133"
          ],
          [
           "novadaq-far-farm-134"
          ],
          [
           "novadaq-far-farm-135"
          ],
          [
           "novadaq-far-farm-136"
          ],
          [
           "novadaq-far-farm-137"
          ],
          [
           "novadaq-far-farm-138"
          ],
          [
           "novadaq-far-farm-139"
          ],
          [
           "novadaq-far-farm-14"
          ],
          [
           "novadaq-far-farm-140"
          ],
          [
           "novadaq-far-farm-141"
          ],
          [
           "novadaq-far-farm-142"
          ],
          [
           "novadaq-far-farm-143"
          ],
          [
           "novadaq-far-farm-144"
          ],
          [
           "novadaq-far-farm-145"
          ],
          [
           "novadaq-far-farm-146"
          ],
          [
           "novadaq-far-farm-147"
          ],
          [
           "novadaq-far-farm-148"
          ],
          [
           "novadaq-far-farm-149"
          ],
          [
           "novadaq-far-farm-15"
          ],
          [
           "novadaq-far-farm-150"
          ],
          [
           "novadaq-far-farm-151"
          ],
          [
           "novadaq-far-farm-152"
          ],
          [
           "novadaq-far-farm-153"
          ],
          [
           "novadaq-far-farm-154"
          ],
          [
           "novadaq-far-farm-155"
          ],
          [
           "novadaq-far-farm-156"
          ],
          [
           "novadaq-far-farm-157"
          ],
          [
           "novadaq-far-farm-158"
          ],
          [
           "novadaq-far-farm-159"
          ],
          [
           "novadaq-far-farm-16"
          ],
          [
           "novadaq-far-farm-160"
          ],
          [
           "novadaq-far-farm-161"
          ],
          [
           "novadaq-far-farm-162"
          ],
          [
           "novadaq-far-farm-163"
          ],
          [
           "novadaq-far-farm-164"
          ],
          [
           "novadaq-far-farm-165"
          ],
          [
           "novadaq-far-farm-166"
          ],
          [
           "novadaq-far-farm-167"
          ],
          [
           "novadaq-far-farm-168"
          ],
          [
           "novadaq-far-farm-169"
          ],
          [
           "novadaq-far-farm-17"
          ],
          [
           "novadaq-far-farm-170"
          ],
          [
           "novadaq-far-farm-171"
          ],
          [
           "novadaq-far-farm-172"
          ],
          [
           "novadaq-far-farm-173"
          ],
          [
           "novadaq-far-farm-174"
          ],
          [
           "novadaq-far-farm-175"
          ],
          [
           "novadaq-far-farm-176"
          ],
          [
           "novadaq-far-farm-177"
          ],
          [
           "novadaq-far-farm-178"
          ],
          [
           "novadaq-far-farm-179"
          ],
          [
           "novadaq-far-farm-18"
          ],
          [
           "novadaq-far-farm-180"
          ],
          [
           "novadaq-far-farm-181"
          ],
          [
           "novadaq-far-farm-182"
          ],
          [
           "novadaq-far-farm-183"
          ],
          [
           "novadaq-far-farm-184"
          ],
          [
           "novadaq-far-farm-185"
          ],
          [
           "novadaq-far-farm-186"
          ],
          [
           "novadaq-far-farm-187"
          ],
          [
           "novadaq-far-farm-188"
          ],
          [
           "novadaq-far-farm-189"
          ],
          [
           "novadaq-far-farm-19"
          ],
          [
           "novadaq-far-farm-190"
          ],
          [
           "novadaq-far-farm-191"
          ],
          [
           "novadaq-far-farm-192"
          ],
          [
           "novadaq-far-farm-193"
          ],
          [
           "novadaq-far-farm-194"
          ],
          [
           "novadaq-far-farm-195"
          ],
          [
           "novadaq-far-farm-196"
          ],
          [
           "novadaq-far-farm-197"
          ],
          [
           "novadaq-far-farm-198"
          ],
          [
           "novadaq-far-farm-199"
          ],
          [
           "novadaq-far-farm-20"
          ],
          [
           "novadaq-far-farm-200"
          ],
          [
           "novadaq-far-farm-21"
          ],
          [
           "novadaq-far-farm-22"
          ],
          [
           "novadaq-far-farm-23"
          ],
          [
           "novadaq-far-farm-24"
          ],
          [
           "novadaq-far-farm-25"
          ],
          [
           "novadaq-far-farm-26"
          ],
          [
           "novadaq-far-farm-27"
          ],
          [
           "novadaq-far-farm-28"
          ],
          [
           "novadaq-far-farm-29"
          ],
          [
           "novadaq-far-farm-30"
          ],
          [
           "novadaq-far-farm-31"
          ],
          [
           "novadaq-far-farm-32"
          ],
          [
           "novadaq-far-farm-33"
          ],
          [
           "novadaq-far-farm-34"
          ],
          [
           "novadaq-far-farm-35"
          ],
          [
           "novadaq-far-farm-36"
          ],
          [
           "novadaq-far-farm-37"
          ],
          [
           "novadaq-far-farm-38"
          ],
          [
           "novadaq-far-farm-39"
          ],
          [
           "novadaq-far-farm-40"
          ],
          [
           "novadaq-far-farm-41"
          ],
          [
           "novadaq-far-farm-42"
          ],
          [
           "novadaq-far-farm-43"
          ],
          [
           "novadaq-far-farm-44"
          ],
          [
           "novadaq-far-farm-45"
          ],
          [
           "novadaq-far-farm-46"
          ],
          [
           "novadaq-far-farm-47"
          ],
          [
           "novadaq-far-farm-48"
          ],
          [
           "novadaq-far-farm-49"
          ],
          [
           "novadaq-far-farm-50"
          ],
          [
           "novadaq-far-farm-51"
          ],
          [
           "novadaq-far-farm-52"
          ],
          [
           "novadaq-far-farm-53"
          ],
          [
           "novadaq-far-farm-54"
          ],
          [
           "novadaq-far-farm-55"
          ],
          [
           "novadaq-far-farm-56"
          ],
          [
           "novadaq-far-farm-57"
          ],
          [
           "novadaq-far-farm-58"
          ],
          [
           "novadaq-far-farm-59"
          ],
          [
           "novadaq-far-farm-60"
          ],
          [
           "novadaq-far-farm-61"
          ],
          [
           "novadaq-far-farm-62"
          ],
          [
           "novadaq-far-farm-63"
          ],
          [
           "novadaq-far-farm-64"
          ],
          [
           "novadaq-far-farm-65"
          ],
          [
           "novadaq-far-farm-66"
          ],
          [
           "novadaq-far-farm-67"
          ],
          [
           "novadaq-far-farm-68"
          ],
          [
           "novadaq-far-farm-69"
          ],
          [
           "novadaq-far-farm-70"
          ],
          [
           "novadaq-far-farm-71"
          ],
          [
           "novadaq-far-farm-72"
          ],
          [
           "novadaq-far-farm-73"
          ],
          [
           "novadaq-far-farm-74"
          ],
          [
           "novadaq-far-farm-75"
          ],
          [
           "novadaq-far-farm-76"
          ],
          [
           "novadaq-far-farm-77"
          ],
          [
           "novadaq-far-farm-78"
          ],
          [
           "novadaq-far-farm-79"
          ],
          [
           "novadaq-far-farm-80"
          ],
          [
           "novadaq-far-farm-81"
          ],
          [
           "novadaq-far-farm-82"
          ],
          [
           "novadaq-far-farm-83"
          ],
          [
           "novadaq-far-farm-84"
          ],
          [
           "novadaq-far-farm-85"
          ],
          [
           "novadaq-far-farm-86"
          ],
          [
           "novadaq-far-farm-87"
          ],
          [
           "novadaq-far-farm-88"
          ],
          [
           "novadaq-far-farm-89"
          ],
          [
           "novadaq-far-farm-90"
          ],
          [
           "novadaq-far-farm-91"
          ],
          [
           "novadaq-far-farm-92"
          ],
          [
           "novadaq-far-farm-93"
          ],
          [
           "novadaq-far-farm-94"
          ],
          [
           "novadaq-far-farm-95"
          ],
          [
           "novadaq-far-farm-96"
          ],
          [
           "novadaq-far-farm-97"
          ],
          [
           "novadaq-far-farm-98"
          ],
          [
           "novadaq-far-farm-99"
          ]
         ],
         "hovertemplate": "tSNE1=%{x}<br>tSNE2=%{y}<br>nodeId=%{customdata[0]}<extra></extra>",
         "legendgroup": "",
         "marker": {
          "color": "#636efa",
          "symbol": "circle"
         },
         "mode": "markers",
         "name": "",
         "orientation": "v",
         "showlegend": false,
         "type": "scatter",
         "x": [
          -3.489189386367798,
          -3.235267162322998,
          -3.5617363452911377,
          -3.4984188079833984,
          -2.4697747230529785,
          0.8704955577850342,
          -1.812727928161621,
          0.9832101464271545,
          0.04324060678482056,
          -3.285895347595215,
          -9.302627563476562,
          -9.745180130004883,
          -9.625530242919922,
          -10.263321876525879,
          -9.962469100952148,
          8.255775451660156,
          -9.11489486694336,
          -9.023849487304688,
          -10.028209686279297,
          2.189115285873413,
          -1.71216881275177,
          6.49393367767334,
          -3.040135383605957,
          1.9883196353912354,
          2.3964672088623047,
          -0.7509957551956177,
          -8.617830276489258,
          2.0092580318450928,
          -2.4572720527648926,
          -3.4747931957244873,
          -1.9106590747833252,
          -1.4897295236587524,
          6.491392612457275,
          4.253119468688965,
          7.9451704025268555,
          8.315239906311035,
          3.9801619052886963,
          6.8165411949157715,
          -3.295581817626953,
          -3.238394260406494,
          3.541282892227173,
          -3.264153480529785,
          5.709984302520752,
          4.15385627746582,
          4.8588385581970215,
          0.058928750455379486,
          3.6663763523101807,
          7.119154930114746,
          9.593313217163086,
          5.438580513000488,
          6.442164897918701,
          -3.317476272583008,
          6.119084358215332,
          5.294951438903809,
          4.404384136199951,
          7.397157192230225,
          5.855425834655762,
          5.8501296043396,
          7.485979080200195,
          9.599942207336426,
          -9.349970817565918,
          5.654352188110352,
          7.457735538482666,
          4.299039840698242,
          3.886439800262451,
          6.450201511383057,
          2.9756312370300293,
          3.2958710193634033,
          5.260946273803711,
          5.594161510467529,
          -8.962023735046387,
          5.060953617095947,
          7.472636699676514,
          6.740419864654541,
          6.811629295349121,
          -9.39008903503418,
          -2.65262508392334,
          6.2654709815979,
          7.087162017822266,
          3.7915420532226562,
          6.70175313949585,
          4.568861961364746,
          -9.688729286193848,
          4.203514575958252,
          5.977677822113037,
          7.853705883026123,
          3.3576040267944336,
          4.148250579833984,
          3.632493734359741,
          4.395354747772217,
          6.314515113830566,
          8.139627456665039,
          8.939119338989258,
          -9.606773376464844,
          -9.713724136352539,
          2.372739791870117,
          5.770605087280273,
          -9.510876655578613,
          2.9657788276672363,
          4.48062801361084,
          4.235820293426514,
          2.0264346599578857,
          -9.474472999572754,
          6.572725296020508,
          7.047238826751709,
          4.416894435882568,
          3.8743903636932373,
          3.426300525665283,
          3.486851930618286,
          5.397339344024658,
          4.266585350036621,
          -1.3010964393615723,
          -9.631064414978027,
          -0.5516809821128845,
          -8.877368927001953,
          0.027480702847242355,
          8.727044105529785,
          8.188435554504395,
          5.548303127288818,
          9.959307670593262,
          8.79056453704834,
          -1.9902081489562988,
          9.122467994689941,
          -9.615339279174805,
          7.857024669647217,
          6.091860294342041,
          8.396468162536621,
          8.644424438476562,
          7.37933874130249,
          0.03661930561065674,
          -9.740060806274414,
          4.951508522033691,
          7.090088844299316,
          7.3852925300598145,
          7.370620250701904,
          6.889969825744629,
          7.024969100952148,
          6.22191047668457,
          8.415935516357422,
          7.219254493713379,
          7.82402229309082,
          5.07758092880249,
          8.682961463928223,
          6.352715492248535,
          6.056585311889648,
          7.7485032081604,
          -1.4992027282714844,
          6.996434688568115,
          1.6141258478164673,
          -1.4630699157714844,
          0.034896112978458405,
          7.958065032958984,
          0.7700114250183105,
          2.0111348628997803,
          -9.480074882507324,
          0.4087965488433838,
          -3.3550682067871094,
          -1.5908395051956177,
          -1.2276784181594849,
          -0.859182596206665,
          -8.91394329071045,
          -8.887382507324219,
          -8.897974014282227,
          -9.79656982421875,
          -9.010414123535156,
          -9.340604782104492,
          -9.270377159118652,
          -9.60020923614502,
          1.3435758352279663,
          4.205402374267578,
          -0.8949940800666809,
          0.9448007941246033,
          -1.512676477432251,
          -3.243178606033325,
          2.4775636196136475,
          0.5227333903312683,
          -0.8019257187843323,
          0.13563001155853271,
          -0.7827574610710144,
          8.957273483276367,
          8.38270378112793,
          -0.1611265242099762,
          8.541751861572266,
          -1.0977503061294556,
          -0.32651475071907043,
          -1.171021580696106,
          -0.34242677688598633,
          -3.2948429584503174,
          -9.554856300354004,
          -8.957036018371582,
          -9.960501670837402,
          -9.349501609802246,
          0.4014769494533539,
          -1.71670663356781,
          0.19037264585494995
         ],
         "xaxis": "x",
         "y": [
          1.8739709854125977,
          1.4754616022109985,
          1.7263503074645996,
          1.7066938877105713,
          0.7631465792655945,
          6.109048366546631,
          5.850656986236572,
          6.506209850311279,
          5.680150508880615,
          2.87949538230896,
          4.875295162200928,
          4.489428997039795,
          4.576453685760498,
          4.42099142074585,
          3.940814256668091,
          -6.551042556762695,
          4.751802444458008,
          4.833498954772949,
          3.8051040172576904,
          5.225552558898926,
          5.297988414764404,
          -2.809408664703369,
          5.5606231689453125,
          4.834273815155029,
          5.858670234680176,
          5.630352020263672,
          9.364919662475586,
          3.570756196975708,
          4.623038291931152,
          3.241338014602661,
          5.039020538330078,
          4.867487907409668,
          -11.088362693786621,
          -9.86439037322998,
          -12.869622230529785,
          -11.066377639770508,
          -11.780396461486816,
          -1.92815101146698,
          -6.451210021972656,
          -6.489479064941406,
          -10.460988998413086,
          -6.472433567047119,
          -9.940009117126465,
          -8.518264770507812,
          -9.610565185546875,
          6.273352146148682,
          -10.954584121704102,
          -9.621541023254395,
          -5.842553615570068,
          -10.506200790405273,
          -10.550262451171875,
          -6.437493324279785,
          -13.133806228637695,
          -12.944263458251953,
          -3.2839953899383545,
          -11.85365104675293,
          -8.588479995727539,
          -8.785646438598633,
          -3.654134750366211,
          -5.024912357330322,
          8.163077354431152,
          -9.56371784210205,
          -8.906387329101562,
          -9.286919593811035,
          -12.535396575927734,
          -10.02513599395752,
          -10.856949806213379,
          -9.822471618652344,
          -11.605085372924805,
          -12.104780197143555,
          8.986100196838379,
          -10.576937675476074,
          -10.666155815124512,
          -12.424976348876953,
          -12.164923667907715,
          8.149275779724121,
          -6.875802040100098,
          -9.454928398132324,
          -11.995232582092285,
          -7.7436442375183105,
          -12.70486831665039,
          -4.6247992515563965,
          8.288923263549805,
          -11.026931762695312,
          -9.424680709838867,
          -9.560044288635254,
          -10.092836380004883,
          -9.933510780334473,
          -8.789044380187988,
          -8.64047908782959,
          -12.034571647644043,
          -10.9288911819458,
          -2.877027988433838,
          8.315414428710938,
          8.109662055969238,
          -10.38887882232666,
          -10.415741920471191,
          8.052263259887695,
          -12.19730281829834,
          -11.033199310302734,
          -10.615135192871094,
          -9.075187683105469,
          8.166840553283691,
          -3.4965665340423584,
          -5.77337121963501,
          -10.599381446838379,
          -10.472538948059082,
          -10.174416542053223,
          -9.506101608276367,
          -11.789794921875,
          -10.537940979003906,
          3.2064874172210693,
          5.230483531951904,
          4.2801833152771,
          9.0874605178833,
          4.519008159637451,
          -11.25811767578125,
          -4.295108795166016,
          -3.9792535305023193,
          -3.6899285316467285,
          -4.589902400970459,
          2.516650438308716,
          -4.228394985198975,
          8.331339836120605,
          -3.591984748840332,
          -3.203688859939575,
          -5.238312721252441,
          -4.670138835906982,
          -3.5823605060577393,
          4.802722930908203,
          8.213543891906738,
          -4.231693744659424,
          -3.8813250064849854,
          -4.076074123382568,
          -5.2079548835754395,
          -3.875028133392334,
          -4.872861862182617,
          -3.166306257247925,
          -5.6845808029174805,
          -3.1817445755004883,
          -4.962164402008057,
          -3.9862313270568848,
          -3.5565683841705322,
          -4.468250274658203,
          -5.09527587890625,
          -2.8348255157470703,
          3.7157347202301025,
          -4.3529558181762695,
          4.616967678070068,
          5.741595268249512,
          3.7684216499328613,
          -3.6290574073791504,
          5.536681175231934,
          4.145944118499756,
          8.152525901794434,
          4.358182907104492,
          -6.411673069000244,
          4.130669116973877,
          4.495540618896484,
          2.9097845554351807,
          4.638220310211182,
          4.176687717437744,
          3.5079848766326904,
          4.306931018829346,
          4.223113536834717,
          4.239078044891357,
          3.873159170150757,
          3.61106538772583,
          4.8906636238098145,
          -3.890763282775879,
          3.9496519565582275,
          5.199779510498047,
          4.18079948425293,
          -6.4860992431640625,
          4.004730224609375,
          4.029006004333496,
          3.981295585632324,
          3.533219814300537,
          4.7017974853515625,
          -2.311398506164551,
          -1.181059718132019,
          3.789766788482666,
          -1.7214337587356567,
          5.1714863777160645,
          4.968120098114014,
          6.977272033691406,
          5.888976097106934,
          -6.4517436027526855,
          3.8285915851593018,
          3.663093328475952,
          4.640980243682861,
          4.030196666717529,
          5.435855865478516,
          4.209938049316406,
          6.513723373413086
         ],
         "yaxis": "y"
        }
       ],
       "layout": {
        "legend": {
         "tracegroupgap": 0
        },
        "margin": {
         "t": 60
        },
        "template": {
         "data": {
          "bar": [
           {
            "error_x": {
             "color": "#2a3f5f"
            },
            "error_y": {
             "color": "#2a3f5f"
            },
            "marker": {
             "line": {
              "color": "#E5ECF6",
              "width": 0.5
             },
             "pattern": {
              "fillmode": "overlay",
              "size": 10,
              "solidity": 0.2
             }
            },
            "type": "bar"
           }
          ],
          "barpolar": [
           {
            "marker": {
             "line": {
              "color": "#E5ECF6",
              "width": 0.5
             },
             "pattern": {
              "fillmode": "overlay",
              "size": 10,
              "solidity": 0.2
             }
            },
            "type": "barpolar"
           }
          ],
          "carpet": [
           {
            "aaxis": {
             "endlinecolor": "#2a3f5f",
             "gridcolor": "white",
             "linecolor": "white",
             "minorgridcolor": "white",
             "startlinecolor": "#2a3f5f"
            },
            "baxis": {
             "endlinecolor": "#2a3f5f",
             "gridcolor": "white",
             "linecolor": "white",
             "minorgridcolor": "white",
             "startlinecolor": "#2a3f5f"
            },
            "type": "carpet"
           }
          ],
          "choropleth": [
           {
            "colorbar": {
             "outlinewidth": 0,
             "ticks": ""
            },
            "type": "choropleth"
           }
          ],
          "contour": [
           {
            "colorbar": {
             "outlinewidth": 0,
             "ticks": ""
            },
            "colorscale": [
             [
              0,
              "#0d0887"
             ],
             [
              0.1111111111111111,
              "#46039f"
             ],
             [
              0.2222222222222222,
              "#7201a8"
             ],
             [
              0.3333333333333333,
              "#9c179e"
             ],
             [
              0.4444444444444444,
              "#bd3786"
             ],
             [
              0.5555555555555556,
              "#d8576b"
             ],
             [
              0.6666666666666666,
              "#ed7953"
             ],
             [
              0.7777777777777778,
              "#fb9f3a"
             ],
             [
              0.8888888888888888,
              "#fdca26"
             ],
             [
              1,
              "#f0f921"
             ]
            ],
            "type": "contour"
           }
          ],
          "contourcarpet": [
           {
            "colorbar": {
             "outlinewidth": 0,
             "ticks": ""
            },
            "type": "contourcarpet"
           }
          ],
          "heatmap": [
           {
            "colorbar": {
             "outlinewidth": 0,
             "ticks": ""
            },
            "colorscale": [
             [
              0,
              "#0d0887"
             ],
             [
              0.1111111111111111,
              "#46039f"
             ],
             [
              0.2222222222222222,
              "#7201a8"
             ],
             [
              0.3333333333333333,
              "#9c179e"
             ],
             [
              0.4444444444444444,
              "#bd3786"
             ],
             [
              0.5555555555555556,
              "#d8576b"
             ],
             [
              0.6666666666666666,
              "#ed7953"
             ],
             [
              0.7777777777777778,
              "#fb9f3a"
             ],
             [
              0.8888888888888888,
              "#fdca26"
             ],
             [
              1,
              "#f0f921"
             ]
            ],
            "type": "heatmap"
           }
          ],
          "heatmapgl": [
           {
            "colorbar": {
             "outlinewidth": 0,
             "ticks": ""
            },
            "colorscale": [
             [
              0,
              "#0d0887"
             ],
             [
              0.1111111111111111,
              "#46039f"
             ],
             [
              0.2222222222222222,
              "#7201a8"
             ],
             [
              0.3333333333333333,
              "#9c179e"
             ],
             [
              0.4444444444444444,
              "#bd3786"
             ],
             [
              0.5555555555555556,
              "#d8576b"
             ],
             [
              0.6666666666666666,
              "#ed7953"
             ],
             [
              0.7777777777777778,
              "#fb9f3a"
             ],
             [
              0.8888888888888888,
              "#fdca26"
             ],
             [
              1,
              "#f0f921"
             ]
            ],
            "type": "heatmapgl"
           }
          ],
          "histogram": [
           {
            "marker": {
             "pattern": {
              "fillmode": "overlay",
              "size": 10,
              "solidity": 0.2
             }
            },
            "type": "histogram"
           }
          ],
          "histogram2d": [
           {
            "colorbar": {
             "outlinewidth": 0,
             "ticks": ""
            },
            "colorscale": [
             [
              0,
              "#0d0887"
             ],
             [
              0.1111111111111111,
              "#46039f"
             ],
             [
              0.2222222222222222,
              "#7201a8"
             ],
             [
              0.3333333333333333,
              "#9c179e"
             ],
             [
              0.4444444444444444,
              "#bd3786"
             ],
             [
              0.5555555555555556,
              "#d8576b"
             ],
             [
              0.6666666666666666,
              "#ed7953"
             ],
             [
              0.7777777777777778,
              "#fb9f3a"
             ],
             [
              0.8888888888888888,
              "#fdca26"
             ],
             [
              1,
              "#f0f921"
             ]
            ],
            "type": "histogram2d"
           }
          ],
          "histogram2dcontour": [
           {
            "colorbar": {
             "outlinewidth": 0,
             "ticks": ""
            },
            "colorscale": [
             [
              0,
              "#0d0887"
             ],
             [
              0.1111111111111111,
              "#46039f"
             ],
             [
              0.2222222222222222,
              "#7201a8"
             ],
             [
              0.3333333333333333,
              "#9c179e"
             ],
             [
              0.4444444444444444,
              "#bd3786"
             ],
             [
              0.5555555555555556,
              "#d8576b"
             ],
             [
              0.6666666666666666,
              "#ed7953"
             ],
             [
              0.7777777777777778,
              "#fb9f3a"
             ],
             [
              0.8888888888888888,
              "#fdca26"
             ],
             [
              1,
              "#f0f921"
             ]
            ],
            "type": "histogram2dcontour"
           }
          ],
          "mesh3d": [
           {
            "colorbar": {
             "outlinewidth": 0,
             "ticks": ""
            },
            "type": "mesh3d"
           }
          ],
          "parcoords": [
           {
            "line": {
             "colorbar": {
              "outlinewidth": 0,
              "ticks": ""
             }
            },
            "type": "parcoords"
           }
          ],
          "pie": [
           {
            "automargin": true,
            "type": "pie"
           }
          ],
          "scatter": [
           {
            "fillpattern": {
             "fillmode": "overlay",
             "size": 10,
             "solidity": 0.2
            },
            "type": "scatter"
           }
          ],
          "scatter3d": [
           {
            "line": {
             "colorbar": {
              "outlinewidth": 0,
              "ticks": ""
             }
            },
            "marker": {
             "colorbar": {
              "outlinewidth": 0,
              "ticks": ""
             }
            },
            "type": "scatter3d"
           }
          ],
          "scattercarpet": [
           {
            "marker": {
             "colorbar": {
              "outlinewidth": 0,
              "ticks": ""
             }
            },
            "type": "scattercarpet"
           }
          ],
          "scattergeo": [
           {
            "marker": {
             "colorbar": {
              "outlinewidth": 0,
              "ticks": ""
             }
            },
            "type": "scattergeo"
           }
          ],
          "scattergl": [
           {
            "marker": {
             "colorbar": {
              "outlinewidth": 0,
              "ticks": ""
             }
            },
            "type": "scattergl"
           }
          ],
          "scattermapbox": [
           {
            "marker": {
             "colorbar": {
              "outlinewidth": 0,
              "ticks": ""
             }
            },
            "type": "scattermapbox"
           }
          ],
          "scatterpolar": [
           {
            "marker": {
             "colorbar": {
              "outlinewidth": 0,
              "ticks": ""
             }
            },
            "type": "scatterpolar"
           }
          ],
          "scatterpolargl": [
           {
            "marker": {
             "colorbar": {
              "outlinewidth": 0,
              "ticks": ""
             }
            },
            "type": "scatterpolargl"
           }
          ],
          "scatterternary": [
           {
            "marker": {
             "colorbar": {
              "outlinewidth": 0,
              "ticks": ""
             }
            },
            "type": "scatterternary"
           }
          ],
          "surface": [
           {
            "colorbar": {
             "outlinewidth": 0,
             "ticks": ""
            },
            "colorscale": [
             [
              0,
              "#0d0887"
             ],
             [
              0.1111111111111111,
              "#46039f"
             ],
             [
              0.2222222222222222,
              "#7201a8"
             ],
             [
              0.3333333333333333,
              "#9c179e"
             ],
             [
              0.4444444444444444,
              "#bd3786"
             ],
             [
              0.5555555555555556,
              "#d8576b"
             ],
             [
              0.6666666666666666,
              "#ed7953"
             ],
             [
              0.7777777777777778,
              "#fb9f3a"
             ],
             [
              0.8888888888888888,
              "#fdca26"
             ],
             [
              1,
              "#f0f921"
             ]
            ],
            "type": "surface"
           }
          ],
          "table": [
           {
            "cells": {
             "fill": {
              "color": "#EBF0F8"
             },
             "line": {
              "color": "white"
             }
            },
            "header": {
             "fill": {
              "color": "#C8D4E3"
             },
             "line": {
              "color": "white"
             }
            },
            "type": "table"
           }
          ]
         },
         "layout": {
          "annotationdefaults": {
           "arrowcolor": "#2a3f5f",
           "arrowhead": 0,
           "arrowwidth": 1
          },
          "autotypenumbers": "strict",
          "coloraxis": {
           "colorbar": {
            "outlinewidth": 0,
            "ticks": ""
           }
          },
          "colorscale": {
           "diverging": [
            [
             0,
             "#8e0152"
            ],
            [
             0.1,
             "#c51b7d"
            ],
            [
             0.2,
             "#de77ae"
            ],
            [
             0.3,
             "#f1b6da"
            ],
            [
             0.4,
             "#fde0ef"
            ],
            [
             0.5,
             "#f7f7f7"
            ],
            [
             0.6,
             "#e6f5d0"
            ],
            [
             0.7,
             "#b8e186"
            ],
            [
             0.8,
             "#7fbc41"
            ],
            [
             0.9,
             "#4d9221"
            ],
            [
             1,
             "#276419"
            ]
           ],
           "sequential": [
            [
             0,
             "#0d0887"
            ],
            [
             0.1111111111111111,
             "#46039f"
            ],
            [
             0.2222222222222222,
             "#7201a8"
            ],
            [
             0.3333333333333333,
             "#9c179e"
            ],
            [
             0.4444444444444444,
             "#bd3786"
            ],
            [
             0.5555555555555556,
             "#d8576b"
            ],
            [
             0.6666666666666666,
             "#ed7953"
            ],
            [
             0.7777777777777778,
             "#fb9f3a"
            ],
            [
             0.8888888888888888,
             "#fdca26"
            ],
            [
             1,
             "#f0f921"
            ]
           ],
           "sequentialminus": [
            [
             0,
             "#0d0887"
            ],
            [
             0.1111111111111111,
             "#46039f"
            ],
            [
             0.2222222222222222,
             "#7201a8"
            ],
            [
             0.3333333333333333,
             "#9c179e"
            ],
            [
             0.4444444444444444,
             "#bd3786"
            ],
            [
             0.5555555555555556,
             "#d8576b"
            ],
            [
             0.6666666666666666,
             "#ed7953"
            ],
            [
             0.7777777777777778,
             "#fb9f3a"
            ],
            [
             0.8888888888888888,
             "#fdca26"
            ],
            [
             1,
             "#f0f921"
            ]
           ]
          },
          "colorway": [
           "#636efa",
           "#EF553B",
           "#00cc96",
           "#ab63fa",
           "#FFA15A",
           "#19d3f3",
           "#FF6692",
           "#B6E880",
           "#FF97FF",
           "#FECB52"
          ],
          "font": {
           "color": "#2a3f5f"
          },
          "geo": {
           "bgcolor": "white",
           "lakecolor": "white",
           "landcolor": "#E5ECF6",
           "showlakes": true,
           "showland": true,
           "subunitcolor": "white"
          },
          "hoverlabel": {
           "align": "left"
          },
          "hovermode": "closest",
          "mapbox": {
           "style": "light"
          },
          "paper_bgcolor": "white",
          "plot_bgcolor": "#E5ECF6",
          "polar": {
           "angularaxis": {
            "gridcolor": "white",
            "linecolor": "white",
            "ticks": ""
           },
           "bgcolor": "#E5ECF6",
           "radialaxis": {
            "gridcolor": "white",
            "linecolor": "white",
            "ticks": ""
           }
          },
          "scene": {
           "xaxis": {
            "backgroundcolor": "#E5ECF6",
            "gridcolor": "white",
            "gridwidth": 2,
            "linecolor": "white",
            "showbackground": true,
            "ticks": "",
            "zerolinecolor": "white"
           },
           "yaxis": {
            "backgroundcolor": "#E5ECF6",
            "gridcolor": "white",
            "gridwidth": 2,
            "linecolor": "white",
            "showbackground": true,
            "ticks": "",
            "zerolinecolor": "white"
           },
           "zaxis": {
            "backgroundcolor": "#E5ECF6",
            "gridcolor": "white",
            "gridwidth": 2,
            "linecolor": "white",
            "showbackground": true,
            "ticks": "",
            "zerolinecolor": "white"
           }
          },
          "shapedefaults": {
           "line": {
            "color": "#2a3f5f"
           }
          },
          "ternary": {
           "aaxis": {
            "gridcolor": "white",
            "linecolor": "white",
            "ticks": ""
           },
           "baxis": {
            "gridcolor": "white",
            "linecolor": "white",
            "ticks": ""
           },
           "bgcolor": "#E5ECF6",
           "caxis": {
            "gridcolor": "white",
            "linecolor": "white",
            "ticks": ""
           }
          },
          "title": {
           "x": 0.05
          },
          "xaxis": {
           "automargin": true,
           "gridcolor": "white",
           "linecolor": "white",
           "ticks": "",
           "title": {
            "standoff": 15
           },
           "zerolinecolor": "white",
           "zerolinewidth": 2
          },
          "yaxis": {
           "automargin": true,
           "gridcolor": "white",
           "linecolor": "white",
           "ticks": "",
           "title": {
            "standoff": 15
           },
           "zerolinecolor": "white",
           "zerolinewidth": 2
          }
         }
        },
        "title": {
         "text": "t-SNE Projection"
        },
        "xaxis": {
         "anchor": "y",
         "domain": [
          0,
          1
         ],
         "title": {
          "text": "t-SNE 1"
         }
        },
        "yaxis": {
         "anchor": "x",
         "domain": [
          0,
          1
         ],
         "title": {
          "text": "t-SNE 2"
         }
        }
       }
      }
     },
     "metadata": {},
     "output_type": "display_data"
    }
   ],
   "source": [
    "import plotly.express as px\n",
    "import pandas as pd\n",
    "from sklearn.manifold import TSNE\n",
    "\n",
    "# two-step DR: PCA+tSNE\n",
    "df_tsne2 = df_pivot.drop(columns=['UMAP1', 'UMAP2', 'nodeId'])\n",
    "tsne = TSNE(n_components=2, random_state=42)\n",
    "embedding = tsne.fit_transform(df_tsne2)\n",
    "\n",
    "df_pivot['tSNE1'] = embedding[:, 0]\n",
    "df_pivot['tSNE2'] = embedding[:, 1]\n",
    "\n",
    "fig = px.scatter(df_pivot, x='tSNE1', y='tSNE2', hover_data={'nodeId': True})\n",
    "\n",
    "fig.update_layout(title=\"t-SNE Projection\",\n",
    "                  xaxis_title=\"t-SNE 1\",\n",
    "                  yaxis_title=\"t-SNE 2\")\n",
    "\n",
    "fig.show()"
   ]
  },
  {
   "cell_type": "markdown",
   "metadata": {},
   "source": [
    "Second step DR: PCA"
   ]
  },
  {
   "cell_type": "code",
   "execution_count": 16,
   "metadata": {},
   "outputs": [],
   "source": [
    "import plotly.express as px\n",
    "import pandas as pd\n",
    "\n",
    "# DR2 - applying PCA to each feature across one node/component \n",
    "def apply_pca(X, n_components=2):\n",
    "    try:\n",
    "        baseline = X.values\n",
    "\n",
    "        # normalizing the data (demean)\n",
    "        mean_hat = baseline.mean(axis=0)\n",
    "        demeaned = baseline - mean_hat\n",
    "\n",
    "        # standardize\n",
    "        scaler = StandardScaler()\n",
    "        X_scaled = scaler.fit_transform(demeaned)\n",
    "\n",
    "        # apply PCA\n",
    "        pca = PCA(n_components=n_components)\n",
    "        scores = pca.fit_transform(X_scaled)\n",
    "\n",
    "        explained_variance_ratio_cumsum = np.cumsum(pca.explained_variance_ratio_)\n",
    "        npc = np.sum(explained_variance_ratio_cumsum < 0.9999) + 1\n",
    "        n_components = scores.shape[1]\n",
    "        print(f\"Number of principal components: {n_components}\")\n",
    "        \n",
    "\n",
    "        P_fin = pd.DataFrame({f\"PC{k+1}\": scores[:, k] if k < n_components else np.nan for k in range(3)})\n",
    "        P_fin['Measurement'] = X.index\n",
    "\n",
    "        return P_fin\n",
    "\n",
    "    except Exception as e:\n",
    "        print(f\"Error processing PCA across features: {e}\")\n",
    "        return None"
   ]
  },
  {
   "cell_type": "code",
   "execution_count": 17,
   "metadata": {},
   "outputs": [
    {
     "name": "stdout",
     "output_type": "stream",
     "text": [
      "Number of principal components: 2\n"
     ]
    },
    {
     "data": {
      "text/html": [
       "<div>\n",
       "<style scoped>\n",
       "    .dataframe tbody tr th:only-of-type {\n",
       "        vertical-align: middle;\n",
       "    }\n",
       "\n",
       "    .dataframe tbody tr th {\n",
       "        vertical-align: top;\n",
       "    }\n",
       "\n",
       "    .dataframe thead th {\n",
       "        text-align: right;\n",
       "    }\n",
       "</style>\n",
       "<table border=\"1\" class=\"dataframe\">\n",
       "  <thead>\n",
       "    <tr style=\"text-align: right;\">\n",
       "      <th></th>\n",
       "      <th>PC1</th>\n",
       "      <th>PC2</th>\n",
       "      <th>PC3</th>\n",
       "      <th>Measurement</th>\n",
       "    </tr>\n",
       "  </thead>\n",
       "  <tbody>\n",
       "    <tr>\n",
       "      <th>0</th>\n",
       "      <td>1.408272</td>\n",
       "      <td>3.836039</td>\n",
       "      <td>NaN</td>\n",
       "      <td>novadaq-far-farm-06</td>\n",
       "    </tr>\n",
       "    <tr>\n",
       "      <th>1</th>\n",
       "      <td>1.676271</td>\n",
       "      <td>1.060038</td>\n",
       "      <td>NaN</td>\n",
       "      <td>novadaq-far-farm-07</td>\n",
       "    </tr>\n",
       "    <tr>\n",
       "      <th>2</th>\n",
       "      <td>2.969684</td>\n",
       "      <td>4.789189</td>\n",
       "      <td>NaN</td>\n",
       "      <td>novadaq-far-farm-08</td>\n",
       "    </tr>\n",
       "    <tr>\n",
       "      <th>3</th>\n",
       "      <td>2.251699</td>\n",
       "      <td>3.668458</td>\n",
       "      <td>NaN</td>\n",
       "      <td>novadaq-far-farm-09</td>\n",
       "    </tr>\n",
       "    <tr>\n",
       "      <th>4</th>\n",
       "      <td>-2.268656</td>\n",
       "      <td>-0.807331</td>\n",
       "      <td>NaN</td>\n",
       "      <td>novadaq-far-farm-10</td>\n",
       "    </tr>\n",
       "    <tr>\n",
       "      <th>...</th>\n",
       "      <td>...</td>\n",
       "      <td>...</td>\n",
       "      <td>...</td>\n",
       "      <td>...</td>\n",
       "    </tr>\n",
       "    <tr>\n",
       "      <th>190</th>\n",
       "      <td>2.933584</td>\n",
       "      <td>11.804179</td>\n",
       "      <td>NaN</td>\n",
       "      <td>novadaq-far-farm-95</td>\n",
       "    </tr>\n",
       "    <tr>\n",
       "      <th>191</th>\n",
       "      <td>3.768397</td>\n",
       "      <td>11.093668</td>\n",
       "      <td>NaN</td>\n",
       "      <td>novadaq-far-farm-96</td>\n",
       "    </tr>\n",
       "    <tr>\n",
       "      <th>192</th>\n",
       "      <td>-4.166802</td>\n",
       "      <td>2.229767</td>\n",
       "      <td>NaN</td>\n",
       "      <td>novadaq-far-farm-97</td>\n",
       "    </tr>\n",
       "    <tr>\n",
       "      <th>193</th>\n",
       "      <td>-1.523876</td>\n",
       "      <td>2.658653</td>\n",
       "      <td>NaN</td>\n",
       "      <td>novadaq-far-farm-98</td>\n",
       "    </tr>\n",
       "    <tr>\n",
       "      <th>194</th>\n",
       "      <td>-3.513707</td>\n",
       "      <td>1.487442</td>\n",
       "      <td>NaN</td>\n",
       "      <td>novadaq-far-farm-99</td>\n",
       "    </tr>\n",
       "  </tbody>\n",
       "</table>\n",
       "<p>195 rows × 4 columns</p>\n",
       "</div>"
      ],
      "text/plain": [
       "          PC1        PC2  PC3          Measurement\n",
       "0    1.408272   3.836039  NaN  novadaq-far-farm-06\n",
       "1    1.676271   1.060038  NaN  novadaq-far-farm-07\n",
       "2    2.969684   4.789189  NaN  novadaq-far-farm-08\n",
       "3    2.251699   3.668458  NaN  novadaq-far-farm-09\n",
       "4   -2.268656  -0.807331  NaN  novadaq-far-farm-10\n",
       "..        ...        ...  ...                  ...\n",
       "190  2.933584  11.804179  NaN  novadaq-far-farm-95\n",
       "191  3.768397  11.093668  NaN  novadaq-far-farm-96\n",
       "192 -4.166802   2.229767  NaN  novadaq-far-farm-97\n",
       "193 -1.523876   2.658653  NaN  novadaq-far-farm-98\n",
       "194 -3.513707   1.487442  NaN  novadaq-far-farm-99\n",
       "\n",
       "[195 rows x 4 columns]"
      ]
     },
     "execution_count": 17,
     "metadata": {},
     "output_type": "execute_result"
    }
   ],
   "source": [
    "df_pca = df_pivot.drop(columns=['UMAP1', 'UMAP2', 'tSNE1', 'tSNE2', 'nodeId'])\n",
    "P_df = apply_pca(df_pca)\n",
    "P_df"
   ]
  },
  {
   "cell_type": "code",
   "execution_count": 18,
   "metadata": {},
   "outputs": [
    {
     "data": {
      "text/html": [
       "<div>\n",
       "<style scoped>\n",
       "    .dataframe tbody tr th:only-of-type {\n",
       "        vertical-align: middle;\n",
       "    }\n",
       "\n",
       "    .dataframe tbody tr th {\n",
       "        vertical-align: top;\n",
       "    }\n",
       "\n",
       "    .dataframe thead th {\n",
       "        text-align: right;\n",
       "    }\n",
       "</style>\n",
       "<table border=\"1\" class=\"dataframe\">\n",
       "  <thead>\n",
       "    <tr style=\"text-align: right;\">\n",
       "      <th>Col</th>\n",
       "      <th>2024-02-21 18:29:15</th>\n",
       "      <th>2024-02-21 18:29:30</th>\n",
       "      <th>2024-02-21 18:29:45</th>\n",
       "      <th>2024-02-21 18:30:00</th>\n",
       "      <th>2024-02-21 18:30:15</th>\n",
       "      <th>2024-02-21 18:30:30</th>\n",
       "      <th>2024-02-21 18:30:45</th>\n",
       "      <th>2024-02-21 18:31:00</th>\n",
       "      <th>2024-02-21 18:31:15</th>\n",
       "      <th>2024-02-21 18:31:30</th>\n",
       "      <th>...</th>\n",
       "      <th>2024-02-21 19:38:15</th>\n",
       "      <th>2024-02-21 19:38:30</th>\n",
       "      <th>2024-02-21 19:38:45</th>\n",
       "      <th>2024-02-21 19:39:00</th>\n",
       "      <th>2024-02-21 19:39:15</th>\n",
       "      <th>2024-02-21 19:39:30</th>\n",
       "      <th>2024-02-21 19:39:45</th>\n",
       "      <th>PC1</th>\n",
       "      <th>PC2</th>\n",
       "      <th>nodeId</th>\n",
       "    </tr>\n",
       "    <tr>\n",
       "      <th>Measurement</th>\n",
       "      <th></th>\n",
       "      <th></th>\n",
       "      <th></th>\n",
       "      <th></th>\n",
       "      <th></th>\n",
       "      <th></th>\n",
       "      <th></th>\n",
       "      <th></th>\n",
       "      <th></th>\n",
       "      <th></th>\n",
       "      <th></th>\n",
       "      <th></th>\n",
       "      <th></th>\n",
       "      <th></th>\n",
       "      <th></th>\n",
       "      <th></th>\n",
       "      <th></th>\n",
       "      <th></th>\n",
       "      <th></th>\n",
       "      <th></th>\n",
       "      <th></th>\n",
       "    </tr>\n",
       "  </thead>\n",
       "  <tbody>\n",
       "    <tr>\n",
       "      <th>novadaq-far-farm-06</th>\n",
       "      <td>-0.198384</td>\n",
       "      <td>0.039488</td>\n",
       "      <td>0.023610</td>\n",
       "      <td>-0.237311</td>\n",
       "      <td>-0.212725</td>\n",
       "      <td>0.142633</td>\n",
       "      <td>0.449152</td>\n",
       "      <td>0.596131</td>\n",
       "      <td>0.517030</td>\n",
       "      <td>0.510573</td>\n",
       "      <td>...</td>\n",
       "      <td>1.155812</td>\n",
       "      <td>1.099765</td>\n",
       "      <td>0.900930</td>\n",
       "      <td>0.418770</td>\n",
       "      <td>0.557354</td>\n",
       "      <td>0.470325</td>\n",
       "      <td>0.294177</td>\n",
       "      <td>1.408272</td>\n",
       "      <td>3.836039</td>\n",
       "      <td>novadaq-far-farm-06</td>\n",
       "    </tr>\n",
       "    <tr>\n",
       "      <th>novadaq-far-farm-07</th>\n",
       "      <td>0.504821</td>\n",
       "      <td>0.683554</td>\n",
       "      <td>0.803510</td>\n",
       "      <td>0.717423</td>\n",
       "      <td>0.865332</td>\n",
       "      <td>1.053720</td>\n",
       "      <td>1.145219</td>\n",
       "      <td>1.267338</td>\n",
       "      <td>1.163146</td>\n",
       "      <td>1.054525</td>\n",
       "      <td>...</td>\n",
       "      <td>0.669906</td>\n",
       "      <td>0.774441</td>\n",
       "      <td>0.690630</td>\n",
       "      <td>0.660161</td>\n",
       "      <td>0.600747</td>\n",
       "      <td>0.720751</td>\n",
       "      <td>0.852562</td>\n",
       "      <td>1.676271</td>\n",
       "      <td>1.060038</td>\n",
       "      <td>novadaq-far-farm-07</td>\n",
       "    </tr>\n",
       "    <tr>\n",
       "      <th>novadaq-far-farm-08</th>\n",
       "      <td>-0.168806</td>\n",
       "      <td>-0.439695</td>\n",
       "      <td>-0.396591</td>\n",
       "      <td>-0.346659</td>\n",
       "      <td>-0.223896</td>\n",
       "      <td>0.016551</td>\n",
       "      <td>0.475218</td>\n",
       "      <td>0.926195</td>\n",
       "      <td>0.759334</td>\n",
       "      <td>0.626266</td>\n",
       "      <td>...</td>\n",
       "      <td>1.006942</td>\n",
       "      <td>1.372481</td>\n",
       "      <td>1.372138</td>\n",
       "      <td>1.509317</td>\n",
       "      <td>1.496844</td>\n",
       "      <td>1.588132</td>\n",
       "      <td>1.663613</td>\n",
       "      <td>2.969684</td>\n",
       "      <td>4.789189</td>\n",
       "      <td>novadaq-far-farm-08</td>\n",
       "    </tr>\n",
       "    <tr>\n",
       "      <th>novadaq-far-farm-09</th>\n",
       "      <td>0.686600</td>\n",
       "      <td>0.768580</td>\n",
       "      <td>0.609316</td>\n",
       "      <td>0.268636</td>\n",
       "      <td>0.516960</td>\n",
       "      <td>0.767673</td>\n",
       "      <td>0.942082</td>\n",
       "      <td>1.041299</td>\n",
       "      <td>0.893513</td>\n",
       "      <td>0.776286</td>\n",
       "      <td>...</td>\n",
       "      <td>0.348898</td>\n",
       "      <td>0.670234</td>\n",
       "      <td>0.091758</td>\n",
       "      <td>0.232084</td>\n",
       "      <td>0.444204</td>\n",
       "      <td>0.437782</td>\n",
       "      <td>0.530220</td>\n",
       "      <td>2.251699</td>\n",
       "      <td>3.668458</td>\n",
       "      <td>novadaq-far-farm-09</td>\n",
       "    </tr>\n",
       "    <tr>\n",
       "      <th>novadaq-far-farm-10</th>\n",
       "      <td>0.053059</td>\n",
       "      <td>0.137471</td>\n",
       "      <td>0.141747</td>\n",
       "      <td>-0.030123</td>\n",
       "      <td>0.121336</td>\n",
       "      <td>0.305263</td>\n",
       "      <td>0.471781</td>\n",
       "      <td>0.663888</td>\n",
       "      <td>0.552687</td>\n",
       "      <td>0.360966</td>\n",
       "      <td>...</td>\n",
       "      <td>-0.064510</td>\n",
       "      <td>0.068036</td>\n",
       "      <td>-0.221675</td>\n",
       "      <td>-0.393095</td>\n",
       "      <td>-0.340732</td>\n",
       "      <td>-0.282804</td>\n",
       "      <td>-0.103621</td>\n",
       "      <td>-2.268656</td>\n",
       "      <td>-0.807331</td>\n",
       "      <td>novadaq-far-farm-10</td>\n",
       "    </tr>\n",
       "    <tr>\n",
       "      <th>...</th>\n",
       "      <td>...</td>\n",
       "      <td>...</td>\n",
       "      <td>...</td>\n",
       "      <td>...</td>\n",
       "      <td>...</td>\n",
       "      <td>...</td>\n",
       "      <td>...</td>\n",
       "      <td>...</td>\n",
       "      <td>...</td>\n",
       "      <td>...</td>\n",
       "      <td>...</td>\n",
       "      <td>...</td>\n",
       "      <td>...</td>\n",
       "      <td>...</td>\n",
       "      <td>...</td>\n",
       "      <td>...</td>\n",
       "      <td>...</td>\n",
       "      <td>...</td>\n",
       "      <td>...</td>\n",
       "      <td>...</td>\n",
       "      <td>...</td>\n",
       "    </tr>\n",
       "    <tr>\n",
       "      <th>novadaq-far-farm-95</th>\n",
       "      <td>-0.339057</td>\n",
       "      <td>-0.314944</td>\n",
       "      <td>-0.231916</td>\n",
       "      <td>-0.284658</td>\n",
       "      <td>-0.040883</td>\n",
       "      <td>-0.047766</td>\n",
       "      <td>-0.461716</td>\n",
       "      <td>-0.863113</td>\n",
       "      <td>-0.904743</td>\n",
       "      <td>-0.737088</td>\n",
       "      <td>...</td>\n",
       "      <td>2.207934</td>\n",
       "      <td>2.449463</td>\n",
       "      <td>2.660063</td>\n",
       "      <td>2.636534</td>\n",
       "      <td>2.620280</td>\n",
       "      <td>2.662446</td>\n",
       "      <td>2.246520</td>\n",
       "      <td>2.933584</td>\n",
       "      <td>11.804179</td>\n",
       "      <td>novadaq-far-farm-95</td>\n",
       "    </tr>\n",
       "    <tr>\n",
       "      <th>novadaq-far-farm-96</th>\n",
       "      <td>-0.019654</td>\n",
       "      <td>0.158686</td>\n",
       "      <td>0.236861</td>\n",
       "      <td>0.030676</td>\n",
       "      <td>-0.202409</td>\n",
       "      <td>-0.159199</td>\n",
       "      <td>-0.178469</td>\n",
       "      <td>-0.153871</td>\n",
       "      <td>-0.299224</td>\n",
       "      <td>-0.499804</td>\n",
       "      <td>...</td>\n",
       "      <td>0.605190</td>\n",
       "      <td>0.545090</td>\n",
       "      <td>1.085927</td>\n",
       "      <td>1.347924</td>\n",
       "      <td>1.362362</td>\n",
       "      <td>1.645015</td>\n",
       "      <td>1.804123</td>\n",
       "      <td>3.768397</td>\n",
       "      <td>11.093668</td>\n",
       "      <td>novadaq-far-farm-96</td>\n",
       "    </tr>\n",
       "    <tr>\n",
       "      <th>novadaq-far-farm-97</th>\n",
       "      <td>-1.724263</td>\n",
       "      <td>-1.467371</td>\n",
       "      <td>-1.401254</td>\n",
       "      <td>-1.164658</td>\n",
       "      <td>-1.155608</td>\n",
       "      <td>-1.168976</td>\n",
       "      <td>-0.971264</td>\n",
       "      <td>-0.965827</td>\n",
       "      <td>-1.173564</td>\n",
       "      <td>-1.039041</td>\n",
       "      <td>...</td>\n",
       "      <td>0.096184</td>\n",
       "      <td>0.058562</td>\n",
       "      <td>0.052340</td>\n",
       "      <td>-0.216871</td>\n",
       "      <td>0.117224</td>\n",
       "      <td>0.330893</td>\n",
       "      <td>-0.020413</td>\n",
       "      <td>-4.166802</td>\n",
       "      <td>2.229767</td>\n",
       "      <td>novadaq-far-farm-97</td>\n",
       "    </tr>\n",
       "    <tr>\n",
       "      <th>novadaq-far-farm-98</th>\n",
       "      <td>-0.565797</td>\n",
       "      <td>-0.559584</td>\n",
       "      <td>-0.795994</td>\n",
       "      <td>-1.109042</td>\n",
       "      <td>-0.883274</td>\n",
       "      <td>-0.662033</td>\n",
       "      <td>-0.709299</td>\n",
       "      <td>-0.917839</td>\n",
       "      <td>-0.865991</td>\n",
       "      <td>-0.740719</td>\n",
       "      <td>...</td>\n",
       "      <td>0.670164</td>\n",
       "      <td>0.484816</td>\n",
       "      <td>0.484195</td>\n",
       "      <td>0.651909</td>\n",
       "      <td>0.535688</td>\n",
       "      <td>0.692403</td>\n",
       "      <td>0.423803</td>\n",
       "      <td>-1.523876</td>\n",
       "      <td>2.658653</td>\n",
       "      <td>novadaq-far-farm-98</td>\n",
       "    </tr>\n",
       "    <tr>\n",
       "      <th>novadaq-far-farm-99</th>\n",
       "      <td>-0.702787</td>\n",
       "      <td>-0.909382</td>\n",
       "      <td>-0.934710</td>\n",
       "      <td>-0.882525</td>\n",
       "      <td>-0.907348</td>\n",
       "      <td>-0.938137</td>\n",
       "      <td>-0.710803</td>\n",
       "      <td>-0.431399</td>\n",
       "      <td>-0.536895</td>\n",
       "      <td>-0.469649</td>\n",
       "      <td>...</td>\n",
       "      <td>0.468497</td>\n",
       "      <td>0.004426</td>\n",
       "      <td>-0.161721</td>\n",
       "      <td>-0.317330</td>\n",
       "      <td>-0.088876</td>\n",
       "      <td>-0.070335</td>\n",
       "      <td>-0.369299</td>\n",
       "      <td>-3.513707</td>\n",
       "      <td>1.487442</td>\n",
       "      <td>novadaq-far-farm-99</td>\n",
       "    </tr>\n",
       "  </tbody>\n",
       "</table>\n",
       "<p>195 rows × 286 columns</p>\n",
       "</div>"
      ],
      "text/plain": [
       "Col                  2024-02-21 18:29:15  2024-02-21 18:29:30  \\\n",
       "Measurement                                                     \n",
       "novadaq-far-farm-06            -0.198384             0.039488   \n",
       "novadaq-far-farm-07             0.504821             0.683554   \n",
       "novadaq-far-farm-08            -0.168806            -0.439695   \n",
       "novadaq-far-farm-09             0.686600             0.768580   \n",
       "novadaq-far-farm-10             0.053059             0.137471   \n",
       "...                                  ...                  ...   \n",
       "novadaq-far-farm-95            -0.339057            -0.314944   \n",
       "novadaq-far-farm-96            -0.019654             0.158686   \n",
       "novadaq-far-farm-97            -1.724263            -1.467371   \n",
       "novadaq-far-farm-98            -0.565797            -0.559584   \n",
       "novadaq-far-farm-99            -0.702787            -0.909382   \n",
       "\n",
       "Col                  2024-02-21 18:29:45  2024-02-21 18:30:00  \\\n",
       "Measurement                                                     \n",
       "novadaq-far-farm-06             0.023610            -0.237311   \n",
       "novadaq-far-farm-07             0.803510             0.717423   \n",
       "novadaq-far-farm-08            -0.396591            -0.346659   \n",
       "novadaq-far-farm-09             0.609316             0.268636   \n",
       "novadaq-far-farm-10             0.141747            -0.030123   \n",
       "...                                  ...                  ...   \n",
       "novadaq-far-farm-95            -0.231916            -0.284658   \n",
       "novadaq-far-farm-96             0.236861             0.030676   \n",
       "novadaq-far-farm-97            -1.401254            -1.164658   \n",
       "novadaq-far-farm-98            -0.795994            -1.109042   \n",
       "novadaq-far-farm-99            -0.934710            -0.882525   \n",
       "\n",
       "Col                  2024-02-21 18:30:15  2024-02-21 18:30:30  \\\n",
       "Measurement                                                     \n",
       "novadaq-far-farm-06            -0.212725             0.142633   \n",
       "novadaq-far-farm-07             0.865332             1.053720   \n",
       "novadaq-far-farm-08            -0.223896             0.016551   \n",
       "novadaq-far-farm-09             0.516960             0.767673   \n",
       "novadaq-far-farm-10             0.121336             0.305263   \n",
       "...                                  ...                  ...   \n",
       "novadaq-far-farm-95            -0.040883            -0.047766   \n",
       "novadaq-far-farm-96            -0.202409            -0.159199   \n",
       "novadaq-far-farm-97            -1.155608            -1.168976   \n",
       "novadaq-far-farm-98            -0.883274            -0.662033   \n",
       "novadaq-far-farm-99            -0.907348            -0.938137   \n",
       "\n",
       "Col                  2024-02-21 18:30:45  2024-02-21 18:31:00  \\\n",
       "Measurement                                                     \n",
       "novadaq-far-farm-06             0.449152             0.596131   \n",
       "novadaq-far-farm-07             1.145219             1.267338   \n",
       "novadaq-far-farm-08             0.475218             0.926195   \n",
       "novadaq-far-farm-09             0.942082             1.041299   \n",
       "novadaq-far-farm-10             0.471781             0.663888   \n",
       "...                                  ...                  ...   \n",
       "novadaq-far-farm-95            -0.461716            -0.863113   \n",
       "novadaq-far-farm-96            -0.178469            -0.153871   \n",
       "novadaq-far-farm-97            -0.971264            -0.965827   \n",
       "novadaq-far-farm-98            -0.709299            -0.917839   \n",
       "novadaq-far-farm-99            -0.710803            -0.431399   \n",
       "\n",
       "Col                  2024-02-21 18:31:15  2024-02-21 18:31:30  ...  \\\n",
       "Measurement                                                    ...   \n",
       "novadaq-far-farm-06             0.517030             0.510573  ...   \n",
       "novadaq-far-farm-07             1.163146             1.054525  ...   \n",
       "novadaq-far-farm-08             0.759334             0.626266  ...   \n",
       "novadaq-far-farm-09             0.893513             0.776286  ...   \n",
       "novadaq-far-farm-10             0.552687             0.360966  ...   \n",
       "...                                  ...                  ...  ...   \n",
       "novadaq-far-farm-95            -0.904743            -0.737088  ...   \n",
       "novadaq-far-farm-96            -0.299224            -0.499804  ...   \n",
       "novadaq-far-farm-97            -1.173564            -1.039041  ...   \n",
       "novadaq-far-farm-98            -0.865991            -0.740719  ...   \n",
       "novadaq-far-farm-99            -0.536895            -0.469649  ...   \n",
       "\n",
       "Col                  2024-02-21 19:38:15  2024-02-21 19:38:30  \\\n",
       "Measurement                                                     \n",
       "novadaq-far-farm-06             1.155812             1.099765   \n",
       "novadaq-far-farm-07             0.669906             0.774441   \n",
       "novadaq-far-farm-08             1.006942             1.372481   \n",
       "novadaq-far-farm-09             0.348898             0.670234   \n",
       "novadaq-far-farm-10            -0.064510             0.068036   \n",
       "...                                  ...                  ...   \n",
       "novadaq-far-farm-95             2.207934             2.449463   \n",
       "novadaq-far-farm-96             0.605190             0.545090   \n",
       "novadaq-far-farm-97             0.096184             0.058562   \n",
       "novadaq-far-farm-98             0.670164             0.484816   \n",
       "novadaq-far-farm-99             0.468497             0.004426   \n",
       "\n",
       "Col                  2024-02-21 19:38:45  2024-02-21 19:39:00  \\\n",
       "Measurement                                                     \n",
       "novadaq-far-farm-06             0.900930             0.418770   \n",
       "novadaq-far-farm-07             0.690630             0.660161   \n",
       "novadaq-far-farm-08             1.372138             1.509317   \n",
       "novadaq-far-farm-09             0.091758             0.232084   \n",
       "novadaq-far-farm-10            -0.221675            -0.393095   \n",
       "...                                  ...                  ...   \n",
       "novadaq-far-farm-95             2.660063             2.636534   \n",
       "novadaq-far-farm-96             1.085927             1.347924   \n",
       "novadaq-far-farm-97             0.052340            -0.216871   \n",
       "novadaq-far-farm-98             0.484195             0.651909   \n",
       "novadaq-far-farm-99            -0.161721            -0.317330   \n",
       "\n",
       "Col                  2024-02-21 19:39:15  2024-02-21 19:39:30  \\\n",
       "Measurement                                                     \n",
       "novadaq-far-farm-06             0.557354             0.470325   \n",
       "novadaq-far-farm-07             0.600747             0.720751   \n",
       "novadaq-far-farm-08             1.496844             1.588132   \n",
       "novadaq-far-farm-09             0.444204             0.437782   \n",
       "novadaq-far-farm-10            -0.340732            -0.282804   \n",
       "...                                  ...                  ...   \n",
       "novadaq-far-farm-95             2.620280             2.662446   \n",
       "novadaq-far-farm-96             1.362362             1.645015   \n",
       "novadaq-far-farm-97             0.117224             0.330893   \n",
       "novadaq-far-farm-98             0.535688             0.692403   \n",
       "novadaq-far-farm-99            -0.088876            -0.070335   \n",
       "\n",
       "Col                  2024-02-21 19:39:45       PC1        PC2  \\\n",
       "Measurement                                                     \n",
       "novadaq-far-farm-06             0.294177  1.408272   3.836039   \n",
       "novadaq-far-farm-07             0.852562  1.676271   1.060038   \n",
       "novadaq-far-farm-08             1.663613  2.969684   4.789189   \n",
       "novadaq-far-farm-09             0.530220  2.251699   3.668458   \n",
       "novadaq-far-farm-10            -0.103621 -2.268656  -0.807331   \n",
       "...                                  ...       ...        ...   \n",
       "novadaq-far-farm-95             2.246520  2.933584  11.804179   \n",
       "novadaq-far-farm-96             1.804123  3.768397  11.093668   \n",
       "novadaq-far-farm-97            -0.020413 -4.166802   2.229767   \n",
       "novadaq-far-farm-98             0.423803 -1.523876   2.658653   \n",
       "novadaq-far-farm-99            -0.369299 -3.513707   1.487442   \n",
       "\n",
       "Col                               nodeId  \n",
       "Measurement                               \n",
       "novadaq-far-farm-06  novadaq-far-farm-06  \n",
       "novadaq-far-farm-07  novadaq-far-farm-07  \n",
       "novadaq-far-farm-08  novadaq-far-farm-08  \n",
       "novadaq-far-farm-09  novadaq-far-farm-09  \n",
       "novadaq-far-farm-10  novadaq-far-farm-10  \n",
       "...                                  ...  \n",
       "novadaq-far-farm-95  novadaq-far-farm-95  \n",
       "novadaq-far-farm-96  novadaq-far-farm-96  \n",
       "novadaq-far-farm-97  novadaq-far-farm-97  \n",
       "novadaq-far-farm-98  novadaq-far-farm-98  \n",
       "novadaq-far-farm-99  novadaq-far-farm-99  \n",
       "\n",
       "[195 rows x 286 columns]"
      ]
     },
     "execution_count": 18,
     "metadata": {},
     "output_type": "execute_result"
    }
   ],
   "source": [
    "P_df.set_index('Measurement', inplace=True)\n",
    "df_pca['PC1'] = P_df['PC1']\n",
    "df_pca['PC2'] = P_df['PC2']\n",
    "df_pca['nodeId'] = P_df.index\n",
    "df_pca"
   ]
  },
  {
   "cell_type": "code",
   "execution_count": 19,
   "metadata": {},
   "outputs": [
    {
     "data": {
      "application/vnd.plotly.v1+json": {
       "config": {
        "plotlyServerURL": "https://plot.ly"
       },
       "data": [
        {
         "customdata": [
          [
           "novadaq-far-farm-06"
          ],
          [
           "novadaq-far-farm-07"
          ],
          [
           "novadaq-far-farm-08"
          ],
          [
           "novadaq-far-farm-09"
          ],
          [
           "novadaq-far-farm-10"
          ],
          [
           "novadaq-far-farm-100"
          ],
          [
           "novadaq-far-farm-101"
          ],
          [
           "novadaq-far-farm-102"
          ],
          [
           "novadaq-far-farm-103"
          ],
          [
           "novadaq-far-farm-104"
          ],
          [
           "novadaq-far-farm-105"
          ],
          [
           "novadaq-far-farm-106"
          ],
          [
           "novadaq-far-farm-107"
          ],
          [
           "novadaq-far-farm-108"
          ],
          [
           "novadaq-far-farm-109"
          ],
          [
           "novadaq-far-farm-11"
          ],
          [
           "novadaq-far-farm-110"
          ],
          [
           "novadaq-far-farm-111"
          ],
          [
           "novadaq-far-farm-112"
          ],
          [
           "novadaq-far-farm-113"
          ],
          [
           "novadaq-far-farm-114"
          ],
          [
           "novadaq-far-farm-115"
          ],
          [
           "novadaq-far-farm-116"
          ],
          [
           "novadaq-far-farm-117"
          ],
          [
           "novadaq-far-farm-118"
          ],
          [
           "novadaq-far-farm-119"
          ],
          [
           "novadaq-far-farm-12"
          ],
          [
           "novadaq-far-farm-120"
          ],
          [
           "novadaq-far-farm-121"
          ],
          [
           "novadaq-far-farm-122"
          ],
          [
           "novadaq-far-farm-123"
          ],
          [
           "novadaq-far-farm-124"
          ],
          [
           "novadaq-far-farm-125"
          ],
          [
           "novadaq-far-farm-126"
          ],
          [
           "novadaq-far-farm-127"
          ],
          [
           "novadaq-far-farm-128"
          ],
          [
           "novadaq-far-farm-129"
          ],
          [
           "novadaq-far-farm-13"
          ],
          [
           "novadaq-far-farm-130"
          ],
          [
           "novadaq-far-farm-131"
          ],
          [
           "novadaq-far-farm-132"
          ],
          [
           "novadaq-far-farm-133"
          ],
          [
           "novadaq-far-farm-134"
          ],
          [
           "novadaq-far-farm-135"
          ],
          [
           "novadaq-far-farm-136"
          ],
          [
           "novadaq-far-farm-137"
          ],
          [
           "novadaq-far-farm-138"
          ],
          [
           "novadaq-far-farm-139"
          ],
          [
           "novadaq-far-farm-14"
          ],
          [
           "novadaq-far-farm-140"
          ],
          [
           "novadaq-far-farm-141"
          ],
          [
           "novadaq-far-farm-142"
          ],
          [
           "novadaq-far-farm-143"
          ],
          [
           "novadaq-far-farm-144"
          ],
          [
           "novadaq-far-farm-145"
          ],
          [
           "novadaq-far-farm-146"
          ],
          [
           "novadaq-far-farm-147"
          ],
          [
           "novadaq-far-farm-148"
          ],
          [
           "novadaq-far-farm-149"
          ],
          [
           "novadaq-far-farm-15"
          ],
          [
           "novadaq-far-farm-150"
          ],
          [
           "novadaq-far-farm-151"
          ],
          [
           "novadaq-far-farm-152"
          ],
          [
           "novadaq-far-farm-153"
          ],
          [
           "novadaq-far-farm-154"
          ],
          [
           "novadaq-far-farm-155"
          ],
          [
           "novadaq-far-farm-156"
          ],
          [
           "novadaq-far-farm-157"
          ],
          [
           "novadaq-far-farm-158"
          ],
          [
           "novadaq-far-farm-159"
          ],
          [
           "novadaq-far-farm-16"
          ],
          [
           "novadaq-far-farm-160"
          ],
          [
           "novadaq-far-farm-161"
          ],
          [
           "novadaq-far-farm-162"
          ],
          [
           "novadaq-far-farm-163"
          ],
          [
           "novadaq-far-farm-164"
          ],
          [
           "novadaq-far-farm-165"
          ],
          [
           "novadaq-far-farm-166"
          ],
          [
           "novadaq-far-farm-167"
          ],
          [
           "novadaq-far-farm-168"
          ],
          [
           "novadaq-far-farm-169"
          ],
          [
           "novadaq-far-farm-17"
          ],
          [
           "novadaq-far-farm-170"
          ],
          [
           "novadaq-far-farm-171"
          ],
          [
           "novadaq-far-farm-172"
          ],
          [
           "novadaq-far-farm-173"
          ],
          [
           "novadaq-far-farm-174"
          ],
          [
           "novadaq-far-farm-175"
          ],
          [
           "novadaq-far-farm-176"
          ],
          [
           "novadaq-far-farm-177"
          ],
          [
           "novadaq-far-farm-178"
          ],
          [
           "novadaq-far-farm-179"
          ],
          [
           "novadaq-far-farm-18"
          ],
          [
           "novadaq-far-farm-180"
          ],
          [
           "novadaq-far-farm-181"
          ],
          [
           "novadaq-far-farm-182"
          ],
          [
           "novadaq-far-farm-183"
          ],
          [
           "novadaq-far-farm-184"
          ],
          [
           "novadaq-far-farm-185"
          ],
          [
           "novadaq-far-farm-186"
          ],
          [
           "novadaq-far-farm-187"
          ],
          [
           "novadaq-far-farm-188"
          ],
          [
           "novadaq-far-farm-189"
          ],
          [
           "novadaq-far-farm-19"
          ],
          [
           "novadaq-far-farm-190"
          ],
          [
           "novadaq-far-farm-191"
          ],
          [
           "novadaq-far-farm-192"
          ],
          [
           "novadaq-far-farm-193"
          ],
          [
           "novadaq-far-farm-194"
          ],
          [
           "novadaq-far-farm-195"
          ],
          [
           "novadaq-far-farm-196"
          ],
          [
           "novadaq-far-farm-197"
          ],
          [
           "novadaq-far-farm-198"
          ],
          [
           "novadaq-far-farm-199"
          ],
          [
           "novadaq-far-farm-20"
          ],
          [
           "novadaq-far-farm-200"
          ],
          [
           "novadaq-far-farm-21"
          ],
          [
           "novadaq-far-farm-22"
          ],
          [
           "novadaq-far-farm-23"
          ],
          [
           "novadaq-far-farm-24"
          ],
          [
           "novadaq-far-farm-25"
          ],
          [
           "novadaq-far-farm-26"
          ],
          [
           "novadaq-far-farm-27"
          ],
          [
           "novadaq-far-farm-28"
          ],
          [
           "novadaq-far-farm-29"
          ],
          [
           "novadaq-far-farm-30"
          ],
          [
           "novadaq-far-farm-31"
          ],
          [
           "novadaq-far-farm-32"
          ],
          [
           "novadaq-far-farm-33"
          ],
          [
           "novadaq-far-farm-34"
          ],
          [
           "novadaq-far-farm-35"
          ],
          [
           "novadaq-far-farm-36"
          ],
          [
           "novadaq-far-farm-37"
          ],
          [
           "novadaq-far-farm-38"
          ],
          [
           "novadaq-far-farm-39"
          ],
          [
           "novadaq-far-farm-40"
          ],
          [
           "novadaq-far-farm-41"
          ],
          [
           "novadaq-far-farm-42"
          ],
          [
           "novadaq-far-farm-43"
          ],
          [
           "novadaq-far-farm-44"
          ],
          [
           "novadaq-far-farm-45"
          ],
          [
           "novadaq-far-farm-46"
          ],
          [
           "novadaq-far-farm-47"
          ],
          [
           "novadaq-far-farm-48"
          ],
          [
           "novadaq-far-farm-49"
          ],
          [
           "novadaq-far-farm-50"
          ],
          [
           "novadaq-far-farm-51"
          ],
          [
           "novadaq-far-farm-52"
          ],
          [
           "novadaq-far-farm-53"
          ],
          [
           "novadaq-far-farm-54"
          ],
          [
           "novadaq-far-farm-55"
          ],
          [
           "novadaq-far-farm-56"
          ],
          [
           "novadaq-far-farm-57"
          ],
          [
           "novadaq-far-farm-58"
          ],
          [
           "novadaq-far-farm-59"
          ],
          [
           "novadaq-far-farm-60"
          ],
          [
           "novadaq-far-farm-61"
          ],
          [
           "novadaq-far-farm-62"
          ],
          [
           "novadaq-far-farm-63"
          ],
          [
           "novadaq-far-farm-64"
          ],
          [
           "novadaq-far-farm-65"
          ],
          [
           "novadaq-far-farm-66"
          ],
          [
           "novadaq-far-farm-67"
          ],
          [
           "novadaq-far-farm-68"
          ],
          [
           "novadaq-far-farm-69"
          ],
          [
           "novadaq-far-farm-70"
          ],
          [
           "novadaq-far-farm-71"
          ],
          [
           "novadaq-far-farm-72"
          ],
          [
           "novadaq-far-farm-73"
          ],
          [
           "novadaq-far-farm-74"
          ],
          [
           "novadaq-far-farm-75"
          ],
          [
           "novadaq-far-farm-76"
          ],
          [
           "novadaq-far-farm-77"
          ],
          [
           "novadaq-far-farm-78"
          ],
          [
           "novadaq-far-farm-79"
          ],
          [
           "novadaq-far-farm-80"
          ],
          [
           "novadaq-far-farm-81"
          ],
          [
           "novadaq-far-farm-82"
          ],
          [
           "novadaq-far-farm-83"
          ],
          [
           "novadaq-far-farm-84"
          ],
          [
           "novadaq-far-farm-85"
          ],
          [
           "novadaq-far-farm-86"
          ],
          [
           "novadaq-far-farm-87"
          ],
          [
           "novadaq-far-farm-88"
          ],
          [
           "novadaq-far-farm-89"
          ],
          [
           "novadaq-far-farm-90"
          ],
          [
           "novadaq-far-farm-91"
          ],
          [
           "novadaq-far-farm-92"
          ],
          [
           "novadaq-far-farm-93"
          ],
          [
           "novadaq-far-farm-94"
          ],
          [
           "novadaq-far-farm-95"
          ],
          [
           "novadaq-far-farm-96"
          ],
          [
           "novadaq-far-farm-97"
          ],
          [
           "novadaq-far-farm-98"
          ],
          [
           "novadaq-far-farm-99"
          ]
         ],
         "hovertemplate": "PC1=%{x}<br>PC2=%{y}<br>nodeId=%{customdata[0]}<extra></extra>",
         "legendgroup": "",
         "marker": {
          "color": "#636efa",
          "symbol": "circle"
         },
         "mode": "markers",
         "name": "",
         "orientation": "v",
         "showlegend": false,
         "type": "scatter",
         "x": [
          1.4082724947221896,
          1.6762714537539793,
          2.9696836086224234,
          2.2516991220834432,
          -2.268656111087072,
          -4.684965191610698,
          -1.3383374491363982,
          -3.884818078563487,
          -3.2019816860381285,
          0.3724685654152187,
          4.353336530806981,
          3.1492760719863977,
          3.5717799301217172,
          2.854972390019218,
          3.348273379509518,
          -4.284468696070376,
          4.445820940750835,
          4.9843593078728095,
          2.8440379886251814,
          -5.749914545053905,
          -1.987204017873421,
          -5.742500559522077,
          -2.7396807484278054,
          -3.6917776549680386,
          -3.4091017375203796,
          -2.994598222241684,
          -11.912937304934124,
          -4.121142134946765,
          -1.0971276743180747,
          -0.28844026531637934,
          -2.689748779272307,
          -1.7764235494069869,
          -3.3383400684941016,
          -3.489153592121352,
          -7.0908754880562315,
          -0.23058427766240716,
          -3.0576161243290194,
          -7.447338332855711,
          66.47998960122241,
          64.67023125744464,
          -2.386612747001354,
          65.40249049168779,
          -4.105212260236753,
          -3.1612900153274612,
          -4.067177161956623,
          -4.361341481438488,
          -2.748582472364651,
          -4.859185559136898,
          -5.519455604149125,
          -3.699315365590978,
          -3.941208145311839,
          66.61892190694748,
          -4.31619286068245,
          -4.138419462560186,
          -3.370603377456681,
          -2.6990787549575734,
          -1.4622548545385199,
          -3.1146915476770736,
          -5.620735965860424,
          -6.647553480524808,
          -0.5389352451207428,
          -3.43921539114772,
          -5.763941230835544,
          -3.324909197246527,
          -3.2319459474813184,
          -3.672286484429663,
          -2.923501877718504,
          -2.274818096637379,
          -4.3682295145320715,
          -4.149990167639132,
          -4.40227182863696,
          -3.6768501644381897,
          -1.48914551195403,
          -3.724634531555468,
          -3.9261080199674097,
          -0.535513728022988,
          33.97738705553527,
          -2.28909807957663,
          -4.745092877364023,
          -3.7576718223024677,
          -5.51399215568428,
          -2.51775138554033,
          -1.8748803992630192,
          -2.327218916987645,
          -2.7692868969313444,
          -3.0053645767133683,
          -1.842684157250135,
          -3.4762217042743644,
          -3.5295192603203236,
          -4.877585978896428,
          -4.808344419461326,
          -0.6433320165304437,
          -7.1309208709184295,
          -1.3895594254850407,
          -1.4487225031901538,
          -4.3467606603060815,
          -4.742491134436933,
          -0.40113642633197716,
          -4.356435511771833,
          -3.898110288725189,
          -3.0088561917029213,
          -3.8580181110767353,
          -1.0499414099408018,
          -5.100385081230132,
          -4.195513265386133,
          -3.935851654534345,
          -2.858229560876166,
          -2.267378430064174,
          -3.0199955997048615,
          -4.719233487102135,
          -2.2525684802934616,
          -1.8066637094320217,
          1.9060514917189,
          -3.166824270108021,
          -4.510932861987028,
          -3.4239837572445357,
          4.593501969664992,
          -5.766127347941935,
          -3.5997404298206934,
          -5.049380973195934,
          -5.988388728809882,
          0.4059475832019871,
          -6.433869083024114,
          -1.3444632885644006,
          -5.7763321865115715,
          -4.945281857384947,
          -5.303214791153305,
          -6.367159409482095,
          -5.309557270863272,
          -3.33346917677731,
          -1.5664795295661542,
          -2.9815472823637204,
          -5.294451347052179,
          -5.247900964538775,
          -4.269007215007112,
          -4.681536326514797,
          -4.099962554256602,
          -5.121254977162993,
          -4.524351733051084,
          -6.127173861751424,
          -4.7020528952199365,
          -3.2727779078085315,
          -6.312424502406325,
          -4.114468392351598,
          -4.698984462903001,
          -5.855926664800834,
          -1.867604026234246,
          -4.468137424960592,
          -4.694077723092476,
          -2.053247315162063,
          -3.545225535322077,
          -6.272683061286728,
          -4.3018440978461925,
          -4.002094840423159,
          -1.0352171592253674,
          -3.7204819799376048,
          68.05233030370275,
          -1.7831411837010018,
          -2.164445383729507,
          -2.7875750447913084,
          4.5605424086847055,
          4.8756925851382436,
          3.1961152005007936,
          4.013511689337748,
          4.763593991870905,
          4.319024394530451,
          3.6792365403549976,
          3.906844692038421,
          -4.06989494362207,
          -2.4103243508839385,
          -2.6040389450725385,
          -3.7597550160801605,
          -1.8639840302981316,
          64.93518295203718,
          -4.047390307680901,
          -4.237943484131741,
          -2.48501221181368,
          -3.2287004293659445,
          -2.7931453128752515,
          -5.968346590669074,
          -6.143938298263709,
          -3.0026330515295547,
          -6.426717042253896,
          -2.8924347326257793,
          -3.3313417275567128,
          -2.621207327797051,
          -3.2745841804425413,
          66.33217957118552,
          3.4763512020436282,
          3.0969750028853094,
          2.9335838918585484,
          3.768396758805316,
          -4.166802231696151,
          -1.523875687244243,
          -3.513706805880214
         ],
         "xaxis": "x",
         "y": [
          3.8360387885622536,
          1.0600375874418828,
          4.789188665004661,
          3.6684579231091847,
          -0.8073313500077267,
          0.8738792138284556,
          1.1491371023419947,
          0.29598748031304584,
          1.5911276624680022,
          1.8497999320551346,
          12.791238872805874,
          11.63656226129386,
          11.497448486176024,
          11.228507021140743,
          10.15418859069515,
          -6.586572095744527,
          12.916388328125041,
          13.370865155041272,
          9.95176345996091,
          0.2498404683519959,
          2.3398891476017325,
          -3.993508000092933,
          6.916477289551926,
          -0.3803642413679395,
          0.992986408554854,
          1.888961723892785,
          49.945171933807636,
          0.21894207929471296,
          3.186155078623577,
          4.998664588557416,
          3.9641151220906248,
          2.45510601527607,
          -8.191232566596907,
          -6.35463792964053,
          -11.177665553104049,
          -7.064901519272774,
          -6.84506245589844,
          -4.859224062145092,
          -3.3167582602047005,
          -3.172611017378446,
          -6.455897176202791,
          -2.7944167705213663,
          -6.672980082360074,
          -5.429993119760718,
          -6.535264274750922,
          2.132152780478323,
          -6.461487060886014,
          -7.736970750936122,
          -8.112679050965557,
          -6.748014073522186,
          -8.222644838390503,
          -4.867093310428514,
          -10.789028998471643,
          -8.636336060211102,
          -1.8306304806823108,
          -8.722877750104205,
          -6.736555545739576,
          -7.043313507244229,
          -4.978192893876276,
          -7.80330288065849,
          22.609565991406285,
          -6.193027420809158,
          -7.936284409753182,
          -6.386670698673894,
          -7.4478731167430485,
          -7.397021888284453,
          -7.072365509940731,
          -5.867111707937696,
          -8.727375592500668,
          -8.576567101959137,
          31.70269712446742,
          -6.8847415113592305,
          -7.24822567304179,
          -9.443658660967081,
          -9.113620468990199,
          22.556793495478022,
          -12.357984610012045,
          -6.16421995466441,
          -8.696792274833662,
          -4.057736721246602,
          -9.812860952894466,
          -3.528889089962708,
          21.21067733889592,
          -6.626078962213862,
          -6.694391561582184,
          -8.337495181382474,
          -5.395015864873489,
          -5.819179896900074,
          -5.001131986716707,
          -6.555703008973368,
          -7.9564417151504045,
          -6.786428663786904,
          -5.6791934569200135,
          21.896546513761887,
          20.721700882410925,
          -7.031255522664817,
          -7.603759953430269,
          21.992598561422174,
          -7.046111285069896,
          -6.474257905561198,
          -6.85606020536253,
          -7.284112136434506,
          21.905249616894196,
          -4.418087323163656,
          -4.983300365927593,
          -6.688094688924198,
          -6.672900706612486,
          -5.617159427542785,
          -5.410365906058921,
          -7.860460313887933,
          -6.485871778024431,
          1.2155189277417455,
          10.381660465639097,
          2.8189491384947836,
          32.778966418055944,
          1.2028926036176968,
          -14.340875078941112,
          -6.486373952155741,
          -3.2800266892793397,
          -6.062129053670034,
          -6.456509983983754,
          -0.09311600253592527,
          -5.832601083055258,
          22.013967622708545,
          -5.604921997453429,
          -2.7918627655180006,
          -6.340629996071209,
          -6.346110954293545,
          -4.707063528768139,
          1.1493586169675643,
          20.91427895090562,
          -3.6797088269742635,
          -4.738708436926662,
          -4.669099654584082,
          -5.614014612347457,
          -3.7759365720422187,
          -5.2072300707416925,
          -3.1034672985699627,
          -5.659339648741483,
          -4.427970763919678,
          -5.0981451580064965,
          -2.5838047221228115,
          -6.017393963398183,
          -4.004190190804227,
          -5.216535098494009,
          -3.8607131784738207,
          0.623931801403995,
          -4.699297593859792,
          0.07939011605645238,
          1.7216712356921093,
          1.3186250153291916,
          -5.672758618950868,
          1.034612901709082,
          0.6936164334857546,
          21.83357935117743,
          0.37003797786621434,
          -3.597173014437123,
          1.7956445700448715,
          1.6402410600517032,
          0.26160255224024187,
          12.333354277417476,
          11.214084292665826,
          9.257030307069181,
          10.985684833813352,
          11.158857256621584,
          11.418688796593878,
          10.420895888873279,
          10.008737532840707,
          -0.37813361083780467,
          -2.4956741175412556,
          3.3382623496243506,
          0.7195596442456238,
          1.534672204780009,
          -3.501857332040167,
          -1.6016649513080639,
          0.7451253331690081,
          2.0188104237110074,
          0.9410636377504298,
          1.9877008130454141,
          -4.797021054794754,
          -2.799423921597231,
          1.9877920689252617,
          -2.5772480790877705,
          3.0746279124929585,
          1.8482629702164968,
          0.7449286776965313,
          1.8265716192110142,
          -3.337548879298499,
          11.106108656922428,
          10.64173009280332,
          11.804179230260212,
          11.093667927011362,
          2.2297671985560337,
          2.658653201930615,
          1.4874417159140756
         ],
         "yaxis": "y"
        }
       ],
       "layout": {
        "legend": {
         "tracegroupgap": 0
        },
        "margin": {
         "t": 60
        },
        "template": {
         "data": {
          "bar": [
           {
            "error_x": {
             "color": "#2a3f5f"
            },
            "error_y": {
             "color": "#2a3f5f"
            },
            "marker": {
             "line": {
              "color": "#E5ECF6",
              "width": 0.5
             },
             "pattern": {
              "fillmode": "overlay",
              "size": 10,
              "solidity": 0.2
             }
            },
            "type": "bar"
           }
          ],
          "barpolar": [
           {
            "marker": {
             "line": {
              "color": "#E5ECF6",
              "width": 0.5
             },
             "pattern": {
              "fillmode": "overlay",
              "size": 10,
              "solidity": 0.2
             }
            },
            "type": "barpolar"
           }
          ],
          "carpet": [
           {
            "aaxis": {
             "endlinecolor": "#2a3f5f",
             "gridcolor": "white",
             "linecolor": "white",
             "minorgridcolor": "white",
             "startlinecolor": "#2a3f5f"
            },
            "baxis": {
             "endlinecolor": "#2a3f5f",
             "gridcolor": "white",
             "linecolor": "white",
             "minorgridcolor": "white",
             "startlinecolor": "#2a3f5f"
            },
            "type": "carpet"
           }
          ],
          "choropleth": [
           {
            "colorbar": {
             "outlinewidth": 0,
             "ticks": ""
            },
            "type": "choropleth"
           }
          ],
          "contour": [
           {
            "colorbar": {
             "outlinewidth": 0,
             "ticks": ""
            },
            "colorscale": [
             [
              0,
              "#0d0887"
             ],
             [
              0.1111111111111111,
              "#46039f"
             ],
             [
              0.2222222222222222,
              "#7201a8"
             ],
             [
              0.3333333333333333,
              "#9c179e"
             ],
             [
              0.4444444444444444,
              "#bd3786"
             ],
             [
              0.5555555555555556,
              "#d8576b"
             ],
             [
              0.6666666666666666,
              "#ed7953"
             ],
             [
              0.7777777777777778,
              "#fb9f3a"
             ],
             [
              0.8888888888888888,
              "#fdca26"
             ],
             [
              1,
              "#f0f921"
             ]
            ],
            "type": "contour"
           }
          ],
          "contourcarpet": [
           {
            "colorbar": {
             "outlinewidth": 0,
             "ticks": ""
            },
            "type": "contourcarpet"
           }
          ],
          "heatmap": [
           {
            "colorbar": {
             "outlinewidth": 0,
             "ticks": ""
            },
            "colorscale": [
             [
              0,
              "#0d0887"
             ],
             [
              0.1111111111111111,
              "#46039f"
             ],
             [
              0.2222222222222222,
              "#7201a8"
             ],
             [
              0.3333333333333333,
              "#9c179e"
             ],
             [
              0.4444444444444444,
              "#bd3786"
             ],
             [
              0.5555555555555556,
              "#d8576b"
             ],
             [
              0.6666666666666666,
              "#ed7953"
             ],
             [
              0.7777777777777778,
              "#fb9f3a"
             ],
             [
              0.8888888888888888,
              "#fdca26"
             ],
             [
              1,
              "#f0f921"
             ]
            ],
            "type": "heatmap"
           }
          ],
          "heatmapgl": [
           {
            "colorbar": {
             "outlinewidth": 0,
             "ticks": ""
            },
            "colorscale": [
             [
              0,
              "#0d0887"
             ],
             [
              0.1111111111111111,
              "#46039f"
             ],
             [
              0.2222222222222222,
              "#7201a8"
             ],
             [
              0.3333333333333333,
              "#9c179e"
             ],
             [
              0.4444444444444444,
              "#bd3786"
             ],
             [
              0.5555555555555556,
              "#d8576b"
             ],
             [
              0.6666666666666666,
              "#ed7953"
             ],
             [
              0.7777777777777778,
              "#fb9f3a"
             ],
             [
              0.8888888888888888,
              "#fdca26"
             ],
             [
              1,
              "#f0f921"
             ]
            ],
            "type": "heatmapgl"
           }
          ],
          "histogram": [
           {
            "marker": {
             "pattern": {
              "fillmode": "overlay",
              "size": 10,
              "solidity": 0.2
             }
            },
            "type": "histogram"
           }
          ],
          "histogram2d": [
           {
            "colorbar": {
             "outlinewidth": 0,
             "ticks": ""
            },
            "colorscale": [
             [
              0,
              "#0d0887"
             ],
             [
              0.1111111111111111,
              "#46039f"
             ],
             [
              0.2222222222222222,
              "#7201a8"
             ],
             [
              0.3333333333333333,
              "#9c179e"
             ],
             [
              0.4444444444444444,
              "#bd3786"
             ],
             [
              0.5555555555555556,
              "#d8576b"
             ],
             [
              0.6666666666666666,
              "#ed7953"
             ],
             [
              0.7777777777777778,
              "#fb9f3a"
             ],
             [
              0.8888888888888888,
              "#fdca26"
             ],
             [
              1,
              "#f0f921"
             ]
            ],
            "type": "histogram2d"
           }
          ],
          "histogram2dcontour": [
           {
            "colorbar": {
             "outlinewidth": 0,
             "ticks": ""
            },
            "colorscale": [
             [
              0,
              "#0d0887"
             ],
             [
              0.1111111111111111,
              "#46039f"
             ],
             [
              0.2222222222222222,
              "#7201a8"
             ],
             [
              0.3333333333333333,
              "#9c179e"
             ],
             [
              0.4444444444444444,
              "#bd3786"
             ],
             [
              0.5555555555555556,
              "#d8576b"
             ],
             [
              0.6666666666666666,
              "#ed7953"
             ],
             [
              0.7777777777777778,
              "#fb9f3a"
             ],
             [
              0.8888888888888888,
              "#fdca26"
             ],
             [
              1,
              "#f0f921"
             ]
            ],
            "type": "histogram2dcontour"
           }
          ],
          "mesh3d": [
           {
            "colorbar": {
             "outlinewidth": 0,
             "ticks": ""
            },
            "type": "mesh3d"
           }
          ],
          "parcoords": [
           {
            "line": {
             "colorbar": {
              "outlinewidth": 0,
              "ticks": ""
             }
            },
            "type": "parcoords"
           }
          ],
          "pie": [
           {
            "automargin": true,
            "type": "pie"
           }
          ],
          "scatter": [
           {
            "fillpattern": {
             "fillmode": "overlay",
             "size": 10,
             "solidity": 0.2
            },
            "type": "scatter"
           }
          ],
          "scatter3d": [
           {
            "line": {
             "colorbar": {
              "outlinewidth": 0,
              "ticks": ""
             }
            },
            "marker": {
             "colorbar": {
              "outlinewidth": 0,
              "ticks": ""
             }
            },
            "type": "scatter3d"
           }
          ],
          "scattercarpet": [
           {
            "marker": {
             "colorbar": {
              "outlinewidth": 0,
              "ticks": ""
             }
            },
            "type": "scattercarpet"
           }
          ],
          "scattergeo": [
           {
            "marker": {
             "colorbar": {
              "outlinewidth": 0,
              "ticks": ""
             }
            },
            "type": "scattergeo"
           }
          ],
          "scattergl": [
           {
            "marker": {
             "colorbar": {
              "outlinewidth": 0,
              "ticks": ""
             }
            },
            "type": "scattergl"
           }
          ],
          "scattermapbox": [
           {
            "marker": {
             "colorbar": {
              "outlinewidth": 0,
              "ticks": ""
             }
            },
            "type": "scattermapbox"
           }
          ],
          "scatterpolar": [
           {
            "marker": {
             "colorbar": {
              "outlinewidth": 0,
              "ticks": ""
             }
            },
            "type": "scatterpolar"
           }
          ],
          "scatterpolargl": [
           {
            "marker": {
             "colorbar": {
              "outlinewidth": 0,
              "ticks": ""
             }
            },
            "type": "scatterpolargl"
           }
          ],
          "scatterternary": [
           {
            "marker": {
             "colorbar": {
              "outlinewidth": 0,
              "ticks": ""
             }
            },
            "type": "scatterternary"
           }
          ],
          "surface": [
           {
            "colorbar": {
             "outlinewidth": 0,
             "ticks": ""
            },
            "colorscale": [
             [
              0,
              "#0d0887"
             ],
             [
              0.1111111111111111,
              "#46039f"
             ],
             [
              0.2222222222222222,
              "#7201a8"
             ],
             [
              0.3333333333333333,
              "#9c179e"
             ],
             [
              0.4444444444444444,
              "#bd3786"
             ],
             [
              0.5555555555555556,
              "#d8576b"
             ],
             [
              0.6666666666666666,
              "#ed7953"
             ],
             [
              0.7777777777777778,
              "#fb9f3a"
             ],
             [
              0.8888888888888888,
              "#fdca26"
             ],
             [
              1,
              "#f0f921"
             ]
            ],
            "type": "surface"
           }
          ],
          "table": [
           {
            "cells": {
             "fill": {
              "color": "#EBF0F8"
             },
             "line": {
              "color": "white"
             }
            },
            "header": {
             "fill": {
              "color": "#C8D4E3"
             },
             "line": {
              "color": "white"
             }
            },
            "type": "table"
           }
          ]
         },
         "layout": {
          "annotationdefaults": {
           "arrowcolor": "#2a3f5f",
           "arrowhead": 0,
           "arrowwidth": 1
          },
          "autotypenumbers": "strict",
          "coloraxis": {
           "colorbar": {
            "outlinewidth": 0,
            "ticks": ""
           }
          },
          "colorscale": {
           "diverging": [
            [
             0,
             "#8e0152"
            ],
            [
             0.1,
             "#c51b7d"
            ],
            [
             0.2,
             "#de77ae"
            ],
            [
             0.3,
             "#f1b6da"
            ],
            [
             0.4,
             "#fde0ef"
            ],
            [
             0.5,
             "#f7f7f7"
            ],
            [
             0.6,
             "#e6f5d0"
            ],
            [
             0.7,
             "#b8e186"
            ],
            [
             0.8,
             "#7fbc41"
            ],
            [
             0.9,
             "#4d9221"
            ],
            [
             1,
             "#276419"
            ]
           ],
           "sequential": [
            [
             0,
             "#0d0887"
            ],
            [
             0.1111111111111111,
             "#46039f"
            ],
            [
             0.2222222222222222,
             "#7201a8"
            ],
            [
             0.3333333333333333,
             "#9c179e"
            ],
            [
             0.4444444444444444,
             "#bd3786"
            ],
            [
             0.5555555555555556,
             "#d8576b"
            ],
            [
             0.6666666666666666,
             "#ed7953"
            ],
            [
             0.7777777777777778,
             "#fb9f3a"
            ],
            [
             0.8888888888888888,
             "#fdca26"
            ],
            [
             1,
             "#f0f921"
            ]
           ],
           "sequentialminus": [
            [
             0,
             "#0d0887"
            ],
            [
             0.1111111111111111,
             "#46039f"
            ],
            [
             0.2222222222222222,
             "#7201a8"
            ],
            [
             0.3333333333333333,
             "#9c179e"
            ],
            [
             0.4444444444444444,
             "#bd3786"
            ],
            [
             0.5555555555555556,
             "#d8576b"
            ],
            [
             0.6666666666666666,
             "#ed7953"
            ],
            [
             0.7777777777777778,
             "#fb9f3a"
            ],
            [
             0.8888888888888888,
             "#fdca26"
            ],
            [
             1,
             "#f0f921"
            ]
           ]
          },
          "colorway": [
           "#636efa",
           "#EF553B",
           "#00cc96",
           "#ab63fa",
           "#FFA15A",
           "#19d3f3",
           "#FF6692",
           "#B6E880",
           "#FF97FF",
           "#FECB52"
          ],
          "font": {
           "color": "#2a3f5f"
          },
          "geo": {
           "bgcolor": "white",
           "lakecolor": "white",
           "landcolor": "#E5ECF6",
           "showlakes": true,
           "showland": true,
           "subunitcolor": "white"
          },
          "hoverlabel": {
           "align": "left"
          },
          "hovermode": "closest",
          "mapbox": {
           "style": "light"
          },
          "paper_bgcolor": "white",
          "plot_bgcolor": "#E5ECF6",
          "polar": {
           "angularaxis": {
            "gridcolor": "white",
            "linecolor": "white",
            "ticks": ""
           },
           "bgcolor": "#E5ECF6",
           "radialaxis": {
            "gridcolor": "white",
            "linecolor": "white",
            "ticks": ""
           }
          },
          "scene": {
           "xaxis": {
            "backgroundcolor": "#E5ECF6",
            "gridcolor": "white",
            "gridwidth": 2,
            "linecolor": "white",
            "showbackground": true,
            "ticks": "",
            "zerolinecolor": "white"
           },
           "yaxis": {
            "backgroundcolor": "#E5ECF6",
            "gridcolor": "white",
            "gridwidth": 2,
            "linecolor": "white",
            "showbackground": true,
            "ticks": "",
            "zerolinecolor": "white"
           },
           "zaxis": {
            "backgroundcolor": "#E5ECF6",
            "gridcolor": "white",
            "gridwidth": 2,
            "linecolor": "white",
            "showbackground": true,
            "ticks": "",
            "zerolinecolor": "white"
           }
          },
          "shapedefaults": {
           "line": {
            "color": "#2a3f5f"
           }
          },
          "ternary": {
           "aaxis": {
            "gridcolor": "white",
            "linecolor": "white",
            "ticks": ""
           },
           "baxis": {
            "gridcolor": "white",
            "linecolor": "white",
            "ticks": ""
           },
           "bgcolor": "#E5ECF6",
           "caxis": {
            "gridcolor": "white",
            "linecolor": "white",
            "ticks": ""
           }
          },
          "title": {
           "x": 0.05
          },
          "xaxis": {
           "automargin": true,
           "gridcolor": "white",
           "linecolor": "white",
           "ticks": "",
           "title": {
            "standoff": 15
           },
           "zerolinecolor": "white",
           "zerolinewidth": 2
          },
          "yaxis": {
           "automargin": true,
           "gridcolor": "white",
           "linecolor": "white",
           "ticks": "",
           "title": {
            "standoff": 15
           },
           "zerolinecolor": "white",
           "zerolinewidth": 2
          }
         }
        },
        "title": {
         "text": "PCA Projection"
        },
        "xaxis": {
         "anchor": "y",
         "domain": [
          0,
          1
         ],
         "title": {
          "text": "PCA 1"
         }
        },
        "yaxis": {
         "anchor": "x",
         "domain": [
          0,
          1
         ],
         "title": {
          "text": "PCA 2"
         }
        }
       }
      }
     },
     "metadata": {},
     "output_type": "display_data"
    }
   ],
   "source": [
    "fig = px.scatter(df_pca, x=\"PC1\", y=\"PC2\", hover_data={'nodeId': True})\n",
    "\n",
    "fig.update_layout(title=\"PCA Projection\",\n",
    "                  xaxis_title=\"PCA 1\",\n",
    "                  yaxis_title=\"PCA 2\")\n",
    "\n",
    "fig.show()"
   ]
  },
  {
   "cell_type": "code",
   "execution_count": 20,
   "metadata": {},
   "outputs": [
    {
     "data": {
      "text/html": [
       "<div>\n",
       "<style scoped>\n",
       "    .dataframe tbody tr th:only-of-type {\n",
       "        vertical-align: middle;\n",
       "    }\n",
       "\n",
       "    .dataframe tbody tr th {\n",
       "        vertical-align: top;\n",
       "    }\n",
       "\n",
       "    .dataframe thead th {\n",
       "        text-align: right;\n",
       "    }\n",
       "</style>\n",
       "<table border=\"1\" class=\"dataframe\">\n",
       "  <thead>\n",
       "    <tr style=\"text-align: right;\">\n",
       "      <th>Col</th>\n",
       "      <th>2024-02-21 18:29:15</th>\n",
       "      <th>2024-02-21 18:29:30</th>\n",
       "      <th>2024-02-21 18:29:45</th>\n",
       "      <th>2024-02-21 18:30:00</th>\n",
       "      <th>2024-02-21 18:30:15</th>\n",
       "      <th>2024-02-21 18:30:30</th>\n",
       "      <th>2024-02-21 18:30:45</th>\n",
       "      <th>2024-02-21 18:31:00</th>\n",
       "      <th>2024-02-21 18:31:15</th>\n",
       "      <th>2024-02-21 18:31:30</th>\n",
       "      <th>...</th>\n",
       "      <th>2024-02-21 19:38:45</th>\n",
       "      <th>2024-02-21 19:39:00</th>\n",
       "      <th>2024-02-21 19:39:15</th>\n",
       "      <th>2024-02-21 19:39:30</th>\n",
       "      <th>2024-02-21 19:39:45</th>\n",
       "      <th>UMAP1</th>\n",
       "      <th>UMAP2</th>\n",
       "      <th>nodeId</th>\n",
       "      <th>tSNE1</th>\n",
       "      <th>tSNE2</th>\n",
       "    </tr>\n",
       "    <tr>\n",
       "      <th>Measurement</th>\n",
       "      <th></th>\n",
       "      <th></th>\n",
       "      <th></th>\n",
       "      <th></th>\n",
       "      <th></th>\n",
       "      <th></th>\n",
       "      <th></th>\n",
       "      <th></th>\n",
       "      <th></th>\n",
       "      <th></th>\n",
       "      <th></th>\n",
       "      <th></th>\n",
       "      <th></th>\n",
       "      <th></th>\n",
       "      <th></th>\n",
       "      <th></th>\n",
       "      <th></th>\n",
       "      <th></th>\n",
       "      <th></th>\n",
       "      <th></th>\n",
       "      <th></th>\n",
       "    </tr>\n",
       "  </thead>\n",
       "  <tbody>\n",
       "    <tr>\n",
       "      <th>novadaq-far-farm-06</th>\n",
       "      <td>-0.198384</td>\n",
       "      <td>0.039488</td>\n",
       "      <td>0.023610</td>\n",
       "      <td>-0.237311</td>\n",
       "      <td>-0.212725</td>\n",
       "      <td>0.142633</td>\n",
       "      <td>0.449152</td>\n",
       "      <td>0.596131</td>\n",
       "      <td>0.517030</td>\n",
       "      <td>0.510573</td>\n",
       "      <td>...</td>\n",
       "      <td>0.900930</td>\n",
       "      <td>0.418770</td>\n",
       "      <td>0.557354</td>\n",
       "      <td>0.470325</td>\n",
       "      <td>0.294177</td>\n",
       "      <td>14.855693</td>\n",
       "      <td>7.594246</td>\n",
       "      <td>novadaq-far-farm-06</td>\n",
       "      <td>-3.489189</td>\n",
       "      <td>1.873971</td>\n",
       "    </tr>\n",
       "    <tr>\n",
       "      <th>novadaq-far-farm-07</th>\n",
       "      <td>0.504821</td>\n",
       "      <td>0.683554</td>\n",
       "      <td>0.803510</td>\n",
       "      <td>0.717423</td>\n",
       "      <td>0.865332</td>\n",
       "      <td>1.053720</td>\n",
       "      <td>1.145219</td>\n",
       "      <td>1.267338</td>\n",
       "      <td>1.163146</td>\n",
       "      <td>1.054525</td>\n",
       "      <td>...</td>\n",
       "      <td>0.690630</td>\n",
       "      <td>0.660161</td>\n",
       "      <td>0.600747</td>\n",
       "      <td>0.720751</td>\n",
       "      <td>0.852562</td>\n",
       "      <td>14.707959</td>\n",
       "      <td>7.418636</td>\n",
       "      <td>novadaq-far-farm-07</td>\n",
       "      <td>-3.235267</td>\n",
       "      <td>1.475462</td>\n",
       "    </tr>\n",
       "    <tr>\n",
       "      <th>novadaq-far-farm-08</th>\n",
       "      <td>-0.168806</td>\n",
       "      <td>-0.439695</td>\n",
       "      <td>-0.396591</td>\n",
       "      <td>-0.346659</td>\n",
       "      <td>-0.223896</td>\n",
       "      <td>0.016551</td>\n",
       "      <td>0.475218</td>\n",
       "      <td>0.926195</td>\n",
       "      <td>0.759334</td>\n",
       "      <td>0.626266</td>\n",
       "      <td>...</td>\n",
       "      <td>1.372138</td>\n",
       "      <td>1.509317</td>\n",
       "      <td>1.496844</td>\n",
       "      <td>1.588132</td>\n",
       "      <td>1.663613</td>\n",
       "      <td>14.768608</td>\n",
       "      <td>7.510266</td>\n",
       "      <td>novadaq-far-farm-08</td>\n",
       "      <td>-3.561736</td>\n",
       "      <td>1.726350</td>\n",
       "    </tr>\n",
       "    <tr>\n",
       "      <th>novadaq-far-farm-09</th>\n",
       "      <td>0.686600</td>\n",
       "      <td>0.768580</td>\n",
       "      <td>0.609316</td>\n",
       "      <td>0.268636</td>\n",
       "      <td>0.516960</td>\n",
       "      <td>0.767673</td>\n",
       "      <td>0.942082</td>\n",
       "      <td>1.041299</td>\n",
       "      <td>0.893513</td>\n",
       "      <td>0.776286</td>\n",
       "      <td>...</td>\n",
       "      <td>0.091758</td>\n",
       "      <td>0.232084</td>\n",
       "      <td>0.444204</td>\n",
       "      <td>0.437782</td>\n",
       "      <td>0.530220</td>\n",
       "      <td>14.772607</td>\n",
       "      <td>7.504114</td>\n",
       "      <td>novadaq-far-farm-09</td>\n",
       "      <td>-3.498419</td>\n",
       "      <td>1.706694</td>\n",
       "    </tr>\n",
       "    <tr>\n",
       "      <th>novadaq-far-farm-10</th>\n",
       "      <td>0.053059</td>\n",
       "      <td>0.137471</td>\n",
       "      <td>0.141747</td>\n",
       "      <td>-0.030123</td>\n",
       "      <td>0.121336</td>\n",
       "      <td>0.305263</td>\n",
       "      <td>0.471781</td>\n",
       "      <td>0.663888</td>\n",
       "      <td>0.552687</td>\n",
       "      <td>0.360966</td>\n",
       "      <td>...</td>\n",
       "      <td>-0.221675</td>\n",
       "      <td>-0.393095</td>\n",
       "      <td>-0.340732</td>\n",
       "      <td>-0.282804</td>\n",
       "      <td>-0.103621</td>\n",
       "      <td>14.594674</td>\n",
       "      <td>7.033092</td>\n",
       "      <td>novadaq-far-farm-10</td>\n",
       "      <td>-2.469775</td>\n",
       "      <td>0.763147</td>\n",
       "    </tr>\n",
       "    <tr>\n",
       "      <th>...</th>\n",
       "      <td>...</td>\n",
       "      <td>...</td>\n",
       "      <td>...</td>\n",
       "      <td>...</td>\n",
       "      <td>...</td>\n",
       "      <td>...</td>\n",
       "      <td>...</td>\n",
       "      <td>...</td>\n",
       "      <td>...</td>\n",
       "      <td>...</td>\n",
       "      <td>...</td>\n",
       "      <td>...</td>\n",
       "      <td>...</td>\n",
       "      <td>...</td>\n",
       "      <td>...</td>\n",
       "      <td>...</td>\n",
       "      <td>...</td>\n",
       "      <td>...</td>\n",
       "      <td>...</td>\n",
       "      <td>...</td>\n",
       "      <td>...</td>\n",
       "    </tr>\n",
       "    <tr>\n",
       "      <th>novadaq-far-farm-95</th>\n",
       "      <td>-0.339057</td>\n",
       "      <td>-0.314944</td>\n",
       "      <td>-0.231916</td>\n",
       "      <td>-0.284658</td>\n",
       "      <td>-0.040883</td>\n",
       "      <td>-0.047766</td>\n",
       "      <td>-0.461716</td>\n",
       "      <td>-0.863113</td>\n",
       "      <td>-0.904743</td>\n",
       "      <td>-0.737088</td>\n",
       "      <td>...</td>\n",
       "      <td>2.660063</td>\n",
       "      <td>2.636534</td>\n",
       "      <td>2.620280</td>\n",
       "      <td>2.662446</td>\n",
       "      <td>2.246520</td>\n",
       "      <td>3.708235</td>\n",
       "      <td>19.325142</td>\n",
       "      <td>novadaq-far-farm-95</td>\n",
       "      <td>-9.960502</td>\n",
       "      <td>4.640980</td>\n",
       "    </tr>\n",
       "    <tr>\n",
       "      <th>novadaq-far-farm-96</th>\n",
       "      <td>-0.019654</td>\n",
       "      <td>0.158686</td>\n",
       "      <td>0.236861</td>\n",
       "      <td>0.030676</td>\n",
       "      <td>-0.202409</td>\n",
       "      <td>-0.159199</td>\n",
       "      <td>-0.178469</td>\n",
       "      <td>-0.153871</td>\n",
       "      <td>-0.299224</td>\n",
       "      <td>-0.499804</td>\n",
       "      <td>...</td>\n",
       "      <td>1.085927</td>\n",
       "      <td>1.347924</td>\n",
       "      <td>1.362362</td>\n",
       "      <td>1.645015</td>\n",
       "      <td>1.804123</td>\n",
       "      <td>3.994422</td>\n",
       "      <td>18.785683</td>\n",
       "      <td>novadaq-far-farm-96</td>\n",
       "      <td>-9.349502</td>\n",
       "      <td>4.030197</td>\n",
       "    </tr>\n",
       "    <tr>\n",
       "      <th>novadaq-far-farm-97</th>\n",
       "      <td>-1.724263</td>\n",
       "      <td>-1.467371</td>\n",
       "      <td>-1.401254</td>\n",
       "      <td>-1.164658</td>\n",
       "      <td>-1.155608</td>\n",
       "      <td>-1.168976</td>\n",
       "      <td>-0.971264</td>\n",
       "      <td>-0.965827</td>\n",
       "      <td>-1.173564</td>\n",
       "      <td>-1.039041</td>\n",
       "      <td>...</td>\n",
       "      <td>0.052340</td>\n",
       "      <td>-0.216871</td>\n",
       "      <td>0.117224</td>\n",
       "      <td>0.330893</td>\n",
       "      <td>-0.020413</td>\n",
       "      <td>16.728779</td>\n",
       "      <td>7.221318</td>\n",
       "      <td>novadaq-far-farm-97</td>\n",
       "      <td>0.401477</td>\n",
       "      <td>5.435856</td>\n",
       "    </tr>\n",
       "    <tr>\n",
       "      <th>novadaq-far-farm-98</th>\n",
       "      <td>-0.565797</td>\n",
       "      <td>-0.559584</td>\n",
       "      <td>-0.795994</td>\n",
       "      <td>-1.109042</td>\n",
       "      <td>-0.883274</td>\n",
       "      <td>-0.662033</td>\n",
       "      <td>-0.709299</td>\n",
       "      <td>-0.917839</td>\n",
       "      <td>-0.865991</td>\n",
       "      <td>-0.740719</td>\n",
       "      <td>...</td>\n",
       "      <td>0.484195</td>\n",
       "      <td>0.651909</td>\n",
       "      <td>0.535688</td>\n",
       "      <td>0.692403</td>\n",
       "      <td>0.423803</td>\n",
       "      <td>15.383457</td>\n",
       "      <td>8.083879</td>\n",
       "      <td>novadaq-far-farm-98</td>\n",
       "      <td>-1.716707</td>\n",
       "      <td>4.209938</td>\n",
       "    </tr>\n",
       "    <tr>\n",
       "      <th>novadaq-far-farm-99</th>\n",
       "      <td>-0.702787</td>\n",
       "      <td>-0.909382</td>\n",
       "      <td>-0.934710</td>\n",
       "      <td>-0.882525</td>\n",
       "      <td>-0.907348</td>\n",
       "      <td>-0.938137</td>\n",
       "      <td>-0.710803</td>\n",
       "      <td>-0.431399</td>\n",
       "      <td>-0.536895</td>\n",
       "      <td>-0.469649</td>\n",
       "      <td>...</td>\n",
       "      <td>-0.161721</td>\n",
       "      <td>-0.317330</td>\n",
       "      <td>-0.088876</td>\n",
       "      <td>-0.070335</td>\n",
       "      <td>-0.369299</td>\n",
       "      <td>16.689186</td>\n",
       "      <td>7.601020</td>\n",
       "      <td>novadaq-far-farm-99</td>\n",
       "      <td>0.190373</td>\n",
       "      <td>6.513723</td>\n",
       "    </tr>\n",
       "  </tbody>\n",
       "</table>\n",
       "<p>195 rows × 288 columns</p>\n",
       "</div>"
      ],
      "text/plain": [
       "Col                  2024-02-21 18:29:15  2024-02-21 18:29:30  \\\n",
       "Measurement                                                     \n",
       "novadaq-far-farm-06            -0.198384             0.039488   \n",
       "novadaq-far-farm-07             0.504821             0.683554   \n",
       "novadaq-far-farm-08            -0.168806            -0.439695   \n",
       "novadaq-far-farm-09             0.686600             0.768580   \n",
       "novadaq-far-farm-10             0.053059             0.137471   \n",
       "...                                  ...                  ...   \n",
       "novadaq-far-farm-95            -0.339057            -0.314944   \n",
       "novadaq-far-farm-96            -0.019654             0.158686   \n",
       "novadaq-far-farm-97            -1.724263            -1.467371   \n",
       "novadaq-far-farm-98            -0.565797            -0.559584   \n",
       "novadaq-far-farm-99            -0.702787            -0.909382   \n",
       "\n",
       "Col                  2024-02-21 18:29:45  2024-02-21 18:30:00  \\\n",
       "Measurement                                                     \n",
       "novadaq-far-farm-06             0.023610            -0.237311   \n",
       "novadaq-far-farm-07             0.803510             0.717423   \n",
       "novadaq-far-farm-08            -0.396591            -0.346659   \n",
       "novadaq-far-farm-09             0.609316             0.268636   \n",
       "novadaq-far-farm-10             0.141747            -0.030123   \n",
       "...                                  ...                  ...   \n",
       "novadaq-far-farm-95            -0.231916            -0.284658   \n",
       "novadaq-far-farm-96             0.236861             0.030676   \n",
       "novadaq-far-farm-97            -1.401254            -1.164658   \n",
       "novadaq-far-farm-98            -0.795994            -1.109042   \n",
       "novadaq-far-farm-99            -0.934710            -0.882525   \n",
       "\n",
       "Col                  2024-02-21 18:30:15  2024-02-21 18:30:30  \\\n",
       "Measurement                                                     \n",
       "novadaq-far-farm-06            -0.212725             0.142633   \n",
       "novadaq-far-farm-07             0.865332             1.053720   \n",
       "novadaq-far-farm-08            -0.223896             0.016551   \n",
       "novadaq-far-farm-09             0.516960             0.767673   \n",
       "novadaq-far-farm-10             0.121336             0.305263   \n",
       "...                                  ...                  ...   \n",
       "novadaq-far-farm-95            -0.040883            -0.047766   \n",
       "novadaq-far-farm-96            -0.202409            -0.159199   \n",
       "novadaq-far-farm-97            -1.155608            -1.168976   \n",
       "novadaq-far-farm-98            -0.883274            -0.662033   \n",
       "novadaq-far-farm-99            -0.907348            -0.938137   \n",
       "\n",
       "Col                  2024-02-21 18:30:45  2024-02-21 18:31:00  \\\n",
       "Measurement                                                     \n",
       "novadaq-far-farm-06             0.449152             0.596131   \n",
       "novadaq-far-farm-07             1.145219             1.267338   \n",
       "novadaq-far-farm-08             0.475218             0.926195   \n",
       "novadaq-far-farm-09             0.942082             1.041299   \n",
       "novadaq-far-farm-10             0.471781             0.663888   \n",
       "...                                  ...                  ...   \n",
       "novadaq-far-farm-95            -0.461716            -0.863113   \n",
       "novadaq-far-farm-96            -0.178469            -0.153871   \n",
       "novadaq-far-farm-97            -0.971264            -0.965827   \n",
       "novadaq-far-farm-98            -0.709299            -0.917839   \n",
       "novadaq-far-farm-99            -0.710803            -0.431399   \n",
       "\n",
       "Col                  2024-02-21 18:31:15  2024-02-21 18:31:30  ...  \\\n",
       "Measurement                                                    ...   \n",
       "novadaq-far-farm-06             0.517030             0.510573  ...   \n",
       "novadaq-far-farm-07             1.163146             1.054525  ...   \n",
       "novadaq-far-farm-08             0.759334             0.626266  ...   \n",
       "novadaq-far-farm-09             0.893513             0.776286  ...   \n",
       "novadaq-far-farm-10             0.552687             0.360966  ...   \n",
       "...                                  ...                  ...  ...   \n",
       "novadaq-far-farm-95            -0.904743            -0.737088  ...   \n",
       "novadaq-far-farm-96            -0.299224            -0.499804  ...   \n",
       "novadaq-far-farm-97            -1.173564            -1.039041  ...   \n",
       "novadaq-far-farm-98            -0.865991            -0.740719  ...   \n",
       "novadaq-far-farm-99            -0.536895            -0.469649  ...   \n",
       "\n",
       "Col                  2024-02-21 19:38:45  2024-02-21 19:39:00  \\\n",
       "Measurement                                                     \n",
       "novadaq-far-farm-06             0.900930             0.418770   \n",
       "novadaq-far-farm-07             0.690630             0.660161   \n",
       "novadaq-far-farm-08             1.372138             1.509317   \n",
       "novadaq-far-farm-09             0.091758             0.232084   \n",
       "novadaq-far-farm-10            -0.221675            -0.393095   \n",
       "...                                  ...                  ...   \n",
       "novadaq-far-farm-95             2.660063             2.636534   \n",
       "novadaq-far-farm-96             1.085927             1.347924   \n",
       "novadaq-far-farm-97             0.052340            -0.216871   \n",
       "novadaq-far-farm-98             0.484195             0.651909   \n",
       "novadaq-far-farm-99            -0.161721            -0.317330   \n",
       "\n",
       "Col                  2024-02-21 19:39:15  2024-02-21 19:39:30  \\\n",
       "Measurement                                                     \n",
       "novadaq-far-farm-06             0.557354             0.470325   \n",
       "novadaq-far-farm-07             0.600747             0.720751   \n",
       "novadaq-far-farm-08             1.496844             1.588132   \n",
       "novadaq-far-farm-09             0.444204             0.437782   \n",
       "novadaq-far-farm-10            -0.340732            -0.282804   \n",
       "...                                  ...                  ...   \n",
       "novadaq-far-farm-95             2.620280             2.662446   \n",
       "novadaq-far-farm-96             1.362362             1.645015   \n",
       "novadaq-far-farm-97             0.117224             0.330893   \n",
       "novadaq-far-farm-98             0.535688             0.692403   \n",
       "novadaq-far-farm-99            -0.088876            -0.070335   \n",
       "\n",
       "Col                  2024-02-21 19:39:45      UMAP1      UMAP2  \\\n",
       "Measurement                                                      \n",
       "novadaq-far-farm-06             0.294177  14.855693   7.594246   \n",
       "novadaq-far-farm-07             0.852562  14.707959   7.418636   \n",
       "novadaq-far-farm-08             1.663613  14.768608   7.510266   \n",
       "novadaq-far-farm-09             0.530220  14.772607   7.504114   \n",
       "novadaq-far-farm-10            -0.103621  14.594674   7.033092   \n",
       "...                                  ...        ...        ...   \n",
       "novadaq-far-farm-95             2.246520   3.708235  19.325142   \n",
       "novadaq-far-farm-96             1.804123   3.994422  18.785683   \n",
       "novadaq-far-farm-97            -0.020413  16.728779   7.221318   \n",
       "novadaq-far-farm-98             0.423803  15.383457   8.083879   \n",
       "novadaq-far-farm-99            -0.369299  16.689186   7.601020   \n",
       "\n",
       "Col                               nodeId     tSNE1     tSNE2  \n",
       "Measurement                                                   \n",
       "novadaq-far-farm-06  novadaq-far-farm-06 -3.489189  1.873971  \n",
       "novadaq-far-farm-07  novadaq-far-farm-07 -3.235267  1.475462  \n",
       "novadaq-far-farm-08  novadaq-far-farm-08 -3.561736  1.726350  \n",
       "novadaq-far-farm-09  novadaq-far-farm-09 -3.498419  1.706694  \n",
       "novadaq-far-farm-10  novadaq-far-farm-10 -2.469775  0.763147  \n",
       "...                                  ...       ...       ...  \n",
       "novadaq-far-farm-95  novadaq-far-farm-95 -9.960502  4.640980  \n",
       "novadaq-far-farm-96  novadaq-far-farm-96 -9.349502  4.030197  \n",
       "novadaq-far-farm-97  novadaq-far-farm-97  0.401477  5.435856  \n",
       "novadaq-far-farm-98  novadaq-far-farm-98 -1.716707  4.209938  \n",
       "novadaq-far-farm-99  novadaq-far-farm-99  0.190373  6.513723  \n",
       "\n",
       "[195 rows x 288 columns]"
      ]
     },
     "execution_count": 20,
     "metadata": {},
     "output_type": "execute_result"
    }
   ],
   "source": [
    "df_pivot"
   ]
  },
  {
   "cell_type": "code",
   "execution_count": 21,
   "metadata": {},
   "outputs": [],
   "source": [
    "df_pivot['PC1'] = df_pca['PC1']\n",
    "df_pivot['PC2'] = df_pca['PC2']\n",
    "df_pivot.drop(columns=['nodeId']).to_csv('multiDR_results2.csv')"
   ]
  }
 ],
 "metadata": {
  "kernelspec": {
   "display_name": "myenv",
   "language": "python",
   "name": "python3"
  },
  "language_info": {
   "codemirror_mode": {
    "name": "ipython",
    "version": 3
   },
   "file_extension": ".py",
   "mimetype": "text/x-python",
   "name": "python",
   "nbconvert_exporter": "python",
   "pygments_lexer": "ipython3",
   "version": "3.9.18"
  }
 },
 "nbformat": 4,
 "nbformat_minor": 2
}
