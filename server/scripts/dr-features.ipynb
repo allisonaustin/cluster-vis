{
 "cells": [
  {
   "cell_type": "code",
   "execution_count": 2,
   "metadata": {},
   "outputs": [
    {
     "data": {
      "text/html": [
       "<div>\n",
       "<style scoped>\n",
       "    .dataframe tbody tr th:only-of-type {\n",
       "        vertical-align: middle;\n",
       "    }\n",
       "\n",
       "    .dataframe tbody tr th {\n",
       "        vertical-align: top;\n",
       "    }\n",
       "\n",
       "    .dataframe thead th {\n",
       "        text-align: right;\n",
       "    }\n",
       "</style>\n",
       "<table border=\"1\" class=\"dataframe\">\n",
       "  <thead>\n",
       "    <tr style=\"text-align: right;\">\n",
       "      <th></th>\n",
       "      <th>timestamp</th>\n",
       "      <th>cpu_system</th>\n",
       "      <th>boottime</th>\n",
       "      <th>Pool Size Time_P1</th>\n",
       "      <th>mem_free</th>\n",
       "      <th>Missed Buffers_P1</th>\n",
       "      <th>bytes_out</th>\n",
       "      <th>cpu_user</th>\n",
       "      <th>cpu_idle</th>\n",
       "      <th>Pool Size Data_P1</th>\n",
       "      <th>...</th>\n",
       "      <th>RetransSegs_rate</th>\n",
       "      <th>TCPLostRetransmit_rate</th>\n",
       "      <th>TCPForwardRetrans_rate</th>\n",
       "      <th>TotalRetrans</th>\n",
       "      <th>TCPSlowStartRetrans</th>\n",
       "      <th>RPCRetrans</th>\n",
       "      <th>TCPFastRetrans</th>\n",
       "      <th>TCPLostRetransmit</th>\n",
       "      <th>TCPForwardRetrans</th>\n",
       "      <th>RetransSegs</th>\n",
       "    </tr>\n",
       "  </thead>\n",
       "  <tbody>\n",
       "    <tr>\n",
       "      <th>0</th>\n",
       "      <td>2024-02-21 05:36:00</td>\n",
       "      <td>2.100000</td>\n",
       "      <td>0.000000e+00</td>\n",
       "      <td>0.000000</td>\n",
       "      <td>0.0</td>\n",
       "      <td>0.0</td>\n",
       "      <td>0.0</td>\n",
       "      <td>1.006667</td>\n",
       "      <td>0.0</td>\n",
       "      <td>0.000000</td>\n",
       "      <td>...</td>\n",
       "      <td>0.0</td>\n",
       "      <td>0.0</td>\n",
       "      <td>0.0</td>\n",
       "      <td>0.0</td>\n",
       "      <td>0.0</td>\n",
       "      <td>0.0</td>\n",
       "      <td>0.0</td>\n",
       "      <td>0.0</td>\n",
       "      <td>0.0</td>\n",
       "      <td>0.0</td>\n",
       "    </tr>\n",
       "    <tr>\n",
       "      <th>1</th>\n",
       "      <td>2024-02-21 05:36:15</td>\n",
       "      <td>2.100000</td>\n",
       "      <td>0.000000e+00</td>\n",
       "      <td>2038.710000</td>\n",
       "      <td>0.0</td>\n",
       "      <td>0.0</td>\n",
       "      <td>0.0</td>\n",
       "      <td>1.300000</td>\n",
       "      <td>0.0</td>\n",
       "      <td>0.000000</td>\n",
       "      <td>...</td>\n",
       "      <td>0.0</td>\n",
       "      <td>0.0</td>\n",
       "      <td>0.0</td>\n",
       "      <td>0.0</td>\n",
       "      <td>0.0</td>\n",
       "      <td>0.0</td>\n",
       "      <td>0.0</td>\n",
       "      <td>0.0</td>\n",
       "      <td>0.0</td>\n",
       "      <td>0.0</td>\n",
       "    </tr>\n",
       "    <tr>\n",
       "      <th>2</th>\n",
       "      <td>2024-02-21 05:36:30</td>\n",
       "      <td>1.993333</td>\n",
       "      <td>0.000000e+00</td>\n",
       "      <td>2055.490000</td>\n",
       "      <td>0.0</td>\n",
       "      <td>0.0</td>\n",
       "      <td>0.0</td>\n",
       "      <td>1.300000</td>\n",
       "      <td>0.0</td>\n",
       "      <td>11795.033333</td>\n",
       "      <td>...</td>\n",
       "      <td>0.0</td>\n",
       "      <td>0.0</td>\n",
       "      <td>0.0</td>\n",
       "      <td>0.0</td>\n",
       "      <td>0.0</td>\n",
       "      <td>0.0</td>\n",
       "      <td>0.0</td>\n",
       "      <td>0.0</td>\n",
       "      <td>0.0</td>\n",
       "      <td>0.0</td>\n",
       "    </tr>\n",
       "    <tr>\n",
       "      <th>3</th>\n",
       "      <td>2024-02-21 05:36:45</td>\n",
       "      <td>1.806667</td>\n",
       "      <td>0.000000e+00</td>\n",
       "      <td>2049.026000</td>\n",
       "      <td>0.0</td>\n",
       "      <td>0.0</td>\n",
       "      <td>0.0</td>\n",
       "      <td>1.300000</td>\n",
       "      <td>0.0</td>\n",
       "      <td>11892.133333</td>\n",
       "      <td>...</td>\n",
       "      <td>0.0</td>\n",
       "      <td>0.0</td>\n",
       "      <td>0.0</td>\n",
       "      <td>0.0</td>\n",
       "      <td>0.0</td>\n",
       "      <td>0.0</td>\n",
       "      <td>0.0</td>\n",
       "      <td>0.0</td>\n",
       "      <td>0.0</td>\n",
       "      <td>0.0</td>\n",
       "    </tr>\n",
       "    <tr>\n",
       "      <th>4</th>\n",
       "      <td>2024-02-21 05:37:00</td>\n",
       "      <td>2.100000</td>\n",
       "      <td>1.705514e+09</td>\n",
       "      <td>2014.643333</td>\n",
       "      <td>0.0</td>\n",
       "      <td>0.0</td>\n",
       "      <td>0.0</td>\n",
       "      <td>1.110000</td>\n",
       "      <td>0.0</td>\n",
       "      <td>11854.600000</td>\n",
       "      <td>...</td>\n",
       "      <td>0.0</td>\n",
       "      <td>0.0</td>\n",
       "      <td>0.0</td>\n",
       "      <td>0.0</td>\n",
       "      <td>0.0</td>\n",
       "      <td>0.0</td>\n",
       "      <td>0.0</td>\n",
       "      <td>0.0</td>\n",
       "      <td>0.0</td>\n",
       "      <td>0.0</td>\n",
       "    </tr>\n",
       "  </tbody>\n",
       "</table>\n",
       "<p>5 rows × 48 columns</p>\n",
       "</div>"
      ],
      "text/plain": [
       "             timestamp  cpu_system      boottime  Pool Size Time_P1  mem_free  \\\n",
       "0  2024-02-21 05:36:00    2.100000  0.000000e+00           0.000000       0.0   \n",
       "1  2024-02-21 05:36:15    2.100000  0.000000e+00        2038.710000       0.0   \n",
       "2  2024-02-21 05:36:30    1.993333  0.000000e+00        2055.490000       0.0   \n",
       "3  2024-02-21 05:36:45    1.806667  0.000000e+00        2049.026000       0.0   \n",
       "4  2024-02-21 05:37:00    2.100000  1.705514e+09        2014.643333       0.0   \n",
       "\n",
       "   Missed Buffers_P1  bytes_out  cpu_user  cpu_idle  Pool Size Data_P1  ...  \\\n",
       "0                0.0        0.0  1.006667       0.0           0.000000  ...   \n",
       "1                0.0        0.0  1.300000       0.0           0.000000  ...   \n",
       "2                0.0        0.0  1.300000       0.0       11795.033333  ...   \n",
       "3                0.0        0.0  1.300000       0.0       11892.133333  ...   \n",
       "4                0.0        0.0  1.110000       0.0       11854.600000  ...   \n",
       "\n",
       "   RetransSegs_rate  TCPLostRetransmit_rate  TCPForwardRetrans_rate  \\\n",
       "0               0.0                     0.0                     0.0   \n",
       "1               0.0                     0.0                     0.0   \n",
       "2               0.0                     0.0                     0.0   \n",
       "3               0.0                     0.0                     0.0   \n",
       "4               0.0                     0.0                     0.0   \n",
       "\n",
       "   TotalRetrans  TCPSlowStartRetrans  RPCRetrans  TCPFastRetrans  \\\n",
       "0           0.0                  0.0         0.0             0.0   \n",
       "1           0.0                  0.0         0.0             0.0   \n",
       "2           0.0                  0.0         0.0             0.0   \n",
       "3           0.0                  0.0         0.0             0.0   \n",
       "4           0.0                  0.0         0.0             0.0   \n",
       "\n",
       "   TCPLostRetransmit  TCPForwardRetrans  RetransSegs  \n",
       "0                0.0                0.0          0.0  \n",
       "1                0.0                0.0          0.0  \n",
       "2                0.0                0.0          0.0  \n",
       "3                0.0                0.0          0.0  \n",
       "4                0.0                0.0          0.0  \n",
       "\n",
       "[5 rows x 48 columns]"
      ]
     },
     "execution_count": 2,
     "metadata": {},
     "output_type": "execute_result"
    }
   ],
   "source": [
    "import numpy as np\n",
    "import pandas as pd \n",
    "import plotly.express as px\n",
    "import json \n",
    "import os\n",
    "\n",
    "df_f = pd.read_csv('../data/farm/far_data_2024-02-21.csv').fillna(0.0)\n",
    "df_f.head()"
   ]
  },
  {
   "cell_type": "markdown",
   "metadata": {},
   "source": [
    "Dimensionality Reduction (DR) across feature domain, time domain"
   ]
  },
  {
   "cell_type": "code",
   "execution_count": null,
   "metadata": {},
   "outputs": [],
   "source": [
    "from pygam import GAM, s\n",
    "from scipy.interpolate import BSpline, splrep, splev\n",
    "from sklearn.decomposition import PCA\n",
    "from sklearn.preprocessing import StandardScaler\n",
    "\n",
    "def preprocess(df, timestamp):\n",
    "    return df[df['timestamp']==timestamp].set_index('nodeId').drop(columns='timestamp')\n",
    "    \n",
    "# DR1: Applying PCA to each timestamp across features\n",
    "def apply_pca_to_time(ts, df):\n",
    "    try:\n",
    "        # pivot: rows -> features, columns -> nodeId\n",
    "        X = preprocess(df, ts)\n",
    "\n",
    "        # convert to cupy array\n",
    "        # baseline = cp.array(X.values)\n",
    "        baseline = X.values\n",
    "\n",
    "        # normalizing the data (demean)\n",
    "        mean_hat = baseline.mean(axis=0)\n",
    "        demeaned = baseline - mean_hat\n",
    "\n",
    "        # standardize\n",
    "        scaler = StandardScaler()\n",
    "        X_scaled = scaler.fit_transform(demeaned)\n",
    "\n",
    "        # if (X_scaled.shape[0] < 2 or np.all(np.isnan(X_scaled)) or np.all(X_scaled == 0)):\n",
    "        if X_scaled.shape[0] < 2 or np.all(np.isnan(X_scaled)):\n",
    "            print(f\"Skipping {ts} due to insufficient data variance.\")\n",
    "            return None\n",
    "\n",
    "        # apply PCA\n",
    "        pca = PCA(n_components=3)\n",
    "        scores = pca.fit_transform(X_scaled)\n",
    "\n",
    "        explained_variance_ratio_cumsum = np.cumsum(pca.explained_variance_ratio_)\n",
    "        npc = np.sum(explained_variance_ratio_cumsum < 0.9999) + 1\n",
    "        print(f\"Number of principal components: {npc}\")\n",
    "        # print(f\"PC1:\",pca.components_[1], len(pca.components_[1]))\n",
    "        comp = np.array(pca.components_[1])\n",
    "        # most influential timestamp for this column\n",
    "        fc_f = X.columns[np.argmax(comp)]\n",
    "\n",
    "        P_fin = pd.DataFrame({f\"PC{k+1}\": scores[:, k] if k < npc else np.nan for k in range(3)})\n",
    "        P_fin['Measurement'] = X.index\n",
    "        P_fin['FC_f'] = fc_f\n",
    "\n",
    "        # print(f\"{col_name} done...\")\n",
    "\n",
    "        return P_fin \n",
    "\n",
    "    except Exception as e:\n",
    "        print(f\"Error processing PCA across features: {e}\")\n",
    "        return None"
   ]
  },
  {
   "cell_type": "markdown",
   "metadata": {},
   "source": [
    "Some timestamps only return one row (node)"
   ]
  },
  {
   "cell_type": "code",
   "execution_count": 3,
   "metadata": {},
   "outputs": [
    {
     "data": {
      "text/html": [
       "<div>\n",
       "<style scoped>\n",
       "    .dataframe tbody tr th:only-of-type {\n",
       "        vertical-align: middle;\n",
       "    }\n",
       "\n",
       "    .dataframe tbody tr th {\n",
       "        vertical-align: top;\n",
       "    }\n",
       "\n",
       "    .dataframe thead th {\n",
       "        text-align: right;\n",
       "    }\n",
       "</style>\n",
       "<table border=\"1\" class=\"dataframe\">\n",
       "  <thead>\n",
       "    <tr style=\"text-align: right;\">\n",
       "      <th></th>\n",
       "      <th>timestamp</th>\n",
       "      <th>cpu_system</th>\n",
       "      <th>boottime</th>\n",
       "      <th>Pool Size Time_P1</th>\n",
       "      <th>mem_free</th>\n",
       "      <th>Missed Buffers_P1</th>\n",
       "      <th>bytes_out</th>\n",
       "      <th>cpu_user</th>\n",
       "      <th>cpu_idle</th>\n",
       "      <th>Pool Size Data_P1</th>\n",
       "      <th>...</th>\n",
       "      <th>RetransSegs_rate</th>\n",
       "      <th>TCPLostRetransmit_rate</th>\n",
       "      <th>TCPForwardRetrans_rate</th>\n",
       "      <th>TotalRetrans</th>\n",
       "      <th>TCPSlowStartRetrans</th>\n",
       "      <th>RPCRetrans</th>\n",
       "      <th>TCPFastRetrans</th>\n",
       "      <th>TCPLostRetransmit</th>\n",
       "      <th>TCPForwardRetrans</th>\n",
       "      <th>RetransSegs</th>\n",
       "    </tr>\n",
       "  </thead>\n",
       "  <tbody>\n",
       "    <tr>\n",
       "      <th>4</th>\n",
       "      <td>2024-02-21 05:37:00</td>\n",
       "      <td>2.1</td>\n",
       "      <td>1.705514e+09</td>\n",
       "      <td>2014.643333</td>\n",
       "      <td>0.0</td>\n",
       "      <td>0.0</td>\n",
       "      <td>0.0</td>\n",
       "      <td>1.11</td>\n",
       "      <td>0.0</td>\n",
       "      <td>11854.6</td>\n",
       "      <td>...</td>\n",
       "      <td>0.0</td>\n",
       "      <td>0.0</td>\n",
       "      <td>0.0</td>\n",
       "      <td>0.0</td>\n",
       "      <td>0.0</td>\n",
       "      <td>0.0</td>\n",
       "      <td>0.0</td>\n",
       "      <td>0.0</td>\n",
       "      <td>0.0</td>\n",
       "      <td>0.0</td>\n",
       "    </tr>\n",
       "  </tbody>\n",
       "</table>\n",
       "<p>1 rows × 48 columns</p>\n",
       "</div>"
      ],
      "text/plain": [
       "             timestamp  cpu_system      boottime  Pool Size Time_P1  mem_free  \\\n",
       "4  2024-02-21 05:37:00         2.1  1.705514e+09        2014.643333       0.0   \n",
       "\n",
       "   Missed Buffers_P1  bytes_out  cpu_user  cpu_idle  Pool Size Data_P1  ...  \\\n",
       "4                0.0        0.0      1.11       0.0            11854.6  ...   \n",
       "\n",
       "   RetransSegs_rate  TCPLostRetransmit_rate  TCPForwardRetrans_rate  \\\n",
       "4               0.0                     0.0                     0.0   \n",
       "\n",
       "   TotalRetrans  TCPSlowStartRetrans  RPCRetrans  TCPFastRetrans  \\\n",
       "4           0.0                  0.0         0.0             0.0   \n",
       "\n",
       "   TCPLostRetransmit  TCPForwardRetrans  RetransSegs  \n",
       "4                0.0                0.0          0.0  \n",
       "\n",
       "[1 rows x 48 columns]"
      ]
     },
     "execution_count": 3,
     "metadata": {},
     "output_type": "execute_result"
    }
   ],
   "source": [
    "df_f[df_f['timestamp']=='2024-02-21 05:37:00']"
   ]
  },
  {
   "cell_type": "markdown",
   "metadata": {},
   "source": [
    "Only getting timestamps where we have readings from all 195 nodes"
   ]
  },
  {
   "cell_type": "code",
   "execution_count": 6,
   "metadata": {},
   "outputs": [
    {
     "name": "stdout",
     "output_type": "stream",
     "text": [
      "valid timestamps: 1890\n",
      "['2024-02-21 16:07:30' '2024-02-21 16:07:45' '2024-02-21 16:08:00' ...\n",
      " '2024-02-21 23:59:15' '2024-02-21 23:59:30' '2024-02-21 23:59:45']\n"
     ]
    }
   ],
   "source": [
    "num_nodes = 195\n",
    "valid_ts = valid_ts = df_f.groupby('timestamp').filter(lambda x: x['nodeId'].nunique() == num_nodes)['timestamp'].unique()\n",
    "print('valid timestamps:', len(valid_ts))\n",
    "print(valid_ts)"
   ]
  },
  {
   "cell_type": "markdown",
   "metadata": {},
   "source": [
    "DR1: Applying PCA across features for each timestamp"
   ]
  },
  {
   "cell_type": "code",
   "execution_count": 16,
   "metadata": {},
   "outputs": [
    {
     "data": {
      "text/html": [
       "<div>\n",
       "<style scoped>\n",
       "    .dataframe tbody tr th:only-of-type {\n",
       "        vertical-align: middle;\n",
       "    }\n",
       "\n",
       "    .dataframe tbody tr th {\n",
       "        vertical-align: top;\n",
       "    }\n",
       "\n",
       "    .dataframe thead th {\n",
       "        text-align: right;\n",
       "    }\n",
       "</style>\n",
       "<table border=\"1\" class=\"dataframe\">\n",
       "  <thead>\n",
       "    <tr style=\"text-align: right;\">\n",
       "      <th></th>\n",
       "      <th>cpu_system</th>\n",
       "      <th>boottime</th>\n",
       "      <th>Pool Size Time_P1</th>\n",
       "      <th>mem_free</th>\n",
       "      <th>Missed Buffers_P1</th>\n",
       "      <th>bytes_out</th>\n",
       "      <th>cpu_user</th>\n",
       "      <th>cpu_idle</th>\n",
       "      <th>Pool Size Data_P1</th>\n",
       "      <th>pkts_out</th>\n",
       "      <th>...</th>\n",
       "      <th>RetransSegs_rate</th>\n",
       "      <th>TCPLostRetransmit_rate</th>\n",
       "      <th>TCPForwardRetrans_rate</th>\n",
       "      <th>TotalRetrans</th>\n",
       "      <th>TCPSlowStartRetrans</th>\n",
       "      <th>RPCRetrans</th>\n",
       "      <th>TCPFastRetrans</th>\n",
       "      <th>TCPLostRetransmit</th>\n",
       "      <th>TCPForwardRetrans</th>\n",
       "      <th>RetransSegs</th>\n",
       "    </tr>\n",
       "    <tr>\n",
       "      <th>nodeId</th>\n",
       "      <th></th>\n",
       "      <th></th>\n",
       "      <th></th>\n",
       "      <th></th>\n",
       "      <th></th>\n",
       "      <th></th>\n",
       "      <th></th>\n",
       "      <th></th>\n",
       "      <th></th>\n",
       "      <th></th>\n",
       "      <th></th>\n",
       "      <th></th>\n",
       "      <th></th>\n",
       "      <th></th>\n",
       "      <th></th>\n",
       "      <th></th>\n",
       "      <th></th>\n",
       "      <th></th>\n",
       "      <th></th>\n",
       "      <th></th>\n",
       "      <th></th>\n",
       "    </tr>\n",
       "  </thead>\n",
       "  <tbody>\n",
       "    <tr>\n",
       "      <th>novadaq-far-farm-92</th>\n",
       "      <td>0.300000</td>\n",
       "      <td>1.705517e+09</td>\n",
       "      <td>2057.004000</td>\n",
       "      <td>1672380.0</td>\n",
       "      <td>0.0</td>\n",
       "      <td>128234.700000</td>\n",
       "      <td>0.200000</td>\n",
       "      <td>93.100000</td>\n",
       "      <td>11910.280000</td>\n",
       "      <td>921.73</td>\n",
       "      <td>...</td>\n",
       "      <td>0.0</td>\n",
       "      <td>0.0</td>\n",
       "      <td>0.0</td>\n",
       "      <td>0.0</td>\n",
       "      <td>0.0</td>\n",
       "      <td>0.0</td>\n",
       "      <td>0.0</td>\n",
       "      <td>0.0</td>\n",
       "      <td>0.0</td>\n",
       "      <td>0.0</td>\n",
       "    </tr>\n",
       "    <tr>\n",
       "      <th>novadaq-far-farm-18</th>\n",
       "      <td>1.940000</td>\n",
       "      <td>1.705517e+09</td>\n",
       "      <td>2033.570000</td>\n",
       "      <td>2803696.0</td>\n",
       "      <td>0.0</td>\n",
       "      <td>133441.976667</td>\n",
       "      <td>1.306667</td>\n",
       "      <td>42.653333</td>\n",
       "      <td>11714.593333</td>\n",
       "      <td>975.50</td>\n",
       "      <td>...</td>\n",
       "      <td>0.0</td>\n",
       "      <td>0.0</td>\n",
       "      <td>0.0</td>\n",
       "      <td>0.0</td>\n",
       "      <td>0.0</td>\n",
       "      <td>0.0</td>\n",
       "      <td>0.0</td>\n",
       "      <td>0.0</td>\n",
       "      <td>0.0</td>\n",
       "      <td>0.0</td>\n",
       "    </tr>\n",
       "    <tr>\n",
       "      <th>novadaq-far-farm-118</th>\n",
       "      <td>1.426667</td>\n",
       "      <td>1.705513e+09</td>\n",
       "      <td>2036.430000</td>\n",
       "      <td>3245016.0</td>\n",
       "      <td>0.0</td>\n",
       "      <td>100728.280000</td>\n",
       "      <td>0.626667</td>\n",
       "      <td>53.626667</td>\n",
       "      <td>11743.040000</td>\n",
       "      <td>952.52</td>\n",
       "      <td>...</td>\n",
       "      <td>0.0</td>\n",
       "      <td>0.0</td>\n",
       "      <td>0.0</td>\n",
       "      <td>0.0</td>\n",
       "      <td>0.0</td>\n",
       "      <td>0.0</td>\n",
       "      <td>0.0</td>\n",
       "      <td>0.0</td>\n",
       "      <td>0.0</td>\n",
       "      <td>0.0</td>\n",
       "    </tr>\n",
       "    <tr>\n",
       "      <th>novadaq-far-farm-130</th>\n",
       "      <td>0.400000</td>\n",
       "      <td>1.705517e+09</td>\n",
       "      <td>2003.686667</td>\n",
       "      <td>1305232.0</td>\n",
       "      <td>0.0</td>\n",
       "      <td>118329.970000</td>\n",
       "      <td>0.300000</td>\n",
       "      <td>92.400000</td>\n",
       "      <td>11792.046667</td>\n",
       "      <td>912.25</td>\n",
       "      <td>...</td>\n",
       "      <td>0.0</td>\n",
       "      <td>0.0</td>\n",
       "      <td>0.0</td>\n",
       "      <td>0.0</td>\n",
       "      <td>0.0</td>\n",
       "      <td>0.0</td>\n",
       "      <td>0.0</td>\n",
       "      <td>0.0</td>\n",
       "      <td>0.0</td>\n",
       "      <td>0.0</td>\n",
       "    </tr>\n",
       "    <tr>\n",
       "      <th>novadaq-far-farm-111</th>\n",
       "      <td>1.700000</td>\n",
       "      <td>1.705517e+09</td>\n",
       "      <td>2018.370667</td>\n",
       "      <td>2089808.0</td>\n",
       "      <td>0.0</td>\n",
       "      <td>169360.980000</td>\n",
       "      <td>0.800000</td>\n",
       "      <td>53.100000</td>\n",
       "      <td>11663.933333</td>\n",
       "      <td>962.68</td>\n",
       "      <td>...</td>\n",
       "      <td>0.0</td>\n",
       "      <td>0.0</td>\n",
       "      <td>0.0</td>\n",
       "      <td>0.0</td>\n",
       "      <td>0.0</td>\n",
       "      <td>0.0</td>\n",
       "      <td>0.0</td>\n",
       "      <td>0.0</td>\n",
       "      <td>0.0</td>\n",
       "      <td>0.0</td>\n",
       "    </tr>\n",
       "    <tr>\n",
       "      <th>...</th>\n",
       "      <td>...</td>\n",
       "      <td>...</td>\n",
       "      <td>...</td>\n",
       "      <td>...</td>\n",
       "      <td>...</td>\n",
       "      <td>...</td>\n",
       "      <td>...</td>\n",
       "      <td>...</td>\n",
       "      <td>...</td>\n",
       "      <td>...</td>\n",
       "      <td>...</td>\n",
       "      <td>...</td>\n",
       "      <td>...</td>\n",
       "      <td>...</td>\n",
       "      <td>...</td>\n",
       "      <td>...</td>\n",
       "      <td>...</td>\n",
       "      <td>...</td>\n",
       "      <td>...</td>\n",
       "      <td>...</td>\n",
       "      <td>...</td>\n",
       "    </tr>\n",
       "    <tr>\n",
       "      <th>novadaq-far-farm-82</th>\n",
       "      <td>1.700000</td>\n",
       "      <td>1.705513e+09</td>\n",
       "      <td>2001.786667</td>\n",
       "      <td>2931456.0</td>\n",
       "      <td>0.0</td>\n",
       "      <td>136155.450000</td>\n",
       "      <td>0.800000</td>\n",
       "      <td>58.080000</td>\n",
       "      <td>11654.373333</td>\n",
       "      <td>961.58</td>\n",
       "      <td>...</td>\n",
       "      <td>0.0</td>\n",
       "      <td>0.0</td>\n",
       "      <td>0.0</td>\n",
       "      <td>0.0</td>\n",
       "      <td>0.0</td>\n",
       "      <td>0.0</td>\n",
       "      <td>0.0</td>\n",
       "      <td>0.0</td>\n",
       "      <td>0.0</td>\n",
       "      <td>0.0</td>\n",
       "    </tr>\n",
       "    <tr>\n",
       "      <th>novadaq-far-farm-93</th>\n",
       "      <td>1.900000</td>\n",
       "      <td>1.705513e+09</td>\n",
       "      <td>2052.254000</td>\n",
       "      <td>2822044.0</td>\n",
       "      <td>0.0</td>\n",
       "      <td>136319.590000</td>\n",
       "      <td>1.200000</td>\n",
       "      <td>60.100000</td>\n",
       "      <td>11767.266667</td>\n",
       "      <td>985.60</td>\n",
       "      <td>...</td>\n",
       "      <td>0.0</td>\n",
       "      <td>0.0</td>\n",
       "      <td>0.0</td>\n",
       "      <td>0.0</td>\n",
       "      <td>0.0</td>\n",
       "      <td>0.0</td>\n",
       "      <td>0.0</td>\n",
       "      <td>0.0</td>\n",
       "      <td>0.0</td>\n",
       "      <td>0.0</td>\n",
       "    </tr>\n",
       "    <tr>\n",
       "      <th>novadaq-far-farm-196</th>\n",
       "      <td>1.333333</td>\n",
       "      <td>1.705517e+09</td>\n",
       "      <td>2053.529333</td>\n",
       "      <td>3692072.0</td>\n",
       "      <td>0.0</td>\n",
       "      <td>116683.590000</td>\n",
       "      <td>0.800000</td>\n",
       "      <td>53.580000</td>\n",
       "      <td>11655.680000</td>\n",
       "      <td>968.45</td>\n",
       "      <td>...</td>\n",
       "      <td>0.0</td>\n",
       "      <td>0.0</td>\n",
       "      <td>0.0</td>\n",
       "      <td>0.0</td>\n",
       "      <td>0.0</td>\n",
       "      <td>0.0</td>\n",
       "      <td>0.0</td>\n",
       "      <td>0.0</td>\n",
       "      <td>0.0</td>\n",
       "      <td>0.0</td>\n",
       "    </tr>\n",
       "    <tr>\n",
       "      <th>novadaq-far-farm-61</th>\n",
       "      <td>0.400000</td>\n",
       "      <td>1.705517e+09</td>\n",
       "      <td>2038.066667</td>\n",
       "      <td>537115.2</td>\n",
       "      <td>0.0</td>\n",
       "      <td>157552.938000</td>\n",
       "      <td>0.100000</td>\n",
       "      <td>93.400000</td>\n",
       "      <td>11678.320000</td>\n",
       "      <td>926.80</td>\n",
       "      <td>...</td>\n",
       "      <td>0.0</td>\n",
       "      <td>0.0</td>\n",
       "      <td>0.0</td>\n",
       "      <td>0.0</td>\n",
       "      <td>0.0</td>\n",
       "      <td>0.0</td>\n",
       "      <td>0.0</td>\n",
       "      <td>0.0</td>\n",
       "      <td>0.0</td>\n",
       "      <td>0.0</td>\n",
       "    </tr>\n",
       "    <tr>\n",
       "      <th>novadaq-far-farm-99</th>\n",
       "      <td>1.600000</td>\n",
       "      <td>1.705513e+09</td>\n",
       "      <td>2036.176667</td>\n",
       "      <td>3487216.0</td>\n",
       "      <td>0.0</td>\n",
       "      <td>133758.670000</td>\n",
       "      <td>0.800000</td>\n",
       "      <td>54.700000</td>\n",
       "      <td>11905.820000</td>\n",
       "      <td>967.45</td>\n",
       "      <td>...</td>\n",
       "      <td>0.0</td>\n",
       "      <td>0.0</td>\n",
       "      <td>0.0</td>\n",
       "      <td>0.0</td>\n",
       "      <td>0.0</td>\n",
       "      <td>0.0</td>\n",
       "      <td>0.0</td>\n",
       "      <td>0.0</td>\n",
       "      <td>0.0</td>\n",
       "      <td>0.0</td>\n",
       "    </tr>\n",
       "  </tbody>\n",
       "</table>\n",
       "<p>195 rows × 46 columns</p>\n",
       "</div>"
      ],
      "text/plain": [
       "                      cpu_system      boottime  Pool Size Time_P1   mem_free  \\\n",
       "nodeId                                                                         \n",
       "novadaq-far-farm-92     0.300000  1.705517e+09        2057.004000  1672380.0   \n",
       "novadaq-far-farm-18     1.940000  1.705517e+09        2033.570000  2803696.0   \n",
       "novadaq-far-farm-118    1.426667  1.705513e+09        2036.430000  3245016.0   \n",
       "novadaq-far-farm-130    0.400000  1.705517e+09        2003.686667  1305232.0   \n",
       "novadaq-far-farm-111    1.700000  1.705517e+09        2018.370667  2089808.0   \n",
       "...                          ...           ...                ...        ...   \n",
       "novadaq-far-farm-82     1.700000  1.705513e+09        2001.786667  2931456.0   \n",
       "novadaq-far-farm-93     1.900000  1.705513e+09        2052.254000  2822044.0   \n",
       "novadaq-far-farm-196    1.333333  1.705517e+09        2053.529333  3692072.0   \n",
       "novadaq-far-farm-61     0.400000  1.705517e+09        2038.066667   537115.2   \n",
       "novadaq-far-farm-99     1.600000  1.705513e+09        2036.176667  3487216.0   \n",
       "\n",
       "                      Missed Buffers_P1      bytes_out  cpu_user   cpu_idle  \\\n",
       "nodeId                                                                        \n",
       "novadaq-far-farm-92                 0.0  128234.700000  0.200000  93.100000   \n",
       "novadaq-far-farm-18                 0.0  133441.976667  1.306667  42.653333   \n",
       "novadaq-far-farm-118                0.0  100728.280000  0.626667  53.626667   \n",
       "novadaq-far-farm-130                0.0  118329.970000  0.300000  92.400000   \n",
       "novadaq-far-farm-111                0.0  169360.980000  0.800000  53.100000   \n",
       "...                                 ...            ...       ...        ...   \n",
       "novadaq-far-farm-82                 0.0  136155.450000  0.800000  58.080000   \n",
       "novadaq-far-farm-93                 0.0  136319.590000  1.200000  60.100000   \n",
       "novadaq-far-farm-196                0.0  116683.590000  0.800000  53.580000   \n",
       "novadaq-far-farm-61                 0.0  157552.938000  0.100000  93.400000   \n",
       "novadaq-far-farm-99                 0.0  133758.670000  0.800000  54.700000   \n",
       "\n",
       "                      Pool Size Data_P1  pkts_out  ...  RetransSegs_rate  \\\n",
       "nodeId                                             ...                     \n",
       "novadaq-far-farm-92        11910.280000    921.73  ...               0.0   \n",
       "novadaq-far-farm-18        11714.593333    975.50  ...               0.0   \n",
       "novadaq-far-farm-118       11743.040000    952.52  ...               0.0   \n",
       "novadaq-far-farm-130       11792.046667    912.25  ...               0.0   \n",
       "novadaq-far-farm-111       11663.933333    962.68  ...               0.0   \n",
       "...                                 ...       ...  ...               ...   \n",
       "novadaq-far-farm-82        11654.373333    961.58  ...               0.0   \n",
       "novadaq-far-farm-93        11767.266667    985.60  ...               0.0   \n",
       "novadaq-far-farm-196       11655.680000    968.45  ...               0.0   \n",
       "novadaq-far-farm-61        11678.320000    926.80  ...               0.0   \n",
       "novadaq-far-farm-99        11905.820000    967.45  ...               0.0   \n",
       "\n",
       "                      TCPLostRetransmit_rate  TCPForwardRetrans_rate  \\\n",
       "nodeId                                                                 \n",
       "novadaq-far-farm-92                      0.0                     0.0   \n",
       "novadaq-far-farm-18                      0.0                     0.0   \n",
       "novadaq-far-farm-118                     0.0                     0.0   \n",
       "novadaq-far-farm-130                     0.0                     0.0   \n",
       "novadaq-far-farm-111                     0.0                     0.0   \n",
       "...                                      ...                     ...   \n",
       "novadaq-far-farm-82                      0.0                     0.0   \n",
       "novadaq-far-farm-93                      0.0                     0.0   \n",
       "novadaq-far-farm-196                     0.0                     0.0   \n",
       "novadaq-far-farm-61                      0.0                     0.0   \n",
       "novadaq-far-farm-99                      0.0                     0.0   \n",
       "\n",
       "                      TotalRetrans  TCPSlowStartRetrans  RPCRetrans  \\\n",
       "nodeId                                                                \n",
       "novadaq-far-farm-92            0.0                  0.0         0.0   \n",
       "novadaq-far-farm-18            0.0                  0.0         0.0   \n",
       "novadaq-far-farm-118           0.0                  0.0         0.0   \n",
       "novadaq-far-farm-130           0.0                  0.0         0.0   \n",
       "novadaq-far-farm-111           0.0                  0.0         0.0   \n",
       "...                            ...                  ...         ...   \n",
       "novadaq-far-farm-82            0.0                  0.0         0.0   \n",
       "novadaq-far-farm-93            0.0                  0.0         0.0   \n",
       "novadaq-far-farm-196           0.0                  0.0         0.0   \n",
       "novadaq-far-farm-61            0.0                  0.0         0.0   \n",
       "novadaq-far-farm-99            0.0                  0.0         0.0   \n",
       "\n",
       "                      TCPFastRetrans  TCPLostRetransmit  TCPForwardRetrans  \\\n",
       "nodeId                                                                       \n",
       "novadaq-far-farm-92              0.0                0.0                0.0   \n",
       "novadaq-far-farm-18              0.0                0.0                0.0   \n",
       "novadaq-far-farm-118             0.0                0.0                0.0   \n",
       "novadaq-far-farm-130             0.0                0.0                0.0   \n",
       "novadaq-far-farm-111             0.0                0.0                0.0   \n",
       "...                              ...                ...                ...   \n",
       "novadaq-far-farm-82              0.0                0.0                0.0   \n",
       "novadaq-far-farm-93              0.0                0.0                0.0   \n",
       "novadaq-far-farm-196             0.0                0.0                0.0   \n",
       "novadaq-far-farm-61              0.0                0.0                0.0   \n",
       "novadaq-far-farm-99              0.0                0.0                0.0   \n",
       "\n",
       "                      RetransSegs  \n",
       "nodeId                             \n",
       "novadaq-far-farm-92           0.0  \n",
       "novadaq-far-farm-18           0.0  \n",
       "novadaq-far-farm-118          0.0  \n",
       "novadaq-far-farm-130          0.0  \n",
       "novadaq-far-farm-111          0.0  \n",
       "...                           ...  \n",
       "novadaq-far-farm-82           0.0  \n",
       "novadaq-far-farm-93           0.0  \n",
       "novadaq-far-farm-196          0.0  \n",
       "novadaq-far-farm-61           0.0  \n",
       "novadaq-far-farm-99           0.0  \n",
       "\n",
       "[195 rows x 46 columns]"
      ]
     },
     "execution_count": 16,
     "metadata": {},
     "output_type": "execute_result"
    }
   ],
   "source": [
    "timestamp = '2024-02-21 16:07:45'\n",
    "df_f[df_f['timestamp']==timestamp].set_index('nodeId').drop(columns='timestamp')"
   ]
  },
  {
   "cell_type": "code",
   "execution_count": 7,
   "metadata": {},
   "outputs": [
    {
     "name": "stdout",
     "output_type": "stream",
     "text": [
      "Number of principal components: 4\n",
      "Number of principal components: 4\n",
      "Number of principal components: 4\n",
      "Number of principal components: 4\n",
      "Number of principal components: 4\n",
      "Number of principal components: 4\n",
      "Number of principal components: 4\n",
      "Number of principal components: 4\n",
      "Number of principal components: 4\n",
      "Number of principal components: 4\n",
      "Number of principal components: 4\n",
      "Number of principal components: 4\n",
      "Number of principal components: 4\n",
      "Number of principal components: 4\n",
      "Number of principal components: 4\n",
      "Number of principal components: 4\n",
      "Number of principal components: 4\n",
      "Number of principal components: 4\n",
      "Number of principal components: 4\n",
      "Number of principal components: 4\n",
      "Number of principal components: 4\n",
      "Number of principal components: 4\n",
      "Number of principal components: 4\n",
      "Number of principal components: 4\n",
      "Number of principal components: 4\n",
      "Number of principal components: 4\n",
      "Number of principal components: 4\n",
      "Number of principal components: 4\n",
      "Number of principal components: 4\n",
      "Number of principal components: 4\n",
      "Number of principal components: 4\n",
      "Number of principal components: 4\n",
      "Number of principal components: 4\n",
      "Number of principal components: 4\n",
      "Number of principal components: 4\n",
      "Number of principal components: 4\n",
      "Number of principal components: 4\n",
      "Number of principal components: 4\n",
      "Number of principal components: 4Number of principal components: 4\n",
      "Number of principal components: 4\n",
      "\n",
      "Number of principal components: 4\n",
      "Number of principal components: 4\n",
      "Number of principal components: 4\n",
      "Number of principal components: 4\n",
      "Number of principal components: 4\n",
      "Number of principal components: 4\n",
      "Number of principal components: 4\n",
      "Number of principal components: 4\n",
      "Number of principal components: 4\n",
      "Number of principal components: 4Number of principal components: 4\n",
      "\n",
      "Number of principal components: 4\n",
      "Number of principal components: 4\n",
      "Number of principal components: 4\n",
      "Number of principal components: 4\n",
      "Number of principal components: 4\n",
      "Number of principal components: 4\n",
      "Number of principal components: 4\n",
      "Number of principal components: 4\n",
      "Number of principal components: 4Number of principal components: 4\n",
      "\n",
      "Number of principal components: 4\n",
      "Number of principal components: 4\n",
      "Number of principal components: 4\n",
      "Number of principal components: 4\n",
      "Number of principal components: 4\n",
      "Number of principal components: 4\n",
      "Number of principal components: 4\n",
      "Number of principal components: 4\n",
      "Number of principal components: 4\n",
      "Number of principal components: 4\n",
      "Number of principal components: 4\n",
      "Number of principal components: 4\n",
      "Number of principal components: 4\n",
      "Number of principal components: 4\n",
      "Number of principal components: 4\n",
      "Number of principal components: 4\n",
      "Number of principal components: 4\n",
      "Number of principal components: 4\n",
      "Number of principal components: 4\n",
      "Number of principal components: 4\n",
      "Number of principal components: 4\n",
      "Number of principal components: 4\n",
      "Number of principal components: 4\n",
      "Number of principal components: 4\n",
      "Number of principal components: 4\n",
      "Number of principal components: 4\n",
      "Number of principal components: 4Number of principal components: 4\n",
      "Number of principal components: 4\n",
      "\n",
      "Number of principal components: 4\n",
      "Number of principal components: 4\n",
      "Number of principal components: 4\n",
      "Number of principal components: 4\n",
      "Number of principal components: 4\n",
      "Number of principal components: 4\n",
      "Number of principal components: 4\n",
      "Number of principal components: 4\n",
      "Number of principal components: 4\n",
      "Number of principal components: 4\n",
      "Number of principal components: 4\n",
      "Number of principal components: 4\n",
      "Number of principal components: 4\n",
      "Number of principal components: 4\n",
      "Number of principal components: 4\n",
      "Number of principal components: 4\n",
      "Number of principal components: 4\n",
      "Number of principal components: 4\n",
      "Number of principal components: 4\n",
      "Number of principal components: 4\n",
      "Number of principal components: 4\n",
      "Number of principal components: 4\n",
      "Number of principal components: 4\n",
      "Number of principal components: 4\n",
      "Number of principal components: 4\n",
      "Number of principal components: 4\n",
      "Number of principal components: 4\n",
      "Number of principal components: 4\n",
      "Number of principal components: 4\n",
      "Number of principal components: 4\n",
      "Number of principal components: 4Number of principal components: 4\n",
      "\n",
      "Number of principal components: 4\n",
      "Number of principal components: 4\n",
      "Number of principal components: 4\n",
      "Number of principal components: 4\n",
      "Number of principal components: 4\n",
      "Number of principal components: 4\n",
      "Number of principal components: 4\n",
      "Number of principal components: 4\n",
      "Number of principal components: 4\n",
      "Number of principal components: 4\n",
      "Number of principal components: 4Number of principal components: 4\n",
      "Number of principal components: 4\n",
      "\n",
      "Number of principal components: 4\n",
      "Number of principal components: 4\n",
      "Number of principal components: 4\n",
      "Number of principal components: 4\n",
      "Number of principal components: 4\n",
      "Number of principal components: 4\n",
      "Number of principal components: 4\n",
      "Number of principal components: 4\n",
      "Number of principal components: 4\n",
      "Number of principal components: 4\n",
      "Number of principal components: 4\n",
      "Number of principal components: 4\n",
      "Number of principal components: 4\n",
      "Number of principal components: 4\n",
      "Number of principal components: 4\n",
      "Number of principal components: 4\n",
      "Number of principal components: 4\n",
      "Number of principal components: 4\n",
      "Number of principal components: 4\n",
      "Number of principal components: 4\n",
      "Number of principal components: 4\n",
      "Number of principal components: 4\n",
      "Number of principal components: 4\n",
      "Number of principal components: 4\n",
      "Number of principal components: 4\n",
      "Number of principal components: 4\n",
      "Number of principal components: 4\n",
      "Number of principal components: 4\n",
      "Number of principal components: 4\n",
      "Number of principal components: 4\n",
      "Number of principal components: 4\n",
      "Number of principal components: 4\n",
      "Number of principal components: 4\n",
      "Number of principal components: 4\n",
      "Number of principal components: 4\n",
      "Number of principal components: 4\n",
      "Number of principal components: 4\n",
      "Number of principal components: 4\n",
      "Number of principal components: 4\n",
      "Number of principal components: 4\n",
      "Number of principal components: 4\n",
      "Number of principal components: 4\n",
      "Number of principal components: 4\n",
      "Number of principal components: 4Number of principal components: 4\n",
      "\n",
      "Number of principal components: 4\n",
      "Number of principal components: 4\n",
      "Number of principal components: 4\n",
      "Number of principal components: 4\n",
      "Number of principal components: 4\n",
      "Number of principal components: 4\n",
      "Number of principal components: 4\n",
      "Number of principal components: 4\n",
      "Number of principal components: 4\n",
      "Number of principal components: 4\n",
      "Number of principal components: 4Number of principal components: 4\n",
      "Number of principal components: 4\n",
      "\n",
      "Number of principal components: 4\n",
      "Number of principal components: 4\n",
      "Number of principal components: 4\n",
      "Number of principal components: 4\n",
      "Number of principal components: 4\n",
      "Number of principal components: 4\n",
      "Number of principal components: 4\n",
      "Number of principal components: 4\n",
      "Number of principal components: 4\n",
      "Number of principal components: 4\n",
      "Number of principal components: 4\n",
      "Number of principal components: 4\n",
      "Number of principal components: 4\n",
      "Number of principal components: 4\n",
      "Number of principal components: 4\n",
      "Number of principal components: 4\n",
      "Number of principal components: 4\n",
      "Number of principal components: 4\n",
      "Number of principal components: 4\n",
      "Number of principal components: 4\n",
      "Number of principal components: 4\n",
      "Number of principal components: 4\n",
      "Number of principal components: 4\n",
      "Number of principal components: 4\n",
      "Number of principal components: 4\n",
      "Number of principal components: 4\n",
      "Number of principal components: 4\n",
      "Number of principal components: 4\n",
      "Number of principal components: 4\n",
      "Number of principal components: 4\n",
      "Number of principal components: 4\n",
      "Number of principal components: 4\n",
      "Number of principal components: 4\n",
      "Number of principal components: 4\n",
      "Number of principal components: 4\n",
      "Number of principal components: 4\n",
      "Number of principal components: 4\n",
      "Number of principal components: 4\n",
      "Number of principal components: 4\n",
      "Number of principal components: 4\n",
      "Number of principal components: 4Number of principal components: 4\n",
      "\n",
      "Number of principal components: 4\n",
      "Number of principal components: 4\n",
      "Number of principal components: 4\n",
      "Number of principal components: 4\n",
      "Number of principal components: 4\n",
      "Number of principal components: 4\n",
      "Number of principal components: 4\n",
      "Number of principal components: 4\n",
      "Number of principal components: 4\n",
      "Number of principal components: 4\n",
      "Number of principal components: 4\n",
      "Number of principal components: 4Number of principal components: 4\n",
      "Number of principal components: 4\n",
      "Number of principal components: 4\n",
      "Number of principal components: 4\n",
      "\n",
      "Number of principal components: 4\n",
      "Number of principal components: 4\n",
      "Number of principal components: 4\n",
      "Number of principal components: 4\n",
      "Number of principal components: 4\n",
      "Number of principal components: 4\n",
      "Number of principal components: 4\n",
      "Number of principal components: 4\n",
      "Number of principal components: 4\n",
      "Number of principal components: 4\n",
      "Number of principal components: 4\n",
      "Number of principal components: 4\n",
      "Number of principal components: 4\n",
      "Number of principal components: 4\n",
      "Number of principal components: 4\n",
      "Number of principal components: 4\n",
      "Number of principal components: 4\n",
      "Number of principal components: 4\n",
      "Number of principal components: 4\n",
      "Number of principal components: 4\n",
      "Number of principal components: 4\n",
      "Number of principal components: 4\n",
      "Number of principal components: 4\n",
      "Number of principal components: 4\n",
      "Number of principal components: 4\n",
      "Number of principal components: 4\n",
      "Number of principal components: 4\n",
      "Number of principal components: 4\n",
      "Number of principal components: 4\n",
      "Number of principal components: 4\n",
      "Number of principal components: 4\n",
      "Number of principal components: 4\n",
      "Number of principal components: 4\n",
      "Number of principal components: 4\n",
      "Number of principal components: 4\n",
      "Number of principal components: 4\n",
      "Number of principal components: 4\n",
      "Number of principal components: 4\n",
      "Number of principal components: 4\n",
      "Number of principal components: 4\n",
      "Number of principal components: 4\n",
      "Number of principal components: 4\n",
      "Number of principal components: 4\n",
      "Number of principal components: 4\n",
      "Number of principal components: 4\n",
      "Number of principal components: 4\n",
      "Number of principal components: 4\n",
      "Number of principal components: 4\n",
      "Number of principal components: 4\n",
      "Number of principal components: 4\n",
      "Number of principal components: 4\n",
      "Number of principal components: 4\n",
      "Number of principal components: 4\n",
      "Number of principal components: 4\n",
      "Number of principal components: 4\n",
      "Number of principal components: 4\n",
      "Number of principal components: 4\n",
      "Number of principal components: 4\n",
      "Number of principal components: 4\n",
      "Number of principal components: 4\n",
      "Number of principal components: 4\n",
      "Number of principal components: 4\n",
      "Number of principal components: 4\n",
      "Number of principal components: 4\n",
      "Number of principal components: 4\n",
      "Number of principal components: 4\n",
      "Number of principal components: 4\n",
      "Number of principal components: 4\n",
      "Number of principal components: 4\n",
      "Number of principal components: 4\n",
      "Number of principal components: 4\n",
      "Number of principal components: 4\n",
      "Number of principal components: 4\n",
      "Number of principal components: 4\n",
      "Number of principal components: 4\n",
      "Number of principal components: 4\n",
      "Number of principal components: 4\n",
      "Number of principal components: 4\n",
      "Number of principal components: 4\n",
      "Number of principal components: 4\n",
      "Number of principal components: 4Number of principal components: 4\n",
      "Number of principal components: 4\n",
      "\n",
      "Number of principal components: 4\n",
      "Number of principal components: 4\n",
      "Number of principal components: 4\n",
      "Number of principal components: 4\n",
      "Number of principal components: 4\n",
      "Number of principal components: 4\n",
      "Number of principal components: 4\n",
      "Number of principal components: 4\n",
      "Number of principal components: 4\n",
      "Number of principal components: 4\n",
      "Number of principal components: 4\n",
      "Number of principal components: 4\n",
      "Number of principal components: 4\n",
      "Number of principal components: 4\n",
      "Number of principal components: 4\n",
      "Number of principal components: 4\n",
      "Number of principal components: 4\n",
      "Number of principal components: 4Number of principal components: 4\n",
      "\n",
      "Number of principal components: 4\n",
      "Number of principal components: 4\n",
      "Number of principal components: 4\n",
      "Number of principal components: 4\n",
      "Number of principal components: 4\n",
      "Number of principal components: 4\n",
      "Number of principal components: 4\n",
      "Number of principal components: 4\n",
      "Number of principal components: 4\n",
      "Number of principal components: 4\n",
      "Number of principal components: 4\n",
      "Number of principal components: 4\n",
      "Number of principal components: 4\n",
      "Number of principal components: 4\n",
      "Number of principal components: 4\n",
      "Number of principal components: 4\n",
      "Number of principal components: 4\n",
      "Number of principal components: 4\n",
      "Number of principal components: 4\n",
      "Number of principal components: 4\n",
      "Number of principal components: 4\n",
      "Number of principal components: 4\n",
      "Number of principal components: 4\n",
      "Number of principal components: 4\n",
      "Number of principal components: 4Number of principal components: 4\n",
      "\n",
      "Number of principal components: 4\n",
      "Number of principal components: 4\n",
      "Number of principal components: 4\n",
      "Number of principal components: 4\n",
      "Number of principal components: 4\n",
      "Number of principal components: 4\n",
      "Number of principal components: 4\n",
      "Number of principal components: 4\n",
      "Number of principal components: 4\n",
      "Number of principal components: 4\n",
      "Number of principal components: 4\n",
      "Number of principal components: 4\n",
      "Number of principal components: 4\n",
      "Number of principal components: 4\n",
      "Number of principal components: 4\n",
      "Number of principal components: 4Number of principal components: 4\n",
      "Number of principal components: 4\n",
      "\n",
      "Number of principal components: 4\n",
      "Number of principal components: 4\n",
      "Number of principal components: 4\n",
      "Number of principal components: 4\n",
      "Number of principal components: 4\n",
      "Number of principal components: 4\n",
      "Number of principal components: 4\n",
      "Number of principal components: 4\n",
      "Number of principal components: 4\n",
      "Number of principal components: 4\n",
      "Number of principal components: 4\n",
      "Number of principal components: 4\n",
      "Number of principal components: 4\n",
      "Number of principal components: 4\n",
      "Number of principal components: 4\n",
      "Number of principal components: 4\n",
      "Number of principal components: 4\n",
      "Number of principal components: 4\n",
      "Number of principal components: 4\n",
      "Number of principal components: 4\n",
      "Number of principal components: 4\n",
      "Number of principal components: 4\n",
      "Number of principal components: 4Number of principal components: 4\n",
      "Number of principal components: 4\n",
      "Number of principal components: 4\n",
      "\n",
      "Number of principal components: 4\n",
      "Number of principal components: 4\n",
      "Number of principal components: 4\n",
      "Number of principal components: 4\n",
      "Number of principal components: 4\n",
      "Number of principal components: 4\n",
      "Number of principal components: 4\n",
      "Number of principal components: 4\n",
      "Number of principal components: 4\n",
      "Number of principal components: 4Number of principal components: 4\n",
      "\n",
      "Number of principal components: 4\n",
      "Number of principal components: 4\n",
      "Number of principal components: 4\n",
      "Number of principal components: 4\n",
      "Number of principal components: 4\n",
      "Number of principal components: 4\n",
      "Number of principal components: 4\n",
      "Number of principal components: 4\n",
      "Number of principal components: 4\n",
      "Number of principal components: 4\n",
      "Number of principal components: 4\n",
      "Number of principal components: 4\n",
      "Number of principal components: 4\n",
      "Number of principal components: 4\n",
      "Number of principal components: 4\n",
      "Number of principal components: 4\n",
      "Number of principal components: 4Number of principal components: 4\n",
      "\n",
      "Number of principal components: 4\n",
      "Number of principal components: 4\n",
      "Number of principal components: 4\n",
      "Number of principal components: 4\n",
      "Number of principal components: 4\n",
      "Number of principal components: 4\n",
      "Number of principal components: 4\n",
      "Number of principal components: 4\n",
      "Number of principal components: 4\n",
      "Number of principal components: 4\n",
      "Number of principal components: 4Number of principal components: 4\n",
      "\n",
      "Number of principal components: 4\n",
      "Number of principal components: 4\n",
      "Number of principal components: 4\n",
      "Number of principal components: 4\n",
      "Number of principal components: 4\n",
      "Number of principal components: 4\n",
      "Number of principal components: 4\n",
      "Number of principal components: 4\n",
      "Number of principal components: 4\n",
      "Number of principal components: 4\n",
      "Number of principal components: 4\n",
      "Number of principal components: 4\n",
      "Number of principal components: 4\n",
      "Number of principal components: 4\n",
      "Number of principal components: 4\n",
      "Number of principal components: 4\n",
      "Number of principal components: 4Number of principal components: 4\n",
      "\n",
      "Number of principal components: 4\n",
      "Number of principal components: 4\n",
      "Number of principal components: 4\n",
      "Number of principal components: 4\n",
      "Number of principal components: 4\n",
      "Number of principal components: 4\n",
      "Number of principal components: 4\n",
      "Number of principal components: 4\n",
      "Number of principal components: 4\n",
      "Number of principal components: 4\n",
      "Number of principal components: 4\n",
      "Number of principal components: 4\n",
      "Number of principal components: 4\n",
      "Number of principal components: 4\n",
      "Number of principal components: 4\n",
      "Number of principal components: 4\n",
      "Number of principal components: 4\n",
      "Number of principal components: 4\n",
      "Number of principal components: 4Number of principal components: 4\n",
      "\n",
      "Number of principal components: 4\n",
      "Number of principal components: 4\n",
      "Number of principal components: 4\n",
      "Number of principal components: 4\n",
      "Number of principal components: 4\n",
      "Number of principal components: 4\n",
      "Number of principal components: 4\n",
      "Number of principal components: 4\n",
      "Number of principal components: 4\n",
      "Number of principal components: 4\n",
      "Number of principal components: 4\n",
      "Number of principal components: 4\n",
      "Number of principal components: 4\n",
      "Number of principal components: 4\n",
      "Number of principal components: 4Number of principal components: 4\n",
      "\n",
      "Number of principal components: 4\n",
      "Number of principal components: 4\n",
      "Number of principal components: 4\n",
      "Number of principal components: 4\n",
      "Number of principal components: 4\n",
      "Number of principal components: 4\n",
      "Number of principal components: 4\n",
      "Number of principal components: 4\n",
      "Number of principal components: 4\n",
      "Number of principal components: 4\n",
      "Number of principal components: 4Number of principal components: 4\n",
      "\n",
      "Number of principal components: 4\n",
      "Number of principal components: 4\n",
      "Number of principal components: 4\n",
      "Number of principal components: 4\n",
      "Number of principal components: 4\n",
      "Number of principal components: 4\n",
      "Number of principal components: 4\n",
      "Number of principal components: 4\n",
      "Number of principal components: 4\n",
      "Number of principal components: 4\n",
      "Number of principal components: 4Number of principal components: 4\n",
      "\n",
      "Number of principal components: 4\n",
      "Number of principal components: 4\n",
      "Number of principal components: 4\n",
      "Number of principal components: 4\n",
      "Number of principal components: 4\n",
      "Number of principal components: 4\n",
      "Number of principal components: 4\n",
      "Number of principal components: 4\n",
      "Number of principal components: 4\n",
      "Number of principal components: 4\n",
      "Number of principal components: 4\n",
      "Number of principal components: 4\n",
      "Number of principal components: 4\n",
      "Number of principal components: 4\n",
      "Number of principal components: 4\n",
      "Number of principal components: 4\n",
      "Number of principal components: 4\n",
      "Number of principal components: 4\n",
      "Number of principal components: 4\n",
      "Number of principal components: 4\n",
      "Number of principal components: 4\n",
      "Number of principal components: 4Number of principal components: 4\n",
      "\n",
      "Number of principal components: 4\n",
      "Number of principal components: 4\n",
      "Number of principal components: 4\n",
      "Number of principal components: 4\n",
      "Number of principal components: 4\n",
      "Number of principal components: 4\n",
      "Number of principal components: 4\n",
      "Number of principal components: 4\n",
      "Number of principal components: 4\n",
      "Number of principal components: 4\n",
      "Number of principal components: 4\n",
      "Number of principal components: 4\n",
      "Number of principal components: 4Number of principal components: 4\n",
      "\n",
      "Number of principal components: 4\n",
      "Number of principal components: 4\n",
      "Number of principal components: 4\n",
      "Number of principal components: 4\n",
      "Number of principal components: 4\n",
      "Number of principal components: 4\n",
      "Number of principal components: 4\n",
      "Number of principal components: 4\n",
      "Number of principal components: 4\n",
      "Number of principal components: 4\n",
      "Number of principal components: 4\n",
      "Number of principal components: 4\n",
      "Number of principal components: 4\n",
      "Number of principal components: 4\n",
      "Number of principal components: 4\n",
      "Number of principal components: 4\n",
      "Number of principal components: 4\n",
      "Number of principal components: 4\n",
      "Number of principal components: 4\n",
      "Number of principal components: 4\n",
      "Number of principal components: 4\n",
      "Number of principal components: 4\n",
      "Number of principal components: 4\n",
      "Number of principal components: 4\n",
      "Number of principal components: 4\n",
      "Number of principal components: 4\n",
      "Number of principal components: 4\n",
      "Number of principal components: 4\n",
      "Number of principal components: 4\n",
      "Number of principal components: 4\n",
      "Number of principal components: 4\n",
      "Number of principal components: 4\n",
      "Number of principal components: 4\n",
      "Number of principal components: 4\n",
      "Number of principal components: 4\n",
      "Number of principal components: 4\n",
      "Number of principal components: 4\n",
      "Number of principal components: 4\n",
      "Number of principal components: 4\n",
      "Number of principal components: 4\n",
      "Number of principal components: 4\n",
      "Number of principal components: 4\n",
      "Number of principal components: 4\n",
      "Number of principal components: 4\n",
      "Number of principal components: 4\n",
      "Number of principal components: 4\n",
      "Number of principal components: 4\n",
      "Number of principal components: 4Number of principal components: 4\n",
      "\n",
      "Number of principal components: 4\n",
      "Number of principal components: 4\n",
      "Number of principal components: 4\n",
      "Number of principal components: 4\n",
      "Number of principal components: 4\n",
      "Number of principal components: 4\n",
      "Number of principal components: 4\n",
      "Number of principal components: 4\n",
      "Number of principal components: 4Number of principal components: 4\n",
      "\n",
      "Number of principal components: 4\n",
      "Number of principal components: 4\n",
      "Number of principal components: 4\n",
      "Number of principal components: 4\n",
      "Number of principal components: 4\n",
      "Number of principal components: 4\n",
      "Number of principal components: 4\n",
      "Number of principal components: 4\n",
      "Number of principal components: 4\n",
      "Number of principal components: 4\n",
      "Number of principal components: 4\n",
      "Number of principal components: 4\n",
      "Number of principal components: 4\n",
      "Number of principal components: 4\n",
      "Number of principal components: 4\n",
      "Number of principal components: 4\n",
      "Number of principal components: 4\n",
      "Number of principal components: 4\n",
      "Number of principal components: 4\n",
      "Number of principal components: 4\n",
      "Number of principal components: 4\n",
      "Number of principal components: 4\n",
      "Number of principal components: 4\n",
      "Number of principal components: 4\n",
      "Number of principal components: 4\n",
      "Number of principal components: 4\n",
      "Number of principal components: 4\n",
      "Number of principal components: 4\n",
      "Number of principal components: 4\n",
      "Number of principal components: 4\n",
      "Number of principal components: 4\n",
      "Number of principal components: 4Number of principal components: 4\n",
      "Number of principal components: 4\n",
      "Number of principal components: 4\n",
      "Number of principal components: 4\n",
      "Number of principal components: 4\n",
      "\n",
      "Number of principal components: 4\n",
      "Number of principal components: 4\n",
      "Number of principal components: 4\n",
      "Number of principal components: 4\n",
      "Number of principal components: 4\n",
      "Number of principal components: 4\n",
      "Number of principal components: 4\n",
      "Number of principal components: 4\n",
      "Number of principal components: 4\n",
      "Number of principal components: 4\n",
      "Number of principal components: 4\n",
      "Number of principal components: 4\n",
      "Number of principal components: 4\n",
      "Number of principal components: 4\n",
      "Number of principal components: 4\n",
      "Number of principal components: 4\n",
      "Number of principal components: 4\n",
      "Number of principal components: 4\n",
      "Number of principal components: 4\n",
      "Number of principal components: 4\n",
      "Number of principal components: 4\n",
      "Number of principal components: 4\n",
      "Number of principal components: 4\n",
      "Number of principal components: 4\n",
      "Number of principal components: 4\n",
      "Number of principal components: 4\n",
      "Number of principal components: 4\n",
      "Number of principal components: 4\n",
      "Number of principal components: 4\n",
      "Number of principal components: 4\n",
      "Number of principal components: 4\n",
      "Number of principal components: 4\n",
      "Number of principal components: 4\n",
      "Number of principal components: 4\n",
      "Number of principal components: 4\n",
      "Number of principal components: 4\n",
      "Number of principal components: 4\n",
      "Number of principal components: 4\n",
      "Number of principal components: 4\n",
      "Number of principal components: 4\n",
      "Number of principal components: 4\n",
      "Number of principal components: 4\n",
      "Number of principal components: 4\n",
      "Number of principal components: 4\n",
      "Number of principal components: 4\n",
      "Number of principal components: 4\n",
      "Number of principal components: 4Number of principal components: 4\n",
      "Number of principal components: 4\n",
      "\n",
      "Number of principal components: 4\n",
      "Number of principal components: 4\n",
      "Number of principal components: 4\n",
      "Number of principal components: 4\n",
      "Number of principal components: 4\n",
      "Number of principal components: 4\n",
      "Number of principal components: 4\n",
      "Number of principal components: 4\n",
      "Number of principal components: 4\n",
      "Number of principal components: 4Number of principal components: 4\n",
      "\n",
      "Number of principal components: 4\n",
      "Number of principal components: 4\n",
      "Number of principal components: 4\n",
      "Number of principal components: 4\n",
      "Number of principal components: 4\n",
      "Number of principal components: 4\n",
      "Number of principal components: 4\n",
      "Number of principal components: 4\n",
      "Number of principal components: 4\n",
      "Number of principal components: 4\n",
      "Number of principal components: 4\n",
      "Number of principal components: 4\n",
      "Number of principal components: 4\n",
      "Number of principal components: 4\n",
      "Number of principal components: 4\n",
      "Number of principal components: 4\n",
      "Number of principal components: 4\n",
      "Number of principal components: 4\n",
      "Number of principal components: 4\n",
      "Number of principal components: 4\n",
      "Number of principal components: 4\n",
      "Number of principal components: 4\n",
      "Number of principal components: 4\n",
      "Number of principal components: 4\n",
      "Number of principal components: 4\n",
      "Number of principal components: 4\n",
      "Number of principal components: 4\n",
      "Number of principal components: 4\n",
      "Number of principal components: 4\n",
      "Number of principal components: 4\n",
      "Number of principal components: 4\n",
      "Number of principal components: 4\n",
      "Number of principal components: 4\n",
      "Number of principal components: 4\n",
      "Number of principal components: 4Number of principal components: 4\n",
      "\n",
      "Number of principal components: 4\n",
      "Number of principal components: 4\n",
      "Number of principal components: 4\n",
      "Number of principal components: 4\n",
      "Number of principal components: 4\n",
      "Number of principal components: 4\n",
      "Number of principal components: 4\n",
      "Number of principal components: 4\n",
      "Number of principal components: 4\n",
      "Number of principal components: 4\n",
      "Number of principal components: 4\n",
      "Number of principal components: 4\n",
      "Number of principal components: 4\n",
      "Number of principal components: 4\n",
      "Number of principal components: 4\n",
      "Number of principal components: 4\n",
      "Number of principal components: 4\n",
      "Number of principal components: 4\n",
      "Number of principal components: 4\n",
      "Number of principal components: 4\n",
      "Number of principal components: 4\n",
      "Number of principal components: 4\n",
      "Number of principal components: 4\n",
      "Number of principal components: 4\n",
      "Number of principal components: 4\n",
      "Number of principal components: 4Number of principal components: 4\n",
      "\n",
      "Number of principal components: 4\n",
      "Number of principal components: 4\n",
      "Number of principal components: 4\n",
      "Number of principal components: 4\n",
      "Number of principal components: 4\n",
      "Number of principal components: 4\n",
      "Number of principal components: 4\n",
      "Number of principal components: 4\n",
      "Number of principal components: 4\n",
      "Number of principal components: 4Number of principal components: 4\n",
      "Number of principal components: 4\n",
      "\n",
      "Number of principal components: 4\n",
      "Number of principal components: 4\n",
      "Number of principal components: 4\n",
      "Number of principal components: 4\n",
      "Number of principal components: 4\n",
      "Number of principal components: 4\n",
      "Number of principal components: 4\n",
      "Number of principal components: 4\n",
      "Number of principal components: 4\n",
      "Number of principal components: 4\n",
      "Number of principal components: 4\n",
      "Number of principal components: 4\n",
      "Number of principal components: 4\n",
      "Number of principal components: 4\n",
      "Number of principal components: 4\n",
      "Number of principal components: 4\n",
      "Number of principal components: 4\n",
      "Number of principal components: 4\n",
      "Number of principal components: 4\n",
      "Number of principal components: 4\n",
      "Number of principal components: 4\n",
      "Number of principal components: 4\n",
      "Number of principal components: 4\n",
      "Number of principal components: 4\n",
      "Number of principal components: 4\n",
      "Number of principal components: 4\n",
      "Number of principal components: 4\n",
      "Number of principal components: 4Number of principal components: 4\n",
      "Number of principal components: 4\n",
      "\n",
      "Number of principal components: 4\n",
      "Number of principal components: 4\n",
      "Number of principal components: 4\n",
      "Number of principal components: 4\n",
      "Number of principal components: 4\n",
      "Number of principal components: 4\n",
      "Number of principal components: 4\n",
      "Number of principal components: 4\n",
      "Number of principal components: 4\n",
      "Number of principal components: 4\n",
      "Number of principal components: 4\n",
      "Number of principal components: 4\n",
      "Number of principal components: 4\n",
      "Number of principal components: 4\n",
      "Number of principal components: 4\n",
      "Number of principal components: 4\n",
      "Number of principal components: 4\n",
      "Number of principal components: 4Number of principal components: 4\n",
      "Number of principal components: 4\n",
      "\n",
      "Number of principal components: 4\n",
      "Number of principal components: 4\n",
      "Number of principal components: 4\n",
      "Number of principal components: 4\n",
      "Number of principal components: 4\n",
      "Number of principal components: 4\n",
      "Number of principal components: 4\n",
      "Number of principal components: 4\n",
      "Number of principal components: 4\n",
      "Number of principal components: 4\n",
      "Number of principal components: 4\n",
      "Number of principal components: 4\n",
      "Number of principal components: 4\n",
      "Number of principal components: 4\n",
      "Number of principal components: 4\n",
      "Number of principal components: 4\n",
      "Number of principal components: 4\n",
      "Number of principal components: 4Number of principal components: 4\n",
      "\n",
      "Number of principal components: 4\n",
      "Number of principal components: 4\n",
      "Number of principal components: 4\n",
      "Number of principal components: 4\n",
      "Number of principal components: 4\n",
      "Number of principal components: 4\n",
      "Number of principal components: 4\n",
      "Number of principal components: 4\n",
      "Number of principal components: 4Number of principal components: 4\n",
      "Number of principal components: 4\n",
      "\n",
      "Number of principal components: 4\n",
      "Number of principal components: 4\n",
      "Number of principal components: 4\n",
      "Number of principal components: 4\n",
      "Number of principal components: 4\n",
      "Number of principal components: 4\n",
      "Number of principal components: 4\n",
      "Number of principal components: 4Number of principal components: 4\n",
      "\n",
      "Number of principal components: 4\n",
      "Number of principal components: 4\n",
      "Number of principal components: 4\n",
      "Number of principal components: 4\n",
      "Number of principal components: 4\n",
      "Number of principal components: 4\n",
      "Number of principal components: 4\n",
      "Number of principal components: 4\n",
      "Number of principal components: 4\n",
      "Number of principal components: 4\n",
      "Number of principal components: 4\n",
      "Number of principal components: 4\n",
      "Number of principal components: 4\n",
      "Number of principal components: 4\n",
      "Number of principal components: 4\n",
      "Number of principal components: 4\n",
      "Number of principal components: 4\n",
      "Number of principal components: 4\n",
      "Number of principal components: 4\n",
      "Number of principal components: 4Number of principal components: 4\n",
      "Number of principal components: 4\n",
      "Number of principal components: 4\n",
      "Number of principal components: 4\n",
      "\n",
      "Number of principal components: 4\n",
      "Number of principal components: 4\n",
      "Number of principal components: 4\n",
      "Number of principal components: 4\n",
      "Number of principal components: 4\n",
      "Number of principal components: 4\n",
      "Number of principal components: 4\n",
      "Number of principal components: 4\n",
      "Number of principal components: 4\n",
      "Number of principal components: 4\n",
      "Number of principal components: 4\n",
      "Number of principal components: 4\n",
      "Number of principal components: 4\n",
      "Number of principal components: 4\n",
      "Number of principal components: 4\n",
      "Number of principal components: 4\n",
      "Number of principal components: 4\n",
      "Number of principal components: 4\n",
      "Number of principal components: 4\n",
      "Number of principal components: 4\n",
      "Number of principal components: 4\n",
      "Number of principal components: 4\n",
      "Number of principal components: 4\n",
      "Number of principal components: 4\n",
      "Number of principal components: 4\n",
      "Number of principal components: 4\n",
      "Number of principal components: 4Number of principal components: 4\n",
      "Number of principal components: 4\n",
      "\n",
      "Number of principal components: 4\n",
      "Number of principal components: 4\n",
      "Number of principal components: 4\n",
      "Number of principal components: 4\n",
      "Number of principal components: 4\n",
      "Number of principal components: 4\n",
      "Number of principal components: 4\n",
      "Number of principal components: 4\n",
      "Number of principal components: 4\n",
      "Number of principal components: 4\n",
      "Number of principal components: 4\n",
      "Number of principal components: 4\n",
      "Number of principal components: 4\n",
      "Number of principal components: 4\n",
      "Number of principal components: 4\n",
      "Number of principal components: 4\n",
      "Number of principal components: 4\n",
      "Number of principal components: 4\n",
      "Number of principal components: 4\n",
      "Number of principal components: 4\n",
      "Number of principal components: 4\n",
      "Number of principal components: 4\n",
      "Number of principal components: 4\n",
      "Number of principal components: 4\n",
      "Number of principal components: 4\n",
      "Number of principal components: 4\n",
      "Number of principal components: 4Number of principal components: 4\n",
      "\n",
      "Number of principal components: 4\n",
      "Number of principal components: 4\n",
      "Number of principal components: 4\n",
      "Number of principal components: 4\n",
      "Number of principal components: 4\n",
      "Number of principal components: 4\n",
      "Number of principal components: 4Number of principal components: 4\n",
      "\n",
      "Number of principal components: 4\n",
      "Number of principal components: 4\n",
      "Number of principal components: 4\n",
      "Number of principal components: 4\n",
      "Number of principal components: 4\n",
      "Number of principal components: 4\n",
      "Number of principal components: 4\n",
      "Number of principal components: 4\n",
      "Number of principal components: 4\n",
      "Number of principal components: 4\n",
      "Number of principal components: 4\n",
      "Number of principal components: 4Number of principal components: 4\n",
      "\n",
      "Number of principal components: 4\n",
      "Number of principal components: 4\n",
      "Number of principal components: 4\n",
      "Number of principal components: 4\n",
      "Number of principal components: 4\n",
      "Number of principal components: 4\n",
      "Number of principal components: 4\n",
      "Number of principal components: 4\n",
      "Number of principal components: 4\n",
      "Number of principal components: 4\n",
      "Number of principal components: 4\n",
      "Number of principal components: 4\n",
      "Number of principal components: 4\n",
      "Number of principal components: 4\n",
      "Number of principal components: 4\n",
      "Number of principal components: 4\n",
      "Number of principal components: 4\n",
      "Number of principal components: 4\n",
      "Number of principal components: 4\n",
      "Number of principal components: 4\n",
      "Number of principal components: 4\n",
      "Number of principal components: 4\n",
      "Number of principal components: 4\n",
      "Number of principal components: 4\n",
      "Number of principal components: 4\n",
      "Number of principal components: 4\n",
      "Number of principal components: 4\n",
      "Number of principal components: 4\n",
      "Number of principal components: 4\n",
      "Number of principal components: 4\n",
      "Number of principal components: 4\n",
      "Number of principal components: 4\n",
      "Number of principal components: 4\n",
      "Number of principal components: 4\n",
      "Number of principal components: 4\n",
      "Number of principal components: 4\n",
      "Number of principal components: 4\n",
      "Number of principal components: 4\n",
      "Number of principal components: 4\n",
      "Number of principal components: 4\n",
      "Number of principal components: 4\n",
      "Number of principal components: 4\n",
      "Number of principal components: 4\n",
      "Number of principal components: 4\n",
      "Number of principal components: 4\n",
      "Number of principal components: 4\n",
      "Number of principal components: 4\n",
      "Number of principal components: 4\n",
      "Number of principal components: 4\n",
      "Number of principal components: 4\n",
      "Number of principal components: 4Number of principal components: 4\n",
      "\n",
      "Number of principal components: 4\n",
      "Number of principal components: 4\n",
      "Number of principal components: 4\n",
      "Number of principal components: 4\n",
      "Number of principal components: 4\n",
      "Number of principal components: 4\n",
      "Number of principal components: 4\n",
      "Number of principal components: 4\n",
      "Number of principal components: 4\n",
      "Number of principal components: 4\n",
      "Number of principal components: 4\n",
      "Number of principal components: 4\n",
      "Number of principal components: 4\n",
      "Number of principal components: 4Number of principal components: 4\n",
      "Number of principal components: 4\n",
      "Number of principal components: 4\n",
      "Number of principal components: 4\n",
      "Number of principal components: 4\n",
      "\n",
      "Number of principal components: 4\n",
      "Number of principal components: 4\n",
      "Number of principal components: 4\n",
      "Number of principal components: 4\n",
      "Number of principal components: 4\n",
      "Number of principal components: 4\n",
      "Number of principal components: 4\n",
      "Number of principal components: 4\n",
      "Number of principal components: 4\n",
      "Number of principal components: 4\n",
      "Number of principal components: 4\n",
      "Number of principal components: 4\n",
      "Number of principal components: 4\n",
      "Number of principal components: 4\n",
      "Number of principal components: 4\n",
      "Number of principal components: 4\n",
      "Number of principal components: 4Number of principal components: 4\n",
      "Number of principal components: 4\n",
      "\n",
      "Number of principal components: 4\n",
      "Number of principal components: 4\n",
      "Number of principal components: 4\n",
      "Number of principal components: 4\n",
      "Number of principal components: 4\n",
      "Number of principal components: 4\n",
      "Number of principal components: 4\n",
      "Number of principal components: 4\n",
      "Number of principal components: 4Number of principal components: 4\n",
      "Number of principal components: 4\n",
      "\n",
      "Number of principal components: 4\n",
      "Number of principal components: 4\n",
      "Number of principal components: 4\n",
      "Number of principal components: 4\n",
      "Number of principal components: 4\n",
      "Number of principal components: 4\n",
      "Number of principal components: 4\n",
      "Number of principal components: 4\n",
      "Number of principal components: 4\n",
      "Number of principal components: 4\n",
      "Number of principal components: 4\n",
      "Number of principal components: 4\n",
      "Number of principal components: 4Number of principal components: 4\n",
      "Number of principal components: 4\n",
      "Number of principal components: 4\n",
      "\n",
      "Number of principal components: 4\n",
      "Number of principal components: 4\n",
      "Number of principal components: 4\n",
      "Number of principal components: 4\n",
      "Number of principal components: 4\n",
      "Number of principal components: 4\n",
      "Number of principal components: 4\n",
      "Number of principal components: 4\n",
      "Number of principal components: 4\n",
      "Number of principal components: 4\n",
      "Number of principal components: 4\n",
      "Number of principal components: 4\n",
      "Number of principal components: 4\n",
      "Number of principal components: 4\n",
      "Number of principal components: 4\n",
      "Number of principal components: 4\n",
      "Number of principal components: 4\n",
      "Number of principal components: 4\n",
      "Number of principal components: 4\n",
      "Number of principal components: 4\n",
      "Number of principal components: 4Number of principal components: 4\n",
      "\n",
      "Number of principal components: 4\n",
      "Number of principal components: 4\n",
      "Number of principal components: 4\n",
      "Number of principal components: 4\n",
      "Number of principal components: 4\n",
      "Number of principal components: 4\n",
      "Number of principal components: 4\n",
      "Number of principal components: 4\n",
      "Number of principal components: 4\n",
      "Number of principal components: 4\n",
      "Number of principal components: 4\n",
      "Number of principal components: 4\n",
      "Number of principal components: 4\n",
      "Number of principal components: 4\n",
      "Number of principal components: 4\n",
      "Number of principal components: 4\n",
      "Number of principal components: 4\n",
      "Number of principal components: 4Number of principal components: 4\n",
      "\n",
      "Number of principal components: 4\n",
      "Number of principal components: 4\n",
      "Number of principal components: 4\n",
      "Number of principal components: 4\n",
      "Number of principal components: 4\n",
      "Number of principal components: 4\n",
      "Number of principal components: 4\n",
      "Number of principal components: 4\n",
      "Number of principal components: 4\n",
      "Number of principal components: 4\n",
      "Number of principal components: 4Number of principal components: 4\n",
      "\n",
      "Number of principal components: 4\n",
      "Number of principal components: 4\n",
      "Number of principal components: 4\n",
      "Number of principal components: 4\n",
      "Number of principal components: 4\n",
      "Number of principal components: 4\n",
      "Number of principal components: 4\n",
      "Number of principal components: 4\n",
      "Number of principal components: 4\n",
      "Number of principal components: 4\n",
      "Number of principal components: 4\n",
      "Number of principal components: 4\n",
      "Number of principal components: 4\n",
      "Number of principal components: 4\n",
      "Number of principal components: 4\n",
      "Number of principal components: 4\n",
      "Number of principal components: 4\n",
      "Number of principal components: 4\n",
      "Number of principal components: 4\n",
      "Number of principal components: 4\n",
      "Number of principal components: 4\n",
      "Number of principal components: 4Number of principal components: 4\n",
      "\n",
      "Number of principal components: 4\n",
      "Number of principal components: 4\n",
      "Number of principal components: 4\n",
      "Number of principal components: 4\n",
      "Number of principal components: 4\n",
      "Number of principal components: 4\n",
      "Number of principal components: 4\n",
      "Number of principal components: 4\n",
      "Number of principal components: 4\n",
      "Number of principal components: 4\n",
      "Number of principal components: 4\n",
      "Number of principal components: 4\n",
      "Number of principal components: 4\n",
      "Number of principal components: 1\n",
      "Number of principal components: 4\n",
      "Number of principal components: 1\n",
      "Number of principal components: 1\n"
     ]
    },
    {
     "name": "stderr",
     "output_type": "stream",
     "text": [
      "/Users/allison/anaconda3/envs/myenv/lib/python3.9/site-packages/sklearn/decomposition/_pca.py:501: RuntimeWarning: invalid value encountered in divide\n",
      "  explained_variance_ratio_ = explained_variance_ / total_var\n",
      "/Users/allison/anaconda3/envs/myenv/lib/python3.9/site-packages/sklearn/decomposition/_pca.py:501: RuntimeWarning: invalid value encountered in divide\n",
      "  explained_variance_ratio_ = explained_variance_ / total_var\n",
      "/Users/allison/anaconda3/envs/myenv/lib/python3.9/site-packages/sklearn/decomposition/_pca.py:501: RuntimeWarning: invalid value encountered in divide\n",
      "  explained_variance_ratio_ = explained_variance_ / total_var\n",
      "/Users/allison/anaconda3/envs/myenv/lib/python3.9/site-packages/sklearn/decomposition/_pca.py:501: RuntimeWarning: invalid value encountered in divide\n",
      "  explained_variance_ratio_ = explained_variance_ / total_var\n",
      "/Users/allison/anaconda3/envs/myenv/lib/python3.9/site-packages/sklearn/decomposition/_pca.py:501: RuntimeWarning: invalid value encountered in divide\n",
      "  explained_variance_ratio_ = explained_variance_ / total_var\n",
      "/Users/allison/anaconda3/envs/myenv/lib/python3.9/site-packages/sklearn/decomposition/_pca.py:501: RuntimeWarning: invalid value encountered in divide\n",
      "  explained_variance_ratio_ = explained_variance_ / total_var\n",
      "/Users/allison/anaconda3/envs/myenv/lib/python3.9/site-packages/sklearn/decomposition/_pca.py:501: RuntimeWarning: invalid value encountered in divide\n",
      "  explained_variance_ratio_ = explained_variance_ / total_var\n"
     ]
    },
    {
     "name": "stdout",
     "output_type": "stream",
     "text": [
      "Number of principal components: 1\n",
      "Number of principal components: 4\n",
      "Number of principal components: 1\n",
      "Number of principal components: 1\n",
      "Number of principal components: 1\n",
      "Number of principal components: 1\n",
      "Number of principal components: 4\n",
      "Number of principal components: 1\n",
      "Number of principal components: 1\n",
      "Number of principal components: 1\n",
      "Number of principal components: 1\n",
      "Number of principal components: 1\n",
      "Number of principal components: 1\n",
      "Number of principal components: 1\n",
      "Number of principal components: 4\n",
      "Number of principal components: 3\n",
      "Number of principal components: 1\n",
      "Number of principal components: 1\n",
      "Number of principal components: 1\n"
     ]
    },
    {
     "name": "stderr",
     "output_type": "stream",
     "text": [
      "/Users/allison/anaconda3/envs/myenv/lib/python3.9/site-packages/sklearn/decomposition/_pca.py:501: RuntimeWarning: invalid value encountered in divide\n",
      "  explained_variance_ratio_ = explained_variance_ / total_var\n",
      "/Users/allison/anaconda3/envs/myenv/lib/python3.9/site-packages/sklearn/decomposition/_pca.py:501: RuntimeWarning: invalid value encountered in divide\n",
      "  explained_variance_ratio_ = explained_variance_ / total_var\n",
      "/Users/allison/anaconda3/envs/myenv/lib/python3.9/site-packages/sklearn/decomposition/_pca.py:501: RuntimeWarning: invalid value encountered in divide\n",
      "  explained_variance_ratio_ = explained_variance_ / total_var\n",
      "/Users/allison/anaconda3/envs/myenv/lib/python3.9/site-packages/sklearn/decomposition/_pca.py:501: RuntimeWarning: invalid value encountered in divide\n",
      "  explained_variance_ratio_ = explained_variance_ / total_var\n",
      "/Users/allison/anaconda3/envs/myenv/lib/python3.9/site-packages/sklearn/decomposition/_pca.py:501: RuntimeWarning: invalid value encountered in divide\n",
      "  explained_variance_ratio_ = explained_variance_ / total_var\n",
      "/Users/allison/anaconda3/envs/myenv/lib/python3.9/site-packages/sklearn/decomposition/_pca.py:501: RuntimeWarning: invalid value encountered in divide\n",
      "  explained_variance_ratio_ = explained_variance_ / total_var\n",
      "/Users/allison/anaconda3/envs/myenv/lib/python3.9/site-packages/sklearn/decomposition/_pca.py:501: RuntimeWarning: invalid value encountered in divide\n",
      "  explained_variance_ratio_ = explained_variance_ / total_var\n",
      "/Users/allison/anaconda3/envs/myenv/lib/python3.9/site-packages/sklearn/decomposition/_pca.py:501: RuntimeWarning: invalid value encountered in divide\n",
      "  explained_variance_ratio_ = explained_variance_ / total_var\n",
      "/Users/allison/anaconda3/envs/myenv/lib/python3.9/site-packages/sklearn/decomposition/_pca.py:501: RuntimeWarning: invalid value encountered in divide\n",
      "  explained_variance_ratio_ = explained_variance_ / total_var\n"
     ]
    },
    {
     "name": "stdout",
     "output_type": "stream",
     "text": [
      "Number of principal components: 1Number of principal components: 1\n",
      "\n",
      "Number of principal components: 4\n",
      "Number of principal components: 4\n",
      "Number of principal components: 4\n",
      "Number of principal components: 4\n",
      "Number of principal components: 1\n"
     ]
    },
    {
     "name": "stderr",
     "output_type": "stream",
     "text": [
      "/Users/allison/anaconda3/envs/myenv/lib/python3.9/site-packages/sklearn/decomposition/_pca.py:501: RuntimeWarning: invalid value encountered in divide\n",
      "  explained_variance_ratio_ = explained_variance_ / total_var\n"
     ]
    },
    {
     "name": "stdout",
     "output_type": "stream",
     "text": [
      "Number of principal components: 4\n",
      "Number of principal components: 4\n",
      "Number of principal components: 3\n",
      "Number of principal components: 4\n",
      "Number of principal components: 4\n",
      "Number of principal components: 4\n",
      "Number of principal components: 4\n",
      "Number of principal components: 4\n",
      "Number of principal components: 4\n",
      "Number of principal components: 4\n",
      "Number of principal components: 4\n",
      "Number of principal components: 4\n",
      "Number of principal components: 4\n",
      "Number of principal components: 4\n",
      "Number of principal components: 4\n",
      "Number of principal components: 4\n",
      "Number of principal components: 4\n",
      "Number of principal components: 4\n",
      "Number of principal components: 4\n",
      "Number of principal components: 4\n",
      "Number of principal components: 4\n",
      "Number of principal components: 4Number of principal components: 4\n",
      "\n",
      "Number of principal components: 4\n",
      "Number of principal components: 4\n",
      "Number of principal components: 4\n",
      "Number of principal components: 4\n",
      "Number of principal components: 4\n",
      "Number of principal components: 4\n",
      "Number of principal components: 4\n",
      "Number of principal components: 4\n",
      "Number of principal components: 4\n",
      "Number of principal components: 4\n",
      "Number of principal components: 4Number of principal components: 4\n",
      "\n",
      "Number of principal components: 4\n",
      "Number of principal components: 4\n",
      "Number of principal components: 4\n",
      "Number of principal components: 4\n",
      "Number of principal components: 4\n",
      "Number of principal components: 4\n",
      "Number of principal components: 4\n",
      "Number of principal components: 4\n",
      "Number of principal components: 4\n",
      "Number of principal components: 4\n",
      "Number of principal components: 4\n",
      "Number of principal components: 4\n",
      "Number of principal components: 4\n",
      "Number of principal components: 4\n",
      "Number of principal components: 4\n",
      "Number of principal components: 4Number of principal components: 4\n",
      "Number of principal components: 4\n",
      "Number of principal components: 4\n",
      "\n",
      "Number of principal components: 4\n",
      "Number of principal components: 4\n",
      "Number of principal components: 4\n",
      "Number of principal components: 4\n",
      "Number of principal components: 4\n",
      "Number of principal components: 4\n",
      "Number of principal components: 4\n",
      "Number of principal components: 4Number of principal components: 4\n",
      "Number of principal components: 4\n",
      "\n",
      "Number of principal components: 4\n",
      "Number of principal components: 4\n",
      "Number of principal components: 4\n",
      "Number of principal components: 4\n",
      "Number of principal components: 4\n",
      "Number of principal components: 4\n",
      "Number of principal components: 4\n",
      "Number of principal components: 4\n",
      "Number of principal components: 4\n",
      "Number of principal components: 4\n",
      "Number of principal components: 4\n",
      "Number of principal components: 4\n",
      "Number of principal components: 4\n",
      "Number of principal components: 4\n",
      "Number of principal components: 4\n",
      "Number of principal components: 4\n",
      "Number of principal components: 4\n",
      "Number of principal components: 4\n",
      "Number of principal components: 4\n",
      "Number of principal components: 4\n",
      "Number of principal components: 4\n",
      "Number of principal components: 4\n",
      "Number of principal components: 4\n",
      "Number of principal components: 4\n",
      "Number of principal components: 4\n",
      "Number of principal components: 4\n",
      "Number of principal components: 4Number of principal components: 4\n",
      "\n",
      "Number of principal components: 4\n",
      "Number of principal components: 4\n",
      "Number of principal components: 4\n",
      "Number of principal components: 4\n",
      "Number of principal components: 4\n",
      "Number of principal components: 4\n",
      "Number of principal components: 4\n",
      "Number of principal components: 4\n",
      "Number of principal components: 4\n",
      "Number of principal components: 4\n",
      "Number of principal components: 4\n",
      "Number of principal components: 4Number of principal components: 4\n",
      "\n",
      "Number of principal components: 4\n",
      "Number of principal components: 4\n",
      "Number of principal components: 4\n",
      "Number of principal components: 4\n",
      "Number of principal components: 4\n",
      "Number of principal components: 4\n",
      "Number of principal components: 4\n",
      "Number of principal components: 4\n",
      "Number of principal components: 4\n",
      "Number of principal components: 4\n",
      "Number of principal components: 4\n",
      "Number of principal components: 4\n",
      "Number of principal components: 4\n",
      "Number of principal components: 4\n",
      "Number of principal components: 4\n",
      "Number of principal components: 4\n",
      "Number of principal components: 4\n",
      "Number of principal components: 4\n",
      "Number of principal components: 4\n",
      "Number of principal components: 4\n",
      "Number of principal components: 4\n",
      "Number of principal components: 4\n",
      "Number of principal components: 4\n",
      "Number of principal components: 4\n",
      "Number of principal components: 4\n",
      "Number of principal components: 4\n",
      "Number of principal components: 4Number of principal components: 4\n",
      "\n",
      "Number of principal components: 4\n",
      "Number of principal components: 4\n",
      "Number of principal components: 4\n",
      "Number of principal components: 4\n",
      "Number of principal components: 4\n",
      "Number of principal components: 4\n",
      "Number of principal components: 4\n",
      "Number of principal components: 4\n",
      "Number of principal components: 4\n",
      "Number of principal components: 4\n",
      "Number of principal components: 4\n",
      "Number of principal components: 4\n",
      "Number of principal components: 4\n",
      "Number of principal components: 4\n",
      "Number of principal components: 4\n",
      "Number of principal components: 4\n",
      "Number of principal components: 4\n",
      "Number of principal components: 4\n",
      "Number of principal components: 4\n",
      "Number of principal components: 4\n",
      "Number of principal components: 4\n",
      "Number of principal components: 4\n",
      "Number of principal components: 4\n",
      "Number of principal components: 4\n",
      "Number of principal components: 4\n",
      "Number of principal components: 4\n",
      "Number of principal components: 4\n",
      "Number of principal components: 4\n",
      "Number of principal components: 4\n",
      "Number of principal components: 4\n",
      "Number of principal components: 4\n",
      "Number of principal components: 4\n",
      "Number of principal components: 4\n",
      "Number of principal components: 4\n",
      "Number of principal components: 4\n",
      "Number of principal components: 4\n",
      "Number of principal components: 4\n",
      "Number of principal components: 4\n",
      "Number of principal components: 4\n",
      "Number of principal components: 4\n",
      "Number of principal components: 4\n",
      "Number of principal components: 4\n",
      "Number of principal components: 4\n",
      "Number of principal components: 4\n",
      "Number of principal components: 4\n",
      "Number of principal components: 4\n",
      "Number of principal components: 4\n",
      "Number of principal components: 4\n",
      "Number of principal components: 4\n",
      "Number of principal components: 4\n",
      "Number of principal components: 4\n",
      "Number of principal components: 4\n",
      "Number of principal components: 4\n",
      "Number of principal components: 4\n",
      "Number of principal components: 4\n",
      "Number of principal components: 4\n",
      "Number of principal components: 4\n",
      "Number of principal components: 4\n",
      "Number of principal components: 4\n",
      "Number of principal components: 4\n",
      "Number of principal components: 4\n",
      "Number of principal components: 4\n",
      "Number of principal components: 4\n",
      "Number of principal components: 4\n",
      "Number of principal components: 4\n",
      "Number of principal components: 4Number of principal components: 4\n",
      "\n",
      "Number of principal components: 4\n",
      "Number of principal components: 4\n",
      "Number of principal components: 4\n",
      "Number of principal components: 4\n",
      "Number of principal components: 4\n",
      "Number of principal components: 4\n",
      "Number of principal components: 4\n",
      "Number of principal components: 4\n",
      "Number of principal components: 4\n",
      "Number of principal components: 4\n",
      "Number of principal components: 4\n",
      "Number of principal components: 4\n",
      "Number of principal components: 4\n",
      "Number of principal components: 4\n",
      "Number of principal components: 4\n",
      "Number of principal components: 4\n",
      "Number of principal components: 4\n",
      "Number of principal components: 4\n",
      "Number of principal components: 4\n",
      "Number of principal components: 4\n",
      "Number of principal components: 4\n",
      "Number of principal components: 4Number of principal components: 4\n",
      "Number of principal components: 4\n",
      "\n",
      "Number of principal components: 4\n",
      "Number of principal components: 4\n",
      "Number of principal components: 4\n",
      "Number of principal components: 4\n",
      "Number of principal components: 4\n",
      "Number of principal components: 4\n",
      "Number of principal components: 4\n",
      "Number of principal components: 4\n",
      "Number of principal components: 4\n",
      "Number of principal components: 4\n",
      "Number of principal components: 4\n",
      "Number of principal components: 4\n",
      "Number of principal components: 4\n",
      "Number of principal components: 4\n",
      "Number of principal components: 4\n",
      "Number of principal components: 4Number of principal components: 4\n",
      "\n",
      "Number of principal components: 4\n",
      "Number of principal components: 4\n",
      "Number of principal components: 4\n",
      "Number of principal components: 4\n",
      "Number of principal components: 4\n",
      "Number of principal components: 4\n",
      "Number of principal components: 4\n",
      "Number of principal components: 4\n",
      "Number of principal components: 4\n",
      "Number of principal components: 4\n",
      "Number of principal components: 4\n",
      "Number of principal components: 4\n",
      "Number of principal components: 4Number of principal components: 4\n",
      "\n",
      "Number of principal components: 4\n",
      "Number of principal components: 4\n",
      "Number of principal components: 4\n",
      "Number of principal components: 4\n",
      "Number of principal components: 4\n",
      "Number of principal components: 4\n",
      "Number of principal components: 4\n",
      "Number of principal components: 4\n",
      "Number of principal components: 4\n",
      "Number of principal components: 4Number of principal components: 4\n",
      "\n",
      "Number of principal components: 4\n",
      "Number of principal components: 4\n",
      "Number of principal components: 4\n",
      "Number of principal components: 4\n",
      "Number of principal components: 4\n",
      "Number of principal components: 4\n",
      "Number of principal components: 4\n",
      "Number of principal components: 4\n",
      "Number of principal components: 4\n",
      "Number of principal components: 4\n",
      "Number of principal components: 4\n",
      "Number of principal components: 4\n",
      "Number of principal components: 4\n",
      "Number of principal components: 4\n",
      "Number of principal components: 4\n",
      "Number of principal components: 4\n",
      "Number of principal components: 4\n",
      "Number of principal components: 4\n",
      "Number of principal components: 4\n",
      "Number of principal components: 4\n",
      "Number of principal components: 4\n",
      "Number of principal components: 4\n",
      "Number of principal components: 4\n",
      "Number of principal components: 4\n",
      "Number of principal components: 4\n",
      "Number of principal components: 4\n",
      "Number of principal components: 4Number of principal components: 4\n",
      "\n",
      "Number of principal components: 4\n",
      "Number of principal components: 4\n",
      "Number of principal components: 4\n",
      "Number of principal components: 4\n",
      "Number of principal components: 4\n",
      "Number of principal components: 4\n",
      "Number of principal components: 4\n",
      "Number of principal components: 4\n",
      "Number of principal components: 4\n",
      "Number of principal components: 4Number of principal components: 4\n",
      "\n",
      "Number of principal components: 4\n",
      "Number of principal components: 4\n",
      "Number of principal components: 4\n",
      "Number of principal components: 4\n",
      "Number of principal components: 4\n",
      "Number of principal components: 4\n",
      "Number of principal components: 4\n",
      "Number of principal components: 4\n",
      "Number of principal components: 4\n",
      "Number of principal components: 4\n",
      "Number of principal components: 4Number of principal components: 4\n",
      "\n",
      "Number of principal components: 4\n",
      "Number of principal components: 4\n",
      "Number of principal components: 4\n",
      "Number of principal components: 4\n",
      "Number of principal components: 4\n",
      "Number of principal components: 4\n",
      "Number of principal components: 4\n",
      "Number of principal components: 4\n",
      "Number of principal components: 4\n",
      "Number of principal components: 4\n",
      "Number of principal components: 4\n",
      "Number of principal components: 4\n",
      "Number of principal components: 4\n",
      "Number of principal components: 4Number of principal components: 4\n",
      "Number of principal components: 4\n",
      "Number of principal components: 4\n",
      "Number of principal components: 4\n",
      "Number of principal components: 4\n",
      "Number of principal components: 4\n",
      "\n",
      "Number of principal components: 4\n",
      "Number of principal components: 4\n",
      "Number of principal components: 4\n",
      "Number of principal components: 4\n",
      "Number of principal components: 4\n",
      "Number of principal components: 4\n",
      "Number of principal components: 4\n",
      "Number of principal components: 4\n",
      "Number of principal components: 4\n",
      "Number of principal components: 4\n",
      "Number of principal components: 4\n",
      "Number of principal components: 4\n",
      "Number of principal components: 4\n",
      "Number of principal components: 4\n",
      "Number of principal components: 4\n",
      "Number of principal components: 4\n",
      "Number of principal components: 4\n",
      "Number of principal components: 4\n",
      "Number of principal components: 4\n",
      "Number of principal components: 4\n",
      "Number of principal components: 4\n",
      "Number of principal components: 4\n",
      "Number of principal components: 4\n",
      "Number of principal components: 4\n",
      "Number of principal components: 4\n",
      "Number of principal components: 4\n",
      "Number of principal components: 4\n",
      "Number of principal components: 4\n",
      "Number of principal components: 4\n",
      "Number of principal components: 4\n",
      "Number of principal components: 4\n",
      "Number of principal components: 4\n",
      "Number of principal components: 4\n",
      "Number of principal components: 4\n",
      "Number of principal components: 4\n",
      "Number of principal components: 4\n",
      "Number of principal components: 4\n",
      "Number of principal components: 4\n",
      "Number of principal components: 4\n",
      "Number of principal components: 4\n",
      "Number of principal components: 4\n",
      "Number of principal components: 4\n",
      "Number of principal components: 4\n",
      "Number of principal components: 4\n",
      "Number of principal components: 4\n",
      "Number of principal components: 4\n",
      "Number of principal components: 4\n",
      "Number of principal components: 4\n",
      "Number of principal components: 4\n",
      "Number of principal components: 4\n",
      "Number of principal components: 4\n",
      "Number of principal components: 4\n",
      "Number of principal components: 4\n",
      "Number of principal components: 4\n",
      "Number of principal components: 4\n",
      "Number of principal components: 4\n",
      "Number of principal components: 4\n",
      "Number of principal components: 4\n",
      "Number of principal components: 4\n",
      "Number of principal components: 4Number of principal components: 4\n",
      "Number of principal components: 4\n",
      "Number of principal components: 4\n",
      "Number of principal components: 4\n",
      "Number of principal components: 4\n",
      "\n",
      "Number of principal components: 4\n",
      "Number of principal components: 4\n",
      "Number of principal components: 4\n",
      "Number of principal components: 4\n",
      "Number of principal components: 4\n",
      "Number of principal components: 4\n",
      "Number of principal components: 4\n",
      "Number of principal components: 4\n",
      "Number of principal components: 4\n",
      "Number of principal components: 4\n",
      "Number of principal components: 4\n",
      "Number of principal components: 4\n",
      "Number of principal components: 4Number of principal components: 4\n",
      "\n",
      "Number of principal components: 4\n",
      "Number of principal components: 4\n",
      "Number of principal components: 4\n",
      "Number of principal components: 4\n",
      "Number of principal components: 4\n",
      "Number of principal components: 4\n",
      "Number of principal components: 4\n",
      "Number of principal components: 4\n",
      "Number of principal components: 4\n",
      "Number of principal components: 4Number of principal components: 4\n",
      "Number of principal components: 4\n",
      "\n",
      "Number of principal components: 4\n",
      "Number of principal components: 4\n",
      "Number of principal components: 4\n",
      "Number of principal components: 4\n",
      "Number of principal components: 4\n",
      "Number of principal components: 4\n",
      "Number of principal components: 4\n",
      "Number of principal components: 4\n",
      "Number of principal components: 4\n",
      "Number of principal components: 4\n",
      "Number of principal components: 4\n",
      "Number of principal components: 4\n",
      "Number of principal components: 4\n",
      "Number of principal components: 4\n",
      "Number of principal components: 4\n",
      "Number of principal components: 4\n",
      "Number of principal components: 4\n",
      "Number of principal components: 4\n",
      "Number of principal components: 4\n",
      "Number of principal components: 4\n",
      "Number of principal components: 4\n",
      "Number of principal components: 4\n",
      "Number of principal components: 4\n",
      "Number of principal components: 4\n",
      "Number of principal components: 4\n",
      "Number of principal components: 4\n",
      "Number of principal components: 4\n",
      "Number of principal components: 4\n",
      "Number of principal components: 4\n",
      "Number of principal components: 4\n",
      "Number of principal components: 4\n",
      "Number of principal components: 4\n",
      "Number of principal components: 4\n",
      "Number of principal components: 4\n",
      "Number of principal components: 4\n",
      "Number of principal components: 4\n",
      "Number of principal components: 4\n",
      "Number of principal components: 4\n",
      "Number of principal components: 4\n",
      "Number of principal components: 4\n",
      "Number of principal components: 4\n",
      "Number of principal components: 4\n",
      "Number of principal components: 4\n",
      "Number of principal components: 4\n",
      "Number of principal components: 4\n",
      "Number of principal components: 4\n",
      "Number of principal components: 4\n",
      "Number of principal components: 4\n",
      "Number of principal components: 4\n",
      "Number of principal components: 4\n",
      "Number of principal components: 4\n",
      "Number of principal components: 4\n",
      "Number of principal components: 4\n",
      "Number of principal components: 4\n",
      "Number of principal components: 4\n",
      "Number of principal components: 4\n",
      "Number of principal components: 4\n",
      "Number of principal components: 4\n",
      "Number of principal components: 4\n",
      "Number of principal components: 4\n",
      "Number of principal components: 4\n",
      "Number of principal components: 4\n",
      "Number of principal components: 4\n",
      "Number of principal components: 4Number of principal components: 4\n",
      "Number of principal components: 4\n",
      "\n",
      "Number of principal components: 4\n",
      "Number of principal components: 4\n",
      "Number of principal components: 4\n",
      "Number of principal components: 4\n",
      "Number of principal components: 4\n",
      "Number of principal components: 4\n",
      "Number of principal components: 4\n",
      "Number of principal components: 4\n",
      "Number of principal components: 4\n",
      "Number of principal components: 4\n",
      "Number of principal components: 4\n",
      "Number of principal components: 4\n",
      "Number of principal components: 4\n",
      "Number of principal components: 4\n",
      "Number of principal components: 4\n",
      "Number of principal components: 4\n",
      "Number of principal components: 4\n",
      "Number of principal components: 4\n",
      "Number of principal components: 4\n",
      "Number of principal components: 4\n",
      "Number of principal components: 4\n",
      "Number of principal components: 4\n",
      "Number of principal components: 4\n",
      "Number of principal components: 4\n",
      "Number of principal components: 4\n",
      "Number of principal components: 4Number of principal components: 4\n",
      "Number of principal components: 4\n",
      "Number of principal components: 4\n",
      "\n",
      "Number of principal components: 4\n",
      "Number of principal components: 4\n",
      "Number of principal components: 4\n",
      "Number of principal components: 4\n",
      "Number of principal components: 4\n",
      "Number of principal components: 4\n",
      "Number of principal components: 4\n",
      "Number of principal components: 4\n",
      "Number of principal components: 4\n",
      "Number of principal components: 4\n",
      "Number of principal components: 4\n",
      "Number of principal components: 4\n",
      "Number of principal components: 4\n",
      "Number of principal components: 4Number of principal components: 4\n",
      "\n",
      "Number of principal components: 4\n",
      "Number of principal components: 4\n",
      "Number of principal components: 4\n",
      "Number of principal components: 4\n",
      "Number of principal components: 4\n",
      "Number of principal components: 4\n",
      "Number of principal components: 4\n",
      "Number of principal components: 4\n",
      "Number of principal components: 4\n",
      "Number of principal components: 4\n",
      "Number of principal components: 4\n",
      "Number of principal components: 4\n",
      "Number of principal components: 4\n",
      "Number of principal components: 4\n",
      "Number of principal components: 4\n",
      "Number of principal components: 4\n",
      "Number of principal components: 4\n",
      "Number of principal components: 4\n",
      "Number of principal components: 4\n",
      "Number of principal components: 4\n",
      "Number of principal components: 4\n",
      "Number of principal components: 4\n",
      "Number of principal components: 4\n",
      "Number of principal components: 4\n",
      "Number of principal components: 4\n",
      "Number of principal components: 4\n",
      "Number of principal components: 4Number of principal components: 4\n",
      "\n",
      "Number of principal components: 4\n",
      "Number of principal components: 4\n",
      "Number of principal components: 4\n",
      "Number of principal components: 4\n",
      "Number of principal components: 4\n",
      "Number of principal components: 4\n",
      "Number of principal components: 4\n",
      "Number of principal components: 4\n",
      "Number of principal components: 4\n",
      "Number of principal components: 4Number of principal components: 4\n",
      "Number of principal components: 4\n",
      "\n",
      "Number of principal components: 4\n",
      "Number of principal components: 4\n",
      "Number of principal components: 4\n",
      "Number of principal components: 4\n",
      "Number of principal components: 4\n",
      "Number of principal components: 4\n",
      "Number of principal components: 4\n",
      "Number of principal components: 4\n",
      "Number of principal components: 4\n",
      "Number of principal components: 4\n",
      "Number of principal components: 4\n",
      "Number of principal components: 4\n",
      "Number of principal components: 4\n",
      "Number of principal components: 4\n",
      "Number of principal components: 4\n",
      "Number of principal components: 4\n",
      "Number of principal components: 4\n",
      "Number of principal components: 4\n",
      "Number of principal components: 4\n",
      "Number of principal components: 4\n",
      "Number of principal components: 4\n",
      "Number of principal components: 4\n",
      "Number of principal components: 4\n",
      "Number of principal components: 4\n",
      "Number of principal components: 4\n",
      "Number of principal components: 4\n",
      "Number of principal components: 4\n",
      "Number of principal components: 4\n",
      "Number of principal components: 4\n",
      "Number of principal components: 4\n",
      "Number of principal components: 4\n",
      "Number of principal components: 4\n",
      "Number of principal components: 4\n",
      "Number of principal components: 4\n",
      "Number of principal components: 4\n",
      "Number of principal components: 4Number of principal components: 4\n",
      "\n",
      "Number of principal components: 4\n",
      "Number of principal components: 4\n",
      "Number of principal components: 4\n",
      "Number of principal components: 4\n",
      "Number of principal components: 4\n",
      "Number of principal components: 4\n",
      "Number of principal components: 4\n",
      "Number of principal components: 4\n",
      "Number of principal components: 4\n",
      "Number of principal components: 4\n",
      "Number of principal components: 4\n",
      "Number of principal components: 4\n",
      "Number of principal components: 4\n",
      "Number of principal components: 4\n",
      "Number of principal components: 4\n",
      "Number of principal components: 4\n",
      "Number of principal components: 4\n",
      "Number of principal components: 4\n",
      "Number of principal components: 4\n",
      "Number of principal components: 4\n",
      "Number of principal components: 4\n",
      "Number of principal components: 4\n",
      "Number of principal components: 4\n",
      "Number of principal components: 4\n",
      "Number of principal components: 4\n",
      "Number of principal components: 4\n",
      "Number of principal components: 4\n",
      "Number of principal components: 4\n",
      "Number of principal components: 4\n",
      "Number of principal components: 4\n",
      "Number of principal components: 4\n",
      "Number of principal components: 4\n",
      "Number of principal components: 4\n",
      "Number of principal components: 4\n",
      "Number of principal components: 4\n",
      "Number of principal components: 4\n",
      "Number of principal components: 4\n"
     ]
    }
   ],
   "source": [
    "from concurrent.futures import ThreadPoolExecutor\n",
    "\n",
    "P_final = pd.DataFrame()\n",
    "\n",
    "def process_ts(ts):\n",
    "    try:\n",
    "        P_df = apply_pca_to_time(ts, df_f)\n",
    "        return pd.DataFrame({\n",
    "            'Col': ts,\n",
    "            'PC1': P_df['PC1'],\n",
    "            'FC_f': P_df['FC_f'],\n",
    "            'Measurement': P_df['Measurement']\n",
    "        })\n",
    "    except Exception as e:\n",
    "        print(f'Error processing {ts}: {e}')\n",
    "        return None\n",
    "\n",
    "with ThreadPoolExecutor() as executer:\n",
    "    results = list(executer.map(process_ts, valid_ts))\n",
    "\n",
    "P_final = pd.concat([df for df in results if df is not None], ignore_index=True)"
   ]
  },
  {
   "cell_type": "code",
   "execution_count": null,
   "metadata": {},
   "outputs": [],
   "source": [
    "P_final.to_csv('P_final2.csv')"
   ]
  },
  {
   "cell_type": "code",
   "execution_count": 9,
   "metadata": {},
   "outputs": [
    {
     "data": {
      "text/html": [
       "<div>\n",
       "<style scoped>\n",
       "    .dataframe tbody tr th:only-of-type {\n",
       "        vertical-align: middle;\n",
       "    }\n",
       "\n",
       "    .dataframe tbody tr th {\n",
       "        vertical-align: top;\n",
       "    }\n",
       "\n",
       "    .dataframe thead th {\n",
       "        text-align: right;\n",
       "    }\n",
       "</style>\n",
       "<table border=\"1\" class=\"dataframe\">\n",
       "  <thead>\n",
       "    <tr style=\"text-align: right;\">\n",
       "      <th></th>\n",
       "      <th>Col</th>\n",
       "      <th>PC1</th>\n",
       "      <th>FC_f</th>\n",
       "      <th>Measurement</th>\n",
       "    </tr>\n",
       "  </thead>\n",
       "  <tbody>\n",
       "    <tr>\n",
       "      <th>0</th>\n",
       "      <td>2024-02-21 16:07:30</td>\n",
       "      <td>-3.482667</td>\n",
       "      <td>cpu_system</td>\n",
       "      <td>novadaq-far-farm-50</td>\n",
       "    </tr>\n",
       "    <tr>\n",
       "      <th>1</th>\n",
       "      <td>2024-02-21 16:07:30</td>\n",
       "      <td>-2.199933</td>\n",
       "      <td>cpu_system</td>\n",
       "      <td>novadaq-far-farm-27</td>\n",
       "    </tr>\n",
       "    <tr>\n",
       "      <th>2</th>\n",
       "      <td>2024-02-21 16:07:30</td>\n",
       "      <td>-0.126631</td>\n",
       "      <td>cpu_system</td>\n",
       "      <td>novadaq-far-farm-58</td>\n",
       "    </tr>\n",
       "    <tr>\n",
       "      <th>3</th>\n",
       "      <td>2024-02-21 16:07:30</td>\n",
       "      <td>0.127282</td>\n",
       "      <td>cpu_system</td>\n",
       "      <td>novadaq-far-farm-87</td>\n",
       "    </tr>\n",
       "    <tr>\n",
       "      <th>4</th>\n",
       "      <td>2024-02-21 16:07:30</td>\n",
       "      <td>-1.459689</td>\n",
       "      <td>cpu_system</td>\n",
       "      <td>novadaq-far-farm-153</td>\n",
       "    </tr>\n",
       "    <tr>\n",
       "      <th>...</th>\n",
       "      <td>...</td>\n",
       "      <td>...</td>\n",
       "      <td>...</td>\n",
       "      <td>...</td>\n",
       "    </tr>\n",
       "    <tr>\n",
       "      <th>368545</th>\n",
       "      <td>2024-02-21 23:59:45</td>\n",
       "      <td>-0.440991</td>\n",
       "      <td>disk_free</td>\n",
       "      <td>novadaq-far-farm-167</td>\n",
       "    </tr>\n",
       "    <tr>\n",
       "      <th>368546</th>\n",
       "      <td>2024-02-21 23:59:45</td>\n",
       "      <td>-1.274154</td>\n",
       "      <td>disk_free</td>\n",
       "      <td>novadaq-far-farm-30</td>\n",
       "    </tr>\n",
       "    <tr>\n",
       "      <th>368547</th>\n",
       "      <td>2024-02-21 23:59:45</td>\n",
       "      <td>-0.985929</td>\n",
       "      <td>disk_free</td>\n",
       "      <td>novadaq-far-farm-19</td>\n",
       "    </tr>\n",
       "    <tr>\n",
       "      <th>368548</th>\n",
       "      <td>2024-02-21 23:59:45</td>\n",
       "      <td>-0.099201</td>\n",
       "      <td>disk_free</td>\n",
       "      <td>novadaq-far-farm-191</td>\n",
       "    </tr>\n",
       "    <tr>\n",
       "      <th>368549</th>\n",
       "      <td>2024-02-21 23:59:45</td>\n",
       "      <td>0.713187</td>\n",
       "      <td>disk_free</td>\n",
       "      <td>novadaq-far-farm-84</td>\n",
       "    </tr>\n",
       "  </tbody>\n",
       "</table>\n",
       "<p>368550 rows × 4 columns</p>\n",
       "</div>"
      ],
      "text/plain": [
       "                        Col       PC1        FC_f           Measurement\n",
       "0       2024-02-21 16:07:30 -3.482667  cpu_system   novadaq-far-farm-50\n",
       "1       2024-02-21 16:07:30 -2.199933  cpu_system   novadaq-far-farm-27\n",
       "2       2024-02-21 16:07:30 -0.126631  cpu_system   novadaq-far-farm-58\n",
       "3       2024-02-21 16:07:30  0.127282  cpu_system   novadaq-far-farm-87\n",
       "4       2024-02-21 16:07:30 -1.459689  cpu_system  novadaq-far-farm-153\n",
       "...                     ...       ...         ...                   ...\n",
       "368545  2024-02-21 23:59:45 -0.440991   disk_free  novadaq-far-farm-167\n",
       "368546  2024-02-21 23:59:45 -1.274154   disk_free   novadaq-far-farm-30\n",
       "368547  2024-02-21 23:59:45 -0.985929   disk_free   novadaq-far-farm-19\n",
       "368548  2024-02-21 23:59:45 -0.099201   disk_free  novadaq-far-farm-191\n",
       "368549  2024-02-21 23:59:45  0.713187   disk_free   novadaq-far-farm-84\n",
       "\n",
       "[368550 rows x 4 columns]"
      ]
     },
     "execution_count": 9,
     "metadata": {},
     "output_type": "execute_result"
    }
   ],
   "source": [
    "P_final"
   ]
  },
  {
   "cell_type": "markdown",
   "metadata": {},
   "source": [
    "Second step DR: UMAP"
   ]
  },
  {
   "cell_type": "code",
   "execution_count": 10,
   "metadata": {},
   "outputs": [
    {
     "name": "stderr",
     "output_type": "stream",
     "text": [
      "/Users/allison/anaconda3/envs/myenv/lib/python3.9/site-packages/tqdm/auto.py:21: TqdmWarning: IProgress not found. Please update jupyter and ipywidgets. See https://ipywidgets.readthedocs.io/en/stable/user_install.html\n",
      "  from .autonotebook import tqdm as notebook_tqdm\n",
      "/Users/allison/anaconda3/envs/myenv/lib/python3.9/site-packages/umap/umap_.py:1943: UserWarning: n_jobs value -1 overridden to 1 by setting random_state. Use no seed for parallelism.\n",
      "  warn(f\"n_jobs value {self.n_jobs} overridden to 1 by setting random_state. Use no seed for parallelism.\")\n"
     ]
    },
    {
     "data": {
      "application/vnd.plotly.v1+json": {
       "config": {
        "plotlyServerURL": "https://plot.ly"
       },
       "data": [
        {
         "customdata": [
          [
           "novadaq-far-farm-06"
          ],
          [
           "novadaq-far-farm-07"
          ],
          [
           "novadaq-far-farm-08"
          ],
          [
           "novadaq-far-farm-09"
          ],
          [
           "novadaq-far-farm-10"
          ],
          [
           "novadaq-far-farm-100"
          ],
          [
           "novadaq-far-farm-101"
          ],
          [
           "novadaq-far-farm-102"
          ],
          [
           "novadaq-far-farm-103"
          ],
          [
           "novadaq-far-farm-104"
          ],
          [
           "novadaq-far-farm-105"
          ],
          [
           "novadaq-far-farm-106"
          ],
          [
           "novadaq-far-farm-107"
          ],
          [
           "novadaq-far-farm-108"
          ],
          [
           "novadaq-far-farm-109"
          ],
          [
           "novadaq-far-farm-11"
          ],
          [
           "novadaq-far-farm-110"
          ],
          [
           "novadaq-far-farm-111"
          ],
          [
           "novadaq-far-farm-112"
          ],
          [
           "novadaq-far-farm-113"
          ],
          [
           "novadaq-far-farm-114"
          ],
          [
           "novadaq-far-farm-115"
          ],
          [
           "novadaq-far-farm-116"
          ],
          [
           "novadaq-far-farm-117"
          ],
          [
           "novadaq-far-farm-118"
          ],
          [
           "novadaq-far-farm-119"
          ],
          [
           "novadaq-far-farm-12"
          ],
          [
           "novadaq-far-farm-120"
          ],
          [
           "novadaq-far-farm-121"
          ],
          [
           "novadaq-far-farm-122"
          ],
          [
           "novadaq-far-farm-123"
          ],
          [
           "novadaq-far-farm-124"
          ],
          [
           "novadaq-far-farm-125"
          ],
          [
           "novadaq-far-farm-126"
          ],
          [
           "novadaq-far-farm-127"
          ],
          [
           "novadaq-far-farm-128"
          ],
          [
           "novadaq-far-farm-129"
          ],
          [
           "novadaq-far-farm-13"
          ],
          [
           "novadaq-far-farm-130"
          ],
          [
           "novadaq-far-farm-131"
          ],
          [
           "novadaq-far-farm-132"
          ],
          [
           "novadaq-far-farm-133"
          ],
          [
           "novadaq-far-farm-134"
          ],
          [
           "novadaq-far-farm-135"
          ],
          [
           "novadaq-far-farm-136"
          ],
          [
           "novadaq-far-farm-137"
          ],
          [
           "novadaq-far-farm-138"
          ],
          [
           "novadaq-far-farm-139"
          ],
          [
           "novadaq-far-farm-14"
          ],
          [
           "novadaq-far-farm-140"
          ],
          [
           "novadaq-far-farm-141"
          ],
          [
           "novadaq-far-farm-142"
          ],
          [
           "novadaq-far-farm-143"
          ],
          [
           "novadaq-far-farm-144"
          ],
          [
           "novadaq-far-farm-145"
          ],
          [
           "novadaq-far-farm-146"
          ],
          [
           "novadaq-far-farm-147"
          ],
          [
           "novadaq-far-farm-148"
          ],
          [
           "novadaq-far-farm-149"
          ],
          [
           "novadaq-far-farm-15"
          ],
          [
           "novadaq-far-farm-150"
          ],
          [
           "novadaq-far-farm-151"
          ],
          [
           "novadaq-far-farm-152"
          ],
          [
           "novadaq-far-farm-153"
          ],
          [
           "novadaq-far-farm-154"
          ],
          [
           "novadaq-far-farm-155"
          ],
          [
           "novadaq-far-farm-156"
          ],
          [
           "novadaq-far-farm-157"
          ],
          [
           "novadaq-far-farm-158"
          ],
          [
           "novadaq-far-farm-159"
          ],
          [
           "novadaq-far-farm-16"
          ],
          [
           "novadaq-far-farm-160"
          ],
          [
           "novadaq-far-farm-161"
          ],
          [
           "novadaq-far-farm-162"
          ],
          [
           "novadaq-far-farm-163"
          ],
          [
           "novadaq-far-farm-164"
          ],
          [
           "novadaq-far-farm-165"
          ],
          [
           "novadaq-far-farm-166"
          ],
          [
           "novadaq-far-farm-167"
          ],
          [
           "novadaq-far-farm-168"
          ],
          [
           "novadaq-far-farm-169"
          ],
          [
           "novadaq-far-farm-17"
          ],
          [
           "novadaq-far-farm-170"
          ],
          [
           "novadaq-far-farm-171"
          ],
          [
           "novadaq-far-farm-172"
          ],
          [
           "novadaq-far-farm-173"
          ],
          [
           "novadaq-far-farm-174"
          ],
          [
           "novadaq-far-farm-175"
          ],
          [
           "novadaq-far-farm-176"
          ],
          [
           "novadaq-far-farm-177"
          ],
          [
           "novadaq-far-farm-178"
          ],
          [
           "novadaq-far-farm-179"
          ],
          [
           "novadaq-far-farm-18"
          ],
          [
           "novadaq-far-farm-180"
          ],
          [
           "novadaq-far-farm-181"
          ],
          [
           "novadaq-far-farm-182"
          ],
          [
           "novadaq-far-farm-183"
          ],
          [
           "novadaq-far-farm-184"
          ],
          [
           "novadaq-far-farm-185"
          ],
          [
           "novadaq-far-farm-186"
          ],
          [
           "novadaq-far-farm-187"
          ],
          [
           "novadaq-far-farm-188"
          ],
          [
           "novadaq-far-farm-189"
          ],
          [
           "novadaq-far-farm-19"
          ],
          [
           "novadaq-far-farm-190"
          ],
          [
           "novadaq-far-farm-191"
          ],
          [
           "novadaq-far-farm-192"
          ],
          [
           "novadaq-far-farm-193"
          ],
          [
           "novadaq-far-farm-194"
          ],
          [
           "novadaq-far-farm-195"
          ],
          [
           "novadaq-far-farm-196"
          ],
          [
           "novadaq-far-farm-197"
          ],
          [
           "novadaq-far-farm-198"
          ],
          [
           "novadaq-far-farm-199"
          ],
          [
           "novadaq-far-farm-20"
          ],
          [
           "novadaq-far-farm-200"
          ],
          [
           "novadaq-far-farm-21"
          ],
          [
           "novadaq-far-farm-22"
          ],
          [
           "novadaq-far-farm-23"
          ],
          [
           "novadaq-far-farm-24"
          ],
          [
           "novadaq-far-farm-25"
          ],
          [
           "novadaq-far-farm-26"
          ],
          [
           "novadaq-far-farm-27"
          ],
          [
           "novadaq-far-farm-28"
          ],
          [
           "novadaq-far-farm-29"
          ],
          [
           "novadaq-far-farm-30"
          ],
          [
           "novadaq-far-farm-31"
          ],
          [
           "novadaq-far-farm-32"
          ],
          [
           "novadaq-far-farm-33"
          ],
          [
           "novadaq-far-farm-34"
          ],
          [
           "novadaq-far-farm-35"
          ],
          [
           "novadaq-far-farm-36"
          ],
          [
           "novadaq-far-farm-37"
          ],
          [
           "novadaq-far-farm-38"
          ],
          [
           "novadaq-far-farm-39"
          ],
          [
           "novadaq-far-farm-40"
          ],
          [
           "novadaq-far-farm-41"
          ],
          [
           "novadaq-far-farm-42"
          ],
          [
           "novadaq-far-farm-43"
          ],
          [
           "novadaq-far-farm-44"
          ],
          [
           "novadaq-far-farm-45"
          ],
          [
           "novadaq-far-farm-46"
          ],
          [
           "novadaq-far-farm-47"
          ],
          [
           "novadaq-far-farm-48"
          ],
          [
           "novadaq-far-farm-49"
          ],
          [
           "novadaq-far-farm-50"
          ],
          [
           "novadaq-far-farm-51"
          ],
          [
           "novadaq-far-farm-52"
          ],
          [
           "novadaq-far-farm-53"
          ],
          [
           "novadaq-far-farm-54"
          ],
          [
           "novadaq-far-farm-55"
          ],
          [
           "novadaq-far-farm-56"
          ],
          [
           "novadaq-far-farm-57"
          ],
          [
           "novadaq-far-farm-58"
          ],
          [
           "novadaq-far-farm-59"
          ],
          [
           "novadaq-far-farm-60"
          ],
          [
           "novadaq-far-farm-61"
          ],
          [
           "novadaq-far-farm-62"
          ],
          [
           "novadaq-far-farm-63"
          ],
          [
           "novadaq-far-farm-64"
          ],
          [
           "novadaq-far-farm-65"
          ],
          [
           "novadaq-far-farm-66"
          ],
          [
           "novadaq-far-farm-67"
          ],
          [
           "novadaq-far-farm-68"
          ],
          [
           "novadaq-far-farm-69"
          ],
          [
           "novadaq-far-farm-70"
          ],
          [
           "novadaq-far-farm-71"
          ],
          [
           "novadaq-far-farm-72"
          ],
          [
           "novadaq-far-farm-73"
          ],
          [
           "novadaq-far-farm-74"
          ],
          [
           "novadaq-far-farm-75"
          ],
          [
           "novadaq-far-farm-76"
          ],
          [
           "novadaq-far-farm-77"
          ],
          [
           "novadaq-far-farm-78"
          ],
          [
           "novadaq-far-farm-79"
          ],
          [
           "novadaq-far-farm-80"
          ],
          [
           "novadaq-far-farm-81"
          ],
          [
           "novadaq-far-farm-82"
          ],
          [
           "novadaq-far-farm-83"
          ],
          [
           "novadaq-far-farm-84"
          ],
          [
           "novadaq-far-farm-85"
          ],
          [
           "novadaq-far-farm-86"
          ],
          [
           "novadaq-far-farm-87"
          ],
          [
           "novadaq-far-farm-88"
          ],
          [
           "novadaq-far-farm-89"
          ],
          [
           "novadaq-far-farm-90"
          ],
          [
           "novadaq-far-farm-91"
          ],
          [
           "novadaq-far-farm-92"
          ],
          [
           "novadaq-far-farm-93"
          ],
          [
           "novadaq-far-farm-94"
          ],
          [
           "novadaq-far-farm-95"
          ],
          [
           "novadaq-far-farm-96"
          ],
          [
           "novadaq-far-farm-97"
          ],
          [
           "novadaq-far-farm-98"
          ],
          [
           "novadaq-far-farm-99"
          ]
         ],
         "hovertemplate": "UMAP1=%{x}<br>UMAP2=%{y}<br>nodeId=%{customdata[0]}<extra></extra>",
         "legendgroup": "",
         "marker": {
          "color": "#636efa",
          "symbol": "circle"
         },
         "mode": "markers",
         "name": "",
         "orientation": "v",
         "showlegend": false,
         "type": "scatter",
         "x": [
          20.74175453186035,
          20.688745498657227,
          20.729936599731445,
          20.758827209472656,
          20.659082412719727,
          -3.5815012454986572,
          -5.0783796310424805,
          -4.349907875061035,
          -4.6027116775512695,
          -2.960212230682373,
          6.802983283996582,
          7.056199073791504,
          7.022646903991699,
          7.066850185394287,
          7.0208964347839355,
          -12.049805641174316,
          6.963722229003906,
          6.345066070556641,
          6.4663920402526855,
          -5.191694259643555,
          -4.106205463409424,
          -11.876542091369629,
          -5.176320552825928,
          -3.4446940422058105,
          -5.4039998054504395,
          -5.116490840911865,
          21.06627082824707,
          -3.449493885040283,
          -3.7465672492980957,
          -4.857766628265381,
          -4.962181091308594,
          -5.40672492980957,
          2.020982027053833,
          1.88344407081604,
          2.404974937438965,
          2.219688892364502,
          2.6331355571746826,
          -12.637852668762207,
          17.209800720214844,
          17.146055221557617,
          1.7649283409118652,
          17.110454559326172,
          2.495619297027588,
          2.279494047164917,
          2.115447521209717,
          -5.48274040222168,
          1.6516108512878418,
          1.8972214460372925,
          -12.52229118347168,
          1.8979573249816895,
          -11.48747730255127,
          17.189607620239258,
          2.6200973987579346,
          2.2817611694335938,
          1.2218959331512451,
          2.3546407222747803,
          2.0370609760284424,
          2.2601587772369385,
          -12.405416488647461,
          -11.909423828125,
          21.127580642700195,
          1.9660495519638062,
          2.5283474922180176,
          2.620030641555786,
          2.1180531978607178,
          2.177561044692993,
          1.7601087093353271,
          2.541956663131714,
          2.423755645751953,
          2.1821300983428955,
          21.237905502319336,
          1.585508108139038,
          1.855525016784668,
          2.56676983833313,
          2.1727077960968018,
          21.003141403198242,
          6.513794422149658,
          2.519615888595581,
          2.34090256690979,
          1.9279849529266357,
          2.0363669395446777,
          -12.596490859985352,
          21.179128646850586,
          2.2101967334747314,
          1.790313959121704,
          2.5006208419799805,
          2.2237966060638428,
          2.570993423461914,
          2.0440492630004883,
          2.544865846633911,
          2.362884044647217,
          1.9835938215255737,
          -12.765460014343262,
          21.177213668823242,
          21.173553466796875,
          2.5802204608917236,
          1.4292192459106445,
          21.029651641845703,
          1.7909817695617676,
          2.357877731323242,
          2.0131802558898926,
          2.1120872497558594,
          20.96980857849121,
          -12.307843208312988,
          1.3082599639892578,
          1.7933833599090576,
          2.120896100997925,
          1.322569489479065,
          1.6595972776412964,
          1.4303292036056519,
          1.3938690423965454,
          -5.1747002601623535,
          -4.953723907470703,
          -4.593103408813477,
          21.326074600219727,
          -5.016213893890381,
          -4.507847785949707,
          -11.769603729248047,
          -12.376928329467773,
          -12.08769702911377,
          -12.248406410217285,
          -12.105705261230469,
          -11.485382080078125,
          21.269147872924805,
          -12.36772632598877,
          -11.4342679977417,
          -12.505136489868164,
          -12.344944953918457,
          -12.321858406066895,
          1.4281443357467651,
          21.113332748413086,
          -11.351716995239258,
          -11.59140396118164,
          -12.256768226623535,
          -11.424515724182129,
          -12.185429573059082,
          -11.478829383850098,
          -11.801335334777832,
          -12.295902252197266,
          -11.34996509552002,
          -12.52250862121582,
          -11.786863327026367,
          -11.981348037719727,
          -11.55138111114502,
          -11.876418113708496,
          -12.227409362792969,
          1.217216968536377,
          -11.365683555603027,
          -5.529296398162842,
          -4.818432331085205,
          -5.258759498596191,
          -12.212061882019043,
          -3.533055543899536,
          -3.3865036964416504,
          20.954805374145508,
          -4.853158950805664,
          17.21259880065918,
          -4.925806999206543,
          -5.498386383056641,
          -3.3623039722442627,
          6.241960048675537,
          6.339016437530518,
          6.3509039878845215,
          6.2511396408081055,
          6.702566146850586,
          6.287683486938477,
          7.018054962158203,
          6.719180107116699,
          -3.5429553985595703,
          -5.044072151184082,
          -4.965915203094482,
          -3.8863930702209473,
          -3.4388575553894043,
          17.102869033813477,
          -3.2361955642700195,
          -4.5536394119262695,
          -4.707549571990967,
          -4.085418701171875,
          -5.290452003479004,
          -3.274639129638672,
          -3.317409038543701,
          -4.71287727355957,
          -3.406877040863037,
          -3.4896175861358643,
          -5.475752830505371,
          -4.280409812927246,
          -3.4442801475524902,
          17.207490921020508,
          6.715239524841309,
          6.646592140197754,
          6.587812900543213,
          6.459600925445557,
          -4.042352199554443,
          -3.691840410232544,
          -3.5173540115356445
         ],
         "xaxis": "x",
         "y": [
          4.413296222686768,
          4.36025333404541,
          4.4019927978515625,
          4.433073043823242,
          4.37662935256958,
          2.4119813442230225,
          2.4503302574157715,
          1.353523850440979,
          1.4900671243667603,
          2.652547836303711,
          -14.97227954864502,
          -14.700886726379395,
          -14.719382286071777,
          -14.879402160644531,
          -14.83897876739502,
          1.6320834159851074,
          -14.639432907104492,
          -15.087934494018555,
          -14.880035400390625,
          2.405128002166748,
          2.4929637908935547,
          0.9212833046913147,
          1.6287481784820557,
          1.7467975616455078,
          2.010995626449585,
          1.9283188581466675,
          6.116585731506348,
          2.1779165267944336,
          1.4765911102294922,
          1.5970686674118042,
          2.051839828491211,
          2.2676119804382324,
          16.14223289489746,
          15.189722061157227,
          14.462533950805664,
          15.002886772155762,
          16.49979019165039,
          2.1639389991760254,
          12.839300155639648,
          12.903009414672852,
          15.41314697265625,
          12.938640594482422,
          16.08209991455078,
          13.859065055847168,
          15.781513214111328,
          2.0084354877471924,
          14.98276138305664,
          14.328581809997559,
          1.9812489748001099,
          14.115078926086426,
          1.6789246797561646,
          12.859505653381348,
          16.203441619873047,
          16.483440399169922,
          15.190707206726074,
          14.709561347961426,
          16.213542938232422,
          13.927816390991211,
          2.1960792541503906,
          1.6049766540527344,
          5.930707931518555,
          16.05770492553711,
          16.322463989257812,
          17.05601692199707,
          16.30424690246582,
          16.732126235961914,
          14.504886627197266,
          16.994890213012695,
          14.804366111755371,
          14.0985107421875,
          6.0412678718566895,
          14.380051612854004,
          15.751462936401367,
          16.85444450378418,
          14.768170356750488,
          5.862349510192871,
          -15.390458106994629,
          16.9521427154541,
          14.512958526611328,
          14.07203197479248,
          16.90595817565918,
          2.0604817867279053,
          5.879084587097168,
          13.809459686279297,
          15.561068534851074,
          17.02217674255371,
          14.497803688049316,
          16.276607513427734,
          16.418413162231445,
          14.356673240661621,
          14.2095365524292,
          16.117712020874023,
          2.2456226348876953,
          5.971008777618408,
          5.82050895690918,
          17.120410919189453,
          14.489142417907715,
          5.813461780548096,
          16.514209747314453,
          14.257501602172852,
          14.70148754119873,
          16.618873596191406,
          5.91853141784668,
          1.4092366695404053,
          15.23282527923584,
          14.694981575012207,
          14.15467357635498,
          14.773773193359375,
          15.533950805664062,
          14.476317405700684,
          14.861763954162598,
          2.3402414321899414,
          1.809462070465088,
          2.0292775630950928,
          5.723221778869629,
          2.328720808029175,
          2.142580270767212,
          1.5012774467468262,
          2.525423765182495,
          1.1888319253921509,
          2.6819045543670654,
          1.8690475225448608,
          1.5585079193115234,
          5.903853416442871,
          2.2146058082580566,
          1.3106276988983154,
          1.8911488056182861,
          2.670707941055298,
          2.693856716156006,
          15.577872276306152,
          5.91636323928833,
          1.3919003009796143,
          1.36467707157135,
          1.9643926620483398,
          1.4978933334350586,
          2.234816074371338,
          1.8763071298599243,
          0.9966018795967102,
          1.8275235891342163,
          1.4587550163269043,
          2.046447277069092,
          0.9480388164520264,
          2.1060688495635986,
          1.770893931388855,
          1.9332367181777954,
          1.3482798337936401,
          15.383980751037598,
          1.6696271896362305,
          1.653777003288269,
          1.9923665523529053,
          1.5600017309188843,
          2.575643301010132,
          1.7438044548034668,
          2.062896490097046,
          6.0886125564575195,
          1.793477177619934,
          12.83652114868164,
          1.4188997745513916,
          1.826956033706665,
          2.5809288024902344,
          -15.227909088134766,
          -15.140542984008789,
          -15.266971588134766,
          -15.146611213684082,
          -15.164726257324219,
          -15.025546073913574,
          -14.805508613586426,
          -15.025303840637207,
          1.688517451286316,
          2.369135856628418,
          1.7413147687911987,
          1.4448301792144775,
          2.4520161151885986,
          12.94626522064209,
          1.90861177444458,
          1.836380124092102,
          2.40323543548584,
          2.4647369384765625,
          2.0038723945617676,
          2.4970200061798096,
          1.8981540203094482,
          2.3548309803009033,
          2.4961929321289062,
          2.6143388748168945,
          2.0424869060516357,
          1.5385831594467163,
          2.64536714553833,
          12.84168529510498,
          -14.99706745147705,
          -14.892056465148926,
          -14.80846118927002,
          -14.86207103729248,
          1.7220501899719238,
          2.550808906555176,
          2.382611036300659
         ],
         "yaxis": "y"
        }
       ],
       "layout": {
        "legend": {
         "tracegroupgap": 0
        },
        "margin": {
         "t": 60
        },
        "template": {
         "data": {
          "bar": [
           {
            "error_x": {
             "color": "#2a3f5f"
            },
            "error_y": {
             "color": "#2a3f5f"
            },
            "marker": {
             "line": {
              "color": "#E5ECF6",
              "width": 0.5
             },
             "pattern": {
              "fillmode": "overlay",
              "size": 10,
              "solidity": 0.2
             }
            },
            "type": "bar"
           }
          ],
          "barpolar": [
           {
            "marker": {
             "line": {
              "color": "#E5ECF6",
              "width": 0.5
             },
             "pattern": {
              "fillmode": "overlay",
              "size": 10,
              "solidity": 0.2
             }
            },
            "type": "barpolar"
           }
          ],
          "carpet": [
           {
            "aaxis": {
             "endlinecolor": "#2a3f5f",
             "gridcolor": "white",
             "linecolor": "white",
             "minorgridcolor": "white",
             "startlinecolor": "#2a3f5f"
            },
            "baxis": {
             "endlinecolor": "#2a3f5f",
             "gridcolor": "white",
             "linecolor": "white",
             "minorgridcolor": "white",
             "startlinecolor": "#2a3f5f"
            },
            "type": "carpet"
           }
          ],
          "choropleth": [
           {
            "colorbar": {
             "outlinewidth": 0,
             "ticks": ""
            },
            "type": "choropleth"
           }
          ],
          "contour": [
           {
            "colorbar": {
             "outlinewidth": 0,
             "ticks": ""
            },
            "colorscale": [
             [
              0,
              "#0d0887"
             ],
             [
              0.1111111111111111,
              "#46039f"
             ],
             [
              0.2222222222222222,
              "#7201a8"
             ],
             [
              0.3333333333333333,
              "#9c179e"
             ],
             [
              0.4444444444444444,
              "#bd3786"
             ],
             [
              0.5555555555555556,
              "#d8576b"
             ],
             [
              0.6666666666666666,
              "#ed7953"
             ],
             [
              0.7777777777777778,
              "#fb9f3a"
             ],
             [
              0.8888888888888888,
              "#fdca26"
             ],
             [
              1,
              "#f0f921"
             ]
            ],
            "type": "contour"
           }
          ],
          "contourcarpet": [
           {
            "colorbar": {
             "outlinewidth": 0,
             "ticks": ""
            },
            "type": "contourcarpet"
           }
          ],
          "heatmap": [
           {
            "colorbar": {
             "outlinewidth": 0,
             "ticks": ""
            },
            "colorscale": [
             [
              0,
              "#0d0887"
             ],
             [
              0.1111111111111111,
              "#46039f"
             ],
             [
              0.2222222222222222,
              "#7201a8"
             ],
             [
              0.3333333333333333,
              "#9c179e"
             ],
             [
              0.4444444444444444,
              "#bd3786"
             ],
             [
              0.5555555555555556,
              "#d8576b"
             ],
             [
              0.6666666666666666,
              "#ed7953"
             ],
             [
              0.7777777777777778,
              "#fb9f3a"
             ],
             [
              0.8888888888888888,
              "#fdca26"
             ],
             [
              1,
              "#f0f921"
             ]
            ],
            "type": "heatmap"
           }
          ],
          "heatmapgl": [
           {
            "colorbar": {
             "outlinewidth": 0,
             "ticks": ""
            },
            "colorscale": [
             [
              0,
              "#0d0887"
             ],
             [
              0.1111111111111111,
              "#46039f"
             ],
             [
              0.2222222222222222,
              "#7201a8"
             ],
             [
              0.3333333333333333,
              "#9c179e"
             ],
             [
              0.4444444444444444,
              "#bd3786"
             ],
             [
              0.5555555555555556,
              "#d8576b"
             ],
             [
              0.6666666666666666,
              "#ed7953"
             ],
             [
              0.7777777777777778,
              "#fb9f3a"
             ],
             [
              0.8888888888888888,
              "#fdca26"
             ],
             [
              1,
              "#f0f921"
             ]
            ],
            "type": "heatmapgl"
           }
          ],
          "histogram": [
           {
            "marker": {
             "pattern": {
              "fillmode": "overlay",
              "size": 10,
              "solidity": 0.2
             }
            },
            "type": "histogram"
           }
          ],
          "histogram2d": [
           {
            "colorbar": {
             "outlinewidth": 0,
             "ticks": ""
            },
            "colorscale": [
             [
              0,
              "#0d0887"
             ],
             [
              0.1111111111111111,
              "#46039f"
             ],
             [
              0.2222222222222222,
              "#7201a8"
             ],
             [
              0.3333333333333333,
              "#9c179e"
             ],
             [
              0.4444444444444444,
              "#bd3786"
             ],
             [
              0.5555555555555556,
              "#d8576b"
             ],
             [
              0.6666666666666666,
              "#ed7953"
             ],
             [
              0.7777777777777778,
              "#fb9f3a"
             ],
             [
              0.8888888888888888,
              "#fdca26"
             ],
             [
              1,
              "#f0f921"
             ]
            ],
            "type": "histogram2d"
           }
          ],
          "histogram2dcontour": [
           {
            "colorbar": {
             "outlinewidth": 0,
             "ticks": ""
            },
            "colorscale": [
             [
              0,
              "#0d0887"
             ],
             [
              0.1111111111111111,
              "#46039f"
             ],
             [
              0.2222222222222222,
              "#7201a8"
             ],
             [
              0.3333333333333333,
              "#9c179e"
             ],
             [
              0.4444444444444444,
              "#bd3786"
             ],
             [
              0.5555555555555556,
              "#d8576b"
             ],
             [
              0.6666666666666666,
              "#ed7953"
             ],
             [
              0.7777777777777778,
              "#fb9f3a"
             ],
             [
              0.8888888888888888,
              "#fdca26"
             ],
             [
              1,
              "#f0f921"
             ]
            ],
            "type": "histogram2dcontour"
           }
          ],
          "mesh3d": [
           {
            "colorbar": {
             "outlinewidth": 0,
             "ticks": ""
            },
            "type": "mesh3d"
           }
          ],
          "parcoords": [
           {
            "line": {
             "colorbar": {
              "outlinewidth": 0,
              "ticks": ""
             }
            },
            "type": "parcoords"
           }
          ],
          "pie": [
           {
            "automargin": true,
            "type": "pie"
           }
          ],
          "scatter": [
           {
            "fillpattern": {
             "fillmode": "overlay",
             "size": 10,
             "solidity": 0.2
            },
            "type": "scatter"
           }
          ],
          "scatter3d": [
           {
            "line": {
             "colorbar": {
              "outlinewidth": 0,
              "ticks": ""
             }
            },
            "marker": {
             "colorbar": {
              "outlinewidth": 0,
              "ticks": ""
             }
            },
            "type": "scatter3d"
           }
          ],
          "scattercarpet": [
           {
            "marker": {
             "colorbar": {
              "outlinewidth": 0,
              "ticks": ""
             }
            },
            "type": "scattercarpet"
           }
          ],
          "scattergeo": [
           {
            "marker": {
             "colorbar": {
              "outlinewidth": 0,
              "ticks": ""
             }
            },
            "type": "scattergeo"
           }
          ],
          "scattergl": [
           {
            "marker": {
             "colorbar": {
              "outlinewidth": 0,
              "ticks": ""
             }
            },
            "type": "scattergl"
           }
          ],
          "scattermapbox": [
           {
            "marker": {
             "colorbar": {
              "outlinewidth": 0,
              "ticks": ""
             }
            },
            "type": "scattermapbox"
           }
          ],
          "scatterpolar": [
           {
            "marker": {
             "colorbar": {
              "outlinewidth": 0,
              "ticks": ""
             }
            },
            "type": "scatterpolar"
           }
          ],
          "scatterpolargl": [
           {
            "marker": {
             "colorbar": {
              "outlinewidth": 0,
              "ticks": ""
             }
            },
            "type": "scatterpolargl"
           }
          ],
          "scatterternary": [
           {
            "marker": {
             "colorbar": {
              "outlinewidth": 0,
              "ticks": ""
             }
            },
            "type": "scatterternary"
           }
          ],
          "surface": [
           {
            "colorbar": {
             "outlinewidth": 0,
             "ticks": ""
            },
            "colorscale": [
             [
              0,
              "#0d0887"
             ],
             [
              0.1111111111111111,
              "#46039f"
             ],
             [
              0.2222222222222222,
              "#7201a8"
             ],
             [
              0.3333333333333333,
              "#9c179e"
             ],
             [
              0.4444444444444444,
              "#bd3786"
             ],
             [
              0.5555555555555556,
              "#d8576b"
             ],
             [
              0.6666666666666666,
              "#ed7953"
             ],
             [
              0.7777777777777778,
              "#fb9f3a"
             ],
             [
              0.8888888888888888,
              "#fdca26"
             ],
             [
              1,
              "#f0f921"
             ]
            ],
            "type": "surface"
           }
          ],
          "table": [
           {
            "cells": {
             "fill": {
              "color": "#EBF0F8"
             },
             "line": {
              "color": "white"
             }
            },
            "header": {
             "fill": {
              "color": "#C8D4E3"
             },
             "line": {
              "color": "white"
             }
            },
            "type": "table"
           }
          ]
         },
         "layout": {
          "annotationdefaults": {
           "arrowcolor": "#2a3f5f",
           "arrowhead": 0,
           "arrowwidth": 1
          },
          "autotypenumbers": "strict",
          "coloraxis": {
           "colorbar": {
            "outlinewidth": 0,
            "ticks": ""
           }
          },
          "colorscale": {
           "diverging": [
            [
             0,
             "#8e0152"
            ],
            [
             0.1,
             "#c51b7d"
            ],
            [
             0.2,
             "#de77ae"
            ],
            [
             0.3,
             "#f1b6da"
            ],
            [
             0.4,
             "#fde0ef"
            ],
            [
             0.5,
             "#f7f7f7"
            ],
            [
             0.6,
             "#e6f5d0"
            ],
            [
             0.7,
             "#b8e186"
            ],
            [
             0.8,
             "#7fbc41"
            ],
            [
             0.9,
             "#4d9221"
            ],
            [
             1,
             "#276419"
            ]
           ],
           "sequential": [
            [
             0,
             "#0d0887"
            ],
            [
             0.1111111111111111,
             "#46039f"
            ],
            [
             0.2222222222222222,
             "#7201a8"
            ],
            [
             0.3333333333333333,
             "#9c179e"
            ],
            [
             0.4444444444444444,
             "#bd3786"
            ],
            [
             0.5555555555555556,
             "#d8576b"
            ],
            [
             0.6666666666666666,
             "#ed7953"
            ],
            [
             0.7777777777777778,
             "#fb9f3a"
            ],
            [
             0.8888888888888888,
             "#fdca26"
            ],
            [
             1,
             "#f0f921"
            ]
           ],
           "sequentialminus": [
            [
             0,
             "#0d0887"
            ],
            [
             0.1111111111111111,
             "#46039f"
            ],
            [
             0.2222222222222222,
             "#7201a8"
            ],
            [
             0.3333333333333333,
             "#9c179e"
            ],
            [
             0.4444444444444444,
             "#bd3786"
            ],
            [
             0.5555555555555556,
             "#d8576b"
            ],
            [
             0.6666666666666666,
             "#ed7953"
            ],
            [
             0.7777777777777778,
             "#fb9f3a"
            ],
            [
             0.8888888888888888,
             "#fdca26"
            ],
            [
             1,
             "#f0f921"
            ]
           ]
          },
          "colorway": [
           "#636efa",
           "#EF553B",
           "#00cc96",
           "#ab63fa",
           "#FFA15A",
           "#19d3f3",
           "#FF6692",
           "#B6E880",
           "#FF97FF",
           "#FECB52"
          ],
          "font": {
           "color": "#2a3f5f"
          },
          "geo": {
           "bgcolor": "white",
           "lakecolor": "white",
           "landcolor": "#E5ECF6",
           "showlakes": true,
           "showland": true,
           "subunitcolor": "white"
          },
          "hoverlabel": {
           "align": "left"
          },
          "hovermode": "closest",
          "mapbox": {
           "style": "light"
          },
          "paper_bgcolor": "white",
          "plot_bgcolor": "#E5ECF6",
          "polar": {
           "angularaxis": {
            "gridcolor": "white",
            "linecolor": "white",
            "ticks": ""
           },
           "bgcolor": "#E5ECF6",
           "radialaxis": {
            "gridcolor": "white",
            "linecolor": "white",
            "ticks": ""
           }
          },
          "scene": {
           "xaxis": {
            "backgroundcolor": "#E5ECF6",
            "gridcolor": "white",
            "gridwidth": 2,
            "linecolor": "white",
            "showbackground": true,
            "ticks": "",
            "zerolinecolor": "white"
           },
           "yaxis": {
            "backgroundcolor": "#E5ECF6",
            "gridcolor": "white",
            "gridwidth": 2,
            "linecolor": "white",
            "showbackground": true,
            "ticks": "",
            "zerolinecolor": "white"
           },
           "zaxis": {
            "backgroundcolor": "#E5ECF6",
            "gridcolor": "white",
            "gridwidth": 2,
            "linecolor": "white",
            "showbackground": true,
            "ticks": "",
            "zerolinecolor": "white"
           }
          },
          "shapedefaults": {
           "line": {
            "color": "#2a3f5f"
           }
          },
          "ternary": {
           "aaxis": {
            "gridcolor": "white",
            "linecolor": "white",
            "ticks": ""
           },
           "baxis": {
            "gridcolor": "white",
            "linecolor": "white",
            "ticks": ""
           },
           "bgcolor": "#E5ECF6",
           "caxis": {
            "gridcolor": "white",
            "linecolor": "white",
            "ticks": ""
           }
          },
          "title": {
           "x": 0.05
          },
          "xaxis": {
           "automargin": true,
           "gridcolor": "white",
           "linecolor": "white",
           "ticks": "",
           "title": {
            "standoff": 15
           },
           "zerolinecolor": "white",
           "zerolinewidth": 2
          },
          "yaxis": {
           "automargin": true,
           "gridcolor": "white",
           "linecolor": "white",
           "ticks": "",
           "title": {
            "standoff": 15
           },
           "zerolinecolor": "white",
           "zerolinewidth": 2
          }
         }
        },
        "title": {
         "text": "UMAP Projection"
        },
        "xaxis": {
         "anchor": "y",
         "domain": [
          0,
          1
         ],
         "title": {
          "text": "UMAP 1"
         }
        },
        "yaxis": {
         "anchor": "x",
         "domain": [
          0,
          1
         ],
         "title": {
          "text": "UMAP 2"
         }
        }
       }
      }
     },
     "metadata": {},
     "output_type": "display_data"
    }
   ],
   "source": [
    "from umap import UMAP\n",
    "import plotly.express as px\n",
    "\n",
    "# two-step DR: PCA+UMAP\n",
    "# applying UMAP to each node in variable domain to get nodes (Measurements) in 2D\n",
    "df_pivot = P_final.pivot(index=\"Measurement\", columns=\"Col\", values=\"PC1\")\n",
    "reducer = UMAP(n_components=2, random_state=42)\n",
    "embedding = reducer.fit_transform(df_pivot)\n",
    "df_pivot['UMAP1'] = embedding[:, 0]\n",
    "df_pivot['UMAP2'] = embedding[:, 1]\n",
    "df_pivot['nodeId'] = df_pivot.index \n",
    "fig = px.scatter(df_pivot, x='UMAP1', y='UMAP2', hover_data={'nodeId': True})\n",
    "\n",
    "fig.update_layout(title=\"UMAP Projection\",\n",
    "                  xaxis_title=\"UMAP 1\",\n",
    "                  yaxis_title=\"UMAP 2\")\n",
    "fig.show()"
   ]
  },
  {
   "cell_type": "markdown",
   "metadata": {},
   "source": [
    "Second step DR: tSNE"
   ]
  },
  {
   "cell_type": "code",
   "execution_count": 11,
   "metadata": {},
   "outputs": [
    {
     "name": "stderr",
     "output_type": "stream",
     "text": [
      "/Users/allison/anaconda3/envs/myenv/lib/python3.9/site-packages/sklearn/manifold/_t_sne.py:780: FutureWarning:\n",
      "\n",
      "The default initialization in TSNE will change from 'random' to 'pca' in 1.2.\n",
      "\n",
      "/Users/allison/anaconda3/envs/myenv/lib/python3.9/site-packages/sklearn/manifold/_t_sne.py:790: FutureWarning:\n",
      "\n",
      "The default learning rate in TSNE will change from 200.0 to 'auto' in 1.2.\n",
      "\n"
     ]
    },
    {
     "data": {
      "application/vnd.plotly.v1+json": {
       "config": {
        "plotlyServerURL": "https://plot.ly"
       },
       "data": [
        {
         "customdata": [
          [
           "novadaq-far-farm-06"
          ],
          [
           "novadaq-far-farm-07"
          ],
          [
           "novadaq-far-farm-08"
          ],
          [
           "novadaq-far-farm-09"
          ],
          [
           "novadaq-far-farm-10"
          ],
          [
           "novadaq-far-farm-100"
          ],
          [
           "novadaq-far-farm-101"
          ],
          [
           "novadaq-far-farm-102"
          ],
          [
           "novadaq-far-farm-103"
          ],
          [
           "novadaq-far-farm-104"
          ],
          [
           "novadaq-far-farm-105"
          ],
          [
           "novadaq-far-farm-106"
          ],
          [
           "novadaq-far-farm-107"
          ],
          [
           "novadaq-far-farm-108"
          ],
          [
           "novadaq-far-farm-109"
          ],
          [
           "novadaq-far-farm-11"
          ],
          [
           "novadaq-far-farm-110"
          ],
          [
           "novadaq-far-farm-111"
          ],
          [
           "novadaq-far-farm-112"
          ],
          [
           "novadaq-far-farm-113"
          ],
          [
           "novadaq-far-farm-114"
          ],
          [
           "novadaq-far-farm-115"
          ],
          [
           "novadaq-far-farm-116"
          ],
          [
           "novadaq-far-farm-117"
          ],
          [
           "novadaq-far-farm-118"
          ],
          [
           "novadaq-far-farm-119"
          ],
          [
           "novadaq-far-farm-12"
          ],
          [
           "novadaq-far-farm-120"
          ],
          [
           "novadaq-far-farm-121"
          ],
          [
           "novadaq-far-farm-122"
          ],
          [
           "novadaq-far-farm-123"
          ],
          [
           "novadaq-far-farm-124"
          ],
          [
           "novadaq-far-farm-125"
          ],
          [
           "novadaq-far-farm-126"
          ],
          [
           "novadaq-far-farm-127"
          ],
          [
           "novadaq-far-farm-128"
          ],
          [
           "novadaq-far-farm-129"
          ],
          [
           "novadaq-far-farm-13"
          ],
          [
           "novadaq-far-farm-130"
          ],
          [
           "novadaq-far-farm-131"
          ],
          [
           "novadaq-far-farm-132"
          ],
          [
           "novadaq-far-farm-133"
          ],
          [
           "novadaq-far-farm-134"
          ],
          [
           "novadaq-far-farm-135"
          ],
          [
           "novadaq-far-farm-136"
          ],
          [
           "novadaq-far-farm-137"
          ],
          [
           "novadaq-far-farm-138"
          ],
          [
           "novadaq-far-farm-139"
          ],
          [
           "novadaq-far-farm-14"
          ],
          [
           "novadaq-far-farm-140"
          ],
          [
           "novadaq-far-farm-141"
          ],
          [
           "novadaq-far-farm-142"
          ],
          [
           "novadaq-far-farm-143"
          ],
          [
           "novadaq-far-farm-144"
          ],
          [
           "novadaq-far-farm-145"
          ],
          [
           "novadaq-far-farm-146"
          ],
          [
           "novadaq-far-farm-147"
          ],
          [
           "novadaq-far-farm-148"
          ],
          [
           "novadaq-far-farm-149"
          ],
          [
           "novadaq-far-farm-15"
          ],
          [
           "novadaq-far-farm-150"
          ],
          [
           "novadaq-far-farm-151"
          ],
          [
           "novadaq-far-farm-152"
          ],
          [
           "novadaq-far-farm-153"
          ],
          [
           "novadaq-far-farm-154"
          ],
          [
           "novadaq-far-farm-155"
          ],
          [
           "novadaq-far-farm-156"
          ],
          [
           "novadaq-far-farm-157"
          ],
          [
           "novadaq-far-farm-158"
          ],
          [
           "novadaq-far-farm-159"
          ],
          [
           "novadaq-far-farm-16"
          ],
          [
           "novadaq-far-farm-160"
          ],
          [
           "novadaq-far-farm-161"
          ],
          [
           "novadaq-far-farm-162"
          ],
          [
           "novadaq-far-farm-163"
          ],
          [
           "novadaq-far-farm-164"
          ],
          [
           "novadaq-far-farm-165"
          ],
          [
           "novadaq-far-farm-166"
          ],
          [
           "novadaq-far-farm-167"
          ],
          [
           "novadaq-far-farm-168"
          ],
          [
           "novadaq-far-farm-169"
          ],
          [
           "novadaq-far-farm-17"
          ],
          [
           "novadaq-far-farm-170"
          ],
          [
           "novadaq-far-farm-171"
          ],
          [
           "novadaq-far-farm-172"
          ],
          [
           "novadaq-far-farm-173"
          ],
          [
           "novadaq-far-farm-174"
          ],
          [
           "novadaq-far-farm-175"
          ],
          [
           "novadaq-far-farm-176"
          ],
          [
           "novadaq-far-farm-177"
          ],
          [
           "novadaq-far-farm-178"
          ],
          [
           "novadaq-far-farm-179"
          ],
          [
           "novadaq-far-farm-18"
          ],
          [
           "novadaq-far-farm-180"
          ],
          [
           "novadaq-far-farm-181"
          ],
          [
           "novadaq-far-farm-182"
          ],
          [
           "novadaq-far-farm-183"
          ],
          [
           "novadaq-far-farm-184"
          ],
          [
           "novadaq-far-farm-185"
          ],
          [
           "novadaq-far-farm-186"
          ],
          [
           "novadaq-far-farm-187"
          ],
          [
           "novadaq-far-farm-188"
          ],
          [
           "novadaq-far-farm-189"
          ],
          [
           "novadaq-far-farm-19"
          ],
          [
           "novadaq-far-farm-190"
          ],
          [
           "novadaq-far-farm-191"
          ],
          [
           "novadaq-far-farm-192"
          ],
          [
           "novadaq-far-farm-193"
          ],
          [
           "novadaq-far-farm-194"
          ],
          [
           "novadaq-far-farm-195"
          ],
          [
           "novadaq-far-farm-196"
          ],
          [
           "novadaq-far-farm-197"
          ],
          [
           "novadaq-far-farm-198"
          ],
          [
           "novadaq-far-farm-199"
          ],
          [
           "novadaq-far-farm-20"
          ],
          [
           "novadaq-far-farm-200"
          ],
          [
           "novadaq-far-farm-21"
          ],
          [
           "novadaq-far-farm-22"
          ],
          [
           "novadaq-far-farm-23"
          ],
          [
           "novadaq-far-farm-24"
          ],
          [
           "novadaq-far-farm-25"
          ],
          [
           "novadaq-far-farm-26"
          ],
          [
           "novadaq-far-farm-27"
          ],
          [
           "novadaq-far-farm-28"
          ],
          [
           "novadaq-far-farm-29"
          ],
          [
           "novadaq-far-farm-30"
          ],
          [
           "novadaq-far-farm-31"
          ],
          [
           "novadaq-far-farm-32"
          ],
          [
           "novadaq-far-farm-33"
          ],
          [
           "novadaq-far-farm-34"
          ],
          [
           "novadaq-far-farm-35"
          ],
          [
           "novadaq-far-farm-36"
          ],
          [
           "novadaq-far-farm-37"
          ],
          [
           "novadaq-far-farm-38"
          ],
          [
           "novadaq-far-farm-39"
          ],
          [
           "novadaq-far-farm-40"
          ],
          [
           "novadaq-far-farm-41"
          ],
          [
           "novadaq-far-farm-42"
          ],
          [
           "novadaq-far-farm-43"
          ],
          [
           "novadaq-far-farm-44"
          ],
          [
           "novadaq-far-farm-45"
          ],
          [
           "novadaq-far-farm-46"
          ],
          [
           "novadaq-far-farm-47"
          ],
          [
           "novadaq-far-farm-48"
          ],
          [
           "novadaq-far-farm-49"
          ],
          [
           "novadaq-far-farm-50"
          ],
          [
           "novadaq-far-farm-51"
          ],
          [
           "novadaq-far-farm-52"
          ],
          [
           "novadaq-far-farm-53"
          ],
          [
           "novadaq-far-farm-54"
          ],
          [
           "novadaq-far-farm-55"
          ],
          [
           "novadaq-far-farm-56"
          ],
          [
           "novadaq-far-farm-57"
          ],
          [
           "novadaq-far-farm-58"
          ],
          [
           "novadaq-far-farm-59"
          ],
          [
           "novadaq-far-farm-60"
          ],
          [
           "novadaq-far-farm-61"
          ],
          [
           "novadaq-far-farm-62"
          ],
          [
           "novadaq-far-farm-63"
          ],
          [
           "novadaq-far-farm-64"
          ],
          [
           "novadaq-far-farm-65"
          ],
          [
           "novadaq-far-farm-66"
          ],
          [
           "novadaq-far-farm-67"
          ],
          [
           "novadaq-far-farm-68"
          ],
          [
           "novadaq-far-farm-69"
          ],
          [
           "novadaq-far-farm-70"
          ],
          [
           "novadaq-far-farm-71"
          ],
          [
           "novadaq-far-farm-72"
          ],
          [
           "novadaq-far-farm-73"
          ],
          [
           "novadaq-far-farm-74"
          ],
          [
           "novadaq-far-farm-75"
          ],
          [
           "novadaq-far-farm-76"
          ],
          [
           "novadaq-far-farm-77"
          ],
          [
           "novadaq-far-farm-78"
          ],
          [
           "novadaq-far-farm-79"
          ],
          [
           "novadaq-far-farm-80"
          ],
          [
           "novadaq-far-farm-81"
          ],
          [
           "novadaq-far-farm-82"
          ],
          [
           "novadaq-far-farm-83"
          ],
          [
           "novadaq-far-farm-84"
          ],
          [
           "novadaq-far-farm-85"
          ],
          [
           "novadaq-far-farm-86"
          ],
          [
           "novadaq-far-farm-87"
          ],
          [
           "novadaq-far-farm-88"
          ],
          [
           "novadaq-far-farm-89"
          ],
          [
           "novadaq-far-farm-90"
          ],
          [
           "novadaq-far-farm-91"
          ],
          [
           "novadaq-far-farm-92"
          ],
          [
           "novadaq-far-farm-93"
          ],
          [
           "novadaq-far-farm-94"
          ],
          [
           "novadaq-far-farm-95"
          ],
          [
           "novadaq-far-farm-96"
          ],
          [
           "novadaq-far-farm-97"
          ],
          [
           "novadaq-far-farm-98"
          ],
          [
           "novadaq-far-farm-99"
          ]
         ],
         "hovertemplate": "tSNE1=%{x}<br>tSNE2=%{y}<br>nodeId=%{customdata[0]}<extra></extra>",
         "legendgroup": "",
         "marker": {
          "color": "#636efa",
          "symbol": "circle"
         },
         "mode": "markers",
         "name": "",
         "orientation": "v",
         "showlegend": false,
         "type": "scatter",
         "x": [
          -14.053630828857422,
          -14.047769546508789,
          -14.052154541015625,
          -14.053716659545898,
          -14.047286987304688,
          -4.531027317047119,
          -5.543348789215088,
          -2.5891847610473633,
          -3.783069133758545,
          10.346543312072754,
          -10.884536743164062,
          -11.424726486206055,
          -11.355603218078613,
          -11.138392448425293,
          -11.572949409484863,
          2.4622573852539062,
          -11.328615188598633,
          -10.190430641174316,
          -10.476533889770508,
          -5.5602569580078125,
          -5.318786144256592,
          2.521972179412842,
          -4.467513084411621,
          -3.536796808242798,
          -5.416049003601074,
          -4.811409950256348,
          -12.560051918029785,
          -3.1614770889282227,
          -2.8891119956970215,
          -4.306865215301514,
          -4.965419769287109,
          -5.618669509887695,
          13.663824081420898,
          13.380051612854004,
          15.409737586975098,
          12.529136657714844,
          12.815719604492188,
          3.7787957191467285,
          -12.598245620727539,
          -12.596996307373047,
          13.983651161193848,
          -12.598376274108887,
          12.066278457641602,
          14.297470092773438,
          13.634297370910645,
          -6.3396477699279785,
          14.589856147766113,
          14.906113624572754,
          3.5824711322784424,
          14.701460838317871,
          4.752243995666504,
          -12.59823226928711,
          11.603418350219727,
          13.062763214111328,
          11.247426986694336,
          13.536497116088867,
          13.290629386901855,
          14.333407402038574,
          4.520468235015869,
          2.5438640117645264,
          -11.719131469726562,
          13.20962142944336,
          12.382973670959473,
          13.906526565551758,
          12.792177200317383,
          14.175728797912598,
          14.56360149383545,
          14.495686531066895,
          13.674214363098145,
          14.572583198547363,
          -12.099554061889648,
          15.53801155090332,
          12.563486099243164,
          13.687469482421875,
          13.255820274353027,
          -11.704878807067871,
          -8.963046073913574,
          14.158554077148438,
          13.943231582641602,
          15.11408805847168,
          14.807205200195312,
          4.407937049865723,
          -11.682801246643066,
          14.785964965820312,
          14.166150093078613,
          13.850995063781738,
          13.970576286315918,
          12.232742309570312,
          13.79312515258789,
          13.849379539489746,
          14.386722564697266,
          12.491903305053711,
          4.006433010101318,
          -11.845012664794922,
          -11.491560935974121,
          14.442398071289062,
          15.836647987365723,
          -11.702413558959961,
          14.902548789978027,
          14.038651466369629,
          14.136624336242676,
          13.947127342224121,
          -11.757246017456055,
          3.0967154502868652,
          11.670536041259766,
          14.25687026977539,
          14.651256561279297,
          15.762654304504395,
          14.523362159729004,
          15.760594367980957,
          15.087289810180664,
          -5.930304050445557,
          -4.882471561431885,
          -4.449760913848877,
          -11.30805778503418,
          -5.777987003326416,
          -7.110512733459473,
          3.908071756362915,
          5.753169536590576,
          2.7682769298553467,
          5.360215663909912,
          5.468262672424316,
          3.6949470043182373,
          -11.752737045288086,
          4.383433818817139,
          3.939234495162964,
          3.752300500869751,
          5.649667739868164,
          5.643668174743652,
          10.798558235168457,
          -11.704033851623535,
          3.464137315750122,
          3.659785509109497,
          4.214528560638428,
          3.7828359603881836,
          4.48917818069458,
          4.323430061340332,
          2.76607084274292,
          3.6843795776367188,
          4.3342485427856445,
          5.118906021118164,
          2.7064144611358643,
          4.386948108673096,
          4.0657830238342285,
          4.35936975479126,
          3.0967156887054443,
          10.959805488586426,
          4.349180221557617,
          -3.709578275680542,
          -4.901561737060547,
          -3.9993605613708496,
          5.579104900360107,
          -3.3816115856170654,
          -4.107068061828613,
          -11.682540893554688,
          -4.352165222167969,
          -12.596545219421387,
          -3.926222562789917,
          -4.675024509429932,
          -5.17417049407959,
          -9.90671443939209,
          -10.19615364074707,
          -9.893047332763672,
          -10.127717018127441,
          -10.663775444030762,
          -10.253609657287598,
          -12.12381649017334,
          -10.825334548950195,
          -3.021646738052368,
          -6.359419822692871,
          -4.681090831756592,
          -3.0142858028411865,
          -4.720875263214111,
          -12.597372055053711,
          -3.7455549240112305,
          -4.2798566818237305,
          -5.260770797729492,
          -5.1642255783081055,
          -4.827328681945801,
          -4.9663872718811035,
          -3.9117825031280518,
          -4.92576789855957,
          -4.940183162689209,
          -5.014595985412598,
          -5.050447463989258,
          -3.537609577178955,
          -5.692155838012695,
          -12.597705841064453,
          -10.67999267578125,
          -10.622682571411133,
          -10.573089599609375,
          -10.449483871459961,
          -3.689645767211914,
          -5.026723384857178,
          -4.661941051483154
         ],
         "xaxis": "x",
         "y": [
          7.830505847930908,
          7.829767227172852,
          7.831141471862793,
          7.831648349761963,
          7.8248467445373535,
          7.436158657073975,
          9.893560409545898,
          10.124338150024414,
          10.134465217590332,
          -4.804905891418457,
          15.465177536010742,
          15.430931091308594,
          15.934885025024414,
          15.347245216369629,
          15.430038452148438,
          -18.71888542175293,
          15.876895904541016,
          15.282987594604492,
          15.108210563659668,
          11.359556198120117,
          8.909978866577148,
          -20.085004806518555,
          12.348115921020508,
          7.987004280090332,
          11.309698104858398,
          11.241872787475586,
          6.928283214569092,
          7.081122875213623,
          8.695569038391113,
          12.387707710266113,
          10.555572509765625,
          10.575502395629883,
          -8.066916465759277,
          -6.48132848739624,
          -4.543318271636963,
          -4.897471904754639,
          -9.34424114227295,
          -17.605714797973633,
          11.005158424377441,
          11.012744903564453,
          -6.9900360107421875,
          11.005555152893066,
          -7.863441467285156,
          -3.2256691455841064,
          -7.646473407745361,
          11.510043144226074,
          -6.606278419494629,
          -5.33683443069458,
          -18.063777923583984,
          -5.934151649475098,
          -21.27227783203125,
          11.000594139099121,
          -8.924482345581055,
          -8.775958061218262,
          -5.850612640380859,
          -5.316264629364014,
          -8.142662048339844,
          -3.270063638687134,
          -18.104406356811523,
          -18.94356346130371,
          6.999509334564209,
          -8.039880752563477,
          -8.295366287231445,
          -9.771748542785645,
          -8.291367530822754,
          -8.765219688415527,
          -6.090633392333984,
          -9.755121231079102,
          -5.576423645019531,
          -4.453869819641113,
          7.077709674835205,
          -5.55566930770874,
          -10.132305145263672,
          -9.638026237487793,
          -5.795444965362549,
          7.008599281311035,
          16.461936950683594,
          -9.558987617492676,
          -5.1225714683532715,
          -4.3833441734313965,
          -8.768889427185059,
          -17.424964904785156,
          7.427541732788086,
          -3.447114944458008,
          -7.174816608428955,
          -9.826838493347168,
          -4.883263111114502,
          -8.413202285766602,
          -8.76981258392334,
          -4.703187465667725,
          -4.313926696777344,
          -9.027103424072266,
          -17.225679397583008,
          7.407625675201416,
          7.336183071136475,
          -9.742546081542969,
          -5.94852352142334,
          7.465574741363525,
          -8.249032974243164,
          -4.671301364898682,
          -5.886590480804443,
          -8.738117218017578,
          7.408010005950928,
          -19.134632110595703,
          -6.034379005432129,
          -5.873442649841309,
          -4.940783500671387,
          -6.650661945343018,
          -7.687373161315918,
          -5.798257350921631,
          -6.476875305175781,
          10.347946166992188,
          12.861239433288574,
          9.289579391479492,
          7.064820289611816,
          10.207432746887207,
          9.40445327758789,
          -19.328750610351562,
          -17.935319900512695,
          -19.663719177246094,
          -17.54152488708496,
          -19.799156188964844,
          -19.627286911010742,
          7.426734447479248,
          -18.067079544067383,
          -20.312164306640625,
          -18.19597625732422,
          -17.367103576660156,
          -17.721891403198242,
          -6.835713863372803,
          7.438494682312012,
          -20.87732696533203,
          -19.923824310302734,
          -18.827049255371094,
          -19.809541702270508,
          -18.4080867767334,
          -19.803600311279297,
          -20.383543014526367,
          -18.56976890563965,
          -20.592334747314453,
          -18.698711395263672,
          -20.392688751220703,
          -18.963226318359375,
          -19.918170928955078,
          -19.240795135498047,
          -19.027366638183594,
          -6.198886871337891,
          -20.256290435791016,
          11.461719512939453,
          10.132343292236328,
          11.14318561553955,
          -17.64678382873535,
          8.152137756347656,
          7.82565450668335,
          7.10240364074707,
          10.148256301879883,
          11.013259887695312,
          10.731008529663086,
          10.853571891784668,
          7.701605319976807,
          15.550008773803711,
          15.920151710510254,
          15.757608413696289,
          15.453642845153809,
          15.855628967285156,
          15.970823287963867,
          15.792813301086426,
          16.192066192626953,
          8.189729690551758,
          10.308577537536621,
          10.42752742767334,
          9.031702995300293,
          7.849798679351807,
          11.010854721069336,
          7.421900749206543,
          9.782003402709961,
          9.682535171508789,
          8.878952980041504,
          11.062252044677734,
          6.549820899963379,
          7.093902587890625,
          10.19192886352539,
          6.6867547035217285,
          7.655234336853027,
          10.797589302062988,
          9.664176940917969,
          7.508862018585205,
          11.010052680969238,
          15.985013961791992,
          15.278949737548828,
          15.123468399047852,
          15.827483177185059,
          8.928495407104492,
          8.232871055603027,
          7.323508262634277
         ],
         "yaxis": "y"
        }
       ],
       "layout": {
        "legend": {
         "tracegroupgap": 0
        },
        "margin": {
         "t": 60
        },
        "template": {
         "data": {
          "bar": [
           {
            "error_x": {
             "color": "#2a3f5f"
            },
            "error_y": {
             "color": "#2a3f5f"
            },
            "marker": {
             "line": {
              "color": "#E5ECF6",
              "width": 0.5
             },
             "pattern": {
              "fillmode": "overlay",
              "size": 10,
              "solidity": 0.2
             }
            },
            "type": "bar"
           }
          ],
          "barpolar": [
           {
            "marker": {
             "line": {
              "color": "#E5ECF6",
              "width": 0.5
             },
             "pattern": {
              "fillmode": "overlay",
              "size": 10,
              "solidity": 0.2
             }
            },
            "type": "barpolar"
           }
          ],
          "carpet": [
           {
            "aaxis": {
             "endlinecolor": "#2a3f5f",
             "gridcolor": "white",
             "linecolor": "white",
             "minorgridcolor": "white",
             "startlinecolor": "#2a3f5f"
            },
            "baxis": {
             "endlinecolor": "#2a3f5f",
             "gridcolor": "white",
             "linecolor": "white",
             "minorgridcolor": "white",
             "startlinecolor": "#2a3f5f"
            },
            "type": "carpet"
           }
          ],
          "choropleth": [
           {
            "colorbar": {
             "outlinewidth": 0,
             "ticks": ""
            },
            "type": "choropleth"
           }
          ],
          "contour": [
           {
            "colorbar": {
             "outlinewidth": 0,
             "ticks": ""
            },
            "colorscale": [
             [
              0,
              "#0d0887"
             ],
             [
              0.1111111111111111,
              "#46039f"
             ],
             [
              0.2222222222222222,
              "#7201a8"
             ],
             [
              0.3333333333333333,
              "#9c179e"
             ],
             [
              0.4444444444444444,
              "#bd3786"
             ],
             [
              0.5555555555555556,
              "#d8576b"
             ],
             [
              0.6666666666666666,
              "#ed7953"
             ],
             [
              0.7777777777777778,
              "#fb9f3a"
             ],
             [
              0.8888888888888888,
              "#fdca26"
             ],
             [
              1,
              "#f0f921"
             ]
            ],
            "type": "contour"
           }
          ],
          "contourcarpet": [
           {
            "colorbar": {
             "outlinewidth": 0,
             "ticks": ""
            },
            "type": "contourcarpet"
           }
          ],
          "heatmap": [
           {
            "colorbar": {
             "outlinewidth": 0,
             "ticks": ""
            },
            "colorscale": [
             [
              0,
              "#0d0887"
             ],
             [
              0.1111111111111111,
              "#46039f"
             ],
             [
              0.2222222222222222,
              "#7201a8"
             ],
             [
              0.3333333333333333,
              "#9c179e"
             ],
             [
              0.4444444444444444,
              "#bd3786"
             ],
             [
              0.5555555555555556,
              "#d8576b"
             ],
             [
              0.6666666666666666,
              "#ed7953"
             ],
             [
              0.7777777777777778,
              "#fb9f3a"
             ],
             [
              0.8888888888888888,
              "#fdca26"
             ],
             [
              1,
              "#f0f921"
             ]
            ],
            "type": "heatmap"
           }
          ],
          "heatmapgl": [
           {
            "colorbar": {
             "outlinewidth": 0,
             "ticks": ""
            },
            "colorscale": [
             [
              0,
              "#0d0887"
             ],
             [
              0.1111111111111111,
              "#46039f"
             ],
             [
              0.2222222222222222,
              "#7201a8"
             ],
             [
              0.3333333333333333,
              "#9c179e"
             ],
             [
              0.4444444444444444,
              "#bd3786"
             ],
             [
              0.5555555555555556,
              "#d8576b"
             ],
             [
              0.6666666666666666,
              "#ed7953"
             ],
             [
              0.7777777777777778,
              "#fb9f3a"
             ],
             [
              0.8888888888888888,
              "#fdca26"
             ],
             [
              1,
              "#f0f921"
             ]
            ],
            "type": "heatmapgl"
           }
          ],
          "histogram": [
           {
            "marker": {
             "pattern": {
              "fillmode": "overlay",
              "size": 10,
              "solidity": 0.2
             }
            },
            "type": "histogram"
           }
          ],
          "histogram2d": [
           {
            "colorbar": {
             "outlinewidth": 0,
             "ticks": ""
            },
            "colorscale": [
             [
              0,
              "#0d0887"
             ],
             [
              0.1111111111111111,
              "#46039f"
             ],
             [
              0.2222222222222222,
              "#7201a8"
             ],
             [
              0.3333333333333333,
              "#9c179e"
             ],
             [
              0.4444444444444444,
              "#bd3786"
             ],
             [
              0.5555555555555556,
              "#d8576b"
             ],
             [
              0.6666666666666666,
              "#ed7953"
             ],
             [
              0.7777777777777778,
              "#fb9f3a"
             ],
             [
              0.8888888888888888,
              "#fdca26"
             ],
             [
              1,
              "#f0f921"
             ]
            ],
            "type": "histogram2d"
           }
          ],
          "histogram2dcontour": [
           {
            "colorbar": {
             "outlinewidth": 0,
             "ticks": ""
            },
            "colorscale": [
             [
              0,
              "#0d0887"
             ],
             [
              0.1111111111111111,
              "#46039f"
             ],
             [
              0.2222222222222222,
              "#7201a8"
             ],
             [
              0.3333333333333333,
              "#9c179e"
             ],
             [
              0.4444444444444444,
              "#bd3786"
             ],
             [
              0.5555555555555556,
              "#d8576b"
             ],
             [
              0.6666666666666666,
              "#ed7953"
             ],
             [
              0.7777777777777778,
              "#fb9f3a"
             ],
             [
              0.8888888888888888,
              "#fdca26"
             ],
             [
              1,
              "#f0f921"
             ]
            ],
            "type": "histogram2dcontour"
           }
          ],
          "mesh3d": [
           {
            "colorbar": {
             "outlinewidth": 0,
             "ticks": ""
            },
            "type": "mesh3d"
           }
          ],
          "parcoords": [
           {
            "line": {
             "colorbar": {
              "outlinewidth": 0,
              "ticks": ""
             }
            },
            "type": "parcoords"
           }
          ],
          "pie": [
           {
            "automargin": true,
            "type": "pie"
           }
          ],
          "scatter": [
           {
            "fillpattern": {
             "fillmode": "overlay",
             "size": 10,
             "solidity": 0.2
            },
            "type": "scatter"
           }
          ],
          "scatter3d": [
           {
            "line": {
             "colorbar": {
              "outlinewidth": 0,
              "ticks": ""
             }
            },
            "marker": {
             "colorbar": {
              "outlinewidth": 0,
              "ticks": ""
             }
            },
            "type": "scatter3d"
           }
          ],
          "scattercarpet": [
           {
            "marker": {
             "colorbar": {
              "outlinewidth": 0,
              "ticks": ""
             }
            },
            "type": "scattercarpet"
           }
          ],
          "scattergeo": [
           {
            "marker": {
             "colorbar": {
              "outlinewidth": 0,
              "ticks": ""
             }
            },
            "type": "scattergeo"
           }
          ],
          "scattergl": [
           {
            "marker": {
             "colorbar": {
              "outlinewidth": 0,
              "ticks": ""
             }
            },
            "type": "scattergl"
           }
          ],
          "scattermapbox": [
           {
            "marker": {
             "colorbar": {
              "outlinewidth": 0,
              "ticks": ""
             }
            },
            "type": "scattermapbox"
           }
          ],
          "scatterpolar": [
           {
            "marker": {
             "colorbar": {
              "outlinewidth": 0,
              "ticks": ""
             }
            },
            "type": "scatterpolar"
           }
          ],
          "scatterpolargl": [
           {
            "marker": {
             "colorbar": {
              "outlinewidth": 0,
              "ticks": ""
             }
            },
            "type": "scatterpolargl"
           }
          ],
          "scatterternary": [
           {
            "marker": {
             "colorbar": {
              "outlinewidth": 0,
              "ticks": ""
             }
            },
            "type": "scatterternary"
           }
          ],
          "surface": [
           {
            "colorbar": {
             "outlinewidth": 0,
             "ticks": ""
            },
            "colorscale": [
             [
              0,
              "#0d0887"
             ],
             [
              0.1111111111111111,
              "#46039f"
             ],
             [
              0.2222222222222222,
              "#7201a8"
             ],
             [
              0.3333333333333333,
              "#9c179e"
             ],
             [
              0.4444444444444444,
              "#bd3786"
             ],
             [
              0.5555555555555556,
              "#d8576b"
             ],
             [
              0.6666666666666666,
              "#ed7953"
             ],
             [
              0.7777777777777778,
              "#fb9f3a"
             ],
             [
              0.8888888888888888,
              "#fdca26"
             ],
             [
              1,
              "#f0f921"
             ]
            ],
            "type": "surface"
           }
          ],
          "table": [
           {
            "cells": {
             "fill": {
              "color": "#EBF0F8"
             },
             "line": {
              "color": "white"
             }
            },
            "header": {
             "fill": {
              "color": "#C8D4E3"
             },
             "line": {
              "color": "white"
             }
            },
            "type": "table"
           }
          ]
         },
         "layout": {
          "annotationdefaults": {
           "arrowcolor": "#2a3f5f",
           "arrowhead": 0,
           "arrowwidth": 1
          },
          "autotypenumbers": "strict",
          "coloraxis": {
           "colorbar": {
            "outlinewidth": 0,
            "ticks": ""
           }
          },
          "colorscale": {
           "diverging": [
            [
             0,
             "#8e0152"
            ],
            [
             0.1,
             "#c51b7d"
            ],
            [
             0.2,
             "#de77ae"
            ],
            [
             0.3,
             "#f1b6da"
            ],
            [
             0.4,
             "#fde0ef"
            ],
            [
             0.5,
             "#f7f7f7"
            ],
            [
             0.6,
             "#e6f5d0"
            ],
            [
             0.7,
             "#b8e186"
            ],
            [
             0.8,
             "#7fbc41"
            ],
            [
             0.9,
             "#4d9221"
            ],
            [
             1,
             "#276419"
            ]
           ],
           "sequential": [
            [
             0,
             "#0d0887"
            ],
            [
             0.1111111111111111,
             "#46039f"
            ],
            [
             0.2222222222222222,
             "#7201a8"
            ],
            [
             0.3333333333333333,
             "#9c179e"
            ],
            [
             0.4444444444444444,
             "#bd3786"
            ],
            [
             0.5555555555555556,
             "#d8576b"
            ],
            [
             0.6666666666666666,
             "#ed7953"
            ],
            [
             0.7777777777777778,
             "#fb9f3a"
            ],
            [
             0.8888888888888888,
             "#fdca26"
            ],
            [
             1,
             "#f0f921"
            ]
           ],
           "sequentialminus": [
            [
             0,
             "#0d0887"
            ],
            [
             0.1111111111111111,
             "#46039f"
            ],
            [
             0.2222222222222222,
             "#7201a8"
            ],
            [
             0.3333333333333333,
             "#9c179e"
            ],
            [
             0.4444444444444444,
             "#bd3786"
            ],
            [
             0.5555555555555556,
             "#d8576b"
            ],
            [
             0.6666666666666666,
             "#ed7953"
            ],
            [
             0.7777777777777778,
             "#fb9f3a"
            ],
            [
             0.8888888888888888,
             "#fdca26"
            ],
            [
             1,
             "#f0f921"
            ]
           ]
          },
          "colorway": [
           "#636efa",
           "#EF553B",
           "#00cc96",
           "#ab63fa",
           "#FFA15A",
           "#19d3f3",
           "#FF6692",
           "#B6E880",
           "#FF97FF",
           "#FECB52"
          ],
          "font": {
           "color": "#2a3f5f"
          },
          "geo": {
           "bgcolor": "white",
           "lakecolor": "white",
           "landcolor": "#E5ECF6",
           "showlakes": true,
           "showland": true,
           "subunitcolor": "white"
          },
          "hoverlabel": {
           "align": "left"
          },
          "hovermode": "closest",
          "mapbox": {
           "style": "light"
          },
          "paper_bgcolor": "white",
          "plot_bgcolor": "#E5ECF6",
          "polar": {
           "angularaxis": {
            "gridcolor": "white",
            "linecolor": "white",
            "ticks": ""
           },
           "bgcolor": "#E5ECF6",
           "radialaxis": {
            "gridcolor": "white",
            "linecolor": "white",
            "ticks": ""
           }
          },
          "scene": {
           "xaxis": {
            "backgroundcolor": "#E5ECF6",
            "gridcolor": "white",
            "gridwidth": 2,
            "linecolor": "white",
            "showbackground": true,
            "ticks": "",
            "zerolinecolor": "white"
           },
           "yaxis": {
            "backgroundcolor": "#E5ECF6",
            "gridcolor": "white",
            "gridwidth": 2,
            "linecolor": "white",
            "showbackground": true,
            "ticks": "",
            "zerolinecolor": "white"
           },
           "zaxis": {
            "backgroundcolor": "#E5ECF6",
            "gridcolor": "white",
            "gridwidth": 2,
            "linecolor": "white",
            "showbackground": true,
            "ticks": "",
            "zerolinecolor": "white"
           }
          },
          "shapedefaults": {
           "line": {
            "color": "#2a3f5f"
           }
          },
          "ternary": {
           "aaxis": {
            "gridcolor": "white",
            "linecolor": "white",
            "ticks": ""
           },
           "baxis": {
            "gridcolor": "white",
            "linecolor": "white",
            "ticks": ""
           },
           "bgcolor": "#E5ECF6",
           "caxis": {
            "gridcolor": "white",
            "linecolor": "white",
            "ticks": ""
           }
          },
          "title": {
           "x": 0.05
          },
          "xaxis": {
           "automargin": true,
           "gridcolor": "white",
           "linecolor": "white",
           "ticks": "",
           "title": {
            "standoff": 15
           },
           "zerolinecolor": "white",
           "zerolinewidth": 2
          },
          "yaxis": {
           "automargin": true,
           "gridcolor": "white",
           "linecolor": "white",
           "ticks": "",
           "title": {
            "standoff": 15
           },
           "zerolinecolor": "white",
           "zerolinewidth": 2
          }
         }
        },
        "title": {
         "text": "t-SNE Projection"
        },
        "xaxis": {
         "anchor": "y",
         "domain": [
          0,
          1
         ],
         "title": {
          "text": "t-SNE 1"
         }
        },
        "yaxis": {
         "anchor": "x",
         "domain": [
          0,
          1
         ],
         "title": {
          "text": "t-SNE 2"
         }
        }
       }
      }
     },
     "metadata": {},
     "output_type": "display_data"
    }
   ],
   "source": [
    "import plotly.express as px\n",
    "import pandas as pd\n",
    "from sklearn.manifold import TSNE\n",
    "\n",
    "# two-step DR: PCA+tSNE\n",
    "df_tsne2 = df_pivot.drop(columns=['UMAP1', 'UMAP2', 'nodeId'])\n",
    "tsne = TSNE(n_components=2, random_state=42)\n",
    "embedding = tsne.fit_transform(df_tsne2)\n",
    "\n",
    "df_pivot['tSNE1'] = embedding[:, 0]\n",
    "df_pivot['tSNE2'] = embedding[:, 1]\n",
    "\n",
    "fig = px.scatter(df_pivot, x='tSNE1', y='tSNE2', hover_data={'nodeId': True})\n",
    "\n",
    "fig.update_layout(title=\"t-SNE Projection\",\n",
    "                  xaxis_title=\"t-SNE 1\",\n",
    "                  yaxis_title=\"t-SNE 2\")\n",
    "\n",
    "fig.show()"
   ]
  },
  {
   "cell_type": "markdown",
   "metadata": {},
   "source": [
    "Second step DR: PCA"
   ]
  },
  {
   "cell_type": "code",
   "execution_count": 12,
   "metadata": {},
   "outputs": [],
   "source": [
    "import plotly.express as px\n",
    "import pandas as pd\n",
    "\n",
    "# DR2 - applying PCA to each feature across one node/component \n",
    "def apply_pca(X, n_components=2):\n",
    "    try:\n",
    "        baseline = X.values\n",
    "\n",
    "        # normalizing the data (demean)\n",
    "        mean_hat = baseline.mean(axis=0)\n",
    "        demeaned = baseline - mean_hat\n",
    "\n",
    "        # standardize\n",
    "        scaler = StandardScaler()\n",
    "        X_scaled = scaler.fit_transform(demeaned)\n",
    "\n",
    "        # apply PCA\n",
    "        pca = PCA(n_components=n_components)\n",
    "        scores = pca.fit_transform(X_scaled)\n",
    "\n",
    "        explained_variance_ratio_cumsum = np.cumsum(pca.explained_variance_ratio_)\n",
    "        npc = np.sum(explained_variance_ratio_cumsum < 0.9999) + 1\n",
    "        n_components = scores.shape[1]\n",
    "        print(f\"Number of principal components: {n_components}\")\n",
    "        \n",
    "\n",
    "        P_fin = pd.DataFrame({f\"PC{k+1}\": scores[:, k] if k < n_components else np.nan for k in range(3)})\n",
    "        P_fin['Measurement'] = X.index\n",
    "\n",
    "        return P_fin\n",
    "\n",
    "    except Exception as e:\n",
    "        print(f\"Error processing PCA across features: {e}\")\n",
    "        return None"
   ]
  },
  {
   "cell_type": "code",
   "execution_count": 13,
   "metadata": {},
   "outputs": [
    {
     "name": "stdout",
     "output_type": "stream",
     "text": [
      "Number of principal components: 2\n"
     ]
    },
    {
     "data": {
      "text/html": [
       "<div>\n",
       "<style scoped>\n",
       "    .dataframe tbody tr th:only-of-type {\n",
       "        vertical-align: middle;\n",
       "    }\n",
       "\n",
       "    .dataframe tbody tr th {\n",
       "        vertical-align: top;\n",
       "    }\n",
       "\n",
       "    .dataframe thead th {\n",
       "        text-align: right;\n",
       "    }\n",
       "</style>\n",
       "<table border=\"1\" class=\"dataframe\">\n",
       "  <thead>\n",
       "    <tr style=\"text-align: right;\">\n",
       "      <th></th>\n",
       "      <th>PC1</th>\n",
       "      <th>PC2</th>\n",
       "      <th>PC3</th>\n",
       "      <th>Measurement</th>\n",
       "    </tr>\n",
       "  </thead>\n",
       "  <tbody>\n",
       "    <tr>\n",
       "      <th>0</th>\n",
       "      <td>163.005566</td>\n",
       "      <td>-23.041363</td>\n",
       "      <td>NaN</td>\n",
       "      <td>novadaq-far-farm-06</td>\n",
       "    </tr>\n",
       "    <tr>\n",
       "      <th>1</th>\n",
       "      <td>158.100508</td>\n",
       "      <td>-20.848159</td>\n",
       "      <td>NaN</td>\n",
       "      <td>novadaq-far-farm-07</td>\n",
       "    </tr>\n",
       "    <tr>\n",
       "      <th>2</th>\n",
       "      <td>162.805725</td>\n",
       "      <td>-21.531884</td>\n",
       "      <td>NaN</td>\n",
       "      <td>novadaq-far-farm-08</td>\n",
       "    </tr>\n",
       "    <tr>\n",
       "      <th>3</th>\n",
       "      <td>163.021252</td>\n",
       "      <td>-22.132281</td>\n",
       "      <td>NaN</td>\n",
       "      <td>novadaq-far-farm-09</td>\n",
       "    </tr>\n",
       "    <tr>\n",
       "      <th>4</th>\n",
       "      <td>158.064192</td>\n",
       "      <td>-25.394730</td>\n",
       "      <td>NaN</td>\n",
       "      <td>novadaq-far-farm-10</td>\n",
       "    </tr>\n",
       "    <tr>\n",
       "      <th>...</th>\n",
       "      <td>...</td>\n",
       "      <td>...</td>\n",
       "      <td>...</td>\n",
       "      <td>...</td>\n",
       "    </tr>\n",
       "    <tr>\n",
       "      <th>190</th>\n",
       "      <td>5.413388</td>\n",
       "      <td>4.231181</td>\n",
       "      <td>NaN</td>\n",
       "      <td>novadaq-far-farm-95</td>\n",
       "    </tr>\n",
       "    <tr>\n",
       "      <th>191</th>\n",
       "      <td>5.228870</td>\n",
       "      <td>5.424593</td>\n",
       "      <td>NaN</td>\n",
       "      <td>novadaq-far-farm-96</td>\n",
       "    </tr>\n",
       "    <tr>\n",
       "      <th>192</th>\n",
       "      <td>-2.040937</td>\n",
       "      <td>-6.190887</td>\n",
       "      <td>NaN</td>\n",
       "      <td>novadaq-far-farm-97</td>\n",
       "    </tr>\n",
       "    <tr>\n",
       "      <th>193</th>\n",
       "      <td>-2.570028</td>\n",
       "      <td>-3.034026</td>\n",
       "      <td>NaN</td>\n",
       "      <td>novadaq-far-farm-98</td>\n",
       "    </tr>\n",
       "    <tr>\n",
       "      <th>194</th>\n",
       "      <td>-3.389049</td>\n",
       "      <td>-4.889847</td>\n",
       "      <td>NaN</td>\n",
       "      <td>novadaq-far-farm-99</td>\n",
       "    </tr>\n",
       "  </tbody>\n",
       "</table>\n",
       "<p>195 rows × 4 columns</p>\n",
       "</div>"
      ],
      "text/plain": [
       "            PC1        PC2  PC3          Measurement\n",
       "0    163.005566 -23.041363  NaN  novadaq-far-farm-06\n",
       "1    158.100508 -20.848159  NaN  novadaq-far-farm-07\n",
       "2    162.805725 -21.531884  NaN  novadaq-far-farm-08\n",
       "3    163.021252 -22.132281  NaN  novadaq-far-farm-09\n",
       "4    158.064192 -25.394730  NaN  novadaq-far-farm-10\n",
       "..          ...        ...  ...                  ...\n",
       "190    5.413388   4.231181  NaN  novadaq-far-farm-95\n",
       "191    5.228870   5.424593  NaN  novadaq-far-farm-96\n",
       "192   -2.040937  -6.190887  NaN  novadaq-far-farm-97\n",
       "193   -2.570028  -3.034026  NaN  novadaq-far-farm-98\n",
       "194   -3.389049  -4.889847  NaN  novadaq-far-farm-99\n",
       "\n",
       "[195 rows x 4 columns]"
      ]
     },
     "execution_count": 13,
     "metadata": {},
     "output_type": "execute_result"
    }
   ],
   "source": [
    "df_pca = df_pivot.drop(columns=['UMAP1', 'UMAP2', 'tSNE1', 'tSNE2', 'nodeId'])\n",
    "P_df = apply_pca(df_pca)\n",
    "P_df"
   ]
  },
  {
   "cell_type": "code",
   "execution_count": 14,
   "metadata": {},
   "outputs": [
    {
     "data": {
      "text/html": [
       "<div>\n",
       "<style scoped>\n",
       "    .dataframe tbody tr th:only-of-type {\n",
       "        vertical-align: middle;\n",
       "    }\n",
       "\n",
       "    .dataframe tbody tr th {\n",
       "        vertical-align: top;\n",
       "    }\n",
       "\n",
       "    .dataframe thead th {\n",
       "        text-align: right;\n",
       "    }\n",
       "</style>\n",
       "<table border=\"1\" class=\"dataframe\">\n",
       "  <thead>\n",
       "    <tr style=\"text-align: right;\">\n",
       "      <th>Col</th>\n",
       "      <th>2024-02-21 16:07:30</th>\n",
       "      <th>2024-02-21 16:07:45</th>\n",
       "      <th>2024-02-21 16:08:00</th>\n",
       "      <th>2024-02-21 16:08:15</th>\n",
       "      <th>2024-02-21 16:08:30</th>\n",
       "      <th>2024-02-21 16:08:45</th>\n",
       "      <th>2024-02-21 16:09:00</th>\n",
       "      <th>2024-02-21 16:09:15</th>\n",
       "      <th>2024-02-21 16:09:30</th>\n",
       "      <th>2024-02-21 16:09:45</th>\n",
       "      <th>...</th>\n",
       "      <th>2024-02-21 23:58:15</th>\n",
       "      <th>2024-02-21 23:58:30</th>\n",
       "      <th>2024-02-21 23:58:45</th>\n",
       "      <th>2024-02-21 23:59:00</th>\n",
       "      <th>2024-02-21 23:59:15</th>\n",
       "      <th>2024-02-21 23:59:30</th>\n",
       "      <th>2024-02-21 23:59:45</th>\n",
       "      <th>PC1</th>\n",
       "      <th>PC2</th>\n",
       "      <th>nodeId</th>\n",
       "    </tr>\n",
       "    <tr>\n",
       "      <th>Measurement</th>\n",
       "      <th></th>\n",
       "      <th></th>\n",
       "      <th></th>\n",
       "      <th></th>\n",
       "      <th></th>\n",
       "      <th></th>\n",
       "      <th></th>\n",
       "      <th></th>\n",
       "      <th></th>\n",
       "      <th></th>\n",
       "      <th></th>\n",
       "      <th></th>\n",
       "      <th></th>\n",
       "      <th></th>\n",
       "      <th></th>\n",
       "      <th></th>\n",
       "      <th></th>\n",
       "      <th></th>\n",
       "      <th></th>\n",
       "      <th></th>\n",
       "      <th></th>\n",
       "    </tr>\n",
       "  </thead>\n",
       "  <tbody>\n",
       "    <tr>\n",
       "      <th>novadaq-far-farm-06</th>\n",
       "      <td>14.204855</td>\n",
       "      <td>14.529020</td>\n",
       "      <td>14.595754</td>\n",
       "      <td>14.527076</td>\n",
       "      <td>14.695802</td>\n",
       "      <td>14.819769</td>\n",
       "      <td>14.771393</td>\n",
       "      <td>15.053273</td>\n",
       "      <td>15.005570</td>\n",
       "      <td>14.985103</td>\n",
       "      <td>...</td>\n",
       "      <td>14.518033</td>\n",
       "      <td>14.260034</td>\n",
       "      <td>14.057485</td>\n",
       "      <td>14.001678</td>\n",
       "      <td>14.051508</td>\n",
       "      <td>14.004384</td>\n",
       "      <td>13.249994</td>\n",
       "      <td>163.005566</td>\n",
       "      <td>-23.041363</td>\n",
       "      <td>novadaq-far-farm-06</td>\n",
       "    </tr>\n",
       "    <tr>\n",
       "      <th>novadaq-far-farm-07</th>\n",
       "      <td>14.191538</td>\n",
       "      <td>14.288319</td>\n",
       "      <td>14.280318</td>\n",
       "      <td>14.184694</td>\n",
       "      <td>14.342566</td>\n",
       "      <td>14.321914</td>\n",
       "      <td>14.286223</td>\n",
       "      <td>14.482700</td>\n",
       "      <td>13.994615</td>\n",
       "      <td>13.895074</td>\n",
       "      <td>...</td>\n",
       "      <td>13.996474</td>\n",
       "      <td>13.817163</td>\n",
       "      <td>13.910791</td>\n",
       "      <td>13.989786</td>\n",
       "      <td>13.788973</td>\n",
       "      <td>13.667170</td>\n",
       "      <td>13.743528</td>\n",
       "      <td>158.100508</td>\n",
       "      <td>-20.848159</td>\n",
       "      <td>novadaq-far-farm-07</td>\n",
       "    </tr>\n",
       "    <tr>\n",
       "      <th>novadaq-far-farm-08</th>\n",
       "      <td>13.867709</td>\n",
       "      <td>13.980150</td>\n",
       "      <td>14.257958</td>\n",
       "      <td>14.140448</td>\n",
       "      <td>14.328602</td>\n",
       "      <td>14.620714</td>\n",
       "      <td>14.689935</td>\n",
       "      <td>14.963546</td>\n",
       "      <td>14.885335</td>\n",
       "      <td>14.727220</td>\n",
       "      <td>...</td>\n",
       "      <td>14.356937</td>\n",
       "      <td>13.983936</td>\n",
       "      <td>13.894878</td>\n",
       "      <td>13.987314</td>\n",
       "      <td>13.988768</td>\n",
       "      <td>13.935955</td>\n",
       "      <td>14.041698</td>\n",
       "      <td>162.805725</td>\n",
       "      <td>-21.531884</td>\n",
       "      <td>novadaq-far-farm-08</td>\n",
       "    </tr>\n",
       "    <tr>\n",
       "      <th>novadaq-far-farm-09</th>\n",
       "      <td>14.365239</td>\n",
       "      <td>14.451469</td>\n",
       "      <td>14.593383</td>\n",
       "      <td>14.473979</td>\n",
       "      <td>14.580755</td>\n",
       "      <td>14.654891</td>\n",
       "      <td>14.666837</td>\n",
       "      <td>15.004310</td>\n",
       "      <td>14.957136</td>\n",
       "      <td>14.849907</td>\n",
       "      <td>...</td>\n",
       "      <td>14.464945</td>\n",
       "      <td>14.188718</td>\n",
       "      <td>14.064464</td>\n",
       "      <td>14.182088</td>\n",
       "      <td>14.417803</td>\n",
       "      <td>14.237016</td>\n",
       "      <td>14.304609</td>\n",
       "      <td>163.021252</td>\n",
       "      <td>-22.132281</td>\n",
       "      <td>novadaq-far-farm-09</td>\n",
       "    </tr>\n",
       "    <tr>\n",
       "      <th>novadaq-far-farm-10</th>\n",
       "      <td>14.650544</td>\n",
       "      <td>14.760595</td>\n",
       "      <td>14.738633</td>\n",
       "      <td>14.645543</td>\n",
       "      <td>14.782156</td>\n",
       "      <td>14.891453</td>\n",
       "      <td>14.823037</td>\n",
       "      <td>15.081571</td>\n",
       "      <td>14.920467</td>\n",
       "      <td>14.876750</td>\n",
       "      <td>...</td>\n",
       "      <td>13.563106</td>\n",
       "      <td>13.294218</td>\n",
       "      <td>13.257044</td>\n",
       "      <td>13.355054</td>\n",
       "      <td>13.298596</td>\n",
       "      <td>13.475724</td>\n",
       "      <td>13.900588</td>\n",
       "      <td>158.064192</td>\n",
       "      <td>-25.394730</td>\n",
       "      <td>novadaq-far-farm-10</td>\n",
       "    </tr>\n",
       "    <tr>\n",
       "      <th>...</th>\n",
       "      <td>...</td>\n",
       "      <td>...</td>\n",
       "      <td>...</td>\n",
       "      <td>...</td>\n",
       "      <td>...</td>\n",
       "      <td>...</td>\n",
       "      <td>...</td>\n",
       "      <td>...</td>\n",
       "      <td>...</td>\n",
       "      <td>...</td>\n",
       "      <td>...</td>\n",
       "      <td>...</td>\n",
       "      <td>...</td>\n",
       "      <td>...</td>\n",
       "      <td>...</td>\n",
       "      <td>...</td>\n",
       "      <td>...</td>\n",
       "      <td>...</td>\n",
       "      <td>...</td>\n",
       "      <td>...</td>\n",
       "      <td>...</td>\n",
       "    </tr>\n",
       "    <tr>\n",
       "      <th>novadaq-far-farm-95</th>\n",
       "      <td>-1.363917</td>\n",
       "      <td>-1.220481</td>\n",
       "      <td>0.221249</td>\n",
       "      <td>0.422926</td>\n",
       "      <td>0.133480</td>\n",
       "      <td>-0.145304</td>\n",
       "      <td>-0.245454</td>\n",
       "      <td>-0.083779</td>\n",
       "      <td>-0.217807</td>\n",
       "      <td>-0.313418</td>\n",
       "      <td>...</td>\n",
       "      <td>0.610606</td>\n",
       "      <td>0.038265</td>\n",
       "      <td>-0.312534</td>\n",
       "      <td>-0.621805</td>\n",
       "      <td>-1.030904</td>\n",
       "      <td>-0.984981</td>\n",
       "      <td>-1.384969</td>\n",
       "      <td>5.413388</td>\n",
       "      <td>4.231181</td>\n",
       "      <td>novadaq-far-farm-95</td>\n",
       "    </tr>\n",
       "    <tr>\n",
       "      <th>novadaq-far-farm-96</th>\n",
       "      <td>-0.780635</td>\n",
       "      <td>-0.132295</td>\n",
       "      <td>-0.086481</td>\n",
       "      <td>-0.178364</td>\n",
       "      <td>-0.335845</td>\n",
       "      <td>-0.040449</td>\n",
       "      <td>-0.329232</td>\n",
       "      <td>-0.455550</td>\n",
       "      <td>-0.921720</td>\n",
       "      <td>-0.752705</td>\n",
       "      <td>...</td>\n",
       "      <td>0.028650</td>\n",
       "      <td>0.190330</td>\n",
       "      <td>0.234107</td>\n",
       "      <td>-0.116123</td>\n",
       "      <td>-0.221321</td>\n",
       "      <td>0.092845</td>\n",
       "      <td>-0.634150</td>\n",
       "      <td>5.228870</td>\n",
       "      <td>5.424593</td>\n",
       "      <td>novadaq-far-farm-96</td>\n",
       "    </tr>\n",
       "    <tr>\n",
       "      <th>novadaq-far-farm-97</th>\n",
       "      <td>-0.161367</td>\n",
       "      <td>0.143991</td>\n",
       "      <td>0.214014</td>\n",
       "      <td>0.223463</td>\n",
       "      <td>0.335448</td>\n",
       "      <td>0.178709</td>\n",
       "      <td>-0.030628</td>\n",
       "      <td>-0.020182</td>\n",
       "      <td>-0.059246</td>\n",
       "      <td>-0.183174</td>\n",
       "      <td>...</td>\n",
       "      <td>0.357813</td>\n",
       "      <td>0.233694</td>\n",
       "      <td>0.037796</td>\n",
       "      <td>0.237247</td>\n",
       "      <td>0.709355</td>\n",
       "      <td>0.095341</td>\n",
       "      <td>0.117903</td>\n",
       "      <td>-2.040937</td>\n",
       "      <td>-6.190887</td>\n",
       "      <td>novadaq-far-farm-97</td>\n",
       "    </tr>\n",
       "    <tr>\n",
       "      <th>novadaq-far-farm-98</th>\n",
       "      <td>-0.465516</td>\n",
       "      <td>-1.039422</td>\n",
       "      <td>-0.519564</td>\n",
       "      <td>-0.603408</td>\n",
       "      <td>-0.616175</td>\n",
       "      <td>-0.682868</td>\n",
       "      <td>-0.658356</td>\n",
       "      <td>-0.673012</td>\n",
       "      <td>-0.493413</td>\n",
       "      <td>-0.636495</td>\n",
       "      <td>...</td>\n",
       "      <td>-0.117287</td>\n",
       "      <td>-0.374686</td>\n",
       "      <td>-0.351274</td>\n",
       "      <td>-0.615472</td>\n",
       "      <td>-0.423255</td>\n",
       "      <td>0.235899</td>\n",
       "      <td>0.933757</td>\n",
       "      <td>-2.570028</td>\n",
       "      <td>-3.034026</td>\n",
       "      <td>novadaq-far-farm-98</td>\n",
       "    </tr>\n",
       "    <tr>\n",
       "      <th>novadaq-far-farm-99</th>\n",
       "      <td>0.232555</td>\n",
       "      <td>0.056536</td>\n",
       "      <td>-0.140111</td>\n",
       "      <td>-0.036680</td>\n",
       "      <td>-0.113610</td>\n",
       "      <td>-0.046960</td>\n",
       "      <td>-0.066774</td>\n",
       "      <td>-0.023730</td>\n",
       "      <td>0.081581</td>\n",
       "      <td>0.097729</td>\n",
       "      <td>...</td>\n",
       "      <td>0.209793</td>\n",
       "      <td>0.237469</td>\n",
       "      <td>-0.486215</td>\n",
       "      <td>0.454028</td>\n",
       "      <td>0.762875</td>\n",
       "      <td>0.456329</td>\n",
       "      <td>0.304402</td>\n",
       "      <td>-3.389049</td>\n",
       "      <td>-4.889847</td>\n",
       "      <td>novadaq-far-farm-99</td>\n",
       "    </tr>\n",
       "  </tbody>\n",
       "</table>\n",
       "<p>195 rows × 1893 columns</p>\n",
       "</div>"
      ],
      "text/plain": [
       "Col                  2024-02-21 16:07:30  2024-02-21 16:07:45  \\\n",
       "Measurement                                                     \n",
       "novadaq-far-farm-06            14.204855            14.529020   \n",
       "novadaq-far-farm-07            14.191538            14.288319   \n",
       "novadaq-far-farm-08            13.867709            13.980150   \n",
       "novadaq-far-farm-09            14.365239            14.451469   \n",
       "novadaq-far-farm-10            14.650544            14.760595   \n",
       "...                                  ...                  ...   \n",
       "novadaq-far-farm-95            -1.363917            -1.220481   \n",
       "novadaq-far-farm-96            -0.780635            -0.132295   \n",
       "novadaq-far-farm-97            -0.161367             0.143991   \n",
       "novadaq-far-farm-98            -0.465516            -1.039422   \n",
       "novadaq-far-farm-99             0.232555             0.056536   \n",
       "\n",
       "Col                  2024-02-21 16:08:00  2024-02-21 16:08:15  \\\n",
       "Measurement                                                     \n",
       "novadaq-far-farm-06            14.595754            14.527076   \n",
       "novadaq-far-farm-07            14.280318            14.184694   \n",
       "novadaq-far-farm-08            14.257958            14.140448   \n",
       "novadaq-far-farm-09            14.593383            14.473979   \n",
       "novadaq-far-farm-10            14.738633            14.645543   \n",
       "...                                  ...                  ...   \n",
       "novadaq-far-farm-95             0.221249             0.422926   \n",
       "novadaq-far-farm-96            -0.086481            -0.178364   \n",
       "novadaq-far-farm-97             0.214014             0.223463   \n",
       "novadaq-far-farm-98            -0.519564            -0.603408   \n",
       "novadaq-far-farm-99            -0.140111            -0.036680   \n",
       "\n",
       "Col                  2024-02-21 16:08:30  2024-02-21 16:08:45  \\\n",
       "Measurement                                                     \n",
       "novadaq-far-farm-06            14.695802            14.819769   \n",
       "novadaq-far-farm-07            14.342566            14.321914   \n",
       "novadaq-far-farm-08            14.328602            14.620714   \n",
       "novadaq-far-farm-09            14.580755            14.654891   \n",
       "novadaq-far-farm-10            14.782156            14.891453   \n",
       "...                                  ...                  ...   \n",
       "novadaq-far-farm-95             0.133480            -0.145304   \n",
       "novadaq-far-farm-96            -0.335845            -0.040449   \n",
       "novadaq-far-farm-97             0.335448             0.178709   \n",
       "novadaq-far-farm-98            -0.616175            -0.682868   \n",
       "novadaq-far-farm-99            -0.113610            -0.046960   \n",
       "\n",
       "Col                  2024-02-21 16:09:00  2024-02-21 16:09:15  \\\n",
       "Measurement                                                     \n",
       "novadaq-far-farm-06            14.771393            15.053273   \n",
       "novadaq-far-farm-07            14.286223            14.482700   \n",
       "novadaq-far-farm-08            14.689935            14.963546   \n",
       "novadaq-far-farm-09            14.666837            15.004310   \n",
       "novadaq-far-farm-10            14.823037            15.081571   \n",
       "...                                  ...                  ...   \n",
       "novadaq-far-farm-95            -0.245454            -0.083779   \n",
       "novadaq-far-farm-96            -0.329232            -0.455550   \n",
       "novadaq-far-farm-97            -0.030628            -0.020182   \n",
       "novadaq-far-farm-98            -0.658356            -0.673012   \n",
       "novadaq-far-farm-99            -0.066774            -0.023730   \n",
       "\n",
       "Col                  2024-02-21 16:09:30  2024-02-21 16:09:45  ...  \\\n",
       "Measurement                                                    ...   \n",
       "novadaq-far-farm-06            15.005570            14.985103  ...   \n",
       "novadaq-far-farm-07            13.994615            13.895074  ...   \n",
       "novadaq-far-farm-08            14.885335            14.727220  ...   \n",
       "novadaq-far-farm-09            14.957136            14.849907  ...   \n",
       "novadaq-far-farm-10            14.920467            14.876750  ...   \n",
       "...                                  ...                  ...  ...   \n",
       "novadaq-far-farm-95            -0.217807            -0.313418  ...   \n",
       "novadaq-far-farm-96            -0.921720            -0.752705  ...   \n",
       "novadaq-far-farm-97            -0.059246            -0.183174  ...   \n",
       "novadaq-far-farm-98            -0.493413            -0.636495  ...   \n",
       "novadaq-far-farm-99             0.081581             0.097729  ...   \n",
       "\n",
       "Col                  2024-02-21 23:58:15  2024-02-21 23:58:30  \\\n",
       "Measurement                                                     \n",
       "novadaq-far-farm-06            14.518033            14.260034   \n",
       "novadaq-far-farm-07            13.996474            13.817163   \n",
       "novadaq-far-farm-08            14.356937            13.983936   \n",
       "novadaq-far-farm-09            14.464945            14.188718   \n",
       "novadaq-far-farm-10            13.563106            13.294218   \n",
       "...                                  ...                  ...   \n",
       "novadaq-far-farm-95             0.610606             0.038265   \n",
       "novadaq-far-farm-96             0.028650             0.190330   \n",
       "novadaq-far-farm-97             0.357813             0.233694   \n",
       "novadaq-far-farm-98            -0.117287            -0.374686   \n",
       "novadaq-far-farm-99             0.209793             0.237469   \n",
       "\n",
       "Col                  2024-02-21 23:58:45  2024-02-21 23:59:00  \\\n",
       "Measurement                                                     \n",
       "novadaq-far-farm-06            14.057485            14.001678   \n",
       "novadaq-far-farm-07            13.910791            13.989786   \n",
       "novadaq-far-farm-08            13.894878            13.987314   \n",
       "novadaq-far-farm-09            14.064464            14.182088   \n",
       "novadaq-far-farm-10            13.257044            13.355054   \n",
       "...                                  ...                  ...   \n",
       "novadaq-far-farm-95            -0.312534            -0.621805   \n",
       "novadaq-far-farm-96             0.234107            -0.116123   \n",
       "novadaq-far-farm-97             0.037796             0.237247   \n",
       "novadaq-far-farm-98            -0.351274            -0.615472   \n",
       "novadaq-far-farm-99            -0.486215             0.454028   \n",
       "\n",
       "Col                  2024-02-21 23:59:15  2024-02-21 23:59:30  \\\n",
       "Measurement                                                     \n",
       "novadaq-far-farm-06            14.051508            14.004384   \n",
       "novadaq-far-farm-07            13.788973            13.667170   \n",
       "novadaq-far-farm-08            13.988768            13.935955   \n",
       "novadaq-far-farm-09            14.417803            14.237016   \n",
       "novadaq-far-farm-10            13.298596            13.475724   \n",
       "...                                  ...                  ...   \n",
       "novadaq-far-farm-95            -1.030904            -0.984981   \n",
       "novadaq-far-farm-96            -0.221321             0.092845   \n",
       "novadaq-far-farm-97             0.709355             0.095341   \n",
       "novadaq-far-farm-98            -0.423255             0.235899   \n",
       "novadaq-far-farm-99             0.762875             0.456329   \n",
       "\n",
       "Col                  2024-02-21 23:59:45         PC1        PC2  \\\n",
       "Measurement                                                       \n",
       "novadaq-far-farm-06            13.249994  163.005566 -23.041363   \n",
       "novadaq-far-farm-07            13.743528  158.100508 -20.848159   \n",
       "novadaq-far-farm-08            14.041698  162.805725 -21.531884   \n",
       "novadaq-far-farm-09            14.304609  163.021252 -22.132281   \n",
       "novadaq-far-farm-10            13.900588  158.064192 -25.394730   \n",
       "...                                  ...         ...        ...   \n",
       "novadaq-far-farm-95            -1.384969    5.413388   4.231181   \n",
       "novadaq-far-farm-96            -0.634150    5.228870   5.424593   \n",
       "novadaq-far-farm-97             0.117903   -2.040937  -6.190887   \n",
       "novadaq-far-farm-98             0.933757   -2.570028  -3.034026   \n",
       "novadaq-far-farm-99             0.304402   -3.389049  -4.889847   \n",
       "\n",
       "Col                               nodeId  \n",
       "Measurement                               \n",
       "novadaq-far-farm-06  novadaq-far-farm-06  \n",
       "novadaq-far-farm-07  novadaq-far-farm-07  \n",
       "novadaq-far-farm-08  novadaq-far-farm-08  \n",
       "novadaq-far-farm-09  novadaq-far-farm-09  \n",
       "novadaq-far-farm-10  novadaq-far-farm-10  \n",
       "...                                  ...  \n",
       "novadaq-far-farm-95  novadaq-far-farm-95  \n",
       "novadaq-far-farm-96  novadaq-far-farm-96  \n",
       "novadaq-far-farm-97  novadaq-far-farm-97  \n",
       "novadaq-far-farm-98  novadaq-far-farm-98  \n",
       "novadaq-far-farm-99  novadaq-far-farm-99  \n",
       "\n",
       "[195 rows x 1893 columns]"
      ]
     },
     "execution_count": 14,
     "metadata": {},
     "output_type": "execute_result"
    }
   ],
   "source": [
    "P_df.set_index('Measurement', inplace=True)\n",
    "df_pca['PC1'] = P_df['PC1']\n",
    "df_pca['PC2'] = P_df['PC2']\n",
    "df_pca['nodeId'] = P_df.index\n",
    "df_pca"
   ]
  },
  {
   "cell_type": "code",
   "execution_count": 15,
   "metadata": {},
   "outputs": [
    {
     "data": {
      "application/vnd.plotly.v1+json": {
       "config": {
        "plotlyServerURL": "https://plot.ly"
       },
       "data": [
        {
         "customdata": [
          [
           "novadaq-far-farm-06"
          ],
          [
           "novadaq-far-farm-07"
          ],
          [
           "novadaq-far-farm-08"
          ],
          [
           "novadaq-far-farm-09"
          ],
          [
           "novadaq-far-farm-10"
          ],
          [
           "novadaq-far-farm-100"
          ],
          [
           "novadaq-far-farm-101"
          ],
          [
           "novadaq-far-farm-102"
          ],
          [
           "novadaq-far-farm-103"
          ],
          [
           "novadaq-far-farm-104"
          ],
          [
           "novadaq-far-farm-105"
          ],
          [
           "novadaq-far-farm-106"
          ],
          [
           "novadaq-far-farm-107"
          ],
          [
           "novadaq-far-farm-108"
          ],
          [
           "novadaq-far-farm-109"
          ],
          [
           "novadaq-far-farm-11"
          ],
          [
           "novadaq-far-farm-110"
          ],
          [
           "novadaq-far-farm-111"
          ],
          [
           "novadaq-far-farm-112"
          ],
          [
           "novadaq-far-farm-113"
          ],
          [
           "novadaq-far-farm-114"
          ],
          [
           "novadaq-far-farm-115"
          ],
          [
           "novadaq-far-farm-116"
          ],
          [
           "novadaq-far-farm-117"
          ],
          [
           "novadaq-far-farm-118"
          ],
          [
           "novadaq-far-farm-119"
          ],
          [
           "novadaq-far-farm-12"
          ],
          [
           "novadaq-far-farm-120"
          ],
          [
           "novadaq-far-farm-121"
          ],
          [
           "novadaq-far-farm-122"
          ],
          [
           "novadaq-far-farm-123"
          ],
          [
           "novadaq-far-farm-124"
          ],
          [
           "novadaq-far-farm-125"
          ],
          [
           "novadaq-far-farm-126"
          ],
          [
           "novadaq-far-farm-127"
          ],
          [
           "novadaq-far-farm-128"
          ],
          [
           "novadaq-far-farm-129"
          ],
          [
           "novadaq-far-farm-13"
          ],
          [
           "novadaq-far-farm-130"
          ],
          [
           "novadaq-far-farm-131"
          ],
          [
           "novadaq-far-farm-132"
          ],
          [
           "novadaq-far-farm-133"
          ],
          [
           "novadaq-far-farm-134"
          ],
          [
           "novadaq-far-farm-135"
          ],
          [
           "novadaq-far-farm-136"
          ],
          [
           "novadaq-far-farm-137"
          ],
          [
           "novadaq-far-farm-138"
          ],
          [
           "novadaq-far-farm-139"
          ],
          [
           "novadaq-far-farm-14"
          ],
          [
           "novadaq-far-farm-140"
          ],
          [
           "novadaq-far-farm-141"
          ],
          [
           "novadaq-far-farm-142"
          ],
          [
           "novadaq-far-farm-143"
          ],
          [
           "novadaq-far-farm-144"
          ],
          [
           "novadaq-far-farm-145"
          ],
          [
           "novadaq-far-farm-146"
          ],
          [
           "novadaq-far-farm-147"
          ],
          [
           "novadaq-far-farm-148"
          ],
          [
           "novadaq-far-farm-149"
          ],
          [
           "novadaq-far-farm-15"
          ],
          [
           "novadaq-far-farm-150"
          ],
          [
           "novadaq-far-farm-151"
          ],
          [
           "novadaq-far-farm-152"
          ],
          [
           "novadaq-far-farm-153"
          ],
          [
           "novadaq-far-farm-154"
          ],
          [
           "novadaq-far-farm-155"
          ],
          [
           "novadaq-far-farm-156"
          ],
          [
           "novadaq-far-farm-157"
          ],
          [
           "novadaq-far-farm-158"
          ],
          [
           "novadaq-far-farm-159"
          ],
          [
           "novadaq-far-farm-16"
          ],
          [
           "novadaq-far-farm-160"
          ],
          [
           "novadaq-far-farm-161"
          ],
          [
           "novadaq-far-farm-162"
          ],
          [
           "novadaq-far-farm-163"
          ],
          [
           "novadaq-far-farm-164"
          ],
          [
           "novadaq-far-farm-165"
          ],
          [
           "novadaq-far-farm-166"
          ],
          [
           "novadaq-far-farm-167"
          ],
          [
           "novadaq-far-farm-168"
          ],
          [
           "novadaq-far-farm-169"
          ],
          [
           "novadaq-far-farm-17"
          ],
          [
           "novadaq-far-farm-170"
          ],
          [
           "novadaq-far-farm-171"
          ],
          [
           "novadaq-far-farm-172"
          ],
          [
           "novadaq-far-farm-173"
          ],
          [
           "novadaq-far-farm-174"
          ],
          [
           "novadaq-far-farm-175"
          ],
          [
           "novadaq-far-farm-176"
          ],
          [
           "novadaq-far-farm-177"
          ],
          [
           "novadaq-far-farm-178"
          ],
          [
           "novadaq-far-farm-179"
          ],
          [
           "novadaq-far-farm-18"
          ],
          [
           "novadaq-far-farm-180"
          ],
          [
           "novadaq-far-farm-181"
          ],
          [
           "novadaq-far-farm-182"
          ],
          [
           "novadaq-far-farm-183"
          ],
          [
           "novadaq-far-farm-184"
          ],
          [
           "novadaq-far-farm-185"
          ],
          [
           "novadaq-far-farm-186"
          ],
          [
           "novadaq-far-farm-187"
          ],
          [
           "novadaq-far-farm-188"
          ],
          [
           "novadaq-far-farm-189"
          ],
          [
           "novadaq-far-farm-19"
          ],
          [
           "novadaq-far-farm-190"
          ],
          [
           "novadaq-far-farm-191"
          ],
          [
           "novadaq-far-farm-192"
          ],
          [
           "novadaq-far-farm-193"
          ],
          [
           "novadaq-far-farm-194"
          ],
          [
           "novadaq-far-farm-195"
          ],
          [
           "novadaq-far-farm-196"
          ],
          [
           "novadaq-far-farm-197"
          ],
          [
           "novadaq-far-farm-198"
          ],
          [
           "novadaq-far-farm-199"
          ],
          [
           "novadaq-far-farm-20"
          ],
          [
           "novadaq-far-farm-200"
          ],
          [
           "novadaq-far-farm-21"
          ],
          [
           "novadaq-far-farm-22"
          ],
          [
           "novadaq-far-farm-23"
          ],
          [
           "novadaq-far-farm-24"
          ],
          [
           "novadaq-far-farm-25"
          ],
          [
           "novadaq-far-farm-26"
          ],
          [
           "novadaq-far-farm-27"
          ],
          [
           "novadaq-far-farm-28"
          ],
          [
           "novadaq-far-farm-29"
          ],
          [
           "novadaq-far-farm-30"
          ],
          [
           "novadaq-far-farm-31"
          ],
          [
           "novadaq-far-farm-32"
          ],
          [
           "novadaq-far-farm-33"
          ],
          [
           "novadaq-far-farm-34"
          ],
          [
           "novadaq-far-farm-35"
          ],
          [
           "novadaq-far-farm-36"
          ],
          [
           "novadaq-far-farm-37"
          ],
          [
           "novadaq-far-farm-38"
          ],
          [
           "novadaq-far-farm-39"
          ],
          [
           "novadaq-far-farm-40"
          ],
          [
           "novadaq-far-farm-41"
          ],
          [
           "novadaq-far-farm-42"
          ],
          [
           "novadaq-far-farm-43"
          ],
          [
           "novadaq-far-farm-44"
          ],
          [
           "novadaq-far-farm-45"
          ],
          [
           "novadaq-far-farm-46"
          ],
          [
           "novadaq-far-farm-47"
          ],
          [
           "novadaq-far-farm-48"
          ],
          [
           "novadaq-far-farm-49"
          ],
          [
           "novadaq-far-farm-50"
          ],
          [
           "novadaq-far-farm-51"
          ],
          [
           "novadaq-far-farm-52"
          ],
          [
           "novadaq-far-farm-53"
          ],
          [
           "novadaq-far-farm-54"
          ],
          [
           "novadaq-far-farm-55"
          ],
          [
           "novadaq-far-farm-56"
          ],
          [
           "novadaq-far-farm-57"
          ],
          [
           "novadaq-far-farm-58"
          ],
          [
           "novadaq-far-farm-59"
          ],
          [
           "novadaq-far-farm-60"
          ],
          [
           "novadaq-far-farm-61"
          ],
          [
           "novadaq-far-farm-62"
          ],
          [
           "novadaq-far-farm-63"
          ],
          [
           "novadaq-far-farm-64"
          ],
          [
           "novadaq-far-farm-65"
          ],
          [
           "novadaq-far-farm-66"
          ],
          [
           "novadaq-far-farm-67"
          ],
          [
           "novadaq-far-farm-68"
          ],
          [
           "novadaq-far-farm-69"
          ],
          [
           "novadaq-far-farm-70"
          ],
          [
           "novadaq-far-farm-71"
          ],
          [
           "novadaq-far-farm-72"
          ],
          [
           "novadaq-far-farm-73"
          ],
          [
           "novadaq-far-farm-74"
          ],
          [
           "novadaq-far-farm-75"
          ],
          [
           "novadaq-far-farm-76"
          ],
          [
           "novadaq-far-farm-77"
          ],
          [
           "novadaq-far-farm-78"
          ],
          [
           "novadaq-far-farm-79"
          ],
          [
           "novadaq-far-farm-80"
          ],
          [
           "novadaq-far-farm-81"
          ],
          [
           "novadaq-far-farm-82"
          ],
          [
           "novadaq-far-farm-83"
          ],
          [
           "novadaq-far-farm-84"
          ],
          [
           "novadaq-far-farm-85"
          ],
          [
           "novadaq-far-farm-86"
          ],
          [
           "novadaq-far-farm-87"
          ],
          [
           "novadaq-far-farm-88"
          ],
          [
           "novadaq-far-farm-89"
          ],
          [
           "novadaq-far-farm-90"
          ],
          [
           "novadaq-far-farm-91"
          ],
          [
           "novadaq-far-farm-92"
          ],
          [
           "novadaq-far-farm-93"
          ],
          [
           "novadaq-far-farm-94"
          ],
          [
           "novadaq-far-farm-95"
          ],
          [
           "novadaq-far-farm-96"
          ],
          [
           "novadaq-far-farm-97"
          ],
          [
           "novadaq-far-farm-98"
          ],
          [
           "novadaq-far-farm-99"
          ]
         ],
         "hovertemplate": "PC1=%{x}<br>PC2=%{y}<br>nodeId=%{customdata[0]}<extra></extra>",
         "legendgroup": "",
         "marker": {
          "color": "#636efa",
          "symbol": "circle"
         },
         "mode": "markers",
         "name": "",
         "orientation": "v",
         "showlegend": false,
         "type": "scatter",
         "x": [
          163.00556572287596,
          158.10050826598498,
          162.80572461945962,
          163.02125158543168,
          158.0641915405809,
          -1.5594478777113119,
          -4.441790563789768,
          -2.7971623990937595,
          -1.8948302984668999,
          -9.860680815078718,
          5.280258056964459,
          6.5733369331379405,
          5.631385786205263,
          6.4700317850384454,
          6.662366151401423,
          -29.126055523703226,
          5.714494586650959,
          5.027545832066519,
          4.909276658303209,
          -1.8303710660939507,
          -2.025651755648479,
          -26.698254396872798,
          2.100365110160695,
          -2.7531236875180793,
          -4.446698895886907,
          -2.2613713110645417,
          94.66430431544755,
          -3.4777386784526554,
          -2.536057707270735,
          1.9776195394119298,
          -1.780954855100747,
          -4.467168793180832,
          -18.79309068159554,
          -17.55843660748857,
          -17.777625887159974,
          -17.883275591635048,
          -20.95128002676254,
          -26.62820937253392,
          78.13851994020801,
          76.29029699949724,
          -17.69263964921091,
          78.19975636667243,
          -19.60104604719579,
          -18.755053638614026,
          -19.918333385269058,
          -8.7687435769101,
          -16.69747915837142,
          -17.671194645034348,
          -27.414124995477035,
          -19.448613196596853,
          -39.66072871048502,
          78.2187232646331,
          -22.749420487768095,
          -19.258405919133825,
          -12.167975047251307,
          -19.513695150012786,
          -18.14242588494636,
          -18.037491106821424,
          -26.775891919083456,
          -30.976160205951533,
          65.40818007943547,
          -19.627957896942057,
          -18.673646517532024,
          -18.772636632562524,
          -17.2507683337991,
          -19.182646251302266,
          -19.827865813666033,
          -17.51599795668328,
          -19.25127950935294,
          -18.35098003001382,
          75.47128541341723,
          -17.663818206171317,
          -22.489955008684525,
          -21.021911798652866,
          -19.636141931076747,
          65.05469053218167,
          -4.728024538964375,
          -19.58054613731311,
          -19.21921924181443,
          -16.7134386751624,
          -19.60339227803855,
          -25.673632737948015,
          64.21936699821167,
          -20.870551015684775,
          -19.275485818493664,
          -18.89281213144863,
          -17.25432517139833,
          -19.891151048060763,
          -18.106573915402176,
          -18.964987684721688,
          -19.394294623300418,
          -19.873125611540573,
          -26.52106200744403,
          65.42103902681785,
          61.685012326902935,
          -19.161737343566717,
          -15.0335268387464,
          64.69157428065053,
          -18.234204322386603,
          -18.788327180076738,
          -19.93328746628229,
          -17.289268331141777,
          64.83053322691511,
          -26.752620328629426,
          -15.229252667623301,
          -18.209592354372003,
          -16.28505825225664,
          -14.877243058827569,
          -18.90530754112041,
          -15.645121972408777,
          -15.367719312956945,
          -3.6287722474081074,
          5.304275096916544,
          -2.83821765965624,
          55.5252255685466,
          -3.6223258240437533,
          9.071480442299102,
          -30.37120708410762,
          -28.309110515042864,
          -27.669696769378195,
          -25.43850259307539,
          -26.232156215325755,
          -29.463856572757617,
          64.72384828967802,
          -26.96118767928104,
          -28.776044719551194,
          -29.224909191552797,
          -26.915317284236934,
          -26.836809129663184,
          -19.22375352350797,
          64.39047770295392,
          -29.49561940814912,
          -29.358539332361257,
          -26.791471833471974,
          -29.367598910800293,
          -26.520025610801888,
          -30.510227709407825,
          -28.38576345859144,
          -27.276831649600652,
          -33.013398333343375,
          -29.300988581604894,
          -27.126399524327617,
          -28.714160499672527,
          -29.361848635109133,
          -28.899611314843714,
          -25.59433808266825,
          -14.304689753364748,
          -30.288398685827616,
          -4.1904114520582265,
          -2.1966470730922207,
          -3.1628171871652824,
          -27.535217802317966,
          -4.605236451229497,
          -3.902950642924752,
          64.66222202530767,
          -3.394190485202346,
          76.80221290540067,
          -2.489008509489252,
          -3.959937249887573,
          -3.1790328811882644,
          3.6011926629302,
          4.3809379805508195,
          4.064488513110148,
          4.973702658464546,
          4.829323774694792,
          4.7051785868006775,
          4.007859858032114,
          5.6178114893256055,
          -3.5741623385109795,
          -6.605713742456985,
          -2.2084042489037485,
          -1.9472201624591459,
          -2.6646471561406035,
          76.5224596098208,
          -5.371124746572773,
          -3.5429040770722433,
          -4.615219099648507,
          -2.2805813942907607,
          -3.2544903067377486,
          -6.39603445614432,
          -3.3120548115544843,
          -2.014822407796605,
          -4.373375947901495,
          -1.800099586229107,
          -3.6342910464613567,
          -2.580688151007405,
          -5.403391498108284,
          77.445248450765,
          5.3786734265553955,
          6.069580029871025,
          5.413388185707379,
          5.228869555576549,
          -2.0409368568035573,
          -2.570027687032893,
          -3.3890489592356987
         ],
         "xaxis": "x",
         "y": [
          -23.0413625523826,
          -20.848158823200816,
          -21.531883851619842,
          -22.132281187437826,
          -25.39472992692857,
          -6.350385511799194,
          -1.8874234161678825,
          -4.310248732986975,
          -4.535403536410619,
          0.20630327219393116,
          5.446966386623244,
          4.628327872202829,
          4.835855075429408,
          4.180248655825496,
          4.86185568852318,
          0.6685300026474011,
          5.142261748840981,
          5.901593740358204,
          4.648699423963085,
          -7.379169195147849,
          -3.690570150003755,
          -2.0326048768978415,
          -6.052233157227116,
          -4.628166265001409,
          -4.12978621213887,
          -4.0289641195069,
          -43.81647258953715,
          -4.801487767357321,
          -2.702524006056279,
          -2.4426461244241904,
          -4.932481106502141,
          -3.4721212867452493,
          1.1732381355305932,
          -0.3947875433239855,
          -2.7078785432000356,
          3.96553819531056,
          1.1858443804475014,
          -4.314649891804201,
          68.24670704335708,
          67.62136768148983,
          0.8987958768267316,
          67.73957173455737,
          -0.08895554005258399,
          0.08069626209955343,
          -0.062261698631311556,
          -4.6678770526783575,
          0.2931749640833514,
          -1.1916828759430267,
          -0.44110083004684614,
          0.20082467654398833,
          3.1695664901245406,
          67.62782082380981,
          1.1152453544703997,
          0.20770462960773295,
          -2.564723917749408,
          1.8194733903511184,
          2.569851180201694,
          0.18585168347615583,
          -1.7704439002158148,
          -1.2727564442631245,
          -19.709488307901207,
          -0.04136622601354354,
          -1.6985443905143411,
          0.5178697508995938,
          0.49710887996394265,
          0.5123041956977328,
          1.0007770229996822,
          0.9053902696500684,
          -0.3280700228245453,
          -0.6788996996172948,
          -27.77940099547582,
          -0.6778855994269182,
          3.343261128744425,
          1.4731727490148991,
          0.5615030679232671,
          -19.49655609899861,
          57.54200429864592,
          1.682767761852827,
          -0.8393999994051865,
          -1.633822797002182,
          -1.7167290874193186,
          0.7882325024269796,
          -20.263655532006428,
          1.2599320957153783,
          0.45976175284616577,
          1.1075991716592926,
          0.9811763427349319,
          0.34438711767131724,
          -0.08079941507033196,
          -1.6224876212898796,
          -1.0015172966395474,
          3.5091285614555057,
          -3.7069533492199924,
          -20.009482792766377,
          -19.405915143390907,
          -0.4983886589591162,
          -1.8973639273590872,
          -18.66868623394422,
          -1.3166404609957676,
          -0.9881514368851085,
          0.43681187808634236,
          -0.0553597592371519,
          -19.53090711407243,
          -1.161489558502298,
          -1.979707107316053,
          -0.5746548859659285,
          0.33985633758406547,
          0.3721856546841607,
          0.14219066298349828,
          -1.9061739592033655,
          1.011915496874129,
          -2.976730395880462,
          -2.7943813171778773,
          -4.857857199035433,
          -26.974995432183576,
          -5.04861572134014,
          8.328800928120147,
          -1.0150887145823553,
          0.45933878543103057,
          -0.5440939370695642,
          -2.14272697981274,
          3.917456421852301,
          -1.4620038125889643,
          -20.108195065736005,
          -2.118107176082168,
          -1.029976434542795,
          -0.9824523802791868,
          -2.626165735435742,
          -1.5117413653426939,
          -2.253681668489929,
          -19.967646408951637,
          1.2891164249439742,
          -1.3554551336460807,
          -1.803769694513821,
          0.6610071683214709,
          -1.2062309491287002,
          0.34055555057455245,
          -0.8276393298402442,
          -0.17173051525629213,
          -1.1517828631604172,
          -0.3281962486250021,
          0.7455838232911978,
          -1.7680159939835756,
          0.27475209916729276,
          -0.9661301766249346,
          -2.945226487649936,
          -0.7293718171591531,
          -0.42622039247107335,
          -5.562498543107706,
          -3.041913027288173,
          -4.9511423323649115,
          -2.2607304268891073,
          -5.083506581516359,
          -4.941836211237245,
          -19.401001076649635,
          -4.36215380414863,
          69.55935830108267,
          -2.5267724390911113,
          -3.1072486844020415,
          -3.7259007418223655,
          6.556273455315193,
          6.890435284737523,
          5.808643519414406,
          6.004358600134074,
          6.410666526660207,
          6.277618167178949,
          5.484453791398188,
          5.682419489211965,
          -4.83957485583647,
          -1.9093898331414068,
          -4.563739679012189,
          -4.575826738663677,
          -3.4296325522508386,
          67.7554079979767,
          -4.205078110265694,
          -5.248555983661452,
          -3.190550529137116,
          -4.434445516605845,
          -3.741421575593661,
          -5.3367728697790255,
          -6.609295978295559,
          -4.1976325113385355,
          -6.7027503475386885,
          -4.804868593362297,
          -4.4786478923591995,
          -3.425911011793432,
          -4.474698939129994,
          68.63856174793871,
          5.237979697716968,
          4.839393202872267,
          4.231181332437246,
          5.424592843697297,
          -6.190887342971402,
          -3.0340255218017367,
          -4.889846520026302
         ],
         "yaxis": "y"
        }
       ],
       "layout": {
        "legend": {
         "tracegroupgap": 0
        },
        "margin": {
         "t": 60
        },
        "template": {
         "data": {
          "bar": [
           {
            "error_x": {
             "color": "#2a3f5f"
            },
            "error_y": {
             "color": "#2a3f5f"
            },
            "marker": {
             "line": {
              "color": "#E5ECF6",
              "width": 0.5
             },
             "pattern": {
              "fillmode": "overlay",
              "size": 10,
              "solidity": 0.2
             }
            },
            "type": "bar"
           }
          ],
          "barpolar": [
           {
            "marker": {
             "line": {
              "color": "#E5ECF6",
              "width": 0.5
             },
             "pattern": {
              "fillmode": "overlay",
              "size": 10,
              "solidity": 0.2
             }
            },
            "type": "barpolar"
           }
          ],
          "carpet": [
           {
            "aaxis": {
             "endlinecolor": "#2a3f5f",
             "gridcolor": "white",
             "linecolor": "white",
             "minorgridcolor": "white",
             "startlinecolor": "#2a3f5f"
            },
            "baxis": {
             "endlinecolor": "#2a3f5f",
             "gridcolor": "white",
             "linecolor": "white",
             "minorgridcolor": "white",
             "startlinecolor": "#2a3f5f"
            },
            "type": "carpet"
           }
          ],
          "choropleth": [
           {
            "colorbar": {
             "outlinewidth": 0,
             "ticks": ""
            },
            "type": "choropleth"
           }
          ],
          "contour": [
           {
            "colorbar": {
             "outlinewidth": 0,
             "ticks": ""
            },
            "colorscale": [
             [
              0,
              "#0d0887"
             ],
             [
              0.1111111111111111,
              "#46039f"
             ],
             [
              0.2222222222222222,
              "#7201a8"
             ],
             [
              0.3333333333333333,
              "#9c179e"
             ],
             [
              0.4444444444444444,
              "#bd3786"
             ],
             [
              0.5555555555555556,
              "#d8576b"
             ],
             [
              0.6666666666666666,
              "#ed7953"
             ],
             [
              0.7777777777777778,
              "#fb9f3a"
             ],
             [
              0.8888888888888888,
              "#fdca26"
             ],
             [
              1,
              "#f0f921"
             ]
            ],
            "type": "contour"
           }
          ],
          "contourcarpet": [
           {
            "colorbar": {
             "outlinewidth": 0,
             "ticks": ""
            },
            "type": "contourcarpet"
           }
          ],
          "heatmap": [
           {
            "colorbar": {
             "outlinewidth": 0,
             "ticks": ""
            },
            "colorscale": [
             [
              0,
              "#0d0887"
             ],
             [
              0.1111111111111111,
              "#46039f"
             ],
             [
              0.2222222222222222,
              "#7201a8"
             ],
             [
              0.3333333333333333,
              "#9c179e"
             ],
             [
              0.4444444444444444,
              "#bd3786"
             ],
             [
              0.5555555555555556,
              "#d8576b"
             ],
             [
              0.6666666666666666,
              "#ed7953"
             ],
             [
              0.7777777777777778,
              "#fb9f3a"
             ],
             [
              0.8888888888888888,
              "#fdca26"
             ],
             [
              1,
              "#f0f921"
             ]
            ],
            "type": "heatmap"
           }
          ],
          "heatmapgl": [
           {
            "colorbar": {
             "outlinewidth": 0,
             "ticks": ""
            },
            "colorscale": [
             [
              0,
              "#0d0887"
             ],
             [
              0.1111111111111111,
              "#46039f"
             ],
             [
              0.2222222222222222,
              "#7201a8"
             ],
             [
              0.3333333333333333,
              "#9c179e"
             ],
             [
              0.4444444444444444,
              "#bd3786"
             ],
             [
              0.5555555555555556,
              "#d8576b"
             ],
             [
              0.6666666666666666,
              "#ed7953"
             ],
             [
              0.7777777777777778,
              "#fb9f3a"
             ],
             [
              0.8888888888888888,
              "#fdca26"
             ],
             [
              1,
              "#f0f921"
             ]
            ],
            "type": "heatmapgl"
           }
          ],
          "histogram": [
           {
            "marker": {
             "pattern": {
              "fillmode": "overlay",
              "size": 10,
              "solidity": 0.2
             }
            },
            "type": "histogram"
           }
          ],
          "histogram2d": [
           {
            "colorbar": {
             "outlinewidth": 0,
             "ticks": ""
            },
            "colorscale": [
             [
              0,
              "#0d0887"
             ],
             [
              0.1111111111111111,
              "#46039f"
             ],
             [
              0.2222222222222222,
              "#7201a8"
             ],
             [
              0.3333333333333333,
              "#9c179e"
             ],
             [
              0.4444444444444444,
              "#bd3786"
             ],
             [
              0.5555555555555556,
              "#d8576b"
             ],
             [
              0.6666666666666666,
              "#ed7953"
             ],
             [
              0.7777777777777778,
              "#fb9f3a"
             ],
             [
              0.8888888888888888,
              "#fdca26"
             ],
             [
              1,
              "#f0f921"
             ]
            ],
            "type": "histogram2d"
           }
          ],
          "histogram2dcontour": [
           {
            "colorbar": {
             "outlinewidth": 0,
             "ticks": ""
            },
            "colorscale": [
             [
              0,
              "#0d0887"
             ],
             [
              0.1111111111111111,
              "#46039f"
             ],
             [
              0.2222222222222222,
              "#7201a8"
             ],
             [
              0.3333333333333333,
              "#9c179e"
             ],
             [
              0.4444444444444444,
              "#bd3786"
             ],
             [
              0.5555555555555556,
              "#d8576b"
             ],
             [
              0.6666666666666666,
              "#ed7953"
             ],
             [
              0.7777777777777778,
              "#fb9f3a"
             ],
             [
              0.8888888888888888,
              "#fdca26"
             ],
             [
              1,
              "#f0f921"
             ]
            ],
            "type": "histogram2dcontour"
           }
          ],
          "mesh3d": [
           {
            "colorbar": {
             "outlinewidth": 0,
             "ticks": ""
            },
            "type": "mesh3d"
           }
          ],
          "parcoords": [
           {
            "line": {
             "colorbar": {
              "outlinewidth": 0,
              "ticks": ""
             }
            },
            "type": "parcoords"
           }
          ],
          "pie": [
           {
            "automargin": true,
            "type": "pie"
           }
          ],
          "scatter": [
           {
            "fillpattern": {
             "fillmode": "overlay",
             "size": 10,
             "solidity": 0.2
            },
            "type": "scatter"
           }
          ],
          "scatter3d": [
           {
            "line": {
             "colorbar": {
              "outlinewidth": 0,
              "ticks": ""
             }
            },
            "marker": {
             "colorbar": {
              "outlinewidth": 0,
              "ticks": ""
             }
            },
            "type": "scatter3d"
           }
          ],
          "scattercarpet": [
           {
            "marker": {
             "colorbar": {
              "outlinewidth": 0,
              "ticks": ""
             }
            },
            "type": "scattercarpet"
           }
          ],
          "scattergeo": [
           {
            "marker": {
             "colorbar": {
              "outlinewidth": 0,
              "ticks": ""
             }
            },
            "type": "scattergeo"
           }
          ],
          "scattergl": [
           {
            "marker": {
             "colorbar": {
              "outlinewidth": 0,
              "ticks": ""
             }
            },
            "type": "scattergl"
           }
          ],
          "scattermapbox": [
           {
            "marker": {
             "colorbar": {
              "outlinewidth": 0,
              "ticks": ""
             }
            },
            "type": "scattermapbox"
           }
          ],
          "scatterpolar": [
           {
            "marker": {
             "colorbar": {
              "outlinewidth": 0,
              "ticks": ""
             }
            },
            "type": "scatterpolar"
           }
          ],
          "scatterpolargl": [
           {
            "marker": {
             "colorbar": {
              "outlinewidth": 0,
              "ticks": ""
             }
            },
            "type": "scatterpolargl"
           }
          ],
          "scatterternary": [
           {
            "marker": {
             "colorbar": {
              "outlinewidth": 0,
              "ticks": ""
             }
            },
            "type": "scatterternary"
           }
          ],
          "surface": [
           {
            "colorbar": {
             "outlinewidth": 0,
             "ticks": ""
            },
            "colorscale": [
             [
              0,
              "#0d0887"
             ],
             [
              0.1111111111111111,
              "#46039f"
             ],
             [
              0.2222222222222222,
              "#7201a8"
             ],
             [
              0.3333333333333333,
              "#9c179e"
             ],
             [
              0.4444444444444444,
              "#bd3786"
             ],
             [
              0.5555555555555556,
              "#d8576b"
             ],
             [
              0.6666666666666666,
              "#ed7953"
             ],
             [
              0.7777777777777778,
              "#fb9f3a"
             ],
             [
              0.8888888888888888,
              "#fdca26"
             ],
             [
              1,
              "#f0f921"
             ]
            ],
            "type": "surface"
           }
          ],
          "table": [
           {
            "cells": {
             "fill": {
              "color": "#EBF0F8"
             },
             "line": {
              "color": "white"
             }
            },
            "header": {
             "fill": {
              "color": "#C8D4E3"
             },
             "line": {
              "color": "white"
             }
            },
            "type": "table"
           }
          ]
         },
         "layout": {
          "annotationdefaults": {
           "arrowcolor": "#2a3f5f",
           "arrowhead": 0,
           "arrowwidth": 1
          },
          "autotypenumbers": "strict",
          "coloraxis": {
           "colorbar": {
            "outlinewidth": 0,
            "ticks": ""
           }
          },
          "colorscale": {
           "diverging": [
            [
             0,
             "#8e0152"
            ],
            [
             0.1,
             "#c51b7d"
            ],
            [
             0.2,
             "#de77ae"
            ],
            [
             0.3,
             "#f1b6da"
            ],
            [
             0.4,
             "#fde0ef"
            ],
            [
             0.5,
             "#f7f7f7"
            ],
            [
             0.6,
             "#e6f5d0"
            ],
            [
             0.7,
             "#b8e186"
            ],
            [
             0.8,
             "#7fbc41"
            ],
            [
             0.9,
             "#4d9221"
            ],
            [
             1,
             "#276419"
            ]
           ],
           "sequential": [
            [
             0,
             "#0d0887"
            ],
            [
             0.1111111111111111,
             "#46039f"
            ],
            [
             0.2222222222222222,
             "#7201a8"
            ],
            [
             0.3333333333333333,
             "#9c179e"
            ],
            [
             0.4444444444444444,
             "#bd3786"
            ],
            [
             0.5555555555555556,
             "#d8576b"
            ],
            [
             0.6666666666666666,
             "#ed7953"
            ],
            [
             0.7777777777777778,
             "#fb9f3a"
            ],
            [
             0.8888888888888888,
             "#fdca26"
            ],
            [
             1,
             "#f0f921"
            ]
           ],
           "sequentialminus": [
            [
             0,
             "#0d0887"
            ],
            [
             0.1111111111111111,
             "#46039f"
            ],
            [
             0.2222222222222222,
             "#7201a8"
            ],
            [
             0.3333333333333333,
             "#9c179e"
            ],
            [
             0.4444444444444444,
             "#bd3786"
            ],
            [
             0.5555555555555556,
             "#d8576b"
            ],
            [
             0.6666666666666666,
             "#ed7953"
            ],
            [
             0.7777777777777778,
             "#fb9f3a"
            ],
            [
             0.8888888888888888,
             "#fdca26"
            ],
            [
             1,
             "#f0f921"
            ]
           ]
          },
          "colorway": [
           "#636efa",
           "#EF553B",
           "#00cc96",
           "#ab63fa",
           "#FFA15A",
           "#19d3f3",
           "#FF6692",
           "#B6E880",
           "#FF97FF",
           "#FECB52"
          ],
          "font": {
           "color": "#2a3f5f"
          },
          "geo": {
           "bgcolor": "white",
           "lakecolor": "white",
           "landcolor": "#E5ECF6",
           "showlakes": true,
           "showland": true,
           "subunitcolor": "white"
          },
          "hoverlabel": {
           "align": "left"
          },
          "hovermode": "closest",
          "mapbox": {
           "style": "light"
          },
          "paper_bgcolor": "white",
          "plot_bgcolor": "#E5ECF6",
          "polar": {
           "angularaxis": {
            "gridcolor": "white",
            "linecolor": "white",
            "ticks": ""
           },
           "bgcolor": "#E5ECF6",
           "radialaxis": {
            "gridcolor": "white",
            "linecolor": "white",
            "ticks": ""
           }
          },
          "scene": {
           "xaxis": {
            "backgroundcolor": "#E5ECF6",
            "gridcolor": "white",
            "gridwidth": 2,
            "linecolor": "white",
            "showbackground": true,
            "ticks": "",
            "zerolinecolor": "white"
           },
           "yaxis": {
            "backgroundcolor": "#E5ECF6",
            "gridcolor": "white",
            "gridwidth": 2,
            "linecolor": "white",
            "showbackground": true,
            "ticks": "",
            "zerolinecolor": "white"
           },
           "zaxis": {
            "backgroundcolor": "#E5ECF6",
            "gridcolor": "white",
            "gridwidth": 2,
            "linecolor": "white",
            "showbackground": true,
            "ticks": "",
            "zerolinecolor": "white"
           }
          },
          "shapedefaults": {
           "line": {
            "color": "#2a3f5f"
           }
          },
          "ternary": {
           "aaxis": {
            "gridcolor": "white",
            "linecolor": "white",
            "ticks": ""
           },
           "baxis": {
            "gridcolor": "white",
            "linecolor": "white",
            "ticks": ""
           },
           "bgcolor": "#E5ECF6",
           "caxis": {
            "gridcolor": "white",
            "linecolor": "white",
            "ticks": ""
           }
          },
          "title": {
           "x": 0.05
          },
          "xaxis": {
           "automargin": true,
           "gridcolor": "white",
           "linecolor": "white",
           "ticks": "",
           "title": {
            "standoff": 15
           },
           "zerolinecolor": "white",
           "zerolinewidth": 2
          },
          "yaxis": {
           "automargin": true,
           "gridcolor": "white",
           "linecolor": "white",
           "ticks": "",
           "title": {
            "standoff": 15
           },
           "zerolinecolor": "white",
           "zerolinewidth": 2
          }
         }
        },
        "title": {
         "text": "PCA Projection"
        },
        "xaxis": {
         "anchor": "y",
         "domain": [
          0,
          1
         ],
         "title": {
          "text": "PCA 1"
         }
        },
        "yaxis": {
         "anchor": "x",
         "domain": [
          0,
          1
         ],
         "title": {
          "text": "PCA 2"
         }
        }
       }
      }
     },
     "metadata": {},
     "output_type": "display_data"
    }
   ],
   "source": [
    "fig = px.scatter(df_pca, x=\"PC1\", y=\"PC2\", hover_data={'nodeId': True})\n",
    "\n",
    "fig.update_layout(title=\"PCA Projection\",\n",
    "                  xaxis_title=\"PCA 1\",\n",
    "                  yaxis_title=\"PCA 2\")\n",
    "\n",
    "fig.show()"
   ]
  },
  {
   "cell_type": "code",
   "execution_count": null,
   "metadata": {},
   "outputs": [],
   "source": [
    "df_pivot['PC1'] = df_pivot['PC1']\n",
    "df_pivot['PC2'] = df_pivot['PC2']\n",
    "df_pivot.drop(columns=['nodeId']).to_csv('multiDR_results2.csv')"
   ]
  }
 ],
 "metadata": {
  "kernelspec": {
   "display_name": "myenv",
   "language": "python",
   "name": "python3"
  },
  "language_info": {
   "codemirror_mode": {
    "name": "ipython",
    "version": 3
   },
   "file_extension": ".py",
   "mimetype": "text/x-python",
   "name": "python",
   "nbconvert_exporter": "python",
   "pygments_lexer": "ipython3",
   "version": "3.9.18"
  }
 },
 "nbformat": 4,
 "nbformat_minor": 2
}
