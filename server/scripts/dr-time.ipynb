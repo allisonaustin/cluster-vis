{
 "cells": [
  {
   "cell_type": "code",
   "execution_count": 1,
   "metadata": {},
   "outputs": [
    {
     "data": {
      "text/html": [
       "<div>\n",
       "<style scoped>\n",
       "    .dataframe tbody tr th:only-of-type {\n",
       "        vertical-align: middle;\n",
       "    }\n",
       "\n",
       "    .dataframe tbody tr th {\n",
       "        vertical-align: top;\n",
       "    }\n",
       "\n",
       "    .dataframe thead th {\n",
       "        text-align: right;\n",
       "    }\n",
       "</style>\n",
       "<table border=\"1\" class=\"dataframe\">\n",
       "  <thead>\n",
       "    <tr style=\"text-align: right;\">\n",
       "      <th></th>\n",
       "      <th>timestamp</th>\n",
       "      <th>cpu_system</th>\n",
       "      <th>boottime</th>\n",
       "      <th>Pool Size Time_P1</th>\n",
       "      <th>mem_free</th>\n",
       "      <th>Missed Buffers_P1</th>\n",
       "      <th>bytes_out</th>\n",
       "      <th>cpu_user</th>\n",
       "      <th>cpu_idle</th>\n",
       "      <th>Pool Size Data_P1</th>\n",
       "      <th>...</th>\n",
       "      <th>RetransSegs_rate</th>\n",
       "      <th>TCPLostRetransmit_rate</th>\n",
       "      <th>TCPForwardRetrans_rate</th>\n",
       "      <th>TotalRetrans</th>\n",
       "      <th>TCPSlowStartRetrans</th>\n",
       "      <th>RPCRetrans</th>\n",
       "      <th>TCPFastRetrans</th>\n",
       "      <th>TCPLostRetransmit</th>\n",
       "      <th>TCPForwardRetrans</th>\n",
       "      <th>RetransSegs</th>\n",
       "    </tr>\n",
       "  </thead>\n",
       "  <tbody>\n",
       "    <tr>\n",
       "      <th>0</th>\n",
       "      <td>2024-02-21 05:36:00</td>\n",
       "      <td>2.100000</td>\n",
       "      <td>0.000000e+00</td>\n",
       "      <td>0.000000</td>\n",
       "      <td>0.0</td>\n",
       "      <td>0.0</td>\n",
       "      <td>0.0</td>\n",
       "      <td>1.006667</td>\n",
       "      <td>0.0</td>\n",
       "      <td>0.000000</td>\n",
       "      <td>...</td>\n",
       "      <td>0.0</td>\n",
       "      <td>0.0</td>\n",
       "      <td>0.0</td>\n",
       "      <td>0.0</td>\n",
       "      <td>0.0</td>\n",
       "      <td>0.0</td>\n",
       "      <td>0.0</td>\n",
       "      <td>0.0</td>\n",
       "      <td>0.0</td>\n",
       "      <td>0.0</td>\n",
       "    </tr>\n",
       "    <tr>\n",
       "      <th>1</th>\n",
       "      <td>2024-02-21 05:36:15</td>\n",
       "      <td>2.100000</td>\n",
       "      <td>0.000000e+00</td>\n",
       "      <td>2038.710000</td>\n",
       "      <td>0.0</td>\n",
       "      <td>0.0</td>\n",
       "      <td>0.0</td>\n",
       "      <td>1.300000</td>\n",
       "      <td>0.0</td>\n",
       "      <td>0.000000</td>\n",
       "      <td>...</td>\n",
       "      <td>0.0</td>\n",
       "      <td>0.0</td>\n",
       "      <td>0.0</td>\n",
       "      <td>0.0</td>\n",
       "      <td>0.0</td>\n",
       "      <td>0.0</td>\n",
       "      <td>0.0</td>\n",
       "      <td>0.0</td>\n",
       "      <td>0.0</td>\n",
       "      <td>0.0</td>\n",
       "    </tr>\n",
       "    <tr>\n",
       "      <th>2</th>\n",
       "      <td>2024-02-21 05:36:30</td>\n",
       "      <td>1.993333</td>\n",
       "      <td>0.000000e+00</td>\n",
       "      <td>2055.490000</td>\n",
       "      <td>0.0</td>\n",
       "      <td>0.0</td>\n",
       "      <td>0.0</td>\n",
       "      <td>1.300000</td>\n",
       "      <td>0.0</td>\n",
       "      <td>11795.033333</td>\n",
       "      <td>...</td>\n",
       "      <td>0.0</td>\n",
       "      <td>0.0</td>\n",
       "      <td>0.0</td>\n",
       "      <td>0.0</td>\n",
       "      <td>0.0</td>\n",
       "      <td>0.0</td>\n",
       "      <td>0.0</td>\n",
       "      <td>0.0</td>\n",
       "      <td>0.0</td>\n",
       "      <td>0.0</td>\n",
       "    </tr>\n",
       "    <tr>\n",
       "      <th>3</th>\n",
       "      <td>2024-02-21 05:36:45</td>\n",
       "      <td>1.806667</td>\n",
       "      <td>0.000000e+00</td>\n",
       "      <td>2049.026000</td>\n",
       "      <td>0.0</td>\n",
       "      <td>0.0</td>\n",
       "      <td>0.0</td>\n",
       "      <td>1.300000</td>\n",
       "      <td>0.0</td>\n",
       "      <td>11892.133333</td>\n",
       "      <td>...</td>\n",
       "      <td>0.0</td>\n",
       "      <td>0.0</td>\n",
       "      <td>0.0</td>\n",
       "      <td>0.0</td>\n",
       "      <td>0.0</td>\n",
       "      <td>0.0</td>\n",
       "      <td>0.0</td>\n",
       "      <td>0.0</td>\n",
       "      <td>0.0</td>\n",
       "      <td>0.0</td>\n",
       "    </tr>\n",
       "    <tr>\n",
       "      <th>4</th>\n",
       "      <td>2024-02-21 05:37:00</td>\n",
       "      <td>2.100000</td>\n",
       "      <td>1.705514e+09</td>\n",
       "      <td>2014.643333</td>\n",
       "      <td>0.0</td>\n",
       "      <td>0.0</td>\n",
       "      <td>0.0</td>\n",
       "      <td>1.110000</td>\n",
       "      <td>0.0</td>\n",
       "      <td>11854.600000</td>\n",
       "      <td>...</td>\n",
       "      <td>0.0</td>\n",
       "      <td>0.0</td>\n",
       "      <td>0.0</td>\n",
       "      <td>0.0</td>\n",
       "      <td>0.0</td>\n",
       "      <td>0.0</td>\n",
       "      <td>0.0</td>\n",
       "      <td>0.0</td>\n",
       "      <td>0.0</td>\n",
       "      <td>0.0</td>\n",
       "    </tr>\n",
       "  </tbody>\n",
       "</table>\n",
       "<p>5 rows × 48 columns</p>\n",
       "</div>"
      ],
      "text/plain": [
       "             timestamp  cpu_system      boottime  Pool Size Time_P1  mem_free  \\\n",
       "0  2024-02-21 05:36:00    2.100000  0.000000e+00           0.000000       0.0   \n",
       "1  2024-02-21 05:36:15    2.100000  0.000000e+00        2038.710000       0.0   \n",
       "2  2024-02-21 05:36:30    1.993333  0.000000e+00        2055.490000       0.0   \n",
       "3  2024-02-21 05:36:45    1.806667  0.000000e+00        2049.026000       0.0   \n",
       "4  2024-02-21 05:37:00    2.100000  1.705514e+09        2014.643333       0.0   \n",
       "\n",
       "   Missed Buffers_P1  bytes_out  cpu_user  cpu_idle  Pool Size Data_P1  ...  \\\n",
       "0                0.0        0.0  1.006667       0.0           0.000000  ...   \n",
       "1                0.0        0.0  1.300000       0.0           0.000000  ...   \n",
       "2                0.0        0.0  1.300000       0.0       11795.033333  ...   \n",
       "3                0.0        0.0  1.300000       0.0       11892.133333  ...   \n",
       "4                0.0        0.0  1.110000       0.0       11854.600000  ...   \n",
       "\n",
       "   RetransSegs_rate  TCPLostRetransmit_rate  TCPForwardRetrans_rate  \\\n",
       "0               0.0                     0.0                     0.0   \n",
       "1               0.0                     0.0                     0.0   \n",
       "2               0.0                     0.0                     0.0   \n",
       "3               0.0                     0.0                     0.0   \n",
       "4               0.0                     0.0                     0.0   \n",
       "\n",
       "   TotalRetrans  TCPSlowStartRetrans  RPCRetrans  TCPFastRetrans  \\\n",
       "0           0.0                  0.0         0.0             0.0   \n",
       "1           0.0                  0.0         0.0             0.0   \n",
       "2           0.0                  0.0         0.0             0.0   \n",
       "3           0.0                  0.0         0.0             0.0   \n",
       "4           0.0                  0.0         0.0             0.0   \n",
       "\n",
       "   TCPLostRetransmit  TCPForwardRetrans  RetransSegs  \n",
       "0                0.0                0.0          0.0  \n",
       "1                0.0                0.0          0.0  \n",
       "2                0.0                0.0          0.0  \n",
       "3                0.0                0.0          0.0  \n",
       "4                0.0                0.0          0.0  \n",
       "\n",
       "[5 rows x 48 columns]"
      ]
     },
     "execution_count": 1,
     "metadata": {},
     "output_type": "execute_result"
    }
   ],
   "source": [
    "import numpy as np\n",
    "import pandas as pd \n",
    "import plotly.express as px\n",
    "import json \n",
    "import os\n",
    "\n",
    "df_f = pd.read_csv('../data/farm/far_data_2024-02-21.csv').fillna(0.0)\n",
    "df_f.head()"
   ]
  },
  {
   "cell_type": "markdown",
   "metadata": {},
   "source": [
    "Dimensionality Reduction (DR) across time domain, feature domain"
   ]
  },
  {
   "cell_type": "code",
   "execution_count": null,
   "metadata": {},
   "outputs": [],
   "source": [
    "from pygam import GAM, s\n",
    "from scipy.interpolate import BSpline, splrep, splev\n",
    "from sklearn.decomposition import PCA\n",
    "from sklearn.preprocessing import StandardScaler\n",
    "\n",
    "def preprocess(df, value_column):\n",
    "    return df.loc[:, ['timestamp', 'nodeId', value_column]] \\\n",
    "             .pivot_table(index='timestamp', columns='nodeId', values=value_column) \\\n",
    "             .apply(lambda row: row.fillna(0.0), axis=0).T\n",
    "\n",
    "# DR1 - applying PCA to each variable across the time domain\n",
    "def apply_pca_to_feature(col_name, df):\n",
    "    try:\n",
    "        # pivot: rows -> timestamps, columns -> nodeId\n",
    "        X = preprocess(df, col_name)\n",
    "\n",
    "        # convert to cupy array\n",
    "        # baseline = cp.array(X.values)\n",
    "        baseline = X.values\n",
    "\n",
    "        # normalizing the data (demean)\n",
    "        mean_hat = baseline.mean(axis=0)\n",
    "        demeaned = baseline - mean_hat\n",
    "\n",
    "        # standardize\n",
    "        scaler = StandardScaler()\n",
    "        X_scaled = scaler.fit_transform(demeaned)\n",
    "\n",
    "        if (X_scaled.shape[0] < 2 or np.all(np.isnan(X_scaled)) or np.all(X_scaled == 0)):\n",
    "            print(f\"Skipping {col_name} due to insufficient data variance.\")\n",
    "            return None\n",
    "\n",
    "        # apply PCA\n",
    "        pca = PCA(n_components=3)\n",
    "        scores = pca.fit_transform(X_scaled)\n",
    "\n",
    "        explained_variance_ratio_cumsum = np.cumsum(pca.explained_variance_ratio_)\n",
    "        npc = np.sum(explained_variance_ratio_cumsum < 0.9999) + 1\n",
    "        print(f\"Number of principal components: {npc}\")\n",
    "        print(f\"PC1:\",pca.components_[1], len(pca.components_[1]))\n",
    "        comp = np.array(pca.components_[1])\n",
    "        # most influential timestamp for this column\n",
    "        fc_t = X.columns[np.argmax(comp)]\n",
    "\n",
    "        P_fin = pd.DataFrame({f\"PC{k+1}\": scores[:, k] if k < npc else np.nan for k in range(3)})\n",
    "        P_fin['Measurement'] = X.index\n",
    "        P_fin['FC_t'] = fc_t\n",
    "\n",
    "        # print(f\"{col_name} done...\")\n",
    "\n",
    "        return P_fin \n",
    "    \n",
    "    except Exception as e:\n",
    "        print(f\"Error processing {col_name}: {e}\")\n",
    "        return None"
   ]
  },
  {
   "cell_type": "code",
   "execution_count": 14,
   "metadata": {},
   "outputs": [
    {
     "data": {
      "text/html": [
       "<div>\n",
       "<style scoped>\n",
       "    .dataframe tbody tr th:only-of-type {\n",
       "        vertical-align: middle;\n",
       "    }\n",
       "\n",
       "    .dataframe tbody tr th {\n",
       "        vertical-align: top;\n",
       "    }\n",
       "\n",
       "    .dataframe thead th {\n",
       "        text-align: right;\n",
       "    }\n",
       "</style>\n",
       "<table border=\"1\" class=\"dataframe\">\n",
       "  <thead>\n",
       "    <tr style=\"text-align: right;\">\n",
       "      <th>timestamp</th>\n",
       "      <th>2024-02-21 05:36:00</th>\n",
       "      <th>2024-02-21 05:36:15</th>\n",
       "      <th>2024-02-21 05:36:30</th>\n",
       "      <th>2024-02-21 05:36:45</th>\n",
       "      <th>2024-02-21 05:37:00</th>\n",
       "      <th>2024-02-21 05:37:15</th>\n",
       "      <th>2024-02-21 05:37:30</th>\n",
       "      <th>2024-02-21 05:37:45</th>\n",
       "      <th>2024-02-21 05:38:00</th>\n",
       "      <th>2024-02-21 05:38:15</th>\n",
       "      <th>...</th>\n",
       "      <th>2024-02-21 23:57:30</th>\n",
       "      <th>2024-02-21 23:57:45</th>\n",
       "      <th>2024-02-21 23:58:00</th>\n",
       "      <th>2024-02-21 23:58:15</th>\n",
       "      <th>2024-02-21 23:58:30</th>\n",
       "      <th>2024-02-21 23:58:45</th>\n",
       "      <th>2024-02-21 23:59:00</th>\n",
       "      <th>2024-02-21 23:59:15</th>\n",
       "      <th>2024-02-21 23:59:30</th>\n",
       "      <th>2024-02-21 23:59:45</th>\n",
       "    </tr>\n",
       "    <tr>\n",
       "      <th>nodeId</th>\n",
       "      <th></th>\n",
       "      <th></th>\n",
       "      <th></th>\n",
       "      <th></th>\n",
       "      <th></th>\n",
       "      <th></th>\n",
       "      <th></th>\n",
       "      <th></th>\n",
       "      <th></th>\n",
       "      <th></th>\n",
       "      <th></th>\n",
       "      <th></th>\n",
       "      <th></th>\n",
       "      <th></th>\n",
       "      <th></th>\n",
       "      <th></th>\n",
       "      <th></th>\n",
       "      <th></th>\n",
       "      <th></th>\n",
       "      <th></th>\n",
       "      <th></th>\n",
       "    </tr>\n",
       "  </thead>\n",
       "  <tbody>\n",
       "    <tr>\n",
       "      <th>novadaq-far-farm-06</th>\n",
       "      <td>0.0</td>\n",
       "      <td>0.0</td>\n",
       "      <td>0.0</td>\n",
       "      <td>0.0</td>\n",
       "      <td>0.0</td>\n",
       "      <td>0.0</td>\n",
       "      <td>0.0</td>\n",
       "      <td>0.0</td>\n",
       "      <td>0.0</td>\n",
       "      <td>0.0</td>\n",
       "      <td>...</td>\n",
       "      <td>99.600000</td>\n",
       "      <td>99.640000</td>\n",
       "      <td>99.900000</td>\n",
       "      <td>99.900000</td>\n",
       "      <td>99.900000</td>\n",
       "      <td>99.90</td>\n",
       "      <td>99.90</td>\n",
       "      <td>99.900000</td>\n",
       "      <td>99.900000</td>\n",
       "      <td>99.900000</td>\n",
       "    </tr>\n",
       "    <tr>\n",
       "      <th>novadaq-far-farm-07</th>\n",
       "      <td>0.0</td>\n",
       "      <td>0.0</td>\n",
       "      <td>0.0</td>\n",
       "      <td>0.0</td>\n",
       "      <td>0.0</td>\n",
       "      <td>0.0</td>\n",
       "      <td>0.0</td>\n",
       "      <td>0.0</td>\n",
       "      <td>0.0</td>\n",
       "      <td>0.0</td>\n",
       "      <td>...</td>\n",
       "      <td>100.000000</td>\n",
       "      <td>99.603333</td>\n",
       "      <td>99.603333</td>\n",
       "      <td>99.300000</td>\n",
       "      <td>99.300000</td>\n",
       "      <td>99.30</td>\n",
       "      <td>99.30</td>\n",
       "      <td>99.300000</td>\n",
       "      <td>99.860000</td>\n",
       "      <td>99.900000</td>\n",
       "    </tr>\n",
       "    <tr>\n",
       "      <th>novadaq-far-farm-08</th>\n",
       "      <td>0.0</td>\n",
       "      <td>0.0</td>\n",
       "      <td>0.0</td>\n",
       "      <td>0.0</td>\n",
       "      <td>0.0</td>\n",
       "      <td>0.0</td>\n",
       "      <td>0.0</td>\n",
       "      <td>0.0</td>\n",
       "      <td>0.0</td>\n",
       "      <td>0.0</td>\n",
       "      <td>...</td>\n",
       "      <td>100.000000</td>\n",
       "      <td>100.000000</td>\n",
       "      <td>99.943333</td>\n",
       "      <td>99.943333</td>\n",
       "      <td>99.900000</td>\n",
       "      <td>99.90</td>\n",
       "      <td>99.90</td>\n",
       "      <td>99.900000</td>\n",
       "      <td>99.900000</td>\n",
       "      <td>99.900000</td>\n",
       "    </tr>\n",
       "    <tr>\n",
       "      <th>novadaq-far-farm-09</th>\n",
       "      <td>0.0</td>\n",
       "      <td>0.0</td>\n",
       "      <td>0.0</td>\n",
       "      <td>0.0</td>\n",
       "      <td>0.0</td>\n",
       "      <td>0.0</td>\n",
       "      <td>0.0</td>\n",
       "      <td>0.0</td>\n",
       "      <td>0.0</td>\n",
       "      <td>0.0</td>\n",
       "      <td>...</td>\n",
       "      <td>99.700000</td>\n",
       "      <td>99.726667</td>\n",
       "      <td>99.900000</td>\n",
       "      <td>99.900000</td>\n",
       "      <td>99.900000</td>\n",
       "      <td>99.90</td>\n",
       "      <td>99.90</td>\n",
       "      <td>99.786667</td>\n",
       "      <td>99.786667</td>\n",
       "      <td>99.700000</td>\n",
       "    </tr>\n",
       "    <tr>\n",
       "      <th>novadaq-far-farm-10</th>\n",
       "      <td>0.0</td>\n",
       "      <td>0.0</td>\n",
       "      <td>0.0</td>\n",
       "      <td>0.0</td>\n",
       "      <td>0.0</td>\n",
       "      <td>0.0</td>\n",
       "      <td>0.0</td>\n",
       "      <td>0.0</td>\n",
       "      <td>0.0</td>\n",
       "      <td>0.0</td>\n",
       "      <td>...</td>\n",
       "      <td>99.900000</td>\n",
       "      <td>99.900000</td>\n",
       "      <td>99.900000</td>\n",
       "      <td>99.900000</td>\n",
       "      <td>99.900000</td>\n",
       "      <td>99.90</td>\n",
       "      <td>99.62</td>\n",
       "      <td>99.600000</td>\n",
       "      <td>99.600000</td>\n",
       "      <td>99.600000</td>\n",
       "    </tr>\n",
       "    <tr>\n",
       "      <th>...</th>\n",
       "      <td>...</td>\n",
       "      <td>...</td>\n",
       "      <td>...</td>\n",
       "      <td>...</td>\n",
       "      <td>...</td>\n",
       "      <td>...</td>\n",
       "      <td>...</td>\n",
       "      <td>...</td>\n",
       "      <td>...</td>\n",
       "      <td>...</td>\n",
       "      <td>...</td>\n",
       "      <td>...</td>\n",
       "      <td>...</td>\n",
       "      <td>...</td>\n",
       "      <td>...</td>\n",
       "      <td>...</td>\n",
       "      <td>...</td>\n",
       "      <td>...</td>\n",
       "      <td>...</td>\n",
       "      <td>...</td>\n",
       "      <td>...</td>\n",
       "    </tr>\n",
       "    <tr>\n",
       "      <th>novadaq-far-farm-95</th>\n",
       "      <td>0.0</td>\n",
       "      <td>0.0</td>\n",
       "      <td>0.0</td>\n",
       "      <td>0.0</td>\n",
       "      <td>0.0</td>\n",
       "      <td>0.0</td>\n",
       "      <td>0.0</td>\n",
       "      <td>0.0</td>\n",
       "      <td>0.0</td>\n",
       "      <td>0.0</td>\n",
       "      <td>...</td>\n",
       "      <td>57.146667</td>\n",
       "      <td>58.100000</td>\n",
       "      <td>58.100000</td>\n",
       "      <td>57.073333</td>\n",
       "      <td>54.660000</td>\n",
       "      <td>59.76</td>\n",
       "      <td>60.60</td>\n",
       "      <td>55.746667</td>\n",
       "      <td>60.340000</td>\n",
       "      <td>56.620000</td>\n",
       "    </tr>\n",
       "    <tr>\n",
       "      <th>novadaq-far-farm-96</th>\n",
       "      <td>0.0</td>\n",
       "      <td>0.0</td>\n",
       "      <td>0.0</td>\n",
       "      <td>0.0</td>\n",
       "      <td>0.0</td>\n",
       "      <td>0.0</td>\n",
       "      <td>0.0</td>\n",
       "      <td>0.0</td>\n",
       "      <td>0.0</td>\n",
       "      <td>0.0</td>\n",
       "      <td>...</td>\n",
       "      <td>59.180000</td>\n",
       "      <td>56.626667</td>\n",
       "      <td>54.120000</td>\n",
       "      <td>53.800000</td>\n",
       "      <td>56.880000</td>\n",
       "      <td>57.10</td>\n",
       "      <td>55.14</td>\n",
       "      <td>55.000000</td>\n",
       "      <td>58.400000</td>\n",
       "      <td>56.100000</td>\n",
       "    </tr>\n",
       "    <tr>\n",
       "      <th>novadaq-far-farm-97</th>\n",
       "      <td>0.0</td>\n",
       "      <td>0.0</td>\n",
       "      <td>0.0</td>\n",
       "      <td>0.0</td>\n",
       "      <td>0.0</td>\n",
       "      <td>0.0</td>\n",
       "      <td>0.0</td>\n",
       "      <td>0.0</td>\n",
       "      <td>0.0</td>\n",
       "      <td>0.0</td>\n",
       "      <td>...</td>\n",
       "      <td>54.400000</td>\n",
       "      <td>58.646667</td>\n",
       "      <td>59.300000</td>\n",
       "      <td>59.300000</td>\n",
       "      <td>57.046667</td>\n",
       "      <td>56.70</td>\n",
       "      <td>56.70</td>\n",
       "      <td>56.700000</td>\n",
       "      <td>54.460000</td>\n",
       "      <td>54.300000</td>\n",
       "    </tr>\n",
       "    <tr>\n",
       "      <th>novadaq-far-farm-98</th>\n",
       "      <td>0.0</td>\n",
       "      <td>0.0</td>\n",
       "      <td>0.0</td>\n",
       "      <td>0.0</td>\n",
       "      <td>0.0</td>\n",
       "      <td>0.0</td>\n",
       "      <td>0.0</td>\n",
       "      <td>0.0</td>\n",
       "      <td>0.0</td>\n",
       "      <td>0.0</td>\n",
       "      <td>...</td>\n",
       "      <td>56.413333</td>\n",
       "      <td>54.080000</td>\n",
       "      <td>57.440000</td>\n",
       "      <td>53.800000</td>\n",
       "      <td>53.800000</td>\n",
       "      <td>53.80</td>\n",
       "      <td>53.80</td>\n",
       "      <td>53.800000</td>\n",
       "      <td>54.990000</td>\n",
       "      <td>54.990000</td>\n",
       "    </tr>\n",
       "    <tr>\n",
       "      <th>novadaq-far-farm-99</th>\n",
       "      <td>0.0</td>\n",
       "      <td>0.0</td>\n",
       "      <td>0.0</td>\n",
       "      <td>0.0</td>\n",
       "      <td>0.0</td>\n",
       "      <td>0.0</td>\n",
       "      <td>0.0</td>\n",
       "      <td>0.0</td>\n",
       "      <td>0.0</td>\n",
       "      <td>0.0</td>\n",
       "      <td>...</td>\n",
       "      <td>55.606667</td>\n",
       "      <td>62.700000</td>\n",
       "      <td>62.700000</td>\n",
       "      <td>54.806667</td>\n",
       "      <td>58.753333</td>\n",
       "      <td>53.90</td>\n",
       "      <td>54.58</td>\n",
       "      <td>57.026667</td>\n",
       "      <td>57.026667</td>\n",
       "      <td>55.646667</td>\n",
       "    </tr>\n",
       "  </tbody>\n",
       "</table>\n",
       "<p>195 rows × 4416 columns</p>\n",
       "</div>"
      ],
      "text/plain": [
       "timestamp            2024-02-21 05:36:00  2024-02-21 05:36:15  \\\n",
       "nodeId                                                          \n",
       "novadaq-far-farm-06                  0.0                  0.0   \n",
       "novadaq-far-farm-07                  0.0                  0.0   \n",
       "novadaq-far-farm-08                  0.0                  0.0   \n",
       "novadaq-far-farm-09                  0.0                  0.0   \n",
       "novadaq-far-farm-10                  0.0                  0.0   \n",
       "...                                  ...                  ...   \n",
       "novadaq-far-farm-95                  0.0                  0.0   \n",
       "novadaq-far-farm-96                  0.0                  0.0   \n",
       "novadaq-far-farm-97                  0.0                  0.0   \n",
       "novadaq-far-farm-98                  0.0                  0.0   \n",
       "novadaq-far-farm-99                  0.0                  0.0   \n",
       "\n",
       "timestamp            2024-02-21 05:36:30  2024-02-21 05:36:45  \\\n",
       "nodeId                                                          \n",
       "novadaq-far-farm-06                  0.0                  0.0   \n",
       "novadaq-far-farm-07                  0.0                  0.0   \n",
       "novadaq-far-farm-08                  0.0                  0.0   \n",
       "novadaq-far-farm-09                  0.0                  0.0   \n",
       "novadaq-far-farm-10                  0.0                  0.0   \n",
       "...                                  ...                  ...   \n",
       "novadaq-far-farm-95                  0.0                  0.0   \n",
       "novadaq-far-farm-96                  0.0                  0.0   \n",
       "novadaq-far-farm-97                  0.0                  0.0   \n",
       "novadaq-far-farm-98                  0.0                  0.0   \n",
       "novadaq-far-farm-99                  0.0                  0.0   \n",
       "\n",
       "timestamp            2024-02-21 05:37:00  2024-02-21 05:37:15  \\\n",
       "nodeId                                                          \n",
       "novadaq-far-farm-06                  0.0                  0.0   \n",
       "novadaq-far-farm-07                  0.0                  0.0   \n",
       "novadaq-far-farm-08                  0.0                  0.0   \n",
       "novadaq-far-farm-09                  0.0                  0.0   \n",
       "novadaq-far-farm-10                  0.0                  0.0   \n",
       "...                                  ...                  ...   \n",
       "novadaq-far-farm-95                  0.0                  0.0   \n",
       "novadaq-far-farm-96                  0.0                  0.0   \n",
       "novadaq-far-farm-97                  0.0                  0.0   \n",
       "novadaq-far-farm-98                  0.0                  0.0   \n",
       "novadaq-far-farm-99                  0.0                  0.0   \n",
       "\n",
       "timestamp            2024-02-21 05:37:30  2024-02-21 05:37:45  \\\n",
       "nodeId                                                          \n",
       "novadaq-far-farm-06                  0.0                  0.0   \n",
       "novadaq-far-farm-07                  0.0                  0.0   \n",
       "novadaq-far-farm-08                  0.0                  0.0   \n",
       "novadaq-far-farm-09                  0.0                  0.0   \n",
       "novadaq-far-farm-10                  0.0                  0.0   \n",
       "...                                  ...                  ...   \n",
       "novadaq-far-farm-95                  0.0                  0.0   \n",
       "novadaq-far-farm-96                  0.0                  0.0   \n",
       "novadaq-far-farm-97                  0.0                  0.0   \n",
       "novadaq-far-farm-98                  0.0                  0.0   \n",
       "novadaq-far-farm-99                  0.0                  0.0   \n",
       "\n",
       "timestamp            2024-02-21 05:38:00  2024-02-21 05:38:15  ...  \\\n",
       "nodeId                                                         ...   \n",
       "novadaq-far-farm-06                  0.0                  0.0  ...   \n",
       "novadaq-far-farm-07                  0.0                  0.0  ...   \n",
       "novadaq-far-farm-08                  0.0                  0.0  ...   \n",
       "novadaq-far-farm-09                  0.0                  0.0  ...   \n",
       "novadaq-far-farm-10                  0.0                  0.0  ...   \n",
       "...                                  ...                  ...  ...   \n",
       "novadaq-far-farm-95                  0.0                  0.0  ...   \n",
       "novadaq-far-farm-96                  0.0                  0.0  ...   \n",
       "novadaq-far-farm-97                  0.0                  0.0  ...   \n",
       "novadaq-far-farm-98                  0.0                  0.0  ...   \n",
       "novadaq-far-farm-99                  0.0                  0.0  ...   \n",
       "\n",
       "timestamp            2024-02-21 23:57:30  2024-02-21 23:57:45  \\\n",
       "nodeId                                                          \n",
       "novadaq-far-farm-06            99.600000            99.640000   \n",
       "novadaq-far-farm-07           100.000000            99.603333   \n",
       "novadaq-far-farm-08           100.000000           100.000000   \n",
       "novadaq-far-farm-09            99.700000            99.726667   \n",
       "novadaq-far-farm-10            99.900000            99.900000   \n",
       "...                                  ...                  ...   \n",
       "novadaq-far-farm-95            57.146667            58.100000   \n",
       "novadaq-far-farm-96            59.180000            56.626667   \n",
       "novadaq-far-farm-97            54.400000            58.646667   \n",
       "novadaq-far-farm-98            56.413333            54.080000   \n",
       "novadaq-far-farm-99            55.606667            62.700000   \n",
       "\n",
       "timestamp            2024-02-21 23:58:00  2024-02-21 23:58:15  \\\n",
       "nodeId                                                          \n",
       "novadaq-far-farm-06            99.900000            99.900000   \n",
       "novadaq-far-farm-07            99.603333            99.300000   \n",
       "novadaq-far-farm-08            99.943333            99.943333   \n",
       "novadaq-far-farm-09            99.900000            99.900000   \n",
       "novadaq-far-farm-10            99.900000            99.900000   \n",
       "...                                  ...                  ...   \n",
       "novadaq-far-farm-95            58.100000            57.073333   \n",
       "novadaq-far-farm-96            54.120000            53.800000   \n",
       "novadaq-far-farm-97            59.300000            59.300000   \n",
       "novadaq-far-farm-98            57.440000            53.800000   \n",
       "novadaq-far-farm-99            62.700000            54.806667   \n",
       "\n",
       "timestamp            2024-02-21 23:58:30  2024-02-21 23:58:45  \\\n",
       "nodeId                                                          \n",
       "novadaq-far-farm-06            99.900000                99.90   \n",
       "novadaq-far-farm-07            99.300000                99.30   \n",
       "novadaq-far-farm-08            99.900000                99.90   \n",
       "novadaq-far-farm-09            99.900000                99.90   \n",
       "novadaq-far-farm-10            99.900000                99.90   \n",
       "...                                  ...                  ...   \n",
       "novadaq-far-farm-95            54.660000                59.76   \n",
       "novadaq-far-farm-96            56.880000                57.10   \n",
       "novadaq-far-farm-97            57.046667                56.70   \n",
       "novadaq-far-farm-98            53.800000                53.80   \n",
       "novadaq-far-farm-99            58.753333                53.90   \n",
       "\n",
       "timestamp            2024-02-21 23:59:00  2024-02-21 23:59:15  \\\n",
       "nodeId                                                          \n",
       "novadaq-far-farm-06                99.90            99.900000   \n",
       "novadaq-far-farm-07                99.30            99.300000   \n",
       "novadaq-far-farm-08                99.90            99.900000   \n",
       "novadaq-far-farm-09                99.90            99.786667   \n",
       "novadaq-far-farm-10                99.62            99.600000   \n",
       "...                                  ...                  ...   \n",
       "novadaq-far-farm-95                60.60            55.746667   \n",
       "novadaq-far-farm-96                55.14            55.000000   \n",
       "novadaq-far-farm-97                56.70            56.700000   \n",
       "novadaq-far-farm-98                53.80            53.800000   \n",
       "novadaq-far-farm-99                54.58            57.026667   \n",
       "\n",
       "timestamp            2024-02-21 23:59:30  2024-02-21 23:59:45  \n",
       "nodeId                                                         \n",
       "novadaq-far-farm-06            99.900000            99.900000  \n",
       "novadaq-far-farm-07            99.860000            99.900000  \n",
       "novadaq-far-farm-08            99.900000            99.900000  \n",
       "novadaq-far-farm-09            99.786667            99.700000  \n",
       "novadaq-far-farm-10            99.600000            99.600000  \n",
       "...                                  ...                  ...  \n",
       "novadaq-far-farm-95            60.340000            56.620000  \n",
       "novadaq-far-farm-96            58.400000            56.100000  \n",
       "novadaq-far-farm-97            54.460000            54.300000  \n",
       "novadaq-far-farm-98            54.990000            54.990000  \n",
       "novadaq-far-farm-99            57.026667            55.646667  \n",
       "\n",
       "[195 rows x 4416 columns]"
      ]
     },
     "execution_count": 14,
     "metadata": {},
     "output_type": "execute_result"
    }
   ],
   "source": [
    "df_f.loc[:, ['timestamp', 'nodeId', 'cpu_idle']] \\\n",
    "             .pivot_table(index='timestamp', columns='nodeId', values='cpu_idle') \\\n",
    "             .apply(lambda row: row.fillna(0.0), axis=0).T"
   ]
  },
  {
   "cell_type": "code",
   "execution_count": 15,
   "metadata": {},
   "outputs": [
    {
     "data": {
      "text/plain": [
       "46"
      ]
     },
     "execution_count": 15,
     "metadata": {},
     "output_type": "execute_result"
    }
   ],
   "source": [
    "numeric_cols = df_f.drop(columns=['timestamp', 'nodeId']).columns\n",
    "len(numeric_cols)"
   ]
  },
  {
   "cell_type": "code",
   "execution_count": null,
   "metadata": {},
   "outputs": [
    {
     "name": "stdout",
     "output_type": "stream",
     "text": [
      "Skipping mem_shared due to insufficient data variance.\n",
      "Error processing mem_shared: 'NoneType' object is not subscriptable\n",
      "Number of principal components: 4\n",
      "Number of principal components: 4\n",
      "Number of principal components: 4\n",
      "Number of principal components: 4\n",
      "Number of principal components: 4\n",
      "Number of principal components: 4\n",
      "Number of principal components: 4\n",
      "Number of principal components: 3\n",
      "Number of principal components: 4\n",
      "Number of principal components: 4\n",
      "Number of principal components: 4\n",
      "Number of principal components: 4\n",
      "Number of principal components: 4\n",
      "Number of principal components: 4\n",
      "Number of principal components: 4\n",
      "Number of principal components: 4\n",
      "Skipping RPCRetrans_rate due to insufficient data variance.\n",
      "Error processing RPCRetrans_rate: 'NoneType' object is not subscriptable\n",
      "Skipping TotalRetrans_rate due to insufficient data variance.\n",
      "Error processing TotalRetrans_rate: 'NoneType' object is not subscriptable\n",
      "Skipping TCPSlowStartRetrans_rate due to insufficient data variance.\n",
      "Error processing TCPSlowStartRetrans_rate: 'NoneType' object is not subscriptable\n",
      "Skipping TCPFastRetrans_rate due to insufficient data variance.\n",
      "Error processing TCPFastRetrans_rate: 'NoneType' object is not subscriptable\n",
      "Skipping RetransSegs_rate due to insufficient data variance.\n",
      "Error processing RetransSegs_rate: 'NoneType' object is not subscriptable\n",
      "Skipping TCPLostRetransmit_rate due to insufficient data variance.\n",
      "Error processing TCPLostRetransmit_rate: 'NoneType' object is not subscriptable\n",
      "Skipping TCPForwardRetrans_rate due to insufficient data variance.\n",
      "Error processing TCPForwardRetrans_rate: 'NoneType' object is not subscriptable\n",
      "Skipping TotalRetrans due to insufficient data variance.\n",
      "Error processing TotalRetrans: 'NoneType' object is not subscriptable\n",
      "Skipping TCPSlowStartRetrans due to insufficient data variance.\n",
      "Error processing TCPSlowStartRetrans: 'NoneType' object is not subscriptable\n",
      "Skipping RPCRetrans due to insufficient data variance.\n",
      "Error processing RPCRetrans: 'NoneType' object is not subscriptable\n",
      "Skipping TCPFastRetrans due to insufficient data variance.\n",
      "Error processing TCPFastRetrans: 'NoneType' object is not subscriptable\n",
      "Skipping TCPLostRetransmit due to insufficient data variance.\n",
      "Error processing TCPLostRetransmit: 'NoneType' object is not subscriptable\n",
      "Skipping TCPForwardRetrans due to insufficient data variance.\n",
      "Error processing TCPForwardRetrans: 'NoneType' object is not subscriptable\n",
      "Skipping RetransSegs due to insufficient data variance.\n",
      "Error processing RetransSegs: 'NoneType' object is not subscriptable\n",
      "Number of principal components: 4\n",
      "Number of principal components: 4\n",
      "Number of principal components: 4\n",
      "Number of principal components: 4\n",
      "Number of principal components: 4\n",
      "Number of principal components: 4\n",
      "Number of principal components: 4\n",
      "Number of principal components: 4\n",
      "Number of principal components: 4\n",
      "Number of principal components: 4\n",
      "Number of principal components: 3Number of principal components: 4\n",
      "\n",
      "Number of principal components: 4\n",
      "Number of principal components: 4\n",
      "Number of principal components: 4\n"
     ]
    }
   ],
   "source": [
    "from concurrent.futures import ThreadPoolExecutor\n",
    "\n",
    "numeric_cols = df_f.drop(columns=['timestamp', 'nodeId']).columns\n",
    "P_final = pd.DataFrame()\n",
    "\n",
    "def process_column(col):\n",
    "    try:\n",
    "        P_df = apply_pca_to_feature(col, df_f)\n",
    "        return pd.DataFrame({\n",
    "            'Col': col,\n",
    "            'PC1': P_df['PC1'],\n",
    "            'FC_t': P_df['FC_t'],\n",
    "            'Measurement': P_df['Measurement']\n",
    "        })\n",
    "    except Exception as e:\n",
    "        print(f\"Error processing {col}: {e}\")\n",
    "        return None\n",
    "\n",
    "with ThreadPoolExecutor() as executor:\n",
    "    results = list(executor.map(process_column, numeric_cols))\n",
    "\n",
    "P_final = pd.concat([df for df in results if df is not None], ignore_index=True)"
   ]
  },
  {
   "cell_type": "code",
   "execution_count": 16,
   "metadata": {},
   "outputs": [
    {
     "data": {
      "text/plain": [
       "31"
      ]
     },
     "execution_count": 16,
     "metadata": {},
     "output_type": "execute_result"
    }
   ],
   "source": [
    "P_final['Col'].nunique()"
   ]
  },
  {
   "cell_type": "code",
   "execution_count": null,
   "metadata": {},
   "outputs": [],
   "source": [
    "P_final.to_csv('P_final1.csv')"
   ]
  },
  {
   "cell_type": "markdown",
   "metadata": {},
   "source": [
    "Second step DR: UMAP"
   ]
  },
  {
   "cell_type": "code",
   "execution_count": 6,
   "metadata": {},
   "outputs": [
    {
     "name": "stderr",
     "output_type": "stream",
     "text": [
      "/Users/allison/anaconda3/envs/myenv/lib/python3.9/site-packages/tqdm/auto.py:21: TqdmWarning:\n",
      "\n",
      "IProgress not found. Please update jupyter and ipywidgets. See https://ipywidgets.readthedocs.io/en/stable/user_install.html\n",
      "\n",
      "/Users/allison/anaconda3/envs/myenv/lib/python3.9/site-packages/umap/umap_.py:1943: UserWarning:\n",
      "\n",
      "n_jobs value -1 overridden to 1 by setting random_state. Use no seed for parallelism.\n",
      "\n"
     ]
    },
    {
     "data": {
      "application/vnd.plotly.v1+json": {
       "config": {
        "plotlyServerURL": "https://plot.ly"
       },
       "data": [
        {
         "customdata": [
          [
           "novadaq-far-farm-06"
          ],
          [
           "novadaq-far-farm-07"
          ],
          [
           "novadaq-far-farm-08"
          ],
          [
           "novadaq-far-farm-09"
          ],
          [
           "novadaq-far-farm-10"
          ],
          [
           "novadaq-far-farm-100"
          ],
          [
           "novadaq-far-farm-101"
          ],
          [
           "novadaq-far-farm-102"
          ],
          [
           "novadaq-far-farm-103"
          ],
          [
           "novadaq-far-farm-104"
          ],
          [
           "novadaq-far-farm-105"
          ],
          [
           "novadaq-far-farm-106"
          ],
          [
           "novadaq-far-farm-107"
          ],
          [
           "novadaq-far-farm-108"
          ],
          [
           "novadaq-far-farm-109"
          ],
          [
           "novadaq-far-farm-11"
          ],
          [
           "novadaq-far-farm-110"
          ],
          [
           "novadaq-far-farm-111"
          ],
          [
           "novadaq-far-farm-112"
          ],
          [
           "novadaq-far-farm-113"
          ],
          [
           "novadaq-far-farm-114"
          ],
          [
           "novadaq-far-farm-115"
          ],
          [
           "novadaq-far-farm-116"
          ],
          [
           "novadaq-far-farm-117"
          ],
          [
           "novadaq-far-farm-118"
          ],
          [
           "novadaq-far-farm-119"
          ],
          [
           "novadaq-far-farm-12"
          ],
          [
           "novadaq-far-farm-120"
          ],
          [
           "novadaq-far-farm-121"
          ],
          [
           "novadaq-far-farm-122"
          ],
          [
           "novadaq-far-farm-123"
          ],
          [
           "novadaq-far-farm-124"
          ],
          [
           "novadaq-far-farm-125"
          ],
          [
           "novadaq-far-farm-126"
          ],
          [
           "novadaq-far-farm-127"
          ],
          [
           "novadaq-far-farm-128"
          ],
          [
           "novadaq-far-farm-129"
          ],
          [
           "novadaq-far-farm-13"
          ],
          [
           "novadaq-far-farm-130"
          ],
          [
           "novadaq-far-farm-131"
          ],
          [
           "novadaq-far-farm-132"
          ],
          [
           "novadaq-far-farm-133"
          ],
          [
           "novadaq-far-farm-134"
          ],
          [
           "novadaq-far-farm-135"
          ],
          [
           "novadaq-far-farm-136"
          ],
          [
           "novadaq-far-farm-137"
          ],
          [
           "novadaq-far-farm-138"
          ],
          [
           "novadaq-far-farm-139"
          ],
          [
           "novadaq-far-farm-14"
          ],
          [
           "novadaq-far-farm-140"
          ],
          [
           "novadaq-far-farm-141"
          ],
          [
           "novadaq-far-farm-142"
          ],
          [
           "novadaq-far-farm-143"
          ],
          [
           "novadaq-far-farm-144"
          ],
          [
           "novadaq-far-farm-145"
          ],
          [
           "novadaq-far-farm-146"
          ],
          [
           "novadaq-far-farm-147"
          ],
          [
           "novadaq-far-farm-148"
          ],
          [
           "novadaq-far-farm-149"
          ],
          [
           "novadaq-far-farm-15"
          ],
          [
           "novadaq-far-farm-150"
          ],
          [
           "novadaq-far-farm-151"
          ],
          [
           "novadaq-far-farm-152"
          ],
          [
           "novadaq-far-farm-153"
          ],
          [
           "novadaq-far-farm-154"
          ],
          [
           "novadaq-far-farm-155"
          ],
          [
           "novadaq-far-farm-156"
          ],
          [
           "novadaq-far-farm-157"
          ],
          [
           "novadaq-far-farm-158"
          ],
          [
           "novadaq-far-farm-159"
          ],
          [
           "novadaq-far-farm-16"
          ],
          [
           "novadaq-far-farm-160"
          ],
          [
           "novadaq-far-farm-161"
          ],
          [
           "novadaq-far-farm-162"
          ],
          [
           "novadaq-far-farm-163"
          ],
          [
           "novadaq-far-farm-164"
          ],
          [
           "novadaq-far-farm-165"
          ],
          [
           "novadaq-far-farm-166"
          ],
          [
           "novadaq-far-farm-167"
          ],
          [
           "novadaq-far-farm-168"
          ],
          [
           "novadaq-far-farm-169"
          ],
          [
           "novadaq-far-farm-17"
          ],
          [
           "novadaq-far-farm-170"
          ],
          [
           "novadaq-far-farm-171"
          ],
          [
           "novadaq-far-farm-172"
          ],
          [
           "novadaq-far-farm-173"
          ],
          [
           "novadaq-far-farm-174"
          ],
          [
           "novadaq-far-farm-175"
          ],
          [
           "novadaq-far-farm-176"
          ],
          [
           "novadaq-far-farm-177"
          ],
          [
           "novadaq-far-farm-178"
          ],
          [
           "novadaq-far-farm-179"
          ],
          [
           "novadaq-far-farm-18"
          ],
          [
           "novadaq-far-farm-180"
          ],
          [
           "novadaq-far-farm-181"
          ],
          [
           "novadaq-far-farm-182"
          ],
          [
           "novadaq-far-farm-183"
          ],
          [
           "novadaq-far-farm-184"
          ],
          [
           "novadaq-far-farm-185"
          ],
          [
           "novadaq-far-farm-186"
          ],
          [
           "novadaq-far-farm-187"
          ],
          [
           "novadaq-far-farm-188"
          ],
          [
           "novadaq-far-farm-189"
          ],
          [
           "novadaq-far-farm-19"
          ],
          [
           "novadaq-far-farm-190"
          ],
          [
           "novadaq-far-farm-191"
          ],
          [
           "novadaq-far-farm-192"
          ],
          [
           "novadaq-far-farm-193"
          ],
          [
           "novadaq-far-farm-194"
          ],
          [
           "novadaq-far-farm-195"
          ],
          [
           "novadaq-far-farm-196"
          ],
          [
           "novadaq-far-farm-197"
          ],
          [
           "novadaq-far-farm-198"
          ],
          [
           "novadaq-far-farm-199"
          ],
          [
           "novadaq-far-farm-20"
          ],
          [
           "novadaq-far-farm-200"
          ],
          [
           "novadaq-far-farm-21"
          ],
          [
           "novadaq-far-farm-22"
          ],
          [
           "novadaq-far-farm-23"
          ],
          [
           "novadaq-far-farm-24"
          ],
          [
           "novadaq-far-farm-25"
          ],
          [
           "novadaq-far-farm-26"
          ],
          [
           "novadaq-far-farm-27"
          ],
          [
           "novadaq-far-farm-28"
          ],
          [
           "novadaq-far-farm-29"
          ],
          [
           "novadaq-far-farm-30"
          ],
          [
           "novadaq-far-farm-31"
          ],
          [
           "novadaq-far-farm-32"
          ],
          [
           "novadaq-far-farm-33"
          ],
          [
           "novadaq-far-farm-34"
          ],
          [
           "novadaq-far-farm-35"
          ],
          [
           "novadaq-far-farm-36"
          ],
          [
           "novadaq-far-farm-37"
          ],
          [
           "novadaq-far-farm-38"
          ],
          [
           "novadaq-far-farm-39"
          ],
          [
           "novadaq-far-farm-40"
          ],
          [
           "novadaq-far-farm-41"
          ],
          [
           "novadaq-far-farm-42"
          ],
          [
           "novadaq-far-farm-43"
          ],
          [
           "novadaq-far-farm-44"
          ],
          [
           "novadaq-far-farm-45"
          ],
          [
           "novadaq-far-farm-46"
          ],
          [
           "novadaq-far-farm-47"
          ],
          [
           "novadaq-far-farm-48"
          ],
          [
           "novadaq-far-farm-49"
          ],
          [
           "novadaq-far-farm-50"
          ],
          [
           "novadaq-far-farm-51"
          ],
          [
           "novadaq-far-farm-52"
          ],
          [
           "novadaq-far-farm-53"
          ],
          [
           "novadaq-far-farm-54"
          ],
          [
           "novadaq-far-farm-55"
          ],
          [
           "novadaq-far-farm-56"
          ],
          [
           "novadaq-far-farm-57"
          ],
          [
           "novadaq-far-farm-58"
          ],
          [
           "novadaq-far-farm-59"
          ],
          [
           "novadaq-far-farm-60"
          ],
          [
           "novadaq-far-farm-61"
          ],
          [
           "novadaq-far-farm-62"
          ],
          [
           "novadaq-far-farm-63"
          ],
          [
           "novadaq-far-farm-64"
          ],
          [
           "novadaq-far-farm-65"
          ],
          [
           "novadaq-far-farm-66"
          ],
          [
           "novadaq-far-farm-67"
          ],
          [
           "novadaq-far-farm-68"
          ],
          [
           "novadaq-far-farm-69"
          ],
          [
           "novadaq-far-farm-70"
          ],
          [
           "novadaq-far-farm-71"
          ],
          [
           "novadaq-far-farm-72"
          ],
          [
           "novadaq-far-farm-73"
          ],
          [
           "novadaq-far-farm-74"
          ],
          [
           "novadaq-far-farm-75"
          ],
          [
           "novadaq-far-farm-76"
          ],
          [
           "novadaq-far-farm-77"
          ],
          [
           "novadaq-far-farm-78"
          ],
          [
           "novadaq-far-farm-79"
          ],
          [
           "novadaq-far-farm-80"
          ],
          [
           "novadaq-far-farm-81"
          ],
          [
           "novadaq-far-farm-82"
          ],
          [
           "novadaq-far-farm-83"
          ],
          [
           "novadaq-far-farm-84"
          ],
          [
           "novadaq-far-farm-85"
          ],
          [
           "novadaq-far-farm-86"
          ],
          [
           "novadaq-far-farm-87"
          ],
          [
           "novadaq-far-farm-88"
          ],
          [
           "novadaq-far-farm-89"
          ],
          [
           "novadaq-far-farm-90"
          ],
          [
           "novadaq-far-farm-91"
          ],
          [
           "novadaq-far-farm-92"
          ],
          [
           "novadaq-far-farm-93"
          ],
          [
           "novadaq-far-farm-94"
          ],
          [
           "novadaq-far-farm-95"
          ],
          [
           "novadaq-far-farm-96"
          ],
          [
           "novadaq-far-farm-97"
          ],
          [
           "novadaq-far-farm-98"
          ],
          [
           "novadaq-far-farm-99"
          ]
         ],
         "hovertemplate": "UMAP1=%{x}<br>UMAP2=%{y}<br>nodeId=%{customdata[0]}<extra></extra>",
         "legendgroup": "",
         "marker": {
          "color": "#636efa",
          "symbol": "circle"
         },
         "mode": "markers",
         "name": "",
         "orientation": "v",
         "showlegend": false,
         "type": "scatter",
         "x": [
          -2.4425172805786133,
          -2.4876580238342285,
          -2.4937870502471924,
          -2.4336674213409424,
          -2.488586187362671,
          -3.944220781326294,
          -6.470861911773682,
          -5.573605060577393,
          -5.828258514404297,
          -5.771109104156494,
          -4.32506799697876,
          -4.218796253204346,
          -5.330921649932861,
          -4.915404319763184,
          -6.96681022644043,
          -0.052353955805301666,
          -5.655952453613281,
          -6.7589192390441895,
          -5.689342498779297,
          -5.102254390716553,
          -6.390861988067627,
          -0.35999688506126404,
          -7.202012538909912,
          -7.0691962242126465,
          -4.4748101234436035,
          -6.169486045837402,
          -0.460985004901886,
          -4.863590717315674,
          -7.25224494934082,
          -5.463221549987793,
          -4.331730365753174,
          -4.02988338470459,
          10.473919868469238,
          11.801259994506836,
          10.883249282836914,
          9.157203674316406,
          12.384299278259277,
          -0.11672863364219666,
          -1.330291509628296,
          -0.7273003458976746,
          11.572856903076172,
          -0.808262050151825,
          8.969758033752441,
          9.074020385742188,
          10.02293872833252,
          -4.006046295166016,
          10.321222305297852,
          13.141255378723145,
          0.10711216926574707,
          12.247499465942383,
          10.196529388427734,
          -1.2391700744628906,
          11.822457313537598,
          8.779742240905762,
          -1.361350655555725,
          9.442909240722656,
          11.28380012512207,
          12.475275993347168,
          -0.5855855345726013,
          -0.9786429405212402,
          -0.6886377334594727,
          11.058789253234863,
          13.144929885864258,
          11.295122146606445,
          11.012659072875977,
          12.690107345581055,
          12.044562339782715,
          13.205430030822754,
          10.372252464294434,
          10.323060035705566,
          -0.4800134599208832,
          11.6693754196167,
          10.20450210571289,
          12.615697860717773,
          9.425088882446289,
          -0.8698104023933411,
          11.6034574508667,
          9.55528450012207,
          9.37098217010498,
          13.250847816467285,
          13.201642036437988,
          0.8908260464668274,
          -0.6873807907104492,
          12.123230934143066,
          9.926727294921875,
          12.658928871154785,
          12.594693183898926,
          13.168336868286133,
          13.046133995056152,
          11.512533187866211,
          11.645580291748047,
          9.535207748413086,
          0.7173893451690674,
          -0.5283645987510681,
          -1.1082427501678467,
          8.794849395751953,
          11.255879402160645,
          -0.311815470457077,
          9.921934127807617,
          11.804880142211914,
          11.755922317504883,
          9.058591842651367,
          -0.7662050724029541,
          -0.9669297337532043,
          -0.9238797426223755,
          10.003381729125977,
          12.517117500305176,
          10.225191116333008,
          10.910101890563965,
          9.348855972290039,
          12.50085735321045,
          -5.978166580200195,
          -5.880120754241943,
          -7.2040252685546875,
          -0.2572939991950989,
          -7.429903507232666,
          8.528417587280273,
          1.3321313858032227,
          0.6650930643081665,
          -0.549109697341919,
          -0.6243910789489746,
          0.8325030207633972,
          0.4983479976654053,
          -1.1648900508880615,
          0.452306866645813,
          -0.2734980583190918,
          -0.9191626906394958,
          -1.0806186199188232,
          1.2381811141967773,
          -0.5244125127792358,
          -0.32957494258880615,
          1.142093539237976,
          0.21476499736309052,
          1.2274149656295776,
          0.7907690405845642,
          0.677055299282074,
          -1.1175936460494995,
          1.440494418144226,
          0.29955729842185974,
          -0.5411445498466492,
          1.2579172849655151,
          0.5118635296821594,
          1.0678197145462036,
          -0.9049636125564575,
          0.9121944904327393,
          0.30574899911880493,
          -6.256555080413818,
          -0.05081744119524956,
          -5.432016849517822,
          -6.9964704513549805,
          -4.1857757568359375,
          -0.7323025465011597,
          -4.578614234924316,
          -4.000709533691406,
          -0.41797465085983276,
          -5.354060173034668,
          -0.3754141628742218,
          -6.0633931159973145,
          -4.412529945373535,
          -4.219624996185303,
          -6.027027130126953,
          -4.104691505432129,
          -5.942859649658203,
          -5.108155250549316,
          -7.135337829589844,
          -5.228234767913818,
          -5.717841625213623,
          -7.027999401092529,
          -4.137821197509766,
          11.156620979309082,
          -7.457120895385742,
          -5.8582763671875,
          -3.9976768493652344,
          -1.2100902795791626,
          -4.6800994873046875,
          -5.794805526733398,
          -4.624610900878906,
          -7.182979583740234,
          -7.608157634735107,
          -4.646022796630859,
          -7.637431621551514,
          -4.3203444480896,
          -4.0345635414123535,
          -7.462948799133301,
          -5.23844575881958,
          -7.165544509887695,
          -5.664715766906738,
          -0.6894956231117249,
          -4.237099647521973,
          -6.281122207641602,
          -6.945896148681641,
          -5.524909496307373,
          -3.956798791885376,
          -7.004908084869385,
          -7.563577175140381
         ],
         "xaxis": "x",
         "y": [
          4.048433780670166,
          4.020671844482422,
          4.023567199707031,
          4.0981621742248535,
          4.003887176513672,
          6.287659168243408,
          7.370095729827881,
          7.891828536987305,
          7.8350725173950195,
          7.210072040557861,
          5.384428977966309,
          5.5005202293396,
          5.507811546325684,
          5.440700054168701,
          6.7320170402526855,
          9.02064323425293,
          5.669281482696533,
          6.482463359832764,
          5.694156646728516,
          7.439051628112793,
          7.7000203132629395,
          8.878135681152344,
          7.092020511627197,
          7.488978385925293,
          6.81903076171875,
          7.596339225769043,
          2.8478000164031982,
          7.113536357879639,
          7.649946689605713,
          7.086659908294678,
          6.728316783905029,
          5.488277912139893,
          0.8611317276954651,
          1.2740899324417114,
          1.2107360363006592,
          1.0782939195632935,
          2.005885362625122,
          9.238641738891602,
          3.2392895221710205,
          2.5793356895446777,
          1.0801328420639038,
          2.748509645462036,
          0.740012526512146,
          1.0689218044281006,
          0.8873676657676697,
          6.4511189460754395,
          0.8182381987571716,
          2.2003979682922363,
          9.054097175598145,
          1.967024803161621,
          1.126992106437683,
          3.1621956825256348,
          1.2363452911376953,
          0.8997229337692261,
          7.501502513885498,
          0.9487766623497009,
          0.9870489835739136,
          1.9251723289489746,
          8.399934768676758,
          7.900132179260254,
          3.0130808353424072,
          1.0009937286376953,
          2.1554956436157227,
          1.4129650592803955,
          1.1495983600616455,
          1.9607685804367065,
          2.1127545833587646,
          2.292459726333618,
          0.8148099184036255,
          0.9446598291397095,
          3.09368634223938,
          1.2297136783599854,
          1.0376932621002197,
          2.0411510467529297,
          0.8100370168685913,
          3.0140810012817383,
          1.2020361423492432,
          1.0180569887161255,
          0.6131020188331604,
          2.3307271003723145,
          2.2885148525238037,
          9.16605281829834,
          3.0821220874786377,
          1.808469533920288,
          0.9912200570106506,
          2.1022956371307373,
          1.839199185371399,
          2.2470898628234863,
          2.0850868225097656,
          1.7921282052993774,
          1.8359928131103516,
          1.018438458442688,
          9.587899208068848,
          2.918614625930786,
          3.1421847343444824,
          0.8327028751373291,
          1.5753458738327026,
          2.461531639099121,
          0.5547131896018982,
          1.759886384010315,
          1.9405322074890137,
          0.6832665205001831,
          3.1356048583984375,
          7.881795406341553,
          8.609624862670898,
          0.6807112693786621,
          1.773247241973877,
          0.8159558176994324,
          1.6604042053222656,
          0.5535183548927307,
          1.7821459770202637,
          7.646073341369629,
          7.160751819610596,
          7.282036781311035,
          2.434147357940674,
          7.516264915466309,
          0.9528982043266296,
          9.555225372314453,
          9.118985176086426,
          8.688060760498047,
          8.493884086608887,
          9.286944389343262,
          9.03748893737793,
          3.169724941253662,
          9.57824420928955,
          8.491928100585938,
          7.969913959503174,
          7.77484130859375,
          9.553959846496582,
          8.84841251373291,
          2.5094614028930664,
          9.267199516296387,
          8.883090019226074,
          9.517898559570312,
          9.038494110107422,
          9.464204788208008,
          7.772406578063965,
          9.40780258178711,
          9.255634307861328,
          8.332481384277344,
          9.3429536819458,
          9.303229331970215,
          9.21424388885498,
          7.971285343170166,
          9.166143417358398,
          9.667475700378418,
          7.7093024253845215,
          8.597811698913574,
          7.697432518005371,
          7.636280059814453,
          6.562568187713623,
          8.172619819641113,
          6.997251987457275,
          6.339363098144531,
          2.5545766353607178,
          7.718935012817383,
          2.572707176208496,
          7.797235488891602,
          6.869598388671875,
          6.870088577270508,
          5.9503045082092285,
          5.35923433303833,
          5.887878894805908,
          5.559638500213623,
          6.852151393890381,
          5.524130821228027,
          5.701879501342773,
          6.677704811096191,
          6.763096809387207,
          1.1032472848892212,
          7.8629536628723145,
          7.897975921630859,
          5.900850296020508,
          3.0031888484954834,
          7.430209636688232,
          7.740782737731934,
          7.533980846405029,
          7.722591400146484,
          7.7305521965026855,
          7.549393177032471,
          7.714444637298584,
          6.994643211364746,
          6.1844987869262695,
          7.830287933349609,
          7.4864912033081055,
          7.826935291290283,
          7.849799156188965,
          2.5868875980377197,
          5.404306411743164,
          6.114795684814453,
          6.639947414398193,
          5.599778175354004,
          6.356821537017822,
          7.457842826843262,
          7.607529163360596
         ],
         "yaxis": "y"
        }
       ],
       "layout": {
        "legend": {
         "tracegroupgap": 0
        },
        "margin": {
         "t": 60
        },
        "template": {
         "data": {
          "bar": [
           {
            "error_x": {
             "color": "#2a3f5f"
            },
            "error_y": {
             "color": "#2a3f5f"
            },
            "marker": {
             "line": {
              "color": "#E5ECF6",
              "width": 0.5
             },
             "pattern": {
              "fillmode": "overlay",
              "size": 10,
              "solidity": 0.2
             }
            },
            "type": "bar"
           }
          ],
          "barpolar": [
           {
            "marker": {
             "line": {
              "color": "#E5ECF6",
              "width": 0.5
             },
             "pattern": {
              "fillmode": "overlay",
              "size": 10,
              "solidity": 0.2
             }
            },
            "type": "barpolar"
           }
          ],
          "carpet": [
           {
            "aaxis": {
             "endlinecolor": "#2a3f5f",
             "gridcolor": "white",
             "linecolor": "white",
             "minorgridcolor": "white",
             "startlinecolor": "#2a3f5f"
            },
            "baxis": {
             "endlinecolor": "#2a3f5f",
             "gridcolor": "white",
             "linecolor": "white",
             "minorgridcolor": "white",
             "startlinecolor": "#2a3f5f"
            },
            "type": "carpet"
           }
          ],
          "choropleth": [
           {
            "colorbar": {
             "outlinewidth": 0,
             "ticks": ""
            },
            "type": "choropleth"
           }
          ],
          "contour": [
           {
            "colorbar": {
             "outlinewidth": 0,
             "ticks": ""
            },
            "colorscale": [
             [
              0,
              "#0d0887"
             ],
             [
              0.1111111111111111,
              "#46039f"
             ],
             [
              0.2222222222222222,
              "#7201a8"
             ],
             [
              0.3333333333333333,
              "#9c179e"
             ],
             [
              0.4444444444444444,
              "#bd3786"
             ],
             [
              0.5555555555555556,
              "#d8576b"
             ],
             [
              0.6666666666666666,
              "#ed7953"
             ],
             [
              0.7777777777777778,
              "#fb9f3a"
             ],
             [
              0.8888888888888888,
              "#fdca26"
             ],
             [
              1,
              "#f0f921"
             ]
            ],
            "type": "contour"
           }
          ],
          "contourcarpet": [
           {
            "colorbar": {
             "outlinewidth": 0,
             "ticks": ""
            },
            "type": "contourcarpet"
           }
          ],
          "heatmap": [
           {
            "colorbar": {
             "outlinewidth": 0,
             "ticks": ""
            },
            "colorscale": [
             [
              0,
              "#0d0887"
             ],
             [
              0.1111111111111111,
              "#46039f"
             ],
             [
              0.2222222222222222,
              "#7201a8"
             ],
             [
              0.3333333333333333,
              "#9c179e"
             ],
             [
              0.4444444444444444,
              "#bd3786"
             ],
             [
              0.5555555555555556,
              "#d8576b"
             ],
             [
              0.6666666666666666,
              "#ed7953"
             ],
             [
              0.7777777777777778,
              "#fb9f3a"
             ],
             [
              0.8888888888888888,
              "#fdca26"
             ],
             [
              1,
              "#f0f921"
             ]
            ],
            "type": "heatmap"
           }
          ],
          "heatmapgl": [
           {
            "colorbar": {
             "outlinewidth": 0,
             "ticks": ""
            },
            "colorscale": [
             [
              0,
              "#0d0887"
             ],
             [
              0.1111111111111111,
              "#46039f"
             ],
             [
              0.2222222222222222,
              "#7201a8"
             ],
             [
              0.3333333333333333,
              "#9c179e"
             ],
             [
              0.4444444444444444,
              "#bd3786"
             ],
             [
              0.5555555555555556,
              "#d8576b"
             ],
             [
              0.6666666666666666,
              "#ed7953"
             ],
             [
              0.7777777777777778,
              "#fb9f3a"
             ],
             [
              0.8888888888888888,
              "#fdca26"
             ],
             [
              1,
              "#f0f921"
             ]
            ],
            "type": "heatmapgl"
           }
          ],
          "histogram": [
           {
            "marker": {
             "pattern": {
              "fillmode": "overlay",
              "size": 10,
              "solidity": 0.2
             }
            },
            "type": "histogram"
           }
          ],
          "histogram2d": [
           {
            "colorbar": {
             "outlinewidth": 0,
             "ticks": ""
            },
            "colorscale": [
             [
              0,
              "#0d0887"
             ],
             [
              0.1111111111111111,
              "#46039f"
             ],
             [
              0.2222222222222222,
              "#7201a8"
             ],
             [
              0.3333333333333333,
              "#9c179e"
             ],
             [
              0.4444444444444444,
              "#bd3786"
             ],
             [
              0.5555555555555556,
              "#d8576b"
             ],
             [
              0.6666666666666666,
              "#ed7953"
             ],
             [
              0.7777777777777778,
              "#fb9f3a"
             ],
             [
              0.8888888888888888,
              "#fdca26"
             ],
             [
              1,
              "#f0f921"
             ]
            ],
            "type": "histogram2d"
           }
          ],
          "histogram2dcontour": [
           {
            "colorbar": {
             "outlinewidth": 0,
             "ticks": ""
            },
            "colorscale": [
             [
              0,
              "#0d0887"
             ],
             [
              0.1111111111111111,
              "#46039f"
             ],
             [
              0.2222222222222222,
              "#7201a8"
             ],
             [
              0.3333333333333333,
              "#9c179e"
             ],
             [
              0.4444444444444444,
              "#bd3786"
             ],
             [
              0.5555555555555556,
              "#d8576b"
             ],
             [
              0.6666666666666666,
              "#ed7953"
             ],
             [
              0.7777777777777778,
              "#fb9f3a"
             ],
             [
              0.8888888888888888,
              "#fdca26"
             ],
             [
              1,
              "#f0f921"
             ]
            ],
            "type": "histogram2dcontour"
           }
          ],
          "mesh3d": [
           {
            "colorbar": {
             "outlinewidth": 0,
             "ticks": ""
            },
            "type": "mesh3d"
           }
          ],
          "parcoords": [
           {
            "line": {
             "colorbar": {
              "outlinewidth": 0,
              "ticks": ""
             }
            },
            "type": "parcoords"
           }
          ],
          "pie": [
           {
            "automargin": true,
            "type": "pie"
           }
          ],
          "scatter": [
           {
            "fillpattern": {
             "fillmode": "overlay",
             "size": 10,
             "solidity": 0.2
            },
            "type": "scatter"
           }
          ],
          "scatter3d": [
           {
            "line": {
             "colorbar": {
              "outlinewidth": 0,
              "ticks": ""
             }
            },
            "marker": {
             "colorbar": {
              "outlinewidth": 0,
              "ticks": ""
             }
            },
            "type": "scatter3d"
           }
          ],
          "scattercarpet": [
           {
            "marker": {
             "colorbar": {
              "outlinewidth": 0,
              "ticks": ""
             }
            },
            "type": "scattercarpet"
           }
          ],
          "scattergeo": [
           {
            "marker": {
             "colorbar": {
              "outlinewidth": 0,
              "ticks": ""
             }
            },
            "type": "scattergeo"
           }
          ],
          "scattergl": [
           {
            "marker": {
             "colorbar": {
              "outlinewidth": 0,
              "ticks": ""
             }
            },
            "type": "scattergl"
           }
          ],
          "scattermapbox": [
           {
            "marker": {
             "colorbar": {
              "outlinewidth": 0,
              "ticks": ""
             }
            },
            "type": "scattermapbox"
           }
          ],
          "scatterpolar": [
           {
            "marker": {
             "colorbar": {
              "outlinewidth": 0,
              "ticks": ""
             }
            },
            "type": "scatterpolar"
           }
          ],
          "scatterpolargl": [
           {
            "marker": {
             "colorbar": {
              "outlinewidth": 0,
              "ticks": ""
             }
            },
            "type": "scatterpolargl"
           }
          ],
          "scatterternary": [
           {
            "marker": {
             "colorbar": {
              "outlinewidth": 0,
              "ticks": ""
             }
            },
            "type": "scatterternary"
           }
          ],
          "surface": [
           {
            "colorbar": {
             "outlinewidth": 0,
             "ticks": ""
            },
            "colorscale": [
             [
              0,
              "#0d0887"
             ],
             [
              0.1111111111111111,
              "#46039f"
             ],
             [
              0.2222222222222222,
              "#7201a8"
             ],
             [
              0.3333333333333333,
              "#9c179e"
             ],
             [
              0.4444444444444444,
              "#bd3786"
             ],
             [
              0.5555555555555556,
              "#d8576b"
             ],
             [
              0.6666666666666666,
              "#ed7953"
             ],
             [
              0.7777777777777778,
              "#fb9f3a"
             ],
             [
              0.8888888888888888,
              "#fdca26"
             ],
             [
              1,
              "#f0f921"
             ]
            ],
            "type": "surface"
           }
          ],
          "table": [
           {
            "cells": {
             "fill": {
              "color": "#EBF0F8"
             },
             "line": {
              "color": "white"
             }
            },
            "header": {
             "fill": {
              "color": "#C8D4E3"
             },
             "line": {
              "color": "white"
             }
            },
            "type": "table"
           }
          ]
         },
         "layout": {
          "annotationdefaults": {
           "arrowcolor": "#2a3f5f",
           "arrowhead": 0,
           "arrowwidth": 1
          },
          "autotypenumbers": "strict",
          "coloraxis": {
           "colorbar": {
            "outlinewidth": 0,
            "ticks": ""
           }
          },
          "colorscale": {
           "diverging": [
            [
             0,
             "#8e0152"
            ],
            [
             0.1,
             "#c51b7d"
            ],
            [
             0.2,
             "#de77ae"
            ],
            [
             0.3,
             "#f1b6da"
            ],
            [
             0.4,
             "#fde0ef"
            ],
            [
             0.5,
             "#f7f7f7"
            ],
            [
             0.6,
             "#e6f5d0"
            ],
            [
             0.7,
             "#b8e186"
            ],
            [
             0.8,
             "#7fbc41"
            ],
            [
             0.9,
             "#4d9221"
            ],
            [
             1,
             "#276419"
            ]
           ],
           "sequential": [
            [
             0,
             "#0d0887"
            ],
            [
             0.1111111111111111,
             "#46039f"
            ],
            [
             0.2222222222222222,
             "#7201a8"
            ],
            [
             0.3333333333333333,
             "#9c179e"
            ],
            [
             0.4444444444444444,
             "#bd3786"
            ],
            [
             0.5555555555555556,
             "#d8576b"
            ],
            [
             0.6666666666666666,
             "#ed7953"
            ],
            [
             0.7777777777777778,
             "#fb9f3a"
            ],
            [
             0.8888888888888888,
             "#fdca26"
            ],
            [
             1,
             "#f0f921"
            ]
           ],
           "sequentialminus": [
            [
             0,
             "#0d0887"
            ],
            [
             0.1111111111111111,
             "#46039f"
            ],
            [
             0.2222222222222222,
             "#7201a8"
            ],
            [
             0.3333333333333333,
             "#9c179e"
            ],
            [
             0.4444444444444444,
             "#bd3786"
            ],
            [
             0.5555555555555556,
             "#d8576b"
            ],
            [
             0.6666666666666666,
             "#ed7953"
            ],
            [
             0.7777777777777778,
             "#fb9f3a"
            ],
            [
             0.8888888888888888,
             "#fdca26"
            ],
            [
             1,
             "#f0f921"
            ]
           ]
          },
          "colorway": [
           "#636efa",
           "#EF553B",
           "#00cc96",
           "#ab63fa",
           "#FFA15A",
           "#19d3f3",
           "#FF6692",
           "#B6E880",
           "#FF97FF",
           "#FECB52"
          ],
          "font": {
           "color": "#2a3f5f"
          },
          "geo": {
           "bgcolor": "white",
           "lakecolor": "white",
           "landcolor": "#E5ECF6",
           "showlakes": true,
           "showland": true,
           "subunitcolor": "white"
          },
          "hoverlabel": {
           "align": "left"
          },
          "hovermode": "closest",
          "mapbox": {
           "style": "light"
          },
          "paper_bgcolor": "white",
          "plot_bgcolor": "#E5ECF6",
          "polar": {
           "angularaxis": {
            "gridcolor": "white",
            "linecolor": "white",
            "ticks": ""
           },
           "bgcolor": "#E5ECF6",
           "radialaxis": {
            "gridcolor": "white",
            "linecolor": "white",
            "ticks": ""
           }
          },
          "scene": {
           "xaxis": {
            "backgroundcolor": "#E5ECF6",
            "gridcolor": "white",
            "gridwidth": 2,
            "linecolor": "white",
            "showbackground": true,
            "ticks": "",
            "zerolinecolor": "white"
           },
           "yaxis": {
            "backgroundcolor": "#E5ECF6",
            "gridcolor": "white",
            "gridwidth": 2,
            "linecolor": "white",
            "showbackground": true,
            "ticks": "",
            "zerolinecolor": "white"
           },
           "zaxis": {
            "backgroundcolor": "#E5ECF6",
            "gridcolor": "white",
            "gridwidth": 2,
            "linecolor": "white",
            "showbackground": true,
            "ticks": "",
            "zerolinecolor": "white"
           }
          },
          "shapedefaults": {
           "line": {
            "color": "#2a3f5f"
           }
          },
          "ternary": {
           "aaxis": {
            "gridcolor": "white",
            "linecolor": "white",
            "ticks": ""
           },
           "baxis": {
            "gridcolor": "white",
            "linecolor": "white",
            "ticks": ""
           },
           "bgcolor": "#E5ECF6",
           "caxis": {
            "gridcolor": "white",
            "linecolor": "white",
            "ticks": ""
           }
          },
          "title": {
           "x": 0.05
          },
          "xaxis": {
           "automargin": true,
           "gridcolor": "white",
           "linecolor": "white",
           "ticks": "",
           "title": {
            "standoff": 15
           },
           "zerolinecolor": "white",
           "zerolinewidth": 2
          },
          "yaxis": {
           "automargin": true,
           "gridcolor": "white",
           "linecolor": "white",
           "ticks": "",
           "title": {
            "standoff": 15
           },
           "zerolinecolor": "white",
           "zerolinewidth": 2
          }
         }
        },
        "title": {
         "text": "UMAP Projection"
        },
        "xaxis": {
         "anchor": "y",
         "domain": [
          0,
          1
         ],
         "title": {
          "text": "UMAP 1"
         }
        },
        "yaxis": {
         "anchor": "x",
         "domain": [
          0,
          1
         ],
         "title": {
          "text": "UMAP 2"
         }
        }
       }
      }
     },
     "metadata": {},
     "output_type": "display_data"
    }
   ],
   "source": [
    "from umap import UMAP\n",
    "import plotly.express as px\n",
    "\n",
    "# two-step DR: PCA+UMAP\n",
    "df_pivot = P_final.pivot(index=\"Measurement\", columns=\"Col\", values=\"PC1\")\n",
    "reducer = UMAP(n_components=2, random_state=42)\n",
    "embedding = reducer.fit_transform(df_pivot)\n",
    "df_pivot['UMAP1'] = embedding[:, 0]\n",
    "df_pivot['UMAP2'] = embedding[:, 1]\n",
    "df_pivot['nodeId'] = df_pivot.index \n",
    "fig = px.scatter(df_pivot, x='UMAP1', y='UMAP2', hover_data={'nodeId': True})\n",
    "\n",
    "fig.update_layout(title=\"UMAP Projection\",\n",
    "                  xaxis_title=\"UMAP 1\",\n",
    "                  yaxis_title=\"UMAP 2\")\n",
    "fig.show()"
   ]
  },
  {
   "cell_type": "markdown",
   "metadata": {},
   "source": [
    "Second step DR: tSNE"
   ]
  },
  {
   "cell_type": "code",
   "execution_count": 7,
   "metadata": {},
   "outputs": [
    {
     "name": "stderr",
     "output_type": "stream",
     "text": [
      "/Users/allison/anaconda3/envs/myenv/lib/python3.9/site-packages/sklearn/manifold/_t_sne.py:780: FutureWarning:\n",
      "\n",
      "The default initialization in TSNE will change from 'random' to 'pca' in 1.2.\n",
      "\n",
      "/Users/allison/anaconda3/envs/myenv/lib/python3.9/site-packages/sklearn/manifold/_t_sne.py:790: FutureWarning:\n",
      "\n",
      "The default learning rate in TSNE will change from 200.0 to 'auto' in 1.2.\n",
      "\n"
     ]
    },
    {
     "data": {
      "application/vnd.plotly.v1+json": {
       "config": {
        "plotlyServerURL": "https://plot.ly"
       },
       "data": [
        {
         "customdata": [
          [
           "novadaq-far-farm-06"
          ],
          [
           "novadaq-far-farm-07"
          ],
          [
           "novadaq-far-farm-08"
          ],
          [
           "novadaq-far-farm-09"
          ],
          [
           "novadaq-far-farm-10"
          ],
          [
           "novadaq-far-farm-100"
          ],
          [
           "novadaq-far-farm-101"
          ],
          [
           "novadaq-far-farm-102"
          ],
          [
           "novadaq-far-farm-103"
          ],
          [
           "novadaq-far-farm-104"
          ],
          [
           "novadaq-far-farm-105"
          ],
          [
           "novadaq-far-farm-106"
          ],
          [
           "novadaq-far-farm-107"
          ],
          [
           "novadaq-far-farm-108"
          ],
          [
           "novadaq-far-farm-109"
          ],
          [
           "novadaq-far-farm-11"
          ],
          [
           "novadaq-far-farm-110"
          ],
          [
           "novadaq-far-farm-111"
          ],
          [
           "novadaq-far-farm-112"
          ],
          [
           "novadaq-far-farm-113"
          ],
          [
           "novadaq-far-farm-114"
          ],
          [
           "novadaq-far-farm-115"
          ],
          [
           "novadaq-far-farm-116"
          ],
          [
           "novadaq-far-farm-117"
          ],
          [
           "novadaq-far-farm-118"
          ],
          [
           "novadaq-far-farm-119"
          ],
          [
           "novadaq-far-farm-12"
          ],
          [
           "novadaq-far-farm-120"
          ],
          [
           "novadaq-far-farm-121"
          ],
          [
           "novadaq-far-farm-122"
          ],
          [
           "novadaq-far-farm-123"
          ],
          [
           "novadaq-far-farm-124"
          ],
          [
           "novadaq-far-farm-125"
          ],
          [
           "novadaq-far-farm-126"
          ],
          [
           "novadaq-far-farm-127"
          ],
          [
           "novadaq-far-farm-128"
          ],
          [
           "novadaq-far-farm-129"
          ],
          [
           "novadaq-far-farm-13"
          ],
          [
           "novadaq-far-farm-130"
          ],
          [
           "novadaq-far-farm-131"
          ],
          [
           "novadaq-far-farm-132"
          ],
          [
           "novadaq-far-farm-133"
          ],
          [
           "novadaq-far-farm-134"
          ],
          [
           "novadaq-far-farm-135"
          ],
          [
           "novadaq-far-farm-136"
          ],
          [
           "novadaq-far-farm-137"
          ],
          [
           "novadaq-far-farm-138"
          ],
          [
           "novadaq-far-farm-139"
          ],
          [
           "novadaq-far-farm-14"
          ],
          [
           "novadaq-far-farm-140"
          ],
          [
           "novadaq-far-farm-141"
          ],
          [
           "novadaq-far-farm-142"
          ],
          [
           "novadaq-far-farm-143"
          ],
          [
           "novadaq-far-farm-144"
          ],
          [
           "novadaq-far-farm-145"
          ],
          [
           "novadaq-far-farm-146"
          ],
          [
           "novadaq-far-farm-147"
          ],
          [
           "novadaq-far-farm-148"
          ],
          [
           "novadaq-far-farm-149"
          ],
          [
           "novadaq-far-farm-15"
          ],
          [
           "novadaq-far-farm-150"
          ],
          [
           "novadaq-far-farm-151"
          ],
          [
           "novadaq-far-farm-152"
          ],
          [
           "novadaq-far-farm-153"
          ],
          [
           "novadaq-far-farm-154"
          ],
          [
           "novadaq-far-farm-155"
          ],
          [
           "novadaq-far-farm-156"
          ],
          [
           "novadaq-far-farm-157"
          ],
          [
           "novadaq-far-farm-158"
          ],
          [
           "novadaq-far-farm-159"
          ],
          [
           "novadaq-far-farm-16"
          ],
          [
           "novadaq-far-farm-160"
          ],
          [
           "novadaq-far-farm-161"
          ],
          [
           "novadaq-far-farm-162"
          ],
          [
           "novadaq-far-farm-163"
          ],
          [
           "novadaq-far-farm-164"
          ],
          [
           "novadaq-far-farm-165"
          ],
          [
           "novadaq-far-farm-166"
          ],
          [
           "novadaq-far-farm-167"
          ],
          [
           "novadaq-far-farm-168"
          ],
          [
           "novadaq-far-farm-169"
          ],
          [
           "novadaq-far-farm-17"
          ],
          [
           "novadaq-far-farm-170"
          ],
          [
           "novadaq-far-farm-171"
          ],
          [
           "novadaq-far-farm-172"
          ],
          [
           "novadaq-far-farm-173"
          ],
          [
           "novadaq-far-farm-174"
          ],
          [
           "novadaq-far-farm-175"
          ],
          [
           "novadaq-far-farm-176"
          ],
          [
           "novadaq-far-farm-177"
          ],
          [
           "novadaq-far-farm-178"
          ],
          [
           "novadaq-far-farm-179"
          ],
          [
           "novadaq-far-farm-18"
          ],
          [
           "novadaq-far-farm-180"
          ],
          [
           "novadaq-far-farm-181"
          ],
          [
           "novadaq-far-farm-182"
          ],
          [
           "novadaq-far-farm-183"
          ],
          [
           "novadaq-far-farm-184"
          ],
          [
           "novadaq-far-farm-185"
          ],
          [
           "novadaq-far-farm-186"
          ],
          [
           "novadaq-far-farm-187"
          ],
          [
           "novadaq-far-farm-188"
          ],
          [
           "novadaq-far-farm-189"
          ],
          [
           "novadaq-far-farm-19"
          ],
          [
           "novadaq-far-farm-190"
          ],
          [
           "novadaq-far-farm-191"
          ],
          [
           "novadaq-far-farm-192"
          ],
          [
           "novadaq-far-farm-193"
          ],
          [
           "novadaq-far-farm-194"
          ],
          [
           "novadaq-far-farm-195"
          ],
          [
           "novadaq-far-farm-196"
          ],
          [
           "novadaq-far-farm-197"
          ],
          [
           "novadaq-far-farm-198"
          ],
          [
           "novadaq-far-farm-199"
          ],
          [
           "novadaq-far-farm-20"
          ],
          [
           "novadaq-far-farm-200"
          ],
          [
           "novadaq-far-farm-21"
          ],
          [
           "novadaq-far-farm-22"
          ],
          [
           "novadaq-far-farm-23"
          ],
          [
           "novadaq-far-farm-24"
          ],
          [
           "novadaq-far-farm-25"
          ],
          [
           "novadaq-far-farm-26"
          ],
          [
           "novadaq-far-farm-27"
          ],
          [
           "novadaq-far-farm-28"
          ],
          [
           "novadaq-far-farm-29"
          ],
          [
           "novadaq-far-farm-30"
          ],
          [
           "novadaq-far-farm-31"
          ],
          [
           "novadaq-far-farm-32"
          ],
          [
           "novadaq-far-farm-33"
          ],
          [
           "novadaq-far-farm-34"
          ],
          [
           "novadaq-far-farm-35"
          ],
          [
           "novadaq-far-farm-36"
          ],
          [
           "novadaq-far-farm-37"
          ],
          [
           "novadaq-far-farm-38"
          ],
          [
           "novadaq-far-farm-39"
          ],
          [
           "novadaq-far-farm-40"
          ],
          [
           "novadaq-far-farm-41"
          ],
          [
           "novadaq-far-farm-42"
          ],
          [
           "novadaq-far-farm-43"
          ],
          [
           "novadaq-far-farm-44"
          ],
          [
           "novadaq-far-farm-45"
          ],
          [
           "novadaq-far-farm-46"
          ],
          [
           "novadaq-far-farm-47"
          ],
          [
           "novadaq-far-farm-48"
          ],
          [
           "novadaq-far-farm-49"
          ],
          [
           "novadaq-far-farm-50"
          ],
          [
           "novadaq-far-farm-51"
          ],
          [
           "novadaq-far-farm-52"
          ],
          [
           "novadaq-far-farm-53"
          ],
          [
           "novadaq-far-farm-54"
          ],
          [
           "novadaq-far-farm-55"
          ],
          [
           "novadaq-far-farm-56"
          ],
          [
           "novadaq-far-farm-57"
          ],
          [
           "novadaq-far-farm-58"
          ],
          [
           "novadaq-far-farm-59"
          ],
          [
           "novadaq-far-farm-60"
          ],
          [
           "novadaq-far-farm-61"
          ],
          [
           "novadaq-far-farm-62"
          ],
          [
           "novadaq-far-farm-63"
          ],
          [
           "novadaq-far-farm-64"
          ],
          [
           "novadaq-far-farm-65"
          ],
          [
           "novadaq-far-farm-66"
          ],
          [
           "novadaq-far-farm-67"
          ],
          [
           "novadaq-far-farm-68"
          ],
          [
           "novadaq-far-farm-69"
          ],
          [
           "novadaq-far-farm-70"
          ],
          [
           "novadaq-far-farm-71"
          ],
          [
           "novadaq-far-farm-72"
          ],
          [
           "novadaq-far-farm-73"
          ],
          [
           "novadaq-far-farm-74"
          ],
          [
           "novadaq-far-farm-75"
          ],
          [
           "novadaq-far-farm-76"
          ],
          [
           "novadaq-far-farm-77"
          ],
          [
           "novadaq-far-farm-78"
          ],
          [
           "novadaq-far-farm-79"
          ],
          [
           "novadaq-far-farm-80"
          ],
          [
           "novadaq-far-farm-81"
          ],
          [
           "novadaq-far-farm-82"
          ],
          [
           "novadaq-far-farm-83"
          ],
          [
           "novadaq-far-farm-84"
          ],
          [
           "novadaq-far-farm-85"
          ],
          [
           "novadaq-far-farm-86"
          ],
          [
           "novadaq-far-farm-87"
          ],
          [
           "novadaq-far-farm-88"
          ],
          [
           "novadaq-far-farm-89"
          ],
          [
           "novadaq-far-farm-90"
          ],
          [
           "novadaq-far-farm-91"
          ],
          [
           "novadaq-far-farm-92"
          ],
          [
           "novadaq-far-farm-93"
          ],
          [
           "novadaq-far-farm-94"
          ],
          [
           "novadaq-far-farm-95"
          ],
          [
           "novadaq-far-farm-96"
          ],
          [
           "novadaq-far-farm-97"
          ],
          [
           "novadaq-far-farm-98"
          ],
          [
           "novadaq-far-farm-99"
          ]
         ],
         "hovertemplate": "tSNE1=%{x}<br>tSNE2=%{y}<br>nodeId=%{customdata[0]}<extra></extra>",
         "legendgroup": "",
         "marker": {
          "color": "#636efa",
          "symbol": "circle"
         },
         "mode": "markers",
         "name": "",
         "orientation": "v",
         "showlegend": false,
         "type": "scatter",
         "x": [
          7.017960548400879,
          7.02688455581665,
          6.958455562591553,
          7.006690502166748,
          7.096370697021484,
          2.803945779800415,
          4.784393787384033,
          3.5188589096069336,
          3.423488140106201,
          -2.3982784748077393,
          5.039390563964844,
          4.834651947021484,
          5.88358736038208,
          5.3010969161987305,
          6.179103851318359,
          -5.258360385894775,
          6.159468650817871,
          6.251219749450684,
          6.232196807861328,
          3.5817267894744873,
          3.943908452987671,
          -5.272118091583252,
          2.122154951095581,
          4.132471561431885,
          3.323340654373169,
          3.5771327018737793,
          11.511131286621094,
          3.3567662239074707,
          4.864269256591797,
          -2.383934497833252,
          3.2083117961883545,
          3.6358773708343506,
          -4.616870403289795,
          -7.338926792144775,
          -5.098039150238037,
          -0.09010764211416245,
          -6.883716583251953,
          -6.002719879150391,
          10.884902954101562,
          13.001357078552246,
          -7.091243267059326,
          12.506760597229004,
          -1.5269874334335327,
          -0.5576333999633789,
          -2.7718381881713867,
          2.0860354900360107,
          -3.836503267288208,
          -9.488401412963867,
          -5.902172565460205,
          -6.674405097961426,
          -5.283574104309082,
          11.006996154785156,
          -7.69633150100708,
          -0.5065209269523621,
          0.03824391961097717,
          -1.443640112876892,
          -7.500202178955078,
          -7.358689785003662,
          -3.4058120250701904,
          -1.924057960510254,
          12.704952239990234,
          -5.761289119720459,
          -9.213318824768066,
          -5.991959571838379,
          -5.558746814727783,
          -7.70918083190918,
          -5.711545467376709,
          -9.089850425720215,
          -4.064011096954346,
          -4.114612102508545,
          11.83790397644043,
          -6.800628185272217,
          -2.830467462539673,
          -7.8549017906188965,
          -1.8815580606460571,
          12.450814247131348,
          -8.485668182373047,
          -1.7571640014648438,
          -2.397216558456421,
          -9.514094352722168,
          -9.146183013916016,
          -8.443212509155273,
          13.085349082946777,
          -6.234785079956055,
          -2.3641183376312256,
          -7.972193717956543,
          -7.688440799713135,
          -8.803366661071777,
          -8.575157165527344,
          -5.62739372253418,
          -5.6210784912109375,
          -1.4154919385910034,
          -8.257584571838379,
          13.541360855102539,
          11.667692184448242,
          -0.974163293838501,
          -5.258955955505371,
          14.435914039611816,
          -3.6722099781036377,
          -6.658566474914551,
          -5.888195514678955,
          -1.4765857458114624,
          12.831742286682129,
          -1.406997561454773,
          -0.260468065738678,
          -3.024611234664917,
          -7.34870719909668,
          -3.671318531036377,
          -4.631101131439209,
          -2.3230185508728027,
          -7.25391960144043,
          2.3700075149536133,
          -2.3708207607269287,
          2.878021478652954,
          14.924294471740723,
          3.023919105529785,
          0.7193740606307983,
          -10.283930778503418,
          -7.283947944641113,
          -4.174679756164551,
          -3.809903621673584,
          -8.222371101379395,
          -7.021214485168457,
          11.840489387512207,
          -7.681676864624023,
          -3.3493528366088867,
          -2.335972309112549,
          -0.9423002004623413,
          -9.925472259521484,
          -4.116663455963135,
          14.19626522064209,
          -9.031384468078613,
          -5.9476141929626465,
          -9.890048027038574,
          -7.6930766105651855,
          -8.156709671020508,
          -1.7174532413482666,
          -9.942619323730469,
          -6.568402290344238,
          -2.8364272117614746,
          -9.242090225219727,
          -7.167763710021973,
          -9.015811920166016,
          -2.316800832748413,
          -8.090337753295898,
          -7.611145496368408,
          1.6818835735321045,
          -3.63079833984375,
          2.4731576442718506,
          3.6119000911712646,
          2.1615514755249023,
          -2.26863431930542,
          3.219866991043091,
          2.58553409576416,
          14.253904342651367,
          2.2537546157836914,
          13.724387168884277,
          3.006887435913086,
          2.646087408065796,
          2.0201523303985596,
          6.149367332458496,
          4.468751430511475,
          6.026913642883301,
          5.371935844421387,
          5.9975266456604,
          5.427657604217529,
          5.736393451690674,
          6.1512227058410645,
          2.2731454372406006,
          -6.261579990386963,
          4.820591449737549,
          2.7999095916748047,
          3.4933736324310303,
          11.463173866271973,
          1.6653977632522583,
          2.5050127506256104,
          2.1609182357788086,
          3.5176820755004883,
          4.18889856338501,
          1.7720273733139038,
          3.6772572994232178,
          2.31817626953125,
          2.242316246032715,
          4.56476354598999,
          3.1161813735961914,
          4.437870979309082,
          4.5533833503723145,
          13.175999641418457,
          4.866854190826416,
          6.1688408851623535,
          6.077548980712891,
          5.887241840362549,
          2.945298910140991,
          4.7447052001953125,
          3.7166264057159424
         ],
         "xaxis": "x",
         "y": [
          -3.201730489730835,
          -3.2596399784088135,
          -3.1662471294403076,
          -3.1918344497680664,
          -3.391085147857666,
          1.6863651275634766,
          8.668022155761719,
          7.491560935974121,
          7.987227439880371,
          9.481199264526367,
          1.2615330219268799,
          0.852398693561554,
          3.75551176071167,
          2.2221758365631104,
          9.978962898254395,
          3.2276129722595215,
          4.537876605987549,
          9.14665412902832,
          4.857205390930176,
          6.08475399017334,
          8.713302612304688,
          2.131010055541992,
          12.093034744262695,
          10.20992660522461,
          4.4310832023620605,
          8.579545021057129,
          3.779064416885376,
          5.217483043670654,
          11.009773254394531,
          9.459418296813965,
          3.555454969406128,
          -0.3795717656612396,
          -7.566413402557373,
          -10.060319900512695,
          -8.58376407623291,
          -5.73723840713501,
          -12.683553695678711,
          2.029510498046875,
          0.41992175579071045,
          2.1803033351898193,
          -9.309561729431152,
          1.8705161809921265,
          -4.541491508483887,
          -5.210489273071289,
          -7.711593151092529,
          1.1725260019302368,
          -7.30879545211792,
          -12.123779296875,
          3.628584861755371,
          -12.086803436279297,
          -6.340579032897949,
          0.5484218001365662,
          -9.007959365844727,
          -4.418949127197266,
          -0.4197899103164673,
          -6.367511749267578,
          -8.095780372619629,
          -11.89937686920166,
          1.3561829328536987,
          0.017682325094938278,
          1.1831008195877075,
          -8.40769100189209,
          -12.609225273132324,
          -9.666217803955078,
          -8.725921630859375,
          -12.218339920043945,
          -12.335010528564453,
          -11.966485977172852,
          -7.909298419952393,
          -8.164199829101562,
          3.2421417236328125,
          -9.790617942810059,
          -8.599776268005371,
          -13.151816368103027,
          -6.170837879180908,
          0.8514197468757629,
          -9.251335144042969,
          -6.655427932739258,
          -5.264533519744873,
          -11.625035285949707,
          -11.266146659851074,
          4.521397590637207,
          0.8962118029594421,
          -12.680383682250977,
          -7.669450283050537,
          -11.95870304107666,
          -11.257692337036133,
          -12.703015327453613,
          -11.700763702392578,
          -10.321492195129395,
          -10.878410339355469,
          -7.1197075843811035,
          3.0569820404052734,
          1.3168829679489136,
          0.1703004390001297,
          -4.176596164703369,
          -9.674959182739258,
          2.095391035079956,
          -6.2667694091796875,
          -10.987086296081543,
          -11.237199783325195,
          -5.064365863800049,
          1.2230088710784912,
          0.461213618516922,
          4.304119110107422,
          -6.478001594543457,
          -11.604249000549316,
          -7.5059895515441895,
          -9.5802640914917,
          -5.019123077392578,
          -13.126094818115234,
          8.3469877243042,
          9.479303359985352,
          10.939416885375977,
          2.801462411880493,
          11.293373107910156,
          -3.0174365043640137,
          4.046019077301025,
          4.7000322341918945,
          2.1329851150512695,
          1.5943872928619385,
          6.0684332847595215,
          4.3907012939453125,
          0.17576365172863007,
          3.3412461280822754,
          2.5283043384552,
          0.3001216650009155,
          -0.03804720193147659,
          3.8065390586853027,
          4.511213302612305,
          1.8865768909454346,
          5.233178615570068,
          4.194473743438721,
          3.784574031829834,
          4.848326683044434,
          3.4430148601531982,
          -0.430388867855072,
          4.635780334472656,
          3.6190202236175537,
          1.9982937574386597,
          5.098140239715576,
          4.009818077087402,
          4.249537944793701,
          -0.23087066411972046,
          4.712015628814697,
          2.5919415950775146,
          9.382170677185059,
          3.2129294872283936,
          6.925393581390381,
          10.158766746520996,
          2.494899272918701,
          0.8724446892738342,
          4.441203594207764,
          2.0388362407684326,
          1.884642243385315,
          6.680329322814941,
          2.4841394424438477,
          8.70181941986084,
          3.908541202545166,
          3.5930795669555664,
          6.133734703063965,
          0.10156230628490448,
          5.914207935333252,
          3.039597272872925,
          10.542201042175293,
          3.3834967613220215,
          5.299979209899902,
          10.580985069274902,
          2.9890661239624023,
          -8.008817672729492,
          12.003669738769531,
          7.856772422790527,
          0.7592583298683167,
          1.0260474681854248,
          4.933037281036377,
          7.425867080688477,
          5.3592987060546875,
          10.541214942932129,
          11.890005111694336,
          5.325108528137207,
          12.333566665649414,
          3.3686935901641846,
          1.6390407085418701,
          11.754794120788574,
          6.230823516845703,
          10.708085060119629,
          7.376010417938232,
          2.154827356338501,
          0.8220374584197998,
          7.265114784240723,
          9.886764526367188,
          4.140800476074219,
          2.0366857051849365,
          10.135274887084961,
          11.888728141784668
         ],
         "yaxis": "y"
        }
       ],
       "layout": {
        "legend": {
         "tracegroupgap": 0
        },
        "margin": {
         "t": 60
        },
        "template": {
         "data": {
          "bar": [
           {
            "error_x": {
             "color": "#2a3f5f"
            },
            "error_y": {
             "color": "#2a3f5f"
            },
            "marker": {
             "line": {
              "color": "#E5ECF6",
              "width": 0.5
             },
             "pattern": {
              "fillmode": "overlay",
              "size": 10,
              "solidity": 0.2
             }
            },
            "type": "bar"
           }
          ],
          "barpolar": [
           {
            "marker": {
             "line": {
              "color": "#E5ECF6",
              "width": 0.5
             },
             "pattern": {
              "fillmode": "overlay",
              "size": 10,
              "solidity": 0.2
             }
            },
            "type": "barpolar"
           }
          ],
          "carpet": [
           {
            "aaxis": {
             "endlinecolor": "#2a3f5f",
             "gridcolor": "white",
             "linecolor": "white",
             "minorgridcolor": "white",
             "startlinecolor": "#2a3f5f"
            },
            "baxis": {
             "endlinecolor": "#2a3f5f",
             "gridcolor": "white",
             "linecolor": "white",
             "minorgridcolor": "white",
             "startlinecolor": "#2a3f5f"
            },
            "type": "carpet"
           }
          ],
          "choropleth": [
           {
            "colorbar": {
             "outlinewidth": 0,
             "ticks": ""
            },
            "type": "choropleth"
           }
          ],
          "contour": [
           {
            "colorbar": {
             "outlinewidth": 0,
             "ticks": ""
            },
            "colorscale": [
             [
              0,
              "#0d0887"
             ],
             [
              0.1111111111111111,
              "#46039f"
             ],
             [
              0.2222222222222222,
              "#7201a8"
             ],
             [
              0.3333333333333333,
              "#9c179e"
             ],
             [
              0.4444444444444444,
              "#bd3786"
             ],
             [
              0.5555555555555556,
              "#d8576b"
             ],
             [
              0.6666666666666666,
              "#ed7953"
             ],
             [
              0.7777777777777778,
              "#fb9f3a"
             ],
             [
              0.8888888888888888,
              "#fdca26"
             ],
             [
              1,
              "#f0f921"
             ]
            ],
            "type": "contour"
           }
          ],
          "contourcarpet": [
           {
            "colorbar": {
             "outlinewidth": 0,
             "ticks": ""
            },
            "type": "contourcarpet"
           }
          ],
          "heatmap": [
           {
            "colorbar": {
             "outlinewidth": 0,
             "ticks": ""
            },
            "colorscale": [
             [
              0,
              "#0d0887"
             ],
             [
              0.1111111111111111,
              "#46039f"
             ],
             [
              0.2222222222222222,
              "#7201a8"
             ],
             [
              0.3333333333333333,
              "#9c179e"
             ],
             [
              0.4444444444444444,
              "#bd3786"
             ],
             [
              0.5555555555555556,
              "#d8576b"
             ],
             [
              0.6666666666666666,
              "#ed7953"
             ],
             [
              0.7777777777777778,
              "#fb9f3a"
             ],
             [
              0.8888888888888888,
              "#fdca26"
             ],
             [
              1,
              "#f0f921"
             ]
            ],
            "type": "heatmap"
           }
          ],
          "heatmapgl": [
           {
            "colorbar": {
             "outlinewidth": 0,
             "ticks": ""
            },
            "colorscale": [
             [
              0,
              "#0d0887"
             ],
             [
              0.1111111111111111,
              "#46039f"
             ],
             [
              0.2222222222222222,
              "#7201a8"
             ],
             [
              0.3333333333333333,
              "#9c179e"
             ],
             [
              0.4444444444444444,
              "#bd3786"
             ],
             [
              0.5555555555555556,
              "#d8576b"
             ],
             [
              0.6666666666666666,
              "#ed7953"
             ],
             [
              0.7777777777777778,
              "#fb9f3a"
             ],
             [
              0.8888888888888888,
              "#fdca26"
             ],
             [
              1,
              "#f0f921"
             ]
            ],
            "type": "heatmapgl"
           }
          ],
          "histogram": [
           {
            "marker": {
             "pattern": {
              "fillmode": "overlay",
              "size": 10,
              "solidity": 0.2
             }
            },
            "type": "histogram"
           }
          ],
          "histogram2d": [
           {
            "colorbar": {
             "outlinewidth": 0,
             "ticks": ""
            },
            "colorscale": [
             [
              0,
              "#0d0887"
             ],
             [
              0.1111111111111111,
              "#46039f"
             ],
             [
              0.2222222222222222,
              "#7201a8"
             ],
             [
              0.3333333333333333,
              "#9c179e"
             ],
             [
              0.4444444444444444,
              "#bd3786"
             ],
             [
              0.5555555555555556,
              "#d8576b"
             ],
             [
              0.6666666666666666,
              "#ed7953"
             ],
             [
              0.7777777777777778,
              "#fb9f3a"
             ],
             [
              0.8888888888888888,
              "#fdca26"
             ],
             [
              1,
              "#f0f921"
             ]
            ],
            "type": "histogram2d"
           }
          ],
          "histogram2dcontour": [
           {
            "colorbar": {
             "outlinewidth": 0,
             "ticks": ""
            },
            "colorscale": [
             [
              0,
              "#0d0887"
             ],
             [
              0.1111111111111111,
              "#46039f"
             ],
             [
              0.2222222222222222,
              "#7201a8"
             ],
             [
              0.3333333333333333,
              "#9c179e"
             ],
             [
              0.4444444444444444,
              "#bd3786"
             ],
             [
              0.5555555555555556,
              "#d8576b"
             ],
             [
              0.6666666666666666,
              "#ed7953"
             ],
             [
              0.7777777777777778,
              "#fb9f3a"
             ],
             [
              0.8888888888888888,
              "#fdca26"
             ],
             [
              1,
              "#f0f921"
             ]
            ],
            "type": "histogram2dcontour"
           }
          ],
          "mesh3d": [
           {
            "colorbar": {
             "outlinewidth": 0,
             "ticks": ""
            },
            "type": "mesh3d"
           }
          ],
          "parcoords": [
           {
            "line": {
             "colorbar": {
              "outlinewidth": 0,
              "ticks": ""
             }
            },
            "type": "parcoords"
           }
          ],
          "pie": [
           {
            "automargin": true,
            "type": "pie"
           }
          ],
          "scatter": [
           {
            "fillpattern": {
             "fillmode": "overlay",
             "size": 10,
             "solidity": 0.2
            },
            "type": "scatter"
           }
          ],
          "scatter3d": [
           {
            "line": {
             "colorbar": {
              "outlinewidth": 0,
              "ticks": ""
             }
            },
            "marker": {
             "colorbar": {
              "outlinewidth": 0,
              "ticks": ""
             }
            },
            "type": "scatter3d"
           }
          ],
          "scattercarpet": [
           {
            "marker": {
             "colorbar": {
              "outlinewidth": 0,
              "ticks": ""
             }
            },
            "type": "scattercarpet"
           }
          ],
          "scattergeo": [
           {
            "marker": {
             "colorbar": {
              "outlinewidth": 0,
              "ticks": ""
             }
            },
            "type": "scattergeo"
           }
          ],
          "scattergl": [
           {
            "marker": {
             "colorbar": {
              "outlinewidth": 0,
              "ticks": ""
             }
            },
            "type": "scattergl"
           }
          ],
          "scattermapbox": [
           {
            "marker": {
             "colorbar": {
              "outlinewidth": 0,
              "ticks": ""
             }
            },
            "type": "scattermapbox"
           }
          ],
          "scatterpolar": [
           {
            "marker": {
             "colorbar": {
              "outlinewidth": 0,
              "ticks": ""
             }
            },
            "type": "scatterpolar"
           }
          ],
          "scatterpolargl": [
           {
            "marker": {
             "colorbar": {
              "outlinewidth": 0,
              "ticks": ""
             }
            },
            "type": "scatterpolargl"
           }
          ],
          "scatterternary": [
           {
            "marker": {
             "colorbar": {
              "outlinewidth": 0,
              "ticks": ""
             }
            },
            "type": "scatterternary"
           }
          ],
          "surface": [
           {
            "colorbar": {
             "outlinewidth": 0,
             "ticks": ""
            },
            "colorscale": [
             [
              0,
              "#0d0887"
             ],
             [
              0.1111111111111111,
              "#46039f"
             ],
             [
              0.2222222222222222,
              "#7201a8"
             ],
             [
              0.3333333333333333,
              "#9c179e"
             ],
             [
              0.4444444444444444,
              "#bd3786"
             ],
             [
              0.5555555555555556,
              "#d8576b"
             ],
             [
              0.6666666666666666,
              "#ed7953"
             ],
             [
              0.7777777777777778,
              "#fb9f3a"
             ],
             [
              0.8888888888888888,
              "#fdca26"
             ],
             [
              1,
              "#f0f921"
             ]
            ],
            "type": "surface"
           }
          ],
          "table": [
           {
            "cells": {
             "fill": {
              "color": "#EBF0F8"
             },
             "line": {
              "color": "white"
             }
            },
            "header": {
             "fill": {
              "color": "#C8D4E3"
             },
             "line": {
              "color": "white"
             }
            },
            "type": "table"
           }
          ]
         },
         "layout": {
          "annotationdefaults": {
           "arrowcolor": "#2a3f5f",
           "arrowhead": 0,
           "arrowwidth": 1
          },
          "autotypenumbers": "strict",
          "coloraxis": {
           "colorbar": {
            "outlinewidth": 0,
            "ticks": ""
           }
          },
          "colorscale": {
           "diverging": [
            [
             0,
             "#8e0152"
            ],
            [
             0.1,
             "#c51b7d"
            ],
            [
             0.2,
             "#de77ae"
            ],
            [
             0.3,
             "#f1b6da"
            ],
            [
             0.4,
             "#fde0ef"
            ],
            [
             0.5,
             "#f7f7f7"
            ],
            [
             0.6,
             "#e6f5d0"
            ],
            [
             0.7,
             "#b8e186"
            ],
            [
             0.8,
             "#7fbc41"
            ],
            [
             0.9,
             "#4d9221"
            ],
            [
             1,
             "#276419"
            ]
           ],
           "sequential": [
            [
             0,
             "#0d0887"
            ],
            [
             0.1111111111111111,
             "#46039f"
            ],
            [
             0.2222222222222222,
             "#7201a8"
            ],
            [
             0.3333333333333333,
             "#9c179e"
            ],
            [
             0.4444444444444444,
             "#bd3786"
            ],
            [
             0.5555555555555556,
             "#d8576b"
            ],
            [
             0.6666666666666666,
             "#ed7953"
            ],
            [
             0.7777777777777778,
             "#fb9f3a"
            ],
            [
             0.8888888888888888,
             "#fdca26"
            ],
            [
             1,
             "#f0f921"
            ]
           ],
           "sequentialminus": [
            [
             0,
             "#0d0887"
            ],
            [
             0.1111111111111111,
             "#46039f"
            ],
            [
             0.2222222222222222,
             "#7201a8"
            ],
            [
             0.3333333333333333,
             "#9c179e"
            ],
            [
             0.4444444444444444,
             "#bd3786"
            ],
            [
             0.5555555555555556,
             "#d8576b"
            ],
            [
             0.6666666666666666,
             "#ed7953"
            ],
            [
             0.7777777777777778,
             "#fb9f3a"
            ],
            [
             0.8888888888888888,
             "#fdca26"
            ],
            [
             1,
             "#f0f921"
            ]
           ]
          },
          "colorway": [
           "#636efa",
           "#EF553B",
           "#00cc96",
           "#ab63fa",
           "#FFA15A",
           "#19d3f3",
           "#FF6692",
           "#B6E880",
           "#FF97FF",
           "#FECB52"
          ],
          "font": {
           "color": "#2a3f5f"
          },
          "geo": {
           "bgcolor": "white",
           "lakecolor": "white",
           "landcolor": "#E5ECF6",
           "showlakes": true,
           "showland": true,
           "subunitcolor": "white"
          },
          "hoverlabel": {
           "align": "left"
          },
          "hovermode": "closest",
          "mapbox": {
           "style": "light"
          },
          "paper_bgcolor": "white",
          "plot_bgcolor": "#E5ECF6",
          "polar": {
           "angularaxis": {
            "gridcolor": "white",
            "linecolor": "white",
            "ticks": ""
           },
           "bgcolor": "#E5ECF6",
           "radialaxis": {
            "gridcolor": "white",
            "linecolor": "white",
            "ticks": ""
           }
          },
          "scene": {
           "xaxis": {
            "backgroundcolor": "#E5ECF6",
            "gridcolor": "white",
            "gridwidth": 2,
            "linecolor": "white",
            "showbackground": true,
            "ticks": "",
            "zerolinecolor": "white"
           },
           "yaxis": {
            "backgroundcolor": "#E5ECF6",
            "gridcolor": "white",
            "gridwidth": 2,
            "linecolor": "white",
            "showbackground": true,
            "ticks": "",
            "zerolinecolor": "white"
           },
           "zaxis": {
            "backgroundcolor": "#E5ECF6",
            "gridcolor": "white",
            "gridwidth": 2,
            "linecolor": "white",
            "showbackground": true,
            "ticks": "",
            "zerolinecolor": "white"
           }
          },
          "shapedefaults": {
           "line": {
            "color": "#2a3f5f"
           }
          },
          "ternary": {
           "aaxis": {
            "gridcolor": "white",
            "linecolor": "white",
            "ticks": ""
           },
           "baxis": {
            "gridcolor": "white",
            "linecolor": "white",
            "ticks": ""
           },
           "bgcolor": "#E5ECF6",
           "caxis": {
            "gridcolor": "white",
            "linecolor": "white",
            "ticks": ""
           }
          },
          "title": {
           "x": 0.05
          },
          "xaxis": {
           "automargin": true,
           "gridcolor": "white",
           "linecolor": "white",
           "ticks": "",
           "title": {
            "standoff": 15
           },
           "zerolinecolor": "white",
           "zerolinewidth": 2
          },
          "yaxis": {
           "automargin": true,
           "gridcolor": "white",
           "linecolor": "white",
           "ticks": "",
           "title": {
            "standoff": 15
           },
           "zerolinecolor": "white",
           "zerolinewidth": 2
          }
         }
        },
        "title": {
         "text": "t-SNE Projection"
        },
        "xaxis": {
         "anchor": "y",
         "domain": [
          0,
          1
         ],
         "title": {
          "text": "t-SNE 1"
         }
        },
        "yaxis": {
         "anchor": "x",
         "domain": [
          0,
          1
         ],
         "title": {
          "text": "t-SNE 2"
         }
        }
       }
      }
     },
     "metadata": {},
     "output_type": "display_data"
    }
   ],
   "source": [
    "import plotly.express as px\n",
    "import pandas as pd\n",
    "from sklearn.manifold import TSNE\n",
    "\n",
    "# two-step DR: PCA+tSNE\n",
    "df_tsne = df_pivot.drop(columns=['UMAP1', 'UMAP2', 'nodeId'])\n",
    "tsne = TSNE(n_components=2, random_state=42)\n",
    "embedding = tsne.fit_transform(df_tsne)\n",
    "\n",
    "df_pivot['tSNE1'] = embedding[:, 0]\n",
    "df_pivot['tSNE2'] = embedding[:, 1]\n",
    "\n",
    "fig = px.scatter(df_pivot, x='tSNE1', y='tSNE2', hover_data={'nodeId': True})\n",
    "\n",
    "fig.update_layout(title=\"t-SNE Projection\",\n",
    "                  xaxis_title=\"t-SNE 1\",\n",
    "                  yaxis_title=\"t-SNE 2\")\n",
    "\n",
    "fig.show()\n"
   ]
  },
  {
   "cell_type": "markdown",
   "metadata": {},
   "source": [
    "Second step DR: PCA"
   ]
  },
  {
   "cell_type": "code",
   "execution_count": 8,
   "metadata": {},
   "outputs": [],
   "source": [
    "import plotly.express as px\n",
    "import pandas as pd\n",
    "\n",
    "# DR2 - applying PCA to each feature across one node/component \n",
    "def apply_pca(X, n_components=2):\n",
    "    try:\n",
    "        baseline = X.values\n",
    "\n",
    "        # normalizing the data (demean)\n",
    "        mean_hat = baseline.mean(axis=0)\n",
    "        demeaned = baseline - mean_hat\n",
    "\n",
    "        # standardize\n",
    "        scaler = StandardScaler()\n",
    "        X_scaled = scaler.fit_transform(demeaned)\n",
    "\n",
    "        # apply PCA\n",
    "        pca = PCA(n_components=n_components)\n",
    "        scores = pca.fit_transform(X_scaled)\n",
    "\n",
    "        explained_variance_ratio_cumsum = np.cumsum(pca.explained_variance_ratio_)\n",
    "        npc = np.sum(explained_variance_ratio_cumsum < 0.9999) + 1\n",
    "        n_components = scores.shape[1]\n",
    "        print(f\"Number of principal components: {n_components}\")\n",
    "        \n",
    "\n",
    "        P_fin = pd.DataFrame({f\"PC{k+1}\": scores[:, k] if k < n_components else np.nan for k in range(3)})\n",
    "        P_fin['Measurement'] = X.index\n",
    "\n",
    "        return P_fin\n",
    "\n",
    "    except Exception as e:\n",
    "        print(f\"Error processing PCA across features: {e}\")\n",
    "        return None"
   ]
  },
  {
   "cell_type": "code",
   "execution_count": 9,
   "metadata": {},
   "outputs": [
    {
     "name": "stdout",
     "output_type": "stream",
     "text": [
      "Number of principal components: 2\n"
     ]
    }
   ],
   "source": [
    "df_pca = df_pivot.drop(columns=['UMAP1', 'UMAP2', 'tSNE1', 'tSNE2', 'nodeId'])\n",
    "P_df = apply_pca(df_pca)"
   ]
  },
  {
   "cell_type": "code",
   "execution_count": 11,
   "metadata": {},
   "outputs": [
    {
     "data": {
      "text/html": [
       "<div>\n",
       "<style scoped>\n",
       "    .dataframe tbody tr th:only-of-type {\n",
       "        vertical-align: middle;\n",
       "    }\n",
       "\n",
       "    .dataframe tbody tr th {\n",
       "        vertical-align: top;\n",
       "    }\n",
       "\n",
       "    .dataframe thead th {\n",
       "        text-align: right;\n",
       "    }\n",
       "</style>\n",
       "<table border=\"1\" class=\"dataframe\">\n",
       "  <thead>\n",
       "    <tr style=\"text-align: right;\">\n",
       "      <th></th>\n",
       "      <th>PC1</th>\n",
       "      <th>PC2</th>\n",
       "      <th>PC3</th>\n",
       "      <th>Measurement</th>\n",
       "    </tr>\n",
       "  </thead>\n",
       "  <tbody>\n",
       "    <tr>\n",
       "      <th>0</th>\n",
       "      <td>14.070342</td>\n",
       "      <td>-2.252934</td>\n",
       "      <td>NaN</td>\n",
       "      <td>novadaq-far-farm-06</td>\n",
       "    </tr>\n",
       "    <tr>\n",
       "      <th>1</th>\n",
       "      <td>13.898073</td>\n",
       "      <td>-2.905247</td>\n",
       "      <td>NaN</td>\n",
       "      <td>novadaq-far-farm-07</td>\n",
       "    </tr>\n",
       "    <tr>\n",
       "      <th>2</th>\n",
       "      <td>14.296000</td>\n",
       "      <td>-4.006608</td>\n",
       "      <td>NaN</td>\n",
       "      <td>novadaq-far-farm-08</td>\n",
       "    </tr>\n",
       "    <tr>\n",
       "      <th>3</th>\n",
       "      <td>14.216686</td>\n",
       "      <td>-2.622160</td>\n",
       "      <td>NaN</td>\n",
       "      <td>novadaq-far-farm-09</td>\n",
       "    </tr>\n",
       "    <tr>\n",
       "      <th>4</th>\n",
       "      <td>13.550015</td>\n",
       "      <td>-2.195082</td>\n",
       "      <td>NaN</td>\n",
       "      <td>novadaq-far-farm-10</td>\n",
       "    </tr>\n",
       "    <tr>\n",
       "      <th>...</th>\n",
       "      <td>...</td>\n",
       "      <td>...</td>\n",
       "      <td>...</td>\n",
       "      <td>...</td>\n",
       "    </tr>\n",
       "    <tr>\n",
       "      <th>190</th>\n",
       "      <td>-1.859436</td>\n",
       "      <td>1.464636</td>\n",
       "      <td>NaN</td>\n",
       "      <td>novadaq-far-farm-95</td>\n",
       "    </tr>\n",
       "    <tr>\n",
       "      <th>191</th>\n",
       "      <td>1.183160</td>\n",
       "      <td>-0.081462</td>\n",
       "      <td>NaN</td>\n",
       "      <td>novadaq-far-farm-96</td>\n",
       "    </tr>\n",
       "    <tr>\n",
       "      <th>192</th>\n",
       "      <td>2.327326</td>\n",
       "      <td>-0.884678</td>\n",
       "      <td>NaN</td>\n",
       "      <td>novadaq-far-farm-97</td>\n",
       "    </tr>\n",
       "    <tr>\n",
       "      <th>193</th>\n",
       "      <td>-2.028562</td>\n",
       "      <td>0.979259</td>\n",
       "      <td>NaN</td>\n",
       "      <td>novadaq-far-farm-98</td>\n",
       "    </tr>\n",
       "    <tr>\n",
       "      <th>194</th>\n",
       "      <td>-3.113381</td>\n",
       "      <td>1.611297</td>\n",
       "      <td>NaN</td>\n",
       "      <td>novadaq-far-farm-99</td>\n",
       "    </tr>\n",
       "  </tbody>\n",
       "</table>\n",
       "<p>195 rows × 4 columns</p>\n",
       "</div>"
      ],
      "text/plain": [
       "           PC1       PC2  PC3          Measurement\n",
       "0    14.070342 -2.252934  NaN  novadaq-far-farm-06\n",
       "1    13.898073 -2.905247  NaN  novadaq-far-farm-07\n",
       "2    14.296000 -4.006608  NaN  novadaq-far-farm-08\n",
       "3    14.216686 -2.622160  NaN  novadaq-far-farm-09\n",
       "4    13.550015 -2.195082  NaN  novadaq-far-farm-10\n",
       "..         ...       ...  ...                  ...\n",
       "190  -1.859436  1.464636  NaN  novadaq-far-farm-95\n",
       "191   1.183160 -0.081462  NaN  novadaq-far-farm-96\n",
       "192   2.327326 -0.884678  NaN  novadaq-far-farm-97\n",
       "193  -2.028562  0.979259  NaN  novadaq-far-farm-98\n",
       "194  -3.113381  1.611297  NaN  novadaq-far-farm-99\n",
       "\n",
       "[195 rows x 4 columns]"
      ]
     },
     "execution_count": 11,
     "metadata": {},
     "output_type": "execute_result"
    }
   ],
   "source": [
    "P_df"
   ]
  },
  {
   "cell_type": "code",
   "execution_count": 12,
   "metadata": {},
   "outputs": [
    {
     "data": {
      "text/html": [
       "<div>\n",
       "<style scoped>\n",
       "    .dataframe tbody tr th:only-of-type {\n",
       "        vertical-align: middle;\n",
       "    }\n",
       "\n",
       "    .dataframe tbody tr th {\n",
       "        vertical-align: top;\n",
       "    }\n",
       "\n",
       "    .dataframe thead th {\n",
       "        text-align: right;\n",
       "    }\n",
       "</style>\n",
       "<table border=\"1\" class=\"dataframe\">\n",
       "  <thead>\n",
       "    <tr style=\"text-align: right;\">\n",
       "      <th>Col</th>\n",
       "      <th>Missed Buffers_P1</th>\n",
       "      <th>Pool Size Data_P1</th>\n",
       "      <th>Pool Size Events_P1</th>\n",
       "      <th>Pool Size Time_P1</th>\n",
       "      <th>boottime</th>\n",
       "      <th>bytes_in</th>\n",
       "      <th>bytes_out</th>\n",
       "      <th>cpu_aidle</th>\n",
       "      <th>cpu_idle</th>\n",
       "      <th>cpu_nice</th>\n",
       "      <th>...</th>\n",
       "      <th>part_max_used</th>\n",
       "      <th>pkts_in</th>\n",
       "      <th>pkts_out</th>\n",
       "      <th>proc_run</th>\n",
       "      <th>proc_total</th>\n",
       "      <th>swap_free</th>\n",
       "      <th>swap_total</th>\n",
       "      <th>PC1</th>\n",
       "      <th>PC2</th>\n",
       "      <th>nodeId</th>\n",
       "    </tr>\n",
       "    <tr>\n",
       "      <th>Measurement</th>\n",
       "      <th></th>\n",
       "      <th></th>\n",
       "      <th></th>\n",
       "      <th></th>\n",
       "      <th></th>\n",
       "      <th></th>\n",
       "      <th></th>\n",
       "      <th></th>\n",
       "      <th></th>\n",
       "      <th></th>\n",
       "      <th></th>\n",
       "      <th></th>\n",
       "      <th></th>\n",
       "      <th></th>\n",
       "      <th></th>\n",
       "      <th></th>\n",
       "      <th></th>\n",
       "      <th></th>\n",
       "      <th></th>\n",
       "      <th></th>\n",
       "      <th></th>\n",
       "    </tr>\n",
       "  </thead>\n",
       "  <tbody>\n",
       "    <tr>\n",
       "      <th>novadaq-far-farm-06</th>\n",
       "      <td>-24.256130</td>\n",
       "      <td>221.502564</td>\n",
       "      <td>223.920172</td>\n",
       "      <td>223.214097</td>\n",
       "      <td>-22.035973</td>\n",
       "      <td>204.857742</td>\n",
       "      <td>-134.147774</td>\n",
       "      <td>16.808551</td>\n",
       "      <td>127.056379</td>\n",
       "      <td>113.733076</td>\n",
       "      <td>...</td>\n",
       "      <td>5.687101</td>\n",
       "      <td>191.667016</td>\n",
       "      <td>222.143552</td>\n",
       "      <td>97.883786</td>\n",
       "      <td>-70.687349</td>\n",
       "      <td>-7.153418</td>\n",
       "      <td>-7.165049</td>\n",
       "      <td>14.070342</td>\n",
       "      <td>-2.252934</td>\n",
       "      <td>novadaq-far-farm-06</td>\n",
       "    </tr>\n",
       "    <tr>\n",
       "      <th>novadaq-far-farm-07</th>\n",
       "      <td>-24.256130</td>\n",
       "      <td>221.502564</td>\n",
       "      <td>223.920172</td>\n",
       "      <td>223.214097</td>\n",
       "      <td>-20.147498</td>\n",
       "      <td>204.986937</td>\n",
       "      <td>-134.194588</td>\n",
       "      <td>-14.473576</td>\n",
       "      <td>125.153507</td>\n",
       "      <td>114.064763</td>\n",
       "      <td>...</td>\n",
       "      <td>-29.307690</td>\n",
       "      <td>192.456964</td>\n",
       "      <td>222.238555</td>\n",
       "      <td>95.922728</td>\n",
       "      <td>-70.837992</td>\n",
       "      <td>-7.153418</td>\n",
       "      <td>-7.165049</td>\n",
       "      <td>13.898073</td>\n",
       "      <td>-2.905247</td>\n",
       "      <td>novadaq-far-farm-07</td>\n",
       "    </tr>\n",
       "    <tr>\n",
       "      <th>novadaq-far-farm-08</th>\n",
       "      <td>-24.256130</td>\n",
       "      <td>221.502564</td>\n",
       "      <td>223.920172</td>\n",
       "      <td>223.214097</td>\n",
       "      <td>22.105131</td>\n",
       "      <td>205.294531</td>\n",
       "      <td>-134.363631</td>\n",
       "      <td>-20.789340</td>\n",
       "      <td>75.072762</td>\n",
       "      <td>113.736503</td>\n",
       "      <td>...</td>\n",
       "      <td>24.567064</td>\n",
       "      <td>201.005329</td>\n",
       "      <td>222.180963</td>\n",
       "      <td>98.238420</td>\n",
       "      <td>-86.532456</td>\n",
       "      <td>-7.153418</td>\n",
       "      <td>-7.165049</td>\n",
       "      <td>14.296000</td>\n",
       "      <td>-4.006608</td>\n",
       "      <td>novadaq-far-farm-08</td>\n",
       "    </tr>\n",
       "    <tr>\n",
       "      <th>novadaq-far-farm-09</th>\n",
       "      <td>-24.256130</td>\n",
       "      <td>221.502564</td>\n",
       "      <td>223.920172</td>\n",
       "      <td>223.214097</td>\n",
       "      <td>-11.154821</td>\n",
       "      <td>205.093293</td>\n",
       "      <td>-134.319299</td>\n",
       "      <td>11.106108</td>\n",
       "      <td>115.991741</td>\n",
       "      <td>113.735090</td>\n",
       "      <td>...</td>\n",
       "      <td>10.276417</td>\n",
       "      <td>193.845055</td>\n",
       "      <td>222.321312</td>\n",
       "      <td>98.292996</td>\n",
       "      <td>-73.277183</td>\n",
       "      <td>-7.153418</td>\n",
       "      <td>-7.165049</td>\n",
       "      <td>14.216686</td>\n",
       "      <td>-2.622160</td>\n",
       "      <td>novadaq-far-farm-09</td>\n",
       "    </tr>\n",
       "    <tr>\n",
       "      <th>novadaq-far-farm-10</th>\n",
       "      <td>-24.256130</td>\n",
       "      <td>221.502564</td>\n",
       "      <td>223.920172</td>\n",
       "      <td>223.214097</td>\n",
       "      <td>-16.779916</td>\n",
       "      <td>204.977334</td>\n",
       "      <td>-134.248648</td>\n",
       "      <td>-15.117958</td>\n",
       "      <td>122.038137</td>\n",
       "      <td>113.735767</td>\n",
       "      <td>...</td>\n",
       "      <td>28.671451</td>\n",
       "      <td>192.887712</td>\n",
       "      <td>222.281727</td>\n",
       "      <td>97.878586</td>\n",
       "      <td>-71.640847</td>\n",
       "      <td>-7.153418</td>\n",
       "      <td>-7.165049</td>\n",
       "      <td>13.550015</td>\n",
       "      <td>-2.195082</td>\n",
       "      <td>novadaq-far-farm-10</td>\n",
       "    </tr>\n",
       "    <tr>\n",
       "      <th>...</th>\n",
       "      <td>...</td>\n",
       "      <td>...</td>\n",
       "      <td>...</td>\n",
       "      <td>...</td>\n",
       "      <td>...</td>\n",
       "      <td>...</td>\n",
       "      <td>...</td>\n",
       "      <td>...</td>\n",
       "      <td>...</td>\n",
       "      <td>...</td>\n",
       "      <td>...</td>\n",
       "      <td>...</td>\n",
       "      <td>...</td>\n",
       "      <td>...</td>\n",
       "      <td>...</td>\n",
       "      <td>...</td>\n",
       "      <td>...</td>\n",
       "      <td>...</td>\n",
       "      <td>...</td>\n",
       "      <td>...</td>\n",
       "      <td>...</td>\n",
       "    </tr>\n",
       "    <tr>\n",
       "      <th>novadaq-far-farm-95</th>\n",
       "      <td>-24.256130</td>\n",
       "      <td>-26.012181</td>\n",
       "      <td>-25.092464</td>\n",
       "      <td>-25.399800</td>\n",
       "      <td>11.557186</td>\n",
       "      <td>-27.051852</td>\n",
       "      <td>24.159324</td>\n",
       "      <td>47.763506</td>\n",
       "      <td>14.555998</td>\n",
       "      <td>-23.449652</td>\n",
       "      <td>...</td>\n",
       "      <td>-60.641238</td>\n",
       "      <td>-27.975056</td>\n",
       "      <td>-26.469337</td>\n",
       "      <td>-25.627451</td>\n",
       "      <td>5.713262</td>\n",
       "      <td>-7.153418</td>\n",
       "      <td>-7.165049</td>\n",
       "      <td>-1.859436</td>\n",
       "      <td>1.464636</td>\n",
       "      <td>novadaq-far-farm-95</td>\n",
       "    </tr>\n",
       "    <tr>\n",
       "      <th>novadaq-far-farm-96</th>\n",
       "      <td>-24.223770</td>\n",
       "      <td>3.295862</td>\n",
       "      <td>3.401222</td>\n",
       "      <td>3.632307</td>\n",
       "      <td>56.033327</td>\n",
       "      <td>1.961146</td>\n",
       "      <td>-13.428502</td>\n",
       "      <td>25.778116</td>\n",
       "      <td>-11.183348</td>\n",
       "      <td>4.660297</td>\n",
       "      <td>...</td>\n",
       "      <td>-41.043307</td>\n",
       "      <td>5.308201</td>\n",
       "      <td>1.691727</td>\n",
       "      <td>13.884449</td>\n",
       "      <td>-18.087210</td>\n",
       "      <td>-7.153418</td>\n",
       "      <td>-7.165049</td>\n",
       "      <td>1.183160</td>\n",
       "      <td>-0.081462</td>\n",
       "      <td>novadaq-far-farm-96</td>\n",
       "    </tr>\n",
       "    <tr>\n",
       "      <th>novadaq-far-farm-97</th>\n",
       "      <td>-22.252491</td>\n",
       "      <td>22.593992</td>\n",
       "      <td>21.756998</td>\n",
       "      <td>22.532210</td>\n",
       "      <td>29.394489</td>\n",
       "      <td>21.438514</td>\n",
       "      <td>-32.353491</td>\n",
       "      <td>-28.771354</td>\n",
       "      <td>-29.200002</td>\n",
       "      <td>23.607357</td>\n",
       "      <td>...</td>\n",
       "      <td>-7.177163</td>\n",
       "      <td>25.577577</td>\n",
       "      <td>20.207151</td>\n",
       "      <td>31.812149</td>\n",
       "      <td>-33.138204</td>\n",
       "      <td>-7.153418</td>\n",
       "      <td>-7.165049</td>\n",
       "      <td>2.327326</td>\n",
       "      <td>-0.884678</td>\n",
       "      <td>novadaq-far-farm-97</td>\n",
       "    </tr>\n",
       "    <tr>\n",
       "      <th>novadaq-far-farm-98</th>\n",
       "      <td>-10.655093</td>\n",
       "      <td>-24.494696</td>\n",
       "      <td>-25.051618</td>\n",
       "      <td>-24.958231</td>\n",
       "      <td>-35.669601</td>\n",
       "      <td>-24.990747</td>\n",
       "      <td>19.969042</td>\n",
       "      <td>8.742871</td>\n",
       "      <td>12.635832</td>\n",
       "      <td>-22.770763</td>\n",
       "      <td>...</td>\n",
       "      <td>-36.211488</td>\n",
       "      <td>-26.170819</td>\n",
       "      <td>-26.362507</td>\n",
       "      <td>-22.716321</td>\n",
       "      <td>2.728275</td>\n",
       "      <td>-7.153418</td>\n",
       "      <td>-7.165049</td>\n",
       "      <td>-2.028562</td>\n",
       "      <td>0.979259</td>\n",
       "      <td>novadaq-far-farm-98</td>\n",
       "    </tr>\n",
       "    <tr>\n",
       "      <th>novadaq-far-farm-99</th>\n",
       "      <td>36.835838</td>\n",
       "      <td>-31.178505</td>\n",
       "      <td>-31.447805</td>\n",
       "      <td>-31.808645</td>\n",
       "      <td>-47.678099</td>\n",
       "      <td>-32.276860</td>\n",
       "      <td>30.289731</td>\n",
       "      <td>15.124629</td>\n",
       "      <td>19.652883</td>\n",
       "      <td>-28.798678</td>\n",
       "      <td>...</td>\n",
       "      <td>-41.546164</td>\n",
       "      <td>-35.281127</td>\n",
       "      <td>-31.574469</td>\n",
       "      <td>-34.779689</td>\n",
       "      <td>10.710541</td>\n",
       "      <td>-7.153418</td>\n",
       "      <td>-7.165049</td>\n",
       "      <td>-3.113381</td>\n",
       "      <td>1.611297</td>\n",
       "      <td>novadaq-far-farm-99</td>\n",
       "    </tr>\n",
       "  </tbody>\n",
       "</table>\n",
       "<p>195 rows × 34 columns</p>\n",
       "</div>"
      ],
      "text/plain": [
       "Col                  Missed Buffers_P1  Pool Size Data_P1  \\\n",
       "Measurement                                                 \n",
       "novadaq-far-farm-06         -24.256130         221.502564   \n",
       "novadaq-far-farm-07         -24.256130         221.502564   \n",
       "novadaq-far-farm-08         -24.256130         221.502564   \n",
       "novadaq-far-farm-09         -24.256130         221.502564   \n",
       "novadaq-far-farm-10         -24.256130         221.502564   \n",
       "...                                ...                ...   \n",
       "novadaq-far-farm-95         -24.256130         -26.012181   \n",
       "novadaq-far-farm-96         -24.223770           3.295862   \n",
       "novadaq-far-farm-97         -22.252491          22.593992   \n",
       "novadaq-far-farm-98         -10.655093         -24.494696   \n",
       "novadaq-far-farm-99          36.835838         -31.178505   \n",
       "\n",
       "Col                  Pool Size Events_P1  Pool Size Time_P1   boottime  \\\n",
       "Measurement                                                              \n",
       "novadaq-far-farm-06           223.920172         223.214097 -22.035973   \n",
       "novadaq-far-farm-07           223.920172         223.214097 -20.147498   \n",
       "novadaq-far-farm-08           223.920172         223.214097  22.105131   \n",
       "novadaq-far-farm-09           223.920172         223.214097 -11.154821   \n",
       "novadaq-far-farm-10           223.920172         223.214097 -16.779916   \n",
       "...                                  ...                ...        ...   \n",
       "novadaq-far-farm-95           -25.092464         -25.399800  11.557186   \n",
       "novadaq-far-farm-96             3.401222           3.632307  56.033327   \n",
       "novadaq-far-farm-97            21.756998          22.532210  29.394489   \n",
       "novadaq-far-farm-98           -25.051618         -24.958231 -35.669601   \n",
       "novadaq-far-farm-99           -31.447805         -31.808645 -47.678099   \n",
       "\n",
       "Col                    bytes_in   bytes_out  cpu_aidle    cpu_idle  \\\n",
       "Measurement                                                          \n",
       "novadaq-far-farm-06  204.857742 -134.147774  16.808551  127.056379   \n",
       "novadaq-far-farm-07  204.986937 -134.194588 -14.473576  125.153507   \n",
       "novadaq-far-farm-08  205.294531 -134.363631 -20.789340   75.072762   \n",
       "novadaq-far-farm-09  205.093293 -134.319299  11.106108  115.991741   \n",
       "novadaq-far-farm-10  204.977334 -134.248648 -15.117958  122.038137   \n",
       "...                         ...         ...        ...         ...   \n",
       "novadaq-far-farm-95  -27.051852   24.159324  47.763506   14.555998   \n",
       "novadaq-far-farm-96    1.961146  -13.428502  25.778116  -11.183348   \n",
       "novadaq-far-farm-97   21.438514  -32.353491 -28.771354  -29.200002   \n",
       "novadaq-far-farm-98  -24.990747   19.969042   8.742871   12.635832   \n",
       "novadaq-far-farm-99  -32.276860   30.289731  15.124629   19.652883   \n",
       "\n",
       "Col                    cpu_nice  ...  part_max_used     pkts_in    pkts_out  \\\n",
       "Measurement                      ...                                          \n",
       "novadaq-far-farm-06  113.733076  ...       5.687101  191.667016  222.143552   \n",
       "novadaq-far-farm-07  114.064763  ...     -29.307690  192.456964  222.238555   \n",
       "novadaq-far-farm-08  113.736503  ...      24.567064  201.005329  222.180963   \n",
       "novadaq-far-farm-09  113.735090  ...      10.276417  193.845055  222.321312   \n",
       "novadaq-far-farm-10  113.735767  ...      28.671451  192.887712  222.281727   \n",
       "...                         ...  ...            ...         ...         ...   \n",
       "novadaq-far-farm-95  -23.449652  ...     -60.641238  -27.975056  -26.469337   \n",
       "novadaq-far-farm-96    4.660297  ...     -41.043307    5.308201    1.691727   \n",
       "novadaq-far-farm-97   23.607357  ...      -7.177163   25.577577   20.207151   \n",
       "novadaq-far-farm-98  -22.770763  ...     -36.211488  -26.170819  -26.362507   \n",
       "novadaq-far-farm-99  -28.798678  ...     -41.546164  -35.281127  -31.574469   \n",
       "\n",
       "Col                   proc_run  proc_total  swap_free  swap_total        PC1  \\\n",
       "Measurement                                                                    \n",
       "novadaq-far-farm-06  97.883786  -70.687349  -7.153418   -7.165049  14.070342   \n",
       "novadaq-far-farm-07  95.922728  -70.837992  -7.153418   -7.165049  13.898073   \n",
       "novadaq-far-farm-08  98.238420  -86.532456  -7.153418   -7.165049  14.296000   \n",
       "novadaq-far-farm-09  98.292996  -73.277183  -7.153418   -7.165049  14.216686   \n",
       "novadaq-far-farm-10  97.878586  -71.640847  -7.153418   -7.165049  13.550015   \n",
       "...                        ...         ...        ...         ...        ...   \n",
       "novadaq-far-farm-95 -25.627451    5.713262  -7.153418   -7.165049  -1.859436   \n",
       "novadaq-far-farm-96  13.884449  -18.087210  -7.153418   -7.165049   1.183160   \n",
       "novadaq-far-farm-97  31.812149  -33.138204  -7.153418   -7.165049   2.327326   \n",
       "novadaq-far-farm-98 -22.716321    2.728275  -7.153418   -7.165049  -2.028562   \n",
       "novadaq-far-farm-99 -34.779689   10.710541  -7.153418   -7.165049  -3.113381   \n",
       "\n",
       "Col                       PC2               nodeId  \n",
       "Measurement                                         \n",
       "novadaq-far-farm-06 -2.252934  novadaq-far-farm-06  \n",
       "novadaq-far-farm-07 -2.905247  novadaq-far-farm-07  \n",
       "novadaq-far-farm-08 -4.006608  novadaq-far-farm-08  \n",
       "novadaq-far-farm-09 -2.622160  novadaq-far-farm-09  \n",
       "novadaq-far-farm-10 -2.195082  novadaq-far-farm-10  \n",
       "...                       ...                  ...  \n",
       "novadaq-far-farm-95  1.464636  novadaq-far-farm-95  \n",
       "novadaq-far-farm-96 -0.081462  novadaq-far-farm-96  \n",
       "novadaq-far-farm-97 -0.884678  novadaq-far-farm-97  \n",
       "novadaq-far-farm-98  0.979259  novadaq-far-farm-98  \n",
       "novadaq-far-farm-99  1.611297  novadaq-far-farm-99  \n",
       "\n",
       "[195 rows x 34 columns]"
      ]
     },
     "execution_count": 12,
     "metadata": {},
     "output_type": "execute_result"
    }
   ],
   "source": [
    "P_df.set_index('Measurement', inplace=True)\n",
    "df_pca['PC1'] = P_df['PC1']\n",
    "df_pca['PC2'] = P_df['PC2']\n",
    "df_pca['nodeId'] = df_pca.index\n",
    "df_pca"
   ]
  },
  {
   "cell_type": "code",
   "execution_count": 13,
   "metadata": {},
   "outputs": [
    {
     "data": {
      "application/vnd.plotly.v1+json": {
       "config": {
        "plotlyServerURL": "https://plot.ly"
       },
       "data": [
        {
         "customdata": [
          [
           "novadaq-far-farm-06"
          ],
          [
           "novadaq-far-farm-07"
          ],
          [
           "novadaq-far-farm-08"
          ],
          [
           "novadaq-far-farm-09"
          ],
          [
           "novadaq-far-farm-10"
          ],
          [
           "novadaq-far-farm-100"
          ],
          [
           "novadaq-far-farm-101"
          ],
          [
           "novadaq-far-farm-102"
          ],
          [
           "novadaq-far-farm-103"
          ],
          [
           "novadaq-far-farm-104"
          ],
          [
           "novadaq-far-farm-105"
          ],
          [
           "novadaq-far-farm-106"
          ],
          [
           "novadaq-far-farm-107"
          ],
          [
           "novadaq-far-farm-108"
          ],
          [
           "novadaq-far-farm-109"
          ],
          [
           "novadaq-far-farm-11"
          ],
          [
           "novadaq-far-farm-110"
          ],
          [
           "novadaq-far-farm-111"
          ],
          [
           "novadaq-far-farm-112"
          ],
          [
           "novadaq-far-farm-113"
          ],
          [
           "novadaq-far-farm-114"
          ],
          [
           "novadaq-far-farm-115"
          ],
          [
           "novadaq-far-farm-116"
          ],
          [
           "novadaq-far-farm-117"
          ],
          [
           "novadaq-far-farm-118"
          ],
          [
           "novadaq-far-farm-119"
          ],
          [
           "novadaq-far-farm-12"
          ],
          [
           "novadaq-far-farm-120"
          ],
          [
           "novadaq-far-farm-121"
          ],
          [
           "novadaq-far-farm-122"
          ],
          [
           "novadaq-far-farm-123"
          ],
          [
           "novadaq-far-farm-124"
          ],
          [
           "novadaq-far-farm-125"
          ],
          [
           "novadaq-far-farm-126"
          ],
          [
           "novadaq-far-farm-127"
          ],
          [
           "novadaq-far-farm-128"
          ],
          [
           "novadaq-far-farm-129"
          ],
          [
           "novadaq-far-farm-13"
          ],
          [
           "novadaq-far-farm-130"
          ],
          [
           "novadaq-far-farm-131"
          ],
          [
           "novadaq-far-farm-132"
          ],
          [
           "novadaq-far-farm-133"
          ],
          [
           "novadaq-far-farm-134"
          ],
          [
           "novadaq-far-farm-135"
          ],
          [
           "novadaq-far-farm-136"
          ],
          [
           "novadaq-far-farm-137"
          ],
          [
           "novadaq-far-farm-138"
          ],
          [
           "novadaq-far-farm-139"
          ],
          [
           "novadaq-far-farm-14"
          ],
          [
           "novadaq-far-farm-140"
          ],
          [
           "novadaq-far-farm-141"
          ],
          [
           "novadaq-far-farm-142"
          ],
          [
           "novadaq-far-farm-143"
          ],
          [
           "novadaq-far-farm-144"
          ],
          [
           "novadaq-far-farm-145"
          ],
          [
           "novadaq-far-farm-146"
          ],
          [
           "novadaq-far-farm-147"
          ],
          [
           "novadaq-far-farm-148"
          ],
          [
           "novadaq-far-farm-149"
          ],
          [
           "novadaq-far-farm-15"
          ],
          [
           "novadaq-far-farm-150"
          ],
          [
           "novadaq-far-farm-151"
          ],
          [
           "novadaq-far-farm-152"
          ],
          [
           "novadaq-far-farm-153"
          ],
          [
           "novadaq-far-farm-154"
          ],
          [
           "novadaq-far-farm-155"
          ],
          [
           "novadaq-far-farm-156"
          ],
          [
           "novadaq-far-farm-157"
          ],
          [
           "novadaq-far-farm-158"
          ],
          [
           "novadaq-far-farm-159"
          ],
          [
           "novadaq-far-farm-16"
          ],
          [
           "novadaq-far-farm-160"
          ],
          [
           "novadaq-far-farm-161"
          ],
          [
           "novadaq-far-farm-162"
          ],
          [
           "novadaq-far-farm-163"
          ],
          [
           "novadaq-far-farm-164"
          ],
          [
           "novadaq-far-farm-165"
          ],
          [
           "novadaq-far-farm-166"
          ],
          [
           "novadaq-far-farm-167"
          ],
          [
           "novadaq-far-farm-168"
          ],
          [
           "novadaq-far-farm-169"
          ],
          [
           "novadaq-far-farm-17"
          ],
          [
           "novadaq-far-farm-170"
          ],
          [
           "novadaq-far-farm-171"
          ],
          [
           "novadaq-far-farm-172"
          ],
          [
           "novadaq-far-farm-173"
          ],
          [
           "novadaq-far-farm-174"
          ],
          [
           "novadaq-far-farm-175"
          ],
          [
           "novadaq-far-farm-176"
          ],
          [
           "novadaq-far-farm-177"
          ],
          [
           "novadaq-far-farm-178"
          ],
          [
           "novadaq-far-farm-179"
          ],
          [
           "novadaq-far-farm-18"
          ],
          [
           "novadaq-far-farm-180"
          ],
          [
           "novadaq-far-farm-181"
          ],
          [
           "novadaq-far-farm-182"
          ],
          [
           "novadaq-far-farm-183"
          ],
          [
           "novadaq-far-farm-184"
          ],
          [
           "novadaq-far-farm-185"
          ],
          [
           "novadaq-far-farm-186"
          ],
          [
           "novadaq-far-farm-187"
          ],
          [
           "novadaq-far-farm-188"
          ],
          [
           "novadaq-far-farm-189"
          ],
          [
           "novadaq-far-farm-19"
          ],
          [
           "novadaq-far-farm-190"
          ],
          [
           "novadaq-far-farm-191"
          ],
          [
           "novadaq-far-farm-192"
          ],
          [
           "novadaq-far-farm-193"
          ],
          [
           "novadaq-far-farm-194"
          ],
          [
           "novadaq-far-farm-195"
          ],
          [
           "novadaq-far-farm-196"
          ],
          [
           "novadaq-far-farm-197"
          ],
          [
           "novadaq-far-farm-198"
          ],
          [
           "novadaq-far-farm-199"
          ],
          [
           "novadaq-far-farm-20"
          ],
          [
           "novadaq-far-farm-200"
          ],
          [
           "novadaq-far-farm-21"
          ],
          [
           "novadaq-far-farm-22"
          ],
          [
           "novadaq-far-farm-23"
          ],
          [
           "novadaq-far-farm-24"
          ],
          [
           "novadaq-far-farm-25"
          ],
          [
           "novadaq-far-farm-26"
          ],
          [
           "novadaq-far-farm-27"
          ],
          [
           "novadaq-far-farm-28"
          ],
          [
           "novadaq-far-farm-29"
          ],
          [
           "novadaq-far-farm-30"
          ],
          [
           "novadaq-far-farm-31"
          ],
          [
           "novadaq-far-farm-32"
          ],
          [
           "novadaq-far-farm-33"
          ],
          [
           "novadaq-far-farm-34"
          ],
          [
           "novadaq-far-farm-35"
          ],
          [
           "novadaq-far-farm-36"
          ],
          [
           "novadaq-far-farm-37"
          ],
          [
           "novadaq-far-farm-38"
          ],
          [
           "novadaq-far-farm-39"
          ],
          [
           "novadaq-far-farm-40"
          ],
          [
           "novadaq-far-farm-41"
          ],
          [
           "novadaq-far-farm-42"
          ],
          [
           "novadaq-far-farm-43"
          ],
          [
           "novadaq-far-farm-44"
          ],
          [
           "novadaq-far-farm-45"
          ],
          [
           "novadaq-far-farm-46"
          ],
          [
           "novadaq-far-farm-47"
          ],
          [
           "novadaq-far-farm-48"
          ],
          [
           "novadaq-far-farm-49"
          ],
          [
           "novadaq-far-farm-50"
          ],
          [
           "novadaq-far-farm-51"
          ],
          [
           "novadaq-far-farm-52"
          ],
          [
           "novadaq-far-farm-53"
          ],
          [
           "novadaq-far-farm-54"
          ],
          [
           "novadaq-far-farm-55"
          ],
          [
           "novadaq-far-farm-56"
          ],
          [
           "novadaq-far-farm-57"
          ],
          [
           "novadaq-far-farm-58"
          ],
          [
           "novadaq-far-farm-59"
          ],
          [
           "novadaq-far-farm-60"
          ],
          [
           "novadaq-far-farm-61"
          ],
          [
           "novadaq-far-farm-62"
          ],
          [
           "novadaq-far-farm-63"
          ],
          [
           "novadaq-far-farm-64"
          ],
          [
           "novadaq-far-farm-65"
          ],
          [
           "novadaq-far-farm-66"
          ],
          [
           "novadaq-far-farm-67"
          ],
          [
           "novadaq-far-farm-68"
          ],
          [
           "novadaq-far-farm-69"
          ],
          [
           "novadaq-far-farm-70"
          ],
          [
           "novadaq-far-farm-71"
          ],
          [
           "novadaq-far-farm-72"
          ],
          [
           "novadaq-far-farm-73"
          ],
          [
           "novadaq-far-farm-74"
          ],
          [
           "novadaq-far-farm-75"
          ],
          [
           "novadaq-far-farm-76"
          ],
          [
           "novadaq-far-farm-77"
          ],
          [
           "novadaq-far-farm-78"
          ],
          [
           "novadaq-far-farm-79"
          ],
          [
           "novadaq-far-farm-80"
          ],
          [
           "novadaq-far-farm-81"
          ],
          [
           "novadaq-far-farm-82"
          ],
          [
           "novadaq-far-farm-83"
          ],
          [
           "novadaq-far-farm-84"
          ],
          [
           "novadaq-far-farm-85"
          ],
          [
           "novadaq-far-farm-86"
          ],
          [
           "novadaq-far-farm-87"
          ],
          [
           "novadaq-far-farm-88"
          ],
          [
           "novadaq-far-farm-89"
          ],
          [
           "novadaq-far-farm-90"
          ],
          [
           "novadaq-far-farm-91"
          ],
          [
           "novadaq-far-farm-92"
          ],
          [
           "novadaq-far-farm-93"
          ],
          [
           "novadaq-far-farm-94"
          ],
          [
           "novadaq-far-farm-95"
          ],
          [
           "novadaq-far-farm-96"
          ],
          [
           "novadaq-far-farm-97"
          ],
          [
           "novadaq-far-farm-98"
          ],
          [
           "novadaq-far-farm-99"
          ]
         ],
         "hovertemplate": "PC1=%{x}<br>PC2=%{y}<br>nodeId=%{customdata[0]}<extra></extra>",
         "legendgroup": "",
         "marker": {
          "color": "#636efa",
          "symbol": "circle"
         },
         "mode": "markers",
         "name": "",
         "orientation": "v",
         "showlegend": false,
         "type": "scatter",
         "x": [
          14.070342319419066,
          13.898072814749813,
          14.296000441017178,
          14.216686131584442,
          13.550015116561003,
          2.462545738908427,
          -0.7961053966964954,
          -0.515894472663346,
          -0.4331184696997917,
          -2.622617241941973,
          3.092665096727738,
          3.6837141433851177,
          1.4784591720564366,
          2.4799642664705894,
          -1.968283508456672,
          -1.4162936878681682,
          0.951911264648667,
          -1.307789494295359,
          0.6619116876285501,
          0.26029315533566194,
          -0.6573386007184798,
          -1.1739563197958125,
          -1.6005716027057977,
          -1.8561786025732465,
          1.1821381789337055,
          -0.6467546501317685,
          4.909954718656755,
          0.5016437444001686,
          -2.478799260765511,
          1.3126617702164258,
          1.3838977175728475,
          3.4228023192886856,
          -0.3516432895666887,
          -2.4743855157149195,
          -0.9452556294974439,
          1.712266235208701,
          -3.425569348800637,
          -1.6717423350597287,
          6.5842471407686505,
          3.492282574304387,
          -2.1765210736147482,
          4.1340281299870725,
          2.2281401433833126,
          2.179690858239368,
          -0.36127090258538197,
          2.3718160199761167,
          -0.0571698067792161,
          -4.3250313875496555,
          -1.809464246844878,
          -3.023134906054231,
          -1.2007441344425196,
          6.215029601670431,
          -2.428641362116206,
          3.055501186089506,
          3.260780557379121,
          1.1203496801866721,
          -1.4126323115626813,
          -3.452985859582344,
          0.1519069690760499,
          1.166866262998792,
          4.521861648935371,
          -1.2858671818682896,
          -4.394981893219627,
          -1.9281457860536115,
          -1.295678888119832,
          -3.6272530468386326,
          -2.5818887562973063,
          -4.388464231601926,
          -0.5389306587397465,
          -0.6105889196738492,
          4.799164020065438,
          -2.14410024628212,
          -0.8184417586956385,
          -4.318544833461905,
          1.0266689548729753,
          4.916301845066108,
          -2.372967941301945,
          0.8125609797453057,
          1.3098501587753852,
          -4.09426197038725,
          -4.154346035968603,
          -4.205372734371813,
          4.4131494865512755,
          -2.871382205069661,
          -0.35828087206494436,
          -3.7363328032449945,
          -3.278486053733847,
          -4.476765759924447,
          -3.8808664348048003,
          -2.0709128549107767,
          -2.495966989504843,
          0.5637235215474377,
          -3.688422347521423,
          3.692727301906347,
          6.099803147527487,
          3.0416363830678423,
          -1.6098016635547676,
          1.7307063948661898,
          0.16990724063792875,
          -2.9755141316179667,
          -2.327631149021996,
          1.8795531796831586,
          4.412332672141299,
          1.668503582070725,
          -0.053542953924280316,
          0.4635068243352515,
          -3.3185591560046075,
          -0.20408052754842257,
          -1.455491003974918,
          1.615975116119381,
          -3.753219431793226,
          -0.7180886993024889,
          -0.41880672170184263,
          -1.891312723945827,
          -0.05405288858565825,
          -2.2545001973216743,
          5.74997307511789,
          -6.237100606532605,
          -3.173615982795765,
          -0.576425736564299,
          -0.06870799443995329,
          -4.3785331521619515,
          -2.91043231978221,
          6.112376179990688,
          -3.2469298081117657,
          -0.547517291899579,
          0.7856898820214445,
          2.3434397051493137,
          -5.775415973609317,
          -0.7105438105543741,
          2.1209695562562394,
          -4.940647159612419,
          -2.1413019116424414,
          -5.750245324062143,
          -3.5085775619271287,
          -3.6970742704482875,
          1.5907147582514858,
          -5.760583459190124,
          -2.2866395809159057,
          0.10028422077641964,
          -5.134587900076055,
          -2.9185985923262256,
          -4.806606243983137,
          1.0003347599624355,
          -3.8943388641239456,
          -3.054598614441548,
          -1.7587455673445196,
          -1.196400418165476,
          -0.1035421335597505,
          -2.02455076559985,
          2.2494629451120525,
          1.0355942319702047,
          1.1549282860615286,
          2.24747084137833,
          2.1329009114845436,
          0.014196737116329523,
          2.3221558850330495,
          -0.8738993954741763,
          1.313996886526129,
          1.5532010202710012,
          -0.33319159403933596,
          4.305421567358312,
          -0.0890980617222982,
          1.8681337736781904,
          -2.3825182741633206,
          1.5717663339414716,
          0.5307327070617808,
          -2.48439753614979,
          1.7434342215691299,
          -0.9992209070506793,
          -3.527187694499841,
          -0.6213547754419287,
          3.222497849106094,
          5.336183072865331,
          0.6886552210058289,
          -0.5489802615031336,
          0.6602274919297799,
          -2.1192317148282402,
          -3.308709785710722,
          0.5319072997968292,
          -3.154048636083037,
          1.658399811668406,
          2.4530545649254902,
          -3.212908424724275,
          0.16575210218062528,
          -2.2365767827943577,
          -0.5228993809036653,
          3.2620156023823066,
          3.6394060905345698,
          -0.34267271087198553,
          -1.8594355555954285,
          1.1831601853344933,
          2.327325858013036,
          -2.028561680106302,
          -3.1133811649985828
         ],
         "xaxis": "x",
         "y": [
          -2.252933880955662,
          -2.9052472044307143,
          -4.006608013476064,
          -2.6221597593182473,
          -2.1950817055330343,
          -0.9723185781377524,
          0.4399324100262455,
          0.7113566327954952,
          0.5463975032593948,
          -0.08705519208224902,
          -1.5252458725458453,
          -1.7156571781908438,
          -0.26645380798548396,
          -0.8177265589305237,
          1.5733843501086742,
          -1.5507149153348823,
          -0.12076466372338711,
          1.2951636679689826,
          0.09015782088368557,
          0.4051375624035319,
          0.38075654562455874,
          -1.184482234598884,
          1.9593115564104373,
          1.0486742329816863,
          -0.5577307078938863,
          0.44410651142400864,
          9.133831806095008,
          -0.2561504660188695,
          1.5155886777640222,
          -0.04201254666723893,
          -0.37017956976998234,
          -2.539136579400577,
          -1.2376207139787465,
          -0.2621070419218159,
          -0.6588569173773072,
          -2.8337616176526472,
          -0.4204293161700336,
          -0.8899364967914106,
          1.329604484561514,
          6.171285017847178,
          -0.5058607750624126,
          5.385052256637884,
          -2.8880549237410196,
          -2.867000393906819,
          -1.5193717392399535,
          -1.4618284761652716,
          -1.291623884705191,
          0.526186800609172,
          -1.4863223771571223,
          -0.41503941028933394,
          -2.5586350260369737,
          1.9889994303550933,
          -0.941141671570195,
          -3.3016531873589456,
          -2.7844363222839448,
          -2.4131642581404327,
          -1.219023504642222,
          -0.16182258127523744,
          -1.8018331664628253,
          -2.9366253734846746,
          5.123109396421632,
          -0.64890373663357,
          0.5732970495061944,
          -0.6375736767334985,
          -0.6316798788775267,
          -0.05917930692611022,
          -0.8572671577152606,
          0.5451184530799768,
          -1.2929731309375314,
          -1.2110993307161277,
          6.1206137532827505,
          -0.30419313071555815,
          -1.5910341623597317,
          -0.05421557792604367,
          -2.2375647566678296,
          4.440656446407008,
          -0.5228127938535349,
          -2.248484542092172,
          -2.0399475986978275,
          0.46324177807932077,
          0.4369133454898242,
          -0.6324692174786543,
          5.397323793633944,
          -0.5295770433288526,
          -1.7045220838207622,
          -0.03655689786156074,
          -0.10572824420869634,
          0.2627561513422881,
          0.22123856781280024,
          -0.4940588907587791,
          -0.3741626248406202,
          -2.368218336987188,
          -0.29338783398694096,
          6.560772177703762,
          2.0922262747966203,
          -3.239413570665869,
          -0.3427510045214863,
          9.26028450494946,
          -1.294142970383635,
          -0.15981037134469311,
          -0.6556695770321743,
          -2.3098299723262916,
          5.284420782131376,
          -2.692798429597789,
          -1.1196658067061558,
          -1.4722731819074155,
          -0.13407313092671752,
          -1.239871585882725,
          -0.8771447164673457,
          -1.9831391658491617,
          0.13582092925521502,
          0.4259281191312958,
          1.3162299453695097,
          1.1930053809044525,
          10.99642159390313,
          1.429814448081466,
          -4.943579554541762,
          -0.12200426641811904,
          -1.122245370976418,
          -1.701472137451534,
          -1.6730473211584824,
          -1.0295408589672432,
          -0.990849388602917,
          2.477858899110212,
          -0.5648508004587952,
          -1.8354224288658199,
          -2.3540867925739017,
          -3.073086986409688,
          0.26848953921052304,
          -0.487506196744082,
          8.489983778767614,
          -0.6097641942669135,
          -1.3651450415531687,
          0.36047272203603176,
          -1.0799738533949794,
          -0.46738637117258086,
          -3.089909162091524,
          0.07767924032624084,
          -1.1021873711299977,
          -2.4445424038647134,
          -0.6018986265086046,
          -0.9925275378606659,
          -0.4274805738766152,
          -2.989100005958262,
          -0.8987837509593888,
          -0.3146613159271264,
          -0.11934167557774061,
          -1.8820021538529694,
          0.31473638238822416,
          1.1555433038688974,
          -1.1308122870321393,
          -2.3836029320216,
          -0.7376007000513787,
          -1.1154741467779608,
          8.613006993527765,
          0.2328360793032225,
          7.884516810918438,
          0.5950648253328827,
          -0.670963259642136,
          -0.7451689326388912,
          0.21588555420888994,
          -2.592748661037266,
          0.2955665046168889,
          -0.6193466320086789,
          1.5540661485337544,
          -0.553035623319642,
          0.12008671687697917,
          1.6221158559548923,
          -0.8603749629437448,
          0.2452539917574696,
          1.8663485323329778,
          0.7302250436093369,
          -1.9130916759794758,
          3.126959195285606,
          -0.48080462573459165,
          0.5142508806997239,
          -0.06457623762593728,
          1.2861995183468524,
          1.83400431174481,
          -0.3343921947914065,
          1.9459293531750907,
          -0.6606179729525692,
          -1.271608236384428,
          1.8724398908410262,
          0.10951105961272965,
          1.2516072137765781,
          0.6457173185402127,
          6.494410768721395,
          -1.7435909544072303,
          0.8862693640877846,
          1.464636158620598,
          -0.0814623146891745,
          -0.8846776492949116,
          0.9792590946307327,
          1.6112969788387046
         ],
         "yaxis": "y"
        }
       ],
       "layout": {
        "legend": {
         "tracegroupgap": 0
        },
        "margin": {
         "t": 60
        },
        "template": {
         "data": {
          "bar": [
           {
            "error_x": {
             "color": "#2a3f5f"
            },
            "error_y": {
             "color": "#2a3f5f"
            },
            "marker": {
             "line": {
              "color": "#E5ECF6",
              "width": 0.5
             },
             "pattern": {
              "fillmode": "overlay",
              "size": 10,
              "solidity": 0.2
             }
            },
            "type": "bar"
           }
          ],
          "barpolar": [
           {
            "marker": {
             "line": {
              "color": "#E5ECF6",
              "width": 0.5
             },
             "pattern": {
              "fillmode": "overlay",
              "size": 10,
              "solidity": 0.2
             }
            },
            "type": "barpolar"
           }
          ],
          "carpet": [
           {
            "aaxis": {
             "endlinecolor": "#2a3f5f",
             "gridcolor": "white",
             "linecolor": "white",
             "minorgridcolor": "white",
             "startlinecolor": "#2a3f5f"
            },
            "baxis": {
             "endlinecolor": "#2a3f5f",
             "gridcolor": "white",
             "linecolor": "white",
             "minorgridcolor": "white",
             "startlinecolor": "#2a3f5f"
            },
            "type": "carpet"
           }
          ],
          "choropleth": [
           {
            "colorbar": {
             "outlinewidth": 0,
             "ticks": ""
            },
            "type": "choropleth"
           }
          ],
          "contour": [
           {
            "colorbar": {
             "outlinewidth": 0,
             "ticks": ""
            },
            "colorscale": [
             [
              0,
              "#0d0887"
             ],
             [
              0.1111111111111111,
              "#46039f"
             ],
             [
              0.2222222222222222,
              "#7201a8"
             ],
             [
              0.3333333333333333,
              "#9c179e"
             ],
             [
              0.4444444444444444,
              "#bd3786"
             ],
             [
              0.5555555555555556,
              "#d8576b"
             ],
             [
              0.6666666666666666,
              "#ed7953"
             ],
             [
              0.7777777777777778,
              "#fb9f3a"
             ],
             [
              0.8888888888888888,
              "#fdca26"
             ],
             [
              1,
              "#f0f921"
             ]
            ],
            "type": "contour"
           }
          ],
          "contourcarpet": [
           {
            "colorbar": {
             "outlinewidth": 0,
             "ticks": ""
            },
            "type": "contourcarpet"
           }
          ],
          "heatmap": [
           {
            "colorbar": {
             "outlinewidth": 0,
             "ticks": ""
            },
            "colorscale": [
             [
              0,
              "#0d0887"
             ],
             [
              0.1111111111111111,
              "#46039f"
             ],
             [
              0.2222222222222222,
              "#7201a8"
             ],
             [
              0.3333333333333333,
              "#9c179e"
             ],
             [
              0.4444444444444444,
              "#bd3786"
             ],
             [
              0.5555555555555556,
              "#d8576b"
             ],
             [
              0.6666666666666666,
              "#ed7953"
             ],
             [
              0.7777777777777778,
              "#fb9f3a"
             ],
             [
              0.8888888888888888,
              "#fdca26"
             ],
             [
              1,
              "#f0f921"
             ]
            ],
            "type": "heatmap"
           }
          ],
          "heatmapgl": [
           {
            "colorbar": {
             "outlinewidth": 0,
             "ticks": ""
            },
            "colorscale": [
             [
              0,
              "#0d0887"
             ],
             [
              0.1111111111111111,
              "#46039f"
             ],
             [
              0.2222222222222222,
              "#7201a8"
             ],
             [
              0.3333333333333333,
              "#9c179e"
             ],
             [
              0.4444444444444444,
              "#bd3786"
             ],
             [
              0.5555555555555556,
              "#d8576b"
             ],
             [
              0.6666666666666666,
              "#ed7953"
             ],
             [
              0.7777777777777778,
              "#fb9f3a"
             ],
             [
              0.8888888888888888,
              "#fdca26"
             ],
             [
              1,
              "#f0f921"
             ]
            ],
            "type": "heatmapgl"
           }
          ],
          "histogram": [
           {
            "marker": {
             "pattern": {
              "fillmode": "overlay",
              "size": 10,
              "solidity": 0.2
             }
            },
            "type": "histogram"
           }
          ],
          "histogram2d": [
           {
            "colorbar": {
             "outlinewidth": 0,
             "ticks": ""
            },
            "colorscale": [
             [
              0,
              "#0d0887"
             ],
             [
              0.1111111111111111,
              "#46039f"
             ],
             [
              0.2222222222222222,
              "#7201a8"
             ],
             [
              0.3333333333333333,
              "#9c179e"
             ],
             [
              0.4444444444444444,
              "#bd3786"
             ],
             [
              0.5555555555555556,
              "#d8576b"
             ],
             [
              0.6666666666666666,
              "#ed7953"
             ],
             [
              0.7777777777777778,
              "#fb9f3a"
             ],
             [
              0.8888888888888888,
              "#fdca26"
             ],
             [
              1,
              "#f0f921"
             ]
            ],
            "type": "histogram2d"
           }
          ],
          "histogram2dcontour": [
           {
            "colorbar": {
             "outlinewidth": 0,
             "ticks": ""
            },
            "colorscale": [
             [
              0,
              "#0d0887"
             ],
             [
              0.1111111111111111,
              "#46039f"
             ],
             [
              0.2222222222222222,
              "#7201a8"
             ],
             [
              0.3333333333333333,
              "#9c179e"
             ],
             [
              0.4444444444444444,
              "#bd3786"
             ],
             [
              0.5555555555555556,
              "#d8576b"
             ],
             [
              0.6666666666666666,
              "#ed7953"
             ],
             [
              0.7777777777777778,
              "#fb9f3a"
             ],
             [
              0.8888888888888888,
              "#fdca26"
             ],
             [
              1,
              "#f0f921"
             ]
            ],
            "type": "histogram2dcontour"
           }
          ],
          "mesh3d": [
           {
            "colorbar": {
             "outlinewidth": 0,
             "ticks": ""
            },
            "type": "mesh3d"
           }
          ],
          "parcoords": [
           {
            "line": {
             "colorbar": {
              "outlinewidth": 0,
              "ticks": ""
             }
            },
            "type": "parcoords"
           }
          ],
          "pie": [
           {
            "automargin": true,
            "type": "pie"
           }
          ],
          "scatter": [
           {
            "fillpattern": {
             "fillmode": "overlay",
             "size": 10,
             "solidity": 0.2
            },
            "type": "scatter"
           }
          ],
          "scatter3d": [
           {
            "line": {
             "colorbar": {
              "outlinewidth": 0,
              "ticks": ""
             }
            },
            "marker": {
             "colorbar": {
              "outlinewidth": 0,
              "ticks": ""
             }
            },
            "type": "scatter3d"
           }
          ],
          "scattercarpet": [
           {
            "marker": {
             "colorbar": {
              "outlinewidth": 0,
              "ticks": ""
             }
            },
            "type": "scattercarpet"
           }
          ],
          "scattergeo": [
           {
            "marker": {
             "colorbar": {
              "outlinewidth": 0,
              "ticks": ""
             }
            },
            "type": "scattergeo"
           }
          ],
          "scattergl": [
           {
            "marker": {
             "colorbar": {
              "outlinewidth": 0,
              "ticks": ""
             }
            },
            "type": "scattergl"
           }
          ],
          "scattermapbox": [
           {
            "marker": {
             "colorbar": {
              "outlinewidth": 0,
              "ticks": ""
             }
            },
            "type": "scattermapbox"
           }
          ],
          "scatterpolar": [
           {
            "marker": {
             "colorbar": {
              "outlinewidth": 0,
              "ticks": ""
             }
            },
            "type": "scatterpolar"
           }
          ],
          "scatterpolargl": [
           {
            "marker": {
             "colorbar": {
              "outlinewidth": 0,
              "ticks": ""
             }
            },
            "type": "scatterpolargl"
           }
          ],
          "scatterternary": [
           {
            "marker": {
             "colorbar": {
              "outlinewidth": 0,
              "ticks": ""
             }
            },
            "type": "scatterternary"
           }
          ],
          "surface": [
           {
            "colorbar": {
             "outlinewidth": 0,
             "ticks": ""
            },
            "colorscale": [
             [
              0,
              "#0d0887"
             ],
             [
              0.1111111111111111,
              "#46039f"
             ],
             [
              0.2222222222222222,
              "#7201a8"
             ],
             [
              0.3333333333333333,
              "#9c179e"
             ],
             [
              0.4444444444444444,
              "#bd3786"
             ],
             [
              0.5555555555555556,
              "#d8576b"
             ],
             [
              0.6666666666666666,
              "#ed7953"
             ],
             [
              0.7777777777777778,
              "#fb9f3a"
             ],
             [
              0.8888888888888888,
              "#fdca26"
             ],
             [
              1,
              "#f0f921"
             ]
            ],
            "type": "surface"
           }
          ],
          "table": [
           {
            "cells": {
             "fill": {
              "color": "#EBF0F8"
             },
             "line": {
              "color": "white"
             }
            },
            "header": {
             "fill": {
              "color": "#C8D4E3"
             },
             "line": {
              "color": "white"
             }
            },
            "type": "table"
           }
          ]
         },
         "layout": {
          "annotationdefaults": {
           "arrowcolor": "#2a3f5f",
           "arrowhead": 0,
           "arrowwidth": 1
          },
          "autotypenumbers": "strict",
          "coloraxis": {
           "colorbar": {
            "outlinewidth": 0,
            "ticks": ""
           }
          },
          "colorscale": {
           "diverging": [
            [
             0,
             "#8e0152"
            ],
            [
             0.1,
             "#c51b7d"
            ],
            [
             0.2,
             "#de77ae"
            ],
            [
             0.3,
             "#f1b6da"
            ],
            [
             0.4,
             "#fde0ef"
            ],
            [
             0.5,
             "#f7f7f7"
            ],
            [
             0.6,
             "#e6f5d0"
            ],
            [
             0.7,
             "#b8e186"
            ],
            [
             0.8,
             "#7fbc41"
            ],
            [
             0.9,
             "#4d9221"
            ],
            [
             1,
             "#276419"
            ]
           ],
           "sequential": [
            [
             0,
             "#0d0887"
            ],
            [
             0.1111111111111111,
             "#46039f"
            ],
            [
             0.2222222222222222,
             "#7201a8"
            ],
            [
             0.3333333333333333,
             "#9c179e"
            ],
            [
             0.4444444444444444,
             "#bd3786"
            ],
            [
             0.5555555555555556,
             "#d8576b"
            ],
            [
             0.6666666666666666,
             "#ed7953"
            ],
            [
             0.7777777777777778,
             "#fb9f3a"
            ],
            [
             0.8888888888888888,
             "#fdca26"
            ],
            [
             1,
             "#f0f921"
            ]
           ],
           "sequentialminus": [
            [
             0,
             "#0d0887"
            ],
            [
             0.1111111111111111,
             "#46039f"
            ],
            [
             0.2222222222222222,
             "#7201a8"
            ],
            [
             0.3333333333333333,
             "#9c179e"
            ],
            [
             0.4444444444444444,
             "#bd3786"
            ],
            [
             0.5555555555555556,
             "#d8576b"
            ],
            [
             0.6666666666666666,
             "#ed7953"
            ],
            [
             0.7777777777777778,
             "#fb9f3a"
            ],
            [
             0.8888888888888888,
             "#fdca26"
            ],
            [
             1,
             "#f0f921"
            ]
           ]
          },
          "colorway": [
           "#636efa",
           "#EF553B",
           "#00cc96",
           "#ab63fa",
           "#FFA15A",
           "#19d3f3",
           "#FF6692",
           "#B6E880",
           "#FF97FF",
           "#FECB52"
          ],
          "font": {
           "color": "#2a3f5f"
          },
          "geo": {
           "bgcolor": "white",
           "lakecolor": "white",
           "landcolor": "#E5ECF6",
           "showlakes": true,
           "showland": true,
           "subunitcolor": "white"
          },
          "hoverlabel": {
           "align": "left"
          },
          "hovermode": "closest",
          "mapbox": {
           "style": "light"
          },
          "paper_bgcolor": "white",
          "plot_bgcolor": "#E5ECF6",
          "polar": {
           "angularaxis": {
            "gridcolor": "white",
            "linecolor": "white",
            "ticks": ""
           },
           "bgcolor": "#E5ECF6",
           "radialaxis": {
            "gridcolor": "white",
            "linecolor": "white",
            "ticks": ""
           }
          },
          "scene": {
           "xaxis": {
            "backgroundcolor": "#E5ECF6",
            "gridcolor": "white",
            "gridwidth": 2,
            "linecolor": "white",
            "showbackground": true,
            "ticks": "",
            "zerolinecolor": "white"
           },
           "yaxis": {
            "backgroundcolor": "#E5ECF6",
            "gridcolor": "white",
            "gridwidth": 2,
            "linecolor": "white",
            "showbackground": true,
            "ticks": "",
            "zerolinecolor": "white"
           },
           "zaxis": {
            "backgroundcolor": "#E5ECF6",
            "gridcolor": "white",
            "gridwidth": 2,
            "linecolor": "white",
            "showbackground": true,
            "ticks": "",
            "zerolinecolor": "white"
           }
          },
          "shapedefaults": {
           "line": {
            "color": "#2a3f5f"
           }
          },
          "ternary": {
           "aaxis": {
            "gridcolor": "white",
            "linecolor": "white",
            "ticks": ""
           },
           "baxis": {
            "gridcolor": "white",
            "linecolor": "white",
            "ticks": ""
           },
           "bgcolor": "#E5ECF6",
           "caxis": {
            "gridcolor": "white",
            "linecolor": "white",
            "ticks": ""
           }
          },
          "title": {
           "x": 0.05
          },
          "xaxis": {
           "automargin": true,
           "gridcolor": "white",
           "linecolor": "white",
           "ticks": "",
           "title": {
            "standoff": 15
           },
           "zerolinecolor": "white",
           "zerolinewidth": 2
          },
          "yaxis": {
           "automargin": true,
           "gridcolor": "white",
           "linecolor": "white",
           "ticks": "",
           "title": {
            "standoff": 15
           },
           "zerolinecolor": "white",
           "zerolinewidth": 2
          }
         }
        },
        "title": {
         "text": "PCA Projection"
        },
        "xaxis": {
         "anchor": "y",
         "domain": [
          0,
          1
         ],
         "title": {
          "text": "PCA 1"
         }
        },
        "yaxis": {
         "anchor": "x",
         "domain": [
          0,
          1
         ],
         "title": {
          "text": "PCA 2"
         }
        }
       }
      }
     },
     "metadata": {},
     "output_type": "display_data"
    }
   ],
   "source": [
    "fig = px.scatter(df_pca, x=\"PC1\", y=\"PC2\", hover_data={'nodeId': True})\n",
    "\n",
    "fig.update_layout(title=\"PCA Projection\",\n",
    "                  xaxis_title=\"PCA 1\",\n",
    "                  yaxis_title=\"PCA 2\")\n",
    "\n",
    "fig.show()"
   ]
  },
  {
   "cell_type": "code",
   "execution_count": null,
   "metadata": {},
   "outputs": [],
   "source": [
    "df_pivot['PC1'] = df_pca['PC1']\n",
    "df_pivot['PC2'] = df_pca['PC2']\n",
    "df_pivot.drop(columns=['nodeId']).to_csv('multiDR_results1.csv')"
   ]
  }
 ],
 "metadata": {
  "kernelspec": {
   "display_name": "myenv",
   "language": "python",
   "name": "python3"
  },
  "language_info": {
   "codemirror_mode": {
    "name": "ipython",
    "version": 3
   },
   "file_extension": ".py",
   "mimetype": "text/x-python",
   "name": "python",
   "nbconvert_exporter": "python",
   "pygments_lexer": "ipython3",
   "version": "3.9.18"
  }
 },
 "nbformat": 4,
 "nbformat_minor": 2
}
