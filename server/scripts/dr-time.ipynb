{
 "cells": [
  {
   "cell_type": "code",
   "execution_count": 1,
   "metadata": {},
   "outputs": [
    {
     "data": {
      "text/html": [
       "<div>\n",
       "<style scoped>\n",
       "    .dataframe tbody tr th:only-of-type {\n",
       "        vertical-align: middle;\n",
       "    }\n",
       "\n",
       "    .dataframe tbody tr th {\n",
       "        vertical-align: top;\n",
       "    }\n",
       "\n",
       "    .dataframe thead th {\n",
       "        text-align: right;\n",
       "    }\n",
       "</style>\n",
       "<table border=\"1\" class=\"dataframe\">\n",
       "  <thead>\n",
       "    <tr style=\"text-align: right;\">\n",
       "      <th></th>\n",
       "      <th>timestamp</th>\n",
       "      <th>cpu_system</th>\n",
       "      <th>boottime</th>\n",
       "      <th>Pool Size Time_P1</th>\n",
       "      <th>mem_free</th>\n",
       "      <th>Missed Buffers_P1</th>\n",
       "      <th>bytes_out</th>\n",
       "      <th>cpu_user</th>\n",
       "      <th>cpu_idle</th>\n",
       "      <th>Pool Size Data_P1</th>\n",
       "      <th>...</th>\n",
       "      <th>RetransSegs_rate</th>\n",
       "      <th>TCPLostRetransmit_rate</th>\n",
       "      <th>TCPForwardRetrans_rate</th>\n",
       "      <th>TotalRetrans</th>\n",
       "      <th>TCPSlowStartRetrans</th>\n",
       "      <th>RPCRetrans</th>\n",
       "      <th>TCPFastRetrans</th>\n",
       "      <th>TCPLostRetransmit</th>\n",
       "      <th>TCPForwardRetrans</th>\n",
       "      <th>RetransSegs</th>\n",
       "    </tr>\n",
       "  </thead>\n",
       "  <tbody>\n",
       "    <tr>\n",
       "      <th>0</th>\n",
       "      <td>2024-02-21 05:36:00</td>\n",
       "      <td>2.100000</td>\n",
       "      <td>0.000000e+00</td>\n",
       "      <td>0.000000</td>\n",
       "      <td>0.0</td>\n",
       "      <td>0.0</td>\n",
       "      <td>0.0</td>\n",
       "      <td>1.006667</td>\n",
       "      <td>0.0</td>\n",
       "      <td>0.000000</td>\n",
       "      <td>...</td>\n",
       "      <td>0.0</td>\n",
       "      <td>0.0</td>\n",
       "      <td>0.0</td>\n",
       "      <td>0.0</td>\n",
       "      <td>0.0</td>\n",
       "      <td>0.0</td>\n",
       "      <td>0.0</td>\n",
       "      <td>0.0</td>\n",
       "      <td>0.0</td>\n",
       "      <td>0.0</td>\n",
       "    </tr>\n",
       "    <tr>\n",
       "      <th>1</th>\n",
       "      <td>2024-02-21 05:36:15</td>\n",
       "      <td>2.100000</td>\n",
       "      <td>0.000000e+00</td>\n",
       "      <td>2038.710000</td>\n",
       "      <td>0.0</td>\n",
       "      <td>0.0</td>\n",
       "      <td>0.0</td>\n",
       "      <td>1.300000</td>\n",
       "      <td>0.0</td>\n",
       "      <td>0.000000</td>\n",
       "      <td>...</td>\n",
       "      <td>0.0</td>\n",
       "      <td>0.0</td>\n",
       "      <td>0.0</td>\n",
       "      <td>0.0</td>\n",
       "      <td>0.0</td>\n",
       "      <td>0.0</td>\n",
       "      <td>0.0</td>\n",
       "      <td>0.0</td>\n",
       "      <td>0.0</td>\n",
       "      <td>0.0</td>\n",
       "    </tr>\n",
       "    <tr>\n",
       "      <th>2</th>\n",
       "      <td>2024-02-21 05:36:30</td>\n",
       "      <td>1.993333</td>\n",
       "      <td>0.000000e+00</td>\n",
       "      <td>2055.490000</td>\n",
       "      <td>0.0</td>\n",
       "      <td>0.0</td>\n",
       "      <td>0.0</td>\n",
       "      <td>1.300000</td>\n",
       "      <td>0.0</td>\n",
       "      <td>11795.033333</td>\n",
       "      <td>...</td>\n",
       "      <td>0.0</td>\n",
       "      <td>0.0</td>\n",
       "      <td>0.0</td>\n",
       "      <td>0.0</td>\n",
       "      <td>0.0</td>\n",
       "      <td>0.0</td>\n",
       "      <td>0.0</td>\n",
       "      <td>0.0</td>\n",
       "      <td>0.0</td>\n",
       "      <td>0.0</td>\n",
       "    </tr>\n",
       "    <tr>\n",
       "      <th>3</th>\n",
       "      <td>2024-02-21 05:36:45</td>\n",
       "      <td>1.806667</td>\n",
       "      <td>0.000000e+00</td>\n",
       "      <td>2049.026000</td>\n",
       "      <td>0.0</td>\n",
       "      <td>0.0</td>\n",
       "      <td>0.0</td>\n",
       "      <td>1.300000</td>\n",
       "      <td>0.0</td>\n",
       "      <td>11892.133333</td>\n",
       "      <td>...</td>\n",
       "      <td>0.0</td>\n",
       "      <td>0.0</td>\n",
       "      <td>0.0</td>\n",
       "      <td>0.0</td>\n",
       "      <td>0.0</td>\n",
       "      <td>0.0</td>\n",
       "      <td>0.0</td>\n",
       "      <td>0.0</td>\n",
       "      <td>0.0</td>\n",
       "      <td>0.0</td>\n",
       "    </tr>\n",
       "    <tr>\n",
       "      <th>4</th>\n",
       "      <td>2024-02-21 05:37:00</td>\n",
       "      <td>2.100000</td>\n",
       "      <td>1.705514e+09</td>\n",
       "      <td>2014.643333</td>\n",
       "      <td>0.0</td>\n",
       "      <td>0.0</td>\n",
       "      <td>0.0</td>\n",
       "      <td>1.110000</td>\n",
       "      <td>0.0</td>\n",
       "      <td>11854.600000</td>\n",
       "      <td>...</td>\n",
       "      <td>0.0</td>\n",
       "      <td>0.0</td>\n",
       "      <td>0.0</td>\n",
       "      <td>0.0</td>\n",
       "      <td>0.0</td>\n",
       "      <td>0.0</td>\n",
       "      <td>0.0</td>\n",
       "      <td>0.0</td>\n",
       "      <td>0.0</td>\n",
       "      <td>0.0</td>\n",
       "    </tr>\n",
       "  </tbody>\n",
       "</table>\n",
       "<p>5 rows × 48 columns</p>\n",
       "</div>"
      ],
      "text/plain": [
       "             timestamp  cpu_system      boottime  Pool Size Time_P1  mem_free  \\\n",
       "0  2024-02-21 05:36:00    2.100000  0.000000e+00           0.000000       0.0   \n",
       "1  2024-02-21 05:36:15    2.100000  0.000000e+00        2038.710000       0.0   \n",
       "2  2024-02-21 05:36:30    1.993333  0.000000e+00        2055.490000       0.0   \n",
       "3  2024-02-21 05:36:45    1.806667  0.000000e+00        2049.026000       0.0   \n",
       "4  2024-02-21 05:37:00    2.100000  1.705514e+09        2014.643333       0.0   \n",
       "\n",
       "   Missed Buffers_P1  bytes_out  cpu_user  cpu_idle  Pool Size Data_P1  ...  \\\n",
       "0                0.0        0.0  1.006667       0.0           0.000000  ...   \n",
       "1                0.0        0.0  1.300000       0.0           0.000000  ...   \n",
       "2                0.0        0.0  1.300000       0.0       11795.033333  ...   \n",
       "3                0.0        0.0  1.300000       0.0       11892.133333  ...   \n",
       "4                0.0        0.0  1.110000       0.0       11854.600000  ...   \n",
       "\n",
       "   RetransSegs_rate  TCPLostRetransmit_rate  TCPForwardRetrans_rate  \\\n",
       "0               0.0                     0.0                     0.0   \n",
       "1               0.0                     0.0                     0.0   \n",
       "2               0.0                     0.0                     0.0   \n",
       "3               0.0                     0.0                     0.0   \n",
       "4               0.0                     0.0                     0.0   \n",
       "\n",
       "   TotalRetrans  TCPSlowStartRetrans  RPCRetrans  TCPFastRetrans  \\\n",
       "0           0.0                  0.0         0.0             0.0   \n",
       "1           0.0                  0.0         0.0             0.0   \n",
       "2           0.0                  0.0         0.0             0.0   \n",
       "3           0.0                  0.0         0.0             0.0   \n",
       "4           0.0                  0.0         0.0             0.0   \n",
       "\n",
       "   TCPLostRetransmit  TCPForwardRetrans  RetransSegs  \n",
       "0                0.0                0.0          0.0  \n",
       "1                0.0                0.0          0.0  \n",
       "2                0.0                0.0          0.0  \n",
       "3                0.0                0.0          0.0  \n",
       "4                0.0                0.0          0.0  \n",
       "\n",
       "[5 rows x 48 columns]"
      ]
     },
     "execution_count": 1,
     "metadata": {},
     "output_type": "execute_result"
    }
   ],
   "source": [
    "import numpy as np\n",
    "import pandas as pd \n",
    "import plotly.express as px\n",
    "import json \n",
    "import os\n",
    "\n",
    "df_f = pd.read_csv('../data/farm/far_data_2024-02-21.csv').fillna(0.0)\n",
    "df_f.head()"
   ]
  },
  {
   "cell_type": "markdown",
   "metadata": {},
   "source": [
    "Dimensionality Reduction (DR) across time domain, feature domain"
   ]
  },
  {
   "cell_type": "code",
   "execution_count": 5,
   "metadata": {},
   "outputs": [],
   "source": [
    "from pygam import GAM, s\n",
    "from scipy.interpolate import BSpline, splrep, splev\n",
    "from sklearn.decomposition import PCA\n",
    "from sklearn.preprocessing import StandardScaler\n",
    "\n",
    "def preprocess(df, value_column):\n",
    "    return df.loc[:, ['timestamp', 'nodeId', value_column]] \\\n",
    "             .pivot_table(index='timestamp', columns='nodeId', values=value_column) \\\n",
    "             .apply(lambda row: row.fillna(0.0), axis=0).T\n",
    "\n",
    "# DR1 - applying PCA to each variable across the time domain\n",
    "def apply_pca_to_feature(col_name, df):\n",
    "    try:\n",
    "        # pivot: rows -> timestamps, columns -> nodeId\n",
    "        X = preprocess(df, col_name)\n",
    "\n",
    "        X.columns = pd.to_datetime(X.columns)\n",
    "\n",
    "        start_index = int(len(X.columns) * 0.3)\n",
    "        end_index = int(len(X.columns) * 0.45)\n",
    "        X_filtered = X.iloc[:, start_index:end_index]\n",
    "\n",
    "        # convert to cupy array\n",
    "        # baseline = cp.array(X.values)\n",
    "        baseline = X_filtered.values\n",
    "\n",
    "        # normalizing the data (demean)\n",
    "        mean_hat = baseline.mean(axis=0)\n",
    "        demeaned = baseline - mean_hat\n",
    "\n",
    "        # standardize\n",
    "        scaler = StandardScaler()\n",
    "        X_scaled = scaler.fit_transform(demeaned)\n",
    "\n",
    "        if (X_scaled.shape[0] < 2 or np.all(np.isnan(X_scaled)) or np.all(X_scaled == 0)):\n",
    "            print(f\"Skipping {col_name} due to insufficient data variance.\")\n",
    "            return None\n",
    "\n",
    "        # apply PCA\n",
    "        pca = PCA(n_components=1) # look into n_components in PCA sklearn implementation\n",
    "        scores = pca.fit_transform(X_scaled)\n",
    "\n",
    "        explained_variance_ratio_cumsum = np.cumsum(pca.explained_variance_ratio_)\n",
    "        npc = np.sum(explained_variance_ratio_cumsum < 0.9999) + 1\n",
    "        \n",
    "        abs_comp = np.abs(pca.components_[0])\n",
    "\n",
    "        top_10 = np.argsort(abs_comp)[-10:][::-1]\n",
    "\n",
    "        # most influential timestamp for this column\n",
    "        fc_t = X.columns[top_10] \n",
    "        # print(fc_t, 'yo')\n",
    "\n",
    "        P_fin = pd.DataFrame({f\"PC{k+1}\": scores[:, k] if k < npc else np.nan for k in range(1)})\n",
    "        P_fin['Measurement'] = X.index\n",
    "        \n",
    "        fc_t_df = pd.DataFrame({'feature': col_name, 'timestamp': fc_t})\n",
    "\n",
    "        # print(f\"{col_name} done...\")\n",
    "\n",
    "        return P_fin, fc_t_df\n",
    "    \n",
    "    except Exception as e:\n",
    "        print(f\"Error processing {col_name}: {e}\")\n",
    "        return None"
   ]
  },
  {
   "cell_type": "code",
   "execution_count": 15,
   "metadata": {},
   "outputs": [
    {
     "data": {
      "text/plain": [
       "46"
      ]
     },
     "execution_count": 15,
     "metadata": {},
     "output_type": "execute_result"
    }
   ],
   "source": [
    "numeric_cols = df_f.drop(columns=['timestamp', 'nodeId']).columns\n",
    "len(numeric_cols)"
   ]
  },
  {
   "cell_type": "code",
   "execution_count": 6,
   "metadata": {},
   "outputs": [
    {
     "name": "stdout",
     "output_type": "stream",
     "text": [
      "Skipping mem_shared due to insufficient data variance.\n",
      "Error processing mem_shared: cannot unpack non-iterable NoneType object\n",
      "Skipping Missed Buffers_P1 due to insufficient data variance.\n",
      "Error processing Missed Buffers_P1: cannot unpack non-iterable NoneType object\n",
      "Skipping TotalRetrans_rate due to insufficient data variance.\n",
      "Error processing TotalRetrans_rate: cannot unpack non-iterable NoneType object\n",
      "Skipping RPCRetrans_rate due to insufficient data variance.\n",
      "Error processing RPCRetrans_rate: cannot unpack non-iterable NoneType object\n",
      "Skipping TCPFastRetrans_rate due to insufficient data variance.\n",
      "Error processing TCPFastRetrans_rate: cannot unpack non-iterable NoneType object\n",
      "Skipping TCPSlowStartRetrans_rate due to insufficient data variance.\n",
      "Error processing TCPSlowStartRetrans_rate: cannot unpack non-iterable NoneType object\n",
      "Skipping RetransSegs_rate due to insufficient data variance.\n",
      "Error processing RetransSegs_rate: cannot unpack non-iterable NoneType object\n",
      "Skipping TCPLostRetransmit_rate due to insufficient data variance.\n",
      "Error processing TCPLostRetransmit_rate: cannot unpack non-iterable NoneType object\n",
      "Skipping TCPForwardRetrans_rate due to insufficient data variance.\n",
      "Error processing TCPForwardRetrans_rate: cannot unpack non-iterable NoneType object\n",
      "Skipping TCPSlowStartRetrans due to insufficient data variance.\n",
      "Error processing TCPSlowStartRetrans: cannot unpack non-iterable NoneType object\n",
      "Skipping TotalRetrans due to insufficient data variance.\n",
      "Error processing TotalRetrans: cannot unpack non-iterable NoneType object\n",
      "Skipping RPCRetrans due to insufficient data variance.\n",
      "Error processing RPCRetrans: cannot unpack non-iterable NoneType object\n",
      "Skipping TCPLostRetransmit due to insufficient data variance.\n",
      "Error processing TCPLostRetransmit: cannot unpack non-iterable NoneType object\n",
      "Skipping TCPFastRetrans due to insufficient data variance.\n",
      "Error processing TCPFastRetrans: cannot unpack non-iterable NoneType object\n",
      "Skipping RetransSegs due to insufficient data variance.\n",
      "Error processing RetransSegs: cannot unpack non-iterable NoneType object\n",
      "Skipping TCPForwardRetrans due to insufficient data variance.\n",
      "Error processing TCPForwardRetrans: cannot unpack non-iterable NoneType object\n"
     ]
    }
   ],
   "source": [
    "from concurrent.futures import ThreadPoolExecutor\n",
    "\n",
    "numeric_cols = df_f.drop(columns=['timestamp', 'nodeId']).columns\n",
    "P_final = []\n",
    "FC_final = []\n",
    "\n",
    "def process_column(col):\n",
    "    try:\n",
    "        P_df, fc_t_df = apply_pca_to_feature(col, df_f)\n",
    "        if P_df is not None:\n",
    "            P_df.insert(0, 'Col', col)\n",
    "            P_final.append(P_df)\n",
    "\n",
    "        if fc_t_df is not None:\n",
    "            FC_final.append(fc_t_df)\n",
    "\n",
    "    except Exception as e:\n",
    "        print(f\"Error processing {col}: {e}\")\n",
    "        return None\n",
    "\n",
    "with ThreadPoolExecutor() as executor:\n",
    "    executor.map(process_column, numeric_cols)\n",
    "\n",
    "P_final = pd.concat(P_final, ignore_index=True) if P_final else pd.DataFrame()\n",
    "FC_final = pd.concat(FC_final, ignore_index=True) if FC_final else pd.DataFrame()"
   ]
  },
  {
   "cell_type": "code",
   "execution_count": 7,
   "metadata": {},
   "outputs": [
    {
     "data": {
      "text/html": [
       "<div>\n",
       "<style scoped>\n",
       "    .dataframe tbody tr th:only-of-type {\n",
       "        vertical-align: middle;\n",
       "    }\n",
       "\n",
       "    .dataframe tbody tr th {\n",
       "        vertical-align: top;\n",
       "    }\n",
       "\n",
       "    .dataframe thead th {\n",
       "        text-align: right;\n",
       "    }\n",
       "</style>\n",
       "<table border=\"1\" class=\"dataframe\">\n",
       "  <thead>\n",
       "    <tr style=\"text-align: right;\">\n",
       "      <th></th>\n",
       "      <th>Col</th>\n",
       "      <th>PC1</th>\n",
       "      <th>Measurement</th>\n",
       "    </tr>\n",
       "  </thead>\n",
       "  <tbody>\n",
       "    <tr>\n",
       "      <th>0</th>\n",
       "      <td>load_fifteen</td>\n",
       "      <td>32.804654</td>\n",
       "      <td>novadaq-far-farm-06</td>\n",
       "    </tr>\n",
       "    <tr>\n",
       "      <th>1</th>\n",
       "      <td>load_fifteen</td>\n",
       "      <td>33.034022</td>\n",
       "      <td>novadaq-far-farm-07</td>\n",
       "    </tr>\n",
       "    <tr>\n",
       "      <th>2</th>\n",
       "      <td>load_fifteen</td>\n",
       "      <td>33.195171</td>\n",
       "      <td>novadaq-far-farm-08</td>\n",
       "    </tr>\n",
       "    <tr>\n",
       "      <th>3</th>\n",
       "      <td>load_fifteen</td>\n",
       "      <td>33.143595</td>\n",
       "      <td>novadaq-far-farm-09</td>\n",
       "    </tr>\n",
       "    <tr>\n",
       "      <th>4</th>\n",
       "      <td>load_fifteen</td>\n",
       "      <td>33.109554</td>\n",
       "      <td>novadaq-far-farm-10</td>\n",
       "    </tr>\n",
       "    <tr>\n",
       "      <th>...</th>\n",
       "      <td>...</td>\n",
       "      <td>...</td>\n",
       "      <td>...</td>\n",
       "    </tr>\n",
       "    <tr>\n",
       "      <th>5845</th>\n",
       "      <td>cpu_num</td>\n",
       "      <td>8.322923</td>\n",
       "      <td>novadaq-far-farm-95</td>\n",
       "    </tr>\n",
       "    <tr>\n",
       "      <th>5846</th>\n",
       "      <td>cpu_num</td>\n",
       "      <td>-9.164389</td>\n",
       "      <td>novadaq-far-farm-96</td>\n",
       "    </tr>\n",
       "    <tr>\n",
       "      <th>5847</th>\n",
       "      <td>cpu_num</td>\n",
       "      <td>-27.804271</td>\n",
       "      <td>novadaq-far-farm-97</td>\n",
       "    </tr>\n",
       "    <tr>\n",
       "      <th>5848</th>\n",
       "      <td>cpu_num</td>\n",
       "      <td>8.322923</td>\n",
       "      <td>novadaq-far-farm-98</td>\n",
       "    </tr>\n",
       "    <tr>\n",
       "      <th>5849</th>\n",
       "      <td>cpu_num</td>\n",
       "      <td>8.322923</td>\n",
       "      <td>novadaq-far-farm-99</td>\n",
       "    </tr>\n",
       "  </tbody>\n",
       "</table>\n",
       "<p>5850 rows × 3 columns</p>\n",
       "</div>"
      ],
      "text/plain": [
       "               Col        PC1          Measurement\n",
       "0     load_fifteen  32.804654  novadaq-far-farm-06\n",
       "1     load_fifteen  33.034022  novadaq-far-farm-07\n",
       "2     load_fifteen  33.195171  novadaq-far-farm-08\n",
       "3     load_fifteen  33.143595  novadaq-far-farm-09\n",
       "4     load_fifteen  33.109554  novadaq-far-farm-10\n",
       "...            ...        ...                  ...\n",
       "5845       cpu_num   8.322923  novadaq-far-farm-95\n",
       "5846       cpu_num  -9.164389  novadaq-far-farm-96\n",
       "5847       cpu_num -27.804271  novadaq-far-farm-97\n",
       "5848       cpu_num   8.322923  novadaq-far-farm-98\n",
       "5849       cpu_num   8.322923  novadaq-far-farm-99\n",
       "\n",
       "[5850 rows x 3 columns]"
      ]
     },
     "execution_count": 7,
     "metadata": {},
     "output_type": "execute_result"
    }
   ],
   "source": [
    "P_final"
   ]
  },
  {
   "cell_type": "code",
   "execution_count": 8,
   "metadata": {},
   "outputs": [
    {
     "data": {
      "text/html": [
       "<div>\n",
       "<style scoped>\n",
       "    .dataframe tbody tr th:only-of-type {\n",
       "        vertical-align: middle;\n",
       "    }\n",
       "\n",
       "    .dataframe tbody tr th {\n",
       "        vertical-align: top;\n",
       "    }\n",
       "\n",
       "    .dataframe thead th {\n",
       "        text-align: right;\n",
       "    }\n",
       "</style>\n",
       "<table border=\"1\" class=\"dataframe\">\n",
       "  <thead>\n",
       "    <tr style=\"text-align: right;\">\n",
       "      <th></th>\n",
       "      <th>feature</th>\n",
       "      <th>timestamp</th>\n",
       "    </tr>\n",
       "  </thead>\n",
       "  <tbody>\n",
       "    <tr>\n",
       "      <th>0</th>\n",
       "      <td>load_fifteen</td>\n",
       "      <td>2024-02-21 06:56:30</td>\n",
       "    </tr>\n",
       "    <tr>\n",
       "      <th>1</th>\n",
       "      <td>load_fifteen</td>\n",
       "      <td>2024-02-21 06:53:00</td>\n",
       "    </tr>\n",
       "    <tr>\n",
       "      <th>2</th>\n",
       "      <td>load_fifteen</td>\n",
       "      <td>2024-02-21 06:54:15</td>\n",
       "    </tr>\n",
       "    <tr>\n",
       "      <th>3</th>\n",
       "      <td>load_fifteen</td>\n",
       "      <td>2024-02-21 06:54:30</td>\n",
       "    </tr>\n",
       "    <tr>\n",
       "      <th>4</th>\n",
       "      <td>load_fifteen</td>\n",
       "      <td>2024-02-21 06:56:15</td>\n",
       "    </tr>\n",
       "    <tr>\n",
       "      <th>5</th>\n",
       "      <td>load_fifteen</td>\n",
       "      <td>2024-02-21 06:52:45</td>\n",
       "    </tr>\n",
       "    <tr>\n",
       "      <th>6</th>\n",
       "      <td>load_fifteen</td>\n",
       "      <td>2024-02-21 06:55:45</td>\n",
       "    </tr>\n",
       "    <tr>\n",
       "      <th>7</th>\n",
       "      <td>load_fifteen</td>\n",
       "      <td>2024-02-21 06:57:45</td>\n",
       "    </tr>\n",
       "    <tr>\n",
       "      <th>8</th>\n",
       "      <td>load_fifteen</td>\n",
       "      <td>2024-02-21 06:57:00</td>\n",
       "    </tr>\n",
       "    <tr>\n",
       "      <th>9</th>\n",
       "      <td>load_fifteen</td>\n",
       "      <td>2024-02-21 06:52:30</td>\n",
       "    </tr>\n",
       "    <tr>\n",
       "      <th>10</th>\n",
       "      <td>load_five</td>\n",
       "      <td>2024-02-21 06:55:00</td>\n",
       "    </tr>\n",
       "    <tr>\n",
       "      <th>11</th>\n",
       "      <td>load_five</td>\n",
       "      <td>2024-02-21 06:53:15</td>\n",
       "    </tr>\n",
       "    <tr>\n",
       "      <th>12</th>\n",
       "      <td>load_five</td>\n",
       "      <td>2024-02-21 06:57:30</td>\n",
       "    </tr>\n",
       "    <tr>\n",
       "      <th>13</th>\n",
       "      <td>load_five</td>\n",
       "      <td>2024-02-21 06:57:15</td>\n",
       "    </tr>\n",
       "    <tr>\n",
       "      <th>14</th>\n",
       "      <td>load_five</td>\n",
       "      <td>2024-02-21 06:56:45</td>\n",
       "    </tr>\n",
       "    <tr>\n",
       "      <th>15</th>\n",
       "      <td>load_five</td>\n",
       "      <td>2024-02-21 06:57:45</td>\n",
       "    </tr>\n",
       "    <tr>\n",
       "      <th>16</th>\n",
       "      <td>load_five</td>\n",
       "      <td>2024-02-21 06:57:00</td>\n",
       "    </tr>\n",
       "    <tr>\n",
       "      <th>17</th>\n",
       "      <td>load_five</td>\n",
       "      <td>2024-02-21 06:54:30</td>\n",
       "    </tr>\n",
       "    <tr>\n",
       "      <th>18</th>\n",
       "      <td>load_five</td>\n",
       "      <td>2024-02-21 06:52:30</td>\n",
       "    </tr>\n",
       "    <tr>\n",
       "      <th>19</th>\n",
       "      <td>load_five</td>\n",
       "      <td>2024-02-21 06:53:00</td>\n",
       "    </tr>\n",
       "  </tbody>\n",
       "</table>\n",
       "</div>"
      ],
      "text/plain": [
       "         feature           timestamp\n",
       "0   load_fifteen 2024-02-21 06:56:30\n",
       "1   load_fifteen 2024-02-21 06:53:00\n",
       "2   load_fifteen 2024-02-21 06:54:15\n",
       "3   load_fifteen 2024-02-21 06:54:30\n",
       "4   load_fifteen 2024-02-21 06:56:15\n",
       "5   load_fifteen 2024-02-21 06:52:45\n",
       "6   load_fifteen 2024-02-21 06:55:45\n",
       "7   load_fifteen 2024-02-21 06:57:45\n",
       "8   load_fifteen 2024-02-21 06:57:00\n",
       "9   load_fifteen 2024-02-21 06:52:30\n",
       "10     load_five 2024-02-21 06:55:00\n",
       "11     load_five 2024-02-21 06:53:15\n",
       "12     load_five 2024-02-21 06:57:30\n",
       "13     load_five 2024-02-21 06:57:15\n",
       "14     load_five 2024-02-21 06:56:45\n",
       "15     load_five 2024-02-21 06:57:45\n",
       "16     load_five 2024-02-21 06:57:00\n",
       "17     load_five 2024-02-21 06:54:30\n",
       "18     load_five 2024-02-21 06:52:30\n",
       "19     load_five 2024-02-21 06:53:00"
      ]
     },
     "execution_count": 8,
     "metadata": {},
     "output_type": "execute_result"
    }
   ],
   "source": [
    "FC_final.head(20)"
   ]
  },
  {
   "cell_type": "code",
   "execution_count": 18,
   "metadata": {},
   "outputs": [],
   "source": [
    "FC_final.to_csv('FC_final.csv')"
   ]
  },
  {
   "cell_type": "code",
   "execution_count": 9,
   "metadata": {},
   "outputs": [
    {
     "data": {
      "text/html": [
       "<div>\n",
       "<style scoped>\n",
       "    .dataframe tbody tr th:only-of-type {\n",
       "        vertical-align: middle;\n",
       "    }\n",
       "\n",
       "    .dataframe tbody tr th {\n",
       "        vertical-align: top;\n",
       "    }\n",
       "\n",
       "    .dataframe thead th {\n",
       "        text-align: right;\n",
       "    }\n",
       "</style>\n",
       "<table border=\"1\" class=\"dataframe\">\n",
       "  <thead>\n",
       "    <tr style=\"text-align: right;\">\n",
       "      <th>timestamp</th>\n",
       "      <th>2024-02-21 05:36:00</th>\n",
       "      <th>2024-02-21 05:36:15</th>\n",
       "      <th>2024-02-21 05:36:30</th>\n",
       "      <th>2024-02-21 05:36:45</th>\n",
       "      <th>2024-02-21 05:37:00</th>\n",
       "      <th>2024-02-21 05:37:15</th>\n",
       "      <th>2024-02-21 05:37:30</th>\n",
       "      <th>2024-02-21 05:37:45</th>\n",
       "      <th>2024-02-21 05:38:00</th>\n",
       "      <th>2024-02-21 05:38:15</th>\n",
       "      <th>...</th>\n",
       "      <th>2024-02-21 23:57:30</th>\n",
       "      <th>2024-02-21 23:57:45</th>\n",
       "      <th>2024-02-21 23:58:00</th>\n",
       "      <th>2024-02-21 23:58:15</th>\n",
       "      <th>2024-02-21 23:58:30</th>\n",
       "      <th>2024-02-21 23:58:45</th>\n",
       "      <th>2024-02-21 23:59:00</th>\n",
       "      <th>2024-02-21 23:59:15</th>\n",
       "      <th>2024-02-21 23:59:30</th>\n",
       "      <th>2024-02-21 23:59:45</th>\n",
       "    </tr>\n",
       "    <tr>\n",
       "      <th>nodeId</th>\n",
       "      <th></th>\n",
       "      <th></th>\n",
       "      <th></th>\n",
       "      <th></th>\n",
       "      <th></th>\n",
       "      <th></th>\n",
       "      <th></th>\n",
       "      <th></th>\n",
       "      <th></th>\n",
       "      <th></th>\n",
       "      <th></th>\n",
       "      <th></th>\n",
       "      <th></th>\n",
       "      <th></th>\n",
       "      <th></th>\n",
       "      <th></th>\n",
       "      <th></th>\n",
       "      <th></th>\n",
       "      <th></th>\n",
       "      <th></th>\n",
       "      <th></th>\n",
       "    </tr>\n",
       "  </thead>\n",
       "  <tbody>\n",
       "    <tr>\n",
       "      <th>novadaq-far-farm-06</th>\n",
       "      <td>0.0</td>\n",
       "      <td>0.0</td>\n",
       "      <td>0.0</td>\n",
       "      <td>0.0</td>\n",
       "      <td>0.0</td>\n",
       "      <td>0.0</td>\n",
       "      <td>0.0</td>\n",
       "      <td>0.0</td>\n",
       "      <td>0.0</td>\n",
       "      <td>0.0</td>\n",
       "      <td>...</td>\n",
       "      <td>0.0</td>\n",
       "      <td>0.0</td>\n",
       "      <td>0.0</td>\n",
       "      <td>0.0</td>\n",
       "      <td>0.0</td>\n",
       "      <td>0.0</td>\n",
       "      <td>0.0</td>\n",
       "      <td>0.0</td>\n",
       "      <td>0.0</td>\n",
       "      <td>0.0</td>\n",
       "    </tr>\n",
       "    <tr>\n",
       "      <th>novadaq-far-farm-07</th>\n",
       "      <td>0.0</td>\n",
       "      <td>0.0</td>\n",
       "      <td>0.0</td>\n",
       "      <td>0.0</td>\n",
       "      <td>0.0</td>\n",
       "      <td>0.0</td>\n",
       "      <td>0.0</td>\n",
       "      <td>0.0</td>\n",
       "      <td>0.0</td>\n",
       "      <td>0.0</td>\n",
       "      <td>...</td>\n",
       "      <td>0.0</td>\n",
       "      <td>0.0</td>\n",
       "      <td>0.0</td>\n",
       "      <td>0.0</td>\n",
       "      <td>0.0</td>\n",
       "      <td>0.0</td>\n",
       "      <td>0.0</td>\n",
       "      <td>0.0</td>\n",
       "      <td>0.0</td>\n",
       "      <td>0.0</td>\n",
       "    </tr>\n",
       "    <tr>\n",
       "      <th>novadaq-far-farm-08</th>\n",
       "      <td>0.0</td>\n",
       "      <td>0.0</td>\n",
       "      <td>0.0</td>\n",
       "      <td>0.0</td>\n",
       "      <td>0.0</td>\n",
       "      <td>0.0</td>\n",
       "      <td>0.0</td>\n",
       "      <td>0.0</td>\n",
       "      <td>0.0</td>\n",
       "      <td>0.0</td>\n",
       "      <td>...</td>\n",
       "      <td>0.0</td>\n",
       "      <td>0.0</td>\n",
       "      <td>0.0</td>\n",
       "      <td>0.0</td>\n",
       "      <td>0.0</td>\n",
       "      <td>0.0</td>\n",
       "      <td>0.0</td>\n",
       "      <td>0.0</td>\n",
       "      <td>0.0</td>\n",
       "      <td>0.0</td>\n",
       "    </tr>\n",
       "    <tr>\n",
       "      <th>novadaq-far-farm-09</th>\n",
       "      <td>0.0</td>\n",
       "      <td>0.0</td>\n",
       "      <td>0.0</td>\n",
       "      <td>0.0</td>\n",
       "      <td>0.0</td>\n",
       "      <td>0.0</td>\n",
       "      <td>0.0</td>\n",
       "      <td>0.0</td>\n",
       "      <td>0.0</td>\n",
       "      <td>0.0</td>\n",
       "      <td>...</td>\n",
       "      <td>0.0</td>\n",
       "      <td>0.0</td>\n",
       "      <td>0.0</td>\n",
       "      <td>0.0</td>\n",
       "      <td>0.0</td>\n",
       "      <td>0.0</td>\n",
       "      <td>0.0</td>\n",
       "      <td>0.0</td>\n",
       "      <td>0.0</td>\n",
       "      <td>0.0</td>\n",
       "    </tr>\n",
       "    <tr>\n",
       "      <th>novadaq-far-farm-10</th>\n",
       "      <td>0.0</td>\n",
       "      <td>0.0</td>\n",
       "      <td>0.0</td>\n",
       "      <td>0.0</td>\n",
       "      <td>0.0</td>\n",
       "      <td>0.0</td>\n",
       "      <td>0.0</td>\n",
       "      <td>0.0</td>\n",
       "      <td>0.0</td>\n",
       "      <td>0.0</td>\n",
       "      <td>...</td>\n",
       "      <td>0.0</td>\n",
       "      <td>0.0</td>\n",
       "      <td>0.0</td>\n",
       "      <td>0.0</td>\n",
       "      <td>0.0</td>\n",
       "      <td>0.0</td>\n",
       "      <td>0.0</td>\n",
       "      <td>0.0</td>\n",
       "      <td>0.0</td>\n",
       "      <td>0.0</td>\n",
       "    </tr>\n",
       "    <tr>\n",
       "      <th>...</th>\n",
       "      <td>...</td>\n",
       "      <td>...</td>\n",
       "      <td>...</td>\n",
       "      <td>...</td>\n",
       "      <td>...</td>\n",
       "      <td>...</td>\n",
       "      <td>...</td>\n",
       "      <td>...</td>\n",
       "      <td>...</td>\n",
       "      <td>...</td>\n",
       "      <td>...</td>\n",
       "      <td>...</td>\n",
       "      <td>...</td>\n",
       "      <td>...</td>\n",
       "      <td>...</td>\n",
       "      <td>...</td>\n",
       "      <td>...</td>\n",
       "      <td>...</td>\n",
       "      <td>...</td>\n",
       "      <td>...</td>\n",
       "      <td>...</td>\n",
       "    </tr>\n",
       "    <tr>\n",
       "      <th>novadaq-far-farm-95</th>\n",
       "      <td>0.0</td>\n",
       "      <td>0.0</td>\n",
       "      <td>0.0</td>\n",
       "      <td>0.0</td>\n",
       "      <td>0.0</td>\n",
       "      <td>0.0</td>\n",
       "      <td>0.0</td>\n",
       "      <td>0.0</td>\n",
       "      <td>0.0</td>\n",
       "      <td>0.0</td>\n",
       "      <td>...</td>\n",
       "      <td>0.0</td>\n",
       "      <td>0.0</td>\n",
       "      <td>0.0</td>\n",
       "      <td>0.0</td>\n",
       "      <td>0.0</td>\n",
       "      <td>0.0</td>\n",
       "      <td>0.0</td>\n",
       "      <td>0.0</td>\n",
       "      <td>0.0</td>\n",
       "      <td>0.0</td>\n",
       "    </tr>\n",
       "    <tr>\n",
       "      <th>novadaq-far-farm-96</th>\n",
       "      <td>0.0</td>\n",
       "      <td>0.0</td>\n",
       "      <td>0.0</td>\n",
       "      <td>0.0</td>\n",
       "      <td>0.0</td>\n",
       "      <td>0.0</td>\n",
       "      <td>0.0</td>\n",
       "      <td>0.0</td>\n",
       "      <td>0.0</td>\n",
       "      <td>0.0</td>\n",
       "      <td>...</td>\n",
       "      <td>0.0</td>\n",
       "      <td>0.0</td>\n",
       "      <td>0.0</td>\n",
       "      <td>0.0</td>\n",
       "      <td>0.0</td>\n",
       "      <td>0.0</td>\n",
       "      <td>0.0</td>\n",
       "      <td>0.0</td>\n",
       "      <td>0.0</td>\n",
       "      <td>0.0</td>\n",
       "    </tr>\n",
       "    <tr>\n",
       "      <th>novadaq-far-farm-97</th>\n",
       "      <td>0.0</td>\n",
       "      <td>0.0</td>\n",
       "      <td>0.0</td>\n",
       "      <td>0.0</td>\n",
       "      <td>0.0</td>\n",
       "      <td>0.0</td>\n",
       "      <td>0.0</td>\n",
       "      <td>0.0</td>\n",
       "      <td>0.0</td>\n",
       "      <td>0.0</td>\n",
       "      <td>...</td>\n",
       "      <td>0.0</td>\n",
       "      <td>0.0</td>\n",
       "      <td>0.0</td>\n",
       "      <td>0.0</td>\n",
       "      <td>0.0</td>\n",
       "      <td>0.0</td>\n",
       "      <td>0.0</td>\n",
       "      <td>0.0</td>\n",
       "      <td>0.0</td>\n",
       "      <td>0.0</td>\n",
       "    </tr>\n",
       "    <tr>\n",
       "      <th>novadaq-far-farm-98</th>\n",
       "      <td>0.0</td>\n",
       "      <td>0.0</td>\n",
       "      <td>0.0</td>\n",
       "      <td>0.0</td>\n",
       "      <td>0.0</td>\n",
       "      <td>0.0</td>\n",
       "      <td>0.0</td>\n",
       "      <td>0.0</td>\n",
       "      <td>0.0</td>\n",
       "      <td>0.0</td>\n",
       "      <td>...</td>\n",
       "      <td>2.0</td>\n",
       "      <td>2.0</td>\n",
       "      <td>2.0</td>\n",
       "      <td>2.0</td>\n",
       "      <td>2.0</td>\n",
       "      <td>2.0</td>\n",
       "      <td>2.0</td>\n",
       "      <td>2.0</td>\n",
       "      <td>0.0</td>\n",
       "      <td>0.0</td>\n",
       "    </tr>\n",
       "    <tr>\n",
       "      <th>novadaq-far-farm-99</th>\n",
       "      <td>0.0</td>\n",
       "      <td>0.0</td>\n",
       "      <td>0.0</td>\n",
       "      <td>0.0</td>\n",
       "      <td>0.0</td>\n",
       "      <td>0.0</td>\n",
       "      <td>0.0</td>\n",
       "      <td>0.0</td>\n",
       "      <td>0.0</td>\n",
       "      <td>0.0</td>\n",
       "      <td>...</td>\n",
       "      <td>9.0</td>\n",
       "      <td>9.0</td>\n",
       "      <td>9.0</td>\n",
       "      <td>9.0</td>\n",
       "      <td>0.0</td>\n",
       "      <td>0.0</td>\n",
       "      <td>0.0</td>\n",
       "      <td>0.0</td>\n",
       "      <td>0.0</td>\n",
       "      <td>0.0</td>\n",
       "    </tr>\n",
       "  </tbody>\n",
       "</table>\n",
       "<p>195 rows × 4416 columns</p>\n",
       "</div>"
      ],
      "text/plain": [
       "timestamp            2024-02-21 05:36:00  2024-02-21 05:36:15  \\\n",
       "nodeId                                                          \n",
       "novadaq-far-farm-06                  0.0                  0.0   \n",
       "novadaq-far-farm-07                  0.0                  0.0   \n",
       "novadaq-far-farm-08                  0.0                  0.0   \n",
       "novadaq-far-farm-09                  0.0                  0.0   \n",
       "novadaq-far-farm-10                  0.0                  0.0   \n",
       "...                                  ...                  ...   \n",
       "novadaq-far-farm-95                  0.0                  0.0   \n",
       "novadaq-far-farm-96                  0.0                  0.0   \n",
       "novadaq-far-farm-97                  0.0                  0.0   \n",
       "novadaq-far-farm-98                  0.0                  0.0   \n",
       "novadaq-far-farm-99                  0.0                  0.0   \n",
       "\n",
       "timestamp            2024-02-21 05:36:30  2024-02-21 05:36:45  \\\n",
       "nodeId                                                          \n",
       "novadaq-far-farm-06                  0.0                  0.0   \n",
       "novadaq-far-farm-07                  0.0                  0.0   \n",
       "novadaq-far-farm-08                  0.0                  0.0   \n",
       "novadaq-far-farm-09                  0.0                  0.0   \n",
       "novadaq-far-farm-10                  0.0                  0.0   \n",
       "...                                  ...                  ...   \n",
       "novadaq-far-farm-95                  0.0                  0.0   \n",
       "novadaq-far-farm-96                  0.0                  0.0   \n",
       "novadaq-far-farm-97                  0.0                  0.0   \n",
       "novadaq-far-farm-98                  0.0                  0.0   \n",
       "novadaq-far-farm-99                  0.0                  0.0   \n",
       "\n",
       "timestamp            2024-02-21 05:37:00  2024-02-21 05:37:15  \\\n",
       "nodeId                                                          \n",
       "novadaq-far-farm-06                  0.0                  0.0   \n",
       "novadaq-far-farm-07                  0.0                  0.0   \n",
       "novadaq-far-farm-08                  0.0                  0.0   \n",
       "novadaq-far-farm-09                  0.0                  0.0   \n",
       "novadaq-far-farm-10                  0.0                  0.0   \n",
       "...                                  ...                  ...   \n",
       "novadaq-far-farm-95                  0.0                  0.0   \n",
       "novadaq-far-farm-96                  0.0                  0.0   \n",
       "novadaq-far-farm-97                  0.0                  0.0   \n",
       "novadaq-far-farm-98                  0.0                  0.0   \n",
       "novadaq-far-farm-99                  0.0                  0.0   \n",
       "\n",
       "timestamp            2024-02-21 05:37:30  2024-02-21 05:37:45  \\\n",
       "nodeId                                                          \n",
       "novadaq-far-farm-06                  0.0                  0.0   \n",
       "novadaq-far-farm-07                  0.0                  0.0   \n",
       "novadaq-far-farm-08                  0.0                  0.0   \n",
       "novadaq-far-farm-09                  0.0                  0.0   \n",
       "novadaq-far-farm-10                  0.0                  0.0   \n",
       "...                                  ...                  ...   \n",
       "novadaq-far-farm-95                  0.0                  0.0   \n",
       "novadaq-far-farm-96                  0.0                  0.0   \n",
       "novadaq-far-farm-97                  0.0                  0.0   \n",
       "novadaq-far-farm-98                  0.0                  0.0   \n",
       "novadaq-far-farm-99                  0.0                  0.0   \n",
       "\n",
       "timestamp            2024-02-21 05:38:00  2024-02-21 05:38:15  ...  \\\n",
       "nodeId                                                         ...   \n",
       "novadaq-far-farm-06                  0.0                  0.0  ...   \n",
       "novadaq-far-farm-07                  0.0                  0.0  ...   \n",
       "novadaq-far-farm-08                  0.0                  0.0  ...   \n",
       "novadaq-far-farm-09                  0.0                  0.0  ...   \n",
       "novadaq-far-farm-10                  0.0                  0.0  ...   \n",
       "...                                  ...                  ...  ...   \n",
       "novadaq-far-farm-95                  0.0                  0.0  ...   \n",
       "novadaq-far-farm-96                  0.0                  0.0  ...   \n",
       "novadaq-far-farm-97                  0.0                  0.0  ...   \n",
       "novadaq-far-farm-98                  0.0                  0.0  ...   \n",
       "novadaq-far-farm-99                  0.0                  0.0  ...   \n",
       "\n",
       "timestamp            2024-02-21 23:57:30  2024-02-21 23:57:45  \\\n",
       "nodeId                                                          \n",
       "novadaq-far-farm-06                  0.0                  0.0   \n",
       "novadaq-far-farm-07                  0.0                  0.0   \n",
       "novadaq-far-farm-08                  0.0                  0.0   \n",
       "novadaq-far-farm-09                  0.0                  0.0   \n",
       "novadaq-far-farm-10                  0.0                  0.0   \n",
       "...                                  ...                  ...   \n",
       "novadaq-far-farm-95                  0.0                  0.0   \n",
       "novadaq-far-farm-96                  0.0                  0.0   \n",
       "novadaq-far-farm-97                  0.0                  0.0   \n",
       "novadaq-far-farm-98                  2.0                  2.0   \n",
       "novadaq-far-farm-99                  9.0                  9.0   \n",
       "\n",
       "timestamp            2024-02-21 23:58:00  2024-02-21 23:58:15  \\\n",
       "nodeId                                                          \n",
       "novadaq-far-farm-06                  0.0                  0.0   \n",
       "novadaq-far-farm-07                  0.0                  0.0   \n",
       "novadaq-far-farm-08                  0.0                  0.0   \n",
       "novadaq-far-farm-09                  0.0                  0.0   \n",
       "novadaq-far-farm-10                  0.0                  0.0   \n",
       "...                                  ...                  ...   \n",
       "novadaq-far-farm-95                  0.0                  0.0   \n",
       "novadaq-far-farm-96                  0.0                  0.0   \n",
       "novadaq-far-farm-97                  0.0                  0.0   \n",
       "novadaq-far-farm-98                  2.0                  2.0   \n",
       "novadaq-far-farm-99                  9.0                  9.0   \n",
       "\n",
       "timestamp            2024-02-21 23:58:30  2024-02-21 23:58:45  \\\n",
       "nodeId                                                          \n",
       "novadaq-far-farm-06                  0.0                  0.0   \n",
       "novadaq-far-farm-07                  0.0                  0.0   \n",
       "novadaq-far-farm-08                  0.0                  0.0   \n",
       "novadaq-far-farm-09                  0.0                  0.0   \n",
       "novadaq-far-farm-10                  0.0                  0.0   \n",
       "...                                  ...                  ...   \n",
       "novadaq-far-farm-95                  0.0                  0.0   \n",
       "novadaq-far-farm-96                  0.0                  0.0   \n",
       "novadaq-far-farm-97                  0.0                  0.0   \n",
       "novadaq-far-farm-98                  2.0                  2.0   \n",
       "novadaq-far-farm-99                  0.0                  0.0   \n",
       "\n",
       "timestamp            2024-02-21 23:59:00  2024-02-21 23:59:15  \\\n",
       "nodeId                                                          \n",
       "novadaq-far-farm-06                  0.0                  0.0   \n",
       "novadaq-far-farm-07                  0.0                  0.0   \n",
       "novadaq-far-farm-08                  0.0                  0.0   \n",
       "novadaq-far-farm-09                  0.0                  0.0   \n",
       "novadaq-far-farm-10                  0.0                  0.0   \n",
       "...                                  ...                  ...   \n",
       "novadaq-far-farm-95                  0.0                  0.0   \n",
       "novadaq-far-farm-96                  0.0                  0.0   \n",
       "novadaq-far-farm-97                  0.0                  0.0   \n",
       "novadaq-far-farm-98                  2.0                  2.0   \n",
       "novadaq-far-farm-99                  0.0                  0.0   \n",
       "\n",
       "timestamp            2024-02-21 23:59:30  2024-02-21 23:59:45  \n",
       "nodeId                                                         \n",
       "novadaq-far-farm-06                  0.0                  0.0  \n",
       "novadaq-far-farm-07                  0.0                  0.0  \n",
       "novadaq-far-farm-08                  0.0                  0.0  \n",
       "novadaq-far-farm-09                  0.0                  0.0  \n",
       "novadaq-far-farm-10                  0.0                  0.0  \n",
       "...                                  ...                  ...  \n",
       "novadaq-far-farm-95                  0.0                  0.0  \n",
       "novadaq-far-farm-96                  0.0                  0.0  \n",
       "novadaq-far-farm-97                  0.0                  0.0  \n",
       "novadaq-far-farm-98                  0.0                  0.0  \n",
       "novadaq-far-farm-99                  0.0                  0.0  \n",
       "\n",
       "[195 rows x 4416 columns]"
      ]
     },
     "execution_count": 9,
     "metadata": {},
     "output_type": "execute_result"
    }
   ],
   "source": [
    "df_f.loc[:, ['timestamp', 'nodeId', 'Missed Buffers_P1']] \\\n",
    "             .pivot_table(index='timestamp', columns='nodeId', values='Missed Buffers_P1') \\\n",
    "             .apply(lambda row: row.fillna(0.0), axis=0).T"
   ]
  },
  {
   "cell_type": "markdown",
   "metadata": {},
   "source": [
    "Below only works with entire dataset (Missed Buffers_P1 is 0 for most of the day)"
   ]
  },
  {
   "cell_type": "code",
   "execution_count": 10,
   "metadata": {},
   "outputs": [
    {
     "name": "stdout",
     "output_type": "stream",
     "text": [
      "Skipping Missed Buffers_P1 due to insufficient data variance.\n"
     ]
    }
   ],
   "source": [
    "P_test = apply_pca_to_feature('Missed Buffers_P1', df_f)\n",
    "P_test"
   ]
  },
  {
   "cell_type": "code",
   "execution_count": 12,
   "metadata": {},
   "outputs": [
    {
     "data": {
      "text/html": [
       "<div>\n",
       "<style scoped>\n",
       "    .dataframe tbody tr th:only-of-type {\n",
       "        vertical-align: middle;\n",
       "    }\n",
       "\n",
       "    .dataframe tbody tr th {\n",
       "        vertical-align: top;\n",
       "    }\n",
       "\n",
       "    .dataframe thead th {\n",
       "        text-align: right;\n",
       "    }\n",
       "</style>\n",
       "<table border=\"1\" class=\"dataframe\">\n",
       "  <thead>\n",
       "    <tr style=\"text-align: right;\">\n",
       "      <th></th>\n",
       "      <th>Col</th>\n",
       "      <th>PC1</th>\n",
       "      <th>Measurement</th>\n",
       "    </tr>\n",
       "  </thead>\n",
       "  <tbody>\n",
       "    <tr>\n",
       "      <th>0</th>\n",
       "      <td>load_fifteen</td>\n",
       "      <td>32.804654</td>\n",
       "      <td>novadaq-far-farm-06</td>\n",
       "    </tr>\n",
       "    <tr>\n",
       "      <th>1</th>\n",
       "      <td>load_fifteen</td>\n",
       "      <td>33.034022</td>\n",
       "      <td>novadaq-far-farm-07</td>\n",
       "    </tr>\n",
       "    <tr>\n",
       "      <th>2</th>\n",
       "      <td>load_fifteen</td>\n",
       "      <td>33.195171</td>\n",
       "      <td>novadaq-far-farm-08</td>\n",
       "    </tr>\n",
       "    <tr>\n",
       "      <th>3</th>\n",
       "      <td>load_fifteen</td>\n",
       "      <td>33.143595</td>\n",
       "      <td>novadaq-far-farm-09</td>\n",
       "    </tr>\n",
       "    <tr>\n",
       "      <th>4</th>\n",
       "      <td>load_fifteen</td>\n",
       "      <td>33.109554</td>\n",
       "      <td>novadaq-far-farm-10</td>\n",
       "    </tr>\n",
       "    <tr>\n",
       "      <th>...</th>\n",
       "      <td>...</td>\n",
       "      <td>...</td>\n",
       "      <td>...</td>\n",
       "    </tr>\n",
       "    <tr>\n",
       "      <th>5845</th>\n",
       "      <td>cpu_num</td>\n",
       "      <td>8.322923</td>\n",
       "      <td>novadaq-far-farm-95</td>\n",
       "    </tr>\n",
       "    <tr>\n",
       "      <th>5846</th>\n",
       "      <td>cpu_num</td>\n",
       "      <td>-9.164389</td>\n",
       "      <td>novadaq-far-farm-96</td>\n",
       "    </tr>\n",
       "    <tr>\n",
       "      <th>5847</th>\n",
       "      <td>cpu_num</td>\n",
       "      <td>-27.804271</td>\n",
       "      <td>novadaq-far-farm-97</td>\n",
       "    </tr>\n",
       "    <tr>\n",
       "      <th>5848</th>\n",
       "      <td>cpu_num</td>\n",
       "      <td>8.322923</td>\n",
       "      <td>novadaq-far-farm-98</td>\n",
       "    </tr>\n",
       "    <tr>\n",
       "      <th>5849</th>\n",
       "      <td>cpu_num</td>\n",
       "      <td>8.322923</td>\n",
       "      <td>novadaq-far-farm-99</td>\n",
       "    </tr>\n",
       "  </tbody>\n",
       "</table>\n",
       "<p>5850 rows × 3 columns</p>\n",
       "</div>"
      ],
      "text/plain": [
       "               Col        PC1          Measurement\n",
       "0     load_fifteen  32.804654  novadaq-far-farm-06\n",
       "1     load_fifteen  33.034022  novadaq-far-farm-07\n",
       "2     load_fifteen  33.195171  novadaq-far-farm-08\n",
       "3     load_fifteen  33.143595  novadaq-far-farm-09\n",
       "4     load_fifteen  33.109554  novadaq-far-farm-10\n",
       "...            ...        ...                  ...\n",
       "5845       cpu_num   8.322923  novadaq-far-farm-95\n",
       "5846       cpu_num  -9.164389  novadaq-far-farm-96\n",
       "5847       cpu_num -27.804271  novadaq-far-farm-97\n",
       "5848       cpu_num   8.322923  novadaq-far-farm-98\n",
       "5849       cpu_num   8.322923  novadaq-far-farm-99\n",
       "\n",
       "[5850 rows x 3 columns]"
      ]
     },
     "execution_count": 12,
     "metadata": {},
     "output_type": "execute_result"
    }
   ],
   "source": [
    "P_final"
   ]
  },
  {
   "cell_type": "code",
   "execution_count": 13,
   "metadata": {},
   "outputs": [
    {
     "data": {
      "text/plain": [
       "30"
      ]
     },
     "execution_count": 13,
     "metadata": {},
     "output_type": "execute_result"
    }
   ],
   "source": [
    "P_final['Col'].nunique()"
   ]
  },
  {
   "cell_type": "code",
   "execution_count": 19,
   "metadata": {},
   "outputs": [
    {
     "data": {
      "text/html": [
       "<div>\n",
       "<style scoped>\n",
       "    .dataframe tbody tr th:only-of-type {\n",
       "        vertical-align: middle;\n",
       "    }\n",
       "\n",
       "    .dataframe tbody tr th {\n",
       "        vertical-align: top;\n",
       "    }\n",
       "\n",
       "    .dataframe thead th {\n",
       "        text-align: right;\n",
       "    }\n",
       "</style>\n",
       "<table border=\"1\" class=\"dataframe\">\n",
       "  <thead>\n",
       "    <tr style=\"text-align: right;\">\n",
       "      <th></th>\n",
       "      <th>Col</th>\n",
       "      <th>PC1</th>\n",
       "      <th>FC_t</th>\n",
       "      <th>Measurement</th>\n",
       "    </tr>\n",
       "  </thead>\n",
       "  <tbody>\n",
       "    <tr>\n",
       "      <th>0</th>\n",
       "      <td>cpu_system</td>\n",
       "      <td>-102.807111</td>\n",
       "      <td>2024-02-21 20:56:30</td>\n",
       "      <td>novadaq-far-farm-06</td>\n",
       "    </tr>\n",
       "    <tr>\n",
       "      <th>1</th>\n",
       "      <td>cpu_system</td>\n",
       "      <td>-103.581607</td>\n",
       "      <td>2024-02-21 20:56:30</td>\n",
       "      <td>novadaq-far-farm-07</td>\n",
       "    </tr>\n",
       "    <tr>\n",
       "      <th>2</th>\n",
       "      <td>cpu_system</td>\n",
       "      <td>-110.024682</td>\n",
       "      <td>2024-02-21 20:56:30</td>\n",
       "      <td>novadaq-far-farm-08</td>\n",
       "    </tr>\n",
       "    <tr>\n",
       "      <th>3</th>\n",
       "      <td>cpu_system</td>\n",
       "      <td>-103.603792</td>\n",
       "      <td>2024-02-21 20:56:30</td>\n",
       "      <td>novadaq-far-farm-09</td>\n",
       "    </tr>\n",
       "    <tr>\n",
       "      <th>4</th>\n",
       "      <td>cpu_system</td>\n",
       "      <td>-104.891379</td>\n",
       "      <td>2024-02-21 20:56:30</td>\n",
       "      <td>novadaq-far-farm-10</td>\n",
       "    </tr>\n",
       "    <tr>\n",
       "      <th>...</th>\n",
       "      <td>...</td>\n",
       "      <td>...</td>\n",
       "      <td>...</td>\n",
       "      <td>...</td>\n",
       "    </tr>\n",
       "    <tr>\n",
       "      <th>6040</th>\n",
       "      <td>cpu_num</td>\n",
       "      <td>-1.654641</td>\n",
       "      <td>2024-02-21 21:06:00</td>\n",
       "      <td>novadaq-far-farm-95</td>\n",
       "    </tr>\n",
       "    <tr>\n",
       "      <th>6041</th>\n",
       "      <td>cpu_num</td>\n",
       "      <td>-21.738115</td>\n",
       "      <td>2024-02-21 21:06:00</td>\n",
       "      <td>novadaq-far-farm-96</td>\n",
       "    </tr>\n",
       "    <tr>\n",
       "      <th>6042</th>\n",
       "      <td>cpu_num</td>\n",
       "      <td>-33.847232</td>\n",
       "      <td>2024-02-21 21:06:00</td>\n",
       "      <td>novadaq-far-farm-97</td>\n",
       "    </tr>\n",
       "    <tr>\n",
       "      <th>6043</th>\n",
       "      <td>cpu_num</td>\n",
       "      <td>-3.033610</td>\n",
       "      <td>2024-02-21 21:06:00</td>\n",
       "      <td>novadaq-far-farm-98</td>\n",
       "    </tr>\n",
       "    <tr>\n",
       "      <th>6044</th>\n",
       "      <td>cpu_num</td>\n",
       "      <td>2.694509</td>\n",
       "      <td>2024-02-21 21:06:00</td>\n",
       "      <td>novadaq-far-farm-99</td>\n",
       "    </tr>\n",
       "  </tbody>\n",
       "</table>\n",
       "<p>6045 rows × 4 columns</p>\n",
       "</div>"
      ],
      "text/plain": [
       "             Col         PC1                 FC_t          Measurement\n",
       "0     cpu_system -102.807111  2024-02-21 20:56:30  novadaq-far-farm-06\n",
       "1     cpu_system -103.581607  2024-02-21 20:56:30  novadaq-far-farm-07\n",
       "2     cpu_system -110.024682  2024-02-21 20:56:30  novadaq-far-farm-08\n",
       "3     cpu_system -103.603792  2024-02-21 20:56:30  novadaq-far-farm-09\n",
       "4     cpu_system -104.891379  2024-02-21 20:56:30  novadaq-far-farm-10\n",
       "...          ...         ...                  ...                  ...\n",
       "6040     cpu_num   -1.654641  2024-02-21 21:06:00  novadaq-far-farm-95\n",
       "6041     cpu_num  -21.738115  2024-02-21 21:06:00  novadaq-far-farm-96\n",
       "6042     cpu_num  -33.847232  2024-02-21 21:06:00  novadaq-far-farm-97\n",
       "6043     cpu_num   -3.033610  2024-02-21 21:06:00  novadaq-far-farm-98\n",
       "6044     cpu_num    2.694509  2024-02-21 21:06:00  novadaq-far-farm-99\n",
       "\n",
       "[6045 rows x 4 columns]"
      ]
     },
     "execution_count": 19,
     "metadata": {},
     "output_type": "execute_result"
    }
   ],
   "source": [
    "P_final = P_final.drop(columns=['y'])\n",
    "P_final"
   ]
  },
  {
   "cell_type": "code",
   "execution_count": 14,
   "metadata": {},
   "outputs": [],
   "source": [
    "P_final.to_csv('P_final1.csv')"
   ]
  },
  {
   "cell_type": "markdown",
   "metadata": {},
   "source": [
    "Second step DR: UMAP"
   ]
  },
  {
   "cell_type": "code",
   "execution_count": 15,
   "metadata": {},
   "outputs": [
    {
     "name": "stderr",
     "output_type": "stream",
     "text": [
      "/Users/allison/anaconda3/envs/myenv/lib/python3.9/site-packages/tqdm/auto.py:21: TqdmWarning: IProgress not found. Please update jupyter and ipywidgets. See https://ipywidgets.readthedocs.io/en/stable/user_install.html\n",
      "  from .autonotebook import tqdm as notebook_tqdm\n",
      "/Users/allison/anaconda3/envs/myenv/lib/python3.9/site-packages/umap/umap_.py:1943: UserWarning: n_jobs value -1 overridden to 1 by setting random_state. Use no seed for parallelism.\n",
      "  warn(f\"n_jobs value {self.n_jobs} overridden to 1 by setting random_state. Use no seed for parallelism.\")\n"
     ]
    },
    {
     "data": {
      "application/vnd.plotly.v1+json": {
       "config": {
        "plotlyServerURL": "https://plot.ly"
       },
       "data": [
        {
         "customdata": [
          [
           "novadaq-far-farm-06"
          ],
          [
           "novadaq-far-farm-07"
          ],
          [
           "novadaq-far-farm-08"
          ],
          [
           "novadaq-far-farm-09"
          ],
          [
           "novadaq-far-farm-10"
          ],
          [
           "novadaq-far-farm-100"
          ],
          [
           "novadaq-far-farm-101"
          ],
          [
           "novadaq-far-farm-102"
          ],
          [
           "novadaq-far-farm-103"
          ],
          [
           "novadaq-far-farm-104"
          ],
          [
           "novadaq-far-farm-105"
          ],
          [
           "novadaq-far-farm-106"
          ],
          [
           "novadaq-far-farm-107"
          ],
          [
           "novadaq-far-farm-108"
          ],
          [
           "novadaq-far-farm-109"
          ],
          [
           "novadaq-far-farm-11"
          ],
          [
           "novadaq-far-farm-110"
          ],
          [
           "novadaq-far-farm-111"
          ],
          [
           "novadaq-far-farm-112"
          ],
          [
           "novadaq-far-farm-113"
          ],
          [
           "novadaq-far-farm-114"
          ],
          [
           "novadaq-far-farm-115"
          ],
          [
           "novadaq-far-farm-116"
          ],
          [
           "novadaq-far-farm-117"
          ],
          [
           "novadaq-far-farm-118"
          ],
          [
           "novadaq-far-farm-119"
          ],
          [
           "novadaq-far-farm-12"
          ],
          [
           "novadaq-far-farm-120"
          ],
          [
           "novadaq-far-farm-121"
          ],
          [
           "novadaq-far-farm-122"
          ],
          [
           "novadaq-far-farm-123"
          ],
          [
           "novadaq-far-farm-124"
          ],
          [
           "novadaq-far-farm-125"
          ],
          [
           "novadaq-far-farm-126"
          ],
          [
           "novadaq-far-farm-127"
          ],
          [
           "novadaq-far-farm-128"
          ],
          [
           "novadaq-far-farm-129"
          ],
          [
           "novadaq-far-farm-13"
          ],
          [
           "novadaq-far-farm-130"
          ],
          [
           "novadaq-far-farm-131"
          ],
          [
           "novadaq-far-farm-132"
          ],
          [
           "novadaq-far-farm-133"
          ],
          [
           "novadaq-far-farm-134"
          ],
          [
           "novadaq-far-farm-135"
          ],
          [
           "novadaq-far-farm-136"
          ],
          [
           "novadaq-far-farm-137"
          ],
          [
           "novadaq-far-farm-138"
          ],
          [
           "novadaq-far-farm-139"
          ],
          [
           "novadaq-far-farm-14"
          ],
          [
           "novadaq-far-farm-140"
          ],
          [
           "novadaq-far-farm-141"
          ],
          [
           "novadaq-far-farm-142"
          ],
          [
           "novadaq-far-farm-143"
          ],
          [
           "novadaq-far-farm-144"
          ],
          [
           "novadaq-far-farm-145"
          ],
          [
           "novadaq-far-farm-146"
          ],
          [
           "novadaq-far-farm-147"
          ],
          [
           "novadaq-far-farm-148"
          ],
          [
           "novadaq-far-farm-149"
          ],
          [
           "novadaq-far-farm-15"
          ],
          [
           "novadaq-far-farm-150"
          ],
          [
           "novadaq-far-farm-151"
          ],
          [
           "novadaq-far-farm-152"
          ],
          [
           "novadaq-far-farm-153"
          ],
          [
           "novadaq-far-farm-154"
          ],
          [
           "novadaq-far-farm-155"
          ],
          [
           "novadaq-far-farm-156"
          ],
          [
           "novadaq-far-farm-157"
          ],
          [
           "novadaq-far-farm-158"
          ],
          [
           "novadaq-far-farm-159"
          ],
          [
           "novadaq-far-farm-16"
          ],
          [
           "novadaq-far-farm-160"
          ],
          [
           "novadaq-far-farm-161"
          ],
          [
           "novadaq-far-farm-162"
          ],
          [
           "novadaq-far-farm-163"
          ],
          [
           "novadaq-far-farm-164"
          ],
          [
           "novadaq-far-farm-165"
          ],
          [
           "novadaq-far-farm-166"
          ],
          [
           "novadaq-far-farm-167"
          ],
          [
           "novadaq-far-farm-168"
          ],
          [
           "novadaq-far-farm-169"
          ],
          [
           "novadaq-far-farm-17"
          ],
          [
           "novadaq-far-farm-170"
          ],
          [
           "novadaq-far-farm-171"
          ],
          [
           "novadaq-far-farm-172"
          ],
          [
           "novadaq-far-farm-173"
          ],
          [
           "novadaq-far-farm-174"
          ],
          [
           "novadaq-far-farm-175"
          ],
          [
           "novadaq-far-farm-176"
          ],
          [
           "novadaq-far-farm-177"
          ],
          [
           "novadaq-far-farm-178"
          ],
          [
           "novadaq-far-farm-179"
          ],
          [
           "novadaq-far-farm-18"
          ],
          [
           "novadaq-far-farm-180"
          ],
          [
           "novadaq-far-farm-181"
          ],
          [
           "novadaq-far-farm-182"
          ],
          [
           "novadaq-far-farm-183"
          ],
          [
           "novadaq-far-farm-184"
          ],
          [
           "novadaq-far-farm-185"
          ],
          [
           "novadaq-far-farm-186"
          ],
          [
           "novadaq-far-farm-187"
          ],
          [
           "novadaq-far-farm-188"
          ],
          [
           "novadaq-far-farm-189"
          ],
          [
           "novadaq-far-farm-19"
          ],
          [
           "novadaq-far-farm-190"
          ],
          [
           "novadaq-far-farm-191"
          ],
          [
           "novadaq-far-farm-192"
          ],
          [
           "novadaq-far-farm-193"
          ],
          [
           "novadaq-far-farm-194"
          ],
          [
           "novadaq-far-farm-195"
          ],
          [
           "novadaq-far-farm-196"
          ],
          [
           "novadaq-far-farm-197"
          ],
          [
           "novadaq-far-farm-198"
          ],
          [
           "novadaq-far-farm-199"
          ],
          [
           "novadaq-far-farm-20"
          ],
          [
           "novadaq-far-farm-200"
          ],
          [
           "novadaq-far-farm-21"
          ],
          [
           "novadaq-far-farm-22"
          ],
          [
           "novadaq-far-farm-23"
          ],
          [
           "novadaq-far-farm-24"
          ],
          [
           "novadaq-far-farm-25"
          ],
          [
           "novadaq-far-farm-26"
          ],
          [
           "novadaq-far-farm-27"
          ],
          [
           "novadaq-far-farm-28"
          ],
          [
           "novadaq-far-farm-29"
          ],
          [
           "novadaq-far-farm-30"
          ],
          [
           "novadaq-far-farm-31"
          ],
          [
           "novadaq-far-farm-32"
          ],
          [
           "novadaq-far-farm-33"
          ],
          [
           "novadaq-far-farm-34"
          ],
          [
           "novadaq-far-farm-35"
          ],
          [
           "novadaq-far-farm-36"
          ],
          [
           "novadaq-far-farm-37"
          ],
          [
           "novadaq-far-farm-38"
          ],
          [
           "novadaq-far-farm-39"
          ],
          [
           "novadaq-far-farm-40"
          ],
          [
           "novadaq-far-farm-41"
          ],
          [
           "novadaq-far-farm-42"
          ],
          [
           "novadaq-far-farm-43"
          ],
          [
           "novadaq-far-farm-44"
          ],
          [
           "novadaq-far-farm-45"
          ],
          [
           "novadaq-far-farm-46"
          ],
          [
           "novadaq-far-farm-47"
          ],
          [
           "novadaq-far-farm-48"
          ],
          [
           "novadaq-far-farm-49"
          ],
          [
           "novadaq-far-farm-50"
          ],
          [
           "novadaq-far-farm-51"
          ],
          [
           "novadaq-far-farm-52"
          ],
          [
           "novadaq-far-farm-53"
          ],
          [
           "novadaq-far-farm-54"
          ],
          [
           "novadaq-far-farm-55"
          ],
          [
           "novadaq-far-farm-56"
          ],
          [
           "novadaq-far-farm-57"
          ],
          [
           "novadaq-far-farm-58"
          ],
          [
           "novadaq-far-farm-59"
          ],
          [
           "novadaq-far-farm-60"
          ],
          [
           "novadaq-far-farm-61"
          ],
          [
           "novadaq-far-farm-62"
          ],
          [
           "novadaq-far-farm-63"
          ],
          [
           "novadaq-far-farm-64"
          ],
          [
           "novadaq-far-farm-65"
          ],
          [
           "novadaq-far-farm-66"
          ],
          [
           "novadaq-far-farm-67"
          ],
          [
           "novadaq-far-farm-68"
          ],
          [
           "novadaq-far-farm-69"
          ],
          [
           "novadaq-far-farm-70"
          ],
          [
           "novadaq-far-farm-71"
          ],
          [
           "novadaq-far-farm-72"
          ],
          [
           "novadaq-far-farm-73"
          ],
          [
           "novadaq-far-farm-74"
          ],
          [
           "novadaq-far-farm-75"
          ],
          [
           "novadaq-far-farm-76"
          ],
          [
           "novadaq-far-farm-77"
          ],
          [
           "novadaq-far-farm-78"
          ],
          [
           "novadaq-far-farm-79"
          ],
          [
           "novadaq-far-farm-80"
          ],
          [
           "novadaq-far-farm-81"
          ],
          [
           "novadaq-far-farm-82"
          ],
          [
           "novadaq-far-farm-83"
          ],
          [
           "novadaq-far-farm-84"
          ],
          [
           "novadaq-far-farm-85"
          ],
          [
           "novadaq-far-farm-86"
          ],
          [
           "novadaq-far-farm-87"
          ],
          [
           "novadaq-far-farm-88"
          ],
          [
           "novadaq-far-farm-89"
          ],
          [
           "novadaq-far-farm-90"
          ],
          [
           "novadaq-far-farm-91"
          ],
          [
           "novadaq-far-farm-92"
          ],
          [
           "novadaq-far-farm-93"
          ],
          [
           "novadaq-far-farm-94"
          ],
          [
           "novadaq-far-farm-95"
          ],
          [
           "novadaq-far-farm-96"
          ],
          [
           "novadaq-far-farm-97"
          ],
          [
           "novadaq-far-farm-98"
          ],
          [
           "novadaq-far-farm-99"
          ]
         ],
         "hovertemplate": "UMAP1=%{x}<br>UMAP2=%{y}<br>nodeId=%{customdata[0]}<extra></extra>",
         "legendgroup": "",
         "marker": {
          "color": "#636efa",
          "symbol": "circle"
         },
         "mode": "markers",
         "name": "",
         "orientation": "v",
         "showlegend": false,
         "type": "scatter",
         "x": [
          2.978952169418335,
          2.9018311500549316,
          -19.596925735473633,
          2.8287322521209717,
          3.021428108215332,
          -19.52326774597168,
          10.479215621948242,
          10.401102066040039,
          10.624767303466797,
          10.723787307739258,
          -19.671972274780273,
          -19.457502365112305,
          2.080772638320923,
          -19.699382781982422,
          10.138310432434082,
          13.201663970947266,
          3.8931725025177,
          10.09601879119873,
          4.710495948791504,
          4.18708610534668,
          10.907361030578613,
          4.274107933044434,
          10.706093788146973,
          10.994678497314453,
          1.3291950225830078,
          10.789793014526367,
          2.9389488697052,
          3.4742515087127686,
          10.324211120605469,
          3.1567182540893555,
          1.3154187202453613,
          -19.360151290893555,
          4.116020202636719,
          4.0002875328063965,
          3.9830808639526367,
          -19.30655860900879,
          5.3107194900512695,
          13.689181327819824,
          -19.125123977661133,
          2.396181106567383,
          5.363940238952637,
          2.1889712810516357,
          -19.367631912231445,
          -19.626493453979492,
          4.012030601501465,
          -19.14408302307129,
          4.125307559967041,
          4.683628082275391,
          13.95231819152832,
          5.4019694328308105,
          2.20253849029541,
          -19.433835983276367,
          5.371732711791992,
          -19.43490219116211,
          -19.540512084960938,
          -19.365846633911133,
          5.283179759979248,
          4.732303142547607,
          0.776944637298584,
          -19.758773803710938,
          2.3153440952301025,
          4.963695049285889,
          4.042025089263916,
          3.999315023422241,
          4.252105712890625,
          4.647487163543701,
          5.315959453582764,
          4.449280738830566,
          4.193935871124268,
          5.18375301361084,
          2.187882661819458,
          4.329836845397949,
          5.19025182723999,
          5.07511568069458,
          -19.175539016723633,
          -20.04925537109375,
          4.180487155914307,
          0.7852357625961304,
          -19.704816818237305,
          4.392525672912598,
          3.6733014583587646,
          13.759623527526855,
          2.2123680114746094,
          5.104572296142578,
          3.949214220046997,
          5.087859630584717,
          4.916567802429199,
          4.192880153656006,
          4.879238605499268,
          3.741053819656372,
          3.7500596046447754,
          1.678918480873108,
          13.885502815246582,
          2.438030242919922,
          -18.884580612182617,
          -19.136404037475586,
          3.74442195892334,
          2.312882900238037,
          2.360152006149292,
          3.7603354454040527,
          4.60460901260376,
          -19.691383361816406,
          2.3758420944213867,
          -19.595474243164062,
          3.4277474880218506,
          1.6309764385223389,
          5.130167484283447,
          4.208899021148682,
          4.188507080078125,
          -19.127056121826172,
          5.482207775115967,
          11.127363204956055,
          10.803594589233398,
          10.744963645935059,
          2.296360969543457,
          10.696137428283691,
          -19.163375854492188,
          13.648093223571777,
          14.007600784301758,
          2.636417865753174,
          1.561576008796692,
          13.784293174743652,
          14.068669319152832,
          -19.403902053833008,
          13.929024696350098,
          1.9567601680755615,
          -19.674352645874023,
          -19.832094192504883,
          14.010265350341797,
          3.944735050201416,
          2.283433198928833,
          13.806299209594727,
          13.84109115600586,
          13.936362266540527,
          13.827887535095215,
          13.834342002868652,
          -19.88541603088379,
          13.726252555847168,
          14.025078773498535,
          -19.220918655395508,
          13.981947898864746,
          13.941129684448242,
          13.96773910522461,
          -19.571046829223633,
          14.0554780960083,
          14.098179817199707,
          10.227445602416992,
          3.9529058933258057,
          10.996338844299316,
          11.217963218688965,
          -19.049943923950195,
          -19.92129898071289,
          1.183370590209961,
          -19.63531494140625,
          2.3595006465911865,
          11.025782585144043,
          2.3760335445404053,
          11.33603286743164,
          1.2741122245788574,
          0.9443947076797485,
          11.312138557434082,
          -19.052562713623047,
          10.749707221984863,
          1.4212206602096558,
          10.86907958984375,
          1.9474225044250488,
          4.7781548500061035,
          11.133744239807129,
          -19.678260803222656,
          4.9442338943481445,
          11.16334342956543,
          10.155571937561035,
          -19.153623580932617,
          0.680915117263794,
          2.778691291809082,
          10.597850799560547,
          3.0230586528778076,
          10.972713470458984,
          11.238288879394531,
          3.060685396194458,
          10.208831787109375,
          0.6875465512275696,
          -19.199522018432617,
          10.631438255310059,
          4.5133280754089355,
          11.019023895263672,
          10.163368225097656,
          2.4096872806549072,
          -19.610015869140625,
          10.194013595581055,
          10.406904220581055,
          3.270432710647583,
          -19.351152420043945,
          10.585031509399414,
          10.273987770080566
         ],
         "xaxis": "x",
         "y": [
          4.845729827880859,
          4.957943916320801,
          14.398849487304688,
          5.0335211753845215,
          4.904353141784668,
          14.256957054138184,
          6.9510674476623535,
          6.369424343109131,
          6.349426746368408,
          6.970583915710449,
          14.529582023620605,
          14.147500991821289,
          4.508752822875977,
          14.093700408935547,
          6.005532741546631,
          1.9299273490905762,
          3.78281569480896,
          6.510490417480469,
          3.429426670074463,
          3.5984249114990234,
          6.70150899887085,
          3.5124075412750244,
          6.19546365737915,
          6.577229022979736,
          5.070030212402344,
          6.549400806427002,
          5.033676624298096,
          3.99885630607605,
          6.837002754211426,
          4.14454460144043,
          5.101222038269043,
          14.610345840454102,
          3.3035330772399902,
          -3.2458863258361816,
          -2.989297389984131,
          14.335347175598145,
          -3.5767741203308105,
          2.054914712905884,
          14.348198890686035,
          10.162242889404297,
          -3.544363498687744,
          10.368131637573242,
          14.488607406616211,
          13.980570793151855,
          3.4698307514190674,
          14.168196678161621,
          3.3904786109924316,
          -3.0935184955596924,
          1.2371275424957275,
          -3.3387696743011475,
          4.385775089263916,
          14.344250679016113,
          -3.5292060375213623,
          14.361998558044434,
          14.59080696105957,
          14.857486724853516,
          -3.254912853240967,
          -2.965196132659912,
          5.515225410461426,
          14.512415885925293,
          4.814990997314453,
          -3.4022114276885986,
          -3.2795896530151367,
          -3.3476085662841797,
          -3.0532875061035156,
          -3.4136548042297363,
          -3.4066243171691895,
          -3.601696729660034,
          3.1878933906555176,
          -2.4238696098327637,
          5.017423152923584,
          -3.5250890254974365,
          -2.6574618816375732,
          -2.947385311126709,
          14.923761367797852,
          14.474411964416504,
          -3.094662666320801,
          5.509600639343262,
          14.633387565612793,
          -2.850579261779785,
          -3.257171154022217,
          1.057787299156189,
          4.93587589263916,
          -3.522021532058716,
          3.3116424083709717,
          -3.0295791625976562,
          -3.5076935291290283,
          -3.3374903202056885,
          -3.2660629749298096,
          -2.910325765609741,
          -2.9258177280426025,
          4.888416290283203,
          2.0516574382781982,
          10.117016792297363,
          14.406392097473145,
          14.434371948242188,
          -2.9296817779541016,
          10.244806289672852,
          4.30413293838501,
          -3.0902206897735596,
          -3.2680623531341553,
          14.867860794067383,
          4.82723331451416,
          13.885939598083496,
          3.95910382270813,
          4.864633083343506,
          -3.1601309776306152,
          3.1287355422973633,
          -3.1237897872924805,
          14.654038429260254,
          -3.426224708557129,
          5.909223556518555,
          6.97149658203125,
          5.903987407684326,
          10.261860847473145,
          5.8410515785217285,
          13.962383270263672,
          1.3685413599014282,
          1.2745952606201172,
          4.21446418762207,
          4.888348579406738,
          1.1022626161575317,
          1.5268009901046753,
          14.795354843139648,
          2.079383373260498,
          4.595077037811279,
          14.938419342041016,
          14.032702445983887,
          1.9206076860427856,
          3.6267521381378174,
          10.27441692352295,
          1.0570034980773926,
          1.7955235242843628,
          1.7305444478988647,
          1.050493597984314,
          1.8472222089767456,
          14.744396209716797,
          1.7911394834518433,
          1.3782784938812256,
          14.82414436340332,
          1.371874451637268,
          1.1788978576660156,
          1.3658638000488281,
          14.680150032043457,
          1.4316513538360596,
          2.102123498916626,
          6.959118843078613,
          3.7149455547332764,
          5.475702285766602,
          5.991909503936768,
          14.01164436340332,
          14.48725700378418,
          5.1982831954956055,
          13.911581993103027,
          10.200042724609375,
          5.399349212646484,
          10.18235969543457,
          6.4467453956604,
          5.129910945892334,
          5.37014102935791,
          6.542365550994873,
          14.30064582824707,
          5.801705837249756,
          4.988831520080566,
          5.957840442657471,
          4.7363104820251465,
          3.4310739040374756,
          5.990016460418701,
          14.111249923706055,
          -3.155543088912964,
          6.29250955581665,
          6.228633403778076,
          14.724623680114746,
          5.481820583343506,
          4.19099235534668,
          5.770474910736084,
          4.182912826538086,
          5.815362453460693,
          6.073955059051514,
          4.207553386688232,
          5.886654376983643,
          5.586304187774658,
          13.852470397949219,
          6.416014194488525,
          3.367647886276245,
          6.522729396820068,
          6.888388633728027,
          10.148261070251465,
          14.090099334716797,
          5.904680252075195,
          6.358686447143555,
          4.099210262298584,
          13.958292007446289,
          6.803377151489258,
          6.142569065093994
         ],
         "yaxis": "y"
        }
       ],
       "layout": {
        "legend": {
         "tracegroupgap": 0
        },
        "margin": {
         "t": 60
        },
        "template": {
         "data": {
          "bar": [
           {
            "error_x": {
             "color": "#2a3f5f"
            },
            "error_y": {
             "color": "#2a3f5f"
            },
            "marker": {
             "line": {
              "color": "#E5ECF6",
              "width": 0.5
             },
             "pattern": {
              "fillmode": "overlay",
              "size": 10,
              "solidity": 0.2
             }
            },
            "type": "bar"
           }
          ],
          "barpolar": [
           {
            "marker": {
             "line": {
              "color": "#E5ECF6",
              "width": 0.5
             },
             "pattern": {
              "fillmode": "overlay",
              "size": 10,
              "solidity": 0.2
             }
            },
            "type": "barpolar"
           }
          ],
          "carpet": [
           {
            "aaxis": {
             "endlinecolor": "#2a3f5f",
             "gridcolor": "white",
             "linecolor": "white",
             "minorgridcolor": "white",
             "startlinecolor": "#2a3f5f"
            },
            "baxis": {
             "endlinecolor": "#2a3f5f",
             "gridcolor": "white",
             "linecolor": "white",
             "minorgridcolor": "white",
             "startlinecolor": "#2a3f5f"
            },
            "type": "carpet"
           }
          ],
          "choropleth": [
           {
            "colorbar": {
             "outlinewidth": 0,
             "ticks": ""
            },
            "type": "choropleth"
           }
          ],
          "contour": [
           {
            "colorbar": {
             "outlinewidth": 0,
             "ticks": ""
            },
            "colorscale": [
             [
              0,
              "#0d0887"
             ],
             [
              0.1111111111111111,
              "#46039f"
             ],
             [
              0.2222222222222222,
              "#7201a8"
             ],
             [
              0.3333333333333333,
              "#9c179e"
             ],
             [
              0.4444444444444444,
              "#bd3786"
             ],
             [
              0.5555555555555556,
              "#d8576b"
             ],
             [
              0.6666666666666666,
              "#ed7953"
             ],
             [
              0.7777777777777778,
              "#fb9f3a"
             ],
             [
              0.8888888888888888,
              "#fdca26"
             ],
             [
              1,
              "#f0f921"
             ]
            ],
            "type": "contour"
           }
          ],
          "contourcarpet": [
           {
            "colorbar": {
             "outlinewidth": 0,
             "ticks": ""
            },
            "type": "contourcarpet"
           }
          ],
          "heatmap": [
           {
            "colorbar": {
             "outlinewidth": 0,
             "ticks": ""
            },
            "colorscale": [
             [
              0,
              "#0d0887"
             ],
             [
              0.1111111111111111,
              "#46039f"
             ],
             [
              0.2222222222222222,
              "#7201a8"
             ],
             [
              0.3333333333333333,
              "#9c179e"
             ],
             [
              0.4444444444444444,
              "#bd3786"
             ],
             [
              0.5555555555555556,
              "#d8576b"
             ],
             [
              0.6666666666666666,
              "#ed7953"
             ],
             [
              0.7777777777777778,
              "#fb9f3a"
             ],
             [
              0.8888888888888888,
              "#fdca26"
             ],
             [
              1,
              "#f0f921"
             ]
            ],
            "type": "heatmap"
           }
          ],
          "heatmapgl": [
           {
            "colorbar": {
             "outlinewidth": 0,
             "ticks": ""
            },
            "colorscale": [
             [
              0,
              "#0d0887"
             ],
             [
              0.1111111111111111,
              "#46039f"
             ],
             [
              0.2222222222222222,
              "#7201a8"
             ],
             [
              0.3333333333333333,
              "#9c179e"
             ],
             [
              0.4444444444444444,
              "#bd3786"
             ],
             [
              0.5555555555555556,
              "#d8576b"
             ],
             [
              0.6666666666666666,
              "#ed7953"
             ],
             [
              0.7777777777777778,
              "#fb9f3a"
             ],
             [
              0.8888888888888888,
              "#fdca26"
             ],
             [
              1,
              "#f0f921"
             ]
            ],
            "type": "heatmapgl"
           }
          ],
          "histogram": [
           {
            "marker": {
             "pattern": {
              "fillmode": "overlay",
              "size": 10,
              "solidity": 0.2
             }
            },
            "type": "histogram"
           }
          ],
          "histogram2d": [
           {
            "colorbar": {
             "outlinewidth": 0,
             "ticks": ""
            },
            "colorscale": [
             [
              0,
              "#0d0887"
             ],
             [
              0.1111111111111111,
              "#46039f"
             ],
             [
              0.2222222222222222,
              "#7201a8"
             ],
             [
              0.3333333333333333,
              "#9c179e"
             ],
             [
              0.4444444444444444,
              "#bd3786"
             ],
             [
              0.5555555555555556,
              "#d8576b"
             ],
             [
              0.6666666666666666,
              "#ed7953"
             ],
             [
              0.7777777777777778,
              "#fb9f3a"
             ],
             [
              0.8888888888888888,
              "#fdca26"
             ],
             [
              1,
              "#f0f921"
             ]
            ],
            "type": "histogram2d"
           }
          ],
          "histogram2dcontour": [
           {
            "colorbar": {
             "outlinewidth": 0,
             "ticks": ""
            },
            "colorscale": [
             [
              0,
              "#0d0887"
             ],
             [
              0.1111111111111111,
              "#46039f"
             ],
             [
              0.2222222222222222,
              "#7201a8"
             ],
             [
              0.3333333333333333,
              "#9c179e"
             ],
             [
              0.4444444444444444,
              "#bd3786"
             ],
             [
              0.5555555555555556,
              "#d8576b"
             ],
             [
              0.6666666666666666,
              "#ed7953"
             ],
             [
              0.7777777777777778,
              "#fb9f3a"
             ],
             [
              0.8888888888888888,
              "#fdca26"
             ],
             [
              1,
              "#f0f921"
             ]
            ],
            "type": "histogram2dcontour"
           }
          ],
          "mesh3d": [
           {
            "colorbar": {
             "outlinewidth": 0,
             "ticks": ""
            },
            "type": "mesh3d"
           }
          ],
          "parcoords": [
           {
            "line": {
             "colorbar": {
              "outlinewidth": 0,
              "ticks": ""
             }
            },
            "type": "parcoords"
           }
          ],
          "pie": [
           {
            "automargin": true,
            "type": "pie"
           }
          ],
          "scatter": [
           {
            "fillpattern": {
             "fillmode": "overlay",
             "size": 10,
             "solidity": 0.2
            },
            "type": "scatter"
           }
          ],
          "scatter3d": [
           {
            "line": {
             "colorbar": {
              "outlinewidth": 0,
              "ticks": ""
             }
            },
            "marker": {
             "colorbar": {
              "outlinewidth": 0,
              "ticks": ""
             }
            },
            "type": "scatter3d"
           }
          ],
          "scattercarpet": [
           {
            "marker": {
             "colorbar": {
              "outlinewidth": 0,
              "ticks": ""
             }
            },
            "type": "scattercarpet"
           }
          ],
          "scattergeo": [
           {
            "marker": {
             "colorbar": {
              "outlinewidth": 0,
              "ticks": ""
             }
            },
            "type": "scattergeo"
           }
          ],
          "scattergl": [
           {
            "marker": {
             "colorbar": {
              "outlinewidth": 0,
              "ticks": ""
             }
            },
            "type": "scattergl"
           }
          ],
          "scattermapbox": [
           {
            "marker": {
             "colorbar": {
              "outlinewidth": 0,
              "ticks": ""
             }
            },
            "type": "scattermapbox"
           }
          ],
          "scatterpolar": [
           {
            "marker": {
             "colorbar": {
              "outlinewidth": 0,
              "ticks": ""
             }
            },
            "type": "scatterpolar"
           }
          ],
          "scatterpolargl": [
           {
            "marker": {
             "colorbar": {
              "outlinewidth": 0,
              "ticks": ""
             }
            },
            "type": "scatterpolargl"
           }
          ],
          "scatterternary": [
           {
            "marker": {
             "colorbar": {
              "outlinewidth": 0,
              "ticks": ""
             }
            },
            "type": "scatterternary"
           }
          ],
          "surface": [
           {
            "colorbar": {
             "outlinewidth": 0,
             "ticks": ""
            },
            "colorscale": [
             [
              0,
              "#0d0887"
             ],
             [
              0.1111111111111111,
              "#46039f"
             ],
             [
              0.2222222222222222,
              "#7201a8"
             ],
             [
              0.3333333333333333,
              "#9c179e"
             ],
             [
              0.4444444444444444,
              "#bd3786"
             ],
             [
              0.5555555555555556,
              "#d8576b"
             ],
             [
              0.6666666666666666,
              "#ed7953"
             ],
             [
              0.7777777777777778,
              "#fb9f3a"
             ],
             [
              0.8888888888888888,
              "#fdca26"
             ],
             [
              1,
              "#f0f921"
             ]
            ],
            "type": "surface"
           }
          ],
          "table": [
           {
            "cells": {
             "fill": {
              "color": "#EBF0F8"
             },
             "line": {
              "color": "white"
             }
            },
            "header": {
             "fill": {
              "color": "#C8D4E3"
             },
             "line": {
              "color": "white"
             }
            },
            "type": "table"
           }
          ]
         },
         "layout": {
          "annotationdefaults": {
           "arrowcolor": "#2a3f5f",
           "arrowhead": 0,
           "arrowwidth": 1
          },
          "autotypenumbers": "strict",
          "coloraxis": {
           "colorbar": {
            "outlinewidth": 0,
            "ticks": ""
           }
          },
          "colorscale": {
           "diverging": [
            [
             0,
             "#8e0152"
            ],
            [
             0.1,
             "#c51b7d"
            ],
            [
             0.2,
             "#de77ae"
            ],
            [
             0.3,
             "#f1b6da"
            ],
            [
             0.4,
             "#fde0ef"
            ],
            [
             0.5,
             "#f7f7f7"
            ],
            [
             0.6,
             "#e6f5d0"
            ],
            [
             0.7,
             "#b8e186"
            ],
            [
             0.8,
             "#7fbc41"
            ],
            [
             0.9,
             "#4d9221"
            ],
            [
             1,
             "#276419"
            ]
           ],
           "sequential": [
            [
             0,
             "#0d0887"
            ],
            [
             0.1111111111111111,
             "#46039f"
            ],
            [
             0.2222222222222222,
             "#7201a8"
            ],
            [
             0.3333333333333333,
             "#9c179e"
            ],
            [
             0.4444444444444444,
             "#bd3786"
            ],
            [
             0.5555555555555556,
             "#d8576b"
            ],
            [
             0.6666666666666666,
             "#ed7953"
            ],
            [
             0.7777777777777778,
             "#fb9f3a"
            ],
            [
             0.8888888888888888,
             "#fdca26"
            ],
            [
             1,
             "#f0f921"
            ]
           ],
           "sequentialminus": [
            [
             0,
             "#0d0887"
            ],
            [
             0.1111111111111111,
             "#46039f"
            ],
            [
             0.2222222222222222,
             "#7201a8"
            ],
            [
             0.3333333333333333,
             "#9c179e"
            ],
            [
             0.4444444444444444,
             "#bd3786"
            ],
            [
             0.5555555555555556,
             "#d8576b"
            ],
            [
             0.6666666666666666,
             "#ed7953"
            ],
            [
             0.7777777777777778,
             "#fb9f3a"
            ],
            [
             0.8888888888888888,
             "#fdca26"
            ],
            [
             1,
             "#f0f921"
            ]
           ]
          },
          "colorway": [
           "#636efa",
           "#EF553B",
           "#00cc96",
           "#ab63fa",
           "#FFA15A",
           "#19d3f3",
           "#FF6692",
           "#B6E880",
           "#FF97FF",
           "#FECB52"
          ],
          "font": {
           "color": "#2a3f5f"
          },
          "geo": {
           "bgcolor": "white",
           "lakecolor": "white",
           "landcolor": "#E5ECF6",
           "showlakes": true,
           "showland": true,
           "subunitcolor": "white"
          },
          "hoverlabel": {
           "align": "left"
          },
          "hovermode": "closest",
          "mapbox": {
           "style": "light"
          },
          "paper_bgcolor": "white",
          "plot_bgcolor": "#E5ECF6",
          "polar": {
           "angularaxis": {
            "gridcolor": "white",
            "linecolor": "white",
            "ticks": ""
           },
           "bgcolor": "#E5ECF6",
           "radialaxis": {
            "gridcolor": "white",
            "linecolor": "white",
            "ticks": ""
           }
          },
          "scene": {
           "xaxis": {
            "backgroundcolor": "#E5ECF6",
            "gridcolor": "white",
            "gridwidth": 2,
            "linecolor": "white",
            "showbackground": true,
            "ticks": "",
            "zerolinecolor": "white"
           },
           "yaxis": {
            "backgroundcolor": "#E5ECF6",
            "gridcolor": "white",
            "gridwidth": 2,
            "linecolor": "white",
            "showbackground": true,
            "ticks": "",
            "zerolinecolor": "white"
           },
           "zaxis": {
            "backgroundcolor": "#E5ECF6",
            "gridcolor": "white",
            "gridwidth": 2,
            "linecolor": "white",
            "showbackground": true,
            "ticks": "",
            "zerolinecolor": "white"
           }
          },
          "shapedefaults": {
           "line": {
            "color": "#2a3f5f"
           }
          },
          "ternary": {
           "aaxis": {
            "gridcolor": "white",
            "linecolor": "white",
            "ticks": ""
           },
           "baxis": {
            "gridcolor": "white",
            "linecolor": "white",
            "ticks": ""
           },
           "bgcolor": "#E5ECF6",
           "caxis": {
            "gridcolor": "white",
            "linecolor": "white",
            "ticks": ""
           }
          },
          "title": {
           "x": 0.05
          },
          "xaxis": {
           "automargin": true,
           "gridcolor": "white",
           "linecolor": "white",
           "ticks": "",
           "title": {
            "standoff": 15
           },
           "zerolinecolor": "white",
           "zerolinewidth": 2
          },
          "yaxis": {
           "automargin": true,
           "gridcolor": "white",
           "linecolor": "white",
           "ticks": "",
           "title": {
            "standoff": 15
           },
           "zerolinecolor": "white",
           "zerolinewidth": 2
          }
         }
        },
        "title": {
         "text": "UMAP Projection"
        },
        "xaxis": {
         "anchor": "y",
         "domain": [
          0,
          1
         ],
         "title": {
          "text": "UMAP 1"
         }
        },
        "yaxis": {
         "anchor": "x",
         "domain": [
          0,
          1
         ],
         "title": {
          "text": "UMAP 2"
         }
        }
       }
      }
     },
     "metadata": {},
     "output_type": "display_data"
    }
   ],
   "source": [
    "from umap import UMAP\n",
    "import plotly.express as px\n",
    "\n",
    "# two-step DR: PCA+UMAP\n",
    "df_pivot = P_final.pivot(index=\"Measurement\", columns=\"Col\", values=\"PC1\")\n",
    "reducer = UMAP(n_components=2, random_state=42)\n",
    "embedding = reducer.fit_transform(df_pivot)\n",
    "df_pivot['UMAP1'] = embedding[:, 0]\n",
    "df_pivot['UMAP2'] = embedding[:, 1]\n",
    "df_pivot['nodeId'] = df_pivot.index \n",
    "fig = px.scatter(df_pivot, x='UMAP1', y='UMAP2', hover_data={'nodeId': True})\n",
    "\n",
    "fig.update_layout(title=\"UMAP Projection\",\n",
    "                  xaxis_title=\"UMAP 1\",\n",
    "                  yaxis_title=\"UMAP 2\")\n",
    "fig.show()"
   ]
  },
  {
   "cell_type": "markdown",
   "metadata": {},
   "source": [
    "Second step DR: tSNE"
   ]
  },
  {
   "cell_type": "code",
   "execution_count": 16,
   "metadata": {},
   "outputs": [
    {
     "name": "stderr",
     "output_type": "stream",
     "text": [
      "/Users/allison/anaconda3/envs/myenv/lib/python3.9/site-packages/sklearn/manifold/_t_sne.py:780: FutureWarning:\n",
      "\n",
      "The default initialization in TSNE will change from 'random' to 'pca' in 1.2.\n",
      "\n",
      "/Users/allison/anaconda3/envs/myenv/lib/python3.9/site-packages/sklearn/manifold/_t_sne.py:790: FutureWarning:\n",
      "\n",
      "The default learning rate in TSNE will change from 200.0 to 'auto' in 1.2.\n",
      "\n"
     ]
    },
    {
     "data": {
      "application/vnd.plotly.v1+json": {
       "config": {
        "plotlyServerURL": "https://plot.ly"
       },
       "data": [
        {
         "customdata": [
          [
           "novadaq-far-farm-06"
          ],
          [
           "novadaq-far-farm-07"
          ],
          [
           "novadaq-far-farm-08"
          ],
          [
           "novadaq-far-farm-09"
          ],
          [
           "novadaq-far-farm-10"
          ],
          [
           "novadaq-far-farm-100"
          ],
          [
           "novadaq-far-farm-101"
          ],
          [
           "novadaq-far-farm-102"
          ],
          [
           "novadaq-far-farm-103"
          ],
          [
           "novadaq-far-farm-104"
          ],
          [
           "novadaq-far-farm-105"
          ],
          [
           "novadaq-far-farm-106"
          ],
          [
           "novadaq-far-farm-107"
          ],
          [
           "novadaq-far-farm-108"
          ],
          [
           "novadaq-far-farm-109"
          ],
          [
           "novadaq-far-farm-11"
          ],
          [
           "novadaq-far-farm-110"
          ],
          [
           "novadaq-far-farm-111"
          ],
          [
           "novadaq-far-farm-112"
          ],
          [
           "novadaq-far-farm-113"
          ],
          [
           "novadaq-far-farm-114"
          ],
          [
           "novadaq-far-farm-115"
          ],
          [
           "novadaq-far-farm-116"
          ],
          [
           "novadaq-far-farm-117"
          ],
          [
           "novadaq-far-farm-118"
          ],
          [
           "novadaq-far-farm-119"
          ],
          [
           "novadaq-far-farm-12"
          ],
          [
           "novadaq-far-farm-120"
          ],
          [
           "novadaq-far-farm-121"
          ],
          [
           "novadaq-far-farm-122"
          ],
          [
           "novadaq-far-farm-123"
          ],
          [
           "novadaq-far-farm-124"
          ],
          [
           "novadaq-far-farm-125"
          ],
          [
           "novadaq-far-farm-126"
          ],
          [
           "novadaq-far-farm-127"
          ],
          [
           "novadaq-far-farm-128"
          ],
          [
           "novadaq-far-farm-129"
          ],
          [
           "novadaq-far-farm-13"
          ],
          [
           "novadaq-far-farm-130"
          ],
          [
           "novadaq-far-farm-131"
          ],
          [
           "novadaq-far-farm-132"
          ],
          [
           "novadaq-far-farm-133"
          ],
          [
           "novadaq-far-farm-134"
          ],
          [
           "novadaq-far-farm-135"
          ],
          [
           "novadaq-far-farm-136"
          ],
          [
           "novadaq-far-farm-137"
          ],
          [
           "novadaq-far-farm-138"
          ],
          [
           "novadaq-far-farm-139"
          ],
          [
           "novadaq-far-farm-14"
          ],
          [
           "novadaq-far-farm-140"
          ],
          [
           "novadaq-far-farm-141"
          ],
          [
           "novadaq-far-farm-142"
          ],
          [
           "novadaq-far-farm-143"
          ],
          [
           "novadaq-far-farm-144"
          ],
          [
           "novadaq-far-farm-145"
          ],
          [
           "novadaq-far-farm-146"
          ],
          [
           "novadaq-far-farm-147"
          ],
          [
           "novadaq-far-farm-148"
          ],
          [
           "novadaq-far-farm-149"
          ],
          [
           "novadaq-far-farm-15"
          ],
          [
           "novadaq-far-farm-150"
          ],
          [
           "novadaq-far-farm-151"
          ],
          [
           "novadaq-far-farm-152"
          ],
          [
           "novadaq-far-farm-153"
          ],
          [
           "novadaq-far-farm-154"
          ],
          [
           "novadaq-far-farm-155"
          ],
          [
           "novadaq-far-farm-156"
          ],
          [
           "novadaq-far-farm-157"
          ],
          [
           "novadaq-far-farm-158"
          ],
          [
           "novadaq-far-farm-159"
          ],
          [
           "novadaq-far-farm-16"
          ],
          [
           "novadaq-far-farm-160"
          ],
          [
           "novadaq-far-farm-161"
          ],
          [
           "novadaq-far-farm-162"
          ],
          [
           "novadaq-far-farm-163"
          ],
          [
           "novadaq-far-farm-164"
          ],
          [
           "novadaq-far-farm-165"
          ],
          [
           "novadaq-far-farm-166"
          ],
          [
           "novadaq-far-farm-167"
          ],
          [
           "novadaq-far-farm-168"
          ],
          [
           "novadaq-far-farm-169"
          ],
          [
           "novadaq-far-farm-17"
          ],
          [
           "novadaq-far-farm-170"
          ],
          [
           "novadaq-far-farm-171"
          ],
          [
           "novadaq-far-farm-172"
          ],
          [
           "novadaq-far-farm-173"
          ],
          [
           "novadaq-far-farm-174"
          ],
          [
           "novadaq-far-farm-175"
          ],
          [
           "novadaq-far-farm-176"
          ],
          [
           "novadaq-far-farm-177"
          ],
          [
           "novadaq-far-farm-178"
          ],
          [
           "novadaq-far-farm-179"
          ],
          [
           "novadaq-far-farm-18"
          ],
          [
           "novadaq-far-farm-180"
          ],
          [
           "novadaq-far-farm-181"
          ],
          [
           "novadaq-far-farm-182"
          ],
          [
           "novadaq-far-farm-183"
          ],
          [
           "novadaq-far-farm-184"
          ],
          [
           "novadaq-far-farm-185"
          ],
          [
           "novadaq-far-farm-186"
          ],
          [
           "novadaq-far-farm-187"
          ],
          [
           "novadaq-far-farm-188"
          ],
          [
           "novadaq-far-farm-189"
          ],
          [
           "novadaq-far-farm-19"
          ],
          [
           "novadaq-far-farm-190"
          ],
          [
           "novadaq-far-farm-191"
          ],
          [
           "novadaq-far-farm-192"
          ],
          [
           "novadaq-far-farm-193"
          ],
          [
           "novadaq-far-farm-194"
          ],
          [
           "novadaq-far-farm-195"
          ],
          [
           "novadaq-far-farm-196"
          ],
          [
           "novadaq-far-farm-197"
          ],
          [
           "novadaq-far-farm-198"
          ],
          [
           "novadaq-far-farm-199"
          ],
          [
           "novadaq-far-farm-20"
          ],
          [
           "novadaq-far-farm-200"
          ],
          [
           "novadaq-far-farm-21"
          ],
          [
           "novadaq-far-farm-22"
          ],
          [
           "novadaq-far-farm-23"
          ],
          [
           "novadaq-far-farm-24"
          ],
          [
           "novadaq-far-farm-25"
          ],
          [
           "novadaq-far-farm-26"
          ],
          [
           "novadaq-far-farm-27"
          ],
          [
           "novadaq-far-farm-28"
          ],
          [
           "novadaq-far-farm-29"
          ],
          [
           "novadaq-far-farm-30"
          ],
          [
           "novadaq-far-farm-31"
          ],
          [
           "novadaq-far-farm-32"
          ],
          [
           "novadaq-far-farm-33"
          ],
          [
           "novadaq-far-farm-34"
          ],
          [
           "novadaq-far-farm-35"
          ],
          [
           "novadaq-far-farm-36"
          ],
          [
           "novadaq-far-farm-37"
          ],
          [
           "novadaq-far-farm-38"
          ],
          [
           "novadaq-far-farm-39"
          ],
          [
           "novadaq-far-farm-40"
          ],
          [
           "novadaq-far-farm-41"
          ],
          [
           "novadaq-far-farm-42"
          ],
          [
           "novadaq-far-farm-43"
          ],
          [
           "novadaq-far-farm-44"
          ],
          [
           "novadaq-far-farm-45"
          ],
          [
           "novadaq-far-farm-46"
          ],
          [
           "novadaq-far-farm-47"
          ],
          [
           "novadaq-far-farm-48"
          ],
          [
           "novadaq-far-farm-49"
          ],
          [
           "novadaq-far-farm-50"
          ],
          [
           "novadaq-far-farm-51"
          ],
          [
           "novadaq-far-farm-52"
          ],
          [
           "novadaq-far-farm-53"
          ],
          [
           "novadaq-far-farm-54"
          ],
          [
           "novadaq-far-farm-55"
          ],
          [
           "novadaq-far-farm-56"
          ],
          [
           "novadaq-far-farm-57"
          ],
          [
           "novadaq-far-farm-58"
          ],
          [
           "novadaq-far-farm-59"
          ],
          [
           "novadaq-far-farm-60"
          ],
          [
           "novadaq-far-farm-61"
          ],
          [
           "novadaq-far-farm-62"
          ],
          [
           "novadaq-far-farm-63"
          ],
          [
           "novadaq-far-farm-64"
          ],
          [
           "novadaq-far-farm-65"
          ],
          [
           "novadaq-far-farm-66"
          ],
          [
           "novadaq-far-farm-67"
          ],
          [
           "novadaq-far-farm-68"
          ],
          [
           "novadaq-far-farm-69"
          ],
          [
           "novadaq-far-farm-70"
          ],
          [
           "novadaq-far-farm-71"
          ],
          [
           "novadaq-far-farm-72"
          ],
          [
           "novadaq-far-farm-73"
          ],
          [
           "novadaq-far-farm-74"
          ],
          [
           "novadaq-far-farm-75"
          ],
          [
           "novadaq-far-farm-76"
          ],
          [
           "novadaq-far-farm-77"
          ],
          [
           "novadaq-far-farm-78"
          ],
          [
           "novadaq-far-farm-79"
          ],
          [
           "novadaq-far-farm-80"
          ],
          [
           "novadaq-far-farm-81"
          ],
          [
           "novadaq-far-farm-82"
          ],
          [
           "novadaq-far-farm-83"
          ],
          [
           "novadaq-far-farm-84"
          ],
          [
           "novadaq-far-farm-85"
          ],
          [
           "novadaq-far-farm-86"
          ],
          [
           "novadaq-far-farm-87"
          ],
          [
           "novadaq-far-farm-88"
          ],
          [
           "novadaq-far-farm-89"
          ],
          [
           "novadaq-far-farm-90"
          ],
          [
           "novadaq-far-farm-91"
          ],
          [
           "novadaq-far-farm-92"
          ],
          [
           "novadaq-far-farm-93"
          ],
          [
           "novadaq-far-farm-94"
          ],
          [
           "novadaq-far-farm-95"
          ],
          [
           "novadaq-far-farm-96"
          ],
          [
           "novadaq-far-farm-97"
          ],
          [
           "novadaq-far-farm-98"
          ],
          [
           "novadaq-far-farm-99"
          ]
         ],
         "hovertemplate": "tSNE1=%{x}<br>tSNE2=%{y}<br>nodeId=%{customdata[0]}<extra></extra>",
         "legendgroup": "",
         "marker": {
          "color": "#636efa",
          "symbol": "circle"
         },
         "mode": "markers",
         "name": "",
         "orientation": "v",
         "showlegend": false,
         "type": "scatter",
         "x": [
          0.4936750829219818,
          0.5034629702568054,
          9.233712196350098,
          0.4942953884601593,
          0.49344155192375183,
          10.358052253723145,
          -4.145054817199707,
          -2.8129401206970215,
          -3.0656306743621826,
          0.6052426099777222,
          9.633368492126465,
          10.552870750427246,
          3.563852548599243,
          10.5723237991333,
          -2.3542592525482178,
          -1.9635905027389526,
          0.9140611290931702,
          -2.764338970184326,
          -0.19646167755126953,
          0.7585411071777344,
          -3.6588494777679443,
          0.35709455609321594,
          -3.509551525115967,
          -3.5013985633850098,
          5.283369064331055,
          -3.3904011249542236,
          0.14761027693748474,
          1.4903285503387451,
          -3.460843324661255,
          2.407937526702881,
          5.142403602600098,
          10.326366424560547,
          0.0760558694601059,
          -7.960238456726074,
          -8.086414337158203,
          9.292948722839355,
          -7.833463191986084,
          -7.905297756195068,
          9.926872253417969,
          -6.358273029327393,
          -7.612904071807861,
          -6.3554301261901855,
          9.104511260986328,
          10.174640655517578,
          0.7072263956069946,
          10.000579833984375,
          0.4108024835586548,
          -7.2825703620910645,
          -7.597448348999023,
          -7.359825611114502,
          2.9808523654937744,
          9.171171188354492,
          -7.823298454284668,
          10.428279876708984,
          9.810384750366211,
          10.370549201965332,
          -7.367348670959473,
          -6.906994819641113,
          6.51409912109375,
          9.729880332946777,
          3.8468499183654785,
          -8.85634708404541,
          -7.396626949310303,
          -7.582862854003906,
          -7.324586391448975,
          -7.745232105255127,
          -7.436756610870361,
          -8.051939964294434,
          -0.35415834188461304,
          -1.2792580127716064,
          4.265144348144531,
          -8.061367988586426,
          -1.7886910438537598,
          -6.998786926269531,
          7.870109558105469,
          7.682061195373535,
          -7.346707344055176,
          6.3096723556518555,
          9.80593204498291,
          -7.162383079528809,
          -7.225619792938232,
          -7.547983646392822,
          3.8864619731903076,
          -8.460297584533691,
          0.35461458563804626,
          -7.297076225280762,
          -7.7713823318481445,
          -8.249506950378418,
          -7.223703384399414,
          -7.421263217926025,
          -7.900145053863525,
          4.570284366607666,
          -8.177570343017578,
          -6.357682704925537,
          9.837540626525879,
          9.597383499145508,
          -7.553432464599609,
          -6.355406761169434,
          2.9803543090820312,
          -7.812219142913818,
          -7.626259803771973,
          9.204426765441895,
          3.6963350772857666,
          10.590103149414062,
          1.530791163444519,
          4.730140209197998,
          -7.287927150726318,
          -0.07529669255018234,
          -7.6336188316345215,
          9.348664283752441,
          -6.520796775817871,
          -2.875418186187744,
          0.6027794480323792,
          -2.4541678428649902,
          -6.374207973480225,
          -2.255465269088745,
          10.434443473815918,
          -8.332903861999512,
          -7.691802024841309,
          2.5540058612823486,
          4.777294158935547,
          -6.735967636108398,
          -8.248289108276367,
          9.831197738647461,
          -8.314350128173828,
          3.8025145530700684,
          9.189653396606445,
          9.476847648620605,
          -8.244714736938477,
          0.8871434330940247,
          -6.35789680480957,
          -7.727233409881592,
          -8.177109718322754,
          -8.259029388427734,
          -7.8006744384765625,
          -8.160478591918945,
          10.517004013061523,
          -7.891118049621582,
          -8.02004623413086,
          9.192441940307617,
          -7.747081279754639,
          -7.609734535217285,
          -8.039840698242188,
          9.99779987335205,
          -7.945678234100342,
          -8.472214698791504,
          -3.8886396884918213,
          0.8096446990966797,
          -2.0161774158477783,
          -3.003047466278076,
          9.593003273010254,
          9.518791198730469,
          5.51024055480957,
          9.853293418884277,
          -6.355977535247803,
          -1.950587272644043,
          -6.360651969909668,
          -3.4195752143859863,
          5.343518257141113,
          6.146598815917969,
          -4.037424087524414,
          9.824652671813965,
          -2.4029412269592285,
          5.155353546142578,
          -2.687817335128784,
          3.768397092819214,
          -0.33743950724601746,
          -2.8287436962127686,
          9.153280258178711,
          -6.095193862915039,
          -3.116687536239624,
          -2.5654568672180176,
          10.567399024963379,
          6.94281005859375,
          2.522282361984253,
          -2.16494083404541,
          2.2146406173706055,
          -2.5482475757598877,
          -2.839066505432129,
          2.1068127155303955,
          -2.248432159423828,
          6.781144142150879,
          9.114506721496582,
          -2.965702533721924,
          0.1193537712097168,
          -3.341472625732422,
          -3.4675819873809814,
          -6.354942321777344,
          10.28168773651123,
          -2.0942444801330566,
          -2.667410373687744,
          1.7336606979370117,
          10.171629905700684,
          -3.793182134628296,
          -2.7618367671966553
         ],
         "xaxis": "x",
         "y": [
          -2.239647150039673,
          -2.2451610565185547,
          -4.128520965576172,
          -2.2498857975006104,
          -2.240767478942871,
          -4.172092437744141,
          9.233867645263672,
          8.695083618164062,
          8.502480506896973,
          7.650595188140869,
          -2.8620691299438477,
          -3.5644354820251465,
          -0.450661838054657,
          -3.590850830078125,
          8.82585334777832,
          3.4830856323242188,
          1.2660387754440308,
          9.361320495605469,
          2.5076749324798584,
          1.4776087999343872,
          8.32503890991211,
          1.5734037160873413,
          6.979913711547852,
          8.427483558654785,
          -1.4022772312164307,
          8.313675880432129,
          -2.4036169052124023,
          0.8101453185081482,
          9.243918418884277,
          1.3226176500320435,
          -1.31978440284729,
          -3.0605032444000244,
          1.0576200485229492,
          -2.1302602291107178,
          -2.4839181900024414,
          -3.0279078483581543,
          -0.9080500602722168,
          12.099019050598145,
          -4.022515296936035,
          4.945709228515625,
          -1.1032508611679077,
          4.9440460205078125,
          -3.5301311016082764,
          -4.31891393661499,
          0.8681772351264954,
          -2.815108299255371,
          0.9859477877616882,
          -1.6138052940368652,
          13.126077651977539,
          -1.0844271183013916,
          -0.3009018003940582,
          -3.2382469177246094,
          -0.0392208956182003,
          -4.081029415130615,
          -4.423906326293945,
          -3.105988025665283,
          -0.48388636112213135,
          -1.8520171642303467,
          -2.0630123615264893,
          -3.402513027191162,
          0.12149801105260849,
          -1.3879058361053467,
          -2.154926300048828,
          -2.0933053493499756,
          -2.061728000640869,
          -1.614768147468567,
          -0.7762005925178528,
          -1.54087495803833,
          1.0807979106903076,
          1.001401662826538,
          -0.16764672100543976,
          -1.711722493171692,
          0.9838459491729736,
          -1.3608753681182861,
          -4.015788555145264,
          -3.9495980739593506,
          -1.9687674045562744,
          -1.9478360414505005,
          -3.7158796787261963,
          -2.018420457839966,
          -2.4938018321990967,
          13.144795417785645,
          0.09233154356479645,
          -0.6275473833084106,
          0.9973229765892029,
          -1.341914176940918,
          -1.2351001501083374,
          -1.9804787635803223,
          -1.5871833562850952,
          -2.640965461730957,
          -2.636646270751953,
          -1.035831332206726,
          12.639816284179688,
          4.943872928619385,
          -3.6465234756469727,
          -2.853956460952759,
          -2.6304996013641357,
          4.94362735748291,
          -0.1306181699037552,
          -2.358656406402588,
          -1.5769768953323364,
          -3.1229844093322754,
          0.2628028094768524,
          -3.7657809257507324,
          0.7467542290687561,
          -1.1154295206069946,
          -1.3094847202301025,
          1.076370358467102,
          -1.9665026664733887,
          -4.253508567810059,
          -0.8319826126098633,
          7.817729949951172,
          7.648402214050293,
          8.204858779907227,
          4.958809852600098,
          8.19237232208252,
          -3.1723129749298096,
          13.622465133666992,
          13.19109058380127,
          0.14955884218215942,
          -1.140545129776001,
          13.058077812194824,
          13.201482772827148,
          -3.4563703536987305,
          12.746578216552734,
          -0.6829754114151001,
          -3.833509683609009,
          -4.306273937225342,
          12.92322826385498,
          1.1353068351745605,
          4.9446492195129395,
          13.34396743774414,
          12.974980354309082,
          12.964194297790527,
          13.462411880493164,
          12.839885711669922,
          -3.961503744125366,
          12.829440116882324,
          13.253029823303223,
          -3.8350207805633545,
          13.069323539733887,
          13.149881362915039,
          13.31875991821289,
          -2.829707384109497,
          13.243343353271484,
          12.684885025024414,
          9.427038192749023,
          1.1570731401443481,
          6.389634132385254,
          7.855650424957275,
          -2.8485922813415527,
          -4.3225321769714355,
          -1.5209307670593262,
          -3.6498470306396484,
          4.9444756507873535,
          6.2279052734375,
          4.946203231811523,
          8.062973976135254,
          -1.4344842433929443,
          -1.8632900714874268,
          8.156961441040039,
          -4.423667907714844,
          8.194106101989746,
          -1.3273155689239502,
          8.107410430908203,
          -0.5797713994979858,
          2.6924309730529785,
          8.056231498718262,
          -3.3884148597717285,
          -1.5991407632827759,
          8.02711296081543,
          8.698966979980469,
          -3.4380147457122803,
          -2.305328369140625,
          0.23094674944877625,
          8.347111701965332,
          0.4030304551124573,
          7.946422576904297,
          7.979289531707764,
          0.4495190680027008,
          8.873684883117676,
          -2.213684320449829,
          -3.7873730659484863,
          8.546785354614258,
          2.053123712539673,
          8.315919876098633,
          9.48228931427002,
          4.944516181945801,
          -2.9508838653564453,
          8.884063720703125,
          8.677096366882324,
          0.6707484722137451,
          -4.344264984130859,
          8.655298233032227,
          8.739479064941406
         ],
         "yaxis": "y"
        }
       ],
       "layout": {
        "legend": {
         "tracegroupgap": 0
        },
        "margin": {
         "t": 60
        },
        "template": {
         "data": {
          "bar": [
           {
            "error_x": {
             "color": "#2a3f5f"
            },
            "error_y": {
             "color": "#2a3f5f"
            },
            "marker": {
             "line": {
              "color": "#E5ECF6",
              "width": 0.5
             },
             "pattern": {
              "fillmode": "overlay",
              "size": 10,
              "solidity": 0.2
             }
            },
            "type": "bar"
           }
          ],
          "barpolar": [
           {
            "marker": {
             "line": {
              "color": "#E5ECF6",
              "width": 0.5
             },
             "pattern": {
              "fillmode": "overlay",
              "size": 10,
              "solidity": 0.2
             }
            },
            "type": "barpolar"
           }
          ],
          "carpet": [
           {
            "aaxis": {
             "endlinecolor": "#2a3f5f",
             "gridcolor": "white",
             "linecolor": "white",
             "minorgridcolor": "white",
             "startlinecolor": "#2a3f5f"
            },
            "baxis": {
             "endlinecolor": "#2a3f5f",
             "gridcolor": "white",
             "linecolor": "white",
             "minorgridcolor": "white",
             "startlinecolor": "#2a3f5f"
            },
            "type": "carpet"
           }
          ],
          "choropleth": [
           {
            "colorbar": {
             "outlinewidth": 0,
             "ticks": ""
            },
            "type": "choropleth"
           }
          ],
          "contour": [
           {
            "colorbar": {
             "outlinewidth": 0,
             "ticks": ""
            },
            "colorscale": [
             [
              0,
              "#0d0887"
             ],
             [
              0.1111111111111111,
              "#46039f"
             ],
             [
              0.2222222222222222,
              "#7201a8"
             ],
             [
              0.3333333333333333,
              "#9c179e"
             ],
             [
              0.4444444444444444,
              "#bd3786"
             ],
             [
              0.5555555555555556,
              "#d8576b"
             ],
             [
              0.6666666666666666,
              "#ed7953"
             ],
             [
              0.7777777777777778,
              "#fb9f3a"
             ],
             [
              0.8888888888888888,
              "#fdca26"
             ],
             [
              1,
              "#f0f921"
             ]
            ],
            "type": "contour"
           }
          ],
          "contourcarpet": [
           {
            "colorbar": {
             "outlinewidth": 0,
             "ticks": ""
            },
            "type": "contourcarpet"
           }
          ],
          "heatmap": [
           {
            "colorbar": {
             "outlinewidth": 0,
             "ticks": ""
            },
            "colorscale": [
             [
              0,
              "#0d0887"
             ],
             [
              0.1111111111111111,
              "#46039f"
             ],
             [
              0.2222222222222222,
              "#7201a8"
             ],
             [
              0.3333333333333333,
              "#9c179e"
             ],
             [
              0.4444444444444444,
              "#bd3786"
             ],
             [
              0.5555555555555556,
              "#d8576b"
             ],
             [
              0.6666666666666666,
              "#ed7953"
             ],
             [
              0.7777777777777778,
              "#fb9f3a"
             ],
             [
              0.8888888888888888,
              "#fdca26"
             ],
             [
              1,
              "#f0f921"
             ]
            ],
            "type": "heatmap"
           }
          ],
          "heatmapgl": [
           {
            "colorbar": {
             "outlinewidth": 0,
             "ticks": ""
            },
            "colorscale": [
             [
              0,
              "#0d0887"
             ],
             [
              0.1111111111111111,
              "#46039f"
             ],
             [
              0.2222222222222222,
              "#7201a8"
             ],
             [
              0.3333333333333333,
              "#9c179e"
             ],
             [
              0.4444444444444444,
              "#bd3786"
             ],
             [
              0.5555555555555556,
              "#d8576b"
             ],
             [
              0.6666666666666666,
              "#ed7953"
             ],
             [
              0.7777777777777778,
              "#fb9f3a"
             ],
             [
              0.8888888888888888,
              "#fdca26"
             ],
             [
              1,
              "#f0f921"
             ]
            ],
            "type": "heatmapgl"
           }
          ],
          "histogram": [
           {
            "marker": {
             "pattern": {
              "fillmode": "overlay",
              "size": 10,
              "solidity": 0.2
             }
            },
            "type": "histogram"
           }
          ],
          "histogram2d": [
           {
            "colorbar": {
             "outlinewidth": 0,
             "ticks": ""
            },
            "colorscale": [
             [
              0,
              "#0d0887"
             ],
             [
              0.1111111111111111,
              "#46039f"
             ],
             [
              0.2222222222222222,
              "#7201a8"
             ],
             [
              0.3333333333333333,
              "#9c179e"
             ],
             [
              0.4444444444444444,
              "#bd3786"
             ],
             [
              0.5555555555555556,
              "#d8576b"
             ],
             [
              0.6666666666666666,
              "#ed7953"
             ],
             [
              0.7777777777777778,
              "#fb9f3a"
             ],
             [
              0.8888888888888888,
              "#fdca26"
             ],
             [
              1,
              "#f0f921"
             ]
            ],
            "type": "histogram2d"
           }
          ],
          "histogram2dcontour": [
           {
            "colorbar": {
             "outlinewidth": 0,
             "ticks": ""
            },
            "colorscale": [
             [
              0,
              "#0d0887"
             ],
             [
              0.1111111111111111,
              "#46039f"
             ],
             [
              0.2222222222222222,
              "#7201a8"
             ],
             [
              0.3333333333333333,
              "#9c179e"
             ],
             [
              0.4444444444444444,
              "#bd3786"
             ],
             [
              0.5555555555555556,
              "#d8576b"
             ],
             [
              0.6666666666666666,
              "#ed7953"
             ],
             [
              0.7777777777777778,
              "#fb9f3a"
             ],
             [
              0.8888888888888888,
              "#fdca26"
             ],
             [
              1,
              "#f0f921"
             ]
            ],
            "type": "histogram2dcontour"
           }
          ],
          "mesh3d": [
           {
            "colorbar": {
             "outlinewidth": 0,
             "ticks": ""
            },
            "type": "mesh3d"
           }
          ],
          "parcoords": [
           {
            "line": {
             "colorbar": {
              "outlinewidth": 0,
              "ticks": ""
             }
            },
            "type": "parcoords"
           }
          ],
          "pie": [
           {
            "automargin": true,
            "type": "pie"
           }
          ],
          "scatter": [
           {
            "fillpattern": {
             "fillmode": "overlay",
             "size": 10,
             "solidity": 0.2
            },
            "type": "scatter"
           }
          ],
          "scatter3d": [
           {
            "line": {
             "colorbar": {
              "outlinewidth": 0,
              "ticks": ""
             }
            },
            "marker": {
             "colorbar": {
              "outlinewidth": 0,
              "ticks": ""
             }
            },
            "type": "scatter3d"
           }
          ],
          "scattercarpet": [
           {
            "marker": {
             "colorbar": {
              "outlinewidth": 0,
              "ticks": ""
             }
            },
            "type": "scattercarpet"
           }
          ],
          "scattergeo": [
           {
            "marker": {
             "colorbar": {
              "outlinewidth": 0,
              "ticks": ""
             }
            },
            "type": "scattergeo"
           }
          ],
          "scattergl": [
           {
            "marker": {
             "colorbar": {
              "outlinewidth": 0,
              "ticks": ""
             }
            },
            "type": "scattergl"
           }
          ],
          "scattermapbox": [
           {
            "marker": {
             "colorbar": {
              "outlinewidth": 0,
              "ticks": ""
             }
            },
            "type": "scattermapbox"
           }
          ],
          "scatterpolar": [
           {
            "marker": {
             "colorbar": {
              "outlinewidth": 0,
              "ticks": ""
             }
            },
            "type": "scatterpolar"
           }
          ],
          "scatterpolargl": [
           {
            "marker": {
             "colorbar": {
              "outlinewidth": 0,
              "ticks": ""
             }
            },
            "type": "scatterpolargl"
           }
          ],
          "scatterternary": [
           {
            "marker": {
             "colorbar": {
              "outlinewidth": 0,
              "ticks": ""
             }
            },
            "type": "scatterternary"
           }
          ],
          "surface": [
           {
            "colorbar": {
             "outlinewidth": 0,
             "ticks": ""
            },
            "colorscale": [
             [
              0,
              "#0d0887"
             ],
             [
              0.1111111111111111,
              "#46039f"
             ],
             [
              0.2222222222222222,
              "#7201a8"
             ],
             [
              0.3333333333333333,
              "#9c179e"
             ],
             [
              0.4444444444444444,
              "#bd3786"
             ],
             [
              0.5555555555555556,
              "#d8576b"
             ],
             [
              0.6666666666666666,
              "#ed7953"
             ],
             [
              0.7777777777777778,
              "#fb9f3a"
             ],
             [
              0.8888888888888888,
              "#fdca26"
             ],
             [
              1,
              "#f0f921"
             ]
            ],
            "type": "surface"
           }
          ],
          "table": [
           {
            "cells": {
             "fill": {
              "color": "#EBF0F8"
             },
             "line": {
              "color": "white"
             }
            },
            "header": {
             "fill": {
              "color": "#C8D4E3"
             },
             "line": {
              "color": "white"
             }
            },
            "type": "table"
           }
          ]
         },
         "layout": {
          "annotationdefaults": {
           "arrowcolor": "#2a3f5f",
           "arrowhead": 0,
           "arrowwidth": 1
          },
          "autotypenumbers": "strict",
          "coloraxis": {
           "colorbar": {
            "outlinewidth": 0,
            "ticks": ""
           }
          },
          "colorscale": {
           "diverging": [
            [
             0,
             "#8e0152"
            ],
            [
             0.1,
             "#c51b7d"
            ],
            [
             0.2,
             "#de77ae"
            ],
            [
             0.3,
             "#f1b6da"
            ],
            [
             0.4,
             "#fde0ef"
            ],
            [
             0.5,
             "#f7f7f7"
            ],
            [
             0.6,
             "#e6f5d0"
            ],
            [
             0.7,
             "#b8e186"
            ],
            [
             0.8,
             "#7fbc41"
            ],
            [
             0.9,
             "#4d9221"
            ],
            [
             1,
             "#276419"
            ]
           ],
           "sequential": [
            [
             0,
             "#0d0887"
            ],
            [
             0.1111111111111111,
             "#46039f"
            ],
            [
             0.2222222222222222,
             "#7201a8"
            ],
            [
             0.3333333333333333,
             "#9c179e"
            ],
            [
             0.4444444444444444,
             "#bd3786"
            ],
            [
             0.5555555555555556,
             "#d8576b"
            ],
            [
             0.6666666666666666,
             "#ed7953"
            ],
            [
             0.7777777777777778,
             "#fb9f3a"
            ],
            [
             0.8888888888888888,
             "#fdca26"
            ],
            [
             1,
             "#f0f921"
            ]
           ],
           "sequentialminus": [
            [
             0,
             "#0d0887"
            ],
            [
             0.1111111111111111,
             "#46039f"
            ],
            [
             0.2222222222222222,
             "#7201a8"
            ],
            [
             0.3333333333333333,
             "#9c179e"
            ],
            [
             0.4444444444444444,
             "#bd3786"
            ],
            [
             0.5555555555555556,
             "#d8576b"
            ],
            [
             0.6666666666666666,
             "#ed7953"
            ],
            [
             0.7777777777777778,
             "#fb9f3a"
            ],
            [
             0.8888888888888888,
             "#fdca26"
            ],
            [
             1,
             "#f0f921"
            ]
           ]
          },
          "colorway": [
           "#636efa",
           "#EF553B",
           "#00cc96",
           "#ab63fa",
           "#FFA15A",
           "#19d3f3",
           "#FF6692",
           "#B6E880",
           "#FF97FF",
           "#FECB52"
          ],
          "font": {
           "color": "#2a3f5f"
          },
          "geo": {
           "bgcolor": "white",
           "lakecolor": "white",
           "landcolor": "#E5ECF6",
           "showlakes": true,
           "showland": true,
           "subunitcolor": "white"
          },
          "hoverlabel": {
           "align": "left"
          },
          "hovermode": "closest",
          "mapbox": {
           "style": "light"
          },
          "paper_bgcolor": "white",
          "plot_bgcolor": "#E5ECF6",
          "polar": {
           "angularaxis": {
            "gridcolor": "white",
            "linecolor": "white",
            "ticks": ""
           },
           "bgcolor": "#E5ECF6",
           "radialaxis": {
            "gridcolor": "white",
            "linecolor": "white",
            "ticks": ""
           }
          },
          "scene": {
           "xaxis": {
            "backgroundcolor": "#E5ECF6",
            "gridcolor": "white",
            "gridwidth": 2,
            "linecolor": "white",
            "showbackground": true,
            "ticks": "",
            "zerolinecolor": "white"
           },
           "yaxis": {
            "backgroundcolor": "#E5ECF6",
            "gridcolor": "white",
            "gridwidth": 2,
            "linecolor": "white",
            "showbackground": true,
            "ticks": "",
            "zerolinecolor": "white"
           },
           "zaxis": {
            "backgroundcolor": "#E5ECF6",
            "gridcolor": "white",
            "gridwidth": 2,
            "linecolor": "white",
            "showbackground": true,
            "ticks": "",
            "zerolinecolor": "white"
           }
          },
          "shapedefaults": {
           "line": {
            "color": "#2a3f5f"
           }
          },
          "ternary": {
           "aaxis": {
            "gridcolor": "white",
            "linecolor": "white",
            "ticks": ""
           },
           "baxis": {
            "gridcolor": "white",
            "linecolor": "white",
            "ticks": ""
           },
           "bgcolor": "#E5ECF6",
           "caxis": {
            "gridcolor": "white",
            "linecolor": "white",
            "ticks": ""
           }
          },
          "title": {
           "x": 0.05
          },
          "xaxis": {
           "automargin": true,
           "gridcolor": "white",
           "linecolor": "white",
           "ticks": "",
           "title": {
            "standoff": 15
           },
           "zerolinecolor": "white",
           "zerolinewidth": 2
          },
          "yaxis": {
           "automargin": true,
           "gridcolor": "white",
           "linecolor": "white",
           "ticks": "",
           "title": {
            "standoff": 15
           },
           "zerolinecolor": "white",
           "zerolinewidth": 2
          }
         }
        },
        "title": {
         "text": "t-SNE Projection"
        },
        "xaxis": {
         "anchor": "y",
         "domain": [
          0,
          1
         ],
         "title": {
          "text": "t-SNE 1"
         }
        },
        "yaxis": {
         "anchor": "x",
         "domain": [
          0,
          1
         ],
         "title": {
          "text": "t-SNE 2"
         }
        }
       }
      }
     },
     "metadata": {},
     "output_type": "display_data"
    }
   ],
   "source": [
    "import plotly.express as px\n",
    "import pandas as pd\n",
    "from sklearn.manifold import TSNE\n",
    "\n",
    "# two-step DR: PCA+tSNE\n",
    "df_tsne = df_pivot.drop(columns=['UMAP1', 'UMAP2', 'nodeId'])\n",
    "tsne = TSNE(n_components=2, random_state=42)\n",
    "embedding = tsne.fit_transform(df_tsne)\n",
    "\n",
    "df_pivot['tSNE1'] = embedding[:, 0]\n",
    "df_pivot['tSNE2'] = embedding[:, 1]\n",
    "\n",
    "fig = px.scatter(df_pivot, x='tSNE1', y='tSNE2', hover_data={'nodeId': True})\n",
    "\n",
    "fig.update_layout(title=\"t-SNE Projection\",\n",
    "                  xaxis_title=\"t-SNE 1\",\n",
    "                  yaxis_title=\"t-SNE 2\")\n",
    "\n",
    "fig.show()\n"
   ]
  },
  {
   "cell_type": "markdown",
   "metadata": {},
   "source": [
    "Second step DR: PCA"
   ]
  },
  {
   "cell_type": "code",
   "execution_count": 61,
   "metadata": {},
   "outputs": [],
   "source": [
    "import plotly.express as px\n",
    "import pandas as pd\n",
    "\n",
    "# DR2 - applying PCA to each feature across one node/component \n",
    "def apply_pca(X, n_components=2):\n",
    "    try:\n",
    "        baseline = X.values\n",
    "\n",
    "        # normalizing the data (demean)\n",
    "        mean_hat = baseline.mean(axis=0)\n",
    "        demeaned = baseline - mean_hat\n",
    "\n",
    "        # standardize\n",
    "        scaler = StandardScaler()\n",
    "        X_scaled = scaler.fit_transform(demeaned)\n",
    "\n",
    "        # apply PCA\n",
    "        pca = PCA(n_components=n_components)\n",
    "        scores = pca.fit_transform(X_scaled)\n",
    "\n",
    "        explained_variance_ratio_cumsum = np.cumsum(pca.explained_variance_ratio_)\n",
    "        npc = np.sum(explained_variance_ratio_cumsum < 0.9999) + 1\n",
    "        n_components = scores.shape[1]\n",
    "        print(f\"Number of principal components: {n_components}\")\n",
    "        \n",
    "\n",
    "        P_fin = pd.DataFrame({f\"PC{k+1}\": scores[:, k] if k < n_components else np.nan for k in range(3)})\n",
    "        P_fin['Measurement'] = X.index\n",
    "\n",
    "        return P_fin\n",
    "\n",
    "    except Exception as e:\n",
    "        print(f\"Error processing PCA across features: {e}\")\n",
    "        return None"
   ]
  },
  {
   "cell_type": "code",
   "execution_count": 62,
   "metadata": {},
   "outputs": [
    {
     "name": "stdout",
     "output_type": "stream",
     "text": [
      "Number of principal components: 2\n"
     ]
    }
   ],
   "source": [
    "df_pca = df_pivot.drop(columns=['UMAP1', 'UMAP2', 'tSNE1', 'tSNE2', 'nodeId'])\n",
    "P_df = apply_pca(df_pca)"
   ]
  },
  {
   "cell_type": "code",
   "execution_count": 63,
   "metadata": {},
   "outputs": [
    {
     "data": {
      "text/html": [
       "<div>\n",
       "<style scoped>\n",
       "    .dataframe tbody tr th:only-of-type {\n",
       "        vertical-align: middle;\n",
       "    }\n",
       "\n",
       "    .dataframe tbody tr th {\n",
       "        vertical-align: top;\n",
       "    }\n",
       "\n",
       "    .dataframe thead th {\n",
       "        text-align: right;\n",
       "    }\n",
       "</style>\n",
       "<table border=\"1\" class=\"dataframe\">\n",
       "  <thead>\n",
       "    <tr style=\"text-align: right;\">\n",
       "      <th></th>\n",
       "      <th>PC1</th>\n",
       "      <th>PC2</th>\n",
       "      <th>PC3</th>\n",
       "      <th>Measurement</th>\n",
       "    </tr>\n",
       "  </thead>\n",
       "  <tbody>\n",
       "    <tr>\n",
       "      <th>0</th>\n",
       "      <td>14.070342</td>\n",
       "      <td>-2.252934</td>\n",
       "      <td>NaN</td>\n",
       "      <td>novadaq-far-farm-06</td>\n",
       "    </tr>\n",
       "    <tr>\n",
       "      <th>1</th>\n",
       "      <td>13.898073</td>\n",
       "      <td>-2.905247</td>\n",
       "      <td>NaN</td>\n",
       "      <td>novadaq-far-farm-07</td>\n",
       "    </tr>\n",
       "    <tr>\n",
       "      <th>2</th>\n",
       "      <td>14.296000</td>\n",
       "      <td>-4.006608</td>\n",
       "      <td>NaN</td>\n",
       "      <td>novadaq-far-farm-08</td>\n",
       "    </tr>\n",
       "    <tr>\n",
       "      <th>3</th>\n",
       "      <td>14.216686</td>\n",
       "      <td>-2.622160</td>\n",
       "      <td>NaN</td>\n",
       "      <td>novadaq-far-farm-09</td>\n",
       "    </tr>\n",
       "    <tr>\n",
       "      <th>4</th>\n",
       "      <td>13.550015</td>\n",
       "      <td>-2.195082</td>\n",
       "      <td>NaN</td>\n",
       "      <td>novadaq-far-farm-10</td>\n",
       "    </tr>\n",
       "    <tr>\n",
       "      <th>...</th>\n",
       "      <td>...</td>\n",
       "      <td>...</td>\n",
       "      <td>...</td>\n",
       "      <td>...</td>\n",
       "    </tr>\n",
       "    <tr>\n",
       "      <th>190</th>\n",
       "      <td>-1.859436</td>\n",
       "      <td>1.464636</td>\n",
       "      <td>NaN</td>\n",
       "      <td>novadaq-far-farm-95</td>\n",
       "    </tr>\n",
       "    <tr>\n",
       "      <th>191</th>\n",
       "      <td>1.183160</td>\n",
       "      <td>-0.081462</td>\n",
       "      <td>NaN</td>\n",
       "      <td>novadaq-far-farm-96</td>\n",
       "    </tr>\n",
       "    <tr>\n",
       "      <th>192</th>\n",
       "      <td>2.327326</td>\n",
       "      <td>-0.884678</td>\n",
       "      <td>NaN</td>\n",
       "      <td>novadaq-far-farm-97</td>\n",
       "    </tr>\n",
       "    <tr>\n",
       "      <th>193</th>\n",
       "      <td>-2.028562</td>\n",
       "      <td>0.979259</td>\n",
       "      <td>NaN</td>\n",
       "      <td>novadaq-far-farm-98</td>\n",
       "    </tr>\n",
       "    <tr>\n",
       "      <th>194</th>\n",
       "      <td>-3.113381</td>\n",
       "      <td>1.611297</td>\n",
       "      <td>NaN</td>\n",
       "      <td>novadaq-far-farm-99</td>\n",
       "    </tr>\n",
       "  </tbody>\n",
       "</table>\n",
       "<p>195 rows × 4 columns</p>\n",
       "</div>"
      ],
      "text/plain": [
       "           PC1       PC2  PC3          Measurement\n",
       "0    14.070342 -2.252934  NaN  novadaq-far-farm-06\n",
       "1    13.898073 -2.905247  NaN  novadaq-far-farm-07\n",
       "2    14.296000 -4.006608  NaN  novadaq-far-farm-08\n",
       "3    14.216686 -2.622160  NaN  novadaq-far-farm-09\n",
       "4    13.550015 -2.195082  NaN  novadaq-far-farm-10\n",
       "..         ...       ...  ...                  ...\n",
       "190  -1.859436  1.464636  NaN  novadaq-far-farm-95\n",
       "191   1.183160 -0.081462  NaN  novadaq-far-farm-96\n",
       "192   2.327326 -0.884678  NaN  novadaq-far-farm-97\n",
       "193  -2.028562  0.979259  NaN  novadaq-far-farm-98\n",
       "194  -3.113381  1.611297  NaN  novadaq-far-farm-99\n",
       "\n",
       "[195 rows x 4 columns]"
      ]
     },
     "execution_count": 63,
     "metadata": {},
     "output_type": "execute_result"
    }
   ],
   "source": [
    "P_df"
   ]
  },
  {
   "cell_type": "code",
   "execution_count": 64,
   "metadata": {},
   "outputs": [
    {
     "data": {
      "text/html": [
       "<div>\n",
       "<style scoped>\n",
       "    .dataframe tbody tr th:only-of-type {\n",
       "        vertical-align: middle;\n",
       "    }\n",
       "\n",
       "    .dataframe tbody tr th {\n",
       "        vertical-align: top;\n",
       "    }\n",
       "\n",
       "    .dataframe thead th {\n",
       "        text-align: right;\n",
       "    }\n",
       "</style>\n",
       "<table border=\"1\" class=\"dataframe\">\n",
       "  <thead>\n",
       "    <tr style=\"text-align: right;\">\n",
       "      <th>Col</th>\n",
       "      <th>Missed Buffers_P1</th>\n",
       "      <th>Pool Size Data_P1</th>\n",
       "      <th>Pool Size Events_P1</th>\n",
       "      <th>Pool Size Time_P1</th>\n",
       "      <th>boottime</th>\n",
       "      <th>bytes_in</th>\n",
       "      <th>bytes_out</th>\n",
       "      <th>cpu_aidle</th>\n",
       "      <th>cpu_idle</th>\n",
       "      <th>cpu_nice</th>\n",
       "      <th>...</th>\n",
       "      <th>part_max_used</th>\n",
       "      <th>pkts_in</th>\n",
       "      <th>pkts_out</th>\n",
       "      <th>proc_run</th>\n",
       "      <th>proc_total</th>\n",
       "      <th>swap_free</th>\n",
       "      <th>swap_total</th>\n",
       "      <th>PC1</th>\n",
       "      <th>PC2</th>\n",
       "      <th>nodeId</th>\n",
       "    </tr>\n",
       "    <tr>\n",
       "      <th>Measurement</th>\n",
       "      <th></th>\n",
       "      <th></th>\n",
       "      <th></th>\n",
       "      <th></th>\n",
       "      <th></th>\n",
       "      <th></th>\n",
       "      <th></th>\n",
       "      <th></th>\n",
       "      <th></th>\n",
       "      <th></th>\n",
       "      <th></th>\n",
       "      <th></th>\n",
       "      <th></th>\n",
       "      <th></th>\n",
       "      <th></th>\n",
       "      <th></th>\n",
       "      <th></th>\n",
       "      <th></th>\n",
       "      <th></th>\n",
       "      <th></th>\n",
       "      <th></th>\n",
       "    </tr>\n",
       "  </thead>\n",
       "  <tbody>\n",
       "    <tr>\n",
       "      <th>novadaq-far-farm-06</th>\n",
       "      <td>-24.256130</td>\n",
       "      <td>221.502564</td>\n",
       "      <td>223.920172</td>\n",
       "      <td>223.214097</td>\n",
       "      <td>-22.035973</td>\n",
       "      <td>204.857742</td>\n",
       "      <td>-134.147774</td>\n",
       "      <td>16.808551</td>\n",
       "      <td>127.056379</td>\n",
       "      <td>113.733076</td>\n",
       "      <td>...</td>\n",
       "      <td>5.687101</td>\n",
       "      <td>191.667016</td>\n",
       "      <td>222.143552</td>\n",
       "      <td>97.883786</td>\n",
       "      <td>-70.687349</td>\n",
       "      <td>-7.153418</td>\n",
       "      <td>-7.165049</td>\n",
       "      <td>14.070342</td>\n",
       "      <td>-2.252934</td>\n",
       "      <td>novadaq-far-farm-06</td>\n",
       "    </tr>\n",
       "    <tr>\n",
       "      <th>novadaq-far-farm-07</th>\n",
       "      <td>-24.256130</td>\n",
       "      <td>221.502564</td>\n",
       "      <td>223.920172</td>\n",
       "      <td>223.214097</td>\n",
       "      <td>-20.147498</td>\n",
       "      <td>204.986937</td>\n",
       "      <td>-134.194588</td>\n",
       "      <td>-14.473576</td>\n",
       "      <td>125.153507</td>\n",
       "      <td>114.064763</td>\n",
       "      <td>...</td>\n",
       "      <td>-29.307690</td>\n",
       "      <td>192.456964</td>\n",
       "      <td>222.238555</td>\n",
       "      <td>95.922728</td>\n",
       "      <td>-70.837992</td>\n",
       "      <td>-7.153418</td>\n",
       "      <td>-7.165049</td>\n",
       "      <td>13.898073</td>\n",
       "      <td>-2.905247</td>\n",
       "      <td>novadaq-far-farm-07</td>\n",
       "    </tr>\n",
       "    <tr>\n",
       "      <th>novadaq-far-farm-08</th>\n",
       "      <td>-24.256130</td>\n",
       "      <td>221.502564</td>\n",
       "      <td>223.920172</td>\n",
       "      <td>223.214097</td>\n",
       "      <td>22.105131</td>\n",
       "      <td>205.294531</td>\n",
       "      <td>-134.363631</td>\n",
       "      <td>-20.789340</td>\n",
       "      <td>75.072762</td>\n",
       "      <td>113.736503</td>\n",
       "      <td>...</td>\n",
       "      <td>24.567064</td>\n",
       "      <td>201.005329</td>\n",
       "      <td>222.180963</td>\n",
       "      <td>98.238420</td>\n",
       "      <td>-86.532456</td>\n",
       "      <td>-7.153418</td>\n",
       "      <td>-7.165049</td>\n",
       "      <td>14.296000</td>\n",
       "      <td>-4.006608</td>\n",
       "      <td>novadaq-far-farm-08</td>\n",
       "    </tr>\n",
       "    <tr>\n",
       "      <th>novadaq-far-farm-09</th>\n",
       "      <td>-24.256130</td>\n",
       "      <td>221.502564</td>\n",
       "      <td>223.920172</td>\n",
       "      <td>223.214097</td>\n",
       "      <td>-11.154821</td>\n",
       "      <td>205.093293</td>\n",
       "      <td>-134.319299</td>\n",
       "      <td>11.106108</td>\n",
       "      <td>115.991741</td>\n",
       "      <td>113.735090</td>\n",
       "      <td>...</td>\n",
       "      <td>10.276417</td>\n",
       "      <td>193.845055</td>\n",
       "      <td>222.321312</td>\n",
       "      <td>98.292996</td>\n",
       "      <td>-73.277183</td>\n",
       "      <td>-7.153418</td>\n",
       "      <td>-7.165049</td>\n",
       "      <td>14.216686</td>\n",
       "      <td>-2.622160</td>\n",
       "      <td>novadaq-far-farm-09</td>\n",
       "    </tr>\n",
       "    <tr>\n",
       "      <th>novadaq-far-farm-10</th>\n",
       "      <td>-24.256130</td>\n",
       "      <td>221.502564</td>\n",
       "      <td>223.920172</td>\n",
       "      <td>223.214097</td>\n",
       "      <td>-16.779916</td>\n",
       "      <td>204.977334</td>\n",
       "      <td>-134.248648</td>\n",
       "      <td>-15.117958</td>\n",
       "      <td>122.038137</td>\n",
       "      <td>113.735767</td>\n",
       "      <td>...</td>\n",
       "      <td>28.671451</td>\n",
       "      <td>192.887712</td>\n",
       "      <td>222.281727</td>\n",
       "      <td>97.878586</td>\n",
       "      <td>-71.640847</td>\n",
       "      <td>-7.153418</td>\n",
       "      <td>-7.165049</td>\n",
       "      <td>13.550015</td>\n",
       "      <td>-2.195082</td>\n",
       "      <td>novadaq-far-farm-10</td>\n",
       "    </tr>\n",
       "    <tr>\n",
       "      <th>...</th>\n",
       "      <td>...</td>\n",
       "      <td>...</td>\n",
       "      <td>...</td>\n",
       "      <td>...</td>\n",
       "      <td>...</td>\n",
       "      <td>...</td>\n",
       "      <td>...</td>\n",
       "      <td>...</td>\n",
       "      <td>...</td>\n",
       "      <td>...</td>\n",
       "      <td>...</td>\n",
       "      <td>...</td>\n",
       "      <td>...</td>\n",
       "      <td>...</td>\n",
       "      <td>...</td>\n",
       "      <td>...</td>\n",
       "      <td>...</td>\n",
       "      <td>...</td>\n",
       "      <td>...</td>\n",
       "      <td>...</td>\n",
       "      <td>...</td>\n",
       "    </tr>\n",
       "    <tr>\n",
       "      <th>novadaq-far-farm-95</th>\n",
       "      <td>-24.256130</td>\n",
       "      <td>-26.012181</td>\n",
       "      <td>-25.092464</td>\n",
       "      <td>-25.399800</td>\n",
       "      <td>11.557186</td>\n",
       "      <td>-27.051852</td>\n",
       "      <td>24.159324</td>\n",
       "      <td>47.763506</td>\n",
       "      <td>14.555998</td>\n",
       "      <td>-23.449652</td>\n",
       "      <td>...</td>\n",
       "      <td>-60.641238</td>\n",
       "      <td>-27.975056</td>\n",
       "      <td>-26.469337</td>\n",
       "      <td>-25.627451</td>\n",
       "      <td>5.713262</td>\n",
       "      <td>-7.153418</td>\n",
       "      <td>-7.165049</td>\n",
       "      <td>-1.859436</td>\n",
       "      <td>1.464636</td>\n",
       "      <td>novadaq-far-farm-95</td>\n",
       "    </tr>\n",
       "    <tr>\n",
       "      <th>novadaq-far-farm-96</th>\n",
       "      <td>-24.223770</td>\n",
       "      <td>3.295862</td>\n",
       "      <td>3.401222</td>\n",
       "      <td>3.632307</td>\n",
       "      <td>56.033327</td>\n",
       "      <td>1.961146</td>\n",
       "      <td>-13.428502</td>\n",
       "      <td>25.778116</td>\n",
       "      <td>-11.183348</td>\n",
       "      <td>4.660297</td>\n",
       "      <td>...</td>\n",
       "      <td>-41.043307</td>\n",
       "      <td>5.308201</td>\n",
       "      <td>1.691727</td>\n",
       "      <td>13.884449</td>\n",
       "      <td>-18.087210</td>\n",
       "      <td>-7.153418</td>\n",
       "      <td>-7.165049</td>\n",
       "      <td>1.183160</td>\n",
       "      <td>-0.081462</td>\n",
       "      <td>novadaq-far-farm-96</td>\n",
       "    </tr>\n",
       "    <tr>\n",
       "      <th>novadaq-far-farm-97</th>\n",
       "      <td>-22.252491</td>\n",
       "      <td>22.593992</td>\n",
       "      <td>21.756998</td>\n",
       "      <td>22.532210</td>\n",
       "      <td>29.394489</td>\n",
       "      <td>21.438514</td>\n",
       "      <td>-32.353491</td>\n",
       "      <td>-28.771354</td>\n",
       "      <td>-29.200002</td>\n",
       "      <td>23.607357</td>\n",
       "      <td>...</td>\n",
       "      <td>-7.177163</td>\n",
       "      <td>25.577577</td>\n",
       "      <td>20.207151</td>\n",
       "      <td>31.812149</td>\n",
       "      <td>-33.138204</td>\n",
       "      <td>-7.153418</td>\n",
       "      <td>-7.165049</td>\n",
       "      <td>2.327326</td>\n",
       "      <td>-0.884678</td>\n",
       "      <td>novadaq-far-farm-97</td>\n",
       "    </tr>\n",
       "    <tr>\n",
       "      <th>novadaq-far-farm-98</th>\n",
       "      <td>-10.655093</td>\n",
       "      <td>-24.494696</td>\n",
       "      <td>-25.051618</td>\n",
       "      <td>-24.958231</td>\n",
       "      <td>-35.669601</td>\n",
       "      <td>-24.990747</td>\n",
       "      <td>19.969042</td>\n",
       "      <td>8.742871</td>\n",
       "      <td>12.635832</td>\n",
       "      <td>-22.770763</td>\n",
       "      <td>...</td>\n",
       "      <td>-36.211488</td>\n",
       "      <td>-26.170819</td>\n",
       "      <td>-26.362507</td>\n",
       "      <td>-22.716321</td>\n",
       "      <td>2.728275</td>\n",
       "      <td>-7.153418</td>\n",
       "      <td>-7.165049</td>\n",
       "      <td>-2.028562</td>\n",
       "      <td>0.979259</td>\n",
       "      <td>novadaq-far-farm-98</td>\n",
       "    </tr>\n",
       "    <tr>\n",
       "      <th>novadaq-far-farm-99</th>\n",
       "      <td>36.835838</td>\n",
       "      <td>-31.178505</td>\n",
       "      <td>-31.447805</td>\n",
       "      <td>-31.808645</td>\n",
       "      <td>-47.678099</td>\n",
       "      <td>-32.276860</td>\n",
       "      <td>30.289731</td>\n",
       "      <td>15.124629</td>\n",
       "      <td>19.652883</td>\n",
       "      <td>-28.798678</td>\n",
       "      <td>...</td>\n",
       "      <td>-41.546164</td>\n",
       "      <td>-35.281127</td>\n",
       "      <td>-31.574469</td>\n",
       "      <td>-34.779689</td>\n",
       "      <td>10.710541</td>\n",
       "      <td>-7.153418</td>\n",
       "      <td>-7.165049</td>\n",
       "      <td>-3.113381</td>\n",
       "      <td>1.611297</td>\n",
       "      <td>novadaq-far-farm-99</td>\n",
       "    </tr>\n",
       "  </tbody>\n",
       "</table>\n",
       "<p>195 rows × 34 columns</p>\n",
       "</div>"
      ],
      "text/plain": [
       "Col                  Missed Buffers_P1  Pool Size Data_P1  \\\n",
       "Measurement                                                 \n",
       "novadaq-far-farm-06         -24.256130         221.502564   \n",
       "novadaq-far-farm-07         -24.256130         221.502564   \n",
       "novadaq-far-farm-08         -24.256130         221.502564   \n",
       "novadaq-far-farm-09         -24.256130         221.502564   \n",
       "novadaq-far-farm-10         -24.256130         221.502564   \n",
       "...                                ...                ...   \n",
       "novadaq-far-farm-95         -24.256130         -26.012181   \n",
       "novadaq-far-farm-96         -24.223770           3.295862   \n",
       "novadaq-far-farm-97         -22.252491          22.593992   \n",
       "novadaq-far-farm-98         -10.655093         -24.494696   \n",
       "novadaq-far-farm-99          36.835838         -31.178505   \n",
       "\n",
       "Col                  Pool Size Events_P1  Pool Size Time_P1   boottime  \\\n",
       "Measurement                                                              \n",
       "novadaq-far-farm-06           223.920172         223.214097 -22.035973   \n",
       "novadaq-far-farm-07           223.920172         223.214097 -20.147498   \n",
       "novadaq-far-farm-08           223.920172         223.214097  22.105131   \n",
       "novadaq-far-farm-09           223.920172         223.214097 -11.154821   \n",
       "novadaq-far-farm-10           223.920172         223.214097 -16.779916   \n",
       "...                                  ...                ...        ...   \n",
       "novadaq-far-farm-95           -25.092464         -25.399800  11.557186   \n",
       "novadaq-far-farm-96             3.401222           3.632307  56.033327   \n",
       "novadaq-far-farm-97            21.756998          22.532210  29.394489   \n",
       "novadaq-far-farm-98           -25.051618         -24.958231 -35.669601   \n",
       "novadaq-far-farm-99           -31.447805         -31.808645 -47.678099   \n",
       "\n",
       "Col                    bytes_in   bytes_out  cpu_aidle    cpu_idle  \\\n",
       "Measurement                                                          \n",
       "novadaq-far-farm-06  204.857742 -134.147774  16.808551  127.056379   \n",
       "novadaq-far-farm-07  204.986937 -134.194588 -14.473576  125.153507   \n",
       "novadaq-far-farm-08  205.294531 -134.363631 -20.789340   75.072762   \n",
       "novadaq-far-farm-09  205.093293 -134.319299  11.106108  115.991741   \n",
       "novadaq-far-farm-10  204.977334 -134.248648 -15.117958  122.038137   \n",
       "...                         ...         ...        ...         ...   \n",
       "novadaq-far-farm-95  -27.051852   24.159324  47.763506   14.555998   \n",
       "novadaq-far-farm-96    1.961146  -13.428502  25.778116  -11.183348   \n",
       "novadaq-far-farm-97   21.438514  -32.353491 -28.771354  -29.200002   \n",
       "novadaq-far-farm-98  -24.990747   19.969042   8.742871   12.635832   \n",
       "novadaq-far-farm-99  -32.276860   30.289731  15.124629   19.652883   \n",
       "\n",
       "Col                    cpu_nice  ...  part_max_used     pkts_in    pkts_out  \\\n",
       "Measurement                      ...                                          \n",
       "novadaq-far-farm-06  113.733076  ...       5.687101  191.667016  222.143552   \n",
       "novadaq-far-farm-07  114.064763  ...     -29.307690  192.456964  222.238555   \n",
       "novadaq-far-farm-08  113.736503  ...      24.567064  201.005329  222.180963   \n",
       "novadaq-far-farm-09  113.735090  ...      10.276417  193.845055  222.321312   \n",
       "novadaq-far-farm-10  113.735767  ...      28.671451  192.887712  222.281727   \n",
       "...                         ...  ...            ...         ...         ...   \n",
       "novadaq-far-farm-95  -23.449652  ...     -60.641238  -27.975056  -26.469337   \n",
       "novadaq-far-farm-96    4.660297  ...     -41.043307    5.308201    1.691727   \n",
       "novadaq-far-farm-97   23.607357  ...      -7.177163   25.577577   20.207151   \n",
       "novadaq-far-farm-98  -22.770763  ...     -36.211488  -26.170819  -26.362507   \n",
       "novadaq-far-farm-99  -28.798678  ...     -41.546164  -35.281127  -31.574469   \n",
       "\n",
       "Col                   proc_run  proc_total  swap_free  swap_total        PC1  \\\n",
       "Measurement                                                                    \n",
       "novadaq-far-farm-06  97.883786  -70.687349  -7.153418   -7.165049  14.070342   \n",
       "novadaq-far-farm-07  95.922728  -70.837992  -7.153418   -7.165049  13.898073   \n",
       "novadaq-far-farm-08  98.238420  -86.532456  -7.153418   -7.165049  14.296000   \n",
       "novadaq-far-farm-09  98.292996  -73.277183  -7.153418   -7.165049  14.216686   \n",
       "novadaq-far-farm-10  97.878586  -71.640847  -7.153418   -7.165049  13.550015   \n",
       "...                        ...         ...        ...         ...        ...   \n",
       "novadaq-far-farm-95 -25.627451    5.713262  -7.153418   -7.165049  -1.859436   \n",
       "novadaq-far-farm-96  13.884449  -18.087210  -7.153418   -7.165049   1.183160   \n",
       "novadaq-far-farm-97  31.812149  -33.138204  -7.153418   -7.165049   2.327326   \n",
       "novadaq-far-farm-98 -22.716321    2.728275  -7.153418   -7.165049  -2.028562   \n",
       "novadaq-far-farm-99 -34.779689   10.710541  -7.153418   -7.165049  -3.113381   \n",
       "\n",
       "Col                       PC2               nodeId  \n",
       "Measurement                                         \n",
       "novadaq-far-farm-06 -2.252934  novadaq-far-farm-06  \n",
       "novadaq-far-farm-07 -2.905247  novadaq-far-farm-07  \n",
       "novadaq-far-farm-08 -4.006608  novadaq-far-farm-08  \n",
       "novadaq-far-farm-09 -2.622160  novadaq-far-farm-09  \n",
       "novadaq-far-farm-10 -2.195082  novadaq-far-farm-10  \n",
       "...                       ...                  ...  \n",
       "novadaq-far-farm-95  1.464636  novadaq-far-farm-95  \n",
       "novadaq-far-farm-96 -0.081462  novadaq-far-farm-96  \n",
       "novadaq-far-farm-97 -0.884678  novadaq-far-farm-97  \n",
       "novadaq-far-farm-98  0.979259  novadaq-far-farm-98  \n",
       "novadaq-far-farm-99  1.611297  novadaq-far-farm-99  \n",
       "\n",
       "[195 rows x 34 columns]"
      ]
     },
     "execution_count": 64,
     "metadata": {},
     "output_type": "execute_result"
    }
   ],
   "source": [
    "P_df.set_index('Measurement', inplace=True)\n",
    "df_pca['PC1'] = P_df['PC1']\n",
    "df_pca['PC2'] = P_df['PC2']\n",
    "df_pca['nodeId'] = df_pca.index\n",
    "df_pca"
   ]
  },
  {
   "cell_type": "code",
   "execution_count": 65,
   "metadata": {},
   "outputs": [
    {
     "data": {
      "application/vnd.plotly.v1+json": {
       "config": {
        "plotlyServerURL": "https://plot.ly"
       },
       "data": [
        {
         "customdata": [
          [
           "novadaq-far-farm-06"
          ],
          [
           "novadaq-far-farm-07"
          ],
          [
           "novadaq-far-farm-08"
          ],
          [
           "novadaq-far-farm-09"
          ],
          [
           "novadaq-far-farm-10"
          ],
          [
           "novadaq-far-farm-100"
          ],
          [
           "novadaq-far-farm-101"
          ],
          [
           "novadaq-far-farm-102"
          ],
          [
           "novadaq-far-farm-103"
          ],
          [
           "novadaq-far-farm-104"
          ],
          [
           "novadaq-far-farm-105"
          ],
          [
           "novadaq-far-farm-106"
          ],
          [
           "novadaq-far-farm-107"
          ],
          [
           "novadaq-far-farm-108"
          ],
          [
           "novadaq-far-farm-109"
          ],
          [
           "novadaq-far-farm-11"
          ],
          [
           "novadaq-far-farm-110"
          ],
          [
           "novadaq-far-farm-111"
          ],
          [
           "novadaq-far-farm-112"
          ],
          [
           "novadaq-far-farm-113"
          ],
          [
           "novadaq-far-farm-114"
          ],
          [
           "novadaq-far-farm-115"
          ],
          [
           "novadaq-far-farm-116"
          ],
          [
           "novadaq-far-farm-117"
          ],
          [
           "novadaq-far-farm-118"
          ],
          [
           "novadaq-far-farm-119"
          ],
          [
           "novadaq-far-farm-12"
          ],
          [
           "novadaq-far-farm-120"
          ],
          [
           "novadaq-far-farm-121"
          ],
          [
           "novadaq-far-farm-122"
          ],
          [
           "novadaq-far-farm-123"
          ],
          [
           "novadaq-far-farm-124"
          ],
          [
           "novadaq-far-farm-125"
          ],
          [
           "novadaq-far-farm-126"
          ],
          [
           "novadaq-far-farm-127"
          ],
          [
           "novadaq-far-farm-128"
          ],
          [
           "novadaq-far-farm-129"
          ],
          [
           "novadaq-far-farm-13"
          ],
          [
           "novadaq-far-farm-130"
          ],
          [
           "novadaq-far-farm-131"
          ],
          [
           "novadaq-far-farm-132"
          ],
          [
           "novadaq-far-farm-133"
          ],
          [
           "novadaq-far-farm-134"
          ],
          [
           "novadaq-far-farm-135"
          ],
          [
           "novadaq-far-farm-136"
          ],
          [
           "novadaq-far-farm-137"
          ],
          [
           "novadaq-far-farm-138"
          ],
          [
           "novadaq-far-farm-139"
          ],
          [
           "novadaq-far-farm-14"
          ],
          [
           "novadaq-far-farm-140"
          ],
          [
           "novadaq-far-farm-141"
          ],
          [
           "novadaq-far-farm-142"
          ],
          [
           "novadaq-far-farm-143"
          ],
          [
           "novadaq-far-farm-144"
          ],
          [
           "novadaq-far-farm-145"
          ],
          [
           "novadaq-far-farm-146"
          ],
          [
           "novadaq-far-farm-147"
          ],
          [
           "novadaq-far-farm-148"
          ],
          [
           "novadaq-far-farm-149"
          ],
          [
           "novadaq-far-farm-15"
          ],
          [
           "novadaq-far-farm-150"
          ],
          [
           "novadaq-far-farm-151"
          ],
          [
           "novadaq-far-farm-152"
          ],
          [
           "novadaq-far-farm-153"
          ],
          [
           "novadaq-far-farm-154"
          ],
          [
           "novadaq-far-farm-155"
          ],
          [
           "novadaq-far-farm-156"
          ],
          [
           "novadaq-far-farm-157"
          ],
          [
           "novadaq-far-farm-158"
          ],
          [
           "novadaq-far-farm-159"
          ],
          [
           "novadaq-far-farm-16"
          ],
          [
           "novadaq-far-farm-160"
          ],
          [
           "novadaq-far-farm-161"
          ],
          [
           "novadaq-far-farm-162"
          ],
          [
           "novadaq-far-farm-163"
          ],
          [
           "novadaq-far-farm-164"
          ],
          [
           "novadaq-far-farm-165"
          ],
          [
           "novadaq-far-farm-166"
          ],
          [
           "novadaq-far-farm-167"
          ],
          [
           "novadaq-far-farm-168"
          ],
          [
           "novadaq-far-farm-169"
          ],
          [
           "novadaq-far-farm-17"
          ],
          [
           "novadaq-far-farm-170"
          ],
          [
           "novadaq-far-farm-171"
          ],
          [
           "novadaq-far-farm-172"
          ],
          [
           "novadaq-far-farm-173"
          ],
          [
           "novadaq-far-farm-174"
          ],
          [
           "novadaq-far-farm-175"
          ],
          [
           "novadaq-far-farm-176"
          ],
          [
           "novadaq-far-farm-177"
          ],
          [
           "novadaq-far-farm-178"
          ],
          [
           "novadaq-far-farm-179"
          ],
          [
           "novadaq-far-farm-18"
          ],
          [
           "novadaq-far-farm-180"
          ],
          [
           "novadaq-far-farm-181"
          ],
          [
           "novadaq-far-farm-182"
          ],
          [
           "novadaq-far-farm-183"
          ],
          [
           "novadaq-far-farm-184"
          ],
          [
           "novadaq-far-farm-185"
          ],
          [
           "novadaq-far-farm-186"
          ],
          [
           "novadaq-far-farm-187"
          ],
          [
           "novadaq-far-farm-188"
          ],
          [
           "novadaq-far-farm-189"
          ],
          [
           "novadaq-far-farm-19"
          ],
          [
           "novadaq-far-farm-190"
          ],
          [
           "novadaq-far-farm-191"
          ],
          [
           "novadaq-far-farm-192"
          ],
          [
           "novadaq-far-farm-193"
          ],
          [
           "novadaq-far-farm-194"
          ],
          [
           "novadaq-far-farm-195"
          ],
          [
           "novadaq-far-farm-196"
          ],
          [
           "novadaq-far-farm-197"
          ],
          [
           "novadaq-far-farm-198"
          ],
          [
           "novadaq-far-farm-199"
          ],
          [
           "novadaq-far-farm-20"
          ],
          [
           "novadaq-far-farm-200"
          ],
          [
           "novadaq-far-farm-21"
          ],
          [
           "novadaq-far-farm-22"
          ],
          [
           "novadaq-far-farm-23"
          ],
          [
           "novadaq-far-farm-24"
          ],
          [
           "novadaq-far-farm-25"
          ],
          [
           "novadaq-far-farm-26"
          ],
          [
           "novadaq-far-farm-27"
          ],
          [
           "novadaq-far-farm-28"
          ],
          [
           "novadaq-far-farm-29"
          ],
          [
           "novadaq-far-farm-30"
          ],
          [
           "novadaq-far-farm-31"
          ],
          [
           "novadaq-far-farm-32"
          ],
          [
           "novadaq-far-farm-33"
          ],
          [
           "novadaq-far-farm-34"
          ],
          [
           "novadaq-far-farm-35"
          ],
          [
           "novadaq-far-farm-36"
          ],
          [
           "novadaq-far-farm-37"
          ],
          [
           "novadaq-far-farm-38"
          ],
          [
           "novadaq-far-farm-39"
          ],
          [
           "novadaq-far-farm-40"
          ],
          [
           "novadaq-far-farm-41"
          ],
          [
           "novadaq-far-farm-42"
          ],
          [
           "novadaq-far-farm-43"
          ],
          [
           "novadaq-far-farm-44"
          ],
          [
           "novadaq-far-farm-45"
          ],
          [
           "novadaq-far-farm-46"
          ],
          [
           "novadaq-far-farm-47"
          ],
          [
           "novadaq-far-farm-48"
          ],
          [
           "novadaq-far-farm-49"
          ],
          [
           "novadaq-far-farm-50"
          ],
          [
           "novadaq-far-farm-51"
          ],
          [
           "novadaq-far-farm-52"
          ],
          [
           "novadaq-far-farm-53"
          ],
          [
           "novadaq-far-farm-54"
          ],
          [
           "novadaq-far-farm-55"
          ],
          [
           "novadaq-far-farm-56"
          ],
          [
           "novadaq-far-farm-57"
          ],
          [
           "novadaq-far-farm-58"
          ],
          [
           "novadaq-far-farm-59"
          ],
          [
           "novadaq-far-farm-60"
          ],
          [
           "novadaq-far-farm-61"
          ],
          [
           "novadaq-far-farm-62"
          ],
          [
           "novadaq-far-farm-63"
          ],
          [
           "novadaq-far-farm-64"
          ],
          [
           "novadaq-far-farm-65"
          ],
          [
           "novadaq-far-farm-66"
          ],
          [
           "novadaq-far-farm-67"
          ],
          [
           "novadaq-far-farm-68"
          ],
          [
           "novadaq-far-farm-69"
          ],
          [
           "novadaq-far-farm-70"
          ],
          [
           "novadaq-far-farm-71"
          ],
          [
           "novadaq-far-farm-72"
          ],
          [
           "novadaq-far-farm-73"
          ],
          [
           "novadaq-far-farm-74"
          ],
          [
           "novadaq-far-farm-75"
          ],
          [
           "novadaq-far-farm-76"
          ],
          [
           "novadaq-far-farm-77"
          ],
          [
           "novadaq-far-farm-78"
          ],
          [
           "novadaq-far-farm-79"
          ],
          [
           "novadaq-far-farm-80"
          ],
          [
           "novadaq-far-farm-81"
          ],
          [
           "novadaq-far-farm-82"
          ],
          [
           "novadaq-far-farm-83"
          ],
          [
           "novadaq-far-farm-84"
          ],
          [
           "novadaq-far-farm-85"
          ],
          [
           "novadaq-far-farm-86"
          ],
          [
           "novadaq-far-farm-87"
          ],
          [
           "novadaq-far-farm-88"
          ],
          [
           "novadaq-far-farm-89"
          ],
          [
           "novadaq-far-farm-90"
          ],
          [
           "novadaq-far-farm-91"
          ],
          [
           "novadaq-far-farm-92"
          ],
          [
           "novadaq-far-farm-93"
          ],
          [
           "novadaq-far-farm-94"
          ],
          [
           "novadaq-far-farm-95"
          ],
          [
           "novadaq-far-farm-96"
          ],
          [
           "novadaq-far-farm-97"
          ],
          [
           "novadaq-far-farm-98"
          ],
          [
           "novadaq-far-farm-99"
          ]
         ],
         "hovertemplate": "PC1=%{x}<br>PC2=%{y}<br>nodeId=%{customdata[0]}<extra></extra>",
         "legendgroup": "",
         "marker": {
          "color": "#636efa",
          "symbol": "circle"
         },
         "mode": "markers",
         "name": "",
         "orientation": "v",
         "showlegend": false,
         "type": "scatter",
         "x": [
          14.070342319420478,
          13.89807281474659,
          14.296000441022578,
          14.216686131586446,
          13.550015116562138,
          2.462545738909418,
          -0.7961053966950216,
          -0.5158944726621126,
          -0.43311846969744694,
          -2.622617241942578,
          3.0926650967269422,
          3.6837141433833915,
          1.478459172052582,
          2.4799642664682673,
          -1.968283508458428,
          -1.4162936878652241,
          0.951911264645955,
          -1.3077894942990291,
          0.6619116876276842,
          0.2602931553396773,
          -0.6573386007183212,
          -1.173956319795299,
          -1.6005716027053896,
          -1.8561786025722806,
          1.1821381789346224,
          -0.6467546501304486,
          4.909954718656216,
          0.5016437444013818,
          -2.478799260763535,
          1.312661770214415,
          1.383897717572956,
          3.4228023192892483,
          -0.35164328956528507,
          -2.4743855157156514,
          -0.9452556294959603,
          1.7122662352080773,
          -3.425569348798457,
          -1.6717423350558944,
          6.5842471407681495,
          3.492282574304303,
          -2.17652107361553,
          4.1340281299868895,
          2.228140143383769,
          2.1796908582406975,
          -0.3612709025853683,
          2.3718160199776057,
          -0.057169806778045056,
          -4.3250313875496875,
          -1.8094642468443076,
          -3.023134906054015,
          -1.2007441344420688,
          6.215029601670207,
          -2.4286413621168994,
          3.0555011860906998,
          3.2607805573790305,
          1.1203496801856412,
          -1.4126323115628894,
          -3.452985859581856,
          0.15190696907513762,
          1.1668662629989057,
          4.521861648935173,
          -1.2858671818673564,
          -4.394981893224236,
          -1.9281457860556173,
          -1.2956788881181303,
          -3.627253046838201,
          -2.581888756298,
          -4.388464231601185,
          -0.5389306587386526,
          -0.6105889196716328,
          4.799164020065072,
          -2.1441002462833283,
          -0.8184417586934645,
          -4.318544833464121,
          1.0266689548715766,
          4.916301845065887,
          -2.372967941302345,
          0.8125609797441593,
          1.3098501587746996,
          -4.094261970389959,
          -4.154346035969115,
          -4.205372734369445,
          4.413149486550955,
          -2.8713822050709212,
          -0.35828087206505393,
          -3.7363328032446734,
          -3.2784860537337566,
          -4.476765759925862,
          -3.8808664348024595,
          -2.0709128549124958,
          -2.495966989505679,
          0.5637235215464497,
          -3.6884223475216085,
          3.692727301905949,
          6.099803147527104,
          3.0416363830681017,
          -1.6098016635560903,
          1.7307063948661863,
          0.16990724063786763,
          -2.9755141316193754,
          -2.327631149022221,
          1.8795531796833282,
          4.412332672140778,
          1.6685035820726764,
          -0.05354295392353941,
          0.4635068243348372,
          -3.3185591560035723,
          -0.20408052754876913,
          -1.4554910039743267,
          1.6159751161198954,
          -3.7532194317937555,
          -0.7180886993026624,
          -0.4188067217063098,
          -1.891312723945895,
          -0.05405288858593263,
          -2.254500197320422,
          5.749973075117922,
          -6.237100606532776,
          -3.1736159827973567,
          -0.5764257365659158,
          -0.06870799444059088,
          -4.378533152162104,
          -2.910432319782635,
          6.112376179990255,
          -3.2469298081123745,
          -0.5475172918997343,
          0.7856898820213547,
          2.3434397051497022,
          -5.775415973610194,
          -0.7105438105543446,
          2.120969556256227,
          -4.940647159612323,
          -2.1413019116415493,
          -5.750245324062322,
          -3.5085775619286768,
          -3.697074270448672,
          1.5907147582528174,
          -5.760583459186383,
          -2.2866395809160793,
          0.10028422077289767,
          -5.1345879000765,
          -2.9185985923280797,
          -4.806606243982411,
          1.0003347599622305,
          -3.8943388641227386,
          -3.054598614443414,
          -1.7587455673455568,
          -1.1964004181650998,
          -0.1035421335574025,
          -2.0245507655989297,
          2.2494629451126738,
          1.0355942319699156,
          1.1549282860606152,
          2.2474708413791835,
          2.1329009114839885,
          0.014196737118581791,
          2.3221558850327653,
          -0.873899395475852,
          1.3139968865255016,
          1.5532010202706938,
          -0.33319159403989823,
          4.305421567357209,
          -0.08909806172244923,
          1.8681337736766028,
          -2.38251827416328,
          1.5717663339395402,
          0.5307327070614434,
          -2.4843975361518003,
          1.7434342215687866,
          -0.9992209070517161,
          -3.5271876944952956,
          -0.621354775442029,
          3.2224978491073535,
          5.3361830728649196,
          0.688655221004616,
          -0.5489802615016536,
          0.6602274919294541,
          -2.119231714827537,
          -3.3087097857111383,
          0.531907299796889,
          -3.154048636084158,
          1.658399811667508,
          2.453054564926048,
          -3.2129084247253346,
          0.16575210218170838,
          -2.236576782791807,
          -0.5228993809012418,
          3.262015602382102,
          3.6394060905338894,
          -0.3426727108734446,
          -1.8594355555945503,
          1.1831601853335574,
          2.32732585801406,
          -2.028561680103307,
          -3.1133811649959418
         ],
         "xaxis": "x",
         "y": [
          -2.2529338809544877,
          -2.9052472044310793,
          -4.0066080134736,
          -2.6221597593168546,
          -2.1950817055319423,
          -0.9723185781374736,
          0.43993241002676714,
          0.7113566327959291,
          0.5463975032601714,
          -0.08705519208186396,
          -1.5252458725461853,
          -1.7156571781913543,
          -0.26645380798673624,
          -0.8177265589312787,
          1.5733843501082796,
          -1.550714915333907,
          -0.12076466372420139,
          1.2951636679679626,
          0.09015782088345284,
          0.4051375624049278,
          0.3807565456246871,
          -1.1844822345986958,
          1.9593115564107029,
          1.0486742329821508,
          -0.5577307078936432,
          0.4441065114244548,
          9.133831806095126,
          -0.2561504660185566,
          1.5155886777647505,
          -0.04201254666751636,
          -0.3701795697699818,
          -2.539136579400461,
          -1.2376207139783577,
          -0.26210704192213724,
          -0.6588569173768359,
          -2.8337616176529985,
          -0.4204293161693075,
          -0.8899364967900802,
          1.329604484561258,
          6.171285017846965,
          -0.5058607750627455,
          5.385052256637626,
          -2.8880549237410578,
          -2.8670003939065705,
          -1.5193717392401127,
          -1.4618284761648295,
          -1.2916238847047832,
          0.5261868006092459,
          -1.4863223771569924,
          -0.41503941028935704,
          -2.5586350260371105,
          1.9889994303548892,
          -0.9411416715705235,
          -3.3016531873587116,
          -2.784436322284028,
          -2.4131642581408994,
          -1.2190235046424351,
          -0.16182258127520305,
          -1.8018331664632232,
          -2.936625373484713,
          5.123109396421445,
          -0.6489037366334215,
          0.5732970495046518,
          -0.6375736767342522,
          -0.6316798788771006,
          -0.0591793069260012,
          -0.8572671577155899,
          0.5451184530802747,
          -1.2929731309371963,
          -1.2110993307154698,
          6.120613753282665,
          -0.3041931307159813,
          -1.5910341623591149,
          -0.0542155779267464,
          -2.237564756668486,
          4.44065644640683,
          -0.5228127938536535,
          -2.2484845420927395,
          -2.0399475986981415,
          0.4632417780782555,
          0.4369133454896767,
          -0.632469217477734,
          5.397323793633778,
          -0.5295770433295414,
          -1.7045220838209543,
          -0.036556897861505046,
          -0.10572824420855477,
          0.26275615134179897,
          0.22123856781367077,
          -0.4940588907593616,
          -0.3741626248409958,
          -2.3682183369877094,
          -0.2933878339871389,
          6.56077217770353,
          2.0922262747965945,
          -3.2394135706658336,
          -0.34275100452202084,
          9.260284504949265,
          -1.2941429703838445,
          -0.15981037134519266,
          -0.6556695770322889,
          -2.3098299723263485,
          5.284420782131226,
          -2.6927984295972234,
          -1.1196658067059064,
          -1.4722731819076684,
          -0.13407313092628842,
          -1.2398715858828537,
          -0.8771447164673407,
          -1.983139165849026,
          0.13582092925498876,
          0.4259281191311489,
          1.3162299453682786,
          1.193005380904512,
          10.996421593902783,
          1.429814448082006,
          -4.943579554541719,
          -0.1220042664180436,
          -1.1222453709769695,
          -1.701472137452079,
          -1.6730473211588455,
          -1.0295408589672779,
          -0.9908493886030926,
          2.4778588991100956,
          -0.564850800458972,
          -1.835422428865995,
          -2.3540867925739515,
          -3.0730869864097325,
          0.2684895392103766,
          -0.4875061967441063,
          8.489983778767478,
          -0.609764194266875,
          -1.3651450415530104,
          0.36047272203603314,
          -1.0799738533954875,
          -0.4673863711727496,
          -3.089909162091206,
          0.07767924032768764,
          -1.102187371130145,
          -2.4445424038656167,
          -0.6018986265087994,
          -0.992527537861214,
          -0.42748057387622607,
          -2.9891000059584902,
          -0.8987837509589874,
          -0.31466131592787283,
          -0.11934167557817833,
          -1.8820021538529133,
          0.3147363823890852,
          1.1555433038693113,
          -1.1308122870318997,
          -2.3836029320217307,
          -0.7376007000517428,
          -1.115474146777623,
          8.613006993527495,
          0.23283607930402556,
          7.884516810918063,
          0.5950648253324052,
          -0.6709632596424258,
          -0.7451689326390685,
          0.21588555420873046,
          -2.5927486610376014,
          0.2955665046169231,
          -0.6193466320092419,
          1.5540661485339062,
          -0.5530356233203265,
          0.12008671687680308,
          1.62211585595432,
          -0.8603749629438945,
          0.24525399175700868,
          1.8663485323346891,
          0.7302250436093001,
          -1.913091675979127,
          3.1269591952853166,
          -0.4808046257349101,
          0.5142508807001896,
          -0.06457623762604559,
          1.2861995183472614,
          1.8340043117448295,
          -0.3343921947914474,
          1.945929353174931,
          -0.6606179729529081,
          -1.2716082363842098,
          1.8724398908407622,
          0.10951105961309522,
          1.2516072137775727,
          0.6457173185409625,
          6.494410768721088,
          -1.743590954407545,
          0.8862693640873618,
          1.4646361586210053,
          -0.081462314689456,
          -0.8846776492945922,
          0.9792590946318418,
          1.611296978839754
         ],
         "yaxis": "y"
        }
       ],
       "layout": {
        "legend": {
         "tracegroupgap": 0
        },
        "margin": {
         "t": 60
        },
        "template": {
         "data": {
          "bar": [
           {
            "error_x": {
             "color": "#2a3f5f"
            },
            "error_y": {
             "color": "#2a3f5f"
            },
            "marker": {
             "line": {
              "color": "#E5ECF6",
              "width": 0.5
             },
             "pattern": {
              "fillmode": "overlay",
              "size": 10,
              "solidity": 0.2
             }
            },
            "type": "bar"
           }
          ],
          "barpolar": [
           {
            "marker": {
             "line": {
              "color": "#E5ECF6",
              "width": 0.5
             },
             "pattern": {
              "fillmode": "overlay",
              "size": 10,
              "solidity": 0.2
             }
            },
            "type": "barpolar"
           }
          ],
          "carpet": [
           {
            "aaxis": {
             "endlinecolor": "#2a3f5f",
             "gridcolor": "white",
             "linecolor": "white",
             "minorgridcolor": "white",
             "startlinecolor": "#2a3f5f"
            },
            "baxis": {
             "endlinecolor": "#2a3f5f",
             "gridcolor": "white",
             "linecolor": "white",
             "minorgridcolor": "white",
             "startlinecolor": "#2a3f5f"
            },
            "type": "carpet"
           }
          ],
          "choropleth": [
           {
            "colorbar": {
             "outlinewidth": 0,
             "ticks": ""
            },
            "type": "choropleth"
           }
          ],
          "contour": [
           {
            "colorbar": {
             "outlinewidth": 0,
             "ticks": ""
            },
            "colorscale": [
             [
              0,
              "#0d0887"
             ],
             [
              0.1111111111111111,
              "#46039f"
             ],
             [
              0.2222222222222222,
              "#7201a8"
             ],
             [
              0.3333333333333333,
              "#9c179e"
             ],
             [
              0.4444444444444444,
              "#bd3786"
             ],
             [
              0.5555555555555556,
              "#d8576b"
             ],
             [
              0.6666666666666666,
              "#ed7953"
             ],
             [
              0.7777777777777778,
              "#fb9f3a"
             ],
             [
              0.8888888888888888,
              "#fdca26"
             ],
             [
              1,
              "#f0f921"
             ]
            ],
            "type": "contour"
           }
          ],
          "contourcarpet": [
           {
            "colorbar": {
             "outlinewidth": 0,
             "ticks": ""
            },
            "type": "contourcarpet"
           }
          ],
          "heatmap": [
           {
            "colorbar": {
             "outlinewidth": 0,
             "ticks": ""
            },
            "colorscale": [
             [
              0,
              "#0d0887"
             ],
             [
              0.1111111111111111,
              "#46039f"
             ],
             [
              0.2222222222222222,
              "#7201a8"
             ],
             [
              0.3333333333333333,
              "#9c179e"
             ],
             [
              0.4444444444444444,
              "#bd3786"
             ],
             [
              0.5555555555555556,
              "#d8576b"
             ],
             [
              0.6666666666666666,
              "#ed7953"
             ],
             [
              0.7777777777777778,
              "#fb9f3a"
             ],
             [
              0.8888888888888888,
              "#fdca26"
             ],
             [
              1,
              "#f0f921"
             ]
            ],
            "type": "heatmap"
           }
          ],
          "heatmapgl": [
           {
            "colorbar": {
             "outlinewidth": 0,
             "ticks": ""
            },
            "colorscale": [
             [
              0,
              "#0d0887"
             ],
             [
              0.1111111111111111,
              "#46039f"
             ],
             [
              0.2222222222222222,
              "#7201a8"
             ],
             [
              0.3333333333333333,
              "#9c179e"
             ],
             [
              0.4444444444444444,
              "#bd3786"
             ],
             [
              0.5555555555555556,
              "#d8576b"
             ],
             [
              0.6666666666666666,
              "#ed7953"
             ],
             [
              0.7777777777777778,
              "#fb9f3a"
             ],
             [
              0.8888888888888888,
              "#fdca26"
             ],
             [
              1,
              "#f0f921"
             ]
            ],
            "type": "heatmapgl"
           }
          ],
          "histogram": [
           {
            "marker": {
             "pattern": {
              "fillmode": "overlay",
              "size": 10,
              "solidity": 0.2
             }
            },
            "type": "histogram"
           }
          ],
          "histogram2d": [
           {
            "colorbar": {
             "outlinewidth": 0,
             "ticks": ""
            },
            "colorscale": [
             [
              0,
              "#0d0887"
             ],
             [
              0.1111111111111111,
              "#46039f"
             ],
             [
              0.2222222222222222,
              "#7201a8"
             ],
             [
              0.3333333333333333,
              "#9c179e"
             ],
             [
              0.4444444444444444,
              "#bd3786"
             ],
             [
              0.5555555555555556,
              "#d8576b"
             ],
             [
              0.6666666666666666,
              "#ed7953"
             ],
             [
              0.7777777777777778,
              "#fb9f3a"
             ],
             [
              0.8888888888888888,
              "#fdca26"
             ],
             [
              1,
              "#f0f921"
             ]
            ],
            "type": "histogram2d"
           }
          ],
          "histogram2dcontour": [
           {
            "colorbar": {
             "outlinewidth": 0,
             "ticks": ""
            },
            "colorscale": [
             [
              0,
              "#0d0887"
             ],
             [
              0.1111111111111111,
              "#46039f"
             ],
             [
              0.2222222222222222,
              "#7201a8"
             ],
             [
              0.3333333333333333,
              "#9c179e"
             ],
             [
              0.4444444444444444,
              "#bd3786"
             ],
             [
              0.5555555555555556,
              "#d8576b"
             ],
             [
              0.6666666666666666,
              "#ed7953"
             ],
             [
              0.7777777777777778,
              "#fb9f3a"
             ],
             [
              0.8888888888888888,
              "#fdca26"
             ],
             [
              1,
              "#f0f921"
             ]
            ],
            "type": "histogram2dcontour"
           }
          ],
          "mesh3d": [
           {
            "colorbar": {
             "outlinewidth": 0,
             "ticks": ""
            },
            "type": "mesh3d"
           }
          ],
          "parcoords": [
           {
            "line": {
             "colorbar": {
              "outlinewidth": 0,
              "ticks": ""
             }
            },
            "type": "parcoords"
           }
          ],
          "pie": [
           {
            "automargin": true,
            "type": "pie"
           }
          ],
          "scatter": [
           {
            "fillpattern": {
             "fillmode": "overlay",
             "size": 10,
             "solidity": 0.2
            },
            "type": "scatter"
           }
          ],
          "scatter3d": [
           {
            "line": {
             "colorbar": {
              "outlinewidth": 0,
              "ticks": ""
             }
            },
            "marker": {
             "colorbar": {
              "outlinewidth": 0,
              "ticks": ""
             }
            },
            "type": "scatter3d"
           }
          ],
          "scattercarpet": [
           {
            "marker": {
             "colorbar": {
              "outlinewidth": 0,
              "ticks": ""
             }
            },
            "type": "scattercarpet"
           }
          ],
          "scattergeo": [
           {
            "marker": {
             "colorbar": {
              "outlinewidth": 0,
              "ticks": ""
             }
            },
            "type": "scattergeo"
           }
          ],
          "scattergl": [
           {
            "marker": {
             "colorbar": {
              "outlinewidth": 0,
              "ticks": ""
             }
            },
            "type": "scattergl"
           }
          ],
          "scattermapbox": [
           {
            "marker": {
             "colorbar": {
              "outlinewidth": 0,
              "ticks": ""
             }
            },
            "type": "scattermapbox"
           }
          ],
          "scatterpolar": [
           {
            "marker": {
             "colorbar": {
              "outlinewidth": 0,
              "ticks": ""
             }
            },
            "type": "scatterpolar"
           }
          ],
          "scatterpolargl": [
           {
            "marker": {
             "colorbar": {
              "outlinewidth": 0,
              "ticks": ""
             }
            },
            "type": "scatterpolargl"
           }
          ],
          "scatterternary": [
           {
            "marker": {
             "colorbar": {
              "outlinewidth": 0,
              "ticks": ""
             }
            },
            "type": "scatterternary"
           }
          ],
          "surface": [
           {
            "colorbar": {
             "outlinewidth": 0,
             "ticks": ""
            },
            "colorscale": [
             [
              0,
              "#0d0887"
             ],
             [
              0.1111111111111111,
              "#46039f"
             ],
             [
              0.2222222222222222,
              "#7201a8"
             ],
             [
              0.3333333333333333,
              "#9c179e"
             ],
             [
              0.4444444444444444,
              "#bd3786"
             ],
             [
              0.5555555555555556,
              "#d8576b"
             ],
             [
              0.6666666666666666,
              "#ed7953"
             ],
             [
              0.7777777777777778,
              "#fb9f3a"
             ],
             [
              0.8888888888888888,
              "#fdca26"
             ],
             [
              1,
              "#f0f921"
             ]
            ],
            "type": "surface"
           }
          ],
          "table": [
           {
            "cells": {
             "fill": {
              "color": "#EBF0F8"
             },
             "line": {
              "color": "white"
             }
            },
            "header": {
             "fill": {
              "color": "#C8D4E3"
             },
             "line": {
              "color": "white"
             }
            },
            "type": "table"
           }
          ]
         },
         "layout": {
          "annotationdefaults": {
           "arrowcolor": "#2a3f5f",
           "arrowhead": 0,
           "arrowwidth": 1
          },
          "autotypenumbers": "strict",
          "coloraxis": {
           "colorbar": {
            "outlinewidth": 0,
            "ticks": ""
           }
          },
          "colorscale": {
           "diverging": [
            [
             0,
             "#8e0152"
            ],
            [
             0.1,
             "#c51b7d"
            ],
            [
             0.2,
             "#de77ae"
            ],
            [
             0.3,
             "#f1b6da"
            ],
            [
             0.4,
             "#fde0ef"
            ],
            [
             0.5,
             "#f7f7f7"
            ],
            [
             0.6,
             "#e6f5d0"
            ],
            [
             0.7,
             "#b8e186"
            ],
            [
             0.8,
             "#7fbc41"
            ],
            [
             0.9,
             "#4d9221"
            ],
            [
             1,
             "#276419"
            ]
           ],
           "sequential": [
            [
             0,
             "#0d0887"
            ],
            [
             0.1111111111111111,
             "#46039f"
            ],
            [
             0.2222222222222222,
             "#7201a8"
            ],
            [
             0.3333333333333333,
             "#9c179e"
            ],
            [
             0.4444444444444444,
             "#bd3786"
            ],
            [
             0.5555555555555556,
             "#d8576b"
            ],
            [
             0.6666666666666666,
             "#ed7953"
            ],
            [
             0.7777777777777778,
             "#fb9f3a"
            ],
            [
             0.8888888888888888,
             "#fdca26"
            ],
            [
             1,
             "#f0f921"
            ]
           ],
           "sequentialminus": [
            [
             0,
             "#0d0887"
            ],
            [
             0.1111111111111111,
             "#46039f"
            ],
            [
             0.2222222222222222,
             "#7201a8"
            ],
            [
             0.3333333333333333,
             "#9c179e"
            ],
            [
             0.4444444444444444,
             "#bd3786"
            ],
            [
             0.5555555555555556,
             "#d8576b"
            ],
            [
             0.6666666666666666,
             "#ed7953"
            ],
            [
             0.7777777777777778,
             "#fb9f3a"
            ],
            [
             0.8888888888888888,
             "#fdca26"
            ],
            [
             1,
             "#f0f921"
            ]
           ]
          },
          "colorway": [
           "#636efa",
           "#EF553B",
           "#00cc96",
           "#ab63fa",
           "#FFA15A",
           "#19d3f3",
           "#FF6692",
           "#B6E880",
           "#FF97FF",
           "#FECB52"
          ],
          "font": {
           "color": "#2a3f5f"
          },
          "geo": {
           "bgcolor": "white",
           "lakecolor": "white",
           "landcolor": "#E5ECF6",
           "showlakes": true,
           "showland": true,
           "subunitcolor": "white"
          },
          "hoverlabel": {
           "align": "left"
          },
          "hovermode": "closest",
          "mapbox": {
           "style": "light"
          },
          "paper_bgcolor": "white",
          "plot_bgcolor": "#E5ECF6",
          "polar": {
           "angularaxis": {
            "gridcolor": "white",
            "linecolor": "white",
            "ticks": ""
           },
           "bgcolor": "#E5ECF6",
           "radialaxis": {
            "gridcolor": "white",
            "linecolor": "white",
            "ticks": ""
           }
          },
          "scene": {
           "xaxis": {
            "backgroundcolor": "#E5ECF6",
            "gridcolor": "white",
            "gridwidth": 2,
            "linecolor": "white",
            "showbackground": true,
            "ticks": "",
            "zerolinecolor": "white"
           },
           "yaxis": {
            "backgroundcolor": "#E5ECF6",
            "gridcolor": "white",
            "gridwidth": 2,
            "linecolor": "white",
            "showbackground": true,
            "ticks": "",
            "zerolinecolor": "white"
           },
           "zaxis": {
            "backgroundcolor": "#E5ECF6",
            "gridcolor": "white",
            "gridwidth": 2,
            "linecolor": "white",
            "showbackground": true,
            "ticks": "",
            "zerolinecolor": "white"
           }
          },
          "shapedefaults": {
           "line": {
            "color": "#2a3f5f"
           }
          },
          "ternary": {
           "aaxis": {
            "gridcolor": "white",
            "linecolor": "white",
            "ticks": ""
           },
           "baxis": {
            "gridcolor": "white",
            "linecolor": "white",
            "ticks": ""
           },
           "bgcolor": "#E5ECF6",
           "caxis": {
            "gridcolor": "white",
            "linecolor": "white",
            "ticks": ""
           }
          },
          "title": {
           "x": 0.05
          },
          "xaxis": {
           "automargin": true,
           "gridcolor": "white",
           "linecolor": "white",
           "ticks": "",
           "title": {
            "standoff": 15
           },
           "zerolinecolor": "white",
           "zerolinewidth": 2
          },
          "yaxis": {
           "automargin": true,
           "gridcolor": "white",
           "linecolor": "white",
           "ticks": "",
           "title": {
            "standoff": 15
           },
           "zerolinecolor": "white",
           "zerolinewidth": 2
          }
         }
        },
        "title": {
         "text": "PCA Projection"
        },
        "xaxis": {
         "anchor": "y",
         "domain": [
          0,
          1
         ],
         "title": {
          "text": "PCA 1"
         }
        },
        "yaxis": {
         "anchor": "x",
         "domain": [
          0,
          1
         ],
         "title": {
          "text": "PCA 2"
         }
        }
       }
      }
     },
     "metadata": {},
     "output_type": "display_data"
    }
   ],
   "source": [
    "fig = px.scatter(df_pca, x=\"PC1\", y=\"PC2\", hover_data={'nodeId': True})\n",
    "\n",
    "fig.update_layout(title=\"PCA Projection\",\n",
    "                  xaxis_title=\"PCA 1\",\n",
    "                  yaxis_title=\"PCA 2\")\n",
    "\n",
    "fig.show()"
   ]
  },
  {
   "cell_type": "code",
   "execution_count": 66,
   "metadata": {},
   "outputs": [],
   "source": [
    "df_pivot['PC1'] = df_pca['PC1']\n",
    "df_pivot['PC2'] = df_pca['PC2']\n",
    "df_pivot.drop(columns=['nodeId']).to_csv('multiDR_results1.csv')"
   ]
  }
 ],
 "metadata": {
  "kernelspec": {
   "display_name": "myenv",
   "language": "python",
   "name": "python3"
  },
  "language_info": {
   "codemirror_mode": {
    "name": "ipython",
    "version": 3
   },
   "file_extension": ".py",
   "mimetype": "text/x-python",
   "name": "python",
   "nbconvert_exporter": "python",
   "pygments_lexer": "ipython3",
   "version": "3.9.18"
  }
 },
 "nbformat": 4,
 "nbformat_minor": 2
}
